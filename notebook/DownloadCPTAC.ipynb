{
 "cells": [
  {
   "cell_type": "code",
   "execution_count": 1,
   "metadata": {},
   "outputs": [],
   "source": [
    "import numpy as np\n",
    "import cptac\n",
    "import pandas as pd\n",
    "from predict_protein import download_cptac, select_features, train_model\n",
    "from sklearn.preprocessing import StandardScaler, RobustScaler"
   ]
  },
  {
   "cell_type": "code",
   "execution_count": 2,
   "metadata": {
    "pycharm": {
     "name": "#%%\n"
    }
   },
   "outputs": [
    {
     "data": {
      "text/plain": "                                           Description     Data reuse status  \\\nDataset name                                                                   \nBrca                                     breast cancer       no restrictions   \nCcrcc         clear cell renal cell carcinoma (kidney)       no restrictions   \nColon                                colorectal cancer       no restrictions   \nEndometrial            endometrial carcinoma (uterine)       no restrictions   \nGbm                                       glioblastoma       no restrictions   \nHnscc            head and neck squamous cell carcinoma       no restrictions   \nLscc                      lung squamous cell carcinoma       no restrictions   \nLuad                               lung adenocarcinoma       no restrictions   \nOvarian               high grade serous ovarian cancer       no restrictions   \nPdac                  pancreatic ductal adenocarcinoma  password access only   \nUcecConf            endometrial confirmatory carcinoma  password access only   \n\n                                       Publication link  \nDataset name                                             \nBrca          https://pubmed.ncbi.nlm.nih.gov/33212010/  \nCcrcc         https://pubmed.ncbi.nlm.nih.gov/31675502/  \nColon         https://pubmed.ncbi.nlm.nih.gov/31031003/  \nEndometrial   https://pubmed.ncbi.nlm.nih.gov/32059776/  \nGbm           https://pubmed.ncbi.nlm.nih.gov/33577785/  \nHnscc         https://pubmed.ncbi.nlm.nih.gov/33417831/  \nLscc          https://pubmed.ncbi.nlm.nih.gov/34358469/  \nLuad          https://pubmed.ncbi.nlm.nih.gov/32649874/  \nOvarian       https://pubmed.ncbi.nlm.nih.gov/27372738/  \nPdac                                        unpublished  \nUcecConf                                    unpublished  ",
      "text/html": "<div>\n<style scoped>\n    .dataframe tbody tr th:only-of-type {\n        vertical-align: middle;\n    }\n\n    .dataframe tbody tr th {\n        vertical-align: top;\n    }\n\n    .dataframe thead th {\n        text-align: right;\n    }\n</style>\n<table border=\"1\" class=\"dataframe\">\n  <thead>\n    <tr style=\"text-align: right;\">\n      <th></th>\n      <th>Description</th>\n      <th>Data reuse status</th>\n      <th>Publication link</th>\n    </tr>\n    <tr>\n      <th>Dataset name</th>\n      <th></th>\n      <th></th>\n      <th></th>\n    </tr>\n  </thead>\n  <tbody>\n    <tr>\n      <th>Brca</th>\n      <td>breast cancer</td>\n      <td>no restrictions</td>\n      <td>https://pubmed.ncbi.nlm.nih.gov/33212010/</td>\n    </tr>\n    <tr>\n      <th>Ccrcc</th>\n      <td>clear cell renal cell carcinoma (kidney)</td>\n      <td>no restrictions</td>\n      <td>https://pubmed.ncbi.nlm.nih.gov/31675502/</td>\n    </tr>\n    <tr>\n      <th>Colon</th>\n      <td>colorectal cancer</td>\n      <td>no restrictions</td>\n      <td>https://pubmed.ncbi.nlm.nih.gov/31031003/</td>\n    </tr>\n    <tr>\n      <th>Endometrial</th>\n      <td>endometrial carcinoma (uterine)</td>\n      <td>no restrictions</td>\n      <td>https://pubmed.ncbi.nlm.nih.gov/32059776/</td>\n    </tr>\n    <tr>\n      <th>Gbm</th>\n      <td>glioblastoma</td>\n      <td>no restrictions</td>\n      <td>https://pubmed.ncbi.nlm.nih.gov/33577785/</td>\n    </tr>\n    <tr>\n      <th>Hnscc</th>\n      <td>head and neck squamous cell carcinoma</td>\n      <td>no restrictions</td>\n      <td>https://pubmed.ncbi.nlm.nih.gov/33417831/</td>\n    </tr>\n    <tr>\n      <th>Lscc</th>\n      <td>lung squamous cell carcinoma</td>\n      <td>no restrictions</td>\n      <td>https://pubmed.ncbi.nlm.nih.gov/34358469/</td>\n    </tr>\n    <tr>\n      <th>Luad</th>\n      <td>lung adenocarcinoma</td>\n      <td>no restrictions</td>\n      <td>https://pubmed.ncbi.nlm.nih.gov/32649874/</td>\n    </tr>\n    <tr>\n      <th>Ovarian</th>\n      <td>high grade serous ovarian cancer</td>\n      <td>no restrictions</td>\n      <td>https://pubmed.ncbi.nlm.nih.gov/27372738/</td>\n    </tr>\n    <tr>\n      <th>Pdac</th>\n      <td>pancreatic ductal adenocarcinoma</td>\n      <td>password access only</td>\n      <td>unpublished</td>\n    </tr>\n    <tr>\n      <th>UcecConf</th>\n      <td>endometrial confirmatory carcinoma</td>\n      <td>password access only</td>\n      <td>unpublished</td>\n    </tr>\n  </tbody>\n</table>\n</div>"
     },
     "execution_count": 2,
     "metadata": {},
     "output_type": "execute_result"
    }
   ],
   "source": [
    "# List current CPTAC datasets\n",
    "cptac.list_datasets()\n"
   ]
  },
  {
   "cell_type": "markdown",
   "source": [],
   "metadata": {
    "collapsed": false,
    "pycharm": {
     "name": "#%% md\n"
    }
   }
  },
  {
   "cell_type": "code",
   "execution_count": 3,
   "outputs": [
    {
     "name": "stdout",
     "output_type": "stream",
     "text": [
      "Checking that hnscc index is up-to-date...\r.\r                                                                                                                                                                                                                                                                                                                                                \r"
     ]
    },
    {
     "data": {
      "text/plain": "True"
     },
     "execution_count": 3,
     "metadata": {},
     "output_type": "execute_result"
    }
   ],
   "source": [
    "cptac.download(dataset=\"endometrial\")\n",
    "cptac.download(dataset=\"ovarian\")\n",
    "cptac.download(dataset=\"colon\")\n",
    "cptac.download(dataset=\"brca\")\n",
    "cptac.download(dataset=\"luad\")\n",
    "cptac.download(dataset=\"ccrcc\")\n",
    "cptac.download(dataset=\"gbm\")\n",
    "cptac.download(dataset=\"lscc\")\n",
    "cptac.download(dataset=\"hnscc\")"
   ],
   "metadata": {
    "collapsed": false,
    "pycharm": {
     "name": "#%%\n"
    }
   }
  },
  {
   "cell_type": "code",
   "execution_count": 4,
   "outputs": [
    {
     "name": "stdout",
     "output_type": "stream",
     "text": [
      "Loading endometrial v2.1.1......\r               Loading endometrial v2.1.1..Loading endometrial v2.1.1...."
     ]
    },
    {
     "ename": "ParserError",
     "evalue": "Error tokenizing data. C error: Calling read(nbytes) on source failed. Try engine='python'.",
     "output_type": "error",
     "traceback": [
      "\u001B[0;31m---------------------------------------------------------------------------\u001B[0m",
      "\u001B[0;31mParserError\u001B[0m                               Traceback (most recent call last)",
      "\u001B[0;32m/var/folders/7c/l09scrbj6bdgsg118sgq25wm0000gn/T/ipykernel_57410/812458476.py\u001B[0m in \u001B[0;36m<module>\u001B[0;34m\u001B[0m\n\u001B[1;32m      1\u001B[0m \u001B[0;31m# Download and format. These are currently done one by one, we may want to turn this into a function\u001B[0m\u001B[0;34m\u001B[0m\u001B[0;34m\u001B[0m\u001B[0m\n\u001B[1;32m      2\u001B[0m \u001B[0;34m\u001B[0m\u001B[0m\n\u001B[0;32m----> 3\u001B[0;31m \u001B[0men\u001B[0m \u001B[0;34m=\u001B[0m \u001B[0mcptac\u001B[0m\u001B[0;34m.\u001B[0m\u001B[0mEndometrial\u001B[0m\u001B[0;34m(\u001B[0m\u001B[0;34m)\u001B[0m\u001B[0;34m\u001B[0m\u001B[0;34m\u001B[0m\u001B[0m\n\u001B[0m\u001B[1;32m      4\u001B[0m \u001B[0mov\u001B[0m \u001B[0;34m=\u001B[0m \u001B[0mcptac\u001B[0m\u001B[0;34m.\u001B[0m\u001B[0mOvarian\u001B[0m\u001B[0;34m(\u001B[0m\u001B[0;34m)\u001B[0m\u001B[0;34m\u001B[0m\u001B[0;34m\u001B[0m\u001B[0m\n\u001B[1;32m      5\u001B[0m \u001B[0mco\u001B[0m \u001B[0;34m=\u001B[0m \u001B[0mcptac\u001B[0m\u001B[0;34m.\u001B[0m\u001B[0mColon\u001B[0m\u001B[0;34m(\u001B[0m\u001B[0;34m)\u001B[0m\u001B[0;34m\u001B[0m\u001B[0;34m\u001B[0m\u001B[0m\n",
      "\u001B[0;32m/Applications/venv/CPTAC_Protein/lib/python3.9/site-packages/cptac/endometrial.py\u001B[0m in \u001B[0;36m__init__\u001B[0;34m(self, version, no_internet)\u001B[0m\n\u001B[1;32m    103\u001B[0m \u001B[0;34m\u001B[0m\u001B[0m\n\u001B[1;32m    104\u001B[0m             \u001B[0;32melif\u001B[0m \u001B[0mfile_name\u001B[0m \u001B[0;34m==\u001B[0m \u001B[0;34m\"acetylproteomics.cct.gz\"\u001B[0m \u001B[0;32mor\u001B[0m \u001B[0mfile_name\u001B[0m \u001B[0;34m==\u001B[0m \u001B[0;34m\"phosphoproteomics_site.cct.gz\"\u001B[0m\u001B[0;34m:\u001B[0m\u001B[0;34m\u001B[0m\u001B[0;34m\u001B[0m\u001B[0m\n\u001B[0;32m--> 105\u001B[0;31m                 \u001B[0mdf\u001B[0m \u001B[0;34m=\u001B[0m \u001B[0mpd\u001B[0m\u001B[0;34m.\u001B[0m\u001B[0mread_csv\u001B[0m\u001B[0;34m(\u001B[0m\u001B[0mfile_path\u001B[0m\u001B[0;34m,\u001B[0m \u001B[0msep\u001B[0m \u001B[0;34m=\u001B[0m \u001B[0;34m\"\\t\"\u001B[0m\u001B[0;34m,\u001B[0m \u001B[0mindex_col\u001B[0m\u001B[0;34m=\u001B[0m\u001B[0;36m0\u001B[0m\u001B[0;34m)\u001B[0m\u001B[0;34m\u001B[0m\u001B[0;34m\u001B[0m\u001B[0m\n\u001B[0m\u001B[1;32m    106\u001B[0m                 \u001B[0mdf\u001B[0m\u001B[0;34m.\u001B[0m\u001B[0mindex\u001B[0m \u001B[0;34m=\u001B[0m \u001B[0mdf\u001B[0m\u001B[0;34m.\u001B[0m\u001B[0mindex\u001B[0m\u001B[0;34m.\u001B[0m\u001B[0mstr\u001B[0m\u001B[0;34m.\u001B[0m\u001B[0mrsplit\u001B[0m\u001B[0;34m(\u001B[0m\u001B[0;34m'-'\u001B[0m\u001B[0;34m,\u001B[0m \u001B[0mn\u001B[0m\u001B[0;34m=\u001B[0m\u001B[0;36m1\u001B[0m\u001B[0;34m,\u001B[0m \u001B[0mexpand\u001B[0m\u001B[0;34m=\u001B[0m\u001B[0;32mTrue\u001B[0m\u001B[0;34m)\u001B[0m \u001B[0;31m# Separate the index into a multiindex where the 1st level is the gene, and 2nd is the site\u001B[0m\u001B[0;34m\u001B[0m\u001B[0;34m\u001B[0m\u001B[0m\n\u001B[1;32m    107\u001B[0m                 \u001B[0mdf\u001B[0m\u001B[0;34m.\u001B[0m\u001B[0mindex\u001B[0m \u001B[0;34m=\u001B[0m \u001B[0mdf\u001B[0m\u001B[0;34m.\u001B[0m\u001B[0mindex\u001B[0m\u001B[0;34m.\u001B[0m\u001B[0mset_names\u001B[0m\u001B[0;34m(\u001B[0m\u001B[0;34m[\u001B[0m\u001B[0;34m\"Name\"\u001B[0m\u001B[0;34m,\u001B[0m \u001B[0;34m\"Site\"\u001B[0m\u001B[0;34m]\u001B[0m\u001B[0;34m)\u001B[0m \u001B[0;31m# Properly name the levels\u001B[0m\u001B[0;34m\u001B[0m\u001B[0;34m\u001B[0m\u001B[0m\n",
      "\u001B[0;32m/Applications/venv/CPTAC_Protein/lib/python3.9/site-packages/pandas/util/_decorators.py\u001B[0m in \u001B[0;36mwrapper\u001B[0;34m(*args, **kwargs)\u001B[0m\n\u001B[1;32m    309\u001B[0m                     \u001B[0mstacklevel\u001B[0m\u001B[0;34m=\u001B[0m\u001B[0mstacklevel\u001B[0m\u001B[0;34m,\u001B[0m\u001B[0;34m\u001B[0m\u001B[0;34m\u001B[0m\u001B[0m\n\u001B[1;32m    310\u001B[0m                 )\n\u001B[0;32m--> 311\u001B[0;31m             \u001B[0;32mreturn\u001B[0m \u001B[0mfunc\u001B[0m\u001B[0;34m(\u001B[0m\u001B[0;34m*\u001B[0m\u001B[0margs\u001B[0m\u001B[0;34m,\u001B[0m \u001B[0;34m**\u001B[0m\u001B[0mkwargs\u001B[0m\u001B[0;34m)\u001B[0m\u001B[0;34m\u001B[0m\u001B[0;34m\u001B[0m\u001B[0m\n\u001B[0m\u001B[1;32m    312\u001B[0m \u001B[0;34m\u001B[0m\u001B[0m\n\u001B[1;32m    313\u001B[0m         \u001B[0;32mreturn\u001B[0m \u001B[0mwrapper\u001B[0m\u001B[0;34m\u001B[0m\u001B[0;34m\u001B[0m\u001B[0m\n",
      "\u001B[0;32m/Applications/venv/CPTAC_Protein/lib/python3.9/site-packages/pandas/io/parsers/readers.py\u001B[0m in \u001B[0;36mread_csv\u001B[0;34m(filepath_or_buffer, sep, delimiter, header, names, index_col, usecols, squeeze, prefix, mangle_dupe_cols, dtype, engine, converters, true_values, false_values, skipinitialspace, skiprows, skipfooter, nrows, na_values, keep_default_na, na_filter, verbose, skip_blank_lines, parse_dates, infer_datetime_format, keep_date_col, date_parser, dayfirst, cache_dates, iterator, chunksize, compression, thousands, decimal, lineterminator, quotechar, quoting, doublequote, escapechar, comment, encoding, encoding_errors, dialect, error_bad_lines, warn_bad_lines, on_bad_lines, delim_whitespace, low_memory, memory_map, float_precision, storage_options)\u001B[0m\n\u001B[1;32m    584\u001B[0m     \u001B[0mkwds\u001B[0m\u001B[0;34m.\u001B[0m\u001B[0mupdate\u001B[0m\u001B[0;34m(\u001B[0m\u001B[0mkwds_defaults\u001B[0m\u001B[0;34m)\u001B[0m\u001B[0;34m\u001B[0m\u001B[0;34m\u001B[0m\u001B[0m\n\u001B[1;32m    585\u001B[0m \u001B[0;34m\u001B[0m\u001B[0m\n\u001B[0;32m--> 586\u001B[0;31m     \u001B[0;32mreturn\u001B[0m \u001B[0m_read\u001B[0m\u001B[0;34m(\u001B[0m\u001B[0mfilepath_or_buffer\u001B[0m\u001B[0;34m,\u001B[0m \u001B[0mkwds\u001B[0m\u001B[0;34m)\u001B[0m\u001B[0;34m\u001B[0m\u001B[0;34m\u001B[0m\u001B[0m\n\u001B[0m\u001B[1;32m    587\u001B[0m \u001B[0;34m\u001B[0m\u001B[0m\n\u001B[1;32m    588\u001B[0m \u001B[0;34m\u001B[0m\u001B[0m\n",
      "\u001B[0;32m/Applications/venv/CPTAC_Protein/lib/python3.9/site-packages/pandas/io/parsers/readers.py\u001B[0m in \u001B[0;36m_read\u001B[0;34m(filepath_or_buffer, kwds)\u001B[0m\n\u001B[1;32m    486\u001B[0m \u001B[0;34m\u001B[0m\u001B[0m\n\u001B[1;32m    487\u001B[0m     \u001B[0;32mwith\u001B[0m \u001B[0mparser\u001B[0m\u001B[0;34m:\u001B[0m\u001B[0;34m\u001B[0m\u001B[0;34m\u001B[0m\u001B[0m\n\u001B[0;32m--> 488\u001B[0;31m         \u001B[0;32mreturn\u001B[0m \u001B[0mparser\u001B[0m\u001B[0;34m.\u001B[0m\u001B[0mread\u001B[0m\u001B[0;34m(\u001B[0m\u001B[0mnrows\u001B[0m\u001B[0;34m)\u001B[0m\u001B[0;34m\u001B[0m\u001B[0;34m\u001B[0m\u001B[0m\n\u001B[0m\u001B[1;32m    489\u001B[0m \u001B[0;34m\u001B[0m\u001B[0m\n\u001B[1;32m    490\u001B[0m \u001B[0;34m\u001B[0m\u001B[0m\n",
      "\u001B[0;32m/Applications/venv/CPTAC_Protein/lib/python3.9/site-packages/pandas/io/parsers/readers.py\u001B[0m in \u001B[0;36mread\u001B[0;34m(self, nrows)\u001B[0m\n\u001B[1;32m   1045\u001B[0m     \u001B[0;32mdef\u001B[0m \u001B[0mread\u001B[0m\u001B[0;34m(\u001B[0m\u001B[0mself\u001B[0m\u001B[0;34m,\u001B[0m \u001B[0mnrows\u001B[0m\u001B[0;34m=\u001B[0m\u001B[0;32mNone\u001B[0m\u001B[0;34m)\u001B[0m\u001B[0;34m:\u001B[0m\u001B[0;34m\u001B[0m\u001B[0;34m\u001B[0m\u001B[0m\n\u001B[1;32m   1046\u001B[0m         \u001B[0mnrows\u001B[0m \u001B[0;34m=\u001B[0m \u001B[0mvalidate_integer\u001B[0m\u001B[0;34m(\u001B[0m\u001B[0;34m\"nrows\"\u001B[0m\u001B[0;34m,\u001B[0m \u001B[0mnrows\u001B[0m\u001B[0;34m)\u001B[0m\u001B[0;34m\u001B[0m\u001B[0;34m\u001B[0m\u001B[0m\n\u001B[0;32m-> 1047\u001B[0;31m         \u001B[0mindex\u001B[0m\u001B[0;34m,\u001B[0m \u001B[0mcolumns\u001B[0m\u001B[0;34m,\u001B[0m \u001B[0mcol_dict\u001B[0m \u001B[0;34m=\u001B[0m \u001B[0mself\u001B[0m\u001B[0;34m.\u001B[0m\u001B[0m_engine\u001B[0m\u001B[0;34m.\u001B[0m\u001B[0mread\u001B[0m\u001B[0;34m(\u001B[0m\u001B[0mnrows\u001B[0m\u001B[0;34m)\u001B[0m\u001B[0;34m\u001B[0m\u001B[0;34m\u001B[0m\u001B[0m\n\u001B[0m\u001B[1;32m   1048\u001B[0m \u001B[0;34m\u001B[0m\u001B[0m\n\u001B[1;32m   1049\u001B[0m         \u001B[0;32mif\u001B[0m \u001B[0mindex\u001B[0m \u001B[0;32mis\u001B[0m \u001B[0;32mNone\u001B[0m\u001B[0;34m:\u001B[0m\u001B[0;34m\u001B[0m\u001B[0;34m\u001B[0m\u001B[0m\n",
      "\u001B[0;32m/Applications/venv/CPTAC_Protein/lib/python3.9/site-packages/pandas/io/parsers/c_parser_wrapper.py\u001B[0m in \u001B[0;36mread\u001B[0;34m(self, nrows)\u001B[0m\n\u001B[1;32m    221\u001B[0m         \u001B[0;32mtry\u001B[0m\u001B[0;34m:\u001B[0m\u001B[0;34m\u001B[0m\u001B[0;34m\u001B[0m\u001B[0m\n\u001B[1;32m    222\u001B[0m             \u001B[0;32mif\u001B[0m \u001B[0mself\u001B[0m\u001B[0;34m.\u001B[0m\u001B[0mlow_memory\u001B[0m\u001B[0;34m:\u001B[0m\u001B[0;34m\u001B[0m\u001B[0;34m\u001B[0m\u001B[0m\n\u001B[0;32m--> 223\u001B[0;31m                 \u001B[0mchunks\u001B[0m \u001B[0;34m=\u001B[0m \u001B[0mself\u001B[0m\u001B[0;34m.\u001B[0m\u001B[0m_reader\u001B[0m\u001B[0;34m.\u001B[0m\u001B[0mread_low_memory\u001B[0m\u001B[0;34m(\u001B[0m\u001B[0mnrows\u001B[0m\u001B[0;34m)\u001B[0m\u001B[0;34m\u001B[0m\u001B[0;34m\u001B[0m\u001B[0m\n\u001B[0m\u001B[1;32m    224\u001B[0m                 \u001B[0;31m# destructive to chunks\u001B[0m\u001B[0;34m\u001B[0m\u001B[0;34m\u001B[0m\u001B[0m\n\u001B[1;32m    225\u001B[0m                 \u001B[0mdata\u001B[0m \u001B[0;34m=\u001B[0m \u001B[0m_concatenate_chunks\u001B[0m\u001B[0;34m(\u001B[0m\u001B[0mchunks\u001B[0m\u001B[0;34m)\u001B[0m\u001B[0;34m\u001B[0m\u001B[0;34m\u001B[0m\u001B[0m\n",
      "\u001B[0;32m/Applications/venv/CPTAC_Protein/lib/python3.9/site-packages/pandas/_libs/parsers.pyx\u001B[0m in \u001B[0;36mpandas._libs.parsers.TextReader.read_low_memory\u001B[0;34m()\u001B[0m\n",
      "\u001B[0;32m/Applications/venv/CPTAC_Protein/lib/python3.9/site-packages/pandas/_libs/parsers.pyx\u001B[0m in \u001B[0;36mpandas._libs.parsers.TextReader._read_rows\u001B[0;34m()\u001B[0m\n",
      "\u001B[0;32m/Applications/venv/CPTAC_Protein/lib/python3.9/site-packages/pandas/_libs/parsers.pyx\u001B[0m in \u001B[0;36mpandas._libs.parsers.TextReader._tokenize_rows\u001B[0;34m()\u001B[0m\n",
      "\u001B[0;32m/Applications/venv/CPTAC_Protein/lib/python3.9/site-packages/pandas/_libs/parsers.pyx\u001B[0m in \u001B[0;36mpandas._libs.parsers.raise_parser_error\u001B[0;34m()\u001B[0m\n",
      "\u001B[0;31mParserError\u001B[0m: Error tokenizing data. C error: Calling read(nbytes) on source failed. Try engine='python'."
     ]
    }
   ],
   "source": [
    "# Download and format. These are currently done one by one, we may want to turn this into a function\n",
    "\n",
    "en = cptac.Endometrial()\n",
    "ov = cptac.Ovarian()\n",
    "co = cptac.Colon()\n",
    "br = cptac.Brca()\n",
    "lu = cptac.Luad()\n",
    "cc = cptac.Ccrcc()\n",
    "gb = cptac.Gbm()\n",
    "ls = cptac.Lscc()\n",
    "hn = cptac.Hnscc()\n",
    "\n",
    "# For endometrial, try getting the RNA and protein data\n",
    "#en_rna = en.get_transcriptomics()\n",
    "#en_pro = en.get_proteomics()\n",
    "a = en.join_omics_to_omics('transcriptomics', 'proteomics')\n",
    "\n",
    "#ov_rna = ov.get_transcriptomics()\n",
    "#ov_pro = ov.get_proteomics()\n",
    "b = ov.join_omics_to_omics('transcriptomics', 'proteomics')\n",
    "b.columns = b.columns.droplevel(1)\n",
    "\n",
    "#co_rna = co.get_transcriptomics()\n",
    "#co_pro = co.get_proteomics()\n",
    "c = co.join_omics_to_omics('transcriptomics', 'proteomics')\n",
    "\n",
    "br_rna = br.get_transcriptomics()\n",
    "br_pro = br.get_proteomics()\n",
    "d = br.join_omics_to_omics('transcriptomics', 'proteomics')\n",
    "d.columns = d.columns.droplevel(1)\n",
    "\n",
    "lu_rna = lu.get_transcriptomics()\n",
    "lu_pro = lu.get_proteomics()\n",
    "e = br.join_omics_to_omics('transcriptomics', 'proteomics')\n",
    "e.columns = e.columns.droplevel(1)\n",
    "\n",
    "cc_rna = cc.get_transcriptomics()\n",
    "cc_pro = cc.get_proteomics()\n",
    "f = cc.join_omics_to_omics('transcriptomics', 'proteomics')\n",
    "f.columns = f.columns.droplevel(1)\n",
    "\n",
    "gb_rna = gb.get_transcriptomics()\n",
    "gb_pro = gb.get_proteomics()\n",
    "g = gb.join_omics_to_omics('transcriptomics', 'proteomics')\n",
    "g.columns = g.columns.droplevel(1)\n",
    "\n",
    "ls_rna = ls.get_transcriptomics()\n",
    "ls_pro = ls.get_proteomics()\n",
    "h = ls.join_omics_to_omics('transcriptomics', 'proteomics')\n",
    "h.columns = h.columns.droplevel(1)\n",
    "\n",
    "hn_rna = hn.get_transcriptomics()\n",
    "hn_pro = hn.get_proteomics()\n",
    "i = hn.join_omics_to_omics('transcriptomics', 'proteomics')"
   ],
   "metadata": {
    "collapsed": false,
    "pycharm": {
     "name": "#%%\n"
    }
   }
  },
  {
   "cell_type": "markdown",
   "source": [
    "# Transform\n",
    "\n",
    "Note: The transcriptomics data are in some sort of log or VST values, but\n",
    "the proteomics data are standardized protein-wise."
   ],
   "metadata": {
    "collapsed": false,
    "pycharm": {
     "name": "#%% md\n"
    }
   }
  },
  {
   "cell_type": "code",
   "execution_count": null,
   "outputs": [],
   "source": [
    "a_std = a.copy()\n",
    "a_tx_cols = [col for col in a_std.columns if col.endswith('transcriptomics')]\n",
    "a_std[a_tx_cols] = StandardScaler().fit_transform(a_std[a_tx_cols])\n",
    "a_std.index = 'EN' + a_std.index\n",
    "\n",
    "b_std = b.copy()\n",
    "b_std = b_std.loc[:, ~b_std.columns.duplicated(keep='first')]\n",
    "b_tx_cols = [col for col in b_std.columns if col.endswith('transcriptomics')]\n",
    "b_std[b_tx_cols] = StandardScaler().fit_transform(b_std[b_tx_cols])\n",
    "b_std.index = 'OV' + b_std.index\n",
    "\n",
    "c_std = c.copy()\n",
    "c_tx_cols = [col for col in c_std.columns if col.endswith('transcriptomics')]\n",
    "c_std[c_tx_cols] = StandardScaler().fit_transform(c_std[c_tx_cols])\n",
    "c_std.index = 'CO' + c_std.index\n",
    "\n",
    "d_std = d.copy()\n",
    "d_std = d_std.loc[:, ~d_std.columns.duplicated(keep='first')]\n",
    "d_tx_cols = [col for col in d_std.columns if col.endswith('transcriptomics')]\n",
    "d_std[d_tx_cols] = StandardScaler().fit_transform(d_std[d_tx_cols])\n",
    "d_std.index = 'BR' + d_std.index\n",
    "\n",
    "e_std = e.copy()\n",
    "e_std = e_std.loc[:, ~e_std.columns.duplicated(keep='first')]\n",
    "e_tx_cols = [col for col in e_std.columns if col.endswith('transcriptomics')]\n",
    "e_std[e_tx_cols] = StandardScaler().fit_transform(e_std[e_tx_cols])\n",
    "e_std.index = 'LU' + e_std.index\n",
    "\n",
    "f_std = f.copy()\n",
    "f_std = f_std.loc[:, ~f_std.columns.duplicated(keep='first')]\n",
    "f_tx_cols = [col for col in f_std.columns if col.endswith('transcriptomics')]\n",
    "f_std[f_tx_cols] = StandardScaler().fit_transform(f_std[f_tx_cols])\n",
    "f_std.index = 'CC' + f_std.index\n",
    "\n",
    "g_std = g.copy()\n",
    "g_std = g_std.loc[:, ~g_std.columns.duplicated(keep='first')]\n",
    "g_tx_cols = [col for col in g_std.columns if col.endswith('transcriptomics')]\n",
    "g_std[g_tx_cols] = StandardScaler().fit_transform(g_std[g_tx_cols])\n",
    "g_std.index = 'CC' + g_std.index\n",
    "\n",
    "h_std = h.copy()\n",
    "h_std = h_std.loc[:, ~h_std.columns.duplicated(keep='first')]\n",
    "h_tx_cols = [col for col in h_std.columns if col.endswith('transcriptomics')]\n",
    "h_std[h_tx_cols] = StandardScaler().fit_transform(h_std[h_tx_cols])\n",
    "h_std.index = 'LS' + h_std.index\n",
    "\n",
    "i_std = i.copy()\n",
    "i_tx_cols = [col for col in i_std.columns if col.endswith('transcriptomics')]\n",
    "i_std[i_tx_cols] = StandardScaler().fit_transform(i_std[i_tx_cols])\n",
    "i_std.index = 'HN' + i_std.index\n",
    "\n",
    "\n",
    "print(True)"
   ],
   "metadata": {
    "collapsed": false,
    "pycharm": {
     "name": "#%%\n"
    }
   }
  },
  {
   "cell_type": "code",
   "execution_count": null,
   "outputs": [],
   "source": [
    "# Example combining 2 tumors then learn against self using an elastic net\n",
    "# TODO: Can we speed this up?\n",
    "\n",
    "z_df_2tumors =  pd.concat([b_std, d_std])\n",
    "comb_2tumors = train_model.LearnCPTAC(z_df_2tumors)\n",
    "# self_elastic_result = comb_2tumors.learn_all_proteins(tx_to_include=\"string\",\n",
    "#                                                      train_method=\"elastic\")"
   ],
   "metadata": {
    "collapsed": false,
    "pycharm": {
     "name": "#%%\n"
    }
   }
  },
  {
   "cell_type": "code",
   "execution_count": null,
   "outputs": [],
   "source": [
    "# r2_out = [a[2]['r2_test'] for a in self_elastic_result]\n",
    "# len(r2_out)"
   ],
   "metadata": {
    "collapsed": false,
    "pycharm": {
     "name": "#%%\n"
    }
   }
  },
  {
   "cell_type": "code",
   "execution_count": null,
   "outputs": [],
   "source": [
    "# self_forest_result = comb_2tumors.learn_all_proteins(tx_to_include=\"string\",\n",
    "#                                                       train_method=\"forest\")\n",
    "# print(self_forest_result)\n"
   ],
   "metadata": {
    "collapsed": false,
    "pycharm": {
     "name": "#%%\n"
    }
   }
  }
 ],
 "metadata": {
  "kernelspec": {
   "display_name": "Python 3 (ipykernel)",
   "language": "python",
   "name": "python3"
  },
  "language_info": {
   "codemirror_mode": {
    "name": "ipython",
    "version": 3
   },
   "file_extension": ".py",
   "mimetype": "text/x-python",
   "name": "python",
   "nbconvert_exporter": "python",
   "pygments_lexer": "ipython3",
   "version": "3.9.5"
  }
 },
 "nbformat": 4,
 "nbformat_minor": 1
}
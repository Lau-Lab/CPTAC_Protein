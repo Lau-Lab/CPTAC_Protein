{
 "cells": [
  {
   "cell_type": "code",
   "execution_count": 9,
   "metadata": {},
   "outputs": [],
   "source": [
    "import numpy as np\n",
    "import cptac\n",
    "import pandas as pd\n",
    "from predict_protein import get_proteins, learn_cptac\n",
    "from sklearn.preprocessing import StandardScaler, RobustScaler"
   ]
  },
  {
   "cell_type": "code",
   "execution_count": 10,
   "metadata": {
    "pycharm": {
     "name": "#%%\n"
    }
   },
   "outputs": [
    {
     "data": {
      "text/plain": "                                           Description     Data reuse status  \\\nDataset name                                                                   \nBrca                                     breast cancer       no restrictions   \nCcrcc         clear cell renal cell carcinoma (kidney)       no restrictions   \nColon                                colorectal cancer       no restrictions   \nEndometrial            endometrial carcinoma (uterine)       no restrictions   \nGbm                                       glioblastoma       no restrictions   \nHnscc            head and neck squamous cell carcinoma       no restrictions   \nLscc                      lung squamous cell carcinoma       no restrictions   \nLuad                               lung adenocarcinoma       no restrictions   \nOvarian               high grade serous ovarian cancer       no restrictions   \nPdac                  pancreatic ductal adenocarcinoma  password access only   \nUcecConf            endometrial confirmatory carcinoma  password access only   \n\n                                       Publication link  \nDataset name                                             \nBrca          https://pubmed.ncbi.nlm.nih.gov/33212010/  \nCcrcc         https://pubmed.ncbi.nlm.nih.gov/31675502/  \nColon         https://pubmed.ncbi.nlm.nih.gov/31031003/  \nEndometrial   https://pubmed.ncbi.nlm.nih.gov/32059776/  \nGbm           https://pubmed.ncbi.nlm.nih.gov/33577785/  \nHnscc         https://pubmed.ncbi.nlm.nih.gov/33417831/  \nLscc          https://pubmed.ncbi.nlm.nih.gov/34358469/  \nLuad          https://pubmed.ncbi.nlm.nih.gov/32649874/  \nOvarian       https://pubmed.ncbi.nlm.nih.gov/27372738/  \nPdac                                        unpublished  \nUcecConf                                    unpublished  ",
      "text/html": "<div>\n<style scoped>\n    .dataframe tbody tr th:only-of-type {\n        vertical-align: middle;\n    }\n\n    .dataframe tbody tr th {\n        vertical-align: top;\n    }\n\n    .dataframe thead th {\n        text-align: right;\n    }\n</style>\n<table border=\"1\" class=\"dataframe\">\n  <thead>\n    <tr style=\"text-align: right;\">\n      <th></th>\n      <th>Description</th>\n      <th>Data reuse status</th>\n      <th>Publication link</th>\n    </tr>\n    <tr>\n      <th>Dataset name</th>\n      <th></th>\n      <th></th>\n      <th></th>\n    </tr>\n  </thead>\n  <tbody>\n    <tr>\n      <th>Brca</th>\n      <td>breast cancer</td>\n      <td>no restrictions</td>\n      <td>https://pubmed.ncbi.nlm.nih.gov/33212010/</td>\n    </tr>\n    <tr>\n      <th>Ccrcc</th>\n      <td>clear cell renal cell carcinoma (kidney)</td>\n      <td>no restrictions</td>\n      <td>https://pubmed.ncbi.nlm.nih.gov/31675502/</td>\n    </tr>\n    <tr>\n      <th>Colon</th>\n      <td>colorectal cancer</td>\n      <td>no restrictions</td>\n      <td>https://pubmed.ncbi.nlm.nih.gov/31031003/</td>\n    </tr>\n    <tr>\n      <th>Endometrial</th>\n      <td>endometrial carcinoma (uterine)</td>\n      <td>no restrictions</td>\n      <td>https://pubmed.ncbi.nlm.nih.gov/32059776/</td>\n    </tr>\n    <tr>\n      <th>Gbm</th>\n      <td>glioblastoma</td>\n      <td>no restrictions</td>\n      <td>https://pubmed.ncbi.nlm.nih.gov/33577785/</td>\n    </tr>\n    <tr>\n      <th>Hnscc</th>\n      <td>head and neck squamous cell carcinoma</td>\n      <td>no restrictions</td>\n      <td>https://pubmed.ncbi.nlm.nih.gov/33417831/</td>\n    </tr>\n    <tr>\n      <th>Lscc</th>\n      <td>lung squamous cell carcinoma</td>\n      <td>no restrictions</td>\n      <td>https://pubmed.ncbi.nlm.nih.gov/34358469/</td>\n    </tr>\n    <tr>\n      <th>Luad</th>\n      <td>lung adenocarcinoma</td>\n      <td>no restrictions</td>\n      <td>https://pubmed.ncbi.nlm.nih.gov/32649874/</td>\n    </tr>\n    <tr>\n      <th>Ovarian</th>\n      <td>high grade serous ovarian cancer</td>\n      <td>no restrictions</td>\n      <td>https://pubmed.ncbi.nlm.nih.gov/27372738/</td>\n    </tr>\n    <tr>\n      <th>Pdac</th>\n      <td>pancreatic ductal adenocarcinoma</td>\n      <td>password access only</td>\n      <td>unpublished</td>\n    </tr>\n    <tr>\n      <th>UcecConf</th>\n      <td>endometrial confirmatory carcinoma</td>\n      <td>password access only</td>\n      <td>unpublished</td>\n    </tr>\n  </tbody>\n</table>\n</div>"
     },
     "execution_count": 10,
     "metadata": {},
     "output_type": "execute_result"
    }
   ],
   "source": [
    "# List current CPTAC datasets\n",
    "cptac.list_datasets()\n"
   ]
  },
  {
   "cell_type": "markdown",
   "source": [],
   "metadata": {
    "collapsed": false,
    "pycharm": {
     "name": "#%% md\n"
    }
   }
  },
  {
   "cell_type": "code",
   "execution_count": 11,
   "outputs": [
    {
     "name": "stdout",
     "output_type": "stream",
     "text": [
      "Checking that gbm index is up-to-date...\r.\r.\r                                                                                                                                                                                                                                                             \r"
     ]
    },
    {
     "data": {
      "text/plain": "True"
     },
     "execution_count": 11,
     "metadata": {},
     "output_type": "execute_result"
    }
   ],
   "source": [
    "cptac.download(dataset=\"endometrial\")\n",
    "cptac.download(dataset=\"ovarian\")\n",
    "cptac.download(dataset=\"colon\")\n",
    "cptac.download(dataset=\"brca\")\n",
    "cptac.download(dataset=\"luad\")\n",
    "cptac.download(dataset=\"ccrcc\")\n",
    "cptac.download(dataset=\"gbm\")"
   ],
   "metadata": {
    "collapsed": false,
    "pycharm": {
     "name": "#%%\n"
    }
   }
  },
  {
   "cell_type": "code",
   "execution_count": 12,
   "outputs": [
    {
     "name": "stdout",
     "output_type": "stream",
     "text": [
      "Formatting dataframes...\r.......\rdate...\r.\r.\r   Loading endometrial v2.1.1....Loading endometrial v2.1.1.......Loading endometrial v2.1.1.........Loading endometrial v2.1.1............                                                                    Loading ovarian v0.0.1...Loading ovarian v0.0.1......Loading ovarian v0.0.1........                                                                  Loading colon v0.0.1....Loading colon v0.0.1......Loading colon v0.0.1........Loading colon v0.0.1...........                                                                 Loading brca v5.4..Loading brca v5.4....Loading brca v5.4......                                                                 Loading luad v3.1.1...Loading luad v3.1.1.....Loading luad v3.1.1.......Loading luad v3.1.1.........Loading luad v3.1.1...........                                                                  Loading ccrcc v0.1.1..Loading ccrcc v0.1.1....Loading ccrcc v0.1.1......Loading ccrcc v0.1.1..........Loading ccrcc v0.1.1............                                                                Loading gbm v3.0..Loading gbm v3.0.........Loading gbm v3.0...........Loading gbm v3.0...............                                                        \r"
     ]
    },
    {
     "name": "stderr",
     "output_type": "stream",
     "text": [
      "cptac warning: transcriptomics data was not found for the following samples, so transcriptomics data columns were filled with NaN for these samples: C3L-00563.N, C3L-00605.N, C3L-00769.N, C3L-00770.N, C3L-00771.N, C3L-00930.N, C3L-00947.N, C3L-00963.N, C3L-01246.N, C3L-01249.N, C3L-01252.N, C3L-01256.N, C3L-01257.N, C3L-01744.N, C3N-00200.N, C3N-00729.N, C3N-01211.N, NX1.N, NX10.N, NX11.N, NX12.N, NX13.N, NX14.N, NX15.N, NX16.N, NX17.N, NX18.N, NX2.N, NX3.N, NX4.N, NX5.N, NX6.N, NX7.N, NX8.N, NX9.N (/var/folders/7c/l09scrbj6bdgsg118sgq25wm0000gn/T/ipykernel_27491/527597221.py, line 14)\n",
      "cptac warning: proteomics data was not found for the following samples, so proteomics data columns were filled with NaN for these samples: 01OV002, 01OV008, 01OV010, 01OV013, 01OV019, 01OV045, 01OV046, 01OV049, 02OV035, 02OV040, 02OV042, 02OV045, 04OV041, 11OV009, 13OV004, 17OV019, 17OV034, 22OV001, 26OV010 (/var/folders/7c/l09scrbj6bdgsg118sgq25wm0000gn/T/ipykernel_27491/527597221.py, line 18)\n",
      "cptac warning: transcriptomics data was not found for the following samples, so transcriptomics data columns were filled with NaN for these samples: 01OV007.N, 01OV008.N, 01OV010.N, 01OV013.N, 01OV017.N, 01OV019.N, 01OV023.N, 01OV029, 01OV029.N, 01OV039.N, 02OV001.N, 11OV002.N, 11OV010.N, 14OV011.N, 14OV029.N, 15OV001.N, 17OV001.N, 17OV002.N, 17OV003.N, 17OV004.N, 17OV005.N (/var/folders/7c/l09scrbj6bdgsg118sgq25wm0000gn/T/ipykernel_27491/527597221.py, line 18)\n",
      "cptac warning: proteomics data was not found for the following samples, so proteomics data columns were filled with NaN for these samples: 01CO001, 05CO005, 05CO007, 05CO014, 05CO055, 11CO059, 11CO060, 14CO002, 16CO012, 24CO005 (/var/folders/7c/l09scrbj6bdgsg118sgq25wm0000gn/T/ipykernel_27491/527597221.py, line 23)\n",
      "cptac warning: transcriptomics data was not found for the following samples, so transcriptomics data columns were filled with NaN for these samples: 01CO001.N, 01CO005.N, 01CO006.N, 01CO008.N, 01CO013.N, 01CO014.N, 01CO015.N, 01CO019.N, 01CO022.N, 05CO002.N, 05CO003.N, 05CO006.N, 05CO007.N, 05CO011.N, 05CO015.N, 05CO020.N, 05CO026.N, 05CO028.N, 05CO029.N, 05CO032.N, 05CO033.N, 05CO034.N, 05CO035.N, 05CO037.N, 05CO039.N, 05CO041.N, 05CO044.N, 05CO045.N, 05CO047.N, 05CO048.N, 05CO049.N, 05CO050.N, 05CO053.N, 05CO054.N, 06CO001.N, 06CO002.N, 09CO005.N, 09CO006.N, 09CO008.N, 09CO011.N, 09CO013.N, 09CO014.N, 09CO015.N, 09CO018.N, 09CO019.N, 09CO022.N, 11CO005.N, 11CO007.N, 11CO008.N, 11CO010.N, 11CO018.N, 11CO019.N, 11CO020.N, 11CO021.N, 11CO022.N, 11CO027.N, 11CO030.N, 11CO031.N, 11CO032.N, 11CO033.N, 11CO036.N, 11CO037.N, 11CO039.N, 11CO042.N, 11CO043.N, 11CO044.N, 11CO045.N, 11CO047.N, 11CO048.N, 11CO051.N, 11CO052.N, 11CO053.N, 11CO054.N, 11CO057.N, 11CO058.N, 11CO060.N, 11CO061.N, 11CO062.N, 11CO070.N, 11CO072.N, 11CO077.N, 11CO079.N, 14CO002.N, 14CO005.N, 15CO001.N, 15CO002.N, 16CO002.N, 16CO003.N, 16CO006.N, 16CO011.N, 20CO001.N, 20CO003.N, 20CO004.N, 20CO006, 20CO006.N, 20CO007.N, 21CO006.N, 21CO007.N, 22CO004.N, 22CO006.N, 27CO004.N (/var/folders/7c/l09scrbj6bdgsg118sgq25wm0000gn/T/ipykernel_27491/527597221.py, line 23)\n",
      "cptac warning: transcriptomics data was not found for the following samples, so transcriptomics data columns were filled with NaN for these samples: C3L-00183.N, C3L-00791.N, C3N-00246.N, C3N-00312.N, C3N-00317.N, C3N-00320.N, C3N-00437.N, C3N-00492.N, C3N-00953.N (/var/folders/7c/l09scrbj6bdgsg118sgq25wm0000gn/T/ipykernel_27491/527597221.py, line 37)\n",
      "cptac warning: transcriptomics data was not found for the following samples, so transcriptomics data columns were filled with NaN for these samples: PT-Q2AG.N (/var/folders/7c/l09scrbj6bdgsg118sgq25wm0000gn/T/ipykernel_27491/527597221.py, line 42)\n"
     ]
    }
   ],
   "source": [
    "# Download and format. These are currently done one by one, we may want to turn this into a function\n",
    "\n",
    "en = cptac.Endometrial()\n",
    "ov = cptac.Ovarian()\n",
    "co = cptac.Colon()\n",
    "br = cptac.Brca()\n",
    "lu = cptac.Luad()\n",
    "cc = cptac.Ccrcc()\n",
    "gb = cptac.Gbm()\n",
    "\n",
    "# For endometrial, try getting the RNA and protein data\n",
    "en_rna = en.get_transcriptomics()\n",
    "en_pro = en.get_proteomics()\n",
    "a = en.join_omics_to_omics('transcriptomics', 'proteomics')\n",
    "\n",
    "ov_rna = ov.get_transcriptomics()\n",
    "ov_pro = ov.get_proteomics()\n",
    "b = ov.join_omics_to_omics('transcriptomics', 'proteomics')\n",
    "b.columns = b.columns.droplevel(1)\n",
    "\n",
    "co_rna = co.get_transcriptomics()\n",
    "co_pro = co.get_proteomics()\n",
    "c = co.join_omics_to_omics('transcriptomics', 'proteomics')\n",
    "\n",
    "br_rna = br.get_transcriptomics()\n",
    "br_pro = br.get_proteomics()\n",
    "d = br.join_omics_to_omics('transcriptomics', 'proteomics')\n",
    "d.columns = d.columns.droplevel(1)\n",
    "\n",
    "lu_rna = lu.get_transcriptomics()\n",
    "lu_pro = lu.get_proteomics()\n",
    "e = br.join_omics_to_omics('transcriptomics', 'proteomics')\n",
    "e.columns = e.columns.droplevel(1)\n",
    "\n",
    "cc_rna = cc.get_transcriptomics()\n",
    "cc_pro = cc.get_proteomics()\n",
    "f = cc.join_omics_to_omics('transcriptomics', 'proteomics')\n",
    "f.columns = f.columns.droplevel(1)\n",
    "\n",
    "gb_rna = gb.get_transcriptomics()\n",
    "gb_pro = gb.get_proteomics()\n",
    "g = gb.join_omics_to_omics('transcriptomics', 'proteomics')\n",
    "g.columns = g.columns.droplevel(1)"
   ],
   "metadata": {
    "collapsed": false,
    "pycharm": {
     "name": "#%%\n"
    }
   }
  },
  {
   "cell_type": "markdown",
   "source": [
    "# Transform\n",
    "\n",
    "Note: The transcriptomics data are in some sort of log or VST values, but\n",
    "the proteomics data are standardized protein-wise."
   ],
   "metadata": {
    "collapsed": false,
    "pycharm": {
     "name": "#%% md\n"
    }
   }
  },
  {
   "cell_type": "code",
   "execution_count": 13,
   "outputs": [
    {
     "name": "stdout",
     "output_type": "stream",
     "text": [
      "True\n"
     ]
    }
   ],
   "source": [
    "a_std = a.copy()\n",
    "a_tx_cols = [col for col in a_std.columns if col.endswith('transcriptomics')]\n",
    "a_std[a_tx_cols] = StandardScaler().fit_transform(a_std[a_tx_cols])\n",
    "a_std.index = 'EN' + a_std.index\n",
    "\n",
    "b_std = b.copy()\n",
    "b_std = b_std.loc[:, ~b_std.columns.duplicated(keep='first')]\n",
    "b_tx_cols = [col for col in b_std.columns if col.endswith('transcriptomics')]\n",
    "b_std[b_tx_cols] = StandardScaler().fit_transform(b_std[b_tx_cols])\n",
    "b_std.index = 'OV' + b_std.index\n",
    "\n",
    "c_std = c.copy()\n",
    "c_tx_cols = [col for col in c_std.columns if col.endswith('transcriptomics')]\n",
    "c_std[c_tx_cols] = StandardScaler().fit_transform(c_std[c_tx_cols])\n",
    "c_std.index = 'CO' + c_std.index\n",
    "\n",
    "d_std = d.copy()\n",
    "d_std = d_std.loc[:, ~d_std.columns.duplicated(keep='first')]\n",
    "d_tx_cols = [col for col in d_std.columns if col.endswith('transcriptomics')]\n",
    "d_std[d_tx_cols] = StandardScaler().fit_transform(d_std[d_tx_cols])\n",
    "d_std.index = 'BR' + d_std.index\n",
    "\n",
    "e_std = e.copy()\n",
    "e_std = e_std.loc[:, ~e_std.columns.duplicated(keep='first')]\n",
    "e_tx_cols = [col for col in e_std.columns if col.endswith('transcriptomics')]\n",
    "e_std[e_tx_cols] = StandardScaler().fit_transform(e_std[e_tx_cols])\n",
    "e_std.index = 'LU' + e_std.index\n",
    "\n",
    "f_std = f.copy()\n",
    "f_std = f_std.loc[:, ~f_std.columns.duplicated(keep='first')]\n",
    "f_tx_cols = [col for col in f_std.columns if col.endswith('transcriptomics')]\n",
    "f_std[f_tx_cols] = StandardScaler().fit_transform(f_std[f_tx_cols])\n",
    "f_std.index = 'CC' + f_std.index\n",
    "\n",
    "g_std = g.copy()\n",
    "g_std = g_std.loc[:, ~g_std.columns.duplicated(keep='first')]\n",
    "g_tx_cols = [col for col in g_std.columns if col.endswith('transcriptomics')]\n",
    "g_std[g_tx_cols] = StandardScaler().fit_transform(g_std[g_tx_cols])\n",
    "g_std.index = 'CC' + g_std.index\n",
    "\n",
    "print(True)"
   ],
   "metadata": {
    "collapsed": false,
    "pycharm": {
     "name": "#%%\n"
    }
   }
  },
  {
   "cell_type": "code",
   "execution_count": 14,
   "outputs": [
    {
     "name": "stderr",
     "output_type": "stream",
     "text": [
      "  0%|          | 1/11924 [00:00<3:09:40,  1.05it/s]"
     ]
    },
    {
     "name": "stdout",
     "output_type": "stream",
     "text": [
      "0: A1BG, r: 0.69, R2: 0.305, med.r: 0.69, med.R2: 0.305, med.NRMSE: 0.391\n"
     ]
    },
    {
     "name": "stderr",
     "output_type": "stream",
     "text": [
      "  1%|          | 101/11924 [00:48<1:38:25,  2.00it/s]"
     ]
    },
    {
     "name": "stdout",
     "output_type": "stream",
     "text": [
      "100: ACOT13, r: 0.255, R2: 0.034, med.r: 0.452, med.R2: 0.116, med.NRMSE: 0.282\n"
     ]
    },
    {
     "name": "stderr",
     "output_type": "stream",
     "text": [
      "  2%|▏         | 201/11924 [01:35<1:33:33,  2.09it/s]"
     ]
    },
    {
     "name": "stdout",
     "output_type": "stream",
     "text": [
      "200: ADH4, r: 0.072, R2: -0.029, med.r: 0.47, med.R2: 0.124, med.NRMSE: 0.29\n"
     ]
    },
    {
     "name": "stderr",
     "output_type": "stream",
     "text": [
      "  3%|▎         | 301/11924 [02:22<1:34:16,  2.05it/s]"
     ]
    },
    {
     "name": "stdout",
     "output_type": "stream",
     "text": [
      "300: AKAP9, r: 0.477, R2: 0.226, med.r: 0.469, med.R2: 0.118, med.NRMSE: 0.286\n"
     ]
    },
    {
     "name": "stderr",
     "output_type": "stream",
     "text": [
      "  3%|▎         | 401/11924 [03:10<1:35:56,  2.00it/s]"
     ]
    },
    {
     "name": "stdout",
     "output_type": "stream",
     "text": [
      "400: ANAPC4, r: 0.226, R2: 0.04, med.r: 0.463, med.R2: 0.114, med.NRMSE: 0.289\n"
     ]
    },
    {
     "name": "stderr",
     "output_type": "stream",
     "text": [
      "  4%|▍         | 501/11924 [03:58<1:31:21,  2.08it/s]"
     ]
    },
    {
     "name": "stdout",
     "output_type": "stream",
     "text": [
      "500: AP4S1, r: 0.109, R2: -0.114, med.r: 0.463, med.R2: 0.107, med.NRMSE: 0.286\n"
     ]
    },
    {
     "name": "stderr",
     "output_type": "stream",
     "text": [
      "  5%|▌         | 601/11924 [04:45<1:21:46,  2.31it/s]"
     ]
    },
    {
     "name": "stdout",
     "output_type": "stream",
     "text": [
      "600: ARHGAP32, r: 0.38, R2: 0.053, med.r: 0.451, med.R2: 0.098, med.NRMSE: 0.284\n"
     ]
    },
    {
     "name": "stderr",
     "output_type": "stream",
     "text": [
      "  6%|▌         | 701/11924 [05:33<1:35:23,  1.96it/s]"
     ]
    },
    {
     "name": "stdout",
     "output_type": "stream",
     "text": [
      "700: ARX, r: 0.227, R2: -1.684, med.r: 0.445, med.R2: 0.092, med.NRMSE: 0.282\n"
     ]
    },
    {
     "name": "stderr",
     "output_type": "stream",
     "text": [
      "  7%|▋         | 801/11924 [06:23<1:29:38,  2.07it/s]"
     ]
    },
    {
     "name": "stdout",
     "output_type": "stream",
     "text": [
      "800: ATP5MF, r: 0, R2: -0.098, med.r: 0.431, med.R2: 0.077, med.NRMSE: 0.284\n"
     ]
    },
    {
     "name": "stderr",
     "output_type": "stream",
     "text": [
      "  8%|▊         | 901/11924 [07:12<1:28:58,  2.06it/s]"
     ]
    },
    {
     "name": "stdout",
     "output_type": "stream",
     "text": [
      "900: BARD1, r: 0.666, R2: 0.313, med.r: 0.426, med.R2: 0.074, med.NRMSE: 0.285\n"
     ]
    },
    {
     "name": "stderr",
     "output_type": "stream",
     "text": [
      "  8%|▊         | 1001/11924 [08:00<1:32:43,  1.96it/s]"
     ]
    },
    {
     "name": "stdout",
     "output_type": "stream",
     "text": [
      "1000: BMT2, r: -0.314, R2: -1.982, med.r: 0.423, med.R2: 0.077, med.NRMSE: 0.285\n"
     ]
    },
    {
     "name": "stderr",
     "output_type": "stream",
     "text": [
      "  9%|▉         | 1101/11924 [08:47<1:30:21,  2.00it/s]"
     ]
    },
    {
     "name": "stdout",
     "output_type": "stream",
     "text": [
      "1100: C12orf43, r: 0.207, R2: -0.006, med.r: 0.416, med.R2: 0.074, med.NRMSE: 0.284\n"
     ]
    },
    {
     "name": "stderr",
     "output_type": "stream",
     "text": [
      " 10%|█         | 1201/11924 [09:34<1:10:35,  2.53it/s]"
     ]
    },
    {
     "name": "stdout",
     "output_type": "stream",
     "text": [
      "1200: C5orf15, r: 0.374, R2: -0.083, med.r: 0.413, med.R2: 0.071, med.NRMSE: 0.286\n"
     ]
    },
    {
     "name": "stderr",
     "output_type": "stream",
     "text": [
      " 11%|█         | 1301/11924 [10:20<1:26:43,  2.04it/s]"
     ]
    },
    {
     "name": "stdout",
     "output_type": "stream",
     "text": [
      "1300: CANX, r: 0.037, R2: -0.064, med.r: 0.415, med.R2: 0.072, med.NRMSE: 0.288\n"
     ]
    },
    {
     "name": "stderr",
     "output_type": "stream",
     "text": [
      " 12%|█▏        | 1401/11924 [11:09<1:24:42,  2.07it/s]"
     ]
    },
    {
     "name": "stdout",
     "output_type": "stream",
     "text": [
      "1400: CCDC167, r: 0.247, R2: 0.052, med.r: 0.42, med.R2: 0.074, med.NRMSE: 0.286\n"
     ]
    },
    {
     "name": "stderr",
     "output_type": "stream",
     "text": [
      " 13%|█▎        | 1501/11924 [11:56<1:27:05,  1.99it/s]"
     ]
    },
    {
     "name": "stdout",
     "output_type": "stream",
     "text": [
      "1500: CD2BP2, r: 0.31, R2: 0.071, med.r: 0.415, med.R2: 0.072, med.NRMSE: 0.288\n"
     ]
    },
    {
     "name": "stderr",
     "output_type": "stream",
     "text": [
      " 13%|█▎        | 1601/11924 [12:45<1:29:39,  1.92it/s]"
     ]
    },
    {
     "name": "stdout",
     "output_type": "stream",
     "text": [
      "1600: CDK5RAP1, r: -0.168, R2: -0.064, med.r: 0.416, med.R2: 0.074, med.NRMSE: 0.29\n"
     ]
    },
    {
     "name": "stderr",
     "output_type": "stream",
     "text": [
      " 14%|█▍        | 1701/11924 [13:33<1:28:55,  1.92it/s]"
     ]
    },
    {
     "name": "stdout",
     "output_type": "stream",
     "text": [
      "1700: CFAP298, r: 0.845, R2: 0.689, med.r: 0.417, med.R2: 0.075, med.NRMSE: 0.291\n"
     ]
    },
    {
     "name": "stderr",
     "output_type": "stream",
     "text": [
      " 15%|█▌        | 1801/11924 [14:22<1:25:27,  1.97it/s]"
     ]
    },
    {
     "name": "stdout",
     "output_type": "stream",
     "text": [
      "1800: CHURC1, r: 0.034, R2: -0.032, med.r: 0.416, med.R2: 0.075, med.NRMSE: 0.291\n"
     ]
    },
    {
     "name": "stderr",
     "output_type": "stream",
     "text": [
      " 16%|█▌        | 1901/11924 [15:10<1:26:55,  1.92it/s]"
     ]
    },
    {
     "name": "stdout",
     "output_type": "stream",
     "text": [
      "1900: CMTR1, r: 0.847, R2: 0.534, med.r: 0.417, med.R2: 0.076, med.NRMSE: 0.291\n"
     ]
    },
    {
     "name": "stderr",
     "output_type": "stream",
     "text": [
      " 17%|█▋        | 2001/11924 [15:53<1:28:18,  1.87it/s]"
     ]
    },
    {
     "name": "stdout",
     "output_type": "stream",
     "text": [
      "2000: COPB1, r: 0.506, R2: 0.006, med.r: 0.416, med.R2: 0.074, med.NRMSE: 0.291\n"
     ]
    },
    {
     "name": "stderr",
     "output_type": "stream",
     "text": [
      " 18%|█▊        | 2101/11924 [16:41<1:21:30,  2.01it/s]"
     ]
    },
    {
     "name": "stdout",
     "output_type": "stream",
     "text": [
      "2100: CRCP, r: 0, R2: -0.018, med.r: 0.413, med.R2: 0.071, med.NRMSE: 0.292\n"
     ]
    },
    {
     "name": "stderr",
     "output_type": "stream",
     "text": [
      " 18%|█▊        | 2201/11924 [17:27<1:21:25,  1.99it/s]"
     ]
    },
    {
     "name": "stdout",
     "output_type": "stream",
     "text": [
      "2200: CTNNAL1, r: 0.512, R2: 0.076, med.r: 0.414, med.R2: 0.071, med.NRMSE: 0.292\n"
     ]
    },
    {
     "name": "stderr",
     "output_type": "stream",
     "text": [
      " 19%|█▉        | 2301/11924 [18:11<1:06:07,  2.43it/s]"
     ]
    },
    {
     "name": "stdout",
     "output_type": "stream",
     "text": [
      "2300: CYP4F12, r: 0.211, R2: -0.363, med.r: 0.417, med.R2: 0.074, med.NRMSE: 0.292\n"
     ]
    },
    {
     "name": "stderr",
     "output_type": "stream",
     "text": [
      " 20%|██        | 2401/11924 [18:58<1:20:09,  1.98it/s]"
     ]
    },
    {
     "name": "stdout",
     "output_type": "stream",
     "text": [
      "2400: DDT, r: 0.457, R2: 0.1, med.r: 0.417, med.R2: 0.074, med.NRMSE: 0.292\n"
     ]
    },
    {
     "name": "stderr",
     "output_type": "stream",
     "text": [
      " 21%|██        | 2501/11924 [19:45<1:17:49,  2.02it/s]"
     ]
    },
    {
     "name": "stdout",
     "output_type": "stream",
     "text": [
      "2500: DHRS3, r: 0.537, R2: 0.256, med.r: 0.415, med.R2: 0.073, med.NRMSE: 0.291\n"
     ]
    },
    {
     "name": "stderr",
     "output_type": "stream",
     "text": [
      " 22%|██▏       | 2601/11924 [20:32<1:15:46,  2.05it/s]"
     ]
    },
    {
     "name": "stdout",
     "output_type": "stream",
     "text": [
      "2600: DNAJC2, r: 0.479, R2: 0.207, med.r: 0.417, med.R2: 0.074, med.NRMSE: 0.291\n"
     ]
    },
    {
     "name": "stderr",
     "output_type": "stream",
     "text": [
      " 23%|██▎       | 2701/11924 [21:18<1:16:49,  2.00it/s]"
     ]
    },
    {
     "name": "stdout",
     "output_type": "stream",
     "text": [
      "2700: DTNB, r: 0.274, R2: 0.062, med.r: 0.418, med.R2: 0.074, med.NRMSE: 0.29\n"
     ]
    },
    {
     "name": "stderr",
     "output_type": "stream",
     "text": [
      " 23%|██▎       | 2801/11924 [22:04<57:43,  2.63it/s]  "
     ]
    },
    {
     "name": "stdout",
     "output_type": "stream",
     "text": [
      "2800: EFCAB14, r: 0.518, R2: 0.229, med.r: 0.418, med.R2: 0.074, med.NRMSE: 0.289\n"
     ]
    },
    {
     "name": "stderr",
     "output_type": "stream",
     "text": [
      " 24%|██▍       | 2901/11924 [22:51<57:32,  2.61it/s]  "
     ]
    },
    {
     "name": "stdout",
     "output_type": "stream",
     "text": [
      "2900: ELL, r: 0.111, R2: -0.057, med.r: 0.416, med.R2: 0.073, med.NRMSE: 0.289\n"
     ]
    },
    {
     "name": "stderr",
     "output_type": "stream",
     "text": [
      " 25%|██▌       | 3001/11924 [23:40<1:15:04,  1.98it/s]"
     ]
    },
    {
     "name": "stdout",
     "output_type": "stream",
     "text": [
      "3000: EPM2AIP1, r: 0.688, R2: 0.434, med.r: 0.416, med.R2: 0.073, med.NRMSE: 0.289\n"
     ]
    },
    {
     "name": "stderr",
     "output_type": "stream",
     "text": [
      " 26%|██▌       | 3101/11924 [24:47<1:19:38,  1.85it/s]"
     ]
    },
    {
     "name": "stdout",
     "output_type": "stream",
     "text": [
      "3100: EXOG, r: 0.322, R2: 0.065, med.r: 0.417, med.R2: 0.074, med.NRMSE: 0.288\n"
     ]
    },
    {
     "name": "stderr",
     "output_type": "stream",
     "text": [
      " 27%|██▋       | 3201/11924 [25:35<1:13:01,  1.99it/s]"
     ]
    },
    {
     "name": "stdout",
     "output_type": "stream",
     "text": [
      "3200: FAM198B, r: 0.68, R2: 0.459, med.r: 0.416, med.R2: 0.073, med.NRMSE: 0.289\n"
     ]
    },
    {
     "name": "stderr",
     "output_type": "stream",
     "text": [
      " 28%|██▊       | 3301/11924 [26:22<1:16:20,  1.88it/s]"
     ]
    },
    {
     "name": "stdout",
     "output_type": "stream",
     "text": [
      "3300: FBXO22, r: 0.324, R2: 0.008, med.r: 0.416, med.R2: 0.074, med.NRMSE: 0.289\n"
     ]
    },
    {
     "name": "stderr",
     "output_type": "stream",
     "text": [
      " 29%|██▊       | 3401/11924 [27:10<1:11:15,  1.99it/s]"
     ]
    },
    {
     "name": "stdout",
     "output_type": "stream",
     "text": [
      "3400: FKBP1B, r: 0.005, R2: -0.079, med.r: 0.416, med.R2: 0.074, med.NRMSE: 0.289\n"
     ]
    },
    {
     "name": "stderr",
     "output_type": "stream",
     "text": [
      " 29%|██▉       | 3501/11924 [27:58<1:11:49,  1.95it/s]"
     ]
    },
    {
     "name": "stdout",
     "output_type": "stream",
     "text": [
      "3500: FUK, r: 0.706, R2: 0.482, med.r: 0.416, med.R2: 0.076, med.NRMSE: 0.289\n"
     ]
    },
    {
     "name": "stderr",
     "output_type": "stream",
     "text": [
      " 30%|███       | 3601/11924 [28:44<1:11:16,  1.95it/s]"
     ]
    },
    {
     "name": "stdout",
     "output_type": "stream",
     "text": [
      "3600: GBP3, r: 0.457, R2: 0.163, med.r: 0.417, med.R2: 0.076, med.NRMSE: 0.289\n"
     ]
    },
    {
     "name": "stderr",
     "output_type": "stream",
     "text": [
      " 31%|███       | 3701/11924 [29:31<1:10:14,  1.95it/s]"
     ]
    },
    {
     "name": "stdout",
     "output_type": "stream",
     "text": [
      "3700: GLG1, r: 0.074, R2: -0.024, med.r: 0.418, med.R2: 0.078, med.NRMSE: 0.289\n"
     ]
    },
    {
     "name": "stderr",
     "output_type": "stream",
     "text": [
      " 32%|███▏      | 3801/11924 [30:20<1:07:40,  2.00it/s]"
     ]
    },
    {
     "name": "stdout",
     "output_type": "stream",
     "text": [
      "3800: GP6, r: 0.202, R2: -0.176, med.r: 0.419, med.R2: 0.079, med.NRMSE: 0.289\n"
     ]
    },
    {
     "name": "stderr",
     "output_type": "stream",
     "text": [
      " 33%|███▎      | 3901/11924 [31:04<43:29,  3.07it/s]  "
     ]
    },
    {
     "name": "stdout",
     "output_type": "stream",
     "text": [
      "3900: GSTA3, r: 0.633, R2: 0.31, med.r: 0.42, med.R2: 0.081, med.NRMSE: 0.289\n"
     ]
    },
    {
     "name": "stderr",
     "output_type": "stream",
     "text": [
      " 34%|███▎      | 4001/11924 [31:50<1:06:57,  1.97it/s]"
     ]
    },
    {
     "name": "stdout",
     "output_type": "stream",
     "text": [
      "4000: HAUS6, r: 0.468, R2: 0.196, med.r: 0.42, med.R2: 0.079, med.NRMSE: 0.289\n"
     ]
    },
    {
     "name": "stderr",
     "output_type": "stream",
     "text": [
      " 34%|███▍      | 4101/11924 [32:37<1:07:14,  1.94it/s]"
     ]
    },
    {
     "name": "stdout",
     "output_type": "stream",
     "text": [
      "4100: HIST1H1T, r: -0.056, R2: -0.722, med.r: 0.418, med.R2: 0.078, med.NRMSE: 0.289\n"
     ]
    },
    {
     "name": "stderr",
     "output_type": "stream",
     "text": [
      " 35%|███▌      | 4201/11924 [33:26<1:09:05,  1.86it/s]"
     ]
    },
    {
     "name": "stdout",
     "output_type": "stream",
     "text": [
      "4200: HOXA10, r: 0.385, R2: 0.09, med.r: 0.417, med.R2: 0.078, med.NRMSE: 0.289\n"
     ]
    },
    {
     "name": "stderr",
     "output_type": "stream",
     "text": [
      " 36%|███▌      | 4301/11924 [34:12<49:14,  2.58it/s]  "
     ]
    },
    {
     "name": "stdout",
     "output_type": "stream",
     "text": [
      "4300: HYOU1, r: 0.637, R2: 0.4, med.r: 0.418, med.R2: 0.079, med.NRMSE: 0.289\n"
     ]
    },
    {
     "name": "stderr",
     "output_type": "stream",
     "text": [
      " 37%|███▋      | 4401/11924 [34:58<49:41,  2.52it/s]  "
     ]
    },
    {
     "name": "stdout",
     "output_type": "stream",
     "text": [
      "4400: IKZF5, r: 0.727, R2: 0.305, med.r: 0.42, med.R2: 0.081, med.NRMSE: 0.289\n"
     ]
    },
    {
     "name": "stderr",
     "output_type": "stream",
     "text": [
      " 38%|███▊      | 4501/11924 [35:44<53:36,  2.31it/s]  "
     ]
    },
    {
     "name": "stdout",
     "output_type": "stream",
     "text": [
      "4500: IRAK4, r: 0.262, R2: -0.232, med.r: 0.419, med.R2: 0.08, med.NRMSE: 0.289\n"
     ]
    },
    {
     "name": "stderr",
     "output_type": "stream",
     "text": [
      " 39%|███▊      | 4601/11924 [36:32<1:01:46,  1.98it/s]"
     ]
    },
    {
     "name": "stdout",
     "output_type": "stream",
     "text": [
      "4600: JMJD8, r: 0.034, R2: -0.351, med.r: 0.42, med.R2: 0.082, med.NRMSE: 0.289\n"
     ]
    },
    {
     "name": "stderr",
     "output_type": "stream",
     "text": [
      " 39%|███▉      | 4701/11924 [37:18<1:00:42,  1.98it/s]"
     ]
    },
    {
     "name": "stdout",
     "output_type": "stream",
     "text": [
      "4700: KIAA0319L, r: 0.667, R2: 0.393, med.r: 0.42, med.R2: 0.082, med.NRMSE: 0.289\n"
     ]
    },
    {
     "name": "stderr",
     "output_type": "stream",
     "text": [
      " 41%|████      | 4901/11924 [38:45<37:58,  3.08it/s]  "
     ]
    },
    {
     "name": "stdout",
     "output_type": "stream",
     "text": [
      "4900: KYAT1, r: 0.342, R2: 0.087, med.r: 0.42, med.R2: 0.08, med.NRMSE: 0.289\n"
     ]
    },
    {
     "name": "stderr",
     "output_type": "stream",
     "text": [
      " 42%|████▏     | 5001/11924 [39:32<58:51,  1.96it/s]  "
     ]
    },
    {
     "name": "stdout",
     "output_type": "stream",
     "text": [
      "5000: LGALSL, r: 0.643, R2: 0.413, med.r: 0.421, med.R2: 0.08, med.NRMSE: 0.289\n"
     ]
    },
    {
     "name": "stderr",
     "output_type": "stream",
     "text": [
      " 43%|████▎     | 5101/11924 [40:18<58:44,  1.94it/s]  "
     ]
    },
    {
     "name": "stdout",
     "output_type": "stream",
     "text": [
      "5100: LRP10, r: 0.268, R2: 0.053, med.r: 0.423, med.R2: 0.082, med.NRMSE: 0.29\n"
     ]
    },
    {
     "name": "stderr",
     "output_type": "stream",
     "text": [
      " 44%|████▎     | 5201/11924 [41:04<58:43,  1.91it/s]  "
     ]
    },
    {
     "name": "stdout",
     "output_type": "stream",
     "text": [
      "5200: LZTR1, r: -0.156, R2: -0.1, med.r: 0.423, med.R2: 0.082, med.NRMSE: 0.29\n"
     ]
    },
    {
     "name": "stderr",
     "output_type": "stream",
     "text": [
      " 44%|████▍     | 5301/11924 [41:51<59:28,  1.86it/s]  "
     ]
    },
    {
     "name": "stdout",
     "output_type": "stream",
     "text": [
      "5300: MAPK1IP1L, r: 0, R2: -0.121, med.r: 0.423, med.R2: 0.082, med.NRMSE: 0.289\n"
     ]
    },
    {
     "name": "stderr",
     "output_type": "stream",
     "text": [
      " 45%|████▌     | 5401/11924 [42:38<55:48,  1.95it/s]  "
     ]
    },
    {
     "name": "stdout",
     "output_type": "stream",
     "text": [
      "5400: ME2, r: 0.307, R2: -0.152, med.r: 0.423, med.R2: 0.082, med.NRMSE: 0.289\n"
     ]
    },
    {
     "name": "stderr",
     "output_type": "stream",
     "text": [
      " 46%|████▌     | 5501/11924 [43:26<54:51,  1.95it/s]  "
     ]
    },
    {
     "name": "stdout",
     "output_type": "stream",
     "text": [
      "5500: MGP, r: 0.714, R2: 0.158, med.r: 0.421, med.R2: 0.081, med.NRMSE: 0.289\n"
     ]
    },
    {
     "name": "stderr",
     "output_type": "stream",
     "text": [
      " 47%|████▋     | 5601/11924 [44:13<58:15,  1.81it/s]"
     ]
    },
    {
     "name": "stdout",
     "output_type": "stream",
     "text": [
      "5600: MOB2, r: 0.478, R2: 0.208, med.r: 0.421, med.R2: 0.081, med.NRMSE: 0.289\n"
     ]
    },
    {
     "name": "stderr",
     "output_type": "stream",
     "text": [
      " 48%|████▊     | 5701/11924 [45:01<53:21,  1.94it/s]"
     ]
    },
    {
     "name": "stdout",
     "output_type": "stream",
     "text": [
      "5700: MRPL49, r: 0.011, R2: -0.044, med.r: 0.419, med.R2: 0.079, med.NRMSE: 0.289\n"
     ]
    },
    {
     "name": "stderr",
     "output_type": "stream",
     "text": [
      " 49%|████▊     | 5801/11924 [45:48<53:08,  1.92it/s]"
     ]
    },
    {
     "name": "stdout",
     "output_type": "stream",
     "text": [
      "5800: MTHFD1, r: 0.734, R2: 0.436, med.r: 0.418, med.R2: 0.078, med.NRMSE: 0.289\n"
     ]
    },
    {
     "name": "stderr",
     "output_type": "stream",
     "text": [
      " 49%|████▉     | 5901/11924 [46:37<56:36,  1.77it/s]"
     ]
    },
    {
     "name": "stdout",
     "output_type": "stream",
     "text": [
      "5900: MYSM1, r: 0.126, R2: 0.006, med.r: 0.418, med.R2: 0.079, med.NRMSE: 0.289\n"
     ]
    },
    {
     "name": "stderr",
     "output_type": "stream",
     "text": [
      " 50%|█████     | 6001/11924 [47:26<52:19,  1.89it/s]  "
     ]
    },
    {
     "name": "stdout",
     "output_type": "stream",
     "text": [
      "6000: NCL, r: 0.33, R2: -0.09, med.r: 0.418, med.R2: 0.079, med.NRMSE: 0.289\n"
     ]
    },
    {
     "name": "stderr",
     "output_type": "stream",
     "text": [
      " 51%|█████     | 6101/11924 [48:10<51:06,  1.90it/s]"
     ]
    },
    {
     "name": "stdout",
     "output_type": "stream",
     "text": [
      "6100: NELFB, r: 0.375, R2: -0.014, med.r: 0.416, med.R2: 0.078, med.NRMSE: 0.289\n"
     ]
    },
    {
     "name": "stderr",
     "output_type": "stream",
     "text": [
      " 52%|█████▏    | 6201/11924 [48:57<48:34,  1.96it/s]"
     ]
    },
    {
     "name": "stdout",
     "output_type": "stream",
     "text": [
      "6200: NMT1, r: 0.392, R2: -0.041, med.r: 0.416, med.R2: 0.078, med.NRMSE: 0.289\n"
     ]
    },
    {
     "name": "stderr",
     "output_type": "stream",
     "text": [
      " 53%|█████▎    | 6301/11924 [49:46<53:45,  1.74it/s]"
     ]
    },
    {
     "name": "stdout",
     "output_type": "stream",
     "text": [
      "6300: NSFL1C, r: 0.631, R2: 0.349, med.r: 0.416, med.R2: 0.078, med.NRMSE: 0.289\n"
     ]
    },
    {
     "name": "stderr",
     "output_type": "stream",
     "text": [
      " 54%|█████▎    | 6401/11924 [50:34<47:51,  1.92it/s]"
     ]
    },
    {
     "name": "stdout",
     "output_type": "stream",
     "text": [
      "6400: OAS1, r: 0.64, R2: 0.395, med.r: 0.416, med.R2: 0.078, med.NRMSE: 0.288\n"
     ]
    },
    {
     "name": "stderr",
     "output_type": "stream",
     "text": [
      " 55%|█████▍    | 6501/11924 [51:22<47:03,  1.92it/s]"
     ]
    },
    {
     "name": "stdout",
     "output_type": "stream",
     "text": [
      "6500: P4HA1, r: 0.689, R2: 0.356, med.r: 0.416, med.R2: 0.078, med.NRMSE: 0.288\n"
     ]
    },
    {
     "name": "stderr",
     "output_type": "stream",
     "text": [
      " 55%|█████▌    | 6601/11924 [52:06<46:09,  1.92it/s]"
     ]
    },
    {
     "name": "stdout",
     "output_type": "stream",
     "text": [
      "6600: PBDC1, r: 0.461, R2: 0.212, med.r: 0.418, med.R2: 0.079, med.NRMSE: 0.288\n"
     ]
    },
    {
     "name": "stderr",
     "output_type": "stream",
     "text": [
      " 56%|█████▌    | 6701/11924 [52:51<50:22,  1.73it/s]"
     ]
    },
    {
     "name": "stdout",
     "output_type": "stream",
     "text": [
      "6700: PDIA2, r: 0.862, R2: 0.497, med.r: 0.417, med.R2: 0.079, med.NRMSE: 0.288\n"
     ]
    },
    {
     "name": "stderr",
     "output_type": "stream",
     "text": [
      " 57%|█████▋    | 6801/11924 [53:40<45:42,  1.87it/s]"
     ]
    },
    {
     "name": "stdout",
     "output_type": "stream",
     "text": [
      "6800: PGP, r: 0.532, R2: 0.19, med.r: 0.418, med.R2: 0.079, med.NRMSE: 0.288\n"
     ]
    },
    {
     "name": "stderr",
     "output_type": "stream",
     "text": [
      " 58%|█████▊    | 6901/11924 [54:28<41:48,  2.00it/s]"
     ]
    },
    {
     "name": "stdout",
     "output_type": "stream",
     "text": [
      "6900: PIP4K2B, r: 0.545, R2: 0.219, med.r: 0.416, med.R2: 0.079, med.NRMSE: 0.288\n"
     ]
    },
    {
     "name": "stderr",
     "output_type": "stream",
     "text": [
      " 59%|█████▊    | 7001/11924 [55:18<46:34,  1.76it/s]"
     ]
    },
    {
     "name": "stdout",
     "output_type": "stream",
     "text": [
      "7000: PLLP, r: 0.716, R2: 0.328, med.r: 0.419, med.R2: 0.081, med.NRMSE: 0.288\n"
     ]
    },
    {
     "name": "stderr",
     "output_type": "stream",
     "text": [
      " 60%|█████▉    | 7101/11924 [56:06<43:35,  1.84it/s]"
     ]
    },
    {
     "name": "stdout",
     "output_type": "stream",
     "text": [
      "7100: POLR2F, r: 0, R2: -0.228, med.r: 0.419, med.R2: 0.082, med.NRMSE: 0.287\n"
     ]
    },
    {
     "name": "stderr",
     "output_type": "stream",
     "text": [
      " 60%|██████    | 7201/11924 [56:55<43:22,  1.81it/s]"
     ]
    },
    {
     "name": "stdout",
     "output_type": "stream",
     "text": [
      "7200: PPP1R16A, r: -0.058, R2: -0.112, med.r: 0.418, med.R2: 0.081, med.NRMSE: 0.287\n"
     ]
    },
    {
     "name": "stderr",
     "output_type": "stream",
     "text": [
      " 61%|██████    | 7301/11924 [57:43<49:17,  1.56it/s]"
     ]
    },
    {
     "name": "stdout",
     "output_type": "stream",
     "text": [
      "7300: PRKAR2A, r: 0.4, R2: 0.1, med.r: 0.417, med.R2: 0.079, med.NRMSE: 0.287\n"
     ]
    },
    {
     "name": "stderr",
     "output_type": "stream",
     "text": [
      " 62%|██████▏   | 7401/11924 [58:29<40:34,  1.86it/s]"
     ]
    },
    {
     "name": "stdout",
     "output_type": "stream",
     "text": [
      "7400: PSMA4, r: 0.319, R2: 0.001, med.r: 0.417, med.R2: 0.079, med.NRMSE: 0.287\n"
     ]
    },
    {
     "name": "stderr",
     "output_type": "stream",
     "text": [
      " 63%|██████▎   | 7501/11924 [59:19<39:40,  1.86it/s]"
     ]
    },
    {
     "name": "stdout",
     "output_type": "stream",
     "text": [
      "7500: PTPRE, r: 0.511, R2: 0.184, med.r: 0.416, med.R2: 0.078, med.NRMSE: 0.287\n"
     ]
    },
    {
     "name": "stderr",
     "output_type": "stream",
     "text": [
      " 64%|██████▎   | 7601/11924 [1:00:08<39:46,  1.81it/s]"
     ]
    },
    {
     "name": "stdout",
     "output_type": "stream",
     "text": [
      "7600: RAB29, r: 0.58, R2: 0.296, med.r: 0.416, med.R2: 0.078, med.NRMSE: 0.287\n"
     ]
    },
    {
     "name": "stderr",
     "output_type": "stream",
     "text": [
      " 65%|██████▍   | 7701/11924 [1:00:55<37:53,  1.86it/s]"
     ]
    },
    {
     "name": "stdout",
     "output_type": "stream",
     "text": [
      "7700: RAP1A, r: -0.04, R2: -0.326, med.r: 0.416, med.R2: 0.078, med.NRMSE: 0.286\n"
     ]
    },
    {
     "name": "stderr",
     "output_type": "stream",
     "text": [
      " 65%|██████▌   | 7801/11924 [1:01:43<30:42,  2.24it/s]"
     ]
    },
    {
     "name": "stdout",
     "output_type": "stream",
     "text": [
      "7800: RBP5, r: 0.725, R2: 0.375, med.r: 0.415, med.R2: 0.077, med.NRMSE: 0.286\n"
     ]
    },
    {
     "name": "stderr",
     "output_type": "stream",
     "text": [
      " 66%|██████▋   | 7901/11924 [1:02:31<34:18,  1.95it/s]"
     ]
    },
    {
     "name": "stdout",
     "output_type": "stream",
     "text": [
      "7900: RHBDF1, r: 0.682, R2: 0.281, med.r: 0.416, med.R2: 0.077, med.NRMSE: 0.286\n"
     ]
    },
    {
     "name": "stderr",
     "output_type": "stream",
     "text": [
      " 67%|██████▋   | 8001/11924 [1:03:14<34:48,  1.88it/s]"
     ]
    },
    {
     "name": "stdout",
     "output_type": "stream",
     "text": [
      "8000: RNF220, r: 0.136, R2: -0.088, med.r: 0.415, med.R2: 0.077, med.NRMSE: 0.286\n"
     ]
    },
    {
     "name": "stderr",
     "output_type": "stream",
     "text": [
      " 68%|██████▊   | 8101/11924 [1:04:03<34:38,  1.84it/s]"
     ]
    },
    {
     "name": "stdout",
     "output_type": "stream",
     "text": [
      "8100: RPP25, r: 0.58, R2: 0.226, med.r: 0.412, med.R2: 0.075, med.NRMSE: 0.286\n"
     ]
    },
    {
     "name": "stderr",
     "output_type": "stream",
     "text": [
      " 69%|██████▉   | 8201/11924 [1:04:50<31:54,  1.94it/s]"
     ]
    },
    {
     "name": "stdout",
     "output_type": "stream",
     "text": [
      "8200: RTF2, r: 0.433, R2: 0.173, med.r: 0.41, med.R2: 0.073, med.NRMSE: 0.286\n"
     ]
    },
    {
     "name": "stderr",
     "output_type": "stream",
     "text": [
      " 70%|██████▉   | 8301/11924 [1:05:38<34:21,  1.76it/s]"
     ]
    },
    {
     "name": "stdout",
     "output_type": "stream",
     "text": [
      "8300: SBDS, r: 0.468, R2: 0.051, med.r: 0.411, med.R2: 0.074, med.NRMSE: 0.286\n"
     ]
    },
    {
     "name": "stderr",
     "output_type": "stream",
     "text": [
      " 71%|███████▏  | 8501/11924 [1:07:13<30:37,  1.86it/s]"
     ]
    },
    {
     "name": "stdout",
     "output_type": "stream",
     "text": [
      "8500: SETD1B, r: -0.026, R2: -0.18, med.r: 0.411, med.R2: 0.073, med.NRMSE: 0.286\n"
     ]
    },
    {
     "name": "stderr",
     "output_type": "stream",
     "text": [
      " 72%|███████▏  | 8601/11924 [1:08:00<29:46,  1.86it/s]"
     ]
    },
    {
     "name": "stdout",
     "output_type": "stream",
     "text": [
      "8600: SHROOM1, r: 0.065, R2: -0.081, med.r: 0.411, med.R2: 0.074, med.NRMSE: 0.286\n"
     ]
    },
    {
     "name": "stderr",
     "output_type": "stream",
     "text": [
      " 73%|███████▎  | 8701/11924 [1:08:48<29:36,  1.81it/s]"
     ]
    },
    {
     "name": "stdout",
     "output_type": "stream",
     "text": [
      "8700: SLC25A44, r: 0.23, R2: -0.66, med.r: 0.411, med.R2: 0.073, med.NRMSE: 0.286\n"
     ]
    },
    {
     "name": "stderr",
     "output_type": "stream",
     "text": [
      " 74%|███████▍  | 8801/11924 [1:09:36<34:51,  1.49it/s]"
     ]
    },
    {
     "name": "stdout",
     "output_type": "stream",
     "text": [
      "8800: SMARCD3, r: 0.532, R2: 0.246, med.r: 0.411, med.R2: 0.074, med.NRMSE: 0.286\n"
     ]
    },
    {
     "name": "stderr",
     "output_type": "stream",
     "text": [
      " 75%|███████▍  | 8901/11924 [1:10:24<28:04,  1.79it/s]"
     ]
    },
    {
     "name": "stdout",
     "output_type": "stream",
     "text": [
      "8900: SNX13, r: 0.414, R2: 0.102, med.r: 0.409, med.R2: 0.072, med.NRMSE: 0.286\n"
     ]
    },
    {
     "name": "stderr",
     "output_type": "stream",
     "text": [
      " 76%|███████▋  | 9101/11924 [1:11:59<25:28,  1.85it/s]"
     ]
    },
    {
     "name": "stdout",
     "output_type": "stream",
     "text": [
      "9100: SSBP3, r: 0.602, R2: 0.36, med.r: 0.409, med.R2: 0.072, med.NRMSE: 0.286\n"
     ]
    },
    {
     "name": "stderr",
     "output_type": "stream",
     "text": [
      " 77%|███████▋  | 9201/11924 [1:12:45<20:59,  2.16it/s]"
     ]
    },
    {
     "name": "stdout",
     "output_type": "stream",
     "text": [
      "9200: STRN4, r: 0.063, R2: -0.081, med.r: 0.409, med.R2: 0.073, med.NRMSE: 0.286\n"
     ]
    },
    {
     "name": "stderr",
     "output_type": "stream",
     "text": [
      " 78%|███████▊  | 9301/11924 [1:13:31<23:57,  1.82it/s]"
     ]
    },
    {
     "name": "stdout",
     "output_type": "stream",
     "text": [
      "9300: SYT2, r: 0.12, R2: -0.414, med.r: 0.409, med.R2: 0.073, med.NRMSE: 0.286\n"
     ]
    },
    {
     "name": "stderr",
     "output_type": "stream",
     "text": [
      " 79%|███████▉  | 9401/11924 [1:14:19<23:05,  1.82it/s]"
     ]
    },
    {
     "name": "stdout",
     "output_type": "stream",
     "text": [
      "9400: TBCD, r: 0.305, R2: -0.121, med.r: 0.409, med.R2: 0.072, med.NRMSE: 0.286\n"
     ]
    },
    {
     "name": "stderr",
     "output_type": "stream",
     "text": [
      " 80%|███████▉  | 9501/11924 [1:15:06<20:57,  1.93it/s]"
     ]
    },
    {
     "name": "stdout",
     "output_type": "stream",
     "text": [
      "9500: TFAP2A, r: 0.486, R2: 0.202, med.r: 0.409, med.R2: 0.072, med.NRMSE: 0.286\n"
     ]
    },
    {
     "name": "stderr",
     "output_type": "stream",
     "text": [
      " 81%|████████  | 9601/11924 [1:15:54<21:16,  1.82it/s]"
     ]
    },
    {
     "name": "stdout",
     "output_type": "stream",
     "text": [
      "9600: TJAP1, r: -0.185, R2: -0.124, med.r: 0.41, med.R2: 0.073, med.NRMSE: 0.286\n"
     ]
    },
    {
     "name": "stderr",
     "output_type": "stream",
     "text": [
      " 81%|████████▏ | 9701/11924 [1:16:41<20:05,  1.84it/s]"
     ]
    },
    {
     "name": "stdout",
     "output_type": "stream",
     "text": [
      "9700: TMEM219, r: 0.335, R2: -0.084, med.r: 0.409, med.R2: 0.073, med.NRMSE: 0.286\n"
     ]
    },
    {
     "name": "stderr",
     "output_type": "stream",
     "text": [
      " 82%|████████▏ | 9801/11924 [1:17:29<19:31,  1.81it/s]"
     ]
    },
    {
     "name": "stdout",
     "output_type": "stream",
     "text": [
      "9800: TNS3, r: 0.518, R2: 0.258, med.r: 0.409, med.R2: 0.073, med.NRMSE: 0.287\n"
     ]
    },
    {
     "name": "stderr",
     "output_type": "stream",
     "text": [
      " 83%|████████▎ | 9901/11924 [1:18:33<18:27,  1.83it/s]  "
     ]
    },
    {
     "name": "stdout",
     "output_type": "stream",
     "text": [
      "9900: TRAPPC4, r: 0.121, R2: -0.036, med.r: 0.409, med.R2: 0.073, med.NRMSE: 0.287\n"
     ]
    },
    {
     "name": "stderr",
     "output_type": "stream",
     "text": [
      " 84%|████████▍ | 10001/11924 [1:19:20<14:33,  2.20it/s]"
     ]
    },
    {
     "name": "stdout",
     "output_type": "stream",
     "text": [
      "10000: TSKU, r: 0.594, R2: 0.143, med.r: 0.409, med.R2: 0.073, med.NRMSE: 0.286\n"
     ]
    },
    {
     "name": "stderr",
     "output_type": "stream",
     "text": [
      " 85%|████████▍ | 10101/11924 [1:20:04<17:13,  1.76it/s]"
     ]
    },
    {
     "name": "stdout",
     "output_type": "stream",
     "text": [
      "10100: TUT1, r: 0.159, R2: -0.074, med.r: 0.409, med.R2: 0.073, med.NRMSE: 0.286\n"
     ]
    },
    {
     "name": "stderr",
     "output_type": "stream",
     "text": [
      " 86%|████████▌ | 10201/11924 [1:20:52<15:32,  1.85it/s]"
     ]
    },
    {
     "name": "stdout",
     "output_type": "stream",
     "text": [
      "10200: UBE4B, r: 0.476, R2: -0.029, med.r: 0.409, med.R2: 0.073, med.NRMSE: 0.286\n"
     ]
    },
    {
     "name": "stderr",
     "output_type": "stream",
     "text": [
      " 86%|████████▋ | 10301/11924 [1:21:39<15:02,  1.80it/s]"
     ]
    },
    {
     "name": "stdout",
     "output_type": "stream",
     "text": [
      "10300: USB1, r: 0.03, R2: -0.098, med.r: 0.408, med.R2: 0.073, med.NRMSE: 0.286\n"
     ]
    },
    {
     "name": "stderr",
     "output_type": "stream",
     "text": [
      " 87%|████████▋ | 10401/11924 [1:22:28<14:31,  1.75it/s]"
     ]
    },
    {
     "name": "stdout",
     "output_type": "stream",
     "text": [
      "10400: VIM, r: 0.819, R2: 0.559, med.r: 0.408, med.R2: 0.073, med.NRMSE: 0.285\n"
     ]
    },
    {
     "name": "stderr",
     "output_type": "stream",
     "text": [
      " 88%|████████▊ | 10501/11924 [1:23:16<14:07,  1.68it/s]"
     ]
    },
    {
     "name": "stdout",
     "output_type": "stream",
     "text": [
      "10500: WDR36, r: 0.007, R2: -0.158, med.r: 0.407, med.R2: 0.073, med.NRMSE: 0.285\n"
     ]
    },
    {
     "name": "stderr",
     "output_type": "stream",
     "text": [
      " 89%|████████▉ | 10601/11924 [1:24:03<12:31,  1.76it/s]"
     ]
    },
    {
     "name": "stdout",
     "output_type": "stream",
     "text": [
      "10600: XRCC6, r: 0.186, R2: -0.191, med.r: 0.407, med.R2: 0.073, med.NRMSE: 0.285\n"
     ]
    },
    {
     "name": "stderr",
     "output_type": "stream",
     "text": [
      " 90%|████████▉ | 10701/11924 [1:24:52<11:13,  1.82it/s]"
     ]
    },
    {
     "name": "stdout",
     "output_type": "stream",
     "text": [
      "10700: ZCCHC10, r: 0, R2: -0.0, med.r: 0.405, med.R2: 0.071, med.NRMSE: 0.285\n"
     ]
    },
    {
     "name": "stderr",
     "output_type": "stream",
     "text": [
      " 91%|█████████▏| 10901/11924 [1:26:19<09:05,  1.87it/s]"
     ]
    },
    {
     "name": "stdout",
     "output_type": "stream",
     "text": [
      "10900: ZNF618, r: 0.279, R2: 0.026, med.r: 0.403, med.R2: 0.07, med.NRMSE: 0.285\n"
     ]
    },
    {
     "name": "stderr",
     "output_type": "stream",
     "text": [
      " 92%|█████████▏| 11001/11924 [1:27:04<08:21,  1.84it/s]"
     ]
    },
    {
     "name": "stdout",
     "output_type": "stream",
     "text": [
      "11000: ADAMTS4, r: 0.626, R2: -0.264, med.r: 0.402, med.R2: 0.068, med.NRMSE: 0.285\n"
     ]
    },
    {
     "name": "stderr",
     "output_type": "stream",
     "text": [
      " 93%|█████████▎| 11101/11924 [1:27:40<03:56,  3.49it/s]"
     ]
    },
    {
     "name": "stdout",
     "output_type": "stream",
     "text": [
      "11100: CETP, r: -0.353, R2: -0.801, med.r: 0.4, med.R2: 0.067, med.NRMSE: 0.286\n"
     ]
    },
    {
     "name": "stderr",
     "output_type": "stream",
     "text": [
      " 94%|█████████▍| 11201/11924 [1:28:20<06:08,  1.96it/s]"
     ]
    },
    {
     "name": "stdout",
     "output_type": "stream",
     "text": [
      "11200: FASTKD3, r: 0.765, R2: -0.05, med.r: 0.399, med.R2: 0.066, med.NRMSE: 0.286\n"
     ]
    },
    {
     "name": "stderr",
     "output_type": "stream",
     "text": [
      " 95%|█████████▍| 11301/11924 [1:28:53<04:17,  2.42it/s]"
     ]
    },
    {
     "name": "stdout",
     "output_type": "stream",
     "text": [
      "11300: LMF1, r: 0.072, R2: -0.375, med.r: 0.398, med.R2: 0.064, med.NRMSE: 0.287\n"
     ]
    },
    {
     "name": "stderr",
     "output_type": "stream",
     "text": [
      " 96%|█████████▌| 11401/11924 [1:29:31<04:22,  2.00it/s]"
     ]
    },
    {
     "name": "stdout",
     "output_type": "stream",
     "text": [
      "11400: P2RX7, r: 0, R2: -0.119, med.r: 0.397, med.R2: 0.063, med.NRMSE: 0.287\n"
     ]
    },
    {
     "name": "stderr",
     "output_type": "stream",
     "text": [
      " 96%|█████████▋| 11501/11924 [1:30:00<03:04,  2.30it/s]"
     ]
    },
    {
     "name": "stdout",
     "output_type": "stream",
     "text": [
      "11500: SLC23A2, r: 0.27, R2: 0.055, med.r: 0.397, med.R2: 0.062, med.NRMSE: 0.288\n"
     ]
    },
    {
     "name": "stderr",
     "output_type": "stream",
     "text": [
      " 98%|█████████▊| 11701/11924 [1:31:16<00:55,  4.03it/s]"
     ]
    },
    {
     "name": "stdout",
     "output_type": "stream",
     "text": [
      "11700: AQP8, r: 0.257, R2: -3.732, med.r: 0.394, med.R2: 0.06, med.NRMSE: 0.289\n"
     ]
    },
    {
     "name": "stderr",
     "output_type": "stream",
     "text": [
      "100%|█████████▉| 11901/11924 [1:32:03<00:08,  2.86it/s]"
     ]
    },
    {
     "name": "stdout",
     "output_type": "stream",
     "text": [
      "11900: UGT1A10, r: 0.857, R2: -1.178, med.r: 0.395, med.R2: 0.059, med.NRMSE: 0.289\n"
     ]
    },
    {
     "name": "stderr",
     "output_type": "stream",
     "text": [
      "100%|██████████| 11924/11924 [1:32:07<00:00,  2.16it/s]\n"
     ]
    }
   ],
   "source": [
    "# Example combining 3 tumors then learn against self using an elastic net\n",
    "# TODO: Can we speed this up?\n",
    "\n",
    "z_df_3tumors =  pd.concat([a_std, b_std, c_std])\n",
    "comb_3tumors = learn_cptac.LearnCPTAC(z_df_3tumors)\n",
    "self_elastic_result = comb_3tumors.learn_all_proteins(tx_to_include=\"self\",\n",
    "                                                      train_method=\"elastic\")\n"
   ],
   "metadata": {
    "collapsed": false,
    "pycharm": {
     "name": "#%%\n"
    }
   }
  }
 ],
 "metadata": {
  "kernelspec": {
   "display_name": "Python 3 (ipykernel)",
   "language": "python",
   "name": "python3"
  },
  "language_info": {
   "codemirror_mode": {
    "name": "ipython",
    "version": 3
   },
   "file_extension": ".py",
   "mimetype": "text/x-python",
   "name": "python",
   "nbconvert_exporter": "python",
   "pygments_lexer": "ipython3",
   "version": "3.9.5"
  }
 },
 "nbformat": 4,
 "nbformat_minor": 1
}
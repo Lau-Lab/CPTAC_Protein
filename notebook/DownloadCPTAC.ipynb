{
 "cells": [
  {
   "cell_type": "code",
   "execution_count": 9,
   "metadata": {},
   "outputs": [],
   "source": [
    "import numpy as np\n",
    "import cptac\n",
    "import pandas as pd\n",
    "from predict_protein import get_proteins, learn_cptac\n",
    "from sklearn.preprocessing import StandardScaler, RobustScaler"
   ]
  },
  {
   "cell_type": "code",
   "execution_count": 10,
   "metadata": {
    "pycharm": {
     "name": "#%%\n"
    }
   },
   "outputs": [
    {
     "data": {
      "text/plain": "                                           Description     Data reuse status  \\\nDataset name                                                                   \nBrca                                     breast cancer       no restrictions   \nCcrcc         clear cell renal cell carcinoma (kidney)       no restrictions   \nColon                                colorectal cancer       no restrictions   \nEndometrial            endometrial carcinoma (uterine)       no restrictions   \nGbm                                       glioblastoma       no restrictions   \nHnscc            head and neck squamous cell carcinoma       no restrictions   \nLscc                      lung squamous cell carcinoma       no restrictions   \nLuad                               lung adenocarcinoma       no restrictions   \nOvarian               high grade serous ovarian cancer       no restrictions   \nPdac                  pancreatic ductal adenocarcinoma  password access only   \nUcecConf            endometrial confirmatory carcinoma  password access only   \n\n                                       Publication link  \nDataset name                                             \nBrca          https://pubmed.ncbi.nlm.nih.gov/33212010/  \nCcrcc         https://pubmed.ncbi.nlm.nih.gov/31675502/  \nColon         https://pubmed.ncbi.nlm.nih.gov/31031003/  \nEndometrial   https://pubmed.ncbi.nlm.nih.gov/32059776/  \nGbm           https://pubmed.ncbi.nlm.nih.gov/33577785/  \nHnscc         https://pubmed.ncbi.nlm.nih.gov/33417831/  \nLscc          https://pubmed.ncbi.nlm.nih.gov/34358469/  \nLuad          https://pubmed.ncbi.nlm.nih.gov/32649874/  \nOvarian       https://pubmed.ncbi.nlm.nih.gov/27372738/  \nPdac                                        unpublished  \nUcecConf                                    unpublished  ",
      "text/html": "<div>\n<style scoped>\n    .dataframe tbody tr th:only-of-type {\n        vertical-align: middle;\n    }\n\n    .dataframe tbody tr th {\n        vertical-align: top;\n    }\n\n    .dataframe thead th {\n        text-align: right;\n    }\n</style>\n<table border=\"1\" class=\"dataframe\">\n  <thead>\n    <tr style=\"text-align: right;\">\n      <th></th>\n      <th>Description</th>\n      <th>Data reuse status</th>\n      <th>Publication link</th>\n    </tr>\n    <tr>\n      <th>Dataset name</th>\n      <th></th>\n      <th></th>\n      <th></th>\n    </tr>\n  </thead>\n  <tbody>\n    <tr>\n      <th>Brca</th>\n      <td>breast cancer</td>\n      <td>no restrictions</td>\n      <td>https://pubmed.ncbi.nlm.nih.gov/33212010/</td>\n    </tr>\n    <tr>\n      <th>Ccrcc</th>\n      <td>clear cell renal cell carcinoma (kidney)</td>\n      <td>no restrictions</td>\n      <td>https://pubmed.ncbi.nlm.nih.gov/31675502/</td>\n    </tr>\n    <tr>\n      <th>Colon</th>\n      <td>colorectal cancer</td>\n      <td>no restrictions</td>\n      <td>https://pubmed.ncbi.nlm.nih.gov/31031003/</td>\n    </tr>\n    <tr>\n      <th>Endometrial</th>\n      <td>endometrial carcinoma (uterine)</td>\n      <td>no restrictions</td>\n      <td>https://pubmed.ncbi.nlm.nih.gov/32059776/</td>\n    </tr>\n    <tr>\n      <th>Gbm</th>\n      <td>glioblastoma</td>\n      <td>no restrictions</td>\n      <td>https://pubmed.ncbi.nlm.nih.gov/33577785/</td>\n    </tr>\n    <tr>\n      <th>Hnscc</th>\n      <td>head and neck squamous cell carcinoma</td>\n      <td>no restrictions</td>\n      <td>https://pubmed.ncbi.nlm.nih.gov/33417831/</td>\n    </tr>\n    <tr>\n      <th>Lscc</th>\n      <td>lung squamous cell carcinoma</td>\n      <td>no restrictions</td>\n      <td>https://pubmed.ncbi.nlm.nih.gov/34358469/</td>\n    </tr>\n    <tr>\n      <th>Luad</th>\n      <td>lung adenocarcinoma</td>\n      <td>no restrictions</td>\n      <td>https://pubmed.ncbi.nlm.nih.gov/32649874/</td>\n    </tr>\n    <tr>\n      <th>Ovarian</th>\n      <td>high grade serous ovarian cancer</td>\n      <td>no restrictions</td>\n      <td>https://pubmed.ncbi.nlm.nih.gov/27372738/</td>\n    </tr>\n    <tr>\n      <th>Pdac</th>\n      <td>pancreatic ductal adenocarcinoma</td>\n      <td>password access only</td>\n      <td>unpublished</td>\n    </tr>\n    <tr>\n      <th>UcecConf</th>\n      <td>endometrial confirmatory carcinoma</td>\n      <td>password access only</td>\n      <td>unpublished</td>\n    </tr>\n  </tbody>\n</table>\n</div>"
     },
     "execution_count": 10,
     "metadata": {},
     "output_type": "execute_result"
    }
   ],
   "source": [
    "# List current CPTAC datasets\n",
    "cptac.list_datasets()\n"
   ]
  },
  {
   "cell_type": "markdown",
   "source": [],
   "metadata": {
    "collapsed": false,
    "pycharm": {
     "name": "#%% md\n"
    }
   }
  },
  {
   "cell_type": "code",
   "execution_count": 11,
   "outputs": [
    {
     "name": "stdout",
     "output_type": "stream",
     "text": [
      "Checking that gbm index is up-to-date...\r.\r.\r                                                                                                                                                                                                                                                             \r"
     ]
    },
    {
     "data": {
      "text/plain": "True"
     },
     "execution_count": 11,
     "metadata": {},
     "output_type": "execute_result"
    }
   ],
   "source": [
    "cptac.download(dataset=\"endometrial\")\n",
    "cptac.download(dataset=\"ovarian\")\n",
    "cptac.download(dataset=\"colon\")\n",
    "cptac.download(dataset=\"brca\")\n",
    "cptac.download(dataset=\"luad\")\n",
    "cptac.download(dataset=\"ccrcc\")\n",
    "cptac.download(dataset=\"gbm\")"
   ],
   "metadata": {
    "collapsed": false,
    "pycharm": {
     "name": "#%%\n"
    }
   }
  },
  {
   "cell_type": "code",
   "execution_count": 12,
   "outputs": [
    {
     "name": "stdout",
     "output_type": "stream",
     "text": [
      "Formatting dataframes...\r.......\rdate...\r.\r.\r   Loading endometrial v2.1.1....Loading endometrial v2.1.1.......Loading endometrial v2.1.1.........Loading endometrial v2.1.1............                                                                    Loading ovarian v0.0.1...Loading ovarian v0.0.1......Loading ovarian v0.0.1........                                                                  Loading colon v0.0.1....Loading colon v0.0.1......Loading colon v0.0.1........Loading colon v0.0.1...........                                                                 Loading brca v5.4..Loading brca v5.4....Loading brca v5.4......                                                                 Loading luad v3.1.1...Loading luad v3.1.1.....Loading luad v3.1.1.......Loading luad v3.1.1.........Loading luad v3.1.1...........                                                                  Loading ccrcc v0.1.1..Loading ccrcc v0.1.1....Loading ccrcc v0.1.1......Loading ccrcc v0.1.1..........Loading ccrcc v0.1.1............                                                                Loading gbm v3.0..Loading gbm v3.0.........Loading gbm v3.0...........Loading gbm v3.0...............                                                        \r"
     ]
    },
    {
     "name": "stderr",
     "output_type": "stream",
     "text": [
      "cptac warning: transcriptomics data was not found for the following samples, so transcriptomics data columns were filled with NaN for these samples: C3L-00563.N, C3L-00605.N, C3L-00769.N, C3L-00770.N, C3L-00771.N, C3L-00930.N, C3L-00947.N, C3L-00963.N, C3L-01246.N, C3L-01249.N, C3L-01252.N, C3L-01256.N, C3L-01257.N, C3L-01744.N, C3N-00200.N, C3N-00729.N, C3N-01211.N, NX1.N, NX10.N, NX11.N, NX12.N, NX13.N, NX14.N, NX15.N, NX16.N, NX17.N, NX18.N, NX2.N, NX3.N, NX4.N, NX5.N, NX6.N, NX7.N, NX8.N, NX9.N (/var/folders/7c/l09scrbj6bdgsg118sgq25wm0000gn/T/ipykernel_27491/527597221.py, line 14)\n",
      "cptac warning: proteomics data was not found for the following samples, so proteomics data columns were filled with NaN for these samples: 01OV002, 01OV008, 01OV010, 01OV013, 01OV019, 01OV045, 01OV046, 01OV049, 02OV035, 02OV040, 02OV042, 02OV045, 04OV041, 11OV009, 13OV004, 17OV019, 17OV034, 22OV001, 26OV010 (/var/folders/7c/l09scrbj6bdgsg118sgq25wm0000gn/T/ipykernel_27491/527597221.py, line 18)\n",
      "cptac warning: transcriptomics data was not found for the following samples, so transcriptomics data columns were filled with NaN for these samples: 01OV007.N, 01OV008.N, 01OV010.N, 01OV013.N, 01OV017.N, 01OV019.N, 01OV023.N, 01OV029, 01OV029.N, 01OV039.N, 02OV001.N, 11OV002.N, 11OV010.N, 14OV011.N, 14OV029.N, 15OV001.N, 17OV001.N, 17OV002.N, 17OV003.N, 17OV004.N, 17OV005.N (/var/folders/7c/l09scrbj6bdgsg118sgq25wm0000gn/T/ipykernel_27491/527597221.py, line 18)\n",
      "cptac warning: proteomics data was not found for the following samples, so proteomics data columns were filled with NaN for these samples: 01CO001, 05CO005, 05CO007, 05CO014, 05CO055, 11CO059, 11CO060, 14CO002, 16CO012, 24CO005 (/var/folders/7c/l09scrbj6bdgsg118sgq25wm0000gn/T/ipykernel_27491/527597221.py, line 23)\n",
      "cptac warning: transcriptomics data was not found for the following samples, so transcriptomics data columns were filled with NaN for these samples: 01CO001.N, 01CO005.N, 01CO006.N, 01CO008.N, 01CO013.N, 01CO014.N, 01CO015.N, 01CO019.N, 01CO022.N, 05CO002.N, 05CO003.N, 05CO006.N, 05CO007.N, 05CO011.N, 05CO015.N, 05CO020.N, 05CO026.N, 05CO028.N, 05CO029.N, 05CO032.N, 05CO033.N, 05CO034.N, 05CO035.N, 05CO037.N, 05CO039.N, 05CO041.N, 05CO044.N, 05CO045.N, 05CO047.N, 05CO048.N, 05CO049.N, 05CO050.N, 05CO053.N, 05CO054.N, 06CO001.N, 06CO002.N, 09CO005.N, 09CO006.N, 09CO008.N, 09CO011.N, 09CO013.N, 09CO014.N, 09CO015.N, 09CO018.N, 09CO019.N, 09CO022.N, 11CO005.N, 11CO007.N, 11CO008.N, 11CO010.N, 11CO018.N, 11CO019.N, 11CO020.N, 11CO021.N, 11CO022.N, 11CO027.N, 11CO030.N, 11CO031.N, 11CO032.N, 11CO033.N, 11CO036.N, 11CO037.N, 11CO039.N, 11CO042.N, 11CO043.N, 11CO044.N, 11CO045.N, 11CO047.N, 11CO048.N, 11CO051.N, 11CO052.N, 11CO053.N, 11CO054.N, 11CO057.N, 11CO058.N, 11CO060.N, 11CO061.N, 11CO062.N, 11CO070.N, 11CO072.N, 11CO077.N, 11CO079.N, 14CO002.N, 14CO005.N, 15CO001.N, 15CO002.N, 16CO002.N, 16CO003.N, 16CO006.N, 16CO011.N, 20CO001.N, 20CO003.N, 20CO004.N, 20CO006, 20CO006.N, 20CO007.N, 21CO006.N, 21CO007.N, 22CO004.N, 22CO006.N, 27CO004.N (/var/folders/7c/l09scrbj6bdgsg118sgq25wm0000gn/T/ipykernel_27491/527597221.py, line 23)\n",
      "cptac warning: transcriptomics data was not found for the following samples, so transcriptomics data columns were filled with NaN for these samples: C3L-00183.N, C3L-00791.N, C3N-00246.N, C3N-00312.N, C3N-00317.N, C3N-00320.N, C3N-00437.N, C3N-00492.N, C3N-00953.N (/var/folders/7c/l09scrbj6bdgsg118sgq25wm0000gn/T/ipykernel_27491/527597221.py, line 37)\n",
      "cptac warning: transcriptomics data was not found for the following samples, so transcriptomics data columns were filled with NaN for these samples: PT-Q2AG.N (/var/folders/7c/l09scrbj6bdgsg118sgq25wm0000gn/T/ipykernel_27491/527597221.py, line 42)\n"
     ]
    }
   ],
   "source": [
    "# Download and format. These are currently done one by one, we may want to turn this into a function\n",
    "\n",
    "en = cptac.Endometrial()\n",
    "ov = cptac.Ovarian()\n",
    "co = cptac.Colon()\n",
    "br = cptac.Brca()\n",
    "lu = cptac.Luad()\n",
    "cc = cptac.Ccrcc()\n",
    "gb = cptac.Gbm()\n",
    "\n",
    "# For endometrial, try getting the RNA and protein data\n",
    "en_rna = en.get_transcriptomics()\n",
    "en_pro = en.get_proteomics()\n",
    "a = en.join_omics_to_omics('transcriptomics', 'proteomics')\n",
    "\n",
    "ov_rna = ov.get_transcriptomics()\n",
    "ov_pro = ov.get_proteomics()\n",
    "b = ov.join_omics_to_omics('transcriptomics', 'proteomics')\n",
    "b.columns = b.columns.droplevel(1)\n",
    "\n",
    "co_rna = co.get_transcriptomics()\n",
    "co_pro = co.get_proteomics()\n",
    "c = co.join_omics_to_omics('transcriptomics', 'proteomics')\n",
    "\n",
    "br_rna = br.get_transcriptomics()\n",
    "br_pro = br.get_proteomics()\n",
    "d = br.join_omics_to_omics('transcriptomics', 'proteomics')\n",
    "d.columns = d.columns.droplevel(1)\n",
    "\n",
    "lu_rna = lu.get_transcriptomics()\n",
    "lu_pro = lu.get_proteomics()\n",
    "e = br.join_omics_to_omics('transcriptomics', 'proteomics')\n",
    "e.columns = e.columns.droplevel(1)\n",
    "\n",
    "cc_rna = cc.get_transcriptomics()\n",
    "cc_pro = cc.get_proteomics()\n",
    "f = cc.join_omics_to_omics('transcriptomics', 'proteomics')\n",
    "f.columns = f.columns.droplevel(1)\n",
    "\n",
    "gb_rna = gb.get_transcriptomics()\n",
    "gb_pro = gb.get_proteomics()\n",
    "g = gb.join_omics_to_omics('transcriptomics', 'proteomics')\n",
    "g.columns = g.columns.droplevel(1)"
   ],
   "metadata": {
    "collapsed": false,
    "pycharm": {
     "name": "#%%\n"
    }
   }
  },
  {
   "cell_type": "markdown",
   "source": [
    "# Transform\n",
    "\n",
    "Note: The transcriptomics data are in some sort of log or VST values, but\n",
    "the proteomics data are standardized protein-wise."
   ],
   "metadata": {
    "collapsed": false,
    "pycharm": {
     "name": "#%% md\n"
    }
   }
  },
  {
   "cell_type": "code",
   "execution_count": 13,
   "outputs": [
    {
     "name": "stdout",
     "output_type": "stream",
     "text": [
      "True\n"
     ]
    }
   ],
   "source": [
    "a_std = a.copy()\n",
    "a_tx_cols = [col for col in a_std.columns if col.endswith('transcriptomics')]\n",
    "a_std[a_tx_cols] = StandardScaler().fit_transform(a_std[a_tx_cols])\n",
    "a_std.index = 'EN' + a_std.index\n",
    "\n",
    "b_std = b.copy()\n",
    "b_std = b_std.loc[:, ~b_std.columns.duplicated(keep='first')]\n",
    "b_tx_cols = [col for col in b_std.columns if col.endswith('transcriptomics')]\n",
    "b_std[b_tx_cols] = StandardScaler().fit_transform(b_std[b_tx_cols])\n",
    "b_std.index = 'OV' + b_std.index\n",
    "\n",
    "c_std = c.copy()\n",
    "c_tx_cols = [col for col in c_std.columns if col.endswith('transcriptomics')]\n",
    "c_std[c_tx_cols] = StandardScaler().fit_transform(c_std[c_tx_cols])\n",
    "c_std.index = 'CO' + c_std.index\n",
    "\n",
    "d_std = d.copy()\n",
    "d_std = d_std.loc[:, ~d_std.columns.duplicated(keep='first')]\n",
    "d_tx_cols = [col for col in d_std.columns if col.endswith('transcriptomics')]\n",
    "d_std[d_tx_cols] = StandardScaler().fit_transform(d_std[d_tx_cols])\n",
    "d_std.index = 'BR' + d_std.index\n",
    "\n",
    "e_std = e.copy()\n",
    "e_std = e_std.loc[:, ~e_std.columns.duplicated(keep='first')]\n",
    "e_tx_cols = [col for col in e_std.columns if col.endswith('transcriptomics')]\n",
    "e_std[e_tx_cols] = StandardScaler().fit_transform(e_std[e_tx_cols])\n",
    "e_std.index = 'LU' + e_std.index\n",
    "\n",
    "f_std = f.copy()\n",
    "f_std = f_std.loc[:, ~f_std.columns.duplicated(keep='first')]\n",
    "f_tx_cols = [col for col in f_std.columns if col.endswith('transcriptomics')]\n",
    "f_std[f_tx_cols] = StandardScaler().fit_transform(f_std[f_tx_cols])\n",
    "f_std.index = 'CC' + f_std.index\n",
    "\n",
    "g_std = g.copy()\n",
    "g_std = g_std.loc[:, ~g_std.columns.duplicated(keep='first')]\n",
    "g_tx_cols = [col for col in g_std.columns if col.endswith('transcriptomics')]\n",
    "g_std[g_tx_cols] = StandardScaler().fit_transform(g_std[g_tx_cols])\n",
    "g_std.index = 'CC' + g_std.index\n",
    "\n",
    "print(True)"
   ],
   "metadata": {
    "collapsed": false,
    "pycharm": {
     "name": "#%%\n"
    }
   }
  },
  {
   "cell_type": "code",
   "execution_count": null,
   "outputs": [
    {
     "name": "stderr",
     "output_type": "stream",
     "text": [
      "  0%|          | 1/11924 [00:00<3:09:40,  1.05it/s]"
     ]
    },
    {
     "name": "stdout",
     "output_type": "stream",
     "text": [
      "0: A1BG, r: 0.69, R2: 0.305, med.r: 0.69, med.R2: 0.305, med.NRMSE: 0.391\n"
     ]
    },
    {
     "name": "stderr",
     "output_type": "stream",
     "text": [
      "  1%|          | 101/11924 [00:48<1:38:25,  2.00it/s]"
     ]
    },
    {
     "name": "stdout",
     "output_type": "stream",
     "text": [
      "100: ACOT13, r: 0.255, R2: 0.034, med.r: 0.452, med.R2: 0.116, med.NRMSE: 0.282\n"
     ]
    },
    {
     "name": "stderr",
     "output_type": "stream",
     "text": [
      "  2%|▏         | 201/11924 [01:35<1:33:33,  2.09it/s]"
     ]
    },
    {
     "name": "stdout",
     "output_type": "stream",
     "text": [
      "200: ADH4, r: 0.072, R2: -0.029, med.r: 0.47, med.R2: 0.124, med.NRMSE: 0.29\n"
     ]
    },
    {
     "name": "stderr",
     "output_type": "stream",
     "text": [
      "  3%|▎         | 301/11924 [02:22<1:34:16,  2.05it/s]"
     ]
    },
    {
     "name": "stdout",
     "output_type": "stream",
     "text": [
      "300: AKAP9, r: 0.477, R2: 0.226, med.r: 0.469, med.R2: 0.118, med.NRMSE: 0.286\n"
     ]
    },
    {
     "name": "stderr",
     "output_type": "stream",
     "text": [
      "  3%|▎         | 401/11924 [03:10<1:35:56,  2.00it/s]"
     ]
    },
    {
     "name": "stdout",
     "output_type": "stream",
     "text": [
      "400: ANAPC4, r: 0.226, R2: 0.04, med.r: 0.463, med.R2: 0.114, med.NRMSE: 0.289\n"
     ]
    },
    {
     "name": "stderr",
     "output_type": "stream",
     "text": [
      "  4%|▍         | 501/11924 [03:58<1:31:21,  2.08it/s]"
     ]
    },
    {
     "name": "stdout",
     "output_type": "stream",
     "text": [
      "500: AP4S1, r: 0.109, R2: -0.114, med.r: 0.463, med.R2: 0.107, med.NRMSE: 0.286\n"
     ]
    },
    {
     "name": "stderr",
     "output_type": "stream",
     "text": [
      "  5%|▌         | 601/11924 [04:45<1:21:46,  2.31it/s]"
     ]
    },
    {
     "name": "stdout",
     "output_type": "stream",
     "text": [
      "600: ARHGAP32, r: 0.38, R2: 0.053, med.r: 0.451, med.R2: 0.098, med.NRMSE: 0.284\n"
     ]
    },
    {
     "name": "stderr",
     "output_type": "stream",
     "text": [
      "  6%|▌         | 701/11924 [05:33<1:35:23,  1.96it/s]"
     ]
    },
    {
     "name": "stdout",
     "output_type": "stream",
     "text": [
      "700: ARX, r: 0.227, R2: -1.684, med.r: 0.445, med.R2: 0.092, med.NRMSE: 0.282\n"
     ]
    },
    {
     "name": "stderr",
     "output_type": "stream",
     "text": [
      "  7%|▋         | 801/11924 [06:23<1:29:38,  2.07it/s]"
     ]
    },
    {
     "name": "stdout",
     "output_type": "stream",
     "text": [
      "800: ATP5MF, r: 0, R2: -0.098, med.r: 0.431, med.R2: 0.077, med.NRMSE: 0.284\n"
     ]
    },
    {
     "name": "stderr",
     "output_type": "stream",
     "text": [
      "  8%|▊         | 901/11924 [07:12<1:28:58,  2.06it/s]"
     ]
    },
    {
     "name": "stdout",
     "output_type": "stream",
     "text": [
      "900: BARD1, r: 0.666, R2: 0.313, med.r: 0.426, med.R2: 0.074, med.NRMSE: 0.285\n"
     ]
    },
    {
     "name": "stderr",
     "output_type": "stream",
     "text": [
      "  8%|▊         | 1001/11924 [08:00<1:32:43,  1.96it/s]"
     ]
    },
    {
     "name": "stdout",
     "output_type": "stream",
     "text": [
      "1000: BMT2, r: -0.314, R2: -1.982, med.r: 0.423, med.R2: 0.077, med.NRMSE: 0.285\n"
     ]
    },
    {
     "name": "stderr",
     "output_type": "stream",
     "text": [
      "  9%|▉         | 1101/11924 [08:47<1:30:21,  2.00it/s]"
     ]
    },
    {
     "name": "stdout",
     "output_type": "stream",
     "text": [
      "1100: C12orf43, r: 0.207, R2: -0.006, med.r: 0.416, med.R2: 0.074, med.NRMSE: 0.284\n"
     ]
    },
    {
     "name": "stderr",
     "output_type": "stream",
     "text": [
      " 10%|█         | 1201/11924 [09:34<1:10:35,  2.53it/s]"
     ]
    },
    {
     "name": "stdout",
     "output_type": "stream",
     "text": [
      "1200: C5orf15, r: 0.374, R2: -0.083, med.r: 0.413, med.R2: 0.071, med.NRMSE: 0.286\n"
     ]
    },
    {
     "name": "stderr",
     "output_type": "stream",
     "text": [
      " 11%|█         | 1301/11924 [10:20<1:26:43,  2.04it/s]"
     ]
    },
    {
     "name": "stdout",
     "output_type": "stream",
     "text": [
      "1300: CANX, r: 0.037, R2: -0.064, med.r: 0.415, med.R2: 0.072, med.NRMSE: 0.288\n"
     ]
    },
    {
     "name": "stderr",
     "output_type": "stream",
     "text": [
      " 12%|█▏        | 1375/11924 [10:56<1:22:33,  2.13it/s]"
     ]
    }
   ],
   "source": [
    "# Example combining 3 tumors then learn against self using an elastic net\n",
    "# TODO: Can we speed this up with some sort of multithreading or numba or does scikit learn already deal with this?\n",
    "\n",
    "z_df_3tumors =  pd.concat([a_std, b_std, c_std])\n",
    "comb_3tumors = learn_cptac.LearnCPTAC(z_df_3tumors)\n",
    "self_elastic_result = comb_3tumors.learn_all_proteins(tx_to_include=\"self\",\n",
    "                                                      train_method=\"elastic\")\n"
   ],
   "metadata": {
    "collapsed": false,
    "pycharm": {
     "name": "#%%\n",
     "is_executing": true
    }
   }
  }
 ],
 "metadata": {
  "kernelspec": {
   "display_name": "Python 3 (ipykernel)",
   "language": "python",
   "name": "python3"
  },
  "language_info": {
   "codemirror_mode": {
    "name": "ipython",
    "version": 3
   },
   "file_extension": ".py",
   "mimetype": "text/x-python",
   "name": "python",
   "nbconvert_exporter": "python",
   "pygments_lexer": "ipython3",
   "version": "3.9.5"
  }
 },
 "nbformat": 4,
 "nbformat_minor": 1
}
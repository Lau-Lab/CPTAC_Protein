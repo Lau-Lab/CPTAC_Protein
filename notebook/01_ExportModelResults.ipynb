{
 "cells": [
  {
   "cell_type": "markdown",
   "metadata": {
    "collapsed": true,
    "pycharm": {
     "name": "#%% md\n"
    }
   },
   "source": [
    "This file plots out the results from Snakefile Run 2\n",
    "(samples 8; methods: linreg, boosting, elastic, forest;\n",
    "features: single, forest, string, string_hi, all)\n",
    "\n",
    "Note the boosting had larger steps 0.1 and fewer n_estimators (200).\n",
    "There are fewer alpha hyperparameter values to optimize for in ElasticNetCV\n",
    "The results are output in a dictionary (model, metrics)"
   ]
  },
  {
   "cell_type": "code",
   "execution_count": 4,
   "outputs": [],
   "source": [
    "data_dir = '/Volumes/Ginkgo_Data/Data/2021-11_CPTACTrainedModels/out3'\n",
    "out_dir = '01_ExportModelResults_Output/out3'\n",
    "# out2 was the previous result that had duplicated tumor set 4 and did not ensure log read expression in all tables"
   ],
   "metadata": {
    "collapsed": false,
    "pycharm": {
     "name": "#%% Specify data directory\n"
    }
   }
  },
  {
   "cell_type": "code",
   "execution_count": 2,
   "outputs": [],
   "source": [
    "import pickle\n",
    "import os\n",
    "import pandas as pd\n",
    "import numpy as np\n",
    "import matplotlib.pyplot as plt\n",
    "import seaborn as sns\n",
    "from predict_protein import download_cptac, select_features, train_model\n",
    "from predict_protein import utils\n",
    "\n",
    "get_dataframe = utils.get_dataframe\n",
    "\n",
    "def get_median_corr(path):\n",
    "    return np.median(get_dataframe(path)['corr_test'])\n",
    "\n",
    "def plot_corr(path):\n",
    "\n",
    "    res = get_dataframe(path)\n",
    "\n",
    "    res['id'] = res.index\n",
    "    df_ = pd.wide_to_long(res, ['corr'], i='id', j='set', sep='_', suffix=r'\\w+')\n",
    "\n",
    "    df_g = df_.groupby('set')['corr'].agg(['mean', 'median'])\n",
    "\n",
    "    g = sns.displot(\n",
    "        data=df_, x='corr',\n",
    "        col='set',\n",
    "        facet_kws=dict(sharey=False, sharex=False)\n",
    "    )\n",
    "\n",
    "    # extract and flatten the axes from the figure\n",
    "    axes = g.axes.flatten()\n",
    "\n",
    "    # iterate through each axes\n",
    "    for ax in axes:\n",
    "\n",
    "        spec = ax.get_title().split(' = ')[1]\n",
    "        data = df_g.loc[spec, :]\n",
    "\n",
    "        ax.text(x=data['median'], y=2, s='median: ' + str(np.round(data['median'], 3)))\n",
    "        # plot the lines\n",
    "        ax.axvline(x=data['median'], c='orange', ls='--', lw=2.5)\n",
    "\n",
    "    g.savefig(os.path.splitext(path)[0] + '.pdf')\n",
    "\n",
    "    return g\n"
   ],
   "metadata": {
    "collapsed": false,
    "pycharm": {
     "name": "#%% Imports and functions\n"
    }
   }
  },
  {
   "cell_type": "code",
   "execution_count": 3,
   "outputs": [],
   "source": [
    "# Note this is not run currently since I decided to plot figures in R\n",
    "\n",
    "# for tumor in ['tumor2', 'tumor8']:\n",
    "#     for method in ['forest', 'elastic', 'linreg']:\n",
    "#         for feature in ['single', 'corum', 'string', 'stringhi', 'all']:\n",
    "#             fname =  f'{tumor}_{method}_{feature}'\n",
    "#             plot_corr(os.path.join(data_dir, f'{fname}.p'))"
   ],
   "metadata": {
    "collapsed": false,
    "pycharm": {
     "name": "#%% This plots a histogram of the train and test set correlation within a particular methods\n"
    }
   }
  },
  {
   "cell_type": "code",
   "execution_count": 5,
   "outputs": [],
   "source": [
    "for tumor in ['tumor8',]:\n",
    "    for method in ['linreg', 'elastic', 'forest']:\n",
    "        for feature in ['single', 'corum', 'string', 'stringhi', 'all']:\n",
    "            fname =  f'{tumor}_{method}_{feature}'\n",
    "            if os.path.exists(os.path.join(data_dir, f'{fname}.p')) and \\\n",
    "                    not os.path.exists(f'{out_dir}/01_ExportModelResults_{tumor}_{method}_{feature}.csv'):\n",
    "                genewise_result = get_dataframe(os.path.join(data_dir, f'{fname}.p'))\n",
    "                genewise_result.to_csv(f'{out_dir}/01_ExportModelResults_{tumor}_{method}_{feature}.csv')\n"
   ],
   "metadata": {
    "collapsed": false,
    "pycharm": {
     "name": "#%% This outputs the genewise result file for each method/feature/data set\n"
    }
   }
  },
  {
   "cell_type": "code",
   "execution_count": 7,
   "outputs": [],
   "source": [
    "\n",
    "for tumor in ['tumor2', 'tumor3', 'tumor4', 'tumor5', 'tumor6', 'tumor7', 'tumor8',]:\n",
    "    for method in ['forest', 'elastic', 'linreg', 'boosting']:\n",
    "        for feature in ['single', 'corum', 'string', 'stringhi', 'all']:\n",
    "            fname =  f'{tumor}_{method}_{feature}'\n",
    "            if not os.path.exists(os.path.join(data_dir, f'{fname}_metrics.csv')):\n",
    "                if os.path.exists(os.path.join(data_dir, f'{fname}.p')):\n",
    "                    df__ = get_dataframe(os.path.join(data_dir, f'{fname}.p'))\n",
    "                    df2 = df__.describe().copy()\n",
    "                    df2['tumor'] = tumor\n",
    "                    df2['method'] = method\n",
    "                    df2['feature'] = feature\n",
    "                    df2['measure'] = df2.index\n",
    "                    df2.to_csv(os.path.join(data_dir, f'{fname}_metrics.csv'))\n"
   ],
   "metadata": {
    "collapsed": false,
    "pycharm": {
     "name": "#%% Save a summary of the runs into csv files\n"
    }
   }
  },
  {
   "cell_type": "code",
   "execution_count": 8,
   "outputs": [],
   "source": [
    "all_metrics = []\n",
    "\n",
    "for tumor in [ 'tumor2', 'tumor3', 'tumor4', 'tumor5', 'tumor6', 'tumor7', 'tumor8', ]:\n",
    "    for method in ['forest', 'elastic', 'linreg', 'boosting']:\n",
    "        for feature in ['single', 'corum', 'string', 'stringhi', 'all']:\n",
    "            fname =  f'{tumor}_{method}_{feature}'\n",
    "            if os.path.exists(os.path.join(data_dir, f'{fname}_metrics.csv')):\n",
    "                read_df = pd.read_csv(os.path.join(data_dir, f'{fname}_metrics.csv'))\n",
    "                all_metrics.append(read_df)\n",
    "\n",
    "metrics_df = pd.concat(all_metrics, ignore_index=True)\n",
    "metrics_df.to_csv(os.path.join('01_ExportModelResults_metrics_out3.csv'))"
   ],
   "metadata": {
    "collapsed": false,
    "pycharm": {
     "name": "#%% Read the csv files and combine\n"
    }
   }
  },
  {
   "cell_type": "code",
   "execution_count": null,
   "outputs": [],
   "source": [
    "metrics_df\n",
    "medians = metrics_df[metrics_df['measure'] == '50%'].copy()\n",
    "medians2 = pd.wide_to_long(medians, 'corr', i=['tumor', 'method', 'feature'], j='set', sep='_', suffix='\\\\w+')\n",
    "\n",
    "g = sns.relplot(data=medians2,\n",
    "                x='tumor',\n",
    "                y='corr',\n",
    "                col='method',\n",
    "                col_wrap=3,\n",
    "                palette='viridis',\n",
    "                hue='feature',\n",
    "                style='set',\n",
    "                kind='line',\n",
    "                marker='o',\n",
    "                )\n",
    "g.set(ylim=(0, 1))\n",
    "g.savefig('Metrics.png')"
   ],
   "metadata": {
    "collapsed": false,
    "pycharm": {
     "name": "#%% Plot out metrics\n"
    }
   }
  }
 ],
 "metadata": {
  "kernelspec": {
   "display_name": "Python 3",
   "language": "python",
   "name": "python3"
  },
  "language_info": {
   "codemirror_mode": {
    "name": "ipython",
    "version": 2
   },
   "file_extension": ".py",
   "mimetype": "text/x-python",
   "name": "python",
   "nbconvert_exporter": "python",
   "pygments_lexer": "ipython2",
   "version": "2.7.6"
  }
 },
 "nbformat": 4,
 "nbformat_minor": 0
}
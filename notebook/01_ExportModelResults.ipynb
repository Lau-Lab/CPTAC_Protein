{
 "cells": [
  {
   "cell_type": "markdown",
   "metadata": {
    "collapsed": true,
    "pycharm": {
     "name": "#%% md\n"
    }
   },
   "source": [
    "This file plots out the results from Snakefile Run 2\n",
    "(samples 8; methods: linreg, boosting, elastic, forest;\n",
    "features: single, forest, string, string_hi, all)\n",
    "\n",
    "Note the boosting had larger steps 0.1 and fewer n_estimators (200).\n",
    "There are fewer alpha hyperparameter values to optimize for in ElasticNetCV\n",
    "The results are output in a dictionary (model, metrics)"
   ]
  },
  {
   "cell_type": "code",
   "execution_count": 1,
   "outputs": [],
   "source": [
    "data_dir = '/Volumes/Ginkgo_Data/Data/2021-11_CPTACTrainedModels/out3'\n",
    "out_dir = '01_ExportModelResults_Output/out3'\n",
    "# out2 was the previous result that had duplicated tumor set 4 and did not ensure log read expression in all tables"
   ],
   "metadata": {
    "collapsed": false,
    "pycharm": {
     "name": "#%% Specify data directory\n"
    }
   }
  },
  {
   "cell_type": "code",
   "execution_count": 2,
   "outputs": [],
   "source": [
    "import pickle\n",
    "import os\n",
    "import pandas as pd\n",
    "import numpy as np\n",
    "import matplotlib.pyplot as plt\n",
    "import seaborn as sns\n",
    "from predict_protein import download_cptac, select_features, train_model\n",
    "from predict_protein import utils\n",
    "\n",
    "get_dataframe = utils.get_dataframe\n",
    "\n",
    "def get_median_corr(path):\n",
    "    return np.median(get_dataframe(path)['corr_test'])\n",
    "\n",
    "def plot_corr(path):\n",
    "\n",
    "    res = get_dataframe(path)\n",
    "\n",
    "    res['id'] = res.index\n",
    "    df_ = pd.wide_to_long(res, ['corr'], i='id', j='set', sep='_', suffix=r'\\w+')\n",
    "\n",
    "    df_g = df_.groupby('set')['corr'].agg(['mean', 'median'])\n",
    "\n",
    "    g = sns.displot(\n",
    "        data=df_, x='corr',\n",
    "        col='set',\n",
    "        facet_kws=dict(sharey=False, sharex=False)\n",
    "    )\n",
    "\n",
    "    # extract and flatten the axes from the figure\n",
    "    axes = g.axes.flatten()\n",
    "\n",
    "    # iterate through each axes\n",
    "    for ax in axes:\n",
    "\n",
    "        spec = ax.get_title().split(' = ')[1]\n",
    "        data = df_g.loc[spec, :]\n",
    "\n",
    "        ax.text(x=data['median'], y=2, s='median: ' + str(np.round(data['median'], 3)))\n",
    "        # plot the lines\n",
    "        ax.axvline(x=data['median'], c='orange', ls='--', lw=2.5)\n",
    "\n",
    "    g.savefig(os.path.splitext(path)[0] + '.pdf')\n",
    "\n",
    "    return g\n"
   ],
   "metadata": {
    "collapsed": false,
    "pycharm": {
     "name": "#%% Imports and functions\n"
    }
   }
  },
  {
   "cell_type": "code",
   "execution_count": 3,
   "outputs": [],
   "source": [
    "# Note this is not run currently since I decided to plot figures in R\n",
    "\n",
    "# for tumor in ['tumor2', 'tumor8']:\n",
    "#     for method in ['forest', 'elastic', 'linreg']:\n",
    "#         for feature in ['single', 'corum', 'string', 'stringhi', 'all']:\n",
    "#             fname =  f'{tumor}_{method}_{feature}'\n",
    "#             plot_corr(os.path.join(data_dir, f'{fname}.p'))"
   ],
   "metadata": {
    "collapsed": false,
    "pycharm": {
     "name": "#%% This plots a histogram of the train and test set correlation within a particular methods\n"
    }
   }
  },
  {
   "cell_type": "code",
   "execution_count": 3,
   "outputs": [],
   "source": [
    "for tumor in ['tumor2', 'tumor3', 'tumor4', 'tumor5', 'tumor6', 'tumor7', 'tumor8',]:\n",
    "    for method in ['forest', 'elastic', 'linreg', 'boosting']:\n",
    "        for feature in ['single', 'corum', 'string', 'stringhi', 'all']:\n",
    "            fname =  f'{tumor}_{method}_{feature}'\n",
    "            if os.path.exists(os.path.join(data_dir, f'{fname}.p')) and \\\n",
    "                    not os.path.exists(f'{out_dir}/01_ExportModelResults_{tumor}_{method}_{feature}.csv'):\n",
    "                genewise_result = get_dataframe(os.path.join(data_dir, f'{fname}.p'))\n",
    "                genewise_result.to_csv(f'{out_dir}/01_ExportModelResults_{tumor}_{method}_{feature}.csv')"
   ],
   "metadata": {
    "collapsed": false,
    "pycharm": {
     "name": "#%% This outputs the genewise result file for each method/feature/data set\n"
    }
   }
  },
  {
   "cell_type": "code",
   "execution_count": 3,
   "outputs": [],
   "source": [
    "\n",
    "for tumor in ['tumor2', 'tumor3', 'tumor4', 'tumor5', 'tumor6', 'tumor7', 'tumor8',]:\n",
    "    for method in ['forest', 'elastic', 'linreg', 'boosting']:\n",
    "        for feature in ['single', 'corum', 'string', 'stringhi', 'all']:\n",
    "            fname =  f'{tumor}_{method}_{feature}'\n",
    "            if not os.path.exists(os.path.join(data_dir, f'{fname}_metrics.csv')):\n",
    "                if os.path.exists(os.path.join(data_dir, f'{fname}.p')):\n",
    "                    df__ = get_dataframe(os.path.join(data_dir, f'{fname}.p'))\n",
    "                    df2 = df__.describe().copy()\n",
    "                    df2['tumor'] = tumor\n",
    "                    df2['method'] = method\n",
    "                    df2['feature'] = feature\n",
    "                    df2['measure'] = df2.index\n",
    "                    df2.to_csv(os.path.join(data_dir, f'{fname}_metrics.csv'))\n"
   ],
   "metadata": {
    "collapsed": false,
    "pycharm": {
     "name": "#%% Save a summary of the runs into csv files\n"
    }
   }
  },
  {
   "cell_type": "code",
   "execution_count": 4,
   "outputs": [],
   "source": [
    "all_metrics = []\n",
    "\n",
    "for tumor in [ 'tumor2', 'tumor3', 'tumor4', 'tumor5', 'tumor6', 'tumor7', 'tumor8', ]:\n",
    "    for method in ['forest', 'elastic', 'linreg', 'boosting']:\n",
    "        for feature in ['single', 'corum', 'string', 'stringhi', 'all']:\n",
    "            fname =  f'{tumor}_{method}_{feature}'\n",
    "            if os.path.exists(os.path.join(data_dir, f'{fname}_metrics.csv')):\n",
    "                read_df = pd.read_csv(os.path.join(data_dir, f'{fname}_metrics.csv'))\n",
    "                all_metrics.append(read_df)\n",
    "\n",
    "metrics_df = pd.concat(all_metrics, ignore_index=True)\n",
    "metrics_df.to_csv(os.path.join('01_ExportModelResults_metrics_out3.csv'))"
   ],
   "metadata": {
    "collapsed": false,
    "pycharm": {
     "name": "#%% Read the csv files and combine\n"
    }
   }
  },
  {
   "cell_type": "code",
   "execution_count": null,
   "outputs": [],
   "source": [
    "metrics_df\n",
    "medians = metrics_df[metrics_df['measure'] == '50%'].copy()\n",
    "medians2 = pd.wide_to_long(medians, 'corr', i=['tumor', 'method', 'feature'], j='set', sep='_', suffix='\\\\w+')\n",
    "\n",
    "g = sns.relplot(data=medians2,\n",
    "                x='tumor',\n",
    "                y='corr',\n",
    "                col='method',\n",
    "                col_wrap=3,\n",
    "                palette='viridis',\n",
    "                hue='feature',\n",
    "                style='set',\n",
    "                kind='line',\n",
    "                marker='o',\n",
    "                )\n",
    "g.set(ylim=(0, 1))\n",
    "g.savefig('Metrics.png')"
   ],
   "metadata": {
    "collapsed": false,
    "pycharm": {
     "name": "#%% Plot out metrics\n"
    }
   }
  },
  {
   "cell_type": "code",
   "execution_count": 1,
   "outputs": [
    {
     "name": "stdout",
     "output_type": "stream",
     "text": [
      "Checking that endometrial index is up-to-date...\r"
     ]
    },
    {
     "name": "stderr",
     "output_type": "stream",
     "text": [
      "cptac warning: Your version of cptac (1.1.0) is out-of-date. Latest is 1.1.2. Please run 'pip install --upgrade cptac' to update it. (/usr/local/Cellar/python@3.9/3.9.7_1/Frameworks/Python.framework/Versions/3.9/lib/python3.9/threading.py, line 910)\n"
     ]
    },
    {
     "name": "stdout",
     "output_type": "stream",
     "text": [
      "Formatting dataframes...\r      -to-date...\r.\r   Loading endometrial v2.1.1...Loading endometrial v2.1.1.......Loading endometrial v2.1.1.........Loading endometrial v2.1.1............                                                                    Loading ovarian v0.0.1...Loading ovarian v0.0.1......Loading ovarian v0.0.1........                                                                  Loading colon v0.0.1....Loading colon v0.0.1......Loading colon v0.0.1........Loading colon v0.0.1...........                        \r"
     ]
    },
    {
     "name": "stderr",
     "output_type": "stream",
     "text": [
      "cptac warning: proteomics data was not found for the following samples, so proteomics data columns were filled with NaN for these samples: 01CO001, 05CO005, 05CO007, 05CO014, 05CO055, 11CO059, 11CO060, 14CO002, 16CO012, 24CO005 (/var/folders/7c/l09scrbj6bdgsg118sgq25wm0000gn/T/ipykernel_82809/169671685.py, line 14)\n",
      "cptac warning: transcriptomics data was not found for the following samples, so transcriptomics data columns were filled with NaN for these samples: 01CO001.N, 01CO005.N, 01CO006.N, 01CO008.N, 01CO013.N, 01CO014.N, 01CO015.N, 01CO019.N, 01CO022.N, 05CO002.N, 05CO003.N, 05CO006.N, 05CO007.N, 05CO011.N, 05CO015.N, 05CO020.N, 05CO026.N, 05CO028.N, 05CO029.N, 05CO032.N, 05CO033.N, 05CO034.N, 05CO035.N, 05CO037.N, 05CO039.N, 05CO041.N, 05CO044.N, 05CO045.N, 05CO047.N, 05CO048.N, 05CO049.N, 05CO050.N, 05CO053.N, 05CO054.N, 06CO001.N, 06CO002.N, 09CO005.N, 09CO006.N, 09CO008.N, 09CO011.N, 09CO013.N, 09CO014.N, 09CO015.N, 09CO018.N, 09CO019.N, 09CO022.N, 11CO005.N, 11CO007.N, 11CO008.N, 11CO010.N, 11CO018.N, 11CO019.N, 11CO020.N, 11CO021.N, 11CO022.N, 11CO027.N, 11CO030.N, 11CO031.N, 11CO032.N, 11CO033.N, 11CO036.N, 11CO037.N, 11CO039.N, 11CO042.N, 11CO043.N, 11CO044.N, 11CO045.N, 11CO047.N, 11CO048.N, 11CO051.N, 11CO052.N, 11CO053.N, 11CO054.N, 11CO057.N, 11CO058.N, 11CO060.N, 11CO061.N, 11CO062.N, 11CO070.N, 11CO072.N, 11CO077.N, 11CO079.N, 14CO002.N, 14CO005.N, 15CO001.N, 15CO002.N, 16CO002.N, 16CO003.N, 16CO006.N, 16CO011.N, 20CO001.N, 20CO003.N, 20CO004.N, 20CO006, 20CO006.N, 20CO007.N, 21CO006.N, 21CO007.N, 22CO004.N, 22CO006.N, 27CO004.N (/var/folders/7c/l09scrbj6bdgsg118sgq25wm0000gn/T/ipykernel_82809/169671685.py, line 14)\n"
     ]
    }
   ],
   "source": [
    "\n",
    "import cptac\n",
    "import numpy as np\n",
    "from sklearn.preprocessing import StandardScaler, RobustScaler\n",
    "\n",
    "cptac.download(dataset=\"colon\")\n",
    "\n",
    "# %%\n",
    "en = cptac.Endometrial()\n",
    "ov = cptac.Ovarian()\n",
    "co = cptac.Colon()\n",
    "\n",
    "co_rna = co.get_transcriptomics()\n",
    "co_pro = co.get_proteomics()\n",
    "c = co.join_omics_to_omics('transcriptomics', 'proteomics')\n",
    "\n",
    "c_std = c.copy()\n",
    "c_tx_cols = [col for col in c_std.columns if col.endswith('transcriptomics')]\n",
    "c_std[c_tx_cols] = RobustScaler().fit_transform(c_std[c_tx_cols])\n",
    "c_std.index = 'CO' + c_std.index"
   ],
   "metadata": {
    "collapsed": false,
    "pycharm": {
     "name": "#%% Histogram\n"
    }
   }
  },
  {
   "cell_type": "code",
   "execution_count": 5,
   "outputs": [
    {
     "data": {
      "text/plain": "<AxesSubplot:>"
     },
     "execution_count": 5,
     "metadata": {},
     "output_type": "execute_result"
    },
    {
     "data": {
      "text/plain": "<Figure size 432x288 with 1 Axes>",
      "image/png": "[encoded data removed]"
     },
     "metadata": {
      "needs_background": "light"
     },
     "output_type": "display_data"
    }
   ],
   "source": [
    "c_std.GAPDH_proteomics.hist()"
   ],
   "metadata": {
    "collapsed": false,
    "pycharm": {
     "name": "#%%\n"
    }
   }
  },
  {
   "cell_type": "code",
   "execution_count": 6,
   "outputs": [
    {
     "name": "stdout",
     "output_type": "stream",
     "text": [
      "Formatting dataframes...\r.......\r       Loading gbm v3.0..Loading gbm v3.0.........Loading gbm v3.0...........Loading gbm v3.0...............                                                        \r"
     ]
    },
    {
     "name": "stderr",
     "output_type": "stream",
     "text": [
      "cptac warning: transcriptomics data was not found for the following samples, so transcriptomics data columns were filled with NaN for these samples: PT-Q2AG.N (/var/folders/7c/l09scrbj6bdgsg118sgq25wm0000gn/T/ipykernel_82809/2401899546.py, line 5)\n",
      "/Applications/venv/CPTAC_Protein/lib/python3.9/site-packages/numpy/lib/nanfunctions.py:1119: RuntimeWarning: All-NaN slice encountered\n",
      "  r, k = function_base._ureduce(a, func=_nanmedian, axis=axis, out=out,\n",
      "/Applications/venv/CPTAC_Protein/lib/python3.9/site-packages/numpy/lib/nanfunctions.py:1374: RuntimeWarning: All-NaN slice encountered\n",
      "  r, k = function_base._ureduce(\n"
     ]
    },
    {
     "data": {
      "text/plain": "<AxesSubplot:>"
     },
     "execution_count": 6,
     "metadata": {},
     "output_type": "execute_result"
    },
    {
     "data": {
      "text/plain": "<Figure size 432x288 with 1 Axes>",
      "image/png": "[encoded data removed]"
     },
     "metadata": {
      "needs_background": "light"
     },
     "output_type": "display_data"
    }
   ],
   "source": [
    "cptac.download(dataset=\"gbm\")\n",
    "gb = cptac.Gbm()\n",
    "gb_rna = gb.get_transcriptomics()\n",
    "gb_pro = gb.get_proteomics()\n",
    "g = gb.join_omics_to_omics('transcriptomics', 'proteomics')\n",
    "g.columns = g.columns.droplevel(1)\n",
    "g_std = g.copy()\n",
    "g_std = g_std.loc[:, ~g_std.columns.duplicated(keep='first')]\n",
    "g_tx_cols = [col for col in g_std.columns if col.endswith('transcriptomics')]\n",
    "g_std[g_tx_cols] = np.log2(g_std[g_tx_cols])\n",
    "g_std[np.isinf(g_std)] = np.nan\n",
    "g_std[g_tx_cols] = RobustScaler().fit_transform(g_std[g_tx_cols])\n",
    "g_std.index = 'GB' + g_std.index"
   ],
   "metadata": {
    "collapsed": false,
    "pycharm": {
     "name": "#%%\n"
    }
   }
  },
  {
   "cell_type": "code",
   "execution_count": 8,
   "outputs": [
    {
     "data": {
      "text/plain": "<AxesSubplot:>"
     },
     "execution_count": 8,
     "metadata": {},
     "output_type": "execute_result"
    },
    {
     "data": {
      "text/plain": "<Figure size 432x288 with 1 Axes>",
      "image/png": "[encoded data removed]"
     },
     "metadata": {
      "needs_background": "light"
     },
     "output_type": "display_data"
    }
   ],
   "source": [
    "g.GAPDH_proteomics.hist()"
   ],
   "metadata": {
    "collapsed": false,
    "pycharm": {
     "name": "#%%\n"
    }
   }
  },
  {
   "cell_type": "code",
   "execution_count": 10,
   "outputs": [
    {
     "data": {
      "text/plain": "Patient_ID\nGBC3L-00104   -0.093902\nGBC3L-00365   -0.119562\nGBC3L-00674    0.074807\nGBC3L-00677   -0.714060\nGBC3L-01040   -0.114742\n                 ...   \nGBPT-RN5K.N    0.351135\nGBPT-RU72.N    0.370103\nGBPT-UTHO.N    0.257347\nGBPT-WVLH.N    0.209840\nGBPT-Y8DK.N    0.082089\nName: GAPDH_proteomics, Length: 109, dtype: float64"
     },
     "execution_count": 10,
     "metadata": {},
     "output_type": "execute_result"
    },
    {
     "data": {
      "text/plain": "<Figure size 432x288 with 1 Axes>",
      "image/png": "[encoded data removed]"
     },
     "metadata": {
      "needs_background": "light"
     },
     "output_type": "display_data"
    }
   ],
   "source": [
    "g_std.GAPDH_proteomics.hist()\n",
    "g_std.GAPDH_proteomics"
   ],
   "metadata": {
    "collapsed": false,
    "pycharm": {
     "name": "#%%\n"
    }
   }
  }
 ],
 "metadata": {
  "kernelspec": {
   "display_name": "Python 3",
   "language": "python",
   "name": "python3"
  },
  "language_info": {
   "codemirror_mode": {
    "name": "ipython",
    "version": 2
   },
   "file_extension": ".py",
   "mimetype": "text/x-python",
   "name": "python",
   "nbconvert_exporter": "python",
   "pygments_lexer": "ipython2",
   "version": "2.7.6"
  }
 },
 "nbformat": 4,
 "nbformat_minor": 0
}
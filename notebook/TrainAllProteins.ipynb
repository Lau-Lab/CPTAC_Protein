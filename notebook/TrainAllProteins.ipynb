{
 "cells": [
  {
   "cell_type": "code",
   "execution_count": 1,
   "metadata": {
    "collapsed": true
   },
   "outputs": [],
   "source": [
    "\n",
    "import pandas as pd\n",
    "from predict_protein import download_cptac, select_features, train_model"
   ]
  },
  {
   "cell_type": "code",
   "execution_count": 2,
   "outputs": [
    {
     "name": "stdout",
     "output_type": "stream",
     "text": [
      "Checking that hnscc index is up-to-date...\r.\r...\r                                                                                                                                                                                                                                                                                                                                                                                            Loading endometrial v2.1.1....Loading endometrial v2.1.1.......Loading endometrial v2.1.1.........Loading endometrial v2.1.1............                                                                    Loading ovarian v0.0.1...Loading ovarian v0.0.1......Loading ovarian v0.0.1........                                                                  Loading colon v0.0.1....Loading colon v0.0.1......Loading colon v0.0.1........Loading colon v0.0.1...........                                                                 Loading brca v5.4..Loading brca v5.4....Loading brca v5.4......                                                                 Loading luad v3.1.1...Loading luad v3.1.1.....Loading luad v3.1.1.......Loading luad v3.1.1.........Loading luad v3.1.1...........                                                                  Loading ccrcc v0.1.1..Loading ccrcc v0.1.1....Loading ccrcc v0.1.1......Loading ccrcc v0.1.1..........Loading ccrcc v0.1.1............                                                                Loading gbm v3.0..Loading gbm v3.0.........Loading gbm v3.0...........Loading gbm v3.0...............                                                                                                 Loading lscc v3.3..Loading lscc v3.3....Loading lscc v3.3......Loading lscc v3.3.........Loading lscc v3.3...........                                                     "
     ]
    },
    {
     "name": "stderr",
     "output_type": "stream",
     "text": [
      "cptac warning: The LSCC data is currently strictly reserved for CPTAC investigators. Otherwise, you are not authorized to access these data. Additionally, even after these data become publicly available, they will be subject to a publication embargo (see https://proteomics.cancer.gov/data-portal/about/data-use-agreement or enter cptac.embargo() to open the webpage for more details). (/Users/edwardlau/PythonProjects/CPTAC_Protein/predict_protein/download_cptac.py, line 31)\n"
     ]
    },
    {
     "name": "stdout",
     "output_type": "stream",
     "text": [
      "Formatting dataframes...\r..\r              Loading hnscc v2.0......Loading hnscc v2.0........                                                   \r"
     ]
    },
    {
     "name": "stderr",
     "output_type": "stream",
     "text": [
      "cptac warning: transcriptomics data was not found for the following samples, so transcriptomics data columns were filled with NaN for these samples: C3L-00563.N, C3L-00605.N, C3L-00769.N, C3L-00770.N, C3L-00771.N, C3L-00930.N, C3L-00947.N, C3L-00963.N, C3L-01246.N, C3L-01249.N, C3L-01252.N, C3L-01256.N, C3L-01257.N, C3L-01744.N, C3N-00200.N, C3N-00729.N, C3N-01211.N, NX1.N, NX10.N, NX11.N, NX12.N, NX13.N, NX14.N, NX15.N, NX16.N, NX17.N, NX18.N, NX2.N, NX3.N, NX4.N, NX5.N, NX6.N, NX7.N, NX8.N, NX9.N (/Users/edwardlau/PythonProjects/CPTAC_Protein/predict_protein/download_cptac.py, line 37)\n",
      "cptac warning: proteomics data was not found for the following samples, so proteomics data columns were filled with NaN for these samples: 01OV002, 01OV008, 01OV010, 01OV013, 01OV019, 01OV045, 01OV046, 01OV049, 02OV035, 02OV040, 02OV042, 02OV045, 04OV041, 11OV009, 13OV004, 17OV019, 17OV034, 22OV001, 26OV010 (/Users/edwardlau/PythonProjects/CPTAC_Protein/predict_protein/download_cptac.py, line 41)\n",
      "cptac warning: transcriptomics data was not found for the following samples, so transcriptomics data columns were filled with NaN for these samples: 01OV007.N, 01OV008.N, 01OV010.N, 01OV013.N, 01OV017.N, 01OV019.N, 01OV023.N, 01OV029, 01OV029.N, 01OV039.N, 02OV001.N, 11OV002.N, 11OV010.N, 14OV011.N, 14OV029.N, 15OV001.N, 17OV001.N, 17OV002.N, 17OV003.N, 17OV004.N, 17OV005.N (/Users/edwardlau/PythonProjects/CPTAC_Protein/predict_protein/download_cptac.py, line 41)\n",
      "cptac warning: proteomics data was not found for the following samples, so proteomics data columns were filled with NaN for these samples: 01CO001, 05CO005, 05CO007, 05CO014, 05CO055, 11CO059, 11CO060, 14CO002, 16CO012, 24CO005 (/Users/edwardlau/PythonProjects/CPTAC_Protein/predict_protein/download_cptac.py, line 46)\n",
      "cptac warning: transcriptomics data was not found for the following samples, so transcriptomics data columns were filled with NaN for these samples: 01CO001.N, 01CO005.N, 01CO006.N, 01CO008.N, 01CO013.N, 01CO014.N, 01CO015.N, 01CO019.N, 01CO022.N, 05CO002.N, 05CO003.N, 05CO006.N, 05CO007.N, 05CO011.N, 05CO015.N, 05CO020.N, 05CO026.N, 05CO028.N, 05CO029.N, 05CO032.N, 05CO033.N, 05CO034.N, 05CO035.N, 05CO037.N, 05CO039.N, 05CO041.N, 05CO044.N, 05CO045.N, 05CO047.N, 05CO048.N, 05CO049.N, 05CO050.N, 05CO053.N, 05CO054.N, 06CO001.N, 06CO002.N, 09CO005.N, 09CO006.N, 09CO008.N, 09CO011.N, 09CO013.N, 09CO014.N, 09CO015.N, 09CO018.N, 09CO019.N, 09CO022.N, 11CO005.N, 11CO007.N, 11CO008.N, 11CO010.N, 11CO018.N, 11CO019.N, 11CO020.N, 11CO021.N, 11CO022.N, 11CO027.N, 11CO030.N, 11CO031.N, 11CO032.N, 11CO033.N, 11CO036.N, 11CO037.N, 11CO039.N, 11CO042.N, 11CO043.N, 11CO044.N, 11CO045.N, 11CO047.N, 11CO048.N, 11CO051.N, 11CO052.N, 11CO053.N, 11CO054.N, 11CO057.N, 11CO058.N, 11CO060.N, 11CO061.N, 11CO062.N, 11CO070.N, 11CO072.N, 11CO077.N, 11CO079.N, 14CO002.N, 14CO005.N, 15CO001.N, 15CO002.N, 16CO002.N, 16CO003.N, 16CO006.N, 16CO011.N, 20CO001.N, 20CO003.N, 20CO004.N, 20CO006, 20CO006.N, 20CO007.N, 21CO006.N, 21CO007.N, 22CO004.N, 22CO006.N, 27CO004.N (/Users/edwardlau/PythonProjects/CPTAC_Protein/predict_protein/download_cptac.py, line 46)\n",
      "cptac warning: transcriptomics data was not found for the following samples, so transcriptomics data columns were filled with NaN for these samples: C3L-00183.N, C3L-00791.N, C3N-00246.N, C3N-00312.N, C3N-00317.N, C3N-00320.N, C3N-00437.N, C3N-00492.N, C3N-00953.N (/Users/edwardlau/PythonProjects/CPTAC_Protein/predict_protein/download_cptac.py, line 60)\n",
      "cptac warning: transcriptomics data was not found for the following samples, so transcriptomics data columns were filled with NaN for these samples: PT-Q2AG.N (/Users/edwardlau/PythonProjects/CPTAC_Protein/predict_protein/download_cptac.py, line 65)\n",
      "cptac warning: transcriptomics data was not found for the following samples, so transcriptomics data columns were filled with NaN for these samples: C3L-02646.N, C3N-03072.N, C3N-03662.N, C3N-03886.N, C3N-04155.N (/Users/edwardlau/PythonProjects/CPTAC_Protein/predict_protein/download_cptac.py, line 70)\n",
      "cptac warning: proteomics data was not found for the following samples, so proteomics data columns were filled with NaN for these samples: C3L-00977.N, C3L-04025.N, C3N-01948.N, C3N-02333.N, C3N-02727.N, C3N-02925.N, C3N-03226.N, C3N-03487.N, C3N-03889.N, C3N-04152.N, C3N-04611.N (/Users/edwardlau/PythonProjects/CPTAC_Protein/predict_protein/download_cptac.py, line 75)\n",
      "cptac warning: transcriptomics data was not found for the following samples, so transcriptomics data columns were filled with NaN for these samples: C3L-00994.C, C3L-02617.C, C3L-04350.C, C3L-04354.N, C3L-04844.N, C3L-05257.C, C3N-00295.N, C3N-00829.N, C3N-00857.N, C3N-01620.N, C3N-01757.C, C3N-01758.N, C3N-01858.N, C3N-01859.N, C3N-02693.N, C3N-03008.N, C3N-03011.N, C3N-03012.N, C3N-03013.N, C3N-03015.N, C3N-03042.C, C3N-03781.N, C3N-04275.N, C3N-04276.N, C3N-04277.N, C3N-04278.N, C3N-04279.N (/Users/edwardlau/PythonProjects/CPTAC_Protein/predict_protein/download_cptac.py, line 75)\n"
     ]
    }
   ],
   "source": [
    "cptac_list = download_cptac.download_cptac(n_tumors=2)"
   ],
   "metadata": {
    "collapsed": false,
    "pycharm": {
     "name": "#%%\n"
    }
   }
  },
  {
   "cell_type": "code",
   "execution_count": 3,
   "outputs": [],
   "source": [
    "tm = train_model.LearnCPTAC(pd.concat(cptac_list))"
   ],
   "metadata": {
    "collapsed": false,
    "pycharm": {
     "name": "#%%\n"
    }
   }
  },
  {
   "cell_type": "code",
   "execution_count": 4,
   "outputs": [
    {
     "name": "stderr",
     "output_type": "stream",
     "text": [
      "Running elastic model with corum transcripts:   0%|          | 0/10921 [00:00<?, ?it/s]"
     ]
    },
    {
     "name": "stdout",
     "output_type": "stream",
     "text": [
      "Doing 0: A1BG\n"
     ]
    },
    {
     "name": "stderr",
     "output_type": "stream",
     "text": [
      "Running elastic model with corum transcripts:   0%|          | 1/10921 [00:00<2:28:44,  1.22it/s]"
     ]
    },
    {
     "name": "stdout",
     "output_type": "stream",
     "text": [
      "corr: [0.43598], r2: [-0.1394]\n",
      "Doing 1: A2M\n"
     ]
    },
    {
     "name": "stderr",
     "output_type": "stream",
     "text": [
      "Running elastic model with corum transcripts:   0%|          | 2/10921 [00:01<2:23:12,  1.27it/s]"
     ]
    },
    {
     "name": "stdout",
     "output_type": "stream",
     "text": [
      "corr: [0.27055], r2: [0.03186]\n",
      "Doing 2: A2ML1\n"
     ]
    },
    {
     "name": "stderr",
     "output_type": "stream",
     "text": [
      "Running elastic model with corum transcripts:   0%|          | 3/10921 [00:02<2:04:18,  1.46it/s]"
     ]
    },
    {
     "name": "stdout",
     "output_type": "stream",
     "text": [
      "corr: [0.71566], r2: [0.01875]\n",
      "Doing 3: AAAS\n"
     ]
    },
    {
     "name": "stderr",
     "output_type": "stream",
     "text": [
      "/Applications/venv/CPTAC_Protein/lib/python3.9/site-packages/numpy/lib/function_base.py:2691: RuntimeWarning: invalid value encountered in true_divide\n",
      "  c /= stddev[:, None]\n",
      "/Applications/venv/CPTAC_Protein/lib/python3.9/site-packages/numpy/lib/function_base.py:2692: RuntimeWarning: invalid value encountered in true_divide\n",
      "  c /= stddev[None, :]\n",
      "Running elastic model with corum transcripts:   0%|          | 4/10921 [00:02<1:59:40,  1.52it/s]"
     ]
    },
    {
     "name": "stdout",
     "output_type": "stream",
     "text": [
      "corr: [0], r2: [-0.25265]\n",
      "Doing 4: AACS\n"
     ]
    },
    {
     "name": "stderr",
     "output_type": "stream",
     "text": [
      "Running elastic model with corum transcripts:   0%|          | 5/10921 [00:03<1:55:25,  1.58it/s]"
     ]
    },
    {
     "name": "stdout",
     "output_type": "stream",
     "text": [
      "corr: [0.44563], r2: [-0.21649]\n",
      "Doing 5: AAGAB\n"
     ]
    },
    {
     "name": "stderr",
     "output_type": "stream",
     "text": [
      "Running elastic model with corum transcripts:   0%|          | 6/10921 [00:03<1:53:19,  1.61it/s]"
     ]
    },
    {
     "name": "stdout",
     "output_type": "stream",
     "text": [
      "corr: [0.5171], r2: [0.20614]\n",
      "Doing 6: AAK1\n"
     ]
    },
    {
     "name": "stderr",
     "output_type": "stream",
     "text": [
      "Running elastic model with corum transcripts:   0%|          | 7/10921 [00:04<1:50:24,  1.65it/s]"
     ]
    },
    {
     "name": "stdout",
     "output_type": "stream",
     "text": [
      "corr: [0.45342], r2: [0.11183]\n",
      "Doing 7: AAMDC\n"
     ]
    },
    {
     "name": "stderr",
     "output_type": "stream",
     "text": [
      "Running elastic model with corum transcripts:   0%|          | 8/10921 [00:05<1:46:26,  1.71it/s]"
     ]
    },
    {
     "name": "stdout",
     "output_type": "stream",
     "text": [
      "corr: [0.2497], r2: [-0.31552]\n",
      "Doing 8: AAMP\n"
     ]
    },
    {
     "name": "stderr",
     "output_type": "stream",
     "text": [
      "Running elastic model with corum transcripts:   0%|          | 9/10921 [00:05<1:41:19,  1.79it/s]"
     ]
    },
    {
     "name": "stdout",
     "output_type": "stream",
     "text": [
      "corr: [0.38976], r2: [0.14229]\n",
      "Doing 9: AAR2\n"
     ]
    },
    {
     "name": "stderr",
     "output_type": "stream",
     "text": [
      "Running elastic model with corum transcripts:   0%|          | 10/10921 [00:06<1:43:21,  1.76it/s]"
     ]
    },
    {
     "name": "stdout",
     "output_type": "stream",
     "text": [
      "corr: [0.39648], r2: [0.02881]\n",
      "Doing 10: AARS\n"
     ]
    },
    {
     "name": "stderr",
     "output_type": "stream",
     "text": [
      "Running elastic model with corum transcripts:   0%|          | 11/10921 [00:06<1:39:21,  1.83it/s]"
     ]
    },
    {
     "name": "stdout",
     "output_type": "stream",
     "text": [
      "corr: [0.64645], r2: [0.37307]\n",
      "Doing 11: AARS2\n"
     ]
    },
    {
     "name": "stderr",
     "output_type": "stream",
     "text": [
      "Running elastic model with corum transcripts:   0%|          | 12/10921 [00:07<1:35:27,  1.90it/s]"
     ]
    },
    {
     "name": "stdout",
     "output_type": "stream",
     "text": [
      "corr: [0.31318], r2: [0.06096]\n",
      "Doing 12: AASDH\n"
     ]
    },
    {
     "name": "stderr",
     "output_type": "stream",
     "text": [
      "/Applications/venv/CPTAC_Protein/lib/python3.9/site-packages/numpy/lib/function_base.py:2691: RuntimeWarning: invalid value encountered in true_divide\n",
      "  c /= stddev[:, None]\n",
      "/Applications/venv/CPTAC_Protein/lib/python3.9/site-packages/numpy/lib/function_base.py:2692: RuntimeWarning: invalid value encountered in true_divide\n",
      "  c /= stddev[None, :]\n",
      "Running elastic model with corum transcripts:   0%|          | 13/10921 [00:07<1:31:15,  1.99it/s]"
     ]
    },
    {
     "name": "stdout",
     "output_type": "stream",
     "text": [
      "corr: [0], r2: [-1.32234]\n",
      "Doing 13: AASDHPPT\n"
     ]
    },
    {
     "name": "stderr",
     "output_type": "stream",
     "text": [
      "Running elastic model with corum transcripts:   0%|          | 14/10921 [00:08<1:28:23,  2.06it/s]"
     ]
    },
    {
     "name": "stdout",
     "output_type": "stream",
     "text": [
      "corr: [0.47457], r2: [0.15158]\n",
      "Doing 14: AASS\n"
     ]
    },
    {
     "name": "stderr",
     "output_type": "stream",
     "text": [
      "Running elastic model with corum transcripts:   0%|          | 15/10921 [00:08<1:26:58,  2.09it/s]"
     ]
    },
    {
     "name": "stdout",
     "output_type": "stream",
     "text": [
      "corr: [0.45468], r2: [0.16679]\n",
      "Doing 15: AATF\n"
     ]
    },
    {
     "name": "stderr",
     "output_type": "stream",
     "text": [
      "Running elastic model with corum transcripts:   0%|          | 16/10921 [00:08<1:26:45,  2.09it/s]"
     ]
    },
    {
     "name": "stdout",
     "output_type": "stream",
     "text": [
      "corr: [0.26286], r2: [-0.02208]\n",
      "Doing 16: ABAT\n"
     ]
    },
    {
     "name": "stderr",
     "output_type": "stream",
     "text": [
      "Running elastic model with corum transcripts:   0%|          | 17/10921 [00:09<1:29:35,  2.03it/s]"
     ]
    },
    {
     "name": "stdout",
     "output_type": "stream",
     "text": [
      "corr: [0.60805], r2: [-1.97556]\n",
      "Doing 17: ABCA1\n"
     ]
    },
    {
     "name": "stderr",
     "output_type": "stream",
     "text": [
      "Running elastic model with corum transcripts:   0%|          | 18/10921 [00:09<1:27:42,  2.07it/s]"
     ]
    },
    {
     "name": "stdout",
     "output_type": "stream",
     "text": [
      "corr: [0.41297], r2: [-0.05419]\n",
      "Doing 18: ABCA10\n"
     ]
    },
    {
     "name": "stderr",
     "output_type": "stream",
     "text": [
      "Running elastic model with corum transcripts:   0%|          | 19/10921 [00:10<1:26:35,  2.10it/s]"
     ]
    },
    {
     "name": "stdout",
     "output_type": "stream",
     "text": [
      "corr: [0], r2: [-0.00515]\n",
      "Doing 19: ABCA2\n"
     ]
    },
    {
     "name": "stderr",
     "output_type": "stream",
     "text": [
      "Running elastic model with corum transcripts:   0%|          | 20/10921 [00:10<1:25:16,  2.13it/s]"
     ]
    },
    {
     "name": "stdout",
     "output_type": "stream",
     "text": [
      "corr: [0.31444], r2: [0.02725]\n",
      "Doing 20: ABCA6\n"
     ]
    },
    {
     "name": "stderr",
     "output_type": "stream",
     "text": [
      "/Applications/venv/CPTAC_Protein/lib/python3.9/site-packages/numpy/lib/function_base.py:2691: RuntimeWarning: invalid value encountered in true_divide\n",
      "  c /= stddev[:, None]\n",
      "/Applications/venv/CPTAC_Protein/lib/python3.9/site-packages/numpy/lib/function_base.py:2692: RuntimeWarning: invalid value encountered in true_divide\n",
      "  c /= stddev[None, :]\n",
      "Running elastic model with corum transcripts:   0%|          | 21/10921 [00:11<1:24:07,  2.16it/s]"
     ]
    },
    {
     "name": "stdout",
     "output_type": "stream",
     "text": [
      "corr: [0], r2: [-0.09136]\n",
      "Doing 21: ABCA8\n"
     ]
    },
    {
     "name": "stderr",
     "output_type": "stream",
     "text": [
      "Running elastic model with corum transcripts:   0%|          | 22/10921 [00:11<1:24:06,  2.16it/s]"
     ]
    },
    {
     "name": "stdout",
     "output_type": "stream",
     "text": [
      "corr: [0.38395], r2: [0.11664]\n",
      "Doing 22: ABCA9\n"
     ]
    },
    {
     "name": "stderr",
     "output_type": "stream",
     "text": [
      "/Applications/venv/CPTAC_Protein/lib/python3.9/site-packages/numpy/lib/function_base.py:2691: RuntimeWarning: invalid value encountered in true_divide\n",
      "  c /= stddev[:, None]\n",
      "/Applications/venv/CPTAC_Protein/lib/python3.9/site-packages/numpy/lib/function_base.py:2692: RuntimeWarning: invalid value encountered in true_divide\n",
      "  c /= stddev[None, :]\n",
      "Running elastic model with corum transcripts:   0%|          | 23/10921 [00:12<1:24:18,  2.15it/s]"
     ]
    },
    {
     "name": "stdout",
     "output_type": "stream",
     "text": [
      "corr: [0], r2: [-0.02851]\n",
      "Doing 23: ABCB1\n"
     ]
    },
    {
     "name": "stderr",
     "output_type": "stream",
     "text": [
      "Running elastic model with corum transcripts:   0%|          | 24/10921 [00:12<1:29:01,  2.04it/s]"
     ]
    },
    {
     "name": "stdout",
     "output_type": "stream",
     "text": [
      "corr: [-0.27582], r2: [-0.17862]\n",
      "Doing 24: ABCB10\n"
     ]
    },
    {
     "name": "stderr",
     "output_type": "stream",
     "text": [
      "Running elastic model with corum transcripts:   0%|          | 25/10921 [00:13<1:27:39,  2.07it/s]"
     ]
    },
    {
     "name": "stdout",
     "output_type": "stream",
     "text": [
      "corr: [0.23076], r2: [0.0082]\n",
      "Doing 25: ABCB6\n"
     ]
    },
    {
     "name": "stderr",
     "output_type": "stream",
     "text": [
      "Running elastic model with corum transcripts:   0%|          | 26/10921 [00:13<1:26:37,  2.10it/s]"
     ]
    },
    {
     "name": "stdout",
     "output_type": "stream",
     "text": [
      "corr: [0.26995], r2: [-0.02377]\n",
      "Doing 26: ABCB7\n"
     ]
    },
    {
     "name": "stderr",
     "output_type": "stream",
     "text": [
      "Running elastic model with corum transcripts:   0%|          | 27/10921 [00:14<1:26:26,  2.10it/s]"
     ]
    },
    {
     "name": "stdout",
     "output_type": "stream",
     "text": [
      "corr: [0.29135], r2: [0.05513]\n",
      "Doing 27: ABCB8\n"
     ]
    },
    {
     "name": "stderr",
     "output_type": "stream",
     "text": [
      "/Applications/venv/CPTAC_Protein/lib/python3.9/site-packages/numpy/lib/function_base.py:2691: RuntimeWarning: invalid value encountered in true_divide\n",
      "  c /= stddev[:, None]\n",
      "/Applications/venv/CPTAC_Protein/lib/python3.9/site-packages/numpy/lib/function_base.py:2692: RuntimeWarning: invalid value encountered in true_divide\n",
      "  c /= stddev[None, :]\n",
      "Running elastic model with corum transcripts:   0%|          | 28/10921 [00:14<1:25:16,  2.13it/s]"
     ]
    },
    {
     "name": "stdout",
     "output_type": "stream",
     "text": [
      "corr: [0], r2: [-0.0358]\n",
      "Doing 28: ABCC1\n"
     ]
    },
    {
     "name": "stderr",
     "output_type": "stream",
     "text": [
      "Running elastic model with corum transcripts:   0%|          | 29/10921 [00:15<1:24:48,  2.14it/s]"
     ]
    },
    {
     "name": "stdout",
     "output_type": "stream",
     "text": [
      "corr: [0.30889], r2: [0.01727]\n",
      "Doing 29: ABCC10\n"
     ]
    },
    {
     "name": "stderr",
     "output_type": "stream",
     "text": [
      "Running elastic model with corum transcripts:   0%|          | 30/10921 [00:15<1:24:06,  2.16it/s]"
     ]
    },
    {
     "name": "stdout",
     "output_type": "stream",
     "text": [
      "corr: [0.20335], r2: [-0.08039]\n",
      "Doing 30: ABCC3\n"
     ]
    },
    {
     "name": "stderr",
     "output_type": "stream",
     "text": [
      "Running elastic model with corum transcripts:   0%|          | 31/10921 [00:16<1:27:14,  2.08it/s]"
     ]
    },
    {
     "name": "stdout",
     "output_type": "stream",
     "text": [
      "corr: [0.1426], r2: [0.00918]\n",
      "Doing 31: ABCC4\n"
     ]
    },
    {
     "name": "stderr",
     "output_type": "stream",
     "text": [
      "Running elastic model with corum transcripts:   0%|          | 32/10921 [00:16<1:26:01,  2.11it/s]"
     ]
    },
    {
     "name": "stdout",
     "output_type": "stream",
     "text": [
      "corr: [0.35498], r2: [-0.03926]\n",
      "Doing 32: ABCC5\n"
     ]
    },
    {
     "name": "stderr",
     "output_type": "stream",
     "text": [
      "Running elastic model with corum transcripts:   0%|          | 33/10921 [00:17<1:25:15,  2.13it/s]"
     ]
    },
    {
     "name": "stdout",
     "output_type": "stream",
     "text": [
      "corr: [0.41124], r2: [0.16224]\n",
      "Doing 33: ABCC9\n"
     ]
    },
    {
     "name": "stderr",
     "output_type": "stream",
     "text": [
      "Running elastic model with corum transcripts:   0%|          | 34/10921 [00:17<1:24:11,  2.16it/s]"
     ]
    },
    {
     "name": "stdout",
     "output_type": "stream",
     "text": [
      "corr: [-0.24123], r2: [-0.79549]\n",
      "Doing 34: ABCD1\n"
     ]
    },
    {
     "name": "stderr",
     "output_type": "stream",
     "text": [
      "Running elastic model with corum transcripts:   0%|          | 35/10921 [00:17<1:23:48,  2.16it/s]"
     ]
    },
    {
     "name": "stdout",
     "output_type": "stream",
     "text": [
      "corr: [0.4011], r2: [0.08555]\n",
      "Doing 35: ABCD3\n"
     ]
    },
    {
     "name": "stderr",
     "output_type": "stream",
     "text": [
      "Running elastic model with corum transcripts:   0%|          | 36/10921 [00:18<1:23:21,  2.18it/s]"
     ]
    },
    {
     "name": "stdout",
     "output_type": "stream",
     "text": [
      "corr: [0.04575], r2: [-0.21163]\n",
      "Doing 36: ABCD4\n"
     ]
    },
    {
     "name": "stderr",
     "output_type": "stream",
     "text": [
      "Running elastic model with corum transcripts:   0%|          | 37/10921 [00:18<1:22:52,  2.19it/s]"
     ]
    },
    {
     "name": "stdout",
     "output_type": "stream",
     "text": [
      "corr: [0.02204], r2: [-0.00077]\n",
      "Doing 37: ABCE1\n"
     ]
    },
    {
     "name": "stderr",
     "output_type": "stream",
     "text": [
      "Running elastic model with corum transcripts:   0%|          | 38/10921 [00:19<1:26:21,  2.10it/s]"
     ]
    },
    {
     "name": "stdout",
     "output_type": "stream",
     "text": [
      "corr: [0.3824], r2: [0.12686]\n",
      "Doing 38: ABCF1\n"
     ]
    },
    {
     "name": "stderr",
     "output_type": "stream",
     "text": [
      "Running elastic model with corum transcripts:   0%|          | 39/10921 [00:19<1:25:09,  2.13it/s]"
     ]
    },
    {
     "name": "stdout",
     "output_type": "stream",
     "text": [
      "corr: [0.43157], r2: [0.13891]\n",
      "Doing 39: ABCF2\n"
     ]
    },
    {
     "name": "stderr",
     "output_type": "stream",
     "text": [
      "Running elastic model with corum transcripts:   0%|          | 40/10921 [00:20<1:26:59,  2.08it/s]"
     ]
    },
    {
     "name": "stdout",
     "output_type": "stream",
     "text": [
      "corr: [0.63832], r2: [0.40146]\n",
      "Doing 40: ABCF3\n"
     ]
    },
    {
     "name": "stderr",
     "output_type": "stream",
     "text": [
      "Running elastic model with corum transcripts:   0%|          | 41/10921 [00:20<1:26:26,  2.10it/s]"
     ]
    },
    {
     "name": "stdout",
     "output_type": "stream",
     "text": [
      "corr: [0.65216], r2: [0.0988]\n",
      "Doing 41: ABHD10\n"
     ]
    },
    {
     "name": "stderr",
     "output_type": "stream",
     "text": [
      "Running elastic model with corum transcripts:   0%|          | 42/10921 [00:21<1:25:33,  2.12it/s]"
     ]
    },
    {
     "name": "stdout",
     "output_type": "stream",
     "text": [
      "corr: [0.49165], r2: [0.14373]\n",
      "Doing 42: ABHD11\n"
     ]
    },
    {
     "name": "stderr",
     "output_type": "stream",
     "text": [
      "Running elastic model with corum transcripts:   0%|          | 43/10921 [00:21<1:25:08,  2.13it/s]"
     ]
    },
    {
     "name": "stdout",
     "output_type": "stream",
     "text": [
      "corr: [0.57414], r2: [0.31881]\n",
      "Doing 43: ABHD12\n"
     ]
    },
    {
     "name": "stderr",
     "output_type": "stream",
     "text": [
      "Running elastic model with corum transcripts:   0%|          | 44/10921 [00:22<1:24:13,  2.15it/s]"
     ]
    },
    {
     "name": "stdout",
     "output_type": "stream",
     "text": [
      "corr: [0.3247], r2: [0.0094]\n",
      "Doing 44: ABHD14B\n"
     ]
    },
    {
     "name": "stderr",
     "output_type": "stream",
     "text": [
      "Running elastic model with corum transcripts:   0%|          | 45/10921 [00:22<1:27:42,  2.07it/s]"
     ]
    },
    {
     "name": "stdout",
     "output_type": "stream",
     "text": [
      "corr: [0.28402], r2: [-0.04157]\n",
      "Doing 45: ABHD16A\n"
     ]
    },
    {
     "name": "stderr",
     "output_type": "stream",
     "text": [
      "Running elastic model with corum transcripts:   0%|          | 46/10921 [00:23<1:26:07,  2.10it/s]"
     ]
    },
    {
     "name": "stdout",
     "output_type": "stream",
     "text": [
      "corr: [0.27471], r2: [0.00701]\n",
      "Doing 46: ABHD17A\n"
     ]
    },
    {
     "name": "stderr",
     "output_type": "stream",
     "text": [
      "Running elastic model with corum transcripts:   0%|          | 47/10921 [00:23<1:25:59,  2.11it/s]"
     ]
    },
    {
     "name": "stdout",
     "output_type": "stream",
     "text": [
      "corr: [0.0422], r2: [-0.08099]\n",
      "Doing 47: ABHD17B\n"
     ]
    },
    {
     "name": "stderr",
     "output_type": "stream",
     "text": [
      "Running elastic model with corum transcripts:   0%|          | 48/10921 [00:24<1:27:25,  2.07it/s]"
     ]
    },
    {
     "name": "stdout",
     "output_type": "stream",
     "text": [
      "corr: [0.24171], r2: [-0.06301]\n",
      "Doing 48: ABHD17C\n"
     ]
    },
    {
     "name": "stderr",
     "output_type": "stream",
     "text": [
      "Running elastic model with corum transcripts:   0%|          | 49/10921 [00:24<1:26:03,  2.11it/s]"
     ]
    },
    {
     "name": "stdout",
     "output_type": "stream",
     "text": [
      "corr: [0.63452], r2: [0.36632]\n",
      "Doing 49: ABHD4\n"
     ]
    },
    {
     "name": "stderr",
     "output_type": "stream",
     "text": [
      "Running elastic model with corum transcripts:   0%|          | 50/10921 [00:25<1:24:44,  2.14it/s]"
     ]
    },
    {
     "name": "stdout",
     "output_type": "stream",
     "text": [
      "corr: [0.41967], r2: [0.17035]\n",
      "Doing 50: ABHD5\n"
     ]
    },
    {
     "name": "stderr",
     "output_type": "stream",
     "text": [
      "Running elastic model with corum transcripts:   0%|          | 51/10921 [00:25<1:24:14,  2.15it/s]"
     ]
    },
    {
     "name": "stdout",
     "output_type": "stream",
     "text": [
      "corr: [-0.09967], r2: [-0.08866]\n",
      "Doing 51: ABHD6\n"
     ]
    },
    {
     "name": "stderr",
     "output_type": "stream",
     "text": [
      "Running elastic model with corum transcripts:   0%|          | 52/10921 [00:25<1:25:28,  2.12it/s]"
     ]
    },
    {
     "name": "stdout",
     "output_type": "stream",
     "text": [
      "corr: [0.44482], r2: [0.12547]\n",
      "Doing 52: ABI1\n"
     ]
    },
    {
     "name": "stderr",
     "output_type": "stream",
     "text": [
      "Running elastic model with corum transcripts:   0%|          | 53/10921 [00:26<1:31:36,  1.98it/s]"
     ]
    },
    {
     "name": "stdout",
     "output_type": "stream",
     "text": [
      "corr: [0.29597], r2: [-0.13278]\n",
      "Doing 53: ABI2\n"
     ]
    },
    {
     "name": "stderr",
     "output_type": "stream",
     "text": [
      "Running elastic model with corum transcripts:   0%|          | 54/10921 [00:27<1:29:51,  2.02it/s]"
     ]
    },
    {
     "name": "stdout",
     "output_type": "stream",
     "text": [
      "corr: [0.3414], r2: [0.1079]\n",
      "Doing 54: ABI3\n"
     ]
    },
    {
     "name": "stderr",
     "output_type": "stream",
     "text": [
      "Running elastic model with corum transcripts:   1%|          | 55/10921 [00:27<1:28:28,  2.05it/s]"
     ]
    },
    {
     "name": "stdout",
     "output_type": "stream",
     "text": [
      "corr: [0.38708], r2: [0.06151]\n",
      "Doing 55: ABI3BP\n"
     ]
    },
    {
     "name": "stderr",
     "output_type": "stream",
     "text": [
      "Running elastic model with corum transcripts:   1%|          | 56/10921 [00:27<1:27:21,  2.07it/s]"
     ]
    },
    {
     "name": "stdout",
     "output_type": "stream",
     "text": [
      "corr: [0.55285], r2: [0.27327]\n",
      "Doing 56: ABL1\n"
     ]
    },
    {
     "name": "stderr",
     "output_type": "stream",
     "text": [
      "Running elastic model with corum transcripts:   1%|          | 57/10921 [00:28<1:27:40,  2.07it/s]"
     ]
    },
    {
     "name": "stdout",
     "output_type": "stream",
     "text": [
      "corr: [0.45379], r2: [0.19901]\n",
      "Doing 57: ABL2\n"
     ]
    },
    {
     "name": "stderr",
     "output_type": "stream",
     "text": [
      "Running elastic model with corum transcripts:   1%|          | 58/10921 [00:28<1:27:28,  2.07it/s]"
     ]
    },
    {
     "name": "stdout",
     "output_type": "stream",
     "text": [
      "corr: [-0.16722], r2: [-0.57936]\n",
      "Doing 58: ABLIM1\n"
     ]
    },
    {
     "name": "stderr",
     "output_type": "stream",
     "text": [
      "Running elastic model with corum transcripts:   1%|          | 59/10921 [00:29<1:26:26,  2.09it/s]"
     ]
    },
    {
     "name": "stdout",
     "output_type": "stream",
     "text": [
      "corr: [0.53153], r2: [0.24697]\n",
      "Doing 59: ABLIM2\n"
     ]
    },
    {
     "name": "stderr",
     "output_type": "stream",
     "text": [
      "Running elastic model with corum transcripts:   1%|          | 60/10921 [00:29<1:29:01,  2.03it/s]"
     ]
    },
    {
     "name": "stdout",
     "output_type": "stream",
     "text": [
      "corr: [0.57095], r2: [0.18926]\n",
      "Doing 60: ABR\n"
     ]
    },
    {
     "name": "stderr",
     "output_type": "stream",
     "text": [
      "Running elastic model with corum transcripts:   1%|          | 61/10921 [00:30<1:27:58,  2.06it/s]"
     ]
    },
    {
     "name": "stdout",
     "output_type": "stream",
     "text": [
      "corr: [0.05104], r2: [-0.01031]\n",
      "Doing 61: ABRACL\n"
     ]
    },
    {
     "name": "stderr",
     "output_type": "stream",
     "text": [
      "Running elastic model with corum transcripts:   1%|          | 62/10921 [00:30<1:27:54,  2.06it/s]"
     ]
    },
    {
     "name": "stdout",
     "output_type": "stream",
     "text": [
      "corr: [0.38936], r2: [0.14229]\n",
      "Doing 62: ABT1\n"
     ]
    },
    {
     "name": "stderr",
     "output_type": "stream",
     "text": [
      "Running elastic model with corum transcripts:   1%|          | 63/10921 [00:31<1:26:21,  2.10it/s]"
     ]
    },
    {
     "name": "stdout",
     "output_type": "stream",
     "text": [
      "corr: [0.4765], r2: [-0.10863]\n",
      "Doing 63: ACAA1\n"
     ]
    },
    {
     "name": "stderr",
     "output_type": "stream",
     "text": [
      "Running elastic model with corum transcripts:   1%|          | 64/10921 [00:31<1:27:30,  2.07it/s]"
     ]
    },
    {
     "name": "stdout",
     "output_type": "stream",
     "text": [
      "corr: [0.48083], r2: [0.19106]\n",
      "Doing 64: ACAA2\n"
     ]
    },
    {
     "name": "stderr",
     "output_type": "stream",
     "text": [
      "Running elastic model with corum transcripts:   1%|          | 65/10921 [00:32<1:26:05,  2.10it/s]"
     ]
    },
    {
     "name": "stdout",
     "output_type": "stream",
     "text": [
      "corr: [0.64537], r2: [0.31205]\n",
      "Doing 65: ACACA\n"
     ]
    },
    {
     "name": "stderr",
     "output_type": "stream",
     "text": [
      "Running elastic model with corum transcripts:   1%|          | 66/10921 [00:32<1:25:40,  2.11it/s]"
     ]
    },
    {
     "name": "stdout",
     "output_type": "stream",
     "text": [
      "corr: [0.37585], r2: [0.05541]\n",
      "Doing 66: ACACB\n"
     ]
    },
    {
     "name": "stderr",
     "output_type": "stream",
     "text": [
      "Running elastic model with corum transcripts:   1%|          | 67/10921 [00:33<1:31:35,  1.98it/s]"
     ]
    },
    {
     "name": "stdout",
     "output_type": "stream",
     "text": [
      "corr: [0.36204], r2: [-0.02064]\n",
      "Doing 67: ACAD10\n"
     ]
    },
    {
     "name": "stderr",
     "output_type": "stream",
     "text": [
      "Running elastic model with corum transcripts:   1%|          | 68/10921 [00:33<1:28:53,  2.03it/s]"
     ]
    },
    {
     "name": "stdout",
     "output_type": "stream",
     "text": [
      "corr: [0.06118], r2: [-0.00137]\n",
      "Doing 68: ACAD11\n"
     ]
    },
    {
     "name": "stderr",
     "output_type": "stream",
     "text": [
      "/Applications/venv/CPTAC_Protein/lib/python3.9/site-packages/numpy/lib/function_base.py:2691: RuntimeWarning: invalid value encountered in true_divide\n",
      "  c /= stddev[:, None]\n",
      "/Applications/venv/CPTAC_Protein/lib/python3.9/site-packages/numpy/lib/function_base.py:2692: RuntimeWarning: invalid value encountered in true_divide\n",
      "  c /= stddev[None, :]\n",
      "Running elastic model with corum transcripts:   1%|          | 69/10921 [00:34<1:27:40,  2.06it/s]"
     ]
    },
    {
     "name": "stdout",
     "output_type": "stream",
     "text": [
      "corr: [0], r2: [-0.00012]\n",
      "Doing 69: ACAD8\n"
     ]
    },
    {
     "name": "stderr",
     "output_type": "stream",
     "text": [
      "Running elastic model with corum transcripts:   1%|          | 70/10921 [00:34<1:28:25,  2.05it/s]"
     ]
    },
    {
     "name": "stdout",
     "output_type": "stream",
     "text": [
      "corr: [0.58744], r2: [0.17146]\n",
      "Doing 70: ACAD9\n"
     ]
    },
    {
     "name": "stderr",
     "output_type": "stream",
     "text": [
      "Running elastic model with corum transcripts:   1%|          | 71/10921 [00:35<1:26:15,  2.10it/s]"
     ]
    },
    {
     "name": "stdout",
     "output_type": "stream",
     "text": [
      "corr: [0.27634], r2: [0.05151]\n",
      "Doing 71: ACADM\n"
     ]
    },
    {
     "name": "stderr",
     "output_type": "stream",
     "text": [
      "Running elastic model with corum transcripts:   1%|          | 72/10921 [00:35<1:26:50,  2.08it/s]"
     ]
    },
    {
     "name": "stdout",
     "output_type": "stream",
     "text": [
      "corr: [0.60268], r2: [0.28962]\n",
      "Doing 72: ACADS\n"
     ]
    },
    {
     "name": "stderr",
     "output_type": "stream",
     "text": [
      "Running elastic model with corum transcripts:   1%|          | 73/10921 [00:36<1:27:16,  2.07it/s]"
     ]
    },
    {
     "name": "stdout",
     "output_type": "stream",
     "text": [
      "corr: [0.46408], r2: [0.09687]\n",
      "Doing 73: ACADSB\n"
     ]
    },
    {
     "name": "stderr",
     "output_type": "stream",
     "text": [
      "Running elastic model with corum transcripts:   1%|          | 74/10921 [00:36<1:30:41,  1.99it/s]"
     ]
    },
    {
     "name": "stdout",
     "output_type": "stream",
     "text": [
      "corr: [0.70304], r2: [0.46532]\n",
      "Doing 74: ACADVL\n"
     ]
    },
    {
     "name": "stderr",
     "output_type": "stream",
     "text": [
      "Running elastic model with corum transcripts:   1%|          | 75/10921 [00:37<1:29:24,  2.02it/s]"
     ]
    },
    {
     "name": "stdout",
     "output_type": "stream",
     "text": [
      "corr: [0.28416], r2: [-0.02237]\n",
      "Doing 75: ACAN\n"
     ]
    },
    {
     "name": "stderr",
     "output_type": "stream",
     "text": [
      "Running elastic model with corum transcripts:   1%|          | 76/10921 [00:37<1:28:15,  2.05it/s]"
     ]
    },
    {
     "name": "stdout",
     "output_type": "stream",
     "text": [
      "corr: [0.42652], r2: [0.17974]\n",
      "Doing 76: ACAP1\n"
     ]
    },
    {
     "name": "stderr",
     "output_type": "stream",
     "text": [
      "Running elastic model with corum transcripts:   1%|          | 77/10921 [00:38<1:28:28,  2.04it/s]"
     ]
    },
    {
     "name": "stdout",
     "output_type": "stream",
     "text": [
      "corr: [0.08123], r2: [-0.32132]\n",
      "Doing 77: ACAP2\n"
     ]
    },
    {
     "name": "stderr",
     "output_type": "stream",
     "text": [
      "Running elastic model with corum transcripts:   1%|          | 78/10921 [00:38<1:26:55,  2.08it/s]"
     ]
    },
    {
     "name": "stdout",
     "output_type": "stream",
     "text": [
      "corr: [0.57495], r2: [0.19877]\n",
      "Doing 78: ACAP3\n"
     ]
    },
    {
     "name": "stderr",
     "output_type": "stream",
     "text": [
      "Running elastic model with corum transcripts:   1%|          | 79/10921 [00:39<1:26:34,  2.09it/s]"
     ]
    },
    {
     "name": "stdout",
     "output_type": "stream",
     "text": [
      "corr: [0.36926], r2: [0.0302]\n",
      "Doing 79: ACAT1\n"
     ]
    },
    {
     "name": "stderr",
     "output_type": "stream",
     "text": [
      "Running elastic model with corum transcripts:   1%|          | 80/10921 [00:39<1:26:21,  2.09it/s]"
     ]
    },
    {
     "name": "stdout",
     "output_type": "stream",
     "text": [
      "corr: [0.47542], r2: [0.17099]\n",
      "Doing 80: ACAT2\n"
     ]
    },
    {
     "name": "stderr",
     "output_type": "stream",
     "text": [
      "Running elastic model with corum transcripts:   1%|          | 81/10921 [00:40<1:29:43,  2.01it/s]"
     ]
    },
    {
     "name": "stdout",
     "output_type": "stream",
     "text": [
      "corr: [0.51199], r2: [0.15713]\n",
      "Doing 81: ACBD3\n"
     ]
    },
    {
     "name": "stderr",
     "output_type": "stream",
     "text": [
      "Running elastic model with corum transcripts:   1%|          | 82/10921 [00:40<1:26:45,  2.08it/s]"
     ]
    },
    {
     "name": "stdout",
     "output_type": "stream",
     "text": [
      "corr: [0.19491], r2: [-0.56289]\n",
      "Doing 82: ACBD5\n"
     ]
    },
    {
     "name": "stderr",
     "output_type": "stream",
     "text": [
      "Running elastic model with corum transcripts:   1%|          | 83/10921 [00:41<1:25:28,  2.11it/s]"
     ]
    },
    {
     "name": "stdout",
     "output_type": "stream",
     "text": [
      "corr: [0.02111], r2: [-0.10529]\n",
      "Doing 83: ACBD6\n"
     ]
    },
    {
     "name": "stderr",
     "output_type": "stream",
     "text": [
      "Running elastic model with corum transcripts:   1%|          | 84/10921 [00:41<1:25:41,  2.11it/s]"
     ]
    },
    {
     "name": "stdout",
     "output_type": "stream",
     "text": [
      "corr: [0.16772], r2: [-0.00434]\n",
      "Doing 84: ACBD7\n"
     ]
    },
    {
     "name": "stderr",
     "output_type": "stream",
     "text": [
      "Running elastic model with corum transcripts:   1%|          | 85/10921 [00:41<1:25:01,  2.12it/s]"
     ]
    },
    {
     "name": "stdout",
     "output_type": "stream",
     "text": [
      "corr: [0.6097], r2: [-0.08839]\n",
      "Doing 85: ACE\n"
     ]
    },
    {
     "name": "stderr",
     "output_type": "stream",
     "text": [
      "Running elastic model with corum transcripts:   1%|          | 86/10921 [00:42<1:26:31,  2.09it/s]"
     ]
    },
    {
     "name": "stdout",
     "output_type": "stream",
     "text": [
      "corr: [0.31157], r2: [0.05561]\n",
      "Doing 86: ACIN1\n"
     ]
    },
    {
     "name": "stderr",
     "output_type": "stream",
     "text": [
      "/Applications/venv/CPTAC_Protein/lib/python3.9/site-packages/sklearn/linear_model/_coordinate_descent.py:631: ConvergenceWarning: Objective did not converge. You might want to increase the number of iterations. Duality gap: 0.278198446342917, tolerance: 0.2665523188401809\n",
      "  model = cd_fast.enet_coordinate_descent_gram(\n",
      "/Applications/venv/CPTAC_Protein/lib/python3.9/site-packages/sklearn/linear_model/_coordinate_descent.py:631: ConvergenceWarning: Objective did not converge. You might want to increase the number of iterations. Duality gap: 0.2753437229680413, tolerance: 0.26904803120304266\n",
      "  model = cd_fast.enet_coordinate_descent_gram(\n",
      "/Applications/venv/CPTAC_Protein/lib/python3.9/site-packages/sklearn/linear_model/_coordinate_descent.py:631: ConvergenceWarning: Objective did not converge. You might want to increase the number of iterations. Duality gap: 0.2887356568139774, tolerance: 0.2665523188401809\n",
      "  model = cd_fast.enet_coordinate_descent_gram(\n",
      "/Applications/venv/CPTAC_Protein/lib/python3.9/site-packages/sklearn/linear_model/_coordinate_descent.py:631: ConvergenceWarning: Objective did not converge. You might want to increase the number of iterations. Duality gap: 0.3749952796594016, tolerance: 0.2665523188401809\n",
      "  model = cd_fast.enet_coordinate_descent_gram(\n",
      "/Applications/venv/CPTAC_Protein/lib/python3.9/site-packages/sklearn/linear_model/_coordinate_descent.py:631: ConvergenceWarning: Objective did not converge. You might want to increase the number of iterations. Duality gap: 0.3009645823220608, tolerance: 0.26904803120304266\n",
      "  model = cd_fast.enet_coordinate_descent_gram(\n",
      "/Applications/venv/CPTAC_Protein/lib/python3.9/site-packages/sklearn/linear_model/_coordinate_descent.py:631: ConvergenceWarning: Objective did not converge. You might want to increase the number of iterations. Duality gap: 0.3307280533174426, tolerance: 0.2665523188401809\n",
      "  model = cd_fast.enet_coordinate_descent_gram(\n",
      "/Applications/venv/CPTAC_Protein/lib/python3.9/site-packages/sklearn/linear_model/_coordinate_descent.py:631: ConvergenceWarning: Objective did not converge. You might want to increase the number of iterations. Duality gap: 0.3006480794263702, tolerance: 0.2665523188401809\n",
      "  model = cd_fast.enet_coordinate_descent_gram(\n",
      "/Applications/venv/CPTAC_Protein/lib/python3.9/site-packages/sklearn/linear_model/_coordinate_descent.py:631: ConvergenceWarning: Objective did not converge. You might want to increase the number of iterations. Duality gap: 0.3311377247618461, tolerance: 0.26904803120304266\n",
      "  model = cd_fast.enet_coordinate_descent_gram(\n",
      "/Applications/venv/CPTAC_Protein/lib/python3.9/site-packages/sklearn/linear_model/_coordinate_descent.py:631: ConvergenceWarning: Objective did not converge. You might want to increase the number of iterations. Duality gap: 0.33013782862564955, tolerance: 0.2665523188401809\n",
      "  model = cd_fast.enet_coordinate_descent_gram(\n",
      "/Applications/venv/CPTAC_Protein/lib/python3.9/site-packages/sklearn/linear_model/_coordinate_descent.py:631: ConvergenceWarning: Objective did not converge. You might want to increase the number of iterations. Duality gap: 0.2749990357502501, tolerance: 0.2665523188401809\n",
      "  model = cd_fast.enet_coordinate_descent_gram(\n",
      "/Applications/venv/CPTAC_Protein/lib/python3.9/site-packages/sklearn/linear_model/_coordinate_descent.py:631: ConvergenceWarning: Objective did not converge. You might want to increase the number of iterations. Duality gap: 0.3630339040535122, tolerance: 0.26904803120304266\n",
      "  model = cd_fast.enet_coordinate_descent_gram(\n",
      "/Applications/venv/CPTAC_Protein/lib/python3.9/site-packages/sklearn/linear_model/_coordinate_descent.py:631: ConvergenceWarning: Objective did not converge. You might want to increase the number of iterations. Duality gap: 0.38596512483076495, tolerance: 0.26904803120304266\n",
      "  model = cd_fast.enet_coordinate_descent_gram(\n",
      "/Applications/venv/CPTAC_Protein/lib/python3.9/site-packages/sklearn/linear_model/_coordinate_descent.py:631: ConvergenceWarning: Objective did not converge. You might want to increase the number of iterations. Duality gap: 0.31690820448050605, tolerance: 0.2665523188401809\n",
      "  model = cd_fast.enet_coordinate_descent_gram(\n",
      "/Applications/venv/CPTAC_Protein/lib/python3.9/site-packages/sklearn/linear_model/_coordinate_descent.py:631: ConvergenceWarning: Objective did not converge. You might want to increase the number of iterations. Duality gap: 0.29540122409700764, tolerance: 0.2665523188401809\n",
      "  model = cd_fast.enet_coordinate_descent_gram(\n",
      "/Applications/venv/CPTAC_Protein/lib/python3.9/site-packages/sklearn/linear_model/_coordinate_descent.py:631: ConvergenceWarning: Objective did not converge. You might want to increase the number of iterations. Duality gap: 0.4416685454631013, tolerance: 0.26904803120304266\n",
      "  model = cd_fast.enet_coordinate_descent_gram(\n",
      "/Applications/venv/CPTAC_Protein/lib/python3.9/site-packages/sklearn/linear_model/_coordinate_descent.py:631: ConvergenceWarning: Objective did not converge. You might want to increase the number of iterations. Duality gap: 0.33210925255292434, tolerance: 0.2665523188401809\n",
      "  model = cd_fast.enet_coordinate_descent_gram(\n",
      "/Applications/venv/CPTAC_Protein/lib/python3.9/site-packages/sklearn/linear_model/_coordinate_descent.py:631: ConvergenceWarning: Objective did not converge. You might want to increase the number of iterations. Duality gap: 0.41096114480132995, tolerance: 0.26904803120304266\n",
      "  model = cd_fast.enet_coordinate_descent_gram(\n",
      "/Applications/venv/CPTAC_Protein/lib/python3.9/site-packages/sklearn/linear_model/_coordinate_descent.py:631: ConvergenceWarning: Objective did not converge. You might want to increase the number of iterations. Duality gap: 0.22958116968097086, tolerance: 0.21098706760223715\n",
      "  model = cd_fast.enet_coordinate_descent_gram(\n",
      "/Applications/venv/CPTAC_Protein/lib/python3.9/site-packages/sklearn/linear_model/_coordinate_descent.py:631: ConvergenceWarning: Objective did not converge. You might want to increase the number of iterations. Duality gap: 0.2742411326846339, tolerance: 0.2665523188401809\n",
      "  model = cd_fast.enet_coordinate_descent_gram(\n",
      "/Applications/venv/CPTAC_Protein/lib/python3.9/site-packages/sklearn/linear_model/_coordinate_descent.py:631: ConvergenceWarning: Objective did not converge. You might want to increase the number of iterations. Duality gap: 0.4194421534423416, tolerance: 0.26904803120304266\n",
      "  model = cd_fast.enet_coordinate_descent_gram(\n",
      "/Applications/venv/CPTAC_Protein/lib/python3.9/site-packages/sklearn/linear_model/_coordinate_descent.py:631: ConvergenceWarning: Objective did not converge. You might want to increase the number of iterations. Duality gap: 0.4257939064709122, tolerance: 0.26904803120304266\n",
      "  model = cd_fast.enet_coordinate_descent_gram(\n",
      "/Applications/venv/CPTAC_Protein/lib/python3.9/site-packages/sklearn/linear_model/_coordinate_descent.py:631: ConvergenceWarning: Objective did not converge. You might want to increase the number of iterations. Duality gap: 0.27560209759795473, tolerance: 0.2665523188401809\n",
      "  model = cd_fast.enet_coordinate_descent_gram(\n",
      "/Applications/venv/CPTAC_Protein/lib/python3.9/site-packages/sklearn/linear_model/_coordinate_descent.py:631: ConvergenceWarning: Objective did not converge. You might want to increase the number of iterations. Duality gap: 0.3364866570133471, tolerance: 0.26904803120304266\n",
      "  model = cd_fast.enet_coordinate_descent_gram(\n",
      "/Applications/venv/CPTAC_Protein/lib/python3.9/site-packages/sklearn/linear_model/_coordinate_descent.py:631: ConvergenceWarning: Objective did not converge. You might want to increase the number of iterations. Duality gap: 0.305487606464542, tolerance: 0.2665523188401809\n",
      "  model = cd_fast.enet_coordinate_descent_gram(\n",
      "/Applications/venv/CPTAC_Protein/lib/python3.9/site-packages/sklearn/linear_model/_coordinate_descent.py:631: ConvergenceWarning: Objective did not converge. You might want to increase the number of iterations. Duality gap: 0.2445480908062998, tolerance: 0.21098706760223715\n",
      "  model = cd_fast.enet_coordinate_descent_gram(\n",
      "/Applications/venv/CPTAC_Protein/lib/python3.9/site-packages/sklearn/linear_model/_coordinate_descent.py:631: ConvergenceWarning: Objective did not converge. You might want to increase the number of iterations. Duality gap: 0.4178196899185205, tolerance: 0.26904803120304266\n",
      "  model = cd_fast.enet_coordinate_descent_gram(\n",
      "/Applications/venv/CPTAC_Protein/lib/python3.9/site-packages/sklearn/linear_model/_coordinate_descent.py:631: ConvergenceWarning: Objective did not converge. You might want to increase the number of iterations. Duality gap: 0.2419050875795783, tolerance: 0.21098706760223715\n",
      "  model = cd_fast.enet_coordinate_descent_gram(\n",
      "/Applications/venv/CPTAC_Protein/lib/python3.9/site-packages/sklearn/linear_model/_coordinate_descent.py:631: ConvergenceWarning: Objective did not converge. You might want to increase the number of iterations. Duality gap: 0.3362485504073951, tolerance: 0.26904803120304266\n",
      "  model = cd_fast.enet_coordinate_descent_gram(\n",
      "/Applications/venv/CPTAC_Protein/lib/python3.9/site-packages/sklearn/linear_model/_coordinate_descent.py:631: ConvergenceWarning: Objective did not converge. You might want to increase the number of iterations. Duality gap: 0.41126172672487393, tolerance: 0.26904803120304266\n",
      "  model = cd_fast.enet_coordinate_descent_gram(\n",
      "/Applications/venv/CPTAC_Protein/lib/python3.9/site-packages/sklearn/linear_model/_coordinate_descent.py:631: ConvergenceWarning: Objective did not converge. You might want to increase the number of iterations. Duality gap: 0.4049404345866787, tolerance: 0.26904803120304266\n",
      "  model = cd_fast.enet_coordinate_descent_gram(\n",
      "/Applications/venv/CPTAC_Protein/lib/python3.9/site-packages/sklearn/linear_model/_coordinate_descent.py:631: ConvergenceWarning: Objective did not converge. You might want to increase the number of iterations. Duality gap: 0.3455153920357261, tolerance: 0.26904803120304266\n",
      "  model = cd_fast.enet_coordinate_descent_gram(\n",
      "/Applications/venv/CPTAC_Protein/lib/python3.9/site-packages/sklearn/linear_model/_coordinate_descent.py:631: ConvergenceWarning: Objective did not converge. You might want to increase the number of iterations. Duality gap: 0.42134561550320604, tolerance: 0.26904803120304266\n",
      "  model = cd_fast.enet_coordinate_descent_gram(\n",
      "/Applications/venv/CPTAC_Protein/lib/python3.9/site-packages/sklearn/linear_model/_coordinate_descent.py:631: ConvergenceWarning: Objective did not converge. You might want to increase the number of iterations. Duality gap: 0.272394786780088, tolerance: 0.2665523188401809\n",
      "  model = cd_fast.enet_coordinate_descent_gram(\n",
      "/Applications/venv/CPTAC_Protein/lib/python3.9/site-packages/sklearn/linear_model/_coordinate_descent.py:631: ConvergenceWarning: Objective did not converge. You might want to increase the number of iterations. Duality gap: 0.2707662217906681, tolerance: 0.2665523188401809\n",
      "  model = cd_fast.enet_coordinate_descent_gram(\n",
      "/Applications/venv/CPTAC_Protein/lib/python3.9/site-packages/sklearn/linear_model/_coordinate_descent.py:631: ConvergenceWarning: Objective did not converge. You might want to increase the number of iterations. Duality gap: 0.3930688207892672, tolerance: 0.26904803120304266\n",
      "  model = cd_fast.enet_coordinate_descent_gram(\n",
      "/Applications/venv/CPTAC_Protein/lib/python3.9/site-packages/sklearn/linear_model/_coordinate_descent.py:631: ConvergenceWarning: Objective did not converge. You might want to increase the number of iterations. Duality gap: 0.3215650685497988, tolerance: 0.26904803120304266\n",
      "  model = cd_fast.enet_coordinate_descent_gram(\n",
      "/Applications/venv/CPTAC_Protein/lib/python3.9/site-packages/sklearn/linear_model/_coordinate_descent.py:631: ConvergenceWarning: Objective did not converge. You might want to increase the number of iterations. Duality gap: 0.3894172018977169, tolerance: 0.26904803120304266\n",
      "  model = cd_fast.enet_coordinate_descent_gram(\n",
      "/Applications/venv/CPTAC_Protein/lib/python3.9/site-packages/sklearn/linear_model/_coordinate_descent.py:631: ConvergenceWarning: Objective did not converge. You might want to increase the number of iterations. Duality gap: 0.290844087164974, tolerance: 0.2665523188401809\n",
      "  model = cd_fast.enet_coordinate_descent_gram(\n",
      "/Applications/venv/CPTAC_Protein/lib/python3.9/site-packages/sklearn/linear_model/_coordinate_descent.py:631: ConvergenceWarning: Objective did not converge. You might want to increase the number of iterations. Duality gap: 0.32715936508563037, tolerance: 0.26904803120304266\n",
      "  model = cd_fast.enet_coordinate_descent_gram(\n",
      "/Applications/venv/CPTAC_Protein/lib/python3.9/site-packages/sklearn/linear_model/_coordinate_descent.py:631: ConvergenceWarning: Objective did not converge. You might want to increase the number of iterations. Duality gap: 0.28316076063281304, tolerance: 0.2665523188401809\n",
      "  model = cd_fast.enet_coordinate_descent_gram(\n",
      "/Applications/venv/CPTAC_Protein/lib/python3.9/site-packages/sklearn/linear_model/_coordinate_descent.py:631: ConvergenceWarning: Objective did not converge. You might want to increase the number of iterations. Duality gap: 0.3492703515749258, tolerance: 0.26904803120304266\n",
      "  model = cd_fast.enet_coordinate_descent_gram(\n",
      "/Applications/venv/CPTAC_Protein/lib/python3.9/site-packages/sklearn/linear_model/_coordinate_descent.py:631: ConvergenceWarning: Objective did not converge. You might want to increase the number of iterations. Duality gap: 0.27079093884970673, tolerance: 0.2665523188401809\n",
      "  model = cd_fast.enet_coordinate_descent_gram(\n",
      "/Applications/venv/CPTAC_Protein/lib/python3.9/site-packages/sklearn/linear_model/_coordinate_descent.py:631: ConvergenceWarning: Objective did not converge. You might want to increase the number of iterations. Duality gap: 0.28359197611679576, tolerance: 0.2665523188401809\n",
      "  model = cd_fast.enet_coordinate_descent_gram(\n",
      "/Applications/venv/CPTAC_Protein/lib/python3.9/site-packages/sklearn/linear_model/_coordinate_descent.py:631: ConvergenceWarning: Objective did not converge. You might want to increase the number of iterations. Duality gap: 0.29232173553651364, tolerance: 0.2665523188401809\n",
      "  model = cd_fast.enet_coordinate_descent_gram(\n",
      "/Applications/venv/CPTAC_Protein/lib/python3.9/site-packages/sklearn/linear_model/_coordinate_descent.py:631: ConvergenceWarning: Objective did not converge. You might want to increase the number of iterations. Duality gap: 0.31035796968238727, tolerance: 0.2665523188401809\n",
      "  model = cd_fast.enet_coordinate_descent_gram(\n",
      "/Applications/venv/CPTAC_Protein/lib/python3.9/site-packages/sklearn/linear_model/_coordinate_descent.py:631: ConvergenceWarning: Objective did not converge. You might want to increase the number of iterations. Duality gap: 0.27356337940750564, tolerance: 0.2665523188401809\n",
      "  model = cd_fast.enet_coordinate_descent_gram(\n",
      "/Applications/venv/CPTAC_Protein/lib/python3.9/site-packages/sklearn/linear_model/_coordinate_descent.py:631: ConvergenceWarning: Objective did not converge. You might want to increase the number of iterations. Duality gap: 0.28272302646618097, tolerance: 0.2665523188401809\n",
      "  model = cd_fast.enet_coordinate_descent_gram(\n",
      "/Applications/venv/CPTAC_Protein/lib/python3.9/site-packages/sklearn/linear_model/_coordinate_descent.py:631: ConvergenceWarning: Objective did not converge. You might want to increase the number of iterations. Duality gap: 0.30001271440752575, tolerance: 0.2665523188401809\n",
      "  model = cd_fast.enet_coordinate_descent_gram(\n",
      "/Applications/venv/CPTAC_Protein/lib/python3.9/site-packages/sklearn/linear_model/_coordinate_descent.py:631: ConvergenceWarning: Objective did not converge. You might want to increase the number of iterations. Duality gap: 0.2704327314483347, tolerance: 0.26904803120304266\n",
      "  model = cd_fast.enet_coordinate_descent_gram(\n",
      "/Applications/venv/CPTAC_Protein/lib/python3.9/site-packages/sklearn/linear_model/_coordinate_descent.py:631: ConvergenceWarning: Objective did not converge. You might want to increase the number of iterations. Duality gap: 0.2844065258853733, tolerance: 0.2665523188401809\n",
      "  model = cd_fast.enet_coordinate_descent_gram(\n",
      "/Applications/venv/CPTAC_Protein/lib/python3.9/site-packages/sklearn/linear_model/_coordinate_descent.py:631: ConvergenceWarning: Objective did not converge. You might want to increase the number of iterations. Duality gap: 0.3103117739811334, tolerance: 0.2665523188401809\n",
      "  model = cd_fast.enet_coordinate_descent_gram(\n",
      "/Applications/venv/CPTAC_Protein/lib/python3.9/site-packages/sklearn/linear_model/_coordinate_descent.py:631: ConvergenceWarning: Objective did not converge. You might want to increase the number of iterations. Duality gap: 0.34885402075989447, tolerance: 0.2665523188401809\n",
      "  model = cd_fast.enet_coordinate_descent_gram(\n",
      "/Applications/venv/CPTAC_Protein/lib/python3.9/site-packages/sklearn/linear_model/_coordinate_descent.py:631: ConvergenceWarning: Objective did not converge. You might want to increase the number of iterations. Duality gap: 0.2677164951132316, tolerance: 0.2665523188401809\n",
      "  model = cd_fast.enet_coordinate_descent_gram(\n",
      "/Applications/venv/CPTAC_Protein/lib/python3.9/site-packages/sklearn/linear_model/_coordinate_descent.py:631: ConvergenceWarning: Objective did not converge. You might want to increase the number of iterations. Duality gap: 0.2904624356429075, tolerance: 0.2665523188401809\n",
      "  model = cd_fast.enet_coordinate_descent_gram(\n",
      "/Applications/venv/CPTAC_Protein/lib/python3.9/site-packages/sklearn/linear_model/_coordinate_descent.py:631: ConvergenceWarning: Objective did not converge. You might want to increase the number of iterations. Duality gap: 0.29709165325437503, tolerance: 0.2665523188401809\n",
      "  model = cd_fast.enet_coordinate_descent_gram(\n",
      "/Applications/venv/CPTAC_Protein/lib/python3.9/site-packages/sklearn/linear_model/_coordinate_descent.py:631: ConvergenceWarning: Objective did not converge. You might want to increase the number of iterations. Duality gap: 0.38039361771634095, tolerance: 0.26904803120304266\n",
      "  model = cd_fast.enet_coordinate_descent_gram(\n",
      "/Applications/venv/CPTAC_Protein/lib/python3.9/site-packages/sklearn/linear_model/_coordinate_descent.py:631: ConvergenceWarning: Objective did not converge. You might want to increase the number of iterations. Duality gap: 0.3010351102767874, tolerance: 0.2665523188401809\n",
      "  model = cd_fast.enet_coordinate_descent_gram(\n",
      "/Applications/venv/CPTAC_Protein/lib/python3.9/site-packages/sklearn/linear_model/_coordinate_descent.py:631: ConvergenceWarning: Objective did not converge. You might want to increase the number of iterations. Duality gap: 0.3458527391742834, tolerance: 0.2665523188401809\n",
      "  model = cd_fast.enet_coordinate_descent_gram(\n",
      "/Applications/venv/CPTAC_Protein/lib/python3.9/site-packages/sklearn/linear_model/_coordinate_descent.py:631: ConvergenceWarning: Objective did not converge. You might want to increase the number of iterations. Duality gap: 0.2752690430625204, tolerance: 0.2665523188401809\n",
      "  model = cd_fast.enet_coordinate_descent_gram(\n",
      "/Applications/venv/CPTAC_Protein/lib/python3.9/site-packages/sklearn/linear_model/_coordinate_descent.py:631: ConvergenceWarning: Objective did not converge. You might want to increase the number of iterations. Duality gap: 0.3030515098694053, tolerance: 0.26904803120304266\n",
      "  model = cd_fast.enet_coordinate_descent_gram(\n",
      "/Applications/venv/CPTAC_Protein/lib/python3.9/site-packages/sklearn/linear_model/_coordinate_descent.py:631: ConvergenceWarning: Objective did not converge. You might want to increase the number of iterations. Duality gap: 0.40559697384233395, tolerance: 0.26904803120304266\n",
      "  model = cd_fast.enet_coordinate_descent_gram(\n",
      "/Applications/venv/CPTAC_Protein/lib/python3.9/site-packages/sklearn/linear_model/_coordinate_descent.py:631: ConvergenceWarning: Objective did not converge. You might want to increase the number of iterations. Duality gap: 0.42295809108736404, tolerance: 0.26904803120304266\n",
      "  model = cd_fast.enet_coordinate_descent_gram(\n",
      "/Applications/venv/CPTAC_Protein/lib/python3.9/site-packages/sklearn/linear_model/_coordinate_descent.py:631: ConvergenceWarning: Objective did not converge. You might want to increase the number of iterations. Duality gap: 0.2786743413779975, tolerance: 0.2665523188401809\n",
      "  model = cd_fast.enet_coordinate_descent_gram(\n",
      "/Applications/venv/CPTAC_Protein/lib/python3.9/site-packages/sklearn/linear_model/_coordinate_descent.py:631: ConvergenceWarning: Objective did not converge. You might want to increase the number of iterations. Duality gap: 0.38603259975475757, tolerance: 0.26904803120304266\n",
      "  model = cd_fast.enet_coordinate_descent_gram(\n",
      "/Applications/venv/CPTAC_Protein/lib/python3.9/site-packages/sklearn/linear_model/_coordinate_descent.py:631: ConvergenceWarning: Objective did not converge. You might want to increase the number of iterations. Duality gap: 0.29771527441657497, tolerance: 0.2665523188401809\n",
      "  model = cd_fast.enet_coordinate_descent_gram(\n",
      "/Applications/venv/CPTAC_Protein/lib/python3.9/site-packages/sklearn/linear_model/_coordinate_descent.py:631: ConvergenceWarning: Objective did not converge. You might want to increase the number of iterations. Duality gap: 0.356019499697402, tolerance: 0.26904803120304266\n",
      "  model = cd_fast.enet_coordinate_descent_gram(\n",
      "/Applications/venv/CPTAC_Protein/lib/python3.9/site-packages/sklearn/linear_model/_coordinate_descent.py:631: ConvergenceWarning: Objective did not converge. You might want to increase the number of iterations. Duality gap: 0.28415127373685056, tolerance: 0.2665523188401809\n",
      "  model = cd_fast.enet_coordinate_descent_gram(\n",
      "/Applications/venv/CPTAC_Protein/lib/python3.9/site-packages/sklearn/linear_model/_coordinate_descent.py:631: ConvergenceWarning: Objective did not converge. You might want to increase the number of iterations. Duality gap: 0.2700263289673992, tolerance: 0.2665523188401809\n",
      "  model = cd_fast.enet_coordinate_descent_gram(\n",
      "/Applications/venv/CPTAC_Protein/lib/python3.9/site-packages/sklearn/linear_model/_coordinate_descent.py:631: ConvergenceWarning: Objective did not converge. You might want to increase the number of iterations. Duality gap: 0.32369317189718605, tolerance: 0.2665523188401809\n",
      "  model = cd_fast.enet_coordinate_descent_gram(\n",
      "/Applications/venv/CPTAC_Protein/lib/python3.9/site-packages/sklearn/linear_model/_coordinate_descent.py:631: ConvergenceWarning: Objective did not converge. You might want to increase the number of iterations. Duality gap: 0.2945736960113514, tolerance: 0.2665523188401809\n",
      "  model = cd_fast.enet_coordinate_descent_gram(\n",
      "/Applications/venv/CPTAC_Protein/lib/python3.9/site-packages/sklearn/linear_model/_coordinate_descent.py:631: ConvergenceWarning: Objective did not converge. You might want to increase the number of iterations. Duality gap: 0.30284975553715454, tolerance: 0.2665523188401809\n",
      "  model = cd_fast.enet_coordinate_descent_gram(\n",
      "/Applications/venv/CPTAC_Protein/lib/python3.9/site-packages/sklearn/linear_model/_coordinate_descent.py:631: ConvergenceWarning: Objective did not converge. You might want to increase the number of iterations. Duality gap: 0.2853543974950975, tolerance: 0.2665523188401809\n",
      "  model = cd_fast.enet_coordinate_descent_gram(\n",
      "/Applications/venv/CPTAC_Protein/lib/python3.9/site-packages/sklearn/linear_model/_coordinate_descent.py:631: ConvergenceWarning: Objective did not converge. You might want to increase the number of iterations. Duality gap: 0.2911734328217924, tolerance: 0.2665523188401809\n",
      "  model = cd_fast.enet_coordinate_descent_gram(\n",
      "Running elastic model with corum transcripts:   1%|          | 87/10921 [00:44<2:40:19,  1.13it/s]"
     ]
    },
    {
     "name": "stdout",
     "output_type": "stream",
     "text": [
      "corr: [-0.3611], r2: [-0.1077]\n",
      "Doing 87: ACLY\n"
     ]
    },
    {
     "name": "stderr",
     "output_type": "stream",
     "text": [
      "Running elastic model with corum transcripts:   1%|          | 88/10921 [00:44<2:16:38,  1.32it/s]"
     ]
    },
    {
     "name": "stdout",
     "output_type": "stream",
     "text": [
      "corr: [0.58481], r2: [0.3344]\n",
      "Doing 88: ACO1\n"
     ]
    },
    {
     "name": "stderr",
     "output_type": "stream",
     "text": [
      "Running elastic model with corum transcripts:   1%|          | 89/10921 [00:45<1:59:49,  1.51it/s]"
     ]
    },
    {
     "name": "stdout",
     "output_type": "stream",
     "text": [
      "corr: [0.56816], r2: [0.06889]\n",
      "Doing 89: ACO2\n"
     ]
    },
    {
     "name": "stderr",
     "output_type": "stream",
     "text": [
      "Running elastic model with corum transcripts:   1%|          | 90/10921 [00:45<1:47:26,  1.68it/s]"
     ]
    },
    {
     "name": "stdout",
     "output_type": "stream",
     "text": [
      "corr: [0.276], r2: [0.02584]\n",
      "Doing 90: ACOT1\n"
     ]
    },
    {
     "name": "stderr",
     "output_type": "stream",
     "text": [
      "Running elastic model with corum transcripts:   1%|          | 91/10921 [00:46<1:39:41,  1.81it/s]"
     ]
    },
    {
     "name": "stdout",
     "output_type": "stream",
     "text": [
      "corr: [0.54766], r2: [0.21903]\n",
      "Doing 91: ACOT11\n"
     ]
    },
    {
     "name": "stderr",
     "output_type": "stream",
     "text": [
      "Running elastic model with corum transcripts:   1%|          | 92/10921 [00:46<1:32:52,  1.94it/s]"
     ]
    },
    {
     "name": "stdout",
     "output_type": "stream",
     "text": [
      "corr: [0.60407], r2: [0.20593]\n",
      "Doing 92: ACOT13\n"
     ]
    },
    {
     "name": "stderr",
     "output_type": "stream",
     "text": [
      "Running elastic model with corum transcripts:   1%|          | 93/10921 [00:46<1:29:02,  2.03it/s]"
     ]
    },
    {
     "name": "stdout",
     "output_type": "stream",
     "text": [
      "corr: [0.11867], r2: [0.00994]\n",
      "Doing 93: ACOT2\n"
     ]
    },
    {
     "name": "stderr",
     "output_type": "stream",
     "text": [
      "Running elastic model with corum transcripts:   1%|          | 94/10921 [00:47<1:26:11,  2.09it/s]"
     ]
    },
    {
     "name": "stdout",
     "output_type": "stream",
     "text": [
      "corr: [-0.16379], r2: [-0.25702]\n",
      "Doing 94: ACOT4\n"
     ]
    },
    {
     "name": "stderr",
     "output_type": "stream",
     "text": [
      "Running elastic model with corum transcripts:   1%|          | 95/10921 [00:47<1:27:37,  2.06it/s]"
     ]
    },
    {
     "name": "stdout",
     "output_type": "stream",
     "text": [
      "corr: [-0.14246], r2: [-0.16753]\n",
      "Doing 95: ACOT7\n"
     ]
    },
    {
     "name": "stderr",
     "output_type": "stream",
     "text": [
      "Running elastic model with corum transcripts:   1%|          | 96/10921 [00:48<1:24:45,  2.13it/s]"
     ]
    },
    {
     "name": "stdout",
     "output_type": "stream",
     "text": [
      "corr: [0.69957], r2: [0.35858]\n",
      "Doing 96: ACOT8\n"
     ]
    },
    {
     "name": "stderr",
     "output_type": "stream",
     "text": [
      "Running elastic model with corum transcripts:   1%|          | 97/10921 [00:48<1:22:34,  2.18it/s]"
     ]
    },
    {
     "name": "stdout",
     "output_type": "stream",
     "text": [
      "corr: [0.6929], r2: [0.29546]\n",
      "Doing 97: ACOT9\n"
     ]
    },
    {
     "name": "stderr",
     "output_type": "stream",
     "text": [
      "Running elastic model with corum transcripts:   1%|          | 98/10921 [00:49<1:22:00,  2.20it/s]"
     ]
    },
    {
     "name": "stdout",
     "output_type": "stream",
     "text": [
      "corr: [0.57571], r2: [0.18578]\n",
      "Doing 98: ACOX1\n"
     ]
    },
    {
     "name": "stderr",
     "output_type": "stream",
     "text": [
      "Running elastic model with corum transcripts:   1%|          | 99/10921 [00:49<1:21:10,  2.22it/s]"
     ]
    },
    {
     "name": "stdout",
     "output_type": "stream",
     "text": [
      "corr: [0.43634], r2: [0.08181]\n",
      "Doing 99: ACOX2\n"
     ]
    },
    {
     "name": "stderr",
     "output_type": "stream",
     "text": [
      "Running elastic model with corum transcripts:   1%|          | 100/10921 [00:50<1:20:47,  2.23it/s]"
     ]
    },
    {
     "name": "stdout",
     "output_type": "stream",
     "text": [
      "corr: [0.52013], r2: [0.19442]\n",
      "Doing 100: ACOX3\n"
     ]
    },
    {
     "name": "stderr",
     "output_type": "stream",
     "text": [
      "Running elastic model with corum transcripts:   1%|          | 101/10921 [00:50<1:20:20,  2.24it/s]"
     ]
    },
    {
     "name": "stdout",
     "output_type": "stream",
     "text": [
      "corr: [0.46704], r2: [0.15958]\n",
      "Doing 101: ACP1\n"
     ]
    },
    {
     "name": "stderr",
     "output_type": "stream",
     "text": [
      "Running elastic model with corum transcripts:   1%|          | 102/10921 [00:51<1:23:44,  2.15it/s]"
     ]
    },
    {
     "name": "stdout",
     "output_type": "stream",
     "text": [
      "corr: [0.13383], r2: [-0.1417]\n",
      "Doing 102: ACP2\n"
     ]
    },
    {
     "name": "stderr",
     "output_type": "stream",
     "text": [
      "Running elastic model with corum transcripts:   1%|          | 103/10921 [00:51<1:23:09,  2.17it/s]"
     ]
    },
    {
     "name": "stdout",
     "output_type": "stream",
     "text": [
      "corr: [0.11292], r2: [-0.05526]\n",
      "Doing 103: ACP5\n"
     ]
    },
    {
     "name": "stderr",
     "output_type": "stream",
     "text": [
      "Running elastic model with corum transcripts:   1%|          | 104/10921 [00:51<1:22:10,  2.19it/s]"
     ]
    },
    {
     "name": "stdout",
     "output_type": "stream",
     "text": [
      "corr: [0.43965], r2: [0.15996]\n",
      "Doing 104: ACP6\n"
     ]
    },
    {
     "name": "stderr",
     "output_type": "stream",
     "text": [
      "Running elastic model with corum transcripts:   1%|          | 105/10921 [00:52<1:21:24,  2.21it/s]"
     ]
    },
    {
     "name": "stdout",
     "output_type": "stream",
     "text": [
      "corr: [0.51985], r2: [0.07654]\n",
      "Doing 105: ACPP\n"
     ]
    },
    {
     "name": "stderr",
     "output_type": "stream",
     "text": [
      "Running elastic model with corum transcripts:   1%|          | 106/10921 [00:52<1:20:38,  2.24it/s]"
     ]
    },
    {
     "name": "stdout",
     "output_type": "stream",
     "text": [
      "corr: [0.56671], r2: [-0.39226]\n",
      "Doing 106: ACSF2\n"
     ]
    },
    {
     "name": "stderr",
     "output_type": "stream",
     "text": [
      "Running elastic model with corum transcripts:   1%|          | 107/10921 [00:53<1:20:45,  2.23it/s]"
     ]
    },
    {
     "name": "stdout",
     "output_type": "stream",
     "text": [
      "corr: [0.54204], r2: [-0.06205]\n",
      "Doing 107: ACSF3\n"
     ]
    },
    {
     "name": "stderr",
     "output_type": "stream",
     "text": [
      "Running elastic model with corum transcripts:   1%|          | 108/10921 [00:53<1:20:46,  2.23it/s]"
     ]
    },
    {
     "name": "stdout",
     "output_type": "stream",
     "text": [
      "corr: [0.28632], r2: [-0.04418]\n",
      "Doing 108: ACSL1\n"
     ]
    },
    {
     "name": "stderr",
     "output_type": "stream",
     "text": [
      "Running elastic model with corum transcripts:   1%|          | 109/10921 [00:54<1:25:05,  2.12it/s]"
     ]
    },
    {
     "name": "stdout",
     "output_type": "stream",
     "text": [
      "corr: [0.61591], r2: [0.34816]\n",
      "Doing 109: ACSL3\n"
     ]
    },
    {
     "name": "stderr",
     "output_type": "stream",
     "text": [
      "Running elastic model with corum transcripts:   1%|          | 110/10921 [00:54<1:22:56,  2.17it/s]"
     ]
    },
    {
     "name": "stdout",
     "output_type": "stream",
     "text": [
      "corr: [0.22778], r2: [-0.12952]\n",
      "Doing 110: ACSL4\n"
     ]
    },
    {
     "name": "stderr",
     "output_type": "stream",
     "text": [
      "Running elastic model with corum transcripts:   1%|          | 111/10921 [00:55<1:22:05,  2.19it/s]"
     ]
    },
    {
     "name": "stdout",
     "output_type": "stream",
     "text": [
      "corr: [0.69186], r2: [0.41677]\n",
      "Doing 111: ACSL5\n"
     ]
    },
    {
     "name": "stderr",
     "output_type": "stream",
     "text": [
      "Running elastic model with corum transcripts:   1%|          | 112/10921 [00:55<1:21:55,  2.20it/s]"
     ]
    },
    {
     "name": "stdout",
     "output_type": "stream",
     "text": [
      "corr: [0.54725], r2: [0.26571]\n",
      "Doing 112: ACSL6\n"
     ]
    },
    {
     "name": "stderr",
     "output_type": "stream",
     "text": [
      "Running elastic model with corum transcripts:   1%|          | 113/10921 [00:56<1:21:30,  2.21it/s]"
     ]
    },
    {
     "name": "stdout",
     "output_type": "stream",
     "text": [
      "corr: [0.07225], r2: [-0.0998]\n",
      "Doing 113: ACSM3\n"
     ]
    },
    {
     "name": "stderr",
     "output_type": "stream",
     "text": [
      "Running elastic model with corum transcripts:   1%|          | 114/10921 [00:56<1:21:31,  2.21it/s]"
     ]
    },
    {
     "name": "stdout",
     "output_type": "stream",
     "text": [
      "corr: [0.27803], r2: [-0.10659]\n",
      "Doing 114: ACSS1\n"
     ]
    },
    {
     "name": "stderr",
     "output_type": "stream",
     "text": [
      "Running elastic model with corum transcripts:   1%|          | 115/10921 [00:56<1:22:27,  2.18it/s]"
     ]
    },
    {
     "name": "stdout",
     "output_type": "stream",
     "text": [
      "corr: [0.46737], r2: [0.20618]\n",
      "Doing 115: ACSS2\n"
     ]
    },
    {
     "name": "stderr",
     "output_type": "stream",
     "text": [
      "Running elastic model with corum transcripts:   1%|          | 116/10921 [00:57<1:22:36,  2.18it/s]"
     ]
    },
    {
     "name": "stdout",
     "output_type": "stream",
     "text": [
      "corr: [0.55166], r2: [0.28898]\n",
      "Doing 116: ACSS3\n"
     ]
    },
    {
     "name": "stderr",
     "output_type": "stream",
     "text": [
      "Running elastic model with corum transcripts:   1%|          | 117/10921 [00:57<1:27:35,  2.06it/s]"
     ]
    },
    {
     "name": "stdout",
     "output_type": "stream",
     "text": [
      "corr: [0.64677], r2: [0.02064]\n",
      "Doing 117: ACTA1\n"
     ]
    },
    {
     "name": "stderr",
     "output_type": "stream",
     "text": [
      "Running elastic model with corum transcripts:   1%|          | 118/10921 [00:58<1:25:47,  2.10it/s]"
     ]
    },
    {
     "name": "stdout",
     "output_type": "stream",
     "text": [
      "corr: [0.29971], r2: [0.03678]\n",
      "Doing 118: ACTA2\n"
     ]
    },
    {
     "name": "stderr",
     "output_type": "stream",
     "text": [
      "Running elastic model with corum transcripts:   1%|          | 119/10921 [00:59<2:15:45,  1.33it/s]"
     ]
    },
    {
     "name": "stdout",
     "output_type": "stream",
     "text": [
      "corr: [0.70117], r2: [0.416]\n",
      "Doing 119: ACTB\n"
     ]
    },
    {
     "name": "stderr",
     "output_type": "stream",
     "text": [
      "Running elastic model with corum transcripts:   1%|          | 120/10921 [01:01<2:50:27,  1.06it/s]"
     ]
    },
    {
     "name": "stdout",
     "output_type": "stream",
     "text": [
      "corr: [0.44742], r2: [0.02879]\n",
      "Doing 120: ACTBL2\n"
     ]
    },
    {
     "name": "stderr",
     "output_type": "stream",
     "text": [
      "Running elastic model with corum transcripts:   1%|          | 121/10921 [01:01<2:24:14,  1.25it/s]"
     ]
    },
    {
     "name": "stdout",
     "output_type": "stream",
     "text": [
      "corr: [-0.08303], r2: [-0.08141]\n",
      "Doing 121: ACTG1\n"
     ]
    },
    {
     "name": "stderr",
     "output_type": "stream",
     "text": [
      "Running elastic model with corum transcripts:   1%|          | 122/10921 [01:02<2:08:11,  1.40it/s]"
     ]
    },
    {
     "name": "stdout",
     "output_type": "stream",
     "text": [
      "corr: [0.3192], r2: [-0.09023]\n",
      "Doing 122: ACTG2\n"
     ]
    },
    {
     "name": "stderr",
     "output_type": "stream",
     "text": [
      "Running elastic model with corum transcripts:   1%|          | 123/10921 [01:03<2:49:46,  1.06it/s]"
     ]
    },
    {
     "name": "stdout",
     "output_type": "stream",
     "text": [
      "corr: [0.21102], r2: [-0.02881]\n",
      "Doing 123: ACTL6A\n"
     ]
    },
    {
     "name": "stderr",
     "output_type": "stream",
     "text": [
      "Running elastic model with corum transcripts:   1%|          | 124/10921 [01:04<2:40:33,  1.12it/s]"
     ]
    },
    {
     "name": "stdout",
     "output_type": "stream",
     "text": [
      "corr: [0.37597], r2: [-0.13185]\n",
      "Doing 124: ACTL8\n"
     ]
    },
    {
     "name": "stderr",
     "output_type": "stream",
     "text": [
      "Running elastic model with corum transcripts:   1%|          | 125/10921 [01:04<2:17:24,  1.31it/s]"
     ]
    },
    {
     "name": "stdout",
     "output_type": "stream",
     "text": [
      "corr: [0.3673], r2: [-1.45132]\n",
      "Doing 125: ACTN1\n"
     ]
    },
    {
     "name": "stderr",
     "output_type": "stream",
     "text": [
      "Running elastic model with corum transcripts:   1%|          | 126/10921 [01:05<2:04:45,  1.44it/s]"
     ]
    },
    {
     "name": "stdout",
     "output_type": "stream",
     "text": [
      "corr: [0.28414], r2: [0.07677]\n",
      "Doing 126: ACTN2\n"
     ]
    },
    {
     "name": "stderr",
     "output_type": "stream",
     "text": [
      "Running elastic model with corum transcripts:   1%|          | 127/10921 [01:05<1:52:16,  1.60it/s]"
     ]
    },
    {
     "name": "stdout",
     "output_type": "stream",
     "text": [
      "corr: [-0.18046], r2: [-0.12541]\n",
      "Doing 127: ACTN3\n"
     ]
    },
    {
     "name": "stderr",
     "output_type": "stream",
     "text": [
      "Running elastic model with corum transcripts:   1%|          | 128/10921 [01:06<1:42:46,  1.75it/s]"
     ]
    },
    {
     "name": "stdout",
     "output_type": "stream",
     "text": [
      "corr: [-0.48028], r2: [-0.34596]\n",
      "Doing 128: ACTN4\n"
     ]
    },
    {
     "name": "stderr",
     "output_type": "stream",
     "text": [
      "Running elastic model with corum transcripts:   1%|          | 129/10921 [01:06<1:40:10,  1.80it/s]"
     ]
    },
    {
     "name": "stdout",
     "output_type": "stream",
     "text": [
      "corr: [0.02646], r2: [-0.05894]\n",
      "Doing 129: ACTR10\n"
     ]
    },
    {
     "name": "stderr",
     "output_type": "stream",
     "text": [
      "/Applications/venv/CPTAC_Protein/lib/python3.9/site-packages/numpy/lib/function_base.py:2691: RuntimeWarning: invalid value encountered in true_divide\n",
      "  c /= stddev[:, None]\n",
      "/Applications/venv/CPTAC_Protein/lib/python3.9/site-packages/numpy/lib/function_base.py:2692: RuntimeWarning: invalid value encountered in true_divide\n",
      "  c /= stddev[None, :]\n",
      "Running elastic model with corum transcripts:   1%|          | 130/10921 [01:07<1:39:05,  1.82it/s]"
     ]
    },
    {
     "name": "stdout",
     "output_type": "stream",
     "text": [
      "corr: [0], r2: [-0.99234]\n",
      "Doing 130: ACTR1A\n"
     ]
    },
    {
     "name": "stderr",
     "output_type": "stream",
     "text": [
      "Running elastic model with corum transcripts:   1%|          | 131/10921 [01:07<1:33:21,  1.93it/s]"
     ]
    },
    {
     "name": "stdout",
     "output_type": "stream",
     "text": [
      "corr: [0.18992], r2: [-0.17268]\n",
      "Doing 131: ACTR1B\n"
     ]
    },
    {
     "name": "stderr",
     "output_type": "stream",
     "text": [
      "Running elastic model with corum transcripts:   1%|          | 132/10921 [01:08<1:28:52,  2.02it/s]"
     ]
    },
    {
     "name": "stdout",
     "output_type": "stream",
     "text": [
      "corr: [0.27382], r2: [-0.06724]\n",
      "Doing 132: ACTR2\n"
     ]
    },
    {
     "name": "stderr",
     "output_type": "stream",
     "text": [
      "Running elastic model with corum transcripts:   1%|          | 133/10921 [01:08<1:28:39,  2.03it/s]"
     ]
    },
    {
     "name": "stdout",
     "output_type": "stream",
     "text": [
      "corr: [0.44372], r2: [-0.28058]\n",
      "Doing 133: ACTR3\n"
     ]
    },
    {
     "name": "stderr",
     "output_type": "stream",
     "text": [
      "Running elastic model with corum transcripts:   1%|          | 134/10921 [01:09<1:28:38,  2.03it/s]"
     ]
    },
    {
     "name": "stdout",
     "output_type": "stream",
     "text": [
      "corr: [0.38091], r2: [-0.12961]\n",
      "Doing 134: ACTR3B\n"
     ]
    },
    {
     "name": "stderr",
     "output_type": "stream",
     "text": [
      "/Applications/venv/CPTAC_Protein/lib/python3.9/site-packages/numpy/lib/function_base.py:2691: RuntimeWarning: invalid value encountered in true_divide\n",
      "  c /= stddev[:, None]\n",
      "/Applications/venv/CPTAC_Protein/lib/python3.9/site-packages/numpy/lib/function_base.py:2692: RuntimeWarning: invalid value encountered in true_divide\n",
      "  c /= stddev[None, :]\n",
      "Running elastic model with corum transcripts:   1%|          | 135/10921 [01:09<1:26:05,  2.09it/s]"
     ]
    },
    {
     "name": "stdout",
     "output_type": "stream",
     "text": [
      "corr: [0], r2: [-0.15213]\n",
      "Doing 135: ACTR5\n"
     ]
    },
    {
     "name": "stderr",
     "output_type": "stream",
     "text": [
      "Running elastic model with corum transcripts:   1%|          | 136/10921 [01:10<1:27:36,  2.05it/s]"
     ]
    },
    {
     "name": "stdout",
     "output_type": "stream",
     "text": [
      "corr: [0.26104], r2: [0.03323]\n",
      "Doing 136: ACTR6\n"
     ]
    },
    {
     "name": "stderr",
     "output_type": "stream",
     "text": [
      "Running elastic model with corum transcripts:   1%|▏         | 137/10921 [01:10<1:34:01,  1.91it/s]"
     ]
    },
    {
     "name": "stdout",
     "output_type": "stream",
     "text": [
      "corr: [0.28391], r2: [0.04264]\n",
      "Doing 137: ACTR8\n"
     ]
    },
    {
     "name": "stderr",
     "output_type": "stream",
     "text": [
      "Running elastic model with corum transcripts:   1%|▏         | 138/10921 [01:11<1:33:01,  1.93it/s]"
     ]
    },
    {
     "name": "stdout",
     "output_type": "stream",
     "text": [
      "corr: [0.39778], r2: [-0.12381]\n",
      "Doing 138: ACVR1\n"
     ]
    },
    {
     "name": "stderr",
     "output_type": "stream",
     "text": [
      "Running elastic model with corum transcripts:   1%|▏         | 139/10921 [01:11<1:29:20,  2.01it/s]"
     ]
    },
    {
     "name": "stdout",
     "output_type": "stream",
     "text": [
      "corr: [0.20625], r2: [-0.039]\n",
      "Doing 139: ACY1\n"
     ]
    },
    {
     "name": "stderr",
     "output_type": "stream",
     "text": [
      "Running elastic model with corum transcripts:   1%|▏         | 140/10921 [01:12<1:26:48,  2.07it/s]"
     ]
    },
    {
     "name": "stdout",
     "output_type": "stream",
     "text": [
      "corr: [0.59441], r2: [0.27828]\n",
      "Doing 140: ACY3\n",
      "Not enough proteomics observations. Skipping protein.\n",
      "Doing 141: ACYP1\n"
     ]
    },
    {
     "name": "stderr",
     "output_type": "stream",
     "text": [
      "Running elastic model with corum transcripts:   1%|▏         | 142/10921 [01:12<1:05:31,  2.74it/s]"
     ]
    },
    {
     "name": "stdout",
     "output_type": "stream",
     "text": [
      "corr: [0.52213], r2: [0.25528]\n",
      "Doing 142: ACYP2\n"
     ]
    },
    {
     "name": "stderr",
     "output_type": "stream",
     "text": [
      "Running elastic model with corum transcripts:   1%|▏         | 143/10921 [01:13<1:08:49,  2.61it/s]"
     ]
    },
    {
     "name": "stdout",
     "output_type": "stream",
     "text": [
      "corr: [-0.09491], r2: [-0.14004]\n",
      "Doing 143: ADA\n"
     ]
    },
    {
     "name": "stderr",
     "output_type": "stream",
     "text": [
      "Running elastic model with corum transcripts:   1%|▏         | 144/10921 [01:13<1:14:21,  2.42it/s]"
     ]
    },
    {
     "name": "stdout",
     "output_type": "stream",
     "text": [
      "corr: [0.52812], r2: [0.26671]\n",
      "Doing 144: ADAL\n"
     ]
    },
    {
     "name": "stderr",
     "output_type": "stream",
     "text": [
      "Running elastic model with corum transcripts:   1%|▏         | 145/10921 [01:14<1:15:35,  2.38it/s]"
     ]
    },
    {
     "name": "stdout",
     "output_type": "stream",
     "text": [
      "corr: [0.30062], r2: [0.03749]\n",
      "Doing 145: ADAM10\n"
     ]
    },
    {
     "name": "stderr",
     "output_type": "stream",
     "text": [
      "Running elastic model with corum transcripts:   1%|▏         | 146/10921 [01:14<1:19:58,  2.25it/s]"
     ]
    },
    {
     "name": "stdout",
     "output_type": "stream",
     "text": [
      "corr: [0.52806], r2: [0.18167]\n",
      "Doing 146: ADAM12\n"
     ]
    },
    {
     "name": "stderr",
     "output_type": "stream",
     "text": [
      "Running elastic model with corum transcripts:   1%|▏         | 147/10921 [01:15<1:22:16,  2.18it/s]"
     ]
    },
    {
     "name": "stdout",
     "output_type": "stream",
     "text": [
      "corr: [0.7918], r2: [0.25965]\n",
      "Doing 147: ADAM15\n"
     ]
    },
    {
     "name": "stderr",
     "output_type": "stream",
     "text": [
      "Running elastic model with corum transcripts:   1%|▏         | 148/10921 [01:15<1:23:37,  2.15it/s]"
     ]
    },
    {
     "name": "stdout",
     "output_type": "stream",
     "text": [
      "corr: [0.39056], r2: [-0.05589]\n",
      "Doing 148: ADAM17\n"
     ]
    },
    {
     "name": "stderr",
     "output_type": "stream",
     "text": [
      "Running elastic model with corum transcripts:   1%|▏         | 149/10921 [01:15<1:22:09,  2.19it/s]"
     ]
    },
    {
     "name": "stdout",
     "output_type": "stream",
     "text": [
      "corr: [0.26349], r2: [0.05321]\n",
      "Doing 149: ADAM28\n"
     ]
    },
    {
     "name": "stderr",
     "output_type": "stream",
     "text": [
      "Running elastic model with corum transcripts:   1%|▏         | 150/10921 [01:16<1:20:39,  2.23it/s]"
     ]
    },
    {
     "name": "stdout",
     "output_type": "stream",
     "text": [
      "corr: [0.51241], r2: [0.11792]\n",
      "Doing 150: ADAM9\n"
     ]
    },
    {
     "name": "stderr",
     "output_type": "stream",
     "text": [
      "Running elastic model with corum transcripts:   1%|▏         | 151/10921 [01:16<1:24:19,  2.13it/s]"
     ]
    },
    {
     "name": "stdout",
     "output_type": "stream",
     "text": [
      "corr: [0.33774], r2: [0.09238]\n",
      "Doing 151: ADAMDEC1\n"
     ]
    },
    {
     "name": "stderr",
     "output_type": "stream",
     "text": [
      "Running elastic model with corum transcripts:   1%|▏         | 152/10921 [01:17<1:23:51,  2.14it/s]"
     ]
    },
    {
     "name": "stdout",
     "output_type": "stream",
     "text": [
      "corr: [0.25638], r2: [-0.47261]\n",
      "Doing 152: ADAMTS1\n"
     ]
    },
    {
     "name": "stderr",
     "output_type": "stream",
     "text": [
      "Running elastic model with corum transcripts:   1%|▏         | 153/10921 [01:17<1:26:21,  2.08it/s]"
     ]
    },
    {
     "name": "stdout",
     "output_type": "stream",
     "text": [
      "corr: [0.33439], r2: [-0.06564]\n",
      "Doing 153: ADAMTS12\n"
     ]
    },
    {
     "name": "stderr",
     "output_type": "stream",
     "text": [
      "Running elastic model with corum transcripts:   1%|▏         | 154/10921 [01:18<1:25:16,  2.10it/s]"
     ]
    },
    {
     "name": "stdout",
     "output_type": "stream",
     "text": [
      "corr: [0.64462], r2: [0.41277]\n",
      "Doing 154: ADAMTS16\n"
     ]
    },
    {
     "name": "stderr",
     "output_type": "stream",
     "text": [
      "Running elastic model with corum transcripts:   1%|▏         | 155/10921 [01:18<1:24:07,  2.13it/s]"
     ]
    },
    {
     "name": "stdout",
     "output_type": "stream",
     "text": [
      "corr: [0.09254], r2: [-0.]\n",
      "Doing 155: ADAMTS2\n"
     ]
    },
    {
     "name": "stderr",
     "output_type": "stream",
     "text": [
      "Running elastic model with corum transcripts:   1%|▏         | 156/10921 [01:19<1:22:33,  2.17it/s]"
     ]
    },
    {
     "name": "stdout",
     "output_type": "stream",
     "text": [
      "corr: [0.65697], r2: [0.41935]\n",
      "Doing 156: ADAMTS4\n"
     ]
    },
    {
     "name": "stderr",
     "output_type": "stream",
     "text": [
      "Running elastic model with corum transcripts:   1%|▏         | 157/10921 [01:19<1:22:04,  2.19it/s]"
     ]
    },
    {
     "name": "stdout",
     "output_type": "stream",
     "text": [
      "corr: [0.37849], r2: [0.05039]\n",
      "Doing 157: ADAMTS5\n"
     ]
    },
    {
     "name": "stderr",
     "output_type": "stream",
     "text": [
      "/Applications/venv/CPTAC_Protein/lib/python3.9/site-packages/numpy/lib/function_base.py:2691: RuntimeWarning: invalid value encountered in true_divide\n",
      "  c /= stddev[:, None]\n",
      "/Applications/venv/CPTAC_Protein/lib/python3.9/site-packages/numpy/lib/function_base.py:2692: RuntimeWarning: invalid value encountered in true_divide\n",
      "  c /= stddev[None, :]\n",
      "Running elastic model with corum transcripts:   1%|▏         | 158/10921 [01:20<1:22:11,  2.18it/s]"
     ]
    },
    {
     "name": "stdout",
     "output_type": "stream",
     "text": [
      "corr: [0], r2: [-0.29017]\n",
      "Doing 158: ADAMTSL1\n"
     ]
    },
    {
     "name": "stderr",
     "output_type": "stream",
     "text": [
      "Running elastic model with corum transcripts:   1%|▏         | 159/10921 [01:20<1:21:03,  2.21it/s]"
     ]
    },
    {
     "name": "stdout",
     "output_type": "stream",
     "text": [
      "corr: [0.50011], r2: [0.07153]\n",
      "Doing 159: ADAMTSL2\n"
     ]
    },
    {
     "name": "stderr",
     "output_type": "stream",
     "text": [
      "Running elastic model with corum transcripts:   1%|▏         | 160/10921 [01:21<1:24:29,  2.12it/s]"
     ]
    },
    {
     "name": "stdout",
     "output_type": "stream",
     "text": [
      "corr: [0.25517], r2: [0.0638]\n",
      "Doing 160: ADAMTSL3\n"
     ]
    },
    {
     "name": "stderr",
     "output_type": "stream",
     "text": [
      "Running elastic model with corum transcripts:   1%|▏         | 161/10921 [01:21<1:22:56,  2.16it/s]"
     ]
    },
    {
     "name": "stdout",
     "output_type": "stream",
     "text": [
      "corr: [0.40652], r2: [-0.07206]\n",
      "Doing 161: ADAMTSL4\n",
      "No feature with non-zero variance. Skipping protein.\n",
      "Doing 162: ADAP1\n"
     ]
    },
    {
     "name": "stderr",
     "output_type": "stream",
     "text": [
      "Running elastic model with corum transcripts:   1%|▏         | 163/10921 [01:22<1:04:16,  2.79it/s]"
     ]
    },
    {
     "name": "stdout",
     "output_type": "stream",
     "text": [
      "corr: [0.2996], r2: [0.08315]\n",
      "Doing 163: ADAP2\n"
     ]
    },
    {
     "name": "stderr",
     "output_type": "stream",
     "text": [
      "Running elastic model with corum transcripts:   2%|▏         | 164/10921 [01:22<1:09:03,  2.60it/s]"
     ]
    },
    {
     "name": "stdout",
     "output_type": "stream",
     "text": [
      "corr: [0.21532], r2: [0.02179]\n",
      "Doing 164: ADAR\n"
     ]
    },
    {
     "name": "stderr",
     "output_type": "stream",
     "text": [
      "Running elastic model with corum transcripts:   2%|▏         | 165/10921 [01:23<1:14:34,  2.40it/s]"
     ]
    },
    {
     "name": "stdout",
     "output_type": "stream",
     "text": [
      "corr: [0.51576], r2: [0.23685]\n",
      "Doing 165: ADARB1\n"
     ]
    },
    {
     "name": "stderr",
     "output_type": "stream",
     "text": [
      "Running elastic model with corum transcripts:   2%|▏         | 166/10921 [01:23<1:16:44,  2.34it/s]"
     ]
    },
    {
     "name": "stdout",
     "output_type": "stream",
     "text": [
      "corr: [0.19907], r2: [-0.08441]\n",
      "Doing 166: ADAT1\n"
     ]
    },
    {
     "name": "stderr",
     "output_type": "stream",
     "text": [
      "Running elastic model with corum transcripts:   2%|▏         | 167/10921 [01:23<1:18:59,  2.27it/s]"
     ]
    },
    {
     "name": "stdout",
     "output_type": "stream",
     "text": [
      "corr: [0.47494], r2: [0.1008]\n",
      "Doing 167: ADCK1\n"
     ]
    },
    {
     "name": "stderr",
     "output_type": "stream",
     "text": [
      "/Applications/venv/CPTAC_Protein/lib/python3.9/site-packages/numpy/lib/function_base.py:2691: RuntimeWarning: invalid value encountered in true_divide\n",
      "  c /= stddev[:, None]\n",
      "/Applications/venv/CPTAC_Protein/lib/python3.9/site-packages/numpy/lib/function_base.py:2692: RuntimeWarning: invalid value encountered in true_divide\n",
      "  c /= stddev[None, :]\n",
      "Running elastic model with corum transcripts:   2%|▏         | 168/10921 [01:24<1:23:53,  2.14it/s]"
     ]
    },
    {
     "name": "stdout",
     "output_type": "stream",
     "text": [
      "corr: [0], r2: [-0.00124]\n",
      "Doing 168: ADCK5\n"
     ]
    },
    {
     "name": "stderr",
     "output_type": "stream",
     "text": [
      "Running elastic model with corum transcripts:   2%|▏         | 169/10921 [01:24<1:22:59,  2.16it/s]"
     ]
    },
    {
     "name": "stdout",
     "output_type": "stream",
     "text": [
      "corr: [0.14698], r2: [0.00159]\n",
      "Doing 169: ADCY3\n"
     ]
    },
    {
     "name": "stderr",
     "output_type": "stream",
     "text": [
      "/Applications/venv/CPTAC_Protein/lib/python3.9/site-packages/numpy/lib/function_base.py:2691: RuntimeWarning: invalid value encountered in true_divide\n",
      "  c /= stddev[:, None]\n",
      "/Applications/venv/CPTAC_Protein/lib/python3.9/site-packages/numpy/lib/function_base.py:2692: RuntimeWarning: invalid value encountered in true_divide\n",
      "  c /= stddev[None, :]\n",
      "Running elastic model with corum transcripts:   2%|▏         | 170/10921 [01:25<1:21:47,  2.19it/s]"
     ]
    },
    {
     "name": "stdout",
     "output_type": "stream",
     "text": [
      "corr: [0], r2: [-3.e-05]\n",
      "Doing 170: ADCY5\n"
     ]
    },
    {
     "name": "stderr",
     "output_type": "stream",
     "text": [
      "/Applications/venv/CPTAC_Protein/lib/python3.9/site-packages/numpy/lib/function_base.py:2691: RuntimeWarning: invalid value encountered in true_divide\n",
      "  c /= stddev[:, None]\n",
      "/Applications/venv/CPTAC_Protein/lib/python3.9/site-packages/numpy/lib/function_base.py:2692: RuntimeWarning: invalid value encountered in true_divide\n",
      "  c /= stddev[None, :]\n",
      "Running elastic model with corum transcripts:   2%|▏         | 171/10921 [01:25<1:21:07,  2.21it/s]"
     ]
    },
    {
     "name": "stdout",
     "output_type": "stream",
     "text": [
      "corr: [0], r2: [-0.0267]\n",
      "Doing 171: ADCY6\n"
     ]
    },
    {
     "name": "stderr",
     "output_type": "stream",
     "text": [
      "Running elastic model with corum transcripts:   2%|▏         | 172/10921 [01:26<1:21:28,  2.20it/s]"
     ]
    },
    {
     "name": "stdout",
     "output_type": "stream",
     "text": [
      "corr: [0.25348], r2: [0.01225]\n",
      "Doing 172: ADCY7\n"
     ]
    },
    {
     "name": "stderr",
     "output_type": "stream",
     "text": [
      "/Applications/venv/CPTAC_Protein/lib/python3.9/site-packages/numpy/lib/function_base.py:2691: RuntimeWarning: invalid value encountered in true_divide\n",
      "  c /= stddev[:, None]\n",
      "/Applications/venv/CPTAC_Protein/lib/python3.9/site-packages/numpy/lib/function_base.py:2692: RuntimeWarning: invalid value encountered in true_divide\n",
      "  c /= stddev[None, :]\n",
      "Running elastic model with corum transcripts:   2%|▏         | 173/10921 [01:26<1:22:11,  2.18it/s]"
     ]
    },
    {
     "name": "stdout",
     "output_type": "stream",
     "text": [
      "corr: [0], r2: [-0.0018]\n",
      "Doing 173: ADD1\n"
     ]
    },
    {
     "name": "stderr",
     "output_type": "stream",
     "text": [
      "Running elastic model with corum transcripts:   2%|▏         | 174/10921 [01:27<1:23:01,  2.16it/s]"
     ]
    },
    {
     "name": "stdout",
     "output_type": "stream",
     "text": [
      "corr: [-0.06315], r2: [-0.07776]\n",
      "Doing 174: ADD2\n"
     ]
    },
    {
     "name": "stderr",
     "output_type": "stream",
     "text": [
      "Running elastic model with corum transcripts:   2%|▏         | 175/10921 [01:27<1:23:31,  2.14it/s]"
     ]
    },
    {
     "name": "stdout",
     "output_type": "stream",
     "text": [
      "corr: [0.2476], r2: [-0.05764]\n",
      "Doing 175: ADD3\n"
     ]
    },
    {
     "name": "stderr",
     "output_type": "stream",
     "text": [
      "Running elastic model with corum transcripts:   2%|▏         | 176/10921 [01:28<1:28:02,  2.03it/s]"
     ]
    },
    {
     "name": "stdout",
     "output_type": "stream",
     "text": [
      "corr: [0.64739], r2: [0.31563]\n",
      "Doing 176: ADH1A\n"
     ]
    },
    {
     "name": "stderr",
     "output_type": "stream",
     "text": [
      "/Applications/venv/CPTAC_Protein/lib/python3.9/site-packages/numpy/lib/function_base.py:2691: RuntimeWarning: invalid value encountered in true_divide\n",
      "  c /= stddev[:, None]\n",
      "/Applications/venv/CPTAC_Protein/lib/python3.9/site-packages/numpy/lib/function_base.py:2692: RuntimeWarning: invalid value encountered in true_divide\n",
      "  c /= stddev[None, :]\n",
      "Running elastic model with corum transcripts:   2%|▏         | 177/10921 [01:28<1:26:01,  2.08it/s]"
     ]
    },
    {
     "name": "stdout",
     "output_type": "stream",
     "text": [
      "corr: [0.], r2: [-0.00658]\n",
      "Doing 177: ADH1B\n"
     ]
    },
    {
     "name": "stderr",
     "output_type": "stream",
     "text": [
      "Running elastic model with corum transcripts:   2%|▏         | 178/10921 [01:29<1:24:13,  2.13it/s]"
     ]
    },
    {
     "name": "stdout",
     "output_type": "stream",
     "text": [
      "corr: [0.67198], r2: [0.37713]\n",
      "Doing 178: ADH1C\n"
     ]
    },
    {
     "name": "stderr",
     "output_type": "stream",
     "text": [
      "Running elastic model with corum transcripts:   2%|▏         | 179/10921 [01:29<1:21:51,  2.19it/s]"
     ]
    },
    {
     "name": "stdout",
     "output_type": "stream",
     "text": [
      "corr: [0.58665], r2: [0.29706]\n",
      "Doing 179: ADH4\n"
     ]
    },
    {
     "name": "stderr",
     "output_type": "stream",
     "text": [
      "Running elastic model with corum transcripts:   2%|▏         | 180/10921 [01:30<1:21:00,  2.21it/s]"
     ]
    },
    {
     "name": "stdout",
     "output_type": "stream",
     "text": [
      "corr: [0.44952], r2: [-1.02166]\n",
      "Doing 180: ADH5\n"
     ]
    },
    {
     "name": "stderr",
     "output_type": "stream",
     "text": [
      "Running elastic model with corum transcripts:   2%|▏         | 181/10921 [01:30<1:21:02,  2.21it/s]"
     ]
    },
    {
     "name": "stdout",
     "output_type": "stream",
     "text": [
      "corr: [0.47247], r2: [-0.12459]\n",
      "Doing 181: ADHFE1\n"
     ]
    },
    {
     "name": "stderr",
     "output_type": "stream",
     "text": [
      "Running elastic model with corum transcripts:   2%|▏         | 182/10921 [01:30<1:20:17,  2.23it/s]"
     ]
    },
    {
     "name": "stdout",
     "output_type": "stream",
     "text": [
      "corr: [0.07288], r2: [-0.02492]\n",
      "Doing 182: ADI1\n"
     ]
    },
    {
     "name": "stderr",
     "output_type": "stream",
     "text": [
      "Running elastic model with corum transcripts:   2%|▏         | 183/10921 [01:31<1:23:29,  2.14it/s]"
     ]
    },
    {
     "name": "stdout",
     "output_type": "stream",
     "text": [
      "corr: [0.23321], r2: [-0.2383]\n",
      "Doing 183: ADIPOQ\n"
     ]
    },
    {
     "name": "stderr",
     "output_type": "stream",
     "text": [
      "Running elastic model with corum transcripts:   2%|▏         | 184/10921 [01:31<1:24:21,  2.12it/s]"
     ]
    },
    {
     "name": "stdout",
     "output_type": "stream",
     "text": [
      "corr: [0.7368], r2: [0.08823]\n",
      "Doing 184: ADIRF\n"
     ]
    },
    {
     "name": "stderr",
     "output_type": "stream",
     "text": [
      "Running elastic model with corum transcripts:   2%|▏         | 185/10921 [01:32<1:26:40,  2.06it/s]"
     ]
    },
    {
     "name": "stdout",
     "output_type": "stream",
     "text": [
      "corr: [0.69029], r2: [0.30159]\n",
      "Doing 185: ADK\n"
     ]
    },
    {
     "name": "stderr",
     "output_type": "stream",
     "text": [
      "Running elastic model with corum transcripts:   2%|▏         | 186/10921 [01:32<1:23:58,  2.13it/s]"
     ]
    },
    {
     "name": "stdout",
     "output_type": "stream",
     "text": [
      "corr: [0.46213], r2: [-0.05681]\n",
      "Doing 186: ADNP\n"
     ]
    },
    {
     "name": "stderr",
     "output_type": "stream",
     "text": [
      "Running elastic model with corum transcripts:   2%|▏         | 187/10921 [01:33<1:22:28,  2.17it/s]"
     ]
    },
    {
     "name": "stdout",
     "output_type": "stream",
     "text": [
      "corr: [0.22548], r2: [0.01689]\n",
      "Doing 187: ADNP2\n"
     ]
    },
    {
     "name": "stderr",
     "output_type": "stream",
     "text": [
      "Running elastic model with corum transcripts:   2%|▏         | 188/10921 [01:33<1:21:17,  2.20it/s]"
     ]
    },
    {
     "name": "stdout",
     "output_type": "stream",
     "text": [
      "corr: [0.35251], r2: [0.0417]\n",
      "Doing 188: ADO\n"
     ]
    },
    {
     "name": "stderr",
     "output_type": "stream",
     "text": [
      "Running elastic model with corum transcripts:   2%|▏         | 189/10921 [01:34<1:20:27,  2.22it/s]"
     ]
    },
    {
     "name": "stdout",
     "output_type": "stream",
     "text": [
      "corr: [0.56618], r2: [0.23209]\n",
      "Doing 189: ADPGK\n"
     ]
    },
    {
     "name": "stderr",
     "output_type": "stream",
     "text": [
      "Running elastic model with corum transcripts:   2%|▏         | 190/10921 [01:34<1:19:53,  2.24it/s]"
     ]
    },
    {
     "name": "stdout",
     "output_type": "stream",
     "text": [
      "corr: [0.26861], r2: [-0.22892]\n",
      "Doing 190: ADPRH\n"
     ]
    },
    {
     "name": "stderr",
     "output_type": "stream",
     "text": [
      "Running elastic model with corum transcripts:   2%|▏         | 191/10921 [01:35<1:23:37,  2.14it/s]"
     ]
    },
    {
     "name": "stdout",
     "output_type": "stream",
     "text": [
      "corr: [0.60252], r2: [0.24748]\n",
      "Doing 191: ADPRHL1\n",
      "Not enough proteomics observations. Skipping protein.\n",
      "Doing 192: ADPRHL2\n"
     ]
    },
    {
     "name": "stderr",
     "output_type": "stream",
     "text": [
      "Running elastic model with corum transcripts:   2%|▏         | 193/10921 [01:35<1:04:05,  2.79it/s]"
     ]
    },
    {
     "name": "stdout",
     "output_type": "stream",
     "text": [
      "corr: [0.44996], r2: [0.10921]\n",
      "Doing 193: ADRA2A\n"
     ]
    },
    {
     "name": "stderr",
     "output_type": "stream",
     "text": [
      "Running elastic model with corum transcripts:   2%|▏         | 194/10921 [01:36<1:08:30,  2.61it/s]"
     ]
    },
    {
     "name": "stdout",
     "output_type": "stream",
     "text": [
      "corr: [0.15726], r2: [-0.30048]\n",
      "Doing 194: ADRM1\n"
     ]
    },
    {
     "name": "stderr",
     "output_type": "stream",
     "text": [
      "/Applications/venv/CPTAC_Protein/lib/python3.9/site-packages/numpy/lib/function_base.py:2691: RuntimeWarning: invalid value encountered in true_divide\n",
      "  c /= stddev[:, None]\n",
      "/Applications/venv/CPTAC_Protein/lib/python3.9/site-packages/numpy/lib/function_base.py:2692: RuntimeWarning: invalid value encountered in true_divide\n",
      "  c /= stddev[None, :]\n",
      "Running elastic model with corum transcripts:   2%|▏         | 195/10921 [01:36<1:11:11,  2.51it/s]"
     ]
    },
    {
     "name": "stdout",
     "output_type": "stream",
     "text": [
      "corr: [0], r2: [-0.23774]\n",
      "Doing 195: ADSL\n"
     ]
    },
    {
     "name": "stderr",
     "output_type": "stream",
     "text": [
      "Running elastic model with corum transcripts:   2%|▏         | 196/10921 [01:36<1:13:06,  2.44it/s]"
     ]
    },
    {
     "name": "stdout",
     "output_type": "stream",
     "text": [
      "corr: [0.31691], r2: [0.05853]\n",
      "Doing 196: ADSS\n"
     ]
    },
    {
     "name": "stderr",
     "output_type": "stream",
     "text": [
      "Running elastic model with corum transcripts:   2%|▏         | 197/10921 [01:37<1:14:57,  2.38it/s]"
     ]
    },
    {
     "name": "stdout",
     "output_type": "stream",
     "text": [
      "corr: [0.72239], r2: [0.29681]\n",
      "Doing 197: ADSSL1\n"
     ]
    },
    {
     "name": "stderr",
     "output_type": "stream",
     "text": [
      "Running elastic model with corum transcripts:   2%|▏         | 198/10921 [01:37<1:17:54,  2.29it/s]"
     ]
    },
    {
     "name": "stdout",
     "output_type": "stream",
     "text": [
      "corr: [0.3214], r2: [0.01404]\n",
      "Doing 198: AEBP1\n"
     ]
    },
    {
     "name": "stderr",
     "output_type": "stream",
     "text": [
      "Running elastic model with corum transcripts:   2%|▏         | 199/10921 [01:38<1:21:56,  2.18it/s]"
     ]
    },
    {
     "name": "stdout",
     "output_type": "stream",
     "text": [
      "corr: [0.49907], r2: [0.21991]\n",
      "Doing 199: AES\n"
     ]
    },
    {
     "name": "stderr",
     "output_type": "stream",
     "text": [
      "Running elastic model with corum transcripts:   2%|▏         | 200/10921 [01:38<1:21:07,  2.20it/s]"
     ]
    },
    {
     "name": "stdout",
     "output_type": "stream",
     "text": [
      "corr: [0.09605], r2: [-0.07616]\n",
      "Doing 200: AFAP1\n"
     ]
    },
    {
     "name": "stderr",
     "output_type": "stream",
     "text": [
      "Running elastic model with corum transcripts:   2%|▏         | 201/10921 [01:39<1:21:01,  2.21it/s]"
     ]
    },
    {
     "name": "stdout",
     "output_type": "stream",
     "text": [
      "corr: [0.52422], r2: [0.27117]\n",
      "Doing 201: AFAP1L1\n"
     ]
    },
    {
     "name": "stderr",
     "output_type": "stream",
     "text": [
      "Running elastic model with corum transcripts:   2%|▏         | 202/10921 [01:39<1:20:47,  2.21it/s]"
     ]
    },
    {
     "name": "stdout",
     "output_type": "stream",
     "text": [
      "corr: [0.63031], r2: [0.23015]\n",
      "Doing 202: AFAP1L2\n"
     ]
    },
    {
     "name": "stderr",
     "output_type": "stream",
     "text": [
      "Running elastic model with corum transcripts:   2%|▏         | 203/10921 [01:40<1:20:52,  2.21it/s]"
     ]
    },
    {
     "name": "stdout",
     "output_type": "stream",
     "text": [
      "corr: [0.77314], r2: [0.54258]\n",
      "Doing 203: AFF4\n"
     ]
    },
    {
     "name": "stderr",
     "output_type": "stream",
     "text": [
      "/Applications/venv/CPTAC_Protein/lib/python3.9/site-packages/numpy/lib/function_base.py:2691: RuntimeWarning: invalid value encountered in true_divide\n",
      "  c /= stddev[:, None]\n",
      "/Applications/venv/CPTAC_Protein/lib/python3.9/site-packages/numpy/lib/function_base.py:2692: RuntimeWarning: invalid value encountered in true_divide\n",
      "  c /= stddev[None, :]\n",
      "Running elastic model with corum transcripts:   2%|▏         | 204/10921 [01:40<1:23:12,  2.15it/s]"
     ]
    },
    {
     "name": "stdout",
     "output_type": "stream",
     "text": [
      "corr: [0], r2: [-0.16966]\n",
      "Doing 204: AFG3L2\n"
     ]
    },
    {
     "name": "stderr",
     "output_type": "stream",
     "text": [
      "Running elastic model with corum transcripts:   2%|▏         | 205/10921 [01:41<1:24:28,  2.11it/s]"
     ]
    },
    {
     "name": "stdout",
     "output_type": "stream",
     "text": [
      "corr: [0.55303], r2: [0.27895]\n",
      "Doing 205: AFM\n"
     ]
    },
    {
     "name": "stderr",
     "output_type": "stream",
     "text": [
      "Running elastic model with corum transcripts:   2%|▏         | 206/10921 [01:41<1:23:01,  2.15it/s]"
     ]
    },
    {
     "name": "stdout",
     "output_type": "stream",
     "text": [
      "corr: [0.04632], r2: [-0.14323]\n",
      "Doing 206: AFMID\n"
     ]
    },
    {
     "name": "stderr",
     "output_type": "stream",
     "text": [
      "Running elastic model with corum transcripts:   2%|▏         | 207/10921 [01:42<1:25:43,  2.08it/s]"
     ]
    },
    {
     "name": "stdout",
     "output_type": "stream",
     "text": [
      "corr: [0.4149], r2: [0.14725]\n",
      "Doing 207: AFTPH\n"
     ]
    },
    {
     "name": "stderr",
     "output_type": "stream",
     "text": [
      "Running elastic model with corum transcripts:   2%|▏         | 208/10921 [01:42<1:23:33,  2.14it/s]"
     ]
    },
    {
     "name": "stdout",
     "output_type": "stream",
     "text": [
      "corr: [0.61219], r2: [0.34003]\n",
      "Doing 208: AGA\n"
     ]
    },
    {
     "name": "stderr",
     "output_type": "stream",
     "text": [
      "Running elastic model with corum transcripts:   2%|▏         | 209/10921 [01:42<1:22:27,  2.17it/s]"
     ]
    },
    {
     "name": "stdout",
     "output_type": "stream",
     "text": [
      "corr: [0.43432], r2: [-0.57715]\n",
      "Doing 209: AGAP1\n"
     ]
    },
    {
     "name": "stderr",
     "output_type": "stream",
     "text": [
      "Running elastic model with corum transcripts:   2%|▏         | 210/10921 [01:43<1:22:18,  2.17it/s]"
     ]
    },
    {
     "name": "stdout",
     "output_type": "stream",
     "text": [
      "corr: [0.51798], r2: [0.23353]\n",
      "Doing 210: AGAP2\n"
     ]
    },
    {
     "name": "stderr",
     "output_type": "stream",
     "text": [
      "/Applications/venv/CPTAC_Protein/lib/python3.9/site-packages/numpy/lib/function_base.py:2691: RuntimeWarning: invalid value encountered in true_divide\n",
      "  c /= stddev[:, None]\n",
      "/Applications/venv/CPTAC_Protein/lib/python3.9/site-packages/numpy/lib/function_base.py:2692: RuntimeWarning: invalid value encountered in true_divide\n",
      "  c /= stddev[None, :]\n",
      "Running elastic model with corum transcripts:   2%|▏         | 211/10921 [01:43<1:21:17,  2.20it/s]"
     ]
    },
    {
     "name": "stdout",
     "output_type": "stream",
     "text": [
      "corr: [0], r2: [-0.04079]\n",
      "Doing 211: AGAP3\n"
     ]
    },
    {
     "name": "stderr",
     "output_type": "stream",
     "text": [
      "Running elastic model with corum transcripts:   2%|▏         | 212/10921 [01:44<1:20:33,  2.22it/s]"
     ]
    },
    {
     "name": "stdout",
     "output_type": "stream",
     "text": [
      "corr: [0.36591], r2: [0.02752]\n",
      "Doing 212: AGFG1\n"
     ]
    },
    {
     "name": "stderr",
     "output_type": "stream",
     "text": [
      "Running elastic model with corum transcripts:   2%|▏         | 213/10921 [01:44<1:20:31,  2.22it/s]"
     ]
    },
    {
     "name": "stdout",
     "output_type": "stream",
     "text": [
      "corr: [0.6517], r2: [0.23557]\n",
      "Doing 213: AGFG2\n"
     ]
    },
    {
     "name": "stderr",
     "output_type": "stream",
     "text": [
      "Running elastic model with corum transcripts:   2%|▏         | 214/10921 [01:45<1:24:54,  2.10it/s]"
     ]
    },
    {
     "name": "stdout",
     "output_type": "stream",
     "text": [
      "corr: [0.44202], r2: [-0.24366]\n",
      "Doing 214: AGK\n"
     ]
    },
    {
     "name": "stderr",
     "output_type": "stream",
     "text": [
      "Running elastic model with corum transcripts:   2%|▏         | 215/10921 [01:45<1:23:45,  2.13it/s]"
     ]
    },
    {
     "name": "stdout",
     "output_type": "stream",
     "text": [
      "corr: [0.2648], r2: [0.05177]\n",
      "Doing 215: AGL\n"
     ]
    },
    {
     "name": "stderr",
     "output_type": "stream",
     "text": [
      "Running elastic model with corum transcripts:   2%|▏         | 216/10921 [01:46<1:22:45,  2.16it/s]"
     ]
    },
    {
     "name": "stdout",
     "output_type": "stream",
     "text": [
      "corr: [0.7137], r2: [0.41133]\n",
      "Doing 216: AGMAT\n"
     ]
    },
    {
     "name": "stderr",
     "output_type": "stream",
     "text": [
      "Running elastic model with corum transcripts:   2%|▏         | 217/10921 [01:46<1:21:50,  2.18it/s]"
     ]
    },
    {
     "name": "stdout",
     "output_type": "stream",
     "text": [
      "corr: [0.37309], r2: [0.11291]\n",
      "Doing 217: AGO1\n"
     ]
    },
    {
     "name": "stderr",
     "output_type": "stream",
     "text": [
      "/Applications/venv/CPTAC_Protein/lib/python3.9/site-packages/numpy/lib/function_base.py:2691: RuntimeWarning: invalid value encountered in true_divide\n",
      "  c /= stddev[:, None]\n",
      "/Applications/venv/CPTAC_Protein/lib/python3.9/site-packages/numpy/lib/function_base.py:2692: RuntimeWarning: invalid value encountered in true_divide\n",
      "  c /= stddev[None, :]\n",
      "Running elastic model with corum transcripts:   2%|▏         | 218/10921 [01:47<1:21:00,  2.20it/s]"
     ]
    },
    {
     "name": "stdout",
     "output_type": "stream",
     "text": [
      "corr: [0], r2: [-0.24797]\n",
      "Doing 218: AGO2\n"
     ]
    },
    {
     "name": "stderr",
     "output_type": "stream",
     "text": [
      "Running elastic model with corum transcripts:   2%|▏         | 219/10921 [01:47<1:23:01,  2.15it/s]"
     ]
    },
    {
     "name": "stdout",
     "output_type": "stream",
     "text": [
      "corr: [0.54888], r2: [0.20363]\n",
      "Doing 219: AGO3\n"
     ]
    },
    {
     "name": "stderr",
     "output_type": "stream",
     "text": [
      "Running elastic model with corum transcripts:   2%|▏         | 220/10921 [01:48<1:21:37,  2.19it/s]"
     ]
    },
    {
     "name": "stdout",
     "output_type": "stream",
     "text": [
      "corr: [0.13251], r2: [-0.3623]\n",
      "Doing 220: AGPAT1\n"
     ]
    },
    {
     "name": "stderr",
     "output_type": "stream",
     "text": [
      "/Applications/venv/CPTAC_Protein/lib/python3.9/site-packages/numpy/lib/function_base.py:2691: RuntimeWarning: invalid value encountered in true_divide\n",
      "  c /= stddev[:, None]\n",
      "/Applications/venv/CPTAC_Protein/lib/python3.9/site-packages/numpy/lib/function_base.py:2692: RuntimeWarning: invalid value encountered in true_divide\n",
      "  c /= stddev[None, :]\n",
      "Running elastic model with corum transcripts:   2%|▏         | 221/10921 [01:48<1:24:40,  2.11it/s]"
     ]
    },
    {
     "name": "stdout",
     "output_type": "stream",
     "text": [
      "corr: [0], r2: [-0.01079]\n",
      "Doing 221: AGPAT2\n"
     ]
    },
    {
     "name": "stderr",
     "output_type": "stream",
     "text": [
      "Running elastic model with corum transcripts:   2%|▏         | 222/10921 [01:49<1:23:34,  2.13it/s]"
     ]
    },
    {
     "name": "stdout",
     "output_type": "stream",
     "text": [
      "corr: [0.60762], r2: [0.22296]\n",
      "Doing 222: AGPAT3\n"
     ]
    },
    {
     "name": "stderr",
     "output_type": "stream",
     "text": [
      "Running elastic model with corum transcripts:   2%|▏         | 223/10921 [01:49<1:21:31,  2.19it/s]"
     ]
    },
    {
     "name": "stdout",
     "output_type": "stream",
     "text": [
      "corr: [0.15471], r2: [-0.0915]\n",
      "Doing 223: AGPAT4\n"
     ]
    },
    {
     "name": "stderr",
     "output_type": "stream",
     "text": [
      "Running elastic model with corum transcripts:   2%|▏         | 224/10921 [01:49<1:20:29,  2.22it/s]"
     ]
    },
    {
     "name": "stdout",
     "output_type": "stream",
     "text": [
      "corr: [0.58374], r2: [0.15966]\n",
      "Doing 224: AGPAT5\n"
     ]
    },
    {
     "name": "stderr",
     "output_type": "stream",
     "text": [
      "Running elastic model with corum transcripts:   2%|▏         | 225/10921 [01:50<1:19:23,  2.25it/s]"
     ]
    },
    {
     "name": "stdout",
     "output_type": "stream",
     "text": [
      "corr: [0.43549], r2: [0.09612]\n",
      "Doing 225: AGPS\n"
     ]
    },
    {
     "name": "stderr",
     "output_type": "stream",
     "text": [
      "Running elastic model with corum transcripts:   2%|▏         | 226/10921 [01:50<1:20:06,  2.23it/s]"
     ]
    },
    {
     "name": "stdout",
     "output_type": "stream",
     "text": [
      "corr: [0.79729], r2: [0.42297]\n",
      "Doing 226: AGR2\n"
     ]
    },
    {
     "name": "stderr",
     "output_type": "stream",
     "text": [
      "Running elastic model with corum transcripts:   2%|▏         | 227/10921 [01:51<1:19:13,  2.25it/s]"
     ]
    },
    {
     "name": "stdout",
     "output_type": "stream",
     "text": [
      "corr: [0.71091], r2: [0.42748]\n",
      "Doing 227: AGR3\n"
     ]
    },
    {
     "name": "stderr",
     "output_type": "stream",
     "text": [
      "Running elastic model with corum transcripts:   2%|▏         | 228/10921 [01:51<1:19:16,  2.25it/s]"
     ]
    },
    {
     "name": "stdout",
     "output_type": "stream",
     "text": [
      "corr: [0.68283], r2: [0.37371]\n",
      "Doing 228: AGRN\n"
     ]
    },
    {
     "name": "stderr",
     "output_type": "stream",
     "text": [
      "Running elastic model with corum transcripts:   2%|▏         | 229/10921 [01:52<1:24:30,  2.11it/s]"
     ]
    },
    {
     "name": "stdout",
     "output_type": "stream",
     "text": [
      "corr: [0.16533], r2: [-0.07132]\n",
      "Doing 229: AGT\n"
     ]
    },
    {
     "name": "stderr",
     "output_type": "stream",
     "text": [
      "/Applications/venv/CPTAC_Protein/lib/python3.9/site-packages/numpy/lib/function_base.py:2691: RuntimeWarning: invalid value encountered in true_divide\n",
      "  c /= stddev[:, None]\n",
      "/Applications/venv/CPTAC_Protein/lib/python3.9/site-packages/numpy/lib/function_base.py:2692: RuntimeWarning: invalid value encountered in true_divide\n",
      "  c /= stddev[None, :]\n",
      "Running elastic model with corum transcripts:   2%|▏         | 230/10921 [01:52<1:24:44,  2.10it/s]"
     ]
    },
    {
     "name": "stdout",
     "output_type": "stream",
     "text": [
      "corr: [0], r2: [-0.22753]\n",
      "Doing 230: AGTPBP1\n"
     ]
    },
    {
     "name": "stderr",
     "output_type": "stream",
     "text": [
      "Running elastic model with corum transcripts:   2%|▏         | 231/10921 [01:53<1:24:05,  2.12it/s]"
     ]
    },
    {
     "name": "stdout",
     "output_type": "stream",
     "text": [
      "corr: [0.51607], r2: [0.26273]\n",
      "Doing 231: AGTRAP\n"
     ]
    },
    {
     "name": "stderr",
     "output_type": "stream",
     "text": [
      "Running elastic model with corum transcripts:   2%|▏         | 232/10921 [01:53<1:22:44,  2.15it/s]"
     ]
    },
    {
     "name": "stdout",
     "output_type": "stream",
     "text": [
      "corr: [0.14318], r2: [-0.07045]\n",
      "Doing 232: AHCTF1\n"
     ]
    },
    {
     "name": "stderr",
     "output_type": "stream",
     "text": [
      "Running elastic model with corum transcripts:   2%|▏         | 233/10921 [01:54<1:21:28,  2.19it/s]"
     ]
    },
    {
     "name": "stdout",
     "output_type": "stream",
     "text": [
      "corr: [0.18055], r2: [0.03062]\n",
      "Doing 233: AHCY\n"
     ]
    },
    {
     "name": "stderr",
     "output_type": "stream",
     "text": [
      "Running elastic model with corum transcripts:   2%|▏         | 234/10921 [01:54<1:21:23,  2.19it/s]"
     ]
    },
    {
     "name": "stdout",
     "output_type": "stream",
     "text": [
      "corr: [0.62188], r2: [0.17633]\n",
      "Doing 234: AHCYL1\n"
     ]
    },
    {
     "name": "stderr",
     "output_type": "stream",
     "text": [
      "Running elastic model with corum transcripts:   2%|▏         | 235/10921 [01:54<1:20:52,  2.20it/s]"
     ]
    },
    {
     "name": "stdout",
     "output_type": "stream",
     "text": [
      "corr: [0.40089], r2: [-0.16034]\n",
      "Doing 235: AHCYL2\n"
     ]
    },
    {
     "name": "stderr",
     "output_type": "stream",
     "text": [
      "Running elastic model with corum transcripts:   2%|▏         | 236/10921 [01:55<1:21:46,  2.18it/s]"
     ]
    },
    {
     "name": "stdout",
     "output_type": "stream",
     "text": [
      "corr: [0.47111], r2: [0.21462]\n",
      "Doing 236: AHDC1\n"
     ]
    },
    {
     "name": "stderr",
     "output_type": "stream",
     "text": [
      "Running elastic model with corum transcripts:   2%|▏         | 237/10921 [01:55<1:24:32,  2.11it/s]"
     ]
    },
    {
     "name": "stdout",
     "output_type": "stream",
     "text": [
      "corr: [0.40862], r2: [0.14817]\n",
      "Doing 237: AHNAK\n"
     ]
    },
    {
     "name": "stderr",
     "output_type": "stream",
     "text": [
      "Running elastic model with corum transcripts:   2%|▏         | 238/10921 [01:56<1:25:06,  2.09it/s]"
     ]
    },
    {
     "name": "stdout",
     "output_type": "stream",
     "text": [
      "corr: [0.16716], r2: [-0.33719]\n",
      "Doing 238: AHNAK2\n"
     ]
    },
    {
     "name": "stderr",
     "output_type": "stream",
     "text": [
      "Running elastic model with corum transcripts:   2%|▏         | 239/10921 [01:56<1:23:18,  2.14it/s]"
     ]
    },
    {
     "name": "stdout",
     "output_type": "stream",
     "text": [
      "corr: [0.63677], r2: [0.36454]\n",
      "Doing 239: AHR\n"
     ]
    },
    {
     "name": "stderr",
     "output_type": "stream",
     "text": [
      "Running elastic model with corum transcripts:   2%|▏         | 240/10921 [01:57<1:23:24,  2.13it/s]"
     ]
    },
    {
     "name": "stdout",
     "output_type": "stream",
     "text": [
      "corr: [0.47879], r2: [0.21329]\n",
      "Doing 240: AHSA1\n"
     ]
    },
    {
     "name": "stderr",
     "output_type": "stream",
     "text": [
      "Running elastic model with corum transcripts:   2%|▏         | 241/10921 [01:57<1:22:18,  2.16it/s]"
     ]
    },
    {
     "name": "stdout",
     "output_type": "stream",
     "text": [
      "corr: [0.61195], r2: [0.25883]\n",
      "Doing 241: AHSG\n"
     ]
    },
    {
     "name": "stderr",
     "output_type": "stream",
     "text": [
      "Running elastic model with corum transcripts:   2%|▏         | 242/10921 [01:58<1:21:54,  2.17it/s]"
     ]
    },
    {
     "name": "stdout",
     "output_type": "stream",
     "text": [
      "corr: [0.1231], r2: [-0.41864]\n",
      "Doing 242: AHSP\n"
     ]
    },
    {
     "name": "stderr",
     "output_type": "stream",
     "text": [
      "Running elastic model with corum transcripts:   2%|▏         | 243/10921 [01:58<1:21:15,  2.19it/s]"
     ]
    },
    {
     "name": "stdout",
     "output_type": "stream",
     "text": [
      "corr: [-0.2161], r2: [-0.0072]\n",
      "Doing 243: AIDA\n"
     ]
    },
    {
     "name": "stderr",
     "output_type": "stream",
     "text": [
      "Running elastic model with corum transcripts:   2%|▏         | 244/10921 [01:59<1:24:52,  2.10it/s]"
     ]
    },
    {
     "name": "stdout",
     "output_type": "stream",
     "text": [
      "corr: [0.45596], r2: [0.02778]\n",
      "Doing 244: AIF1\n"
     ]
    },
    {
     "name": "stderr",
     "output_type": "stream",
     "text": [
      "Running elastic model with corum transcripts:   2%|▏         | 245/10921 [01:59<1:23:59,  2.12it/s]"
     ]
    },
    {
     "name": "stdout",
     "output_type": "stream",
     "text": [
      "corr: [0.58536], r2: [0.3205]\n",
      "Doing 245: AIF1L\n"
     ]
    },
    {
     "name": "stderr",
     "output_type": "stream",
     "text": [
      "Running elastic model with corum transcripts:   2%|▏         | 246/10921 [02:00<1:22:41,  2.15it/s]"
     ]
    },
    {
     "name": "stdout",
     "output_type": "stream",
     "text": [
      "corr: [0.62826], r2: [0.33473]\n",
      "Doing 246: AIFM1\n"
     ]
    },
    {
     "name": "stderr",
     "output_type": "stream",
     "text": [
      "Running elastic model with corum transcripts:   2%|▏         | 247/10921 [02:00<1:22:28,  2.16it/s]"
     ]
    },
    {
     "name": "stdout",
     "output_type": "stream",
     "text": [
      "corr: [0.51105], r2: [0.09044]\n",
      "Doing 247: AIFM2\n"
     ]
    },
    {
     "name": "stderr",
     "output_type": "stream",
     "text": [
      "Running elastic model with corum transcripts:   2%|▏         | 248/10921 [02:01<1:21:49,  2.17it/s]"
     ]
    },
    {
     "name": "stdout",
     "output_type": "stream",
     "text": [
      "corr: [0.18928], r2: [0.00855]\n",
      "Doing 248: AIG1\n"
     ]
    },
    {
     "name": "stderr",
     "output_type": "stream",
     "text": [
      "Running elastic model with corum transcripts:   2%|▏         | 249/10921 [02:01<1:20:34,  2.21it/s]"
     ]
    },
    {
     "name": "stdout",
     "output_type": "stream",
     "text": [
      "corr: [0.42057], r2: [0.1118]\n",
      "Doing 249: AIMP1\n"
     ]
    },
    {
     "name": "stderr",
     "output_type": "stream",
     "text": [
      "Running elastic model with corum transcripts:   2%|▏         | 250/10921 [02:01<1:23:34,  2.13it/s]"
     ]
    },
    {
     "name": "stdout",
     "output_type": "stream",
     "text": [
      "corr: [0.13755], r2: [-0.14772]\n",
      "Doing 250: AIMP2\n"
     ]
    },
    {
     "name": "stderr",
     "output_type": "stream",
     "text": [
      "Running elastic model with corum transcripts:   2%|▏         | 251/10921 [02:02<1:25:24,  2.08it/s]"
     ]
    },
    {
     "name": "stdout",
     "output_type": "stream",
     "text": [
      "corr: [-0.15539], r2: [-0.12401]\n",
      "Doing 251: AIP\n"
     ]
    },
    {
     "name": "stderr",
     "output_type": "stream",
     "text": [
      "Running elastic model with corum transcripts:   2%|▏         | 252/10921 [02:03<1:28:50,  2.00it/s]"
     ]
    },
    {
     "name": "stdout",
     "output_type": "stream",
     "text": [
      "corr: [0.54603], r2: [0.19675]\n",
      "Doing 252: AJUBA\n"
     ]
    },
    {
     "name": "stderr",
     "output_type": "stream",
     "text": [
      "Running elastic model with corum transcripts:   2%|▏         | 253/10921 [02:03<1:28:53,  2.00it/s]"
     ]
    },
    {
     "name": "stdout",
     "output_type": "stream",
     "text": [
      "corr: [0.34054], r2: [0.09756]\n",
      "Doing 253: AK1\n"
     ]
    },
    {
     "name": "stderr",
     "output_type": "stream",
     "text": [
      "Running elastic model with corum transcripts:   2%|▏         | 254/10921 [02:03<1:26:47,  2.05it/s]"
     ]
    },
    {
     "name": "stdout",
     "output_type": "stream",
     "text": [
      "corr: [-0.13888], r2: [-0.06821]\n",
      "Doing 254: AK2\n"
     ]
    },
    {
     "name": "stderr",
     "output_type": "stream",
     "text": [
      "Running elastic model with corum transcripts:   2%|▏         | 255/10921 [02:04<1:26:27,  2.06it/s]"
     ]
    },
    {
     "name": "stdout",
     "output_type": "stream",
     "text": [
      "corr: [0.22677], r2: [0.04393]\n",
      "Doing 255: AK3\n"
     ]
    },
    {
     "name": "stderr",
     "output_type": "stream",
     "text": [
      "Running elastic model with corum transcripts:   2%|▏         | 256/10921 [02:04<1:24:01,  2.12it/s]"
     ]
    },
    {
     "name": "stdout",
     "output_type": "stream",
     "text": [
      "corr: [0.45357], r2: [0.06197]\n",
      "Doing 256: AK4\n"
     ]
    },
    {
     "name": "stderr",
     "output_type": "stream",
     "text": [
      "Running elastic model with corum transcripts:   2%|▏         | 257/10921 [02:05<1:21:53,  2.17it/s]"
     ]
    },
    {
     "name": "stdout",
     "output_type": "stream",
     "text": [
      "corr: [0.68471], r2: [0.4575]\n",
      "Doing 257: AK5\n"
     ]
    },
    {
     "name": "stderr",
     "output_type": "stream",
     "text": [
      "Running elastic model with corum transcripts:   2%|▏         | 258/10921 [02:05<1:20:29,  2.21it/s]"
     ]
    },
    {
     "name": "stdout",
     "output_type": "stream",
     "text": [
      "corr: [0.44522], r2: [0.04339]\n",
      "Doing 258: AK6\n"
     ]
    },
    {
     "name": "stderr",
     "output_type": "stream",
     "text": [
      "Running elastic model with corum transcripts:   2%|▏         | 259/10921 [02:06<1:24:11,  2.11it/s]"
     ]
    },
    {
     "name": "stdout",
     "output_type": "stream",
     "text": [
      "corr: [-0.17423], r2: [-0.08098]\n",
      "Doing 259: AKAP1\n"
     ]
    },
    {
     "name": "stderr",
     "output_type": "stream",
     "text": [
      "Running elastic model with corum transcripts:   2%|▏         | 260/10921 [02:06<1:23:05,  2.14it/s]"
     ]
    },
    {
     "name": "stdout",
     "output_type": "stream",
     "text": [
      "corr: [0.49179], r2: [0.08237]\n",
      "Doing 260: AKAP10\n"
     ]
    },
    {
     "name": "stderr",
     "output_type": "stream",
     "text": [
      "Running elastic model with corum transcripts:   2%|▏         | 261/10921 [02:07<1:21:41,  2.18it/s]"
     ]
    },
    {
     "name": "stdout",
     "output_type": "stream",
     "text": [
      "corr: [0.56225], r2: [0.287]\n",
      "Doing 261: AKAP11\n"
     ]
    },
    {
     "name": "stderr",
     "output_type": "stream",
     "text": [
      "Running elastic model with corum transcripts:   2%|▏         | 262/10921 [02:07<1:21:08,  2.19it/s]"
     ]
    },
    {
     "name": "stdout",
     "output_type": "stream",
     "text": [
      "corr: [0.09762], r2: [-0.01785]\n",
      "Doing 262: AKAP12\n"
     ]
    },
    {
     "name": "stderr",
     "output_type": "stream",
     "text": [
      "Running elastic model with corum transcripts:   2%|▏         | 263/10921 [02:08<1:21:35,  2.18it/s]"
     ]
    },
    {
     "name": "stdout",
     "output_type": "stream",
     "text": [
      "corr: [0.57417], r2: [0.26888]\n",
      "Doing 263: AKAP13\n"
     ]
    },
    {
     "name": "stderr",
     "output_type": "stream",
     "text": [
      "Running elastic model with corum transcripts:   2%|▏         | 264/10921 [02:08<1:21:49,  2.17it/s]"
     ]
    },
    {
     "name": "stdout",
     "output_type": "stream",
     "text": [
      "corr: [0.3443], r2: [0.0191]\n",
      "Doing 264: AKAP17A\n"
     ]
    },
    {
     "name": "stderr",
     "output_type": "stream",
     "text": [
      "Running elastic model with corum transcripts:   2%|▏         | 265/10921 [02:08<1:20:41,  2.20it/s]"
     ]
    },
    {
     "name": "stdout",
     "output_type": "stream",
     "text": [
      "corr: [0.18371], r2: [-0.01629]\n",
      "Doing 265: AKAP5\n"
     ]
    },
    {
     "name": "stderr",
     "output_type": "stream",
     "text": [
      "Running elastic model with corum transcripts:   2%|▏         | 266/10921 [02:09<1:26:38,  2.05it/s]"
     ]
    },
    {
     "name": "stdout",
     "output_type": "stream",
     "text": [
      "corr: [0.54291], r2: [0.04668]\n",
      "Doing 266: AKAP7\n"
     ]
    },
    {
     "name": "stderr",
     "output_type": "stream",
     "text": [
      "Running elastic model with corum transcripts:   2%|▏         | 267/10921 [02:10<1:25:25,  2.08it/s]"
     ]
    },
    {
     "name": "stdout",
     "output_type": "stream",
     "text": [
      "corr: [0.6406], r2: [0.3367]\n",
      "Doing 267: AKAP8\n"
     ]
    },
    {
     "name": "stderr",
     "output_type": "stream",
     "text": [
      "Running elastic model with corum transcripts:   2%|▏         | 268/10921 [02:10<1:24:14,  2.11it/s]"
     ]
    },
    {
     "name": "stdout",
     "output_type": "stream",
     "text": [
      "corr: [0.10157], r2: [-0.05571]\n",
      "Doing 268: AKAP8L\n"
     ]
    },
    {
     "name": "stderr",
     "output_type": "stream",
     "text": [
      "Running elastic model with corum transcripts:   2%|▏         | 269/10921 [02:10<1:24:39,  2.10it/s]"
     ]
    },
    {
     "name": "stdout",
     "output_type": "stream",
     "text": [
      "corr: [0.47748], r2: [0.12471]\n",
      "Doing 269: AKAP9\n"
     ]
    },
    {
     "name": "stderr",
     "output_type": "stream",
     "text": [
      "Running elastic model with corum transcripts:   2%|▏         | 270/10921 [02:11<1:25:21,  2.08it/s]"
     ]
    },
    {
     "name": "stdout",
     "output_type": "stream",
     "text": [
      "corr: [0.1998], r2: [-0.01152]\n",
      "Doing 270: AKNA\n"
     ]
    },
    {
     "name": "stderr",
     "output_type": "stream",
     "text": [
      "/Applications/venv/CPTAC_Protein/lib/python3.9/site-packages/numpy/lib/function_base.py:2691: RuntimeWarning: invalid value encountered in true_divide\n",
      "  c /= stddev[:, None]\n",
      "/Applications/venv/CPTAC_Protein/lib/python3.9/site-packages/numpy/lib/function_base.py:2692: RuntimeWarning: invalid value encountered in true_divide\n",
      "  c /= stddev[None, :]\n",
      "Running elastic model with corum transcripts:   2%|▏         | 271/10921 [02:11<1:24:42,  2.10it/s]"
     ]
    },
    {
     "name": "stdout",
     "output_type": "stream",
     "text": [
      "corr: [0], r2: [-0.4346]\n",
      "Doing 271: AKR1A1\n"
     ]
    },
    {
     "name": "stderr",
     "output_type": "stream",
     "text": [
      "Running elastic model with corum transcripts:   2%|▏         | 272/10921 [02:12<1:23:09,  2.13it/s]"
     ]
    },
    {
     "name": "stdout",
     "output_type": "stream",
     "text": [
      "corr: [0.5009], r2: [0.13485]\n",
      "Doing 272: AKR1B1\n"
     ]
    },
    {
     "name": "stderr",
     "output_type": "stream",
     "text": [
      "Running elastic model with corum transcripts:   2%|▏         | 273/10921 [02:12<1:22:22,  2.15it/s]"
     ]
    },
    {
     "name": "stdout",
     "output_type": "stream",
     "text": [
      "corr: [0.57295], r2: [0.28197]\n",
      "Doing 273: AKR1B10\n"
     ]
    },
    {
     "name": "stderr",
     "output_type": "stream",
     "text": [
      "Running elastic model with corum transcripts:   3%|▎         | 274/10921 [02:13<1:26:19,  2.06it/s]"
     ]
    },
    {
     "name": "stdout",
     "output_type": "stream",
     "text": [
      "corr: [0.53094], r2: [-0.51712]\n",
      "Doing 274: AKR1C1\n"
     ]
    },
    {
     "name": "stderr",
     "output_type": "stream",
     "text": [
      "Running elastic model with corum transcripts:   3%|▎         | 275/10921 [02:13<1:25:01,  2.09it/s]"
     ]
    },
    {
     "name": "stdout",
     "output_type": "stream",
     "text": [
      "corr: [0.4492], r2: [0.11966]\n",
      "Doing 275: AKR1C2\n"
     ]
    },
    {
     "name": "stderr",
     "output_type": "stream",
     "text": [
      "Running elastic model with corum transcripts:   3%|▎         | 276/10921 [02:14<1:23:45,  2.12it/s]"
     ]
    },
    {
     "name": "stdout",
     "output_type": "stream",
     "text": [
      "corr: [0.55765], r2: [0.26835]\n",
      "Doing 276: AKR1C3\n"
     ]
    },
    {
     "name": "stderr",
     "output_type": "stream",
     "text": [
      "Running elastic model with corum transcripts:   3%|▎         | 277/10921 [02:14<1:22:29,  2.15it/s]"
     ]
    },
    {
     "name": "stdout",
     "output_type": "stream",
     "text": [
      "corr: [0.42798], r2: [0.15716]\n",
      "Doing 277: AKR7A2\n"
     ]
    },
    {
     "name": "stderr",
     "output_type": "stream",
     "text": [
      "Running elastic model with corum transcripts:   3%|▎         | 278/10921 [02:15<1:22:09,  2.16it/s]"
     ]
    },
    {
     "name": "stdout",
     "output_type": "stream",
     "text": [
      "corr: [0.74047], r2: [0.23647]\n",
      "Doing 278: AKR7A3\n"
     ]
    },
    {
     "name": "stderr",
     "output_type": "stream",
     "text": [
      "Running elastic model with corum transcripts:   3%|▎         | 279/10921 [02:15<1:22:42,  2.14it/s]"
     ]
    },
    {
     "name": "stdout",
     "output_type": "stream",
     "text": [
      "corr: [0.71047], r2: [0.29129]\n",
      "Doing 279: AKT1\n"
     ]
    },
    {
     "name": "stderr",
     "output_type": "stream",
     "text": [
      "Running elastic model with corum transcripts:   3%|▎         | 280/10921 [02:16<1:24:32,  2.10it/s]"
     ]
    },
    {
     "name": "stdout",
     "output_type": "stream",
     "text": [
      "corr: [0.41828], r2: [0.11189]\n",
      "Doing 280: AKT1S1\n"
     ]
    },
    {
     "name": "stderr",
     "output_type": "stream",
     "text": [
      "Running elastic model with corum transcripts:   3%|▎         | 281/10921 [02:16<1:28:39,  2.00it/s]"
     ]
    },
    {
     "name": "stdout",
     "output_type": "stream",
     "text": [
      "corr: [0.26233], r2: [0.04317]\n",
      "Doing 281: AKT2\n"
     ]
    },
    {
     "name": "stderr",
     "output_type": "stream",
     "text": [
      "Running elastic model with corum transcripts:   3%|▎         | 282/10921 [02:17<1:27:50,  2.02it/s]"
     ]
    },
    {
     "name": "stdout",
     "output_type": "stream",
     "text": [
      "corr: [0.48561], r2: [0.14384]\n",
      "Doing 282: AKT3\n"
     ]
    },
    {
     "name": "stderr",
     "output_type": "stream",
     "text": [
      "Running elastic model with corum transcripts:   3%|▎         | 283/10921 [02:17<1:24:59,  2.09it/s]"
     ]
    },
    {
     "name": "stdout",
     "output_type": "stream",
     "text": [
      "corr: [0.05905], r2: [-0.19919]\n",
      "Doing 283: AKTIP\n"
     ]
    },
    {
     "name": "stderr",
     "output_type": "stream",
     "text": [
      "Running elastic model with corum transcripts:   3%|▎         | 284/10921 [02:18<1:25:57,  2.06it/s]"
     ]
    },
    {
     "name": "stdout",
     "output_type": "stream",
     "text": [
      "corr: [0.50207], r2: [0.20487]\n",
      "Doing 284: ALAD\n"
     ]
    },
    {
     "name": "stderr",
     "output_type": "stream",
     "text": [
      "Running elastic model with corum transcripts:   3%|▎         | 285/10921 [02:18<1:23:50,  2.11it/s]"
     ]
    },
    {
     "name": "stdout",
     "output_type": "stream",
     "text": [
      "corr: [0.55429], r2: [0.19545]\n",
      "Doing 285: ALAS1\n"
     ]
    },
    {
     "name": "stderr",
     "output_type": "stream",
     "text": [
      "Running elastic model with corum transcripts:   3%|▎         | 286/10921 [02:19<1:22:23,  2.15it/s]"
     ]
    },
    {
     "name": "stdout",
     "output_type": "stream",
     "text": [
      "corr: [0.02916], r2: [-0.1122]\n",
      "Doing 286: ALB\n"
     ]
    },
    {
     "name": "stderr",
     "output_type": "stream",
     "text": [
      "/Applications/venv/CPTAC_Protein/lib/python3.9/site-packages/numpy/lib/function_base.py:2691: RuntimeWarning: invalid value encountered in true_divide\n",
      "  c /= stddev[:, None]\n",
      "/Applications/venv/CPTAC_Protein/lib/python3.9/site-packages/numpy/lib/function_base.py:2692: RuntimeWarning: invalid value encountered in true_divide\n",
      "  c /= stddev[None, :]\n",
      "Running elastic model with corum transcripts:   3%|▎         | 287/10921 [02:19<1:21:54,  2.16it/s]"
     ]
    },
    {
     "name": "stdout",
     "output_type": "stream",
     "text": [
      "corr: [0], r2: [-0.1377]\n",
      "Doing 287: ALCAM\n"
     ]
    },
    {
     "name": "stderr",
     "output_type": "stream",
     "text": [
      "Running elastic model with corum transcripts:   3%|▎         | 288/10921 [02:19<1:21:45,  2.17it/s]"
     ]
    },
    {
     "name": "stdout",
     "output_type": "stream",
     "text": [
      "corr: [0.59428], r2: [0.10179]\n",
      "Doing 288: ALDH16A1\n"
     ]
    },
    {
     "name": "stderr",
     "output_type": "stream",
     "text": [
      "Running elastic model with corum transcripts:   3%|▎         | 289/10921 [02:20<1:27:29,  2.03it/s]"
     ]
    },
    {
     "name": "stdout",
     "output_type": "stream",
     "text": [
      "corr: [0.19264], r2: [-0.06955]\n",
      "Doing 289: ALDH18A1\n"
     ]
    },
    {
     "name": "stderr",
     "output_type": "stream",
     "text": [
      "Running elastic model with corum transcripts:   3%|▎         | 290/10921 [02:20<1:25:24,  2.07it/s]"
     ]
    },
    {
     "name": "stdout",
     "output_type": "stream",
     "text": [
      "corr: [0.39009], r2: [0.13259]\n",
      "Doing 290: ALDH1A1\n"
     ]
    },
    {
     "name": "stderr",
     "output_type": "stream",
     "text": [
      "Running elastic model with corum transcripts:   3%|▎         | 291/10921 [02:21<1:23:03,  2.13it/s]"
     ]
    },
    {
     "name": "stdout",
     "output_type": "stream",
     "text": [
      "corr: [0.69146], r2: [0.30045]\n",
      "Doing 291: ALDH1A2\n"
     ]
    },
    {
     "name": "stderr",
     "output_type": "stream",
     "text": [
      "Running elastic model with corum transcripts:   3%|▎         | 292/10921 [02:21<1:22:32,  2.15it/s]"
     ]
    },
    {
     "name": "stdout",
     "output_type": "stream",
     "text": [
      "corr: [0.67571], r2: [0.19552]\n",
      "Doing 292: ALDH1A3\n"
     ]
    },
    {
     "name": "stderr",
     "output_type": "stream",
     "text": [
      "Running elastic model with corum transcripts:   3%|▎         | 293/10921 [02:22<1:21:02,  2.19it/s]"
     ]
    },
    {
     "name": "stdout",
     "output_type": "stream",
     "text": [
      "corr: [0.58216], r2: [0.28631]\n",
      "Doing 293: ALDH1B1\n"
     ]
    },
    {
     "name": "stderr",
     "output_type": "stream",
     "text": [
      "Running elastic model with corum transcripts:   3%|▎         | 294/10921 [02:22<1:20:44,  2.19it/s]"
     ]
    },
    {
     "name": "stdout",
     "output_type": "stream",
     "text": [
      "corr: [0.38275], r2: [0.14211]\n",
      "Doing 294: ALDH1L1\n"
     ]
    },
    {
     "name": "stderr",
     "output_type": "stream",
     "text": [
      "Running elastic model with corum transcripts:   3%|▎         | 295/10921 [02:23<1:19:22,  2.23it/s]"
     ]
    },
    {
     "name": "stdout",
     "output_type": "stream",
     "text": [
      "corr: [0.35013], r2: [0.03948]\n",
      "Doing 295: ALDH1L2\n"
     ]
    },
    {
     "name": "stderr",
     "output_type": "stream",
     "text": [
      "Running elastic model with corum transcripts:   3%|▎         | 296/10921 [02:23<1:19:47,  2.22it/s]"
     ]
    },
    {
     "name": "stdout",
     "output_type": "stream",
     "text": [
      "corr: [0.72138], r2: [0.47656]\n",
      "Doing 296: ALDH2\n"
     ]
    },
    {
     "name": "stderr",
     "output_type": "stream",
     "text": [
      "Running elastic model with corum transcripts:   3%|▎         | 297/10921 [02:24<1:24:17,  2.10it/s]"
     ]
    },
    {
     "name": "stdout",
     "output_type": "stream",
     "text": [
      "corr: [0.68197], r2: [0.26907]\n",
      "Doing 297: ALDH3A1\n"
     ]
    },
    {
     "name": "stderr",
     "output_type": "stream",
     "text": [
      "Running elastic model with corum transcripts:   3%|▎         | 298/10921 [02:24<1:22:55,  2.14it/s]"
     ]
    },
    {
     "name": "stdout",
     "output_type": "stream",
     "text": [
      "corr: [0.76944], r2: [0.02373]\n",
      "Doing 298: ALDH3A2\n"
     ]
    },
    {
     "name": "stderr",
     "output_type": "stream",
     "text": [
      "Running elastic model with corum transcripts:   3%|▎         | 299/10921 [02:25<1:21:30,  2.17it/s]"
     ]
    },
    {
     "name": "stdout",
     "output_type": "stream",
     "text": [
      "corr: [0.61745], r2: [0.26363]\n",
      "Doing 299: ALDH3B1\n"
     ]
    },
    {
     "name": "stderr",
     "output_type": "stream",
     "text": [
      "Running elastic model with corum transcripts:   3%|▎         | 300/10921 [02:25<1:21:27,  2.17it/s]"
     ]
    },
    {
     "name": "stdout",
     "output_type": "stream",
     "text": [
      "corr: [0.26992], r2: [-0.02155]\n",
      "Doing 300: ALDH4A1\n"
     ]
    },
    {
     "name": "stderr",
     "output_type": "stream",
     "text": [
      "Running elastic model with corum transcripts:   3%|▎         | 301/10921 [02:25<1:21:32,  2.17it/s]"
     ]
    },
    {
     "name": "stdout",
     "output_type": "stream",
     "text": [
      "corr: [0.55659], r2: [0.19321]\n",
      "Doing 301: ALDH5A1\n"
     ]
    },
    {
     "name": "stderr",
     "output_type": "stream",
     "text": [
      "Running elastic model with corum transcripts:   3%|▎         | 302/10921 [02:26<1:21:17,  2.18it/s]"
     ]
    },
    {
     "name": "stdout",
     "output_type": "stream",
     "text": [
      "corr: [0.69245], r2: [0.37013]\n",
      "Doing 302: ALDH6A1\n"
     ]
    },
    {
     "name": "stderr",
     "output_type": "stream",
     "text": [
      "Running elastic model with corum transcripts:   3%|▎         | 303/10921 [02:26<1:20:33,  2.20it/s]"
     ]
    },
    {
     "name": "stdout",
     "output_type": "stream",
     "text": [
      "corr: [0.73953], r2: [0.5063]\n",
      "Doing 303: ALDH7A1\n"
     ]
    },
    {
     "name": "stderr",
     "output_type": "stream",
     "text": [
      "Running elastic model with corum transcripts:   3%|▎         | 304/10921 [02:27<1:25:37,  2.07it/s]"
     ]
    },
    {
     "name": "stdout",
     "output_type": "stream",
     "text": [
      "corr: [0.56543], r2: [-0.15564]\n",
      "Doing 304: ALDH9A1\n"
     ]
    },
    {
     "name": "stderr",
     "output_type": "stream",
     "text": [
      "Running elastic model with corum transcripts:   3%|▎         | 305/10921 [02:27<1:24:54,  2.08it/s]"
     ]
    },
    {
     "name": "stdout",
     "output_type": "stream",
     "text": [
      "corr: [0.51916], r2: [-0.06028]\n",
      "Doing 305: ALDOA\n"
     ]
    },
    {
     "name": "stderr",
     "output_type": "stream",
     "text": [
      "Running elastic model with corum transcripts:   3%|▎         | 306/10921 [02:28<1:23:09,  2.13it/s]"
     ]
    },
    {
     "name": "stdout",
     "output_type": "stream",
     "text": [
      "corr: [0.37399], r2: [0.09392]\n",
      "Doing 306: ALDOB\n"
     ]
    },
    {
     "name": "stderr",
     "output_type": "stream",
     "text": [
      "Running elastic model with corum transcripts:   3%|▎         | 307/10921 [02:28<1:22:11,  2.15it/s]"
     ]
    },
    {
     "name": "stdout",
     "output_type": "stream",
     "text": [
      "corr: [-0.09231], r2: [-0.01946]\n",
      "Doing 307: ALDOC\n"
     ]
    },
    {
     "name": "stderr",
     "output_type": "stream",
     "text": [
      "Running elastic model with corum transcripts:   3%|▎         | 308/10921 [02:29<1:21:29,  2.17it/s]"
     ]
    },
    {
     "name": "stdout",
     "output_type": "stream",
     "text": [
      "corr: [0.416], r2: [0.13892]\n",
      "Doing 308: ALG1\n"
     ]
    },
    {
     "name": "stderr",
     "output_type": "stream",
     "text": [
      "Running elastic model with corum transcripts:   3%|▎         | 309/10921 [02:29<1:21:37,  2.17it/s]"
     ]
    },
    {
     "name": "stdout",
     "output_type": "stream",
     "text": [
      "corr: [0.4132], r2: [-0.05289]\n",
      "Doing 309: ALG10\n"
     ]
    },
    {
     "name": "stderr",
     "output_type": "stream",
     "text": [
      "Running elastic model with corum transcripts:   3%|▎         | 310/10921 [02:30<1:20:41,  2.19it/s]"
     ]
    },
    {
     "name": "stdout",
     "output_type": "stream",
     "text": [
      "corr: [0.2228], r2: [-0.09173]\n",
      "Doing 310: ALG11\n"
     ]
    },
    {
     "name": "stderr",
     "output_type": "stream",
     "text": [
      "Running elastic model with corum transcripts:   3%|▎         | 311/10921 [02:30<1:19:14,  2.23it/s]"
     ]
    },
    {
     "name": "stdout",
     "output_type": "stream",
     "text": [
      "corr: [0.14871], r2: [-0.00144]\n",
      "Doing 311: ALG12\n"
     ]
    },
    {
     "name": "stderr",
     "output_type": "stream",
     "text": [
      "/Applications/venv/CPTAC_Protein/lib/python3.9/site-packages/numpy/lib/function_base.py:2691: RuntimeWarning: invalid value encountered in true_divide\n",
      "  c /= stddev[:, None]\n",
      "/Applications/venv/CPTAC_Protein/lib/python3.9/site-packages/numpy/lib/function_base.py:2692: RuntimeWarning: invalid value encountered in true_divide\n",
      "  c /= stddev[None, :]\n",
      "Running elastic model with corum transcripts:   3%|▎         | 312/10921 [02:31<1:22:51,  2.13it/s]"
     ]
    },
    {
     "name": "stdout",
     "output_type": "stream",
     "text": [
      "corr: [0], r2: [-0.00084]\n",
      "Doing 312: ALG13\n"
     ]
    },
    {
     "name": "stderr",
     "output_type": "stream",
     "text": [
      "Running elastic model with corum transcripts:   3%|▎         | 313/10921 [02:31<1:20:34,  2.19it/s]"
     ]
    },
    {
     "name": "stdout",
     "output_type": "stream",
     "text": [
      "corr: [0.26954], r2: [0.03688]\n",
      "Doing 313: ALG14\n"
     ]
    },
    {
     "name": "stderr",
     "output_type": "stream",
     "text": [
      "Running elastic model with corum transcripts:   3%|▎         | 314/10921 [02:31<1:19:17,  2.23it/s]"
     ]
    },
    {
     "name": "stdout",
     "output_type": "stream",
     "text": [
      "corr: [0], r2: [-5.e-05]\n",
      "Doing 314: ALG2\n"
     ]
    },
    {
     "name": "stderr",
     "output_type": "stream",
     "text": [
      "Running elastic model with corum transcripts:   3%|▎         | 315/10921 [02:32<1:19:29,  2.22it/s]"
     ]
    },
    {
     "name": "stdout",
     "output_type": "stream",
     "text": [
      "corr: [0.35501], r2: [0.09841]\n",
      "Doing 315: ALG3\n"
     ]
    },
    {
     "name": "stderr",
     "output_type": "stream",
     "text": [
      "Running elastic model with corum transcripts:   3%|▎         | 316/10921 [02:32<1:19:25,  2.23it/s]"
     ]
    },
    {
     "name": "stdout",
     "output_type": "stream",
     "text": [
      "corr: [0.34134], r2: [0.10535]\n",
      "Doing 316: ALG5\n"
     ]
    },
    {
     "name": "stderr",
     "output_type": "stream",
     "text": [
      "Running elastic model with corum transcripts:   3%|▎         | 317/10921 [02:33<1:19:09,  2.23it/s]"
     ]
    },
    {
     "name": "stdout",
     "output_type": "stream",
     "text": [
      "corr: [0.41306], r2: [0.15462]\n",
      "Doing 317: ALG6\n"
     ]
    },
    {
     "name": "stderr",
     "output_type": "stream",
     "text": [
      "Running elastic model with corum transcripts:   3%|▎         | 318/10921 [02:33<1:19:08,  2.23it/s]"
     ]
    },
    {
     "name": "stdout",
     "output_type": "stream",
     "text": [
      "corr: [-0.00599], r2: [-0.03182]\n",
      "Doing 318: ALG8\n"
     ]
    },
    {
     "name": "stderr",
     "output_type": "stream",
     "text": [
      "Running elastic model with corum transcripts:   3%|▎         | 319/10921 [02:34<1:19:48,  2.21it/s]"
     ]
    },
    {
     "name": "stdout",
     "output_type": "stream",
     "text": [
      "corr: [-0.06841], r2: [-0.07018]\n",
      "Doing 319: ALG9\n"
     ]
    },
    {
     "name": "stderr",
     "output_type": "stream",
     "text": [
      "Running elastic model with corum transcripts:   3%|▎         | 320/10921 [02:34<1:23:57,  2.10it/s]"
     ]
    },
    {
     "name": "stdout",
     "output_type": "stream",
     "text": [
      "corr: [-0.07454], r2: [-0.1841]\n",
      "Doing 320: ALKBH2\n"
     ]
    },
    {
     "name": "stderr",
     "output_type": "stream",
     "text": [
      "Running elastic model with corum transcripts:   3%|▎         | 321/10921 [02:35<1:22:31,  2.14it/s]"
     ]
    },
    {
     "name": "stdout",
     "output_type": "stream",
     "text": [
      "corr: [0.60768], r2: [0.30903]\n",
      "Doing 321: ALKBH3\n"
     ]
    },
    {
     "name": "stderr",
     "output_type": "stream",
     "text": [
      "Running elastic model with corum transcripts:   3%|▎         | 322/10921 [02:35<1:21:41,  2.16it/s]"
     ]
    },
    {
     "name": "stdout",
     "output_type": "stream",
     "text": [
      "corr: [0.57793], r2: [0.28443]\n",
      "Doing 322: ALKBH4\n"
     ]
    },
    {
     "name": "stderr",
     "output_type": "stream",
     "text": [
      "Running elastic model with corum transcripts:   3%|▎         | 323/10921 [02:36<1:21:28,  2.17it/s]"
     ]
    },
    {
     "name": "stdout",
     "output_type": "stream",
     "text": [
      "corr: [0.29872], r2: [0.0369]\n",
      "Doing 323: ALKBH5\n"
     ]
    },
    {
     "name": "stderr",
     "output_type": "stream",
     "text": [
      "Running elastic model with corum transcripts:   3%|▎         | 324/10921 [02:36<1:20:24,  2.20it/s]"
     ]
    },
    {
     "name": "stdout",
     "output_type": "stream",
     "text": [
      "corr: [0.37546], r2: [0.10474]\n",
      "Doing 324: ALKBH7\n"
     ]
    },
    {
     "name": "stderr",
     "output_type": "stream",
     "text": [
      "/Applications/venv/CPTAC_Protein/lib/python3.9/site-packages/numpy/lib/function_base.py:2691: RuntimeWarning: invalid value encountered in true_divide\n",
      "  c /= stddev[:, None]\n",
      "/Applications/venv/CPTAC_Protein/lib/python3.9/site-packages/numpy/lib/function_base.py:2692: RuntimeWarning: invalid value encountered in true_divide\n",
      "  c /= stddev[None, :]\n",
      "Running elastic model with corum transcripts:   3%|▎         | 325/10921 [02:37<1:19:45,  2.21it/s]"
     ]
    },
    {
     "name": "stdout",
     "output_type": "stream",
     "text": [
      "corr: [0], r2: [-0.00244]\n",
      "Doing 325: ALMS1\n"
     ]
    },
    {
     "name": "stderr",
     "output_type": "stream",
     "text": [
      "Running elastic model with corum transcripts:   3%|▎         | 326/10921 [02:37<1:19:12,  2.23it/s]"
     ]
    },
    {
     "name": "stdout",
     "output_type": "stream",
     "text": [
      "corr: [0.04582], r2: [-0.18553]\n",
      "Doing 326: ALOX12\n"
     ]
    },
    {
     "name": "stderr",
     "output_type": "stream",
     "text": [
      "/Applications/venv/CPTAC_Protein/lib/python3.9/site-packages/numpy/lib/function_base.py:2691: RuntimeWarning: invalid value encountered in true_divide\n",
      "  c /= stddev[:, None]\n",
      "/Applications/venv/CPTAC_Protein/lib/python3.9/site-packages/numpy/lib/function_base.py:2692: RuntimeWarning: invalid value encountered in true_divide\n",
      "  c /= stddev[None, :]\n",
      "Running elastic model with corum transcripts:   3%|▎         | 327/10921 [02:37<1:23:04,  2.13it/s]"
     ]
    },
    {
     "name": "stdout",
     "output_type": "stream",
     "text": [
      "corr: [0], r2: [-0.0015]\n",
      "Doing 327: ALOX15\n"
     ]
    },
    {
     "name": "stderr",
     "output_type": "stream",
     "text": [
      "Running elastic model with corum transcripts:   3%|▎         | 328/10921 [02:38<1:21:54,  2.16it/s]"
     ]
    },
    {
     "name": "stdout",
     "output_type": "stream",
     "text": [
      "corr: [0.24816], r2: [-0.01138]\n",
      "Doing 328: ALOX15B\n"
     ]
    },
    {
     "name": "stderr",
     "output_type": "stream",
     "text": [
      "Running elastic model with corum transcripts:   3%|▎         | 329/10921 [02:38<1:21:39,  2.16it/s]"
     ]
    },
    {
     "name": "stdout",
     "output_type": "stream",
     "text": [
      "corr: [0.53274], r2: [-0.22095]\n",
      "Doing 329: ALOX5\n"
     ]
    },
    {
     "name": "stderr",
     "output_type": "stream",
     "text": [
      "Running elastic model with corum transcripts:   3%|▎         | 330/10921 [02:39<1:21:44,  2.16it/s]"
     ]
    },
    {
     "name": "stdout",
     "output_type": "stream",
     "text": [
      "corr: [0.63237], r2: [0.39083]\n",
      "Doing 330: ALOX5AP\n"
     ]
    },
    {
     "name": "stderr",
     "output_type": "stream",
     "text": [
      "Running elastic model with corum transcripts:   3%|▎         | 331/10921 [02:39<1:21:20,  2.17it/s]"
     ]
    },
    {
     "name": "stdout",
     "output_type": "stream",
     "text": [
      "corr: [0.06826], r2: [-0.35846]\n",
      "Doing 331: ALPK1\n"
     ]
    },
    {
     "name": "stderr",
     "output_type": "stream",
     "text": [
      "Running elastic model with corum transcripts:   3%|▎         | 332/10921 [02:40<1:21:45,  2.16it/s]"
     ]
    },
    {
     "name": "stdout",
     "output_type": "stream",
     "text": [
      "corr: [0.25448], r2: [0.03016]\n",
      "Doing 332: ALPK2\n"
     ]
    },
    {
     "name": "stderr",
     "output_type": "stream",
     "text": [
      "Running elastic model with corum transcripts:   3%|▎         | 333/10921 [02:40<1:21:05,  2.18it/s]"
     ]
    },
    {
     "name": "stdout",
     "output_type": "stream",
     "text": [
      "corr: [-0.2706], r2: [-0.40065]\n",
      "Doing 333: ALPK3\n",
      "Not enough proteomics observations. Skipping protein.\n",
      "Doing 334: ALPL\n"
     ]
    },
    {
     "name": "stderr",
     "output_type": "stream",
     "text": [
      "Running elastic model with corum transcripts:   3%|▎         | 335/10921 [02:41<1:05:57,  2.67it/s]"
     ]
    },
    {
     "name": "stdout",
     "output_type": "stream",
     "text": [
      "corr: [0.53763], r2: [0.14724]\n",
      "Doing 335: ALPP\n",
      "Not enough features. Skipping protein.\n",
      "Doing 336: ALPPL2\n",
      "Not enough features. Skipping protein.\n",
      "Doing 337: ALS2\n"
     ]
    },
    {
     "name": "stderr",
     "output_type": "stream",
     "text": [
      "Running elastic model with corum transcripts:   3%|▎         | 338/10921 [02:41<46:22,  3.80it/s]  "
     ]
    },
    {
     "name": "stdout",
     "output_type": "stream",
     "text": [
      "corr: [-0.01697], r2: [-0.20698]\n",
      "Doing 338: ALYREF\n"
     ]
    },
    {
     "name": "stderr",
     "output_type": "stream",
     "text": [
      "Running elastic model with corum transcripts:   3%|▎         | 339/10921 [02:42<51:58,  3.39it/s]"
     ]
    },
    {
     "name": "stdout",
     "output_type": "stream",
     "text": [
      "corr: [0.43766], r2: [0.09984]\n",
      "Doing 339: AMACR\n"
     ]
    },
    {
     "name": "stderr",
     "output_type": "stream",
     "text": [
      "Running elastic model with corum transcripts:   3%|▎         | 340/10921 [02:42<57:03,  3.09it/s]"
     ]
    },
    {
     "name": "stdout",
     "output_type": "stream",
     "text": [
      "corr: [0.24854], r2: [0.02347]\n",
      "Doing 340: AMBP\n"
     ]
    },
    {
     "name": "stderr",
     "output_type": "stream",
     "text": [
      "/Applications/venv/CPTAC_Protein/lib/python3.9/site-packages/numpy/lib/function_base.py:2691: RuntimeWarning: invalid value encountered in true_divide\n",
      "  c /= stddev[:, None]\n",
      "/Applications/venv/CPTAC_Protein/lib/python3.9/site-packages/numpy/lib/function_base.py:2692: RuntimeWarning: invalid value encountered in true_divide\n",
      "  c /= stddev[None, :]\n",
      "Running elastic model with corum transcripts:   3%|▎         | 341/10921 [02:43<1:01:47,  2.85it/s]"
     ]
    },
    {
     "name": "stdout",
     "output_type": "stream",
     "text": [
      "corr: [0], r2: [-0.14289]\n",
      "Doing 341: AMBRA1\n"
     ]
    },
    {
     "name": "stderr",
     "output_type": "stream",
     "text": [
      "Running elastic model with corum transcripts:   3%|▎         | 342/10921 [02:43<1:05:33,  2.69it/s]"
     ]
    },
    {
     "name": "stdout",
     "output_type": "stream",
     "text": [
      "corr: [0.39131], r2: [-0.03246]\n",
      "Doing 342: AMDHD2\n"
     ]
    },
    {
     "name": "stderr",
     "output_type": "stream",
     "text": [
      "Running elastic model with corum transcripts:   3%|▎         | 343/10921 [02:43<1:08:32,  2.57it/s]"
     ]
    },
    {
     "name": "stdout",
     "output_type": "stream",
     "text": [
      "corr: [0.31528], r2: [0.05019]\n",
      "Doing 343: AMFR\n"
     ]
    },
    {
     "name": "stderr",
     "output_type": "stream",
     "text": [
      "Running elastic model with corum transcripts:   3%|▎         | 344/10921 [02:44<1:12:33,  2.43it/s]"
     ]
    },
    {
     "name": "stdout",
     "output_type": "stream",
     "text": [
      "corr: [0.32423], r2: [0.03095]\n",
      "Doing 344: AMMECR1\n"
     ]
    },
    {
     "name": "stderr",
     "output_type": "stream",
     "text": [
      "Running elastic model with corum transcripts:   3%|▎         | 345/10921 [02:44<1:17:51,  2.26it/s]"
     ]
    },
    {
     "name": "stdout",
     "output_type": "stream",
     "text": [
      "corr: [0.53819], r2: [0.10865]\n",
      "Doing 345: AMMECR1L\n"
     ]
    },
    {
     "name": "stderr",
     "output_type": "stream",
     "text": [
      "/Applications/venv/CPTAC_Protein/lib/python3.9/site-packages/numpy/lib/function_base.py:2691: RuntimeWarning: invalid value encountered in true_divide\n",
      "  c /= stddev[:, None]\n",
      "/Applications/venv/CPTAC_Protein/lib/python3.9/site-packages/numpy/lib/function_base.py:2692: RuntimeWarning: invalid value encountered in true_divide\n",
      "  c /= stddev[None, :]\n",
      "Running elastic model with corum transcripts:   3%|▎         | 346/10921 [02:45<1:17:19,  2.28it/s]"
     ]
    },
    {
     "name": "stdout",
     "output_type": "stream",
     "text": [
      "corr: [0], r2: [-0.03754]\n",
      "Doing 346: AMN1\n"
     ]
    },
    {
     "name": "stderr",
     "output_type": "stream",
     "text": [
      "Running elastic model with corum transcripts:   3%|▎         | 347/10921 [02:45<1:16:53,  2.29it/s]"
     ]
    },
    {
     "name": "stdout",
     "output_type": "stream",
     "text": [
      "corr: [0.56761], r2: [0.12659]\n",
      "Doing 347: AMOT\n"
     ]
    },
    {
     "name": "stderr",
     "output_type": "stream",
     "text": [
      "Running elastic model with corum transcripts:   3%|▎         | 348/10921 [02:46<1:19:16,  2.22it/s]"
     ]
    },
    {
     "name": "stdout",
     "output_type": "stream",
     "text": [
      "corr: [0.46798], r2: [0.21619]\n",
      "Doing 348: AMOTL1\n"
     ]
    },
    {
     "name": "stderr",
     "output_type": "stream",
     "text": [
      "Running elastic model with corum transcripts:   3%|▎         | 349/10921 [02:46<1:19:43,  2.21it/s]"
     ]
    },
    {
     "name": "stdout",
     "output_type": "stream",
     "text": [
      "corr: [0.43319], r2: [0.18738]\n",
      "Doing 349: AMOTL2\n"
     ]
    },
    {
     "name": "stderr",
     "output_type": "stream",
     "text": [
      "Running elastic model with corum transcripts:   3%|▎         | 350/10921 [02:47<1:20:45,  2.18it/s]"
     ]
    },
    {
     "name": "stdout",
     "output_type": "stream",
     "text": [
      "corr: [0.24288], r2: [0.05262]\n",
      "Doing 350: AMPD1\n"
     ]
    },
    {
     "name": "stderr",
     "output_type": "stream",
     "text": [
      "Running elastic model with corum transcripts:   3%|▎         | 351/10921 [02:47<1:18:59,  2.23it/s]"
     ]
    },
    {
     "name": "stdout",
     "output_type": "stream",
     "text": [
      "corr: [-0.01105], r2: [-0.0337]\n",
      "Doing 351: AMPD2\n"
     ]
    },
    {
     "name": "stderr",
     "output_type": "stream",
     "text": [
      "Running elastic model with corum transcripts:   3%|▎         | 352/10921 [02:48<1:22:52,  2.13it/s]"
     ]
    },
    {
     "name": "stdout",
     "output_type": "stream",
     "text": [
      "corr: [0.42495], r2: [0.16911]\n",
      "Doing 352: AMPD3\n"
     ]
    },
    {
     "name": "stderr",
     "output_type": "stream",
     "text": [
      "Running elastic model with corum transcripts:   3%|▎         | 353/10921 [02:48<1:21:20,  2.17it/s]"
     ]
    },
    {
     "name": "stdout",
     "output_type": "stream",
     "text": [
      "corr: [0.49255], r2: [0.22828]\n",
      "Doing 353: AMPH\n"
     ]
    },
    {
     "name": "stderr",
     "output_type": "stream",
     "text": [
      "Running elastic model with corum transcripts:   3%|▎         | 354/10921 [02:48<1:19:45,  2.21it/s]"
     ]
    },
    {
     "name": "stdout",
     "output_type": "stream",
     "text": [
      "corr: [0.36661], r2: [-0.2122]\n",
      "Doing 354: AMT\n"
     ]
    },
    {
     "name": "stderr",
     "output_type": "stream",
     "text": [
      "/Applications/venv/CPTAC_Protein/lib/python3.9/site-packages/numpy/lib/function_base.py:2691: RuntimeWarning: invalid value encountered in true_divide\n",
      "  c /= stddev[:, None]\n",
      "/Applications/venv/CPTAC_Protein/lib/python3.9/site-packages/numpy/lib/function_base.py:2692: RuntimeWarning: invalid value encountered in true_divide\n",
      "  c /= stddev[None, :]\n",
      "Running elastic model with corum transcripts:   3%|▎         | 355/10921 [02:49<1:20:08,  2.20it/s]"
     ]
    },
    {
     "name": "stdout",
     "output_type": "stream",
     "text": [
      "corr: [0], r2: [-0.31382]\n",
      "Doing 355: AMY1A\n"
     ]
    },
    {
     "name": "stderr",
     "output_type": "stream",
     "text": [
      "/Applications/venv/CPTAC_Protein/lib/python3.9/site-packages/numpy/lib/function_base.py:2691: RuntimeWarning: invalid value encountered in true_divide\n",
      "  c /= stddev[:, None]\n",
      "/Applications/venv/CPTAC_Protein/lib/python3.9/site-packages/numpy/lib/function_base.py:2692: RuntimeWarning: invalid value encountered in true_divide\n",
      "  c /= stddev[None, :]\n",
      "Running elastic model with corum transcripts:   3%|▎         | 356/10921 [02:49<1:20:12,  2.20it/s]"
     ]
    },
    {
     "name": "stdout",
     "output_type": "stream",
     "text": [
      "corr: [0], r2: [-0.00952]\n",
      "Doing 356: AMZ2\n"
     ]
    },
    {
     "name": "stderr",
     "output_type": "stream",
     "text": [
      "Running elastic model with corum transcripts:   3%|▎         | 357/10921 [02:50<1:19:41,  2.21it/s]"
     ]
    },
    {
     "name": "stdout",
     "output_type": "stream",
     "text": [
      "corr: [0.04608], r2: [-0.10986]\n",
      "Doing 357: ANAPC1\n"
     ]
    },
    {
     "name": "stderr",
     "output_type": "stream",
     "text": [
      "Running elastic model with corum transcripts:   3%|▎         | 358/10921 [02:50<1:21:45,  2.15it/s]"
     ]
    },
    {
     "name": "stdout",
     "output_type": "stream",
     "text": [
      "corr: [0.48273], r2: [0.14811]\n",
      "Doing 358: ANAPC10\n"
     ]
    },
    {
     "name": "stderr",
     "output_type": "stream",
     "text": [
      "Running elastic model with corum transcripts:   3%|▎         | 359/10921 [02:51<1:27:41,  2.01it/s]"
     ]
    },
    {
     "name": "stdout",
     "output_type": "stream",
     "text": [
      "corr: [0.2896], r2: [0.03544]\n",
      "Doing 359: ANAPC13\n"
     ]
    },
    {
     "name": "stderr",
     "output_type": "stream",
     "text": [
      "Running elastic model with corum transcripts:   3%|▎         | 360/10921 [02:51<1:24:54,  2.07it/s]"
     ]
    },
    {
     "name": "stdout",
     "output_type": "stream",
     "text": [
      "corr: [0.20929], r2: [0.02375]\n",
      "Doing 360: ANAPC16\n"
     ]
    },
    {
     "name": "stderr",
     "output_type": "stream",
     "text": [
      "Running elastic model with corum transcripts:   3%|▎         | 361/10921 [02:52<1:22:15,  2.14it/s]"
     ]
    },
    {
     "name": "stdout",
     "output_type": "stream",
     "text": [
      "corr: [0.01128], r2: [-0.02754]\n",
      "Doing 361: ANAPC2\n"
     ]
    },
    {
     "name": "stderr",
     "output_type": "stream",
     "text": [
      "Running elastic model with corum transcripts:   3%|▎         | 362/10921 [02:52<1:23:50,  2.10it/s]"
     ]
    },
    {
     "name": "stdout",
     "output_type": "stream",
     "text": [
      "corr: [0.03774], r2: [-0.02691]\n",
      "Doing 362: ANAPC4\n"
     ]
    },
    {
     "name": "stderr",
     "output_type": "stream",
     "text": [
      "Running elastic model with corum transcripts:   3%|▎         | 363/10921 [02:53<1:24:56,  2.07it/s]"
     ]
    },
    {
     "name": "stdout",
     "output_type": "stream",
     "text": [
      "corr: [0.19606], r2: [-0.00011]\n",
      "Doing 363: ANAPC5\n"
     ]
    },
    {
     "name": "stderr",
     "output_type": "stream",
     "text": [
      "Running elastic model with corum transcripts:   3%|▎         | 364/10921 [02:53<1:24:30,  2.08it/s]"
     ]
    },
    {
     "name": "stdout",
     "output_type": "stream",
     "text": [
      "corr: [0.34937], r2: [-0.21577]\n",
      "Doing 364: ANAPC7\n"
     ]
    },
    {
     "name": "stderr",
     "output_type": "stream",
     "text": [
      "Running elastic model with corum transcripts:   3%|▎         | 365/10921 [02:54<1:24:04,  2.09it/s]"
     ]
    },
    {
     "name": "stdout",
     "output_type": "stream",
     "text": [
      "corr: [0.47266], r2: [0.07454]\n",
      "Doing 365: ANG\n"
     ]
    },
    {
     "name": "stderr",
     "output_type": "stream",
     "text": [
      "Running elastic model with corum transcripts:   3%|▎         | 366/10921 [02:54<1:22:45,  2.13it/s]"
     ]
    },
    {
     "name": "stdout",
     "output_type": "stream",
     "text": [
      "corr: [0.11109], r2: [-0.07089]\n",
      "Doing 366: ANGEL1\n"
     ]
    },
    {
     "name": "stderr",
     "output_type": "stream",
     "text": [
      "Running elastic model with corum transcripts:   3%|▎         | 367/10921 [02:55<1:26:18,  2.04it/s]"
     ]
    },
    {
     "name": "stdout",
     "output_type": "stream",
     "text": [
      "corr: [0], r2: [-0.01704]\n",
      "Doing 367: ANGEL2\n"
     ]
    },
    {
     "name": "stderr",
     "output_type": "stream",
     "text": [
      "Running elastic model with corum transcripts:   3%|▎         | 368/10921 [02:55<1:24:03,  2.09it/s]"
     ]
    },
    {
     "name": "stdout",
     "output_type": "stream",
     "text": [
      "corr: [0.49687], r2: [0.14413]\n",
      "Doing 368: ANGPT2\n"
     ]
    },
    {
     "name": "stderr",
     "output_type": "stream",
     "text": [
      "Running elastic model with corum transcripts:   3%|▎         | 369/10921 [02:56<1:22:20,  2.14it/s]"
     ]
    },
    {
     "name": "stdout",
     "output_type": "stream",
     "text": [
      "corr: [0.36782], r2: [-0.00183]\n",
      "Doing 369: ANGPTL1\n"
     ]
    },
    {
     "name": "stderr",
     "output_type": "stream",
     "text": [
      "Running elastic model with corum transcripts:   3%|▎         | 370/10921 [02:56<1:21:41,  2.15it/s]"
     ]
    },
    {
     "name": "stdout",
     "output_type": "stream",
     "text": [
      "corr: [0.01892], r2: [-0.14465]\n",
      "Doing 370: ANGPTL2\n"
     ]
    },
    {
     "name": "stderr",
     "output_type": "stream",
     "text": [
      "Running elastic model with corum transcripts:   3%|▎         | 371/10921 [02:57<1:21:24,  2.16it/s]"
     ]
    },
    {
     "name": "stdout",
     "output_type": "stream",
     "text": [
      "corr: [0.51955], r2: [0.1801]\n",
      "Doing 371: ANGPTL4\n"
     ]
    },
    {
     "name": "stderr",
     "output_type": "stream",
     "text": [
      "Running elastic model with corum transcripts:   3%|▎         | 372/10921 [02:57<1:21:52,  2.15it/s]"
     ]
    },
    {
     "name": "stdout",
     "output_type": "stream",
     "text": [
      "corr: [0.41188], r2: [0.08238]\n",
      "Doing 372: ANK1\n"
     ]
    },
    {
     "name": "stderr",
     "output_type": "stream",
     "text": [
      "Running elastic model with corum transcripts:   3%|▎         | 373/10921 [02:57<1:20:15,  2.19it/s]"
     ]
    },
    {
     "name": "stdout",
     "output_type": "stream",
     "text": [
      "corr: [0.19721], r2: [0.01121]\n",
      "Doing 373: ANK2\n"
     ]
    },
    {
     "name": "stderr",
     "output_type": "stream",
     "text": [
      "Running elastic model with corum transcripts:   3%|▎         | 374/10921 [02:58<1:19:41,  2.21it/s]"
     ]
    },
    {
     "name": "stdout",
     "output_type": "stream",
     "text": [
      "corr: [0.19846], r2: [-0.01686]\n",
      "Doing 374: ANK3\n"
     ]
    },
    {
     "name": "stderr",
     "output_type": "stream",
     "text": [
      "Running elastic model with corum transcripts:   3%|▎         | 375/10921 [02:58<1:24:48,  2.07it/s]"
     ]
    },
    {
     "name": "stdout",
     "output_type": "stream",
     "text": [
      "corr: [0.15584], r2: [-0.1232]\n",
      "Doing 375: ANKAR\n"
     ]
    },
    {
     "name": "stderr",
     "output_type": "stream",
     "text": [
      "Running elastic model with corum transcripts:   3%|▎         | 376/10921 [02:59<1:22:24,  2.13it/s]"
     ]
    },
    {
     "name": "stdout",
     "output_type": "stream",
     "text": [
      "corr: [0], r2: [-0.00302]\n",
      "Doing 376: ANKFY1\n"
     ]
    },
    {
     "name": "stderr",
     "output_type": "stream",
     "text": [
      "Running elastic model with corum transcripts:   3%|▎         | 377/10921 [02:59<1:21:46,  2.15it/s]"
     ]
    },
    {
     "name": "stdout",
     "output_type": "stream",
     "text": [
      "corr: [0.49097], r2: [-0.16176]\n",
      "Doing 377: ANKH\n"
     ]
    },
    {
     "name": "stderr",
     "output_type": "stream",
     "text": [
      "Running elastic model with corum transcripts:   3%|▎         | 378/10921 [03:00<1:21:44,  2.15it/s]"
     ]
    },
    {
     "name": "stdout",
     "output_type": "stream",
     "text": [
      "corr: [0.61048], r2: [0.21179]\n",
      "Doing 378: ANKHD1\n"
     ]
    },
    {
     "name": "stderr",
     "output_type": "stream",
     "text": [
      "Running elastic model with corum transcripts:   3%|▎         | 379/10921 [03:00<1:19:42,  2.20it/s]"
     ]
    },
    {
     "name": "stdout",
     "output_type": "stream",
     "text": [
      "corr: [0], r2: [-0.04919]\n",
      "Doing 379: ANKHD1-EIF4EBP3\n"
     ]
    },
    {
     "name": "stderr",
     "output_type": "stream",
     "text": [
      "Running elastic model with corum transcripts:   3%|▎         | 380/10921 [03:01<1:18:20,  2.24it/s]"
     ]
    },
    {
     "name": "stdout",
     "output_type": "stream",
     "text": [
      "corr: [0.09035], r2: [-0.45186]\n",
      "Doing 380: ANKIB1\n"
     ]
    },
    {
     "name": "stderr",
     "output_type": "stream",
     "text": [
      "Running elastic model with corum transcripts:   3%|▎         | 381/10921 [03:01<1:18:06,  2.25it/s]"
     ]
    },
    {
     "name": "stdout",
     "output_type": "stream",
     "text": [
      "corr: [0.32043], r2: [0.09736]\n",
      "Doing 381: ANKLE2\n"
     ]
    },
    {
     "name": "stderr",
     "output_type": "stream",
     "text": [
      "Running elastic model with corum transcripts:   3%|▎         | 382/10921 [03:02<1:17:48,  2.26it/s]"
     ]
    },
    {
     "name": "stdout",
     "output_type": "stream",
     "text": [
      "corr: [0.1927], r2: [-0.01379]\n",
      "Doing 382: ANKMY2\n"
     ]
    },
    {
     "name": "stderr",
     "output_type": "stream",
     "text": [
      "Running elastic model with corum transcripts:   4%|▎         | 383/10921 [03:02<1:21:22,  2.16it/s]"
     ]
    },
    {
     "name": "stdout",
     "output_type": "stream",
     "text": [
      "corr: [0.64564], r2: [0.09312]\n",
      "Doing 383: ANKRD1\n"
     ]
    },
    {
     "name": "stderr",
     "output_type": "stream",
     "text": [
      "/Applications/venv/CPTAC_Protein/lib/python3.9/site-packages/numpy/lib/function_base.py:2691: RuntimeWarning: invalid value encountered in true_divide\n",
      "  c /= stddev[:, None]\n",
      "/Applications/venv/CPTAC_Protein/lib/python3.9/site-packages/numpy/lib/function_base.py:2692: RuntimeWarning: invalid value encountered in true_divide\n",
      "  c /= stddev[None, :]\n",
      "Running elastic model with corum transcripts:   4%|▎         | 384/10921 [03:02<1:19:41,  2.20it/s]"
     ]
    },
    {
     "name": "stdout",
     "output_type": "stream",
     "text": [
      "corr: [0], r2: [-0.06075]\n",
      "Doing 384: ANKRD10\n"
     ]
    },
    {
     "name": "stderr",
     "output_type": "stream",
     "text": [
      "Running elastic model with corum transcripts:   4%|▎         | 385/10921 [03:03<1:18:44,  2.23it/s]"
     ]
    },
    {
     "name": "stdout",
     "output_type": "stream",
     "text": [
      "corr: [0.40731], r2: [0.15094]\n",
      "Doing 385: ANKRD11\n"
     ]
    },
    {
     "name": "stderr",
     "output_type": "stream",
     "text": [
      "/Applications/venv/CPTAC_Protein/lib/python3.9/site-packages/numpy/lib/function_base.py:2691: RuntimeWarning: invalid value encountered in true_divide\n",
      "  c /= stddev[:, None]\n",
      "/Applications/venv/CPTAC_Protein/lib/python3.9/site-packages/numpy/lib/function_base.py:2692: RuntimeWarning: invalid value encountered in true_divide\n",
      "  c /= stddev[None, :]\n",
      "Running elastic model with corum transcripts:   4%|▎         | 386/10921 [03:03<1:18:39,  2.23it/s]"
     ]
    },
    {
     "name": "stdout",
     "output_type": "stream",
     "text": [
      "corr: [0], r2: [-0.01884]\n",
      "Doing 386: ANKRD13A\n"
     ]
    },
    {
     "name": "stderr",
     "output_type": "stream",
     "text": [
      "Running elastic model with corum transcripts:   4%|▎         | 387/10921 [03:04<1:17:31,  2.26it/s]"
     ]
    },
    {
     "name": "stdout",
     "output_type": "stream",
     "text": [
      "corr: [0.6883], r2: [0.44307]\n",
      "Doing 387: ANKRD13D\n"
     ]
    },
    {
     "name": "stderr",
     "output_type": "stream",
     "text": [
      "Running elastic model with corum transcripts:   4%|▎         | 388/10921 [03:04<1:16:51,  2.28it/s]"
     ]
    },
    {
     "name": "stdout",
     "output_type": "stream",
     "text": [
      "corr: [0.04584], r2: [-0.04062]\n",
      "Doing 388: ANKRD16\n"
     ]
    },
    {
     "name": "stderr",
     "output_type": "stream",
     "text": [
      "Running elastic model with corum transcripts:   4%|▎         | 389/10921 [03:05<1:16:53,  2.28it/s]"
     ]
    },
    {
     "name": "stdout",
     "output_type": "stream",
     "text": [
      "corr: [-0.01916], r2: [-0.30211]\n",
      "Doing 389: ANKRD17\n"
     ]
    },
    {
     "name": "stderr",
     "output_type": "stream",
     "text": [
      "Running elastic model with corum transcripts:   4%|▎         | 390/10921 [03:05<1:20:25,  2.18it/s]"
     ]
    },
    {
     "name": "stdout",
     "output_type": "stream",
     "text": [
      "corr: [0.39045], r2: [-0.09019]\n",
      "Doing 390: ANKRD2\n"
     ]
    },
    {
     "name": "stderr",
     "output_type": "stream",
     "text": [
      "Running elastic model with corum transcripts:   4%|▎         | 391/10921 [03:06<1:18:46,  2.23it/s]"
     ]
    },
    {
     "name": "stdout",
     "output_type": "stream",
     "text": [
      "corr: [0.6988], r2: [-4.0351]\n",
      "Doing 391: ANKRD22\n"
     ]
    },
    {
     "name": "stderr",
     "output_type": "stream",
     "text": [
      "Running elastic model with corum transcripts:   4%|▎         | 392/10921 [03:06<1:18:02,  2.25it/s]"
     ]
    },
    {
     "name": "stdout",
     "output_type": "stream",
     "text": [
      "corr: [0.53323], r2: [-0.04216]\n",
      "Doing 392: ANKRD27\n"
     ]
    },
    {
     "name": "stderr",
     "output_type": "stream",
     "text": [
      "Running elastic model with corum transcripts:   4%|▎         | 393/10921 [03:06<1:16:55,  2.28it/s]"
     ]
    },
    {
     "name": "stdout",
     "output_type": "stream",
     "text": [
      "corr: [0.53957], r2: [0.28479]\n",
      "Doing 393: ANKRD28\n"
     ]
    },
    {
     "name": "stderr",
     "output_type": "stream",
     "text": [
      "Running elastic model with corum transcripts:   4%|▎         | 394/10921 [03:07<1:18:41,  2.23it/s]"
     ]
    },
    {
     "name": "stdout",
     "output_type": "stream",
     "text": [
      "corr: [0.44179], r2: [0.18912]\n",
      "Doing 394: ANKRD35\n"
     ]
    },
    {
     "name": "stderr",
     "output_type": "stream",
     "text": [
      "/Applications/venv/CPTAC_Protein/lib/python3.9/site-packages/numpy/lib/function_base.py:2691: RuntimeWarning: invalid value encountered in true_divide\n",
      "  c /= stddev[:, None]\n",
      "/Applications/venv/CPTAC_Protein/lib/python3.9/site-packages/numpy/lib/function_base.py:2692: RuntimeWarning: invalid value encountered in true_divide\n",
      "  c /= stddev[None, :]\n",
      "Running elastic model with corum transcripts:   4%|▎         | 395/10921 [03:07<1:18:40,  2.23it/s]"
     ]
    },
    {
     "name": "stdout",
     "output_type": "stream",
     "text": [
      "corr: [0], r2: [-0.00625]\n",
      "Doing 395: ANKRD36\n"
     ]
    },
    {
     "name": "stderr",
     "output_type": "stream",
     "text": [
      "Running elastic model with corum transcripts:   4%|▎         | 396/10921 [03:08<1:18:43,  2.23it/s]"
     ]
    },
    {
     "name": "stdout",
     "output_type": "stream",
     "text": [
      "corr: [0.25079], r2: [-0.43704]\n",
      "Doing 396: ANKRD44\n"
     ]
    },
    {
     "name": "stderr",
     "output_type": "stream",
     "text": [
      "Running elastic model with corum transcripts:   4%|▎         | 397/10921 [03:08<1:23:25,  2.10it/s]"
     ]
    },
    {
     "name": "stdout",
     "output_type": "stream",
     "text": [
      "corr: [0.3732], r2: [0.03971]\n",
      "Doing 397: ANKRD46\n"
     ]
    },
    {
     "name": "stderr",
     "output_type": "stream",
     "text": [
      "Running elastic model with corum transcripts:   4%|▎         | 398/10921 [03:09<1:22:09,  2.13it/s]"
     ]
    },
    {
     "name": "stdout",
     "output_type": "stream",
     "text": [
      "corr: [0.18084], r2: [-0.17521]\n",
      "Doing 398: ANKRD49\n"
     ]
    },
    {
     "name": "stderr",
     "output_type": "stream",
     "text": [
      "Running elastic model with corum transcripts:   4%|▎         | 399/10921 [03:09<1:21:53,  2.14it/s]"
     ]
    },
    {
     "name": "stdout",
     "output_type": "stream",
     "text": [
      "corr: [0.50816], r2: [0.1877]\n",
      "Doing 399: ANKRD50\n"
     ]
    },
    {
     "name": "stderr",
     "output_type": "stream",
     "text": [
      "Running elastic model with corum transcripts:   4%|▎         | 400/10921 [03:10<1:21:44,  2.15it/s]"
     ]
    },
    {
     "name": "stdout",
     "output_type": "stream",
     "text": [
      "corr: [0.6858], r2: [0.42661]\n",
      "Doing 400: ANKRD52\n"
     ]
    },
    {
     "name": "stderr",
     "output_type": "stream",
     "text": [
      "Running elastic model with corum transcripts:   4%|▎         | 401/10921 [03:10<1:20:23,  2.18it/s]"
     ]
    },
    {
     "name": "stdout",
     "output_type": "stream",
     "text": [
      "corr: [0.21694], r2: [-0.06377]\n",
      "Doing 401: ANKRD54\n"
     ]
    },
    {
     "name": "stderr",
     "output_type": "stream",
     "text": [
      "Running elastic model with corum transcripts:   4%|▎         | 402/10921 [03:11<1:19:14,  2.21it/s]"
     ]
    },
    {
     "name": "stdout",
     "output_type": "stream",
     "text": [
      "corr: [0.12737], r2: [-0.07249]\n",
      "Doing 402: ANKRD6\n"
     ]
    },
    {
     "name": "stderr",
     "output_type": "stream",
     "text": [
      "Running elastic model with corum transcripts:   4%|▎         | 403/10921 [03:11<1:18:58,  2.22it/s]"
     ]
    },
    {
     "name": "stdout",
     "output_type": "stream",
     "text": [
      "corr: [0.50136], r2: [0.03579]\n",
      "Doing 403: ANKS1A\n"
     ]
    },
    {
     "name": "stderr",
     "output_type": "stream",
     "text": [
      "Running elastic model with corum transcripts:   4%|▎         | 404/10921 [03:11<1:18:36,  2.23it/s]"
     ]
    },
    {
     "name": "stdout",
     "output_type": "stream",
     "text": [
      "corr: [0.40778], r2: [0.12589]\n",
      "Doing 404: ANKS1B\n"
     ]
    },
    {
     "name": "stderr",
     "output_type": "stream",
     "text": [
      "Running elastic model with corum transcripts:   4%|▎         | 405/10921 [03:12<1:23:17,  2.10it/s]"
     ]
    },
    {
     "name": "stdout",
     "output_type": "stream",
     "text": [
      "corr: [0.21644], r2: [0.03147]\n",
      "Doing 405: ANKS3\n"
     ]
    },
    {
     "name": "stderr",
     "output_type": "stream",
     "text": [
      "Running elastic model with corum transcripts:   4%|▎         | 406/10921 [03:12<1:21:18,  2.16it/s]"
     ]
    },
    {
     "name": "stdout",
     "output_type": "stream",
     "text": [
      "corr: [0.1179], r2: [-0.0454]\n",
      "Doing 406: ANKS6\n",
      "Not enough proteomics observations. Skipping protein.\n",
      "Doing 407: ANKZF1\n"
     ]
    },
    {
     "name": "stderr",
     "output_type": "stream",
     "text": [
      "Running elastic model with corum transcripts:   4%|▎         | 408/10921 [03:13<1:01:44,  2.84it/s]"
     ]
    },
    {
     "name": "stdout",
     "output_type": "stream",
     "text": [
      "corr: [0.28127], r2: [-0.47996]\n",
      "Doing 408: ANLN\n"
     ]
    },
    {
     "name": "stderr",
     "output_type": "stream",
     "text": [
      "Running elastic model with corum transcripts:   4%|▎         | 409/10921 [03:13<1:05:37,  2.67it/s]"
     ]
    },
    {
     "name": "stdout",
     "output_type": "stream",
     "text": [
      "corr: [0.50126], r2: [0.03647]\n",
      "Doing 409: ANO1\n"
     ]
    },
    {
     "name": "stderr",
     "output_type": "stream",
     "text": [
      "Running elastic model with corum transcripts:   4%|▍         | 410/10921 [03:14<1:08:31,  2.56it/s]"
     ]
    },
    {
     "name": "stdout",
     "output_type": "stream",
     "text": [
      "corr: [0.68103], r2: [0.38031]\n",
      "Doing 410: ANO10\n"
     ]
    },
    {
     "name": "stderr",
     "output_type": "stream",
     "text": [
      "Running elastic model with corum transcripts:   4%|▍         | 411/10921 [03:14<1:10:38,  2.48it/s]"
     ]
    },
    {
     "name": "stdout",
     "output_type": "stream",
     "text": [
      "corr: [0.16756], r2: [-0.02249]\n",
      "Doing 411: ANO6\n"
     ]
    },
    {
     "name": "stderr",
     "output_type": "stream",
     "text": [
      "Running elastic model with corum transcripts:   4%|▍         | 412/10921 [03:15<1:12:30,  2.42it/s]"
     ]
    },
    {
     "name": "stdout",
     "output_type": "stream",
     "text": [
      "corr: [0.27302], r2: [0.04216]\n",
      "Doing 412: ANO8\n"
     ]
    },
    {
     "name": "stderr",
     "output_type": "stream",
     "text": [
      "Running elastic model with corum transcripts:   4%|▍         | 413/10921 [03:15<1:13:47,  2.37it/s]"
     ]
    },
    {
     "name": "stdout",
     "output_type": "stream",
     "text": [
      "corr: [0.13421], r2: [-0.15057]\n",
      "Doing 413: ANP32A\n"
     ]
    },
    {
     "name": "stderr",
     "output_type": "stream",
     "text": [
      "Running elastic model with corum transcripts:   4%|▍         | 414/10921 [03:16<1:21:17,  2.15it/s]"
     ]
    },
    {
     "name": "stdout",
     "output_type": "stream",
     "text": [
      "corr: [0.46988], r2: [0.18362]\n",
      "Doing 414: ANP32B\n"
     ]
    },
    {
     "name": "stderr",
     "output_type": "stream",
     "text": [
      "Running elastic model with corum transcripts:   4%|▍         | 415/10921 [03:16<1:21:43,  2.14it/s]"
     ]
    },
    {
     "name": "stdout",
     "output_type": "stream",
     "text": [
      "corr: [0.39238], r2: [0.1228]\n",
      "Doing 415: ANP32E\n"
     ]
    },
    {
     "name": "stderr",
     "output_type": "stream",
     "text": [
      "Running elastic model with corum transcripts:   4%|▍         | 416/10921 [03:17<1:20:08,  2.18it/s]"
     ]
    },
    {
     "name": "stdout",
     "output_type": "stream",
     "text": [
      "corr: [0.41725], r2: [-0.01595]\n",
      "Doing 416: ANPEP\n"
     ]
    },
    {
     "name": "stderr",
     "output_type": "stream",
     "text": [
      "Running elastic model with corum transcripts:   4%|▍         | 417/10921 [03:17<1:19:56,  2.19it/s]"
     ]
    },
    {
     "name": "stdout",
     "output_type": "stream",
     "text": [
      "corr: [0.43326], r2: [-0.48729]\n",
      "Doing 417: ANTXR1\n"
     ]
    },
    {
     "name": "stderr",
     "output_type": "stream",
     "text": [
      "Running elastic model with corum transcripts:   4%|▍         | 418/10921 [03:17<1:18:43,  2.22it/s]"
     ]
    },
    {
     "name": "stdout",
     "output_type": "stream",
     "text": [
      "corr: [0.59267], r2: [-0.00106]\n",
      "Doing 418: ANTXR2\n"
     ]
    },
    {
     "name": "stderr",
     "output_type": "stream",
     "text": [
      "Running elastic model with corum transcripts:   4%|▍         | 419/10921 [03:18<1:19:02,  2.21it/s]"
     ]
    },
    {
     "name": "stdout",
     "output_type": "stream",
     "text": [
      "corr: [0.43982], r2: [-0.09067]\n",
      "Doing 419: ANXA1\n"
     ]
    },
    {
     "name": "stderr",
     "output_type": "stream",
     "text": [
      "Running elastic model with corum transcripts:   4%|▍         | 420/10921 [03:18<1:19:02,  2.21it/s]"
     ]
    },
    {
     "name": "stdout",
     "output_type": "stream",
     "text": [
      "corr: [0.59671], r2: [0.22932]\n",
      "Doing 420: ANXA11\n"
     ]
    },
    {
     "name": "stderr",
     "output_type": "stream",
     "text": [
      "Running elastic model with corum transcripts:   4%|▍         | 421/10921 [03:19<1:22:42,  2.12it/s]"
     ]
    },
    {
     "name": "stdout",
     "output_type": "stream",
     "text": [
      "corr: [0.45386], r2: [0.02873]\n",
      "Doing 421: ANXA13\n"
     ]
    },
    {
     "name": "stderr",
     "output_type": "stream",
     "text": [
      "/Applications/venv/CPTAC_Protein/lib/python3.9/site-packages/numpy/lib/function_base.py:2691: RuntimeWarning: invalid value encountered in true_divide\n",
      "  c /= stddev[:, None]\n",
      "/Applications/venv/CPTAC_Protein/lib/python3.9/site-packages/numpy/lib/function_base.py:2692: RuntimeWarning: invalid value encountered in true_divide\n",
      "  c /= stddev[None, :]\n",
      "Running elastic model with corum transcripts:   4%|▍         | 422/10921 [03:19<1:20:51,  2.16it/s]"
     ]
    },
    {
     "name": "stdout",
     "output_type": "stream",
     "text": [
      "corr: [0], r2: [-0.08297]\n",
      "Doing 422: ANXA2\n"
     ]
    },
    {
     "name": "stderr",
     "output_type": "stream",
     "text": [
      "Running elastic model with corum transcripts:   4%|▍         | 423/10921 [03:20<1:22:16,  2.13it/s]"
     ]
    },
    {
     "name": "stdout",
     "output_type": "stream",
     "text": [
      "corr: [0.52625], r2: [0.26121]\n",
      "Doing 423: ANXA3\n"
     ]
    },
    {
     "name": "stderr",
     "output_type": "stream",
     "text": [
      "Running elastic model with corum transcripts:   4%|▍         | 424/10921 [03:20<1:20:43,  2.17it/s]"
     ]
    },
    {
     "name": "stdout",
     "output_type": "stream",
     "text": [
      "corr: [0.87038], r2: [0.74655]\n",
      "Doing 424: ANXA4\n"
     ]
    },
    {
     "name": "stderr",
     "output_type": "stream",
     "text": [
      "Running elastic model with corum transcripts:   4%|▍         | 425/10921 [03:21<1:19:48,  2.19it/s]"
     ]
    },
    {
     "name": "stdout",
     "output_type": "stream",
     "text": [
      "corr: [0.53806], r2: [0.16758]\n",
      "Doing 425: ANXA5\n"
     ]
    },
    {
     "name": "stderr",
     "output_type": "stream",
     "text": [
      "Running elastic model with corum transcripts:   4%|▍         | 426/10921 [03:21<1:18:29,  2.23it/s]"
     ]
    },
    {
     "name": "stdout",
     "output_type": "stream",
     "text": [
      "corr: [0.3881], r2: [-0.23606]\n",
      "Doing 426: ANXA6\n"
     ]
    },
    {
     "name": "stderr",
     "output_type": "stream",
     "text": [
      "Running elastic model with corum transcripts:   4%|▍         | 427/10921 [03:22<1:19:34,  2.20it/s]"
     ]
    },
    {
     "name": "stdout",
     "output_type": "stream",
     "text": [
      "corr: [0.31182], r2: [-0.09114]\n",
      "Doing 427: ANXA7\n"
     ]
    },
    {
     "name": "stderr",
     "output_type": "stream",
     "text": [
      "Running elastic model with corum transcripts:   4%|▍         | 428/10921 [03:22<1:19:09,  2.21it/s]"
     ]
    },
    {
     "name": "stdout",
     "output_type": "stream",
     "text": [
      "corr: [0.61839], r2: [-0.03872]\n",
      "Doing 428: ANXA8\n"
     ]
    },
    {
     "name": "stderr",
     "output_type": "stream",
     "text": [
      "Running elastic model with corum transcripts:   4%|▍         | 429/10921 [03:23<1:23:21,  2.10it/s]"
     ]
    },
    {
     "name": "stdout",
     "output_type": "stream",
     "text": [
      "corr: [0.37454], r2: [0.06488]\n",
      "Doing 429: ANXA8L1\n"
     ]
    },
    {
     "name": "stderr",
     "output_type": "stream",
     "text": [
      "Running elastic model with corum transcripts:   4%|▍         | 430/10921 [03:23<1:20:48,  2.16it/s]"
     ]
    },
    {
     "name": "stdout",
     "output_type": "stream",
     "text": [
      "corr: [0.5983], r2: [0.33765]\n",
      "Doing 430: ANXA9\n"
     ]
    },
    {
     "name": "stderr",
     "output_type": "stream",
     "text": [
      "Running elastic model with corum transcripts:   4%|▍         | 431/10921 [03:23<1:20:13,  2.18it/s]"
     ]
    },
    {
     "name": "stdout",
     "output_type": "stream",
     "text": [
      "corr: [0.39095], r2: [0.14685]\n",
      "Doing 431: AOAH\n"
     ]
    },
    {
     "name": "stderr",
     "output_type": "stream",
     "text": [
      "Running elastic model with corum transcripts:   4%|▍         | 432/10921 [03:24<1:19:44,  2.19it/s]"
     ]
    },
    {
     "name": "stdout",
     "output_type": "stream",
     "text": [
      "corr: [0.45295], r2: [0.16619]\n",
      "Doing 432: AOC1\n"
     ]
    },
    {
     "name": "stderr",
     "output_type": "stream",
     "text": [
      "Running elastic model with corum transcripts:   4%|▍         | 433/10921 [03:24<1:20:09,  2.18it/s]"
     ]
    },
    {
     "name": "stdout",
     "output_type": "stream",
     "text": [
      "corr: [0.54831], r2: [-0.15815]\n",
      "Doing 433: AOC3\n"
     ]
    },
    {
     "name": "stderr",
     "output_type": "stream",
     "text": [
      "Running elastic model with corum transcripts:   4%|▍         | 434/10921 [03:25<1:19:21,  2.20it/s]"
     ]
    },
    {
     "name": "stdout",
     "output_type": "stream",
     "text": [
      "corr: [0.64844], r2: [0.32922]\n",
      "Doing 434: AOX1\n"
     ]
    },
    {
     "name": "stderr",
     "output_type": "stream",
     "text": [
      "Running elastic model with corum transcripts:   4%|▍         | 435/10921 [03:25<1:18:50,  2.22it/s]"
     ]
    },
    {
     "name": "stdout",
     "output_type": "stream",
     "text": [
      "corr: [0.62278], r2: [0.24051]\n",
      "Doing 435: AP1AR\n"
     ]
    },
    {
     "name": "stderr",
     "output_type": "stream",
     "text": [
      "Running elastic model with corum transcripts:   4%|▍         | 436/10921 [03:26<1:20:34,  2.17it/s]"
     ]
    },
    {
     "name": "stdout",
     "output_type": "stream",
     "text": [
      "corr: [0.22968], r2: [0.01363]\n",
      "Doing 436: AP1B1\n"
     ]
    },
    {
     "name": "stderr",
     "output_type": "stream",
     "text": [
      "/Applications/venv/CPTAC_Protein/lib/python3.9/site-packages/numpy/lib/function_base.py:2691: RuntimeWarning: invalid value encountered in true_divide\n",
      "  c /= stddev[:, None]\n",
      "/Applications/venv/CPTAC_Protein/lib/python3.9/site-packages/numpy/lib/function_base.py:2692: RuntimeWarning: invalid value encountered in true_divide\n",
      "  c /= stddev[None, :]\n",
      "Running elastic model with corum transcripts:   4%|▍         | 437/10921 [03:26<1:27:06,  2.01it/s]"
     ]
    },
    {
     "name": "stdout",
     "output_type": "stream",
     "text": [
      "corr: [0], r2: [-0.51865]\n",
      "Doing 437: AP1G1\n"
     ]
    },
    {
     "name": "stderr",
     "output_type": "stream",
     "text": [
      "Running elastic model with corum transcripts:   4%|▍         | 438/10921 [03:27<1:26:54,  2.01it/s]"
     ]
    },
    {
     "name": "stdout",
     "output_type": "stream",
     "text": [
      "corr: [0.59866], r2: [0.34262]\n",
      "Doing 438: AP1G2\n"
     ]
    },
    {
     "name": "stderr",
     "output_type": "stream",
     "text": [
      "Running elastic model with corum transcripts:   4%|▍         | 439/10921 [03:27<1:25:58,  2.03it/s]"
     ]
    },
    {
     "name": "stdout",
     "output_type": "stream",
     "text": [
      "corr: [0.39983], r2: [0.14953]\n",
      "Doing 439: AP1M1\n"
     ]
    },
    {
     "name": "stderr",
     "output_type": "stream",
     "text": [
      "Running elastic model with corum transcripts:   4%|▍         | 440/10921 [03:28<1:25:50,  2.03it/s]"
     ]
    },
    {
     "name": "stdout",
     "output_type": "stream",
     "text": [
      "corr: [0.37355], r2: [0.13664]\n",
      "Doing 440: AP1M2\n"
     ]
    },
    {
     "name": "stderr",
     "output_type": "stream",
     "text": [
      "Running elastic model with corum transcripts:   4%|▍         | 441/10921 [03:28<1:25:57,  2.03it/s]"
     ]
    },
    {
     "name": "stdout",
     "output_type": "stream",
     "text": [
      "corr: [0.52301], r2: [0.20272]\n",
      "Doing 441: AP1S1\n"
     ]
    },
    {
     "name": "stderr",
     "output_type": "stream",
     "text": [
      "Running elastic model with corum transcripts:   4%|▍         | 442/10921 [03:29<1:25:56,  2.03it/s]"
     ]
    },
    {
     "name": "stdout",
     "output_type": "stream",
     "text": [
      "corr: [0.6378], r2: [0.31845]\n",
      "Doing 442: AP1S2\n"
     ]
    },
    {
     "name": "stderr",
     "output_type": "stream",
     "text": [
      "Running elastic model with corum transcripts:   4%|▍         | 443/10921 [03:29<1:26:28,  2.02it/s]"
     ]
    },
    {
     "name": "stdout",
     "output_type": "stream",
     "text": [
      "corr: [0.11644], r2: [-0.09876]\n",
      "Doing 443: AP1S3\n"
     ]
    },
    {
     "name": "stderr",
     "output_type": "stream",
     "text": [
      "Running elastic model with corum transcripts:   4%|▍         | 444/10921 [03:30<1:28:21,  1.98it/s]"
     ]
    },
    {
     "name": "stdout",
     "output_type": "stream",
     "text": [
      "corr: [0.22289], r2: [-0.01726]\n",
      "Doing 444: AP2A1\n"
     ]
    },
    {
     "name": "stderr",
     "output_type": "stream",
     "text": [
      "Running elastic model with corum transcripts:   4%|▍         | 445/10921 [03:30<1:32:32,  1.89it/s]"
     ]
    },
    {
     "name": "stdout",
     "output_type": "stream",
     "text": [
      "corr: [0.39822], r2: [-0.20121]\n",
      "Doing 445: AP2A2\n"
     ]
    },
    {
     "name": "stderr",
     "output_type": "stream",
     "text": [
      "Running elastic model with corum transcripts:   4%|▍         | 446/10921 [03:31<1:28:16,  1.98it/s]"
     ]
    },
    {
     "name": "stdout",
     "output_type": "stream",
     "text": [
      "corr: [0.13871], r2: [-0.39955]\n",
      "Doing 446: AP2B1\n"
     ]
    },
    {
     "name": "stderr",
     "output_type": "stream",
     "text": [
      "Running elastic model with corum transcripts:   4%|▍         | 447/10921 [03:31<1:25:40,  2.04it/s]"
     ]
    },
    {
     "name": "stdout",
     "output_type": "stream",
     "text": [
      "corr: [0.36228], r2: [-0.98513]\n",
      "Doing 447: AP2M1\n"
     ]
    },
    {
     "name": "stderr",
     "output_type": "stream",
     "text": [
      "Running elastic model with corum transcripts:   4%|▍         | 448/10921 [03:32<1:23:29,  2.09it/s]"
     ]
    },
    {
     "name": "stdout",
     "output_type": "stream",
     "text": [
      "corr: [0.01297], r2: [-0.48432]\n",
      "Doing 448: AP2S1\n"
     ]
    },
    {
     "name": "stderr",
     "output_type": "stream",
     "text": [
      "Running elastic model with corum transcripts:   4%|▍         | 449/10921 [03:32<1:22:11,  2.12it/s]"
     ]
    },
    {
     "name": "stdout",
     "output_type": "stream",
     "text": [
      "corr: [0.39585], r2: [0.00634]\n",
      "Doing 449: AP3B1\n"
     ]
    },
    {
     "name": "stderr",
     "output_type": "stream",
     "text": [
      "Running elastic model with corum transcripts:   4%|▍         | 450/10921 [03:33<1:24:56,  2.05it/s]"
     ]
    },
    {
     "name": "stdout",
     "output_type": "stream",
     "text": [
      "corr: [0.43548], r2: [-0.08718]\n",
      "Doing 450: AP3B2\n"
     ]
    },
    {
     "name": "stderr",
     "output_type": "stream",
     "text": [
      "Running elastic model with corum transcripts:   4%|▍         | 451/10921 [03:33<1:25:05,  2.05it/s]"
     ]
    },
    {
     "name": "stdout",
     "output_type": "stream",
     "text": [
      "corr: [0.26104], r2: [-0.26524]\n",
      "Doing 451: AP3D1\n"
     ]
    },
    {
     "name": "stderr",
     "output_type": "stream",
     "text": [
      "Running elastic model with corum transcripts:   4%|▍         | 452/10921 [03:34<1:26:29,  2.02it/s]"
     ]
    },
    {
     "name": "stdout",
     "output_type": "stream",
     "text": [
      "corr: [0.43767], r2: [0.10083]\n",
      "Doing 452: AP3M1\n"
     ]
    },
    {
     "name": "stderr",
     "output_type": "stream",
     "text": [
      "Running elastic model with corum transcripts:   4%|▍         | 453/10921 [03:34<1:32:00,  1.90it/s]"
     ]
    },
    {
     "name": "stdout",
     "output_type": "stream",
     "text": [
      "corr: [0.54175], r2: [0.21549]\n",
      "Doing 453: AP3M2\n"
     ]
    },
    {
     "name": "stderr",
     "output_type": "stream",
     "text": [
      "Running elastic model with corum transcripts:   4%|▍         | 454/10921 [03:35<1:30:20,  1.93it/s]"
     ]
    },
    {
     "name": "stdout",
     "output_type": "stream",
     "text": [
      "corr: [0.55828], r2: [0.13867]\n",
      "Doing 454: AP3S1\n"
     ]
    },
    {
     "name": "stderr",
     "output_type": "stream",
     "text": [
      "Running elastic model with corum transcripts:   4%|▍         | 455/10921 [03:35<1:29:07,  1.96it/s]"
     ]
    },
    {
     "name": "stdout",
     "output_type": "stream",
     "text": [
      "corr: [0.56933], r2: [0.23307]\n",
      "Doing 455: AP4B1\n"
     ]
    },
    {
     "name": "stderr",
     "output_type": "stream",
     "text": [
      "Running elastic model with corum transcripts:   4%|▍         | 456/10921 [03:36<1:27:04,  2.00it/s]"
     ]
    },
    {
     "name": "stdout",
     "output_type": "stream",
     "text": [
      "corr: [0.11581], r2: [-0.01425]\n",
      "Doing 456: AP4E1\n"
     ]
    },
    {
     "name": "stderr",
     "output_type": "stream",
     "text": [
      "Running elastic model with corum transcripts:   4%|▍         | 457/10921 [03:36<1:24:40,  2.06it/s]"
     ]
    },
    {
     "name": "stdout",
     "output_type": "stream",
     "text": [
      "corr: [0.36252], r2: [0.10515]\n",
      "Doing 457: AP4M1\n"
     ]
    },
    {
     "name": "stderr",
     "output_type": "stream",
     "text": [
      "Running elastic model with corum transcripts:   4%|▍         | 458/10921 [03:37<1:23:33,  2.09it/s]"
     ]
    },
    {
     "name": "stdout",
     "output_type": "stream",
     "text": [
      "corr: [-0.27686], r2: [-0.13612]\n",
      "Doing 458: AP4S1\n"
     ]
    },
    {
     "name": "stderr",
     "output_type": "stream",
     "text": [
      "Running elastic model with corum transcripts:   4%|▍         | 459/10921 [03:37<1:21:54,  2.13it/s]"
     ]
    },
    {
     "name": "stdout",
     "output_type": "stream",
     "text": [
      "corr: [-0.01492], r2: [-0.12245]\n",
      "Doing 459: AP5B1\n"
     ]
    },
    {
     "name": "stderr",
     "output_type": "stream",
     "text": [
      "/Applications/venv/CPTAC_Protein/lib/python3.9/site-packages/numpy/lib/function_base.py:2691: RuntimeWarning: invalid value encountered in true_divide\n",
      "  c /= stddev[:, None]\n",
      "/Applications/venv/CPTAC_Protein/lib/python3.9/site-packages/numpy/lib/function_base.py:2692: RuntimeWarning: invalid value encountered in true_divide\n",
      "  c /= stddev[None, :]\n",
      "Running elastic model with corum transcripts:   4%|▍         | 460/10921 [03:38<1:26:18,  2.02it/s]"
     ]
    },
    {
     "name": "stdout",
     "output_type": "stream",
     "text": [
      "corr: [0], r2: [-0.04657]\n",
      "Doing 460: AP5M1\n"
     ]
    },
    {
     "name": "stderr",
     "output_type": "stream",
     "text": [
      "/Applications/venv/CPTAC_Protein/lib/python3.9/site-packages/numpy/lib/function_base.py:2691: RuntimeWarning: invalid value encountered in true_divide\n",
      "  c /= stddev[:, None]\n",
      "/Applications/venv/CPTAC_Protein/lib/python3.9/site-packages/numpy/lib/function_base.py:2692: RuntimeWarning: invalid value encountered in true_divide\n",
      "  c /= stddev[None, :]\n",
      "Running elastic model with corum transcripts:   4%|▍         | 461/10921 [03:38<1:24:51,  2.05it/s]"
     ]
    },
    {
     "name": "stdout",
     "output_type": "stream",
     "text": [
      "corr: [0], r2: [-0.03506]\n",
      "Doing 461: AP5S1\n"
     ]
    },
    {
     "name": "stderr",
     "output_type": "stream",
     "text": [
      "Running elastic model with corum transcripts:   4%|▍         | 462/10921 [03:39<1:23:43,  2.08it/s]"
     ]
    },
    {
     "name": "stdout",
     "output_type": "stream",
     "text": [
      "corr: [0.3945], r2: [0.1426]\n",
      "Doing 462: AP5Z1\n"
     ]
    },
    {
     "name": "stderr",
     "output_type": "stream",
     "text": [
      "Running elastic model with corum transcripts:   4%|▍         | 463/10921 [03:39<1:23:19,  2.09it/s]"
     ]
    },
    {
     "name": "stdout",
     "output_type": "stream",
     "text": [
      "corr: [0.38397], r2: [-0.02976]\n",
      "Doing 463: APAF1\n"
     ]
    },
    {
     "name": "stderr",
     "output_type": "stream",
     "text": [
      "Running elastic model with corum transcripts:   4%|▍         | 464/10921 [03:40<1:22:12,  2.12it/s]"
     ]
    },
    {
     "name": "stdout",
     "output_type": "stream",
     "text": [
      "corr: [0.34651], r2: [0.11791]\n",
      "Doing 464: APBA1\n"
     ]
    },
    {
     "name": "stderr",
     "output_type": "stream",
     "text": [
      "Running elastic model with corum transcripts:   4%|▍         | 465/10921 [03:40<1:21:55,  2.13it/s]"
     ]
    },
    {
     "name": "stdout",
     "output_type": "stream",
     "text": [
      "corr: [0.55318], r2: [0.18091]\n",
      "Doing 465: APBA3\n"
     ]
    },
    {
     "name": "stderr",
     "output_type": "stream",
     "text": [
      "/Applications/venv/CPTAC_Protein/lib/python3.9/site-packages/numpy/lib/function_base.py:2691: RuntimeWarning: invalid value encountered in true_divide\n",
      "  c /= stddev[:, None]\n",
      "/Applications/venv/CPTAC_Protein/lib/python3.9/site-packages/numpy/lib/function_base.py:2692: RuntimeWarning: invalid value encountered in true_divide\n",
      "  c /= stddev[None, :]\n",
      "Running elastic model with corum transcripts:   4%|▍         | 466/10921 [03:41<1:20:39,  2.16it/s]"
     ]
    },
    {
     "name": "stdout",
     "output_type": "stream",
     "text": [
      "corr: [0], r2: [-0.13539]\n",
      "Doing 466: APBB1\n"
     ]
    },
    {
     "name": "stderr",
     "output_type": "stream",
     "text": [
      "Running elastic model with corum transcripts:   4%|▍         | 467/10921 [03:41<1:21:10,  2.15it/s]"
     ]
    },
    {
     "name": "stdout",
     "output_type": "stream",
     "text": [
      "corr: [0.35545], r2: [-0.01045]\n",
      "Doing 467: APBB1IP\n"
     ]
    },
    {
     "name": "stderr",
     "output_type": "stream",
     "text": [
      "Running elastic model with corum transcripts:   4%|▍         | 468/10921 [03:42<1:26:01,  2.03it/s]"
     ]
    },
    {
     "name": "stdout",
     "output_type": "stream",
     "text": [
      "corr: [0.74301], r2: [0.49235]\n",
      "Doing 468: APBB2\n"
     ]
    },
    {
     "name": "stderr",
     "output_type": "stream",
     "text": [
      "Running elastic model with corum transcripts:   4%|▍         | 469/10921 [03:42<1:23:03,  2.10it/s]"
     ]
    },
    {
     "name": "stdout",
     "output_type": "stream",
     "text": [
      "corr: [0.59243], r2: [0.29474]\n",
      "Doing 469: APC\n"
     ]
    },
    {
     "name": "stderr",
     "output_type": "stream",
     "text": [
      "Running elastic model with corum transcripts:   4%|▍         | 470/10921 [03:42<1:24:13,  2.07it/s]"
     ]
    },
    {
     "name": "stdout",
     "output_type": "stream",
     "text": [
      "corr: [0.05886], r2: [-0.0049]\n",
      "Doing 470: APCS\n"
     ]
    },
    {
     "name": "stderr",
     "output_type": "stream",
     "text": [
      "Running elastic model with corum transcripts:   4%|▍         | 471/10921 [03:43<1:21:52,  2.13it/s]"
     ]
    },
    {
     "name": "stdout",
     "output_type": "stream",
     "text": [
      "corr: [0.06432], r2: [-0.02871]\n",
      "Doing 471: APEH\n"
     ]
    },
    {
     "name": "stderr",
     "output_type": "stream",
     "text": [
      "Running elastic model with corum transcripts:   4%|▍         | 472/10921 [03:43<1:19:42,  2.18it/s]"
     ]
    },
    {
     "name": "stdout",
     "output_type": "stream",
     "text": [
      "corr: [0.41669], r2: [0.06569]\n",
      "Doing 472: APEX1\n"
     ]
    },
    {
     "name": "stderr",
     "output_type": "stream",
     "text": [
      "Running elastic model with corum transcripts:   4%|▍         | 473/10921 [03:44<1:19:39,  2.19it/s]"
     ]
    },
    {
     "name": "stdout",
     "output_type": "stream",
     "text": [
      "corr: [0.44697], r2: [-0.08606]\n",
      "Doing 473: APEX2\n"
     ]
    },
    {
     "name": "stderr",
     "output_type": "stream",
     "text": [
      "Running elastic model with corum transcripts:   4%|▍         | 474/10921 [03:44<1:19:43,  2.18it/s]"
     ]
    },
    {
     "name": "stdout",
     "output_type": "stream",
     "text": [
      "corr: [0.63176], r2: [0.13695]\n",
      "Doing 474: APH1A\n"
     ]
    },
    {
     "name": "stderr",
     "output_type": "stream",
     "text": [
      "Running elastic model with corum transcripts:   4%|▍         | 475/10921 [03:45<1:21:00,  2.15it/s]"
     ]
    },
    {
     "name": "stdout",
     "output_type": "stream",
     "text": [
      "corr: [0.29555], r2: [-0.19271]\n",
      "Doing 475: API5\n"
     ]
    },
    {
     "name": "stderr",
     "output_type": "stream",
     "text": [
      "Running elastic model with corum transcripts:   4%|▍         | 476/10921 [03:45<1:27:48,  1.98it/s]"
     ]
    },
    {
     "name": "stdout",
     "output_type": "stream",
     "text": [
      "corr: [0.39662], r2: [0.05655]\n",
      "Doing 476: APIP\n"
     ]
    },
    {
     "name": "stderr",
     "output_type": "stream",
     "text": [
      "Running elastic model with corum transcripts:   4%|▍         | 477/10921 [03:46<1:23:57,  2.07it/s]"
     ]
    },
    {
     "name": "stdout",
     "output_type": "stream",
     "text": [
      "corr: [0.64175], r2: [0.37739]\n",
      "Doing 477: APLF\n"
     ]
    },
    {
     "name": "stderr",
     "output_type": "stream",
     "text": [
      "/Applications/venv/CPTAC_Protein/lib/python3.9/site-packages/numpy/lib/function_base.py:2691: RuntimeWarning: invalid value encountered in true_divide\n",
      "  c /= stddev[:, None]\n",
      "/Applications/venv/CPTAC_Protein/lib/python3.9/site-packages/numpy/lib/function_base.py:2692: RuntimeWarning: invalid value encountered in true_divide\n",
      "  c /= stddev[None, :]\n",
      "Running elastic model with corum transcripts:   4%|▍         | 478/10921 [03:46<1:21:00,  2.15it/s]"
     ]
    },
    {
     "name": "stdout",
     "output_type": "stream",
     "text": [
      "corr: [0], r2: [-0.09093]\n",
      "Doing 478: APLP2\n"
     ]
    },
    {
     "name": "stderr",
     "output_type": "stream",
     "text": [
      "Running elastic model with corum transcripts:   4%|▍         | 479/10921 [03:47<1:20:05,  2.17it/s]"
     ]
    },
    {
     "name": "stdout",
     "output_type": "stream",
     "text": [
      "corr: [0.46556], r2: [-0.13337]\n",
      "Doing 479: APMAP\n"
     ]
    },
    {
     "name": "stderr",
     "output_type": "stream",
     "text": [
      "Running elastic model with corum transcripts:   4%|▍         | 480/10921 [03:47<1:18:32,  2.22it/s]"
     ]
    },
    {
     "name": "stdout",
     "output_type": "stream",
     "text": [
      "corr: [0.38458], r2: [-0.20584]\n",
      "Doing 480: APOA1\n"
     ]
    },
    {
     "name": "stderr",
     "output_type": "stream",
     "text": [
      "Running elastic model with corum transcripts:   4%|▍         | 481/10921 [03:48<1:20:11,  2.17it/s]"
     ]
    },
    {
     "name": "stdout",
     "output_type": "stream",
     "text": [
      "corr: [0.33156], r2: [-0.07536]\n",
      "Doing 481: APOA2\n"
     ]
    },
    {
     "name": "stderr",
     "output_type": "stream",
     "text": [
      "Running elastic model with corum transcripts:   4%|▍         | 482/10921 [03:48<1:18:48,  2.21it/s]"
     ]
    },
    {
     "name": "stdout",
     "output_type": "stream",
     "text": [
      "corr: [0.20239], r2: [-0.04871]\n",
      "Doing 482: APOA4\n"
     ]
    },
    {
     "name": "stderr",
     "output_type": "stream",
     "text": [
      "/Applications/venv/CPTAC_Protein/lib/python3.9/site-packages/numpy/lib/function_base.py:2691: RuntimeWarning: invalid value encountered in true_divide\n",
      "  c /= stddev[:, None]\n",
      "/Applications/venv/CPTAC_Protein/lib/python3.9/site-packages/numpy/lib/function_base.py:2692: RuntimeWarning: invalid value encountered in true_divide\n",
      "  c /= stddev[None, :]\n",
      "Running elastic model with corum transcripts:   4%|▍         | 483/10921 [03:49<1:22:00,  2.12it/s]"
     ]
    },
    {
     "name": "stdout",
     "output_type": "stream",
     "text": [
      "corr: [0.19532], r2: [-0.51662]\n",
      "Doing 483: APOB\n"
     ]
    },
    {
     "name": "stderr",
     "output_type": "stream",
     "text": [
      "Running elastic model with corum transcripts:   4%|▍         | 484/10921 [03:49<1:20:24,  2.16it/s]"
     ]
    },
    {
     "name": "stdout",
     "output_type": "stream",
     "text": [
      "corr: [0.24286], r2: [0.03714]\n",
      "Doing 484: APOBEC2\n",
      "Not enough proteomics observations. Skipping protein.\n",
      "Doing 485: APOBEC3A\n"
     ]
    },
    {
     "name": "stderr",
     "output_type": "stream",
     "text": [
      "Running elastic model with corum transcripts:   4%|▍         | 486/10921 [03:49<1:01:22,  2.83it/s]"
     ]
    },
    {
     "name": "stdout",
     "output_type": "stream",
     "text": [
      "corr: [-0.], r2: [-0.00013]\n",
      "Doing 486: APOBEC3B\n"
     ]
    },
    {
     "name": "stderr",
     "output_type": "stream",
     "text": [
      "Running elastic model with corum transcripts:   4%|▍         | 487/10921 [03:50<1:05:00,  2.67it/s]"
     ]
    },
    {
     "name": "stdout",
     "output_type": "stream",
     "text": [
      "corr: [0.33672], r2: [-0.21045]\n",
      "Doing 487: APOBEC3C\n"
     ]
    },
    {
     "name": "stderr",
     "output_type": "stream",
     "text": [
      "Running elastic model with corum transcripts:   4%|▍         | 488/10921 [03:50<1:07:30,  2.58it/s]"
     ]
    },
    {
     "name": "stdout",
     "output_type": "stream",
     "text": [
      "corr: [0.57902], r2: [0.32239]\n",
      "Doing 488: APOBEC3F\n"
     ]
    },
    {
     "name": "stderr",
     "output_type": "stream",
     "text": [
      "Running elastic model with corum transcripts:   4%|▍         | 489/10921 [03:51<1:09:12,  2.51it/s]"
     ]
    },
    {
     "name": "stdout",
     "output_type": "stream",
     "text": [
      "corr: [0.40683], r2: [0.13627]\n",
      "Doing 489: APOBEC3G\n"
     ]
    },
    {
     "name": "stderr",
     "output_type": "stream",
     "text": [
      "Running elastic model with corum transcripts:   4%|▍         | 490/10921 [03:51<1:10:34,  2.46it/s]"
     ]
    },
    {
     "name": "stdout",
     "output_type": "stream",
     "text": [
      "corr: [0.60708], r2: [-0.05419]\n",
      "Doing 490: APOBR\n"
     ]
    },
    {
     "name": "stderr",
     "output_type": "stream",
     "text": [
      "Running elastic model with corum transcripts:   4%|▍         | 491/10921 [03:52<1:11:49,  2.42it/s]"
     ]
    },
    {
     "name": "stdout",
     "output_type": "stream",
     "text": [
      "corr: [0.48104], r2: [0.22405]\n",
      "Doing 491: APOC1\n"
     ]
    },
    {
     "name": "stderr",
     "output_type": "stream",
     "text": [
      "Running elastic model with corum transcripts:   5%|▍         | 492/10921 [03:52<1:17:29,  2.24it/s]"
     ]
    },
    {
     "name": "stdout",
     "output_type": "stream",
     "text": [
      "corr: [0.23303], r2: [-0.05934]\n",
      "Doing 492: APOC2\n"
     ]
    },
    {
     "name": "stderr",
     "output_type": "stream",
     "text": [
      "Running elastic model with corum transcripts:   5%|▍         | 493/10921 [03:53<1:17:13,  2.25it/s]"
     ]
    },
    {
     "name": "stdout",
     "output_type": "stream",
     "text": [
      "corr: [0.13414], r2: [-0.01616]\n",
      "Doing 493: APOC3\n"
     ]
    },
    {
     "name": "stderr",
     "output_type": "stream",
     "text": [
      "Running elastic model with corum transcripts:   5%|▍         | 494/10921 [03:53<1:16:32,  2.27it/s]"
     ]
    },
    {
     "name": "stdout",
     "output_type": "stream",
     "text": [
      "corr: [0.33097], r2: [-0.12897]\n",
      "Doing 494: APOC4\n"
     ]
    },
    {
     "name": "stderr",
     "output_type": "stream",
     "text": [
      "Running elastic model with corum transcripts:   5%|▍         | 495/10921 [03:53<1:16:37,  2.27it/s]"
     ]
    },
    {
     "name": "stdout",
     "output_type": "stream",
     "text": [
      "corr: [-0.09246], r2: [-0.03929]\n",
      "Doing 495: APOD\n"
     ]
    },
    {
     "name": "stderr",
     "output_type": "stream",
     "text": [
      "Running elastic model with corum transcripts:   5%|▍         | 496/10921 [03:54<1:16:31,  2.27it/s]"
     ]
    },
    {
     "name": "stdout",
     "output_type": "stream",
     "text": [
      "corr: [0.12249], r2: [-0.27576]\n",
      "Doing 496: APOE\n"
     ]
    },
    {
     "name": "stderr",
     "output_type": "stream",
     "text": [
      "Running elastic model with corum transcripts:   5%|▍         | 497/10921 [03:54<1:15:35,  2.30it/s]"
     ]
    },
    {
     "name": "stdout",
     "output_type": "stream",
     "text": [
      "corr: [0.34986], r2: [0.01867]\n",
      "Doing 497: APOF\n"
     ]
    },
    {
     "name": "stderr",
     "output_type": "stream",
     "text": [
      "/Applications/venv/CPTAC_Protein/lib/python3.9/site-packages/numpy/lib/function_base.py:2691: RuntimeWarning: invalid value encountered in true_divide\n",
      "  c /= stddev[:, None]\n",
      "/Applications/venv/CPTAC_Protein/lib/python3.9/site-packages/numpy/lib/function_base.py:2692: RuntimeWarning: invalid value encountered in true_divide\n",
      "  c /= stddev[None, :]\n",
      "Running elastic model with corum transcripts:   5%|▍         | 498/10921 [03:55<1:16:03,  2.28it/s]"
     ]
    },
    {
     "name": "stdout",
     "output_type": "stream",
     "text": [
      "corr: [0], r2: [-0.011]\n",
      "Doing 498: APOH\n"
     ]
    },
    {
     "name": "stderr",
     "output_type": "stream",
     "text": [
      "Running elastic model with corum transcripts:   5%|▍         | 499/10921 [03:55<1:21:04,  2.14it/s]"
     ]
    },
    {
     "name": "stdout",
     "output_type": "stream",
     "text": [
      "corr: [0.17065], r2: [-0.11299]\n",
      "Doing 499: APOL1\n"
     ]
    },
    {
     "name": "stderr",
     "output_type": "stream",
     "text": [
      "/Applications/venv/CPTAC_Protein/lib/python3.9/site-packages/numpy/lib/function_base.py:2691: RuntimeWarning: invalid value encountered in true_divide\n",
      "  c /= stddev[:, None]\n",
      "/Applications/venv/CPTAC_Protein/lib/python3.9/site-packages/numpy/lib/function_base.py:2692: RuntimeWarning: invalid value encountered in true_divide\n",
      "  c /= stddev[None, :]\n",
      "Running elastic model with corum transcripts:   5%|▍         | 500/10921 [03:56<1:21:25,  2.13it/s]"
     ]
    },
    {
     "name": "stdout",
     "output_type": "stream",
     "text": [
      "corr: [0], r2: [-0.05979]\n",
      "Doing 500: APOL2\n"
     ]
    },
    {
     "name": "stderr",
     "output_type": "stream",
     "text": [
      "Running elastic model with corum transcripts:   5%|▍         | 501/10921 [03:56<1:19:46,  2.18it/s]"
     ]
    },
    {
     "name": "stdout",
     "output_type": "stream",
     "text": [
      "corr: [0.57281], r2: [0.2566]\n",
      "Doing 501: APOL3\n"
     ]
    },
    {
     "name": "stderr",
     "output_type": "stream",
     "text": [
      "Running elastic model with corum transcripts:   5%|▍         | 502/10921 [03:57<1:17:39,  2.24it/s]"
     ]
    },
    {
     "name": "stdout",
     "output_type": "stream",
     "text": [
      "corr: [0.69627], r2: [0.10501]\n",
      "Doing 502: APOM\n",
      "Not enough features. Skipping protein.\n",
      "Doing 503: APOO\n"
     ]
    },
    {
     "name": "stderr",
     "output_type": "stream",
     "text": [
      "Running elastic model with corum transcripts:   5%|▍         | 504/10921 [03:57<1:01:29,  2.82it/s]"
     ]
    },
    {
     "name": "stdout",
     "output_type": "stream",
     "text": [
      "corr: [-0.15296], r2: [-0.30627]\n",
      "Doing 504: APOOL\n"
     ]
    },
    {
     "name": "stderr",
     "output_type": "stream",
     "text": [
      "Running elastic model with corum transcripts:   5%|▍         | 505/10921 [03:58<1:06:44,  2.60it/s]"
     ]
    },
    {
     "name": "stdout",
     "output_type": "stream",
     "text": [
      "corr: [0.06366], r2: [-0.11139]\n",
      "Doing 505: APP\n"
     ]
    },
    {
     "name": "stderr",
     "output_type": "stream",
     "text": [
      "Running elastic model with corum transcripts:   5%|▍         | 506/10921 [03:58<1:10:57,  2.45it/s]"
     ]
    },
    {
     "name": "stdout",
     "output_type": "stream",
     "text": [
      "corr: [0.56554], r2: [0.23646]\n",
      "Doing 506: APPL1\n"
     ]
    },
    {
     "name": "stderr",
     "output_type": "stream",
     "text": [
      "Running elastic model with corum transcripts:   5%|▍         | 507/10921 [03:59<1:17:16,  2.25it/s]"
     ]
    },
    {
     "name": "stdout",
     "output_type": "stream",
     "text": [
      "corr: [0.66142], r2: [0.27107]\n",
      "Doing 507: APPL2\n"
     ]
    },
    {
     "name": "stderr",
     "output_type": "stream",
     "text": [
      "Running elastic model with corum transcripts:   5%|▍         | 508/10921 [03:59<1:16:04,  2.28it/s]"
     ]
    },
    {
     "name": "stdout",
     "output_type": "stream",
     "text": [
      "corr: [0.40796], r2: [-0.02823]\n",
      "Doing 508: APRT\n"
     ]
    },
    {
     "name": "stderr",
     "output_type": "stream",
     "text": [
      "Running elastic model with corum transcripts:   5%|▍         | 509/10921 [03:59<1:15:17,  2.30it/s]"
     ]
    },
    {
     "name": "stdout",
     "output_type": "stream",
     "text": [
      "corr: [0.53643], r2: [0.23685]\n",
      "Doing 509: APTX\n"
     ]
    },
    {
     "name": "stderr",
     "output_type": "stream",
     "text": [
      "Running elastic model with corum transcripts:   5%|▍         | 510/10921 [04:00<1:15:01,  2.31it/s]"
     ]
    },
    {
     "name": "stdout",
     "output_type": "stream",
     "text": [
      "corr: [0.64848], r2: [0.40704]\n",
      "Doing 510: AQP5\n"
     ]
    },
    {
     "name": "stderr",
     "output_type": "stream",
     "text": [
      "/Applications/venv/CPTAC_Protein/lib/python3.9/site-packages/numpy/lib/function_base.py:2691: RuntimeWarning: invalid value encountered in true_divide\n",
      "  c /= stddev[:, None]\n",
      "/Applications/venv/CPTAC_Protein/lib/python3.9/site-packages/numpy/lib/function_base.py:2692: RuntimeWarning: invalid value encountered in true_divide\n",
      "  c /= stddev[None, :]\n",
      "Running elastic model with corum transcripts:   5%|▍         | 511/10921 [04:00<1:14:41,  2.32it/s]"
     ]
    },
    {
     "name": "stdout",
     "output_type": "stream",
     "text": [
      "corr: [0], r2: [-0.00971]\n",
      "Doing 511: AQR\n"
     ]
    },
    {
     "name": "stderr",
     "output_type": "stream",
     "text": [
      "Running elastic model with corum transcripts:   5%|▍         | 512/10921 [04:34<29:29:05, 10.20s/it]"
     ]
    },
    {
     "name": "stdout",
     "output_type": "stream",
     "text": [
      "corr: [0.37948], r2: [0.08298]\n",
      "Doing 512: AR\n"
     ]
    },
    {
     "name": "stderr",
     "output_type": "stream",
     "text": [
      "Running elastic model with corum transcripts:   5%|▍         | 513/10921 [04:34<21:10:38,  7.32s/it]"
     ]
    },
    {
     "name": "stdout",
     "output_type": "stream",
     "text": [
      "corr: [0.76774], r2: [0.45294]\n",
      "Doing 513: ARAF\n"
     ]
    },
    {
     "name": "stderr",
     "output_type": "stream",
     "text": [
      "Running elastic model with corum transcripts:   5%|▍         | 514/10921 [04:35<15:17:30,  5.29s/it]"
     ]
    },
    {
     "name": "stdout",
     "output_type": "stream",
     "text": [
      "corr: [0.50798], r2: [0.01988]\n",
      "Doing 514: ARAP1\n"
     ]
    },
    {
     "name": "stderr",
     "output_type": "stream",
     "text": [
      "Running elastic model with corum transcripts:   5%|▍         | 515/10921 [04:35<11:06:40,  3.84s/it]"
     ]
    },
    {
     "name": "stdout",
     "output_type": "stream",
     "text": [
      "corr: [0.06899], r2: [-0.54661]\n",
      "Doing 515: ARAP2\n"
     ]
    },
    {
     "name": "stderr",
     "output_type": "stream",
     "text": [
      "Running elastic model with corum transcripts:   5%|▍         | 516/10921 [04:36<8:15:57,  2.86s/it] "
     ]
    },
    {
     "name": "stdout",
     "output_type": "stream",
     "text": [
      "corr: [0.23442], r2: [0.03948]\n",
      "Doing 516: ARAP3\n"
     ]
    },
    {
     "name": "stderr",
     "output_type": "stream",
     "text": [
      "Running elastic model with corum transcripts:   5%|▍         | 517/10921 [04:36<6:10:49,  2.14s/it]"
     ]
    },
    {
     "name": "stdout",
     "output_type": "stream",
     "text": [
      "corr: [0.23834], r2: [0.01712]\n",
      "Doing 517: ARCN1\n"
     ]
    },
    {
     "name": "stderr",
     "output_type": "stream",
     "text": [
      "Running elastic model with corum transcripts:   5%|▍         | 518/10921 [04:37<4:42:51,  1.63s/it]"
     ]
    },
    {
     "name": "stdout",
     "output_type": "stream",
     "text": [
      "corr: [0.52019], r2: [-0.01018]\n",
      "Doing 518: ARF1\n"
     ]
    },
    {
     "name": "stderr",
     "output_type": "stream",
     "text": [
      "Running elastic model with corum transcripts:   5%|▍         | 519/10921 [04:37<3:43:12,  1.29s/it]"
     ]
    },
    {
     "name": "stdout",
     "output_type": "stream",
     "text": [
      "corr: [0.12684], r2: [0.00719]\n",
      "Doing 519: ARF3\n"
     ]
    },
    {
     "name": "stderr",
     "output_type": "stream",
     "text": [
      "Running elastic model with corum transcripts:   5%|▍         | 520/10921 [04:38<2:59:00,  1.03s/it]"
     ]
    },
    {
     "name": "stdout",
     "output_type": "stream",
     "text": [
      "corr: [0], r2: [-0.00962]\n",
      "Doing 520: ARF4\n"
     ]
    },
    {
     "name": "stderr",
     "output_type": "stream",
     "text": [
      "Running elastic model with corum transcripts:   5%|▍         | 521/10921 [04:38<2:28:20,  1.17it/s]"
     ]
    },
    {
     "name": "stdout",
     "output_type": "stream",
     "text": [
      "corr: [0.36168], r2: [0.11839]\n",
      "Doing 521: ARF5\n"
     ]
    },
    {
     "name": "stderr",
     "output_type": "stream",
     "text": [
      "Running elastic model with corum transcripts:   5%|▍         | 522/10921 [04:38<2:06:40,  1.37it/s]"
     ]
    },
    {
     "name": "stdout",
     "output_type": "stream",
     "text": [
      "corr: [0.19388], r2: [0.02863]\n",
      "Doing 522: ARF6\n"
     ]
    },
    {
     "name": "stderr",
     "output_type": "stream",
     "text": [
      "Running elastic model with corum transcripts:   5%|▍         | 523/10921 [04:39<1:56:09,  1.49it/s]"
     ]
    },
    {
     "name": "stdout",
     "output_type": "stream",
     "text": [
      "corr: [0.43436], r2: [0.11251]\n",
      "Doing 523: ARFGAP1\n"
     ]
    },
    {
     "name": "stderr",
     "output_type": "stream",
     "text": [
      "Running elastic model with corum transcripts:   5%|▍         | 524/10921 [04:39<1:44:05,  1.66it/s]"
     ]
    },
    {
     "name": "stdout",
     "output_type": "stream",
     "text": [
      "corr: [0.42342], r2: [0.12815]\n",
      "Doing 524: ARFGAP2\n"
     ]
    },
    {
     "name": "stderr",
     "output_type": "stream",
     "text": [
      "Running elastic model with corum transcripts:   5%|▍         | 525/10921 [04:40<1:36:26,  1.80it/s]"
     ]
    },
    {
     "name": "stdout",
     "output_type": "stream",
     "text": [
      "corr: [0.50837], r2: [0.09472]\n",
      "Doing 525: ARFGAP3\n"
     ]
    },
    {
     "name": "stderr",
     "output_type": "stream",
     "text": [
      "Running elastic model with corum transcripts:   5%|▍         | 526/10921 [04:40<1:30:29,  1.91it/s]"
     ]
    },
    {
     "name": "stdout",
     "output_type": "stream",
     "text": [
      "corr: [0.53304], r2: [0.19273]\n",
      "Doing 526: ARFGEF1\n"
     ]
    },
    {
     "name": "stderr",
     "output_type": "stream",
     "text": [
      "Running elastic model with corum transcripts:   5%|▍         | 527/10921 [04:41<1:26:30,  2.00it/s]"
     ]
    },
    {
     "name": "stdout",
     "output_type": "stream",
     "text": [
      "corr: [0.62588], r2: [0.36425]\n",
      "Doing 527: ARFGEF2\n"
     ]
    },
    {
     "name": "stderr",
     "output_type": "stream",
     "text": [
      "Running elastic model with corum transcripts:   5%|▍         | 528/10921 [04:41<1:23:47,  2.07it/s]"
     ]
    },
    {
     "name": "stdout",
     "output_type": "stream",
     "text": [
      "corr: [0.57638], r2: [0.31674]\n",
      "Doing 528: ARFIP1\n"
     ]
    },
    {
     "name": "stderr",
     "output_type": "stream",
     "text": [
      "Running elastic model with corum transcripts:   5%|▍         | 529/10921 [04:42<1:21:42,  2.12it/s]"
     ]
    },
    {
     "name": "stdout",
     "output_type": "stream",
     "text": [
      "corr: [0.41292], r2: [0.1044]\n",
      "Doing 529: ARFIP2\n"
     ]
    },
    {
     "name": "stderr",
     "output_type": "stream",
     "text": [
      "Running elastic model with corum transcripts:   5%|▍         | 530/10921 [04:42<1:21:47,  2.12it/s]"
     ]
    },
    {
     "name": "stdout",
     "output_type": "stream",
     "text": [
      "corr: [0.58376], r2: [0.19361]\n",
      "Doing 530: ARFRP1\n"
     ]
    },
    {
     "name": "stderr",
     "output_type": "stream",
     "text": [
      "Running elastic model with corum transcripts:   5%|▍         | 531/10921 [04:43<1:24:22,  2.05it/s]"
     ]
    },
    {
     "name": "stdout",
     "output_type": "stream",
     "text": [
      "corr: [0.38643], r2: [0.08044]\n",
      "Doing 531: ARG1\n"
     ]
    },
    {
     "name": "stderr",
     "output_type": "stream",
     "text": [
      "Running elastic model with corum transcripts:   5%|▍         | 532/10921 [04:43<1:22:01,  2.11it/s]"
     ]
    },
    {
     "name": "stdout",
     "output_type": "stream",
     "text": [
      "corr: [0.11611], r2: [-0.24047]\n",
      "Doing 532: ARGLU1\n"
     ]
    },
    {
     "name": "stderr",
     "output_type": "stream",
     "text": [
      "Running elastic model with corum transcripts:   5%|▍         | 533/10921 [04:44<1:20:26,  2.15it/s]"
     ]
    },
    {
     "name": "stdout",
     "output_type": "stream",
     "text": [
      "corr: [0.12365], r2: [0.00362]\n",
      "Doing 533: ARHGAP1\n"
     ]
    },
    {
     "name": "stderr",
     "output_type": "stream",
     "text": [
      "Running elastic model with corum transcripts:   5%|▍         | 534/10921 [04:44<1:18:39,  2.20it/s]"
     ]
    },
    {
     "name": "stdout",
     "output_type": "stream",
     "text": [
      "corr: [0.16243], r2: [-0.45572]\n",
      "Doing 534: ARHGAP10\n"
     ]
    },
    {
     "name": "stderr",
     "output_type": "stream",
     "text": [
      "Running elastic model with corum transcripts:   5%|▍         | 535/10921 [04:44<1:19:25,  2.18it/s]"
     ]
    },
    {
     "name": "stdout",
     "output_type": "stream",
     "text": [
      "corr: [0.63596], r2: [0.31927]\n",
      "Doing 535: ARHGAP12\n"
     ]
    },
    {
     "name": "stderr",
     "output_type": "stream",
     "text": [
      "Running elastic model with corum transcripts:   5%|▍         | 536/10921 [04:45<1:18:16,  2.21it/s]"
     ]
    },
    {
     "name": "stdout",
     "output_type": "stream",
     "text": [
      "corr: [0.76865], r2: [0.47827]\n",
      "Doing 536: ARHGAP15\n"
     ]
    },
    {
     "name": "stderr",
     "output_type": "stream",
     "text": [
      "Running elastic model with corum transcripts:   5%|▍         | 537/10921 [04:45<1:17:36,  2.23it/s]"
     ]
    },
    {
     "name": "stdout",
     "output_type": "stream",
     "text": [
      "corr: [0.75575], r2: [0.27635]\n",
      "Doing 537: ARHGAP17\n"
     ]
    },
    {
     "name": "stderr",
     "output_type": "stream",
     "text": [
      "Running elastic model with corum transcripts:   5%|▍         | 538/10921 [04:46<1:19:44,  2.17it/s]"
     ]
    },
    {
     "name": "stdout",
     "output_type": "stream",
     "text": [
      "corr: [0.3818], r2: [-0.06236]\n",
      "Doing 538: ARHGAP18\n"
     ]
    },
    {
     "name": "stderr",
     "output_type": "stream",
     "text": [
      "Running elastic model with corum transcripts:   5%|▍         | 539/10921 [04:46<1:19:16,  2.18it/s]"
     ]
    },
    {
     "name": "stdout",
     "output_type": "stream",
     "text": [
      "corr: [0.54098], r2: [0.26478]\n",
      "Doing 539: ARHGAP21\n"
     ]
    },
    {
     "name": "stderr",
     "output_type": "stream",
     "text": [
      "Running elastic model with corum transcripts:   5%|▍         | 540/10921 [04:47<1:22:24,  2.10it/s]"
     ]
    },
    {
     "name": "stdout",
     "output_type": "stream",
     "text": [
      "corr: [0.41615], r2: [0.10891]\n",
      "Doing 540: ARHGAP23\n"
     ]
    },
    {
     "name": "stderr",
     "output_type": "stream",
     "text": [
      "Running elastic model with corum transcripts:   5%|▍         | 541/10921 [04:47<1:20:15,  2.16it/s]"
     ]
    },
    {
     "name": "stdout",
     "output_type": "stream",
     "text": [
      "corr: [0.37933], r2: [0.04724]\n",
      "Doing 541: ARHGAP25\n"
     ]
    },
    {
     "name": "stderr",
     "output_type": "stream",
     "text": [
      "Running elastic model with corum transcripts:   5%|▍         | 542/10921 [04:48<1:18:26,  2.21it/s]"
     ]
    },
    {
     "name": "stdout",
     "output_type": "stream",
     "text": [
      "corr: [0.7178], r2: [0.27612]\n",
      "Doing 542: ARHGAP26\n"
     ]
    },
    {
     "name": "stderr",
     "output_type": "stream",
     "text": [
      "Running elastic model with corum transcripts:   5%|▍         | 543/10921 [04:48<1:17:38,  2.23it/s]"
     ]
    },
    {
     "name": "stdout",
     "output_type": "stream",
     "text": [
      "corr: [0.6432], r2: [0.39404]\n",
      "Doing 543: ARHGAP27\n"
     ]
    },
    {
     "name": "stderr",
     "output_type": "stream",
     "text": [
      "Running elastic model with corum transcripts:   5%|▍         | 544/10921 [04:49<1:17:47,  2.22it/s]"
     ]
    },
    {
     "name": "stdout",
     "output_type": "stream",
     "text": [
      "corr: [0.51262], r2: [0.23145]\n",
      "Doing 544: ARHGAP29\n"
     ]
    },
    {
     "name": "stderr",
     "output_type": "stream",
     "text": [
      "Running elastic model with corum transcripts:   5%|▍         | 545/10921 [04:49<1:17:07,  2.24it/s]"
     ]
    },
    {
     "name": "stdout",
     "output_type": "stream",
     "text": [
      "corr: [0.53165], r2: [0.20726]\n",
      "Doing 545: ARHGAP30\n"
     ]
    },
    {
     "name": "stderr",
     "output_type": "stream",
     "text": [
      "Running elastic model with corum transcripts:   5%|▍         | 546/10921 [04:49<1:16:08,  2.27it/s]"
     ]
    },
    {
     "name": "stdout",
     "output_type": "stream",
     "text": [
      "corr: [0.48501], r2: [-0.05238]\n",
      "Doing 546: ARHGAP31\n"
     ]
    },
    {
     "name": "stderr",
     "output_type": "stream",
     "text": [
      "Running elastic model with corum transcripts:   5%|▌         | 547/10921 [04:50<1:15:34,  2.29it/s]"
     ]
    },
    {
     "name": "stdout",
     "output_type": "stream",
     "text": [
      "corr: [0.3688], r2: [0.07298]\n",
      "Doing 547: ARHGAP32\n"
     ]
    },
    {
     "name": "stderr",
     "output_type": "stream",
     "text": [
      "Running elastic model with corum transcripts:   5%|▌         | 548/10921 [04:50<1:20:50,  2.14it/s]"
     ]
    },
    {
     "name": "stdout",
     "output_type": "stream",
     "text": [
      "corr: [0.67765], r2: [0.38618]\n",
      "Doing 548: ARHGAP35\n"
     ]
    },
    {
     "name": "stderr",
     "output_type": "stream",
     "text": [
      "Running elastic model with corum transcripts:   5%|▌         | 549/10921 [04:51<1:19:24,  2.18it/s]"
     ]
    },
    {
     "name": "stdout",
     "output_type": "stream",
     "text": [
      "corr: [0.62558], r2: [0.36322]\n",
      "Doing 549: ARHGAP39\n"
     ]
    },
    {
     "name": "stderr",
     "output_type": "stream",
     "text": [
      "Running elastic model with corum transcripts:   5%|▌         | 550/10921 [04:51<1:18:24,  2.20it/s]"
     ]
    },
    {
     "name": "stdout",
     "output_type": "stream",
     "text": [
      "corr: [-0.09553], r2: [-0.20691]\n",
      "Doing 550: ARHGAP4\n"
     ]
    },
    {
     "name": "stderr",
     "output_type": "stream",
     "text": [
      "Running elastic model with corum transcripts:   5%|▌         | 551/10921 [04:52<1:17:12,  2.24it/s]"
     ]
    },
    {
     "name": "stdout",
     "output_type": "stream",
     "text": [
      "corr: [0.23225], r2: [-0.13005]\n",
      "Doing 551: ARHGAP42\n"
     ]
    },
    {
     "name": "stderr",
     "output_type": "stream",
     "text": [
      "Running elastic model with corum transcripts:   5%|▌         | 552/10921 [04:52<1:16:15,  2.27it/s]"
     ]
    },
    {
     "name": "stdout",
     "output_type": "stream",
     "text": [
      "corr: [-0.00968], r2: [-0.00854]\n",
      "Doing 552: ARHGAP44\n"
     ]
    },
    {
     "name": "stderr",
     "output_type": "stream",
     "text": [
      "/Applications/venv/CPTAC_Protein/lib/python3.9/site-packages/numpy/lib/function_base.py:2691: RuntimeWarning: invalid value encountered in true_divide\n",
      "  c /= stddev[:, None]\n",
      "/Applications/venv/CPTAC_Protein/lib/python3.9/site-packages/numpy/lib/function_base.py:2692: RuntimeWarning: invalid value encountered in true_divide\n",
      "  c /= stddev[None, :]\n",
      "Running elastic model with corum transcripts:   5%|▌         | 553/10921 [04:53<1:16:01,  2.27it/s]"
     ]
    },
    {
     "name": "stdout",
     "output_type": "stream",
     "text": [
      "corr: [0], r2: [-0.00016]\n",
      "Doing 553: ARHGAP5\n"
     ]
    },
    {
     "name": "stderr",
     "output_type": "stream",
     "text": [
      "Running elastic model with corum transcripts:   5%|▌         | 554/10921 [04:53<1:15:31,  2.29it/s]"
     ]
    },
    {
     "name": "stdout",
     "output_type": "stream",
     "text": [
      "corr: [0.61421], r2: [0.14626]\n",
      "Doing 554: ARHGAP6\n"
     ]
    },
    {
     "name": "stderr",
     "output_type": "stream",
     "text": [
      "Running elastic model with corum transcripts:   5%|▌         | 555/10921 [04:53<1:15:08,  2.30it/s]"
     ]
    },
    {
     "name": "stdout",
     "output_type": "stream",
     "text": [
      "corr: [0.32813], r2: [0.04678]\n",
      "Doing 555: ARHGAP9\n"
     ]
    },
    {
     "name": "stderr",
     "output_type": "stream",
     "text": [
      "Running elastic model with corum transcripts:   5%|▌         | 556/10921 [04:54<1:14:55,  2.31it/s]"
     ]
    },
    {
     "name": "stdout",
     "output_type": "stream",
     "text": [
      "corr: [0.51591], r2: [0.14115]\n",
      "Doing 556: ARHGDIA\n"
     ]
    },
    {
     "name": "stderr",
     "output_type": "stream",
     "text": [
      "Running elastic model with corum transcripts:   5%|▌         | 557/10921 [04:54<1:19:56,  2.16it/s]"
     ]
    },
    {
     "name": "stdout",
     "output_type": "stream",
     "text": [
      "corr: [0.182], r2: [0.00498]\n",
      "Doing 557: ARHGDIB\n"
     ]
    },
    {
     "name": "stderr",
     "output_type": "stream",
     "text": [
      "Running elastic model with corum transcripts:   5%|▌         | 558/10921 [04:55<1:19:32,  2.17it/s]"
     ]
    },
    {
     "name": "stdout",
     "output_type": "stream",
     "text": [
      "corr: [0.66294], r2: [0.20549]\n",
      "Doing 558: ARHGEF1\n"
     ]
    },
    {
     "name": "stderr",
     "output_type": "stream",
     "text": [
      "Running elastic model with corum transcripts:   5%|▌         | 559/10921 [04:55<1:22:28,  2.09it/s]"
     ]
    },
    {
     "name": "stdout",
     "output_type": "stream",
     "text": [
      "corr: [0.13226], r2: [-0.18077]\n",
      "Doing 559: ARHGEF10\n"
     ]
    },
    {
     "name": "stderr",
     "output_type": "stream",
     "text": [
      "Running elastic model with corum transcripts:   5%|▌         | 560/10921 [04:56<1:21:17,  2.12it/s]"
     ]
    },
    {
     "name": "stdout",
     "output_type": "stream",
     "text": [
      "corr: [0.53877], r2: [-0.04352]\n",
      "Doing 560: ARHGEF10L\n"
     ]
    },
    {
     "name": "stderr",
     "output_type": "stream",
     "text": [
      "Running elastic model with corum transcripts:   5%|▌         | 561/10921 [04:56<1:20:03,  2.16it/s]"
     ]
    },
    {
     "name": "stdout",
     "output_type": "stream",
     "text": [
      "corr: [0.33868], r2: [0.04518]\n",
      "Doing 561: ARHGEF11\n"
     ]
    },
    {
     "name": "stderr",
     "output_type": "stream",
     "text": [
      "Running elastic model with corum transcripts:   5%|▌         | 562/10921 [04:57<1:19:00,  2.19it/s]"
     ]
    },
    {
     "name": "stdout",
     "output_type": "stream",
     "text": [
      "corr: [0.44969], r2: [-0.03421]\n",
      "Doing 562: ARHGEF12\n"
     ]
    },
    {
     "name": "stderr",
     "output_type": "stream",
     "text": [
      "Running elastic model with corum transcripts:   5%|▌         | 563/10921 [04:57<1:17:37,  2.22it/s]"
     ]
    },
    {
     "name": "stdout",
     "output_type": "stream",
     "text": [
      "corr: [0.54128], r2: [0.18061]\n",
      "Doing 563: ARHGEF16\n"
     ]
    },
    {
     "name": "stderr",
     "output_type": "stream",
     "text": [
      "Running elastic model with corum transcripts:   5%|▌         | 564/10921 [04:58<1:18:09,  2.21it/s]"
     ]
    },
    {
     "name": "stdout",
     "output_type": "stream",
     "text": [
      "corr: [0.50391], r2: [0.23539]\n",
      "Doing 564: ARHGEF17\n"
     ]
    },
    {
     "name": "stderr",
     "output_type": "stream",
     "text": [
      "Running elastic model with corum transcripts:   5%|▌         | 565/10921 [04:58<1:22:14,  2.10it/s]"
     ]
    },
    {
     "name": "stdout",
     "output_type": "stream",
     "text": [
      "corr: [0.22209], r2: [-0.21187]\n",
      "Doing 565: ARHGEF18\n"
     ]
    },
    {
     "name": "stderr",
     "output_type": "stream",
     "text": [
      "Running elastic model with corum transcripts:   5%|▌         | 566/10921 [04:59<1:21:21,  2.12it/s]"
     ]
    },
    {
     "name": "stdout",
     "output_type": "stream",
     "text": [
      "corr: [0.63231], r2: [0.29597]\n",
      "Doing 566: ARHGEF2\n"
     ]
    },
    {
     "name": "stderr",
     "output_type": "stream",
     "text": [
      "Running elastic model with corum transcripts:   5%|▌         | 567/10921 [04:59<1:22:20,  2.10it/s]"
     ]
    },
    {
     "name": "stdout",
     "output_type": "stream",
     "text": [
      "corr: [0.74838], r2: [0.53061]\n",
      "Doing 567: ARHGEF25\n"
     ]
    },
    {
     "name": "stderr",
     "output_type": "stream",
     "text": [
      "Running elastic model with corum transcripts:   5%|▌         | 568/10921 [05:00<1:21:26,  2.12it/s]"
     ]
    },
    {
     "name": "stdout",
     "output_type": "stream",
     "text": [
      "corr: [-0.13168], r2: [-0.36497]\n",
      "Doing 568: ARHGEF28\n"
     ]
    },
    {
     "name": "stderr",
     "output_type": "stream",
     "text": [
      "Running elastic model with corum transcripts:   5%|▌         | 569/10921 [05:00<1:19:10,  2.18it/s]"
     ]
    },
    {
     "name": "stdout",
     "output_type": "stream",
     "text": [
      "corr: [0.39724], r2: [0.14498]\n",
      "Doing 569: ARHGEF3\n"
     ]
    },
    {
     "name": "stderr",
     "output_type": "stream",
     "text": [
      "Running elastic model with corum transcripts:   5%|▌         | 570/10921 [05:00<1:17:35,  2.22it/s]"
     ]
    },
    {
     "name": "stdout",
     "output_type": "stream",
     "text": [
      "corr: [0.55287], r2: [0.13549]\n",
      "Doing 570: ARHGEF35\n"
     ]
    },
    {
     "name": "stderr",
     "output_type": "stream",
     "text": [
      "Running elastic model with corum transcripts:   5%|▌         | 571/10921 [05:01<1:16:47,  2.25it/s]"
     ]
    },
    {
     "name": "stdout",
     "output_type": "stream",
     "text": [
      "corr: [0.37869], r2: [0.1084]\n",
      "Doing 571: ARHGEF37\n"
     ]
    },
    {
     "name": "stderr",
     "output_type": "stream",
     "text": [
      "Running elastic model with corum transcripts:   5%|▌         | 572/10921 [05:01<1:16:27,  2.26it/s]"
     ]
    },
    {
     "name": "stdout",
     "output_type": "stream",
     "text": [
      "corr: [0.65896], r2: [0.37913]\n",
      "Doing 572: ARHGEF40\n"
     ]
    },
    {
     "name": "stderr",
     "output_type": "stream",
     "text": [
      "Running elastic model with corum transcripts:   5%|▌         | 573/10921 [05:02<1:20:43,  2.14it/s]"
     ]
    },
    {
     "name": "stdout",
     "output_type": "stream",
     "text": [
      "corr: [0.51813], r2: [0.01379]\n",
      "Doing 573: ARHGEF5\n"
     ]
    },
    {
     "name": "stderr",
     "output_type": "stream",
     "text": [
      "Running elastic model with corum transcripts:   5%|▌         | 574/10921 [05:02<1:18:19,  2.20it/s]"
     ]
    },
    {
     "name": "stdout",
     "output_type": "stream",
     "text": [
      "corr: [0.46581], r2: [0.20251]\n",
      "Doing 574: ARHGEF6\n"
     ]
    },
    {
     "name": "stderr",
     "output_type": "stream",
     "text": [
      "Running elastic model with corum transcripts:   5%|▌         | 575/10921 [05:03<1:18:24,  2.20it/s]"
     ]
    },
    {
     "name": "stdout",
     "output_type": "stream",
     "text": [
      "corr: [0.52161], r2: [0.04392]\n",
      "Doing 575: ARHGEF7\n"
     ]
    },
    {
     "name": "stderr",
     "output_type": "stream",
     "text": [
      "Running elastic model with corum transcripts:   5%|▌         | 576/10921 [05:03<1:19:33,  2.17it/s]"
     ]
    },
    {
     "name": "stdout",
     "output_type": "stream",
     "text": [
      "corr: [0.43562], r2: [0.13877]\n",
      "Doing 576: ARID1A\n"
     ]
    },
    {
     "name": "stderr",
     "output_type": "stream",
     "text": [
      "Running elastic model with corum transcripts:   5%|▌         | 577/10921 [05:04<1:24:17,  2.05it/s]"
     ]
    },
    {
     "name": "stdout",
     "output_type": "stream",
     "text": [
      "corr: [0.59169], r2: [0.26807]\n",
      "Doing 577: ARID1B\n"
     ]
    },
    {
     "name": "stderr",
     "output_type": "stream",
     "text": [
      "Running elastic model with corum transcripts:   5%|▌         | 578/10921 [05:04<1:24:31,  2.04it/s]"
     ]
    },
    {
     "name": "stdout",
     "output_type": "stream",
     "text": [
      "corr: [0.3321], r2: [-0.0586]\n",
      "Doing 578: ARID2\n"
     ]
    },
    {
     "name": "stderr",
     "output_type": "stream",
     "text": [
      "Running elastic model with corum transcripts:   5%|▌         | 579/10921 [05:05<1:24:03,  2.05it/s]"
     ]
    },
    {
     "name": "stdout",
     "output_type": "stream",
     "text": [
      "corr: [0.45654], r2: [0.20117]\n",
      "Doing 579: ARID3A\n"
     ]
    },
    {
     "name": "stderr",
     "output_type": "stream",
     "text": [
      "Running elastic model with corum transcripts:   5%|▌         | 580/10921 [05:05<1:26:52,  1.98it/s]"
     ]
    },
    {
     "name": "stdout",
     "output_type": "stream",
     "text": [
      "corr: [0.49396], r2: [0.20169]\n",
      "Doing 580: ARID4A\n"
     ]
    },
    {
     "name": "stderr",
     "output_type": "stream",
     "text": [
      "Running elastic model with corum transcripts:   5%|▌         | 581/10921 [05:06<1:26:22,  2.00it/s]"
     ]
    },
    {
     "name": "stdout",
     "output_type": "stream",
     "text": [
      "corr: [0.53645], r2: [0.02112]\n",
      "Doing 581: ARID4B\n"
     ]
    },
    {
     "name": "stderr",
     "output_type": "stream",
     "text": [
      "Running elastic model with corum transcripts:   5%|▌         | 582/10921 [05:06<1:26:49,  1.98it/s]"
     ]
    },
    {
     "name": "stdout",
     "output_type": "stream",
     "text": [
      "corr: [0.41418], r2: [0.14519]\n",
      "Doing 582: ARID5B\n"
     ]
    },
    {
     "name": "stderr",
     "output_type": "stream",
     "text": [
      "Running elastic model with corum transcripts:   5%|▌         | 583/10921 [05:07<1:22:49,  2.08it/s]"
     ]
    },
    {
     "name": "stdout",
     "output_type": "stream",
     "text": [
      "corr: [0.23896], r2: [-0.1245]\n",
      "Doing 583: ARIH1\n"
     ]
    },
    {
     "name": "stderr",
     "output_type": "stream",
     "text": [
      "Running elastic model with corum transcripts:   5%|▌         | 584/10921 [05:07<1:20:20,  2.14it/s]"
     ]
    },
    {
     "name": "stdout",
     "output_type": "stream",
     "text": [
      "corr: [0.34773], r2: [-0.01181]\n",
      "Doing 584: ARIH2\n"
     ]
    },
    {
     "name": "stderr",
     "output_type": "stream",
     "text": [
      "Running elastic model with corum transcripts:   5%|▌         | 585/10921 [05:07<1:18:21,  2.20it/s]"
     ]
    },
    {
     "name": "stdout",
     "output_type": "stream",
     "text": [
      "corr: [-0.02653], r2: [-0.11741]\n",
      "Doing 585: ARL1\n"
     ]
    },
    {
     "name": "stderr",
     "output_type": "stream",
     "text": [
      "Running elastic model with corum transcripts:   5%|▌         | 586/10921 [05:08<1:18:53,  2.18it/s]"
     ]
    },
    {
     "name": "stdout",
     "output_type": "stream",
     "text": [
      "corr: [0.21182], r2: [0.04233]\n",
      "Doing 586: ARL14EP\n"
     ]
    },
    {
     "name": "stderr",
     "output_type": "stream",
     "text": [
      "Running elastic model with corum transcripts:   5%|▌         | 587/10921 [05:08<1:18:00,  2.21it/s]"
     ]
    },
    {
     "name": "stdout",
     "output_type": "stream",
     "text": [
      "corr: [0.09997], r2: [-0.05821]\n",
      "Doing 587: ARL15\n"
     ]
    },
    {
     "name": "stderr",
     "output_type": "stream",
     "text": [
      "Running elastic model with corum transcripts:   5%|▌         | 588/10921 [05:09<1:21:31,  2.11it/s]"
     ]
    },
    {
     "name": "stdout",
     "output_type": "stream",
     "text": [
      "corr: [0.43297], r2: [0.14274]\n",
      "Doing 588: ARL2\n"
     ]
    },
    {
     "name": "stderr",
     "output_type": "stream",
     "text": [
      "Running elastic model with corum transcripts:   5%|▌         | 589/10921 [05:09<1:21:33,  2.11it/s]"
     ]
    },
    {
     "name": "stdout",
     "output_type": "stream",
     "text": [
      "corr: [0.52952], r2: [0.09249]\n",
      "Doing 589: ARL2BP\n"
     ]
    },
    {
     "name": "stderr",
     "output_type": "stream",
     "text": [
      "Running elastic model with corum transcripts:   5%|▌         | 590/10921 [05:10<1:19:19,  2.17it/s]"
     ]
    },
    {
     "name": "stdout",
     "output_type": "stream",
     "text": [
      "corr: [0.45178], r2: [0.16443]\n",
      "Doing 590: ARL3\n"
     ]
    },
    {
     "name": "stderr",
     "output_type": "stream",
     "text": [
      "Running elastic model with corum transcripts:   5%|▌         | 591/10921 [05:10<1:17:35,  2.22it/s]"
     ]
    },
    {
     "name": "stdout",
     "output_type": "stream",
     "text": [
      "corr: [0.5196], r2: [0.17887]\n",
      "Doing 591: ARL4C\n"
     ]
    },
    {
     "name": "stderr",
     "output_type": "stream",
     "text": [
      "Running elastic model with corum transcripts:   5%|▌         | 592/10921 [05:11<1:16:48,  2.24it/s]"
     ]
    },
    {
     "name": "stdout",
     "output_type": "stream",
     "text": [
      "corr: [0.62163], r2: [0.37963]\n",
      "Doing 592: ARL5A\n"
     ]
    },
    {
     "name": "stderr",
     "output_type": "stream",
     "text": [
      "Running elastic model with corum transcripts:   5%|▌         | 593/10921 [05:11<1:17:42,  2.22it/s]"
     ]
    },
    {
     "name": "stdout",
     "output_type": "stream",
     "text": [
      "corr: [-0.17268], r2: [-0.00572]\n",
      "Doing 593: ARL5B\n"
     ]
    },
    {
     "name": "stderr",
     "output_type": "stream",
     "text": [
      "Running elastic model with corum transcripts:   5%|▌         | 594/10921 [05:12<1:16:36,  2.25it/s]"
     ]
    },
    {
     "name": "stdout",
     "output_type": "stream",
     "text": [
      "corr: [-0.04654], r2: [-0.28362]\n",
      "Doing 594: ARL6\n"
     ]
    },
    {
     "name": "stderr",
     "output_type": "stream",
     "text": [
      "Running elastic model with corum transcripts:   5%|▌         | 595/10921 [05:12<1:21:09,  2.12it/s]"
     ]
    },
    {
     "name": "stdout",
     "output_type": "stream",
     "text": [
      "corr: [0.29584], r2: [0.01866]\n",
      "Doing 595: ARL6IP1\n"
     ]
    },
    {
     "name": "stderr",
     "output_type": "stream",
     "text": [
      "/Applications/venv/CPTAC_Protein/lib/python3.9/site-packages/numpy/lib/function_base.py:2691: RuntimeWarning: invalid value encountered in true_divide\n",
      "  c /= stddev[:, None]\n",
      "/Applications/venv/CPTAC_Protein/lib/python3.9/site-packages/numpy/lib/function_base.py:2692: RuntimeWarning: invalid value encountered in true_divide\n",
      "  c /= stddev[None, :]\n",
      "Running elastic model with corum transcripts:   5%|▌         | 596/10921 [05:13<1:19:16,  2.17it/s]"
     ]
    },
    {
     "name": "stdout",
     "output_type": "stream",
     "text": [
      "corr: [0], r2: [-0.00664]\n",
      "Doing 596: ARL6IP4\n"
     ]
    },
    {
     "name": "stderr",
     "output_type": "stream",
     "text": [
      "Running elastic model with corum transcripts:   5%|▌         | 597/10921 [05:13<1:18:34,  2.19it/s]"
     ]
    },
    {
     "name": "stdout",
     "output_type": "stream",
     "text": [
      "corr: [0.42804], r2: [0.05925]\n",
      "Doing 597: ARL6IP5\n"
     ]
    },
    {
     "name": "stderr",
     "output_type": "stream",
     "text": [
      "Running elastic model with corum transcripts:   5%|▌         | 598/10921 [05:13<1:17:36,  2.22it/s]"
     ]
    },
    {
     "name": "stdout",
     "output_type": "stream",
     "text": [
      "corr: [-0.01385], r2: [-0.06784]\n",
      "Doing 598: ARL6IP6\n"
     ]
    },
    {
     "name": "stderr",
     "output_type": "stream",
     "text": [
      "/Applications/venv/CPTAC_Protein/lib/python3.9/site-packages/numpy/lib/function_base.py:2691: RuntimeWarning: invalid value encountered in true_divide\n",
      "  c /= stddev[:, None]\n",
      "/Applications/venv/CPTAC_Protein/lib/python3.9/site-packages/numpy/lib/function_base.py:2692: RuntimeWarning: invalid value encountered in true_divide\n",
      "  c /= stddev[None, :]\n",
      "Running elastic model with corum transcripts:   5%|▌         | 599/10921 [05:14<1:16:50,  2.24it/s]"
     ]
    },
    {
     "name": "stdout",
     "output_type": "stream",
     "text": [
      "corr: [0], r2: [-0.02066]\n",
      "Doing 599: ARL8A\n"
     ]
    },
    {
     "name": "stderr",
     "output_type": "stream",
     "text": [
      "Running elastic model with corum transcripts:   5%|▌         | 600/10921 [05:14<1:16:00,  2.26it/s]"
     ]
    },
    {
     "name": "stdout",
     "output_type": "stream",
     "text": [
      "corr: [0.09977], r2: [0.00332]\n",
      "Doing 600: ARL8B\n"
     ]
    },
    {
     "name": "stderr",
     "output_type": "stream",
     "text": [
      "Running elastic model with corum transcripts:   6%|▌         | 601/10921 [05:15<1:15:24,  2.28it/s]"
     ]
    },
    {
     "name": "stdout",
     "output_type": "stream",
     "text": [
      "corr: [-0.0331], r2: [-0.05025]\n",
      "Doing 601: ARMC1\n"
     ]
    },
    {
     "name": "stderr",
     "output_type": "stream",
     "text": [
      "Running elastic model with corum transcripts:   6%|▌         | 602/10921 [05:15<1:14:41,  2.30it/s]"
     ]
    },
    {
     "name": "stdout",
     "output_type": "stream",
     "text": [
      "corr: [0.27287], r2: [0.05914]\n",
      "Doing 602: ARMC10\n"
     ]
    },
    {
     "name": "stderr",
     "output_type": "stream",
     "text": [
      "Running elastic model with corum transcripts:   6%|▌         | 603/10921 [05:16<1:18:51,  2.18it/s]"
     ]
    },
    {
     "name": "stdout",
     "output_type": "stream",
     "text": [
      "corr: [0.37623], r2: [0.0298]\n",
      "Doing 603: ARMC4\n"
     ]
    },
    {
     "name": "stderr",
     "output_type": "stream",
     "text": [
      "Running elastic model with corum transcripts:   6%|▌         | 604/10921 [05:16<1:17:10,  2.23it/s]"
     ]
    },
    {
     "name": "stdout",
     "output_type": "stream",
     "text": [
      "corr: [-0.42607], r2: [-0.40291]\n",
      "Doing 604: ARMC5\n"
     ]
    },
    {
     "name": "stderr",
     "output_type": "stream",
     "text": [
      "Running elastic model with corum transcripts:   6%|▌         | 605/10921 [05:17<1:16:00,  2.26it/s]"
     ]
    },
    {
     "name": "stdout",
     "output_type": "stream",
     "text": [
      "corr: [0.11518], r2: [-0.03696]\n",
      "Doing 605: ARMC6\n"
     ]
    },
    {
     "name": "stderr",
     "output_type": "stream",
     "text": [
      "Running elastic model with corum transcripts:   6%|▌         | 606/10921 [05:17<1:15:12,  2.29it/s]"
     ]
    },
    {
     "name": "stdout",
     "output_type": "stream",
     "text": [
      "corr: [0.16989], r2: [-0.00252]\n",
      "Doing 606: ARMC7\n"
     ]
    },
    {
     "name": "stderr",
     "output_type": "stream",
     "text": [
      "Running elastic model with corum transcripts:   6%|▌         | 607/10921 [05:17<1:14:30,  2.31it/s]"
     ]
    },
    {
     "name": "stdout",
     "output_type": "stream",
     "text": [
      "corr: [-0.1997], r2: [-3.2289]\n",
      "Doing 607: ARMC8\n"
     ]
    },
    {
     "name": "stderr",
     "output_type": "stream",
     "text": [
      "Running elastic model with corum transcripts:   6%|▌         | 608/10921 [05:18<1:15:45,  2.27it/s]"
     ]
    },
    {
     "name": "stdout",
     "output_type": "stream",
     "text": [
      "corr: [0.38362], r2: [-0.10418]\n",
      "Doing 608: ARMC9\n"
     ]
    },
    {
     "name": "stderr",
     "output_type": "stream",
     "text": [
      "Running elastic model with corum transcripts:   6%|▌         | 609/10921 [05:18<1:14:44,  2.30it/s]"
     ]
    },
    {
     "name": "stdout",
     "output_type": "stream",
     "text": [
      "corr: [0.31283], r2: [0.035]\n",
      "Doing 609: ARMCX1\n"
     ]
    },
    {
     "name": "stderr",
     "output_type": "stream",
     "text": [
      "Running elastic model with corum transcripts:   6%|▌         | 610/10921 [05:19<1:18:52,  2.18it/s]"
     ]
    },
    {
     "name": "stdout",
     "output_type": "stream",
     "text": [
      "corr: [0.52157], r2: [0.25964]\n",
      "Doing 610: ARMCX2\n"
     ]
    },
    {
     "name": "stderr",
     "output_type": "stream",
     "text": [
      "Running elastic model with corum transcripts:   6%|▌         | 611/10921 [05:19<1:17:08,  2.23it/s]"
     ]
    },
    {
     "name": "stdout",
     "output_type": "stream",
     "text": [
      "corr: [0.66188], r2: [0.40238]\n",
      "Doing 611: ARMCX3\n"
     ]
    },
    {
     "name": "stderr",
     "output_type": "stream",
     "text": [
      "Running elastic model with corum transcripts:   6%|▌         | 612/10921 [05:20<1:16:20,  2.25it/s]"
     ]
    },
    {
     "name": "stdout",
     "output_type": "stream",
     "text": [
      "corr: [0.41843], r2: [0.09745]\n",
      "Doing 612: ARNT\n"
     ]
    },
    {
     "name": "stderr",
     "output_type": "stream",
     "text": [
      "Running elastic model with corum transcripts:   6%|▌         | 613/10921 [05:20<1:17:33,  2.22it/s]"
     ]
    },
    {
     "name": "stdout",
     "output_type": "stream",
     "text": [
      "corr: [0.08509], r2: [-0.09794]\n",
      "Doing 613: ARNT2\n"
     ]
    },
    {
     "name": "stderr",
     "output_type": "stream",
     "text": [
      "Running elastic model with corum transcripts:   6%|▌         | 614/10921 [05:21<1:16:12,  2.25it/s]"
     ]
    },
    {
     "name": "stdout",
     "output_type": "stream",
     "text": [
      "corr: [0.53929], r2: [0.24842]\n",
      "Doing 614: ARPC1A\n"
     ]
    },
    {
     "name": "stderr",
     "output_type": "stream",
     "text": [
      "Running elastic model with corum transcripts:   6%|▌         | 615/10921 [05:21<1:15:01,  2.29it/s]"
     ]
    },
    {
     "name": "stdout",
     "output_type": "stream",
     "text": [
      "corr: [-0.21572], r2: [-0.24511]\n",
      "Doing 615: ARPC1B\n"
     ]
    },
    {
     "name": "stderr",
     "output_type": "stream",
     "text": [
      "Running elastic model with corum transcripts:   6%|▌         | 616/10921 [05:21<1:16:57,  2.23it/s]"
     ]
    },
    {
     "name": "stdout",
     "output_type": "stream",
     "text": [
      "corr: [0.46673], r2: [0.07739]\n",
      "Doing 616: ARPC2\n"
     ]
    },
    {
     "name": "stderr",
     "output_type": "stream",
     "text": [
      "Running elastic model with corum transcripts:   6%|▌         | 617/10921 [05:22<1:24:13,  2.04it/s]"
     ]
    },
    {
     "name": "stdout",
     "output_type": "stream",
     "text": [
      "corr: [0.26276], r2: [-0.07338]\n",
      "Doing 617: ARPC3\n"
     ]
    },
    {
     "name": "stderr",
     "output_type": "stream",
     "text": [
      "Running elastic model with corum transcripts:   6%|▌         | 618/10921 [05:22<1:23:34,  2.05it/s]"
     ]
    },
    {
     "name": "stdout",
     "output_type": "stream",
     "text": [
      "corr: [0.18407], r2: [-0.30135]\n",
      "Doing 618: ARPC4\n"
     ]
    },
    {
     "name": "stderr",
     "output_type": "stream",
     "text": [
      "Running elastic model with corum transcripts:   6%|▌         | 619/10921 [05:23<1:23:03,  2.07it/s]"
     ]
    },
    {
     "name": "stdout",
     "output_type": "stream",
     "text": [
      "corr: [0.31756], r2: [-0.50346]\n",
      "Doing 619: ARPC5\n"
     ]
    },
    {
     "name": "stderr",
     "output_type": "stream",
     "text": [
      "Running elastic model with corum transcripts:   6%|▌         | 620/10921 [05:23<1:23:23,  2.06it/s]"
     ]
    },
    {
     "name": "stdout",
     "output_type": "stream",
     "text": [
      "corr: [0.47325], r2: [-0.0122]\n",
      "Doing 620: ARPC5L\n"
     ]
    },
    {
     "name": "stderr",
     "output_type": "stream",
     "text": [
      "Running elastic model with corum transcripts:   6%|▌         | 621/10921 [05:24<1:20:31,  2.13it/s]"
     ]
    },
    {
     "name": "stdout",
     "output_type": "stream",
     "text": [
      "corr: [0.23856], r2: [-0.16317]\n",
      "Doing 621: ARPP19\n"
     ]
    },
    {
     "name": "stderr",
     "output_type": "stream",
     "text": [
      "Running elastic model with corum transcripts:   6%|▌         | 622/10921 [05:24<1:18:49,  2.18it/s]"
     ]
    },
    {
     "name": "stdout",
     "output_type": "stream",
     "text": [
      "corr: [0.47761], r2: [0.19918]\n",
      "Doing 622: ARR3\n"
     ]
    },
    {
     "name": "stderr",
     "output_type": "stream",
     "text": [
      "/Applications/venv/CPTAC_Protein/lib/python3.9/site-packages/numpy/lib/function_base.py:2691: RuntimeWarning: invalid value encountered in true_divide\n",
      "  c /= stddev[:, None]\n",
      "/Applications/venv/CPTAC_Protein/lib/python3.9/site-packages/numpy/lib/function_base.py:2692: RuntimeWarning: invalid value encountered in true_divide\n",
      "  c /= stddev[None, :]\n",
      "Running elastic model with corum transcripts:   6%|▌         | 623/10921 [05:25<1:17:39,  2.21it/s]"
     ]
    },
    {
     "name": "stdout",
     "output_type": "stream",
     "text": [
      "corr: [0], r2: [-1.e-05]\n",
      "Doing 623: ARRB1\n"
     ]
    },
    {
     "name": "stderr",
     "output_type": "stream",
     "text": [
      "Running elastic model with corum transcripts:   6%|▌         | 624/10921 [05:25<1:18:06,  2.20it/s]"
     ]
    },
    {
     "name": "stdout",
     "output_type": "stream",
     "text": [
      "corr: [0.52736], r2: [0.25657]\n",
      "Doing 624: ARRB2\n"
     ]
    },
    {
     "name": "stderr",
     "output_type": "stream",
     "text": [
      "Running elastic model with corum transcripts:   6%|▌         | 625/10921 [05:26<1:22:52,  2.07it/s]"
     ]
    },
    {
     "name": "stdout",
     "output_type": "stream",
     "text": [
      "corr: [0.47954], r2: [0.18738]\n",
      "Doing 625: ARRDC1\n"
     ]
    },
    {
     "name": "stderr",
     "output_type": "stream",
     "text": [
      "Running elastic model with corum transcripts:   6%|▌         | 626/10921 [05:26<1:20:22,  2.13it/s]"
     ]
    },
    {
     "name": "stdout",
     "output_type": "stream",
     "text": [
      "corr: [0.21646], r2: [0.02498]\n",
      "Doing 626: ARSA\n"
     ]
    },
    {
     "name": "stderr",
     "output_type": "stream",
     "text": [
      "Running elastic model with corum transcripts:   6%|▌         | 627/10921 [05:27<1:18:27,  2.19it/s]"
     ]
    },
    {
     "name": "stdout",
     "output_type": "stream",
     "text": [
      "corr: [0.50572], r2: [0.18723]\n",
      "Doing 627: ARSB\n"
     ]
    },
    {
     "name": "stderr",
     "output_type": "stream",
     "text": [
      "Running elastic model with corum transcripts:   6%|▌         | 628/10921 [05:27<1:16:59,  2.23it/s]"
     ]
    },
    {
     "name": "stdout",
     "output_type": "stream",
     "text": [
      "corr: [0.42669], r2: [0.13721]\n",
      "Doing 628: ARSD\n"
     ]
    },
    {
     "name": "stderr",
     "output_type": "stream",
     "text": [
      "Running elastic model with corum transcripts:   6%|▌         | 629/10921 [05:27<1:15:38,  2.27it/s]"
     ]
    },
    {
     "name": "stdout",
     "output_type": "stream",
     "text": [
      "corr: [0.49144], r2: [0.23131]\n",
      "Doing 629: ARSE\n"
     ]
    },
    {
     "name": "stderr",
     "output_type": "stream",
     "text": [
      "Running elastic model with corum transcripts:   6%|▌         | 630/10921 [05:28<1:14:55,  2.29it/s]"
     ]
    },
    {
     "name": "stdout",
     "output_type": "stream",
     "text": [
      "corr: [0.17046], r2: [-0.10936]\n",
      "Doing 630: ART4\n"
     ]
    },
    {
     "name": "stderr",
     "output_type": "stream",
     "text": [
      "Running elastic model with corum transcripts:   6%|▌         | 631/10921 [05:28<1:13:49,  2.32it/s]"
     ]
    },
    {
     "name": "stdout",
     "output_type": "stream",
     "text": [
      "corr: [0.79825], r2: [-0.00821]\n",
      "Doing 631: ARV1\n"
     ]
    },
    {
     "name": "stderr",
     "output_type": "stream",
     "text": [
      "Running elastic model with corum transcripts:   6%|▌         | 632/10921 [05:29<1:13:43,  2.33it/s]"
     ]
    },
    {
     "name": "stdout",
     "output_type": "stream",
     "text": [
      "corr: [0.57367], r2: [0.11622]\n",
      "Doing 632: ARVCF\n"
     ]
    },
    {
     "name": "stderr",
     "output_type": "stream",
     "text": [
      "Running elastic model with corum transcripts:   6%|▌         | 633/10921 [05:29<1:19:28,  2.16it/s]"
     ]
    },
    {
     "name": "stdout",
     "output_type": "stream",
     "text": [
      "corr: [0.31599], r2: [0.08435]\n",
      "Doing 633: AS3MT\n"
     ]
    },
    {
     "name": "stderr",
     "output_type": "stream",
     "text": [
      "Running elastic model with corum transcripts:   6%|▌         | 634/10921 [05:30<1:18:13,  2.19it/s]"
     ]
    },
    {
     "name": "stdout",
     "output_type": "stream",
     "text": [
      "corr: [0.74487], r2: [0.54154]\n",
      "Doing 634: ASAH1\n"
     ]
    },
    {
     "name": "stderr",
     "output_type": "stream",
     "text": [
      "Running elastic model with corum transcripts:   6%|▌         | 635/10921 [05:30<1:17:39,  2.21it/s]"
     ]
    },
    {
     "name": "stdout",
     "output_type": "stream",
     "text": [
      "corr: [0.64245], r2: [0.27144]\n",
      "Doing 635: ASAP1\n"
     ]
    },
    {
     "name": "stderr",
     "output_type": "stream",
     "text": [
      "Running elastic model with corum transcripts:   6%|▌         | 636/10921 [05:31<1:19:15,  2.16it/s]"
     ]
    },
    {
     "name": "stdout",
     "output_type": "stream",
     "text": [
      "corr: [0.59538], r2: [0.31929]\n",
      "Doing 636: ASAP2\n"
     ]
    },
    {
     "name": "stderr",
     "output_type": "stream",
     "text": [
      "Running elastic model with corum transcripts:   6%|▌         | 637/10921 [05:31<1:18:35,  2.18it/s]"
     ]
    },
    {
     "name": "stdout",
     "output_type": "stream",
     "text": [
      "corr: [0.50356], r2: [0.22041]\n",
      "Doing 637: ASAP3\n"
     ]
    },
    {
     "name": "stderr",
     "output_type": "stream",
     "text": [
      "Running elastic model with corum transcripts:   6%|▌         | 638/10921 [05:32<1:17:51,  2.20it/s]"
     ]
    },
    {
     "name": "stdout",
     "output_type": "stream",
     "text": [
      "corr: [0.04754], r2: [-0.40845]\n",
      "Doing 638: ASB9\n"
     ]
    },
    {
     "name": "stderr",
     "output_type": "stream",
     "text": [
      "Running elastic model with corum transcripts:   6%|▌         | 639/10921 [05:32<1:18:08,  2.19it/s]"
     ]
    },
    {
     "name": "stdout",
     "output_type": "stream",
     "text": [
      "corr: [0.04618], r2: [-0.24574]\n",
      "Doing 639: ASCC1\n"
     ]
    },
    {
     "name": "stderr",
     "output_type": "stream",
     "text": [
      "Running elastic model with corum transcripts:   6%|▌         | 640/10921 [05:32<1:18:23,  2.19it/s]"
     ]
    },
    {
     "name": "stdout",
     "output_type": "stream",
     "text": [
      "corr: [0.554], r2: [0.25635]\n",
      "Doing 640: ASCC2\n"
     ]
    },
    {
     "name": "stderr",
     "output_type": "stream",
     "text": [
      "Running elastic model with corum transcripts:   6%|▌         | 641/10921 [05:33<1:19:01,  2.17it/s]"
     ]
    },
    {
     "name": "stdout",
     "output_type": "stream",
     "text": [
      "corr: [0.45214], r2: [0.16815]\n",
      "Doing 641: ASCC3\n"
     ]
    },
    {
     "name": "stderr",
     "output_type": "stream",
     "text": [
      "Running elastic model with corum transcripts:   6%|▌         | 642/10921 [05:34<1:24:41,  2.02it/s]"
     ]
    },
    {
     "name": "stdout",
     "output_type": "stream",
     "text": [
      "corr: [0.48986], r2: [0.23677]\n",
      "Doing 642: ASF1A\n"
     ]
    },
    {
     "name": "stderr",
     "output_type": "stream",
     "text": [
      "Running elastic model with corum transcripts:   6%|▌         | 643/10921 [05:34<1:25:15,  2.01it/s]"
     ]
    },
    {
     "name": "stdout",
     "output_type": "stream",
     "text": [
      "corr: [0.47732], r2: [0.16568]\n",
      "Doing 643: ASF1B\n"
     ]
    },
    {
     "name": "stderr",
     "output_type": "stream",
     "text": [
      "Running elastic model with corum transcripts:   6%|▌         | 644/10921 [05:35<1:25:48,  2.00it/s]"
     ]
    },
    {
     "name": "stdout",
     "output_type": "stream",
     "text": [
      "corr: [0.64688], r2: [0.31752]\n",
      "Doing 644: ASH2L\n"
     ]
    },
    {
     "name": "stderr",
     "output_type": "stream",
     "text": [
      "Running elastic model with corum transcripts:   6%|▌         | 645/10921 [05:35<1:39:23,  1.72it/s]"
     ]
    },
    {
     "name": "stdout",
     "output_type": "stream",
     "text": [
      "corr: [0.67065], r2: [0.41918]\n",
      "Doing 645: ASL\n"
     ]
    },
    {
     "name": "stderr",
     "output_type": "stream",
     "text": [
      "Running elastic model with corum transcripts:   6%|▌         | 646/10921 [05:36<1:33:19,  1.83it/s]"
     ]
    },
    {
     "name": "stdout",
     "output_type": "stream",
     "text": [
      "corr: [0.68506], r2: [0.23346]\n",
      "Doing 646: ASMTL\n"
     ]
    },
    {
     "name": "stderr",
     "output_type": "stream",
     "text": [
      "Running elastic model with corum transcripts:   6%|▌         | 647/10921 [05:36<1:27:18,  1.96it/s]"
     ]
    },
    {
     "name": "stdout",
     "output_type": "stream",
     "text": [
      "corr: [0.54333], r2: [0.23752]\n",
      "Doing 647: ASNA1\n"
     ]
    },
    {
     "name": "stderr",
     "output_type": "stream",
     "text": [
      "Running elastic model with corum transcripts:   6%|▌         | 648/10921 [05:37<1:24:46,  2.02it/s]"
     ]
    },
    {
     "name": "stdout",
     "output_type": "stream",
     "text": [
      "corr: [0.48951], r2: [0.18429]\n",
      "Doing 648: ASNS\n"
     ]
    },
    {
     "name": "stderr",
     "output_type": "stream",
     "text": [
      "Running elastic model with corum transcripts:   6%|▌         | 649/10921 [05:37<1:22:36,  2.07it/s]"
     ]
    },
    {
     "name": "stdout",
     "output_type": "stream",
     "text": [
      "corr: [0.54721], r2: [0.11429]\n",
      "Doing 649: ASNSD1\n"
     ]
    },
    {
     "name": "stderr",
     "output_type": "stream",
     "text": [
      "Running elastic model with corum transcripts:   6%|▌         | 650/10921 [05:38<1:26:19,  1.98it/s]"
     ]
    },
    {
     "name": "stdout",
     "output_type": "stream",
     "text": [
      "corr: [0.50306], r2: [0.08797]\n",
      "Doing 650: ASPA\n"
     ]
    },
    {
     "name": "stderr",
     "output_type": "stream",
     "text": [
      "Running elastic model with corum transcripts:   6%|▌         | 651/10921 [05:38<1:23:24,  2.05it/s]"
     ]
    },
    {
     "name": "stdout",
     "output_type": "stream",
     "text": [
      "corr: [0.44331], r2: [0.15535]\n",
      "Doing 651: ASPH\n"
     ]
    },
    {
     "name": "stderr",
     "output_type": "stream",
     "text": [
      "Running elastic model with corum transcripts:   6%|▌         | 652/10921 [05:39<1:21:15,  2.11it/s]"
     ]
    },
    {
     "name": "stdout",
     "output_type": "stream",
     "text": [
      "corr: [0.41624], r2: [0.01649]\n",
      "Doing 652: ASPM\n"
     ]
    },
    {
     "name": "stderr",
     "output_type": "stream",
     "text": [
      "Running elastic model with corum transcripts:   6%|▌         | 653/10921 [05:39<1:21:46,  2.09it/s]"
     ]
    },
    {
     "name": "stdout",
     "output_type": "stream",
     "text": [
      "corr: [0.19295], r2: [-0.13133]\n",
      "Doing 653: ASPN\n"
     ]
    },
    {
     "name": "stderr",
     "output_type": "stream",
     "text": [
      "Running elastic model with corum transcripts:   6%|▌         | 654/10921 [05:39<1:19:36,  2.15it/s]"
     ]
    },
    {
     "name": "stdout",
     "output_type": "stream",
     "text": [
      "corr: [0.46032], r2: [0.19218]\n",
      "Doing 654: ASPSCR1\n"
     ]
    },
    {
     "name": "stderr",
     "output_type": "stream",
     "text": [
      "Running elastic model with corum transcripts:   6%|▌         | 655/10921 [05:40<1:18:03,  2.19it/s]"
     ]
    },
    {
     "name": "stdout",
     "output_type": "stream",
     "text": [
      "corr: [0.6948], r2: [0.03235]\n",
      "Doing 655: ASRGL1\n"
     ]
    },
    {
     "name": "stderr",
     "output_type": "stream",
     "text": [
      "Running elastic model with corum transcripts:   6%|▌         | 656/10921 [05:40<1:17:44,  2.20it/s]"
     ]
    },
    {
     "name": "stdout",
     "output_type": "stream",
     "text": [
      "corr: [0.8219], r2: [0.61804]\n",
      "Doing 656: ASS1\n"
     ]
    },
    {
     "name": "stderr",
     "output_type": "stream",
     "text": [
      "Running elastic model with corum transcripts:   6%|▌         | 657/10921 [05:41<1:22:48,  2.07it/s]"
     ]
    },
    {
     "name": "stdout",
     "output_type": "stream",
     "text": [
      "corr: [0.73467], r2: [0.52795]\n",
      "Doing 657: ASTE1\n"
     ]
    },
    {
     "name": "stderr",
     "output_type": "stream",
     "text": [
      "/Applications/venv/CPTAC_Protein/lib/python3.9/site-packages/numpy/lib/function_base.py:2691: RuntimeWarning: invalid value encountered in true_divide\n",
      "  c /= stddev[:, None]\n",
      "/Applications/venv/CPTAC_Protein/lib/python3.9/site-packages/numpy/lib/function_base.py:2692: RuntimeWarning: invalid value encountered in true_divide\n",
      "  c /= stddev[None, :]\n",
      "Running elastic model with corum transcripts:   6%|▌         | 658/10921 [05:41<1:19:37,  2.15it/s]"
     ]
    },
    {
     "name": "stdout",
     "output_type": "stream",
     "text": [
      "corr: [0], r2: [-0.02652]\n",
      "Doing 658: ASXL2\n"
     ]
    },
    {
     "name": "stderr",
     "output_type": "stream",
     "text": [
      "Running elastic model with corum transcripts:   6%|▌         | 659/10921 [05:42<1:17:44,  2.20it/s]"
     ]
    },
    {
     "name": "stdout",
     "output_type": "stream",
     "text": [
      "corr: [0.01652], r2: [-0.04427]\n",
      "Doing 659: ATAD1\n"
     ]
    },
    {
     "name": "stderr",
     "output_type": "stream",
     "text": [
      "Running elastic model with corum transcripts:   6%|▌         | 660/10921 [05:42<1:16:21,  2.24it/s]"
     ]
    },
    {
     "name": "stdout",
     "output_type": "stream",
     "text": [
      "corr: [0.49148], r2: [0.20124]\n",
      "Doing 660: ATAD2\n"
     ]
    },
    {
     "name": "stderr",
     "output_type": "stream",
     "text": [
      "Running elastic model with corum transcripts:   6%|▌         | 661/10921 [05:43<1:15:56,  2.25it/s]"
     ]
    },
    {
     "name": "stdout",
     "output_type": "stream",
     "text": [
      "corr: [0.65279], r2: [0.30158]\n",
      "Doing 661: ATAD2B\n"
     ]
    },
    {
     "name": "stderr",
     "output_type": "stream",
     "text": [
      "Running elastic model with corum transcripts:   6%|▌         | 662/10921 [05:43<1:15:33,  2.26it/s]"
     ]
    },
    {
     "name": "stdout",
     "output_type": "stream",
     "text": [
      "corr: [0.00584], r2: [-0.21187]\n",
      "Doing 662: ATAD3A\n"
     ]
    },
    {
     "name": "stderr",
     "output_type": "stream",
     "text": [
      "Running elastic model with corum transcripts:   6%|▌         | 663/10921 [05:44<1:15:05,  2.28it/s]"
     ]
    },
    {
     "name": "stdout",
     "output_type": "stream",
     "text": [
      "corr: [0.22409], r2: [-0.01092]\n",
      "Doing 663: ATAD3B\n"
     ]
    },
    {
     "name": "stderr",
     "output_type": "stream",
     "text": [
      "Running elastic model with corum transcripts:   6%|▌         | 664/10921 [05:44<1:14:51,  2.28it/s]"
     ]
    },
    {
     "name": "stdout",
     "output_type": "stream",
     "text": [
      "corr: [0.30719], r2: [0.01618]\n",
      "Doing 664: ATAT1\n"
     ]
    },
    {
     "name": "stderr",
     "output_type": "stream",
     "text": [
      "/Applications/venv/CPTAC_Protein/lib/python3.9/site-packages/numpy/lib/function_base.py:2691: RuntimeWarning: invalid value encountered in true_divide\n",
      "  c /= stddev[:, None]\n",
      "/Applications/venv/CPTAC_Protein/lib/python3.9/site-packages/numpy/lib/function_base.py:2692: RuntimeWarning: invalid value encountered in true_divide\n",
      "  c /= stddev[None, :]\n",
      "Running elastic model with corum transcripts:   6%|▌         | 665/10921 [05:44<1:14:36,  2.29it/s]"
     ]
    },
    {
     "name": "stdout",
     "output_type": "stream",
     "text": [
      "corr: [0], r2: [-0.11174]\n",
      "Doing 665: ATE1\n"
     ]
    },
    {
     "name": "stderr",
     "output_type": "stream",
     "text": [
      "Running elastic model with corum transcripts:   6%|▌         | 666/10921 [05:45<1:20:27,  2.12it/s]"
     ]
    },
    {
     "name": "stdout",
     "output_type": "stream",
     "text": [
      "corr: [0.62806], r2: [0.26935]\n",
      "Doing 666: ATF1\n"
     ]
    },
    {
     "name": "stderr",
     "output_type": "stream",
     "text": [
      "Running elastic model with corum transcripts:   6%|▌         | 667/10921 [05:45<1:19:51,  2.14it/s]"
     ]
    },
    {
     "name": "stdout",
     "output_type": "stream",
     "text": [
      "corr: [0.17637], r2: [0.0183]\n",
      "Doing 667: ATF2\n"
     ]
    },
    {
     "name": "stderr",
     "output_type": "stream",
     "text": [
      "/Applications/venv/CPTAC_Protein/lib/python3.9/site-packages/numpy/lib/function_base.py:2691: RuntimeWarning: invalid value encountered in true_divide\n",
      "  c /= stddev[:, None]\n",
      "/Applications/venv/CPTAC_Protein/lib/python3.9/site-packages/numpy/lib/function_base.py:2692: RuntimeWarning: invalid value encountered in true_divide\n",
      "  c /= stddev[None, :]\n",
      "Running elastic model with corum transcripts:   6%|▌         | 668/10921 [05:46<1:19:25,  2.15it/s]"
     ]
    },
    {
     "name": "stdout",
     "output_type": "stream",
     "text": [
      "corr: [0], r2: [-0.09852]\n",
      "Doing 668: ATF6\n"
     ]
    },
    {
     "name": "stderr",
     "output_type": "stream",
     "text": [
      "/Applications/venv/CPTAC_Protein/lib/python3.9/site-packages/numpy/lib/function_base.py:2691: RuntimeWarning: invalid value encountered in true_divide\n",
      "  c /= stddev[:, None]\n",
      "/Applications/venv/CPTAC_Protein/lib/python3.9/site-packages/numpy/lib/function_base.py:2692: RuntimeWarning: invalid value encountered in true_divide\n",
      "  c /= stddev[None, :]\n",
      "Running elastic model with corum transcripts:   6%|▌         | 669/10921 [05:46<1:18:24,  2.18it/s]"
     ]
    },
    {
     "name": "stdout",
     "output_type": "stream",
     "text": [
      "corr: [0], r2: [-0.08759]\n",
      "Doing 669: ATF6B\n"
     ]
    },
    {
     "name": "stderr",
     "output_type": "stream",
     "text": [
      "/Applications/venv/CPTAC_Protein/lib/python3.9/site-packages/numpy/lib/function_base.py:2691: RuntimeWarning: invalid value encountered in true_divide\n",
      "  c /= stddev[:, None]\n",
      "/Applications/venv/CPTAC_Protein/lib/python3.9/site-packages/numpy/lib/function_base.py:2692: RuntimeWarning: invalid value encountered in true_divide\n",
      "  c /= stddev[None, :]\n",
      "Running elastic model with corum transcripts:   6%|▌         | 670/10921 [05:47<1:17:08,  2.21it/s]"
     ]
    },
    {
     "name": "stdout",
     "output_type": "stream",
     "text": [
      "corr: [0], r2: [-0.06835]\n",
      "Doing 670: ATF7\n"
     ]
    },
    {
     "name": "stderr",
     "output_type": "stream",
     "text": [
      "Running elastic model with corum transcripts:   6%|▌         | 671/10921 [05:47<1:17:38,  2.20it/s]"
     ]
    },
    {
     "name": "stdout",
     "output_type": "stream",
     "text": [
      "corr: [0.39036], r2: [0.10891]\n",
      "Doing 671: ATF7IP\n"
     ]
    },
    {
     "name": "stderr",
     "output_type": "stream",
     "text": [
      "Running elastic model with corum transcripts:   6%|▌         | 672/10921 [05:48<1:19:19,  2.15it/s]"
     ]
    },
    {
     "name": "stdout",
     "output_type": "stream",
     "text": [
      "corr: [0.42225], r2: [0.12082]\n",
      "Doing 672: ATG101\n"
     ]
    },
    {
     "name": "stderr",
     "output_type": "stream",
     "text": [
      "Running elastic model with corum transcripts:   6%|▌         | 673/10921 [05:48<1:25:45,  1.99it/s]"
     ]
    },
    {
     "name": "stdout",
     "output_type": "stream",
     "text": [
      "corr: [0.03528], r2: [-0.0079]\n",
      "Doing 673: ATG12\n"
     ]
    },
    {
     "name": "stderr",
     "output_type": "stream",
     "text": [
      "Running elastic model with corum transcripts:   6%|▌         | 674/10921 [05:49<1:22:30,  2.07it/s]"
     ]
    },
    {
     "name": "stdout",
     "output_type": "stream",
     "text": [
      "corr: [0.17449], r2: [-0.04873]\n",
      "Doing 674: ATG13\n"
     ]
    },
    {
     "name": "stderr",
     "output_type": "stream",
     "text": [
      "Running elastic model with corum transcripts:   6%|▌         | 675/10921 [05:49<1:24:05,  2.03it/s]"
     ]
    },
    {
     "name": "stdout",
     "output_type": "stream",
     "text": [
      "corr: [-0.25903], r2: [-0.14665]\n",
      "Doing 675: ATG16L1\n"
     ]
    },
    {
     "name": "stderr",
     "output_type": "stream",
     "text": [
      "Running elastic model with corum transcripts:   6%|▌         | 676/10921 [05:50<1:25:04,  2.01it/s]"
     ]
    },
    {
     "name": "stdout",
     "output_type": "stream",
     "text": [
      "corr: [0.36981], r2: [0.09261]\n",
      "Doing 676: ATG2A\n"
     ]
    },
    {
     "name": "stderr",
     "output_type": "stream",
     "text": [
      "/Applications/venv/CPTAC_Protein/lib/python3.9/site-packages/numpy/lib/function_base.py:2691: RuntimeWarning: invalid value encountered in true_divide\n",
      "  c /= stddev[:, None]\n",
      "/Applications/venv/CPTAC_Protein/lib/python3.9/site-packages/numpy/lib/function_base.py:2692: RuntimeWarning: invalid value encountered in true_divide\n",
      "  c /= stddev[None, :]\n",
      "Running elastic model with corum transcripts:   6%|▌         | 677/10921 [05:50<1:21:32,  2.09it/s]"
     ]
    },
    {
     "name": "stdout",
     "output_type": "stream",
     "text": [
      "corr: [0], r2: [-0.07506]\n",
      "Doing 677: ATG2B\n"
     ]
    },
    {
     "name": "stderr",
     "output_type": "stream",
     "text": [
      "Running elastic model with corum transcripts:   6%|▌         | 678/10921 [05:51<1:18:51,  2.17it/s]"
     ]
    },
    {
     "name": "stdout",
     "output_type": "stream",
     "text": [
      "corr: [0.2452], r2: [-0.08892]\n",
      "Doing 678: ATG3\n"
     ]
    },
    {
     "name": "stderr",
     "output_type": "stream",
     "text": [
      "Running elastic model with corum transcripts:   6%|▌         | 679/10921 [05:51<1:16:48,  2.22it/s]"
     ]
    },
    {
     "name": "stdout",
     "output_type": "stream",
     "text": [
      "corr: [0.51826], r2: [0.22497]\n",
      "Doing 679: ATG4B\n"
     ]
    },
    {
     "name": "stderr",
     "output_type": "stream",
     "text": [
      "Running elastic model with corum transcripts:   6%|▌         | 680/10921 [05:51<1:15:16,  2.27it/s]"
     ]
    },
    {
     "name": "stdout",
     "output_type": "stream",
     "text": [
      "corr: [0.42655], r2: [0.15316]\n",
      "Doing 680: ATG4C\n"
     ]
    },
    {
     "name": "stderr",
     "output_type": "stream",
     "text": [
      "Running elastic model with corum transcripts:   6%|▌         | 681/10921 [05:52<1:19:14,  2.15it/s]"
     ]
    },
    {
     "name": "stdout",
     "output_type": "stream",
     "text": [
      "corr: [0.18456], r2: [0.00058]\n",
      "Doing 681: ATG5\n"
     ]
    },
    {
     "name": "stderr",
     "output_type": "stream",
     "text": [
      "Running elastic model with corum transcripts:   6%|▌         | 682/10921 [05:52<1:17:18,  2.21it/s]"
     ]
    },
    {
     "name": "stdout",
     "output_type": "stream",
     "text": [
      "corr: [0.39182], r2: [0.02453]\n",
      "Doing 682: ATG7\n"
     ]
    },
    {
     "name": "stderr",
     "output_type": "stream",
     "text": [
      "Running elastic model with corum transcripts:   6%|▋         | 683/10921 [05:53<1:16:06,  2.24it/s]"
     ]
    },
    {
     "name": "stdout",
     "output_type": "stream",
     "text": [
      "corr: [0.22363], r2: [-0.05509]\n",
      "Doing 683: ATG9A\n"
     ]
    },
    {
     "name": "stderr",
     "output_type": "stream",
     "text": [
      "Running elastic model with corum transcripts:   6%|▋         | 684/10921 [05:53<1:15:18,  2.27it/s]"
     ]
    },
    {
     "name": "stdout",
     "output_type": "stream",
     "text": [
      "corr: [0.19837], r2: [-0.32116]\n",
      "Doing 684: ATIC\n"
     ]
    },
    {
     "name": "stderr",
     "output_type": "stream",
     "text": [
      "Running elastic model with corum transcripts:   6%|▋         | 685/10921 [05:54<1:14:20,  2.29it/s]"
     ]
    },
    {
     "name": "stdout",
     "output_type": "stream",
     "text": [
      "corr: [0.32064], r2: [-0.11162]\n",
      "Doing 685: ATL1\n"
     ]
    },
    {
     "name": "stderr",
     "output_type": "stream",
     "text": [
      "Running elastic model with corum transcripts:   6%|▋         | 686/10921 [05:54<1:15:10,  2.27it/s]"
     ]
    },
    {
     "name": "stdout",
     "output_type": "stream",
     "text": [
      "corr: [0.39134], r2: [0.14789]\n",
      "Doing 686: ATL2\n"
     ]
    },
    {
     "name": "stderr",
     "output_type": "stream",
     "text": [
      "Running elastic model with corum transcripts:   6%|▋         | 687/10921 [05:55<1:15:52,  2.25it/s]"
     ]
    },
    {
     "name": "stdout",
     "output_type": "stream",
     "text": [
      "corr: [0.0899], r2: [-0.13712]\n",
      "Doing 687: ATL3\n"
     ]
    },
    {
     "name": "stderr",
     "output_type": "stream",
     "text": [
      "Running elastic model with corum transcripts:   6%|▋         | 688/10921 [05:55<1:16:08,  2.24it/s]"
     ]
    },
    {
     "name": "stdout",
     "output_type": "stream",
     "text": [
      "corr: [0.35228], r2: [0.07622]\n",
      "Doing 688: ATM\n"
     ]
    },
    {
     "name": "stderr",
     "output_type": "stream",
     "text": [
      "Running elastic model with corum transcripts:   6%|▋         | 689/10921 [05:56<1:24:44,  2.01it/s]"
     ]
    },
    {
     "name": "stdout",
     "output_type": "stream",
     "text": [
      "corr: [0.24523], r2: [0.00463]\n",
      "Doing 689: ATN1\n"
     ]
    },
    {
     "name": "stderr",
     "output_type": "stream",
     "text": [
      "/Applications/venv/CPTAC_Protein/lib/python3.9/site-packages/numpy/lib/function_base.py:2691: RuntimeWarning: invalid value encountered in true_divide\n",
      "  c /= stddev[:, None]\n",
      "/Applications/venv/CPTAC_Protein/lib/python3.9/site-packages/numpy/lib/function_base.py:2692: RuntimeWarning: invalid value encountered in true_divide\n",
      "  c /= stddev[None, :]\n",
      "Running elastic model with corum transcripts:   6%|▋         | 690/10921 [05:56<1:21:27,  2.09it/s]"
     ]
    },
    {
     "name": "stdout",
     "output_type": "stream",
     "text": [
      "corr: [0], r2: [-0.11661]\n",
      "Doing 690: ATOX1\n"
     ]
    },
    {
     "name": "stderr",
     "output_type": "stream",
     "text": [
      "Running elastic model with corum transcripts:   6%|▋         | 691/10921 [05:56<1:19:24,  2.15it/s]"
     ]
    },
    {
     "name": "stdout",
     "output_type": "stream",
     "text": [
      "corr: [0.40722], r2: [0.02018]\n",
      "Doing 691: ATP11A\n"
     ]
    },
    {
     "name": "stderr",
     "output_type": "stream",
     "text": [
      "Running elastic model with corum transcripts:   6%|▋         | 692/10921 [05:57<1:17:42,  2.19it/s]"
     ]
    },
    {
     "name": "stdout",
     "output_type": "stream",
     "text": [
      "corr: [0.14241], r2: [-0.09165]\n",
      "Doing 692: ATP11B\n"
     ]
    },
    {
     "name": "stderr",
     "output_type": "stream",
     "text": [
      "Running elastic model with corum transcripts:   6%|▋         | 693/10921 [05:57<1:20:47,  2.11it/s]"
     ]
    },
    {
     "name": "stdout",
     "output_type": "stream",
     "text": [
      "corr: [0.15402], r2: [-0.09307]\n",
      "Doing 693: ATP11C\n"
     ]
    },
    {
     "name": "stderr",
     "output_type": "stream",
     "text": [
      "Running elastic model with corum transcripts:   6%|▋         | 694/10921 [05:58<1:25:27,  1.99it/s]"
     ]
    },
    {
     "name": "stdout",
     "output_type": "stream",
     "text": [
      "corr: [0.48912], r2: [0.16335]\n",
      "Doing 694: ATP12A\n"
     ]
    },
    {
     "name": "stderr",
     "output_type": "stream",
     "text": [
      "/Applications/venv/CPTAC_Protein/lib/python3.9/site-packages/numpy/lib/function_base.py:2691: RuntimeWarning: invalid value encountered in true_divide\n",
      "  c /= stddev[:, None]\n",
      "/Applications/venv/CPTAC_Protein/lib/python3.9/site-packages/numpy/lib/function_base.py:2692: RuntimeWarning: invalid value encountered in true_divide\n",
      "  c /= stddev[None, :]\n",
      "Running elastic model with corum transcripts:   6%|▋         | 695/10921 [05:58<1:22:23,  2.07it/s]"
     ]
    },
    {
     "name": "stdout",
     "output_type": "stream",
     "text": [
      "corr: [0], r2: [-0.02512]\n",
      "Doing 695: ATP13A1\n"
     ]
    },
    {
     "name": "stderr",
     "output_type": "stream",
     "text": [
      "Running elastic model with corum transcripts:   6%|▋         | 696/10921 [05:59<1:26:16,  1.98it/s]"
     ]
    },
    {
     "name": "stdout",
     "output_type": "stream",
     "text": [
      "corr: [0.15565], r2: [-0.09809]\n",
      "Doing 696: ATP13A2\n"
     ]
    },
    {
     "name": "stderr",
     "output_type": "stream",
     "text": [
      "Running elastic model with corum transcripts:   6%|▋         | 697/10921 [06:00<1:28:18,  1.93it/s]"
     ]
    },
    {
     "name": "stdout",
     "output_type": "stream",
     "text": [
      "corr: [0.20717], r2: [0.00839]\n",
      "Doing 697: ATP13A3\n"
     ]
    },
    {
     "name": "stderr",
     "output_type": "stream",
     "text": [
      "Running elastic model with corum transcripts:   6%|▋         | 698/10921 [06:00<1:24:59,  2.00it/s]"
     ]
    },
    {
     "name": "stdout",
     "output_type": "stream",
     "text": [
      "corr: [0.22636], r2: [-0.1797]\n",
      "Doing 698: ATP1A1\n"
     ]
    },
    {
     "name": "stderr",
     "output_type": "stream",
     "text": [
      "Running elastic model with corum transcripts:   6%|▋         | 699/10921 [06:00<1:21:49,  2.08it/s]"
     ]
    },
    {
     "name": "stdout",
     "output_type": "stream",
     "text": [
      "corr: [0.44603], r2: [0.10563]\n",
      "Doing 699: ATP1A2\n"
     ]
    },
    {
     "name": "stderr",
     "output_type": "stream",
     "text": [
      "Running elastic model with corum transcripts:   6%|▋         | 700/10921 [06:01<1:19:53,  2.13it/s]"
     ]
    },
    {
     "name": "stdout",
     "output_type": "stream",
     "text": [
      "corr: [0.41556], r2: [-0.40382]\n",
      "Doing 700: ATP1A3\n"
     ]
    },
    {
     "name": "stderr",
     "output_type": "stream",
     "text": [
      "Running elastic model with corum transcripts:   6%|▋         | 701/10921 [06:01<1:18:00,  2.18it/s]"
     ]
    },
    {
     "name": "stdout",
     "output_type": "stream",
     "text": [
      "corr: [-0.10298], r2: [-2.95194]\n",
      "Doing 701: ATP1B1\n"
     ]
    },
    {
     "name": "stderr",
     "output_type": "stream",
     "text": [
      "Running elastic model with corum transcripts:   6%|▋         | 702/10921 [06:02<1:17:32,  2.20it/s]"
     ]
    },
    {
     "name": "stdout",
     "output_type": "stream",
     "text": [
      "corr: [0.28409], r2: [-0.16925]\n",
      "Doing 702: ATP1B3\n"
     ]
    },
    {
     "name": "stderr",
     "output_type": "stream",
     "text": [
      "Running elastic model with corum transcripts:   6%|▋         | 703/10921 [06:02<1:16:24,  2.23it/s]"
     ]
    },
    {
     "name": "stdout",
     "output_type": "stream",
     "text": [
      "corr: [0.44651], r2: [0.16892]\n",
      "Doing 703: ATP2A1\n"
     ]
    },
    {
     "name": "stderr",
     "output_type": "stream",
     "text": [
      "/Applications/venv/CPTAC_Protein/lib/python3.9/site-packages/numpy/lib/function_base.py:2691: RuntimeWarning: invalid value encountered in true_divide\n",
      "  c /= stddev[:, None]\n",
      "/Applications/venv/CPTAC_Protein/lib/python3.9/site-packages/numpy/lib/function_base.py:2692: RuntimeWarning: invalid value encountered in true_divide\n",
      "  c /= stddev[None, :]\n",
      "Running elastic model with corum transcripts:   6%|▋         | 704/10921 [06:03<1:16:07,  2.24it/s]"
     ]
    },
    {
     "name": "stdout",
     "output_type": "stream",
     "text": [
      "corr: [0], r2: [-0.19527]\n",
      "Doing 704: ATP2A2\n"
     ]
    },
    {
     "name": "stderr",
     "output_type": "stream",
     "text": [
      "/Applications/venv/CPTAC_Protein/lib/python3.9/site-packages/numpy/lib/function_base.py:2691: RuntimeWarning: invalid value encountered in true_divide\n",
      "  c /= stddev[:, None]\n",
      "/Applications/venv/CPTAC_Protein/lib/python3.9/site-packages/numpy/lib/function_base.py:2692: RuntimeWarning: invalid value encountered in true_divide\n",
      "  c /= stddev[None, :]\n",
      "Running elastic model with corum transcripts:   6%|▋         | 705/10921 [06:03<1:22:35,  2.06it/s]"
     ]
    },
    {
     "name": "stdout",
     "output_type": "stream",
     "text": [
      "corr: [0], r2: [-0.03655]\n",
      "Doing 705: ATP2A3\n"
     ]
    },
    {
     "name": "stderr",
     "output_type": "stream",
     "text": [
      "Running elastic model with corum transcripts:   6%|▋         | 706/10921 [06:04<1:20:23,  2.12it/s]"
     ]
    },
    {
     "name": "stdout",
     "output_type": "stream",
     "text": [
      "corr: [-0.1927], r2: [-0.05616]\n",
      "Doing 706: ATP2B1\n"
     ]
    },
    {
     "name": "stderr",
     "output_type": "stream",
     "text": [
      "Running elastic model with corum transcripts:   6%|▋         | 707/10921 [06:04<1:18:21,  2.17it/s]"
     ]
    },
    {
     "name": "stdout",
     "output_type": "stream",
     "text": [
      "corr: [0.32167], r2: [0.07122]\n",
      "Doing 707: ATP2B2\n"
     ]
    },
    {
     "name": "stderr",
     "output_type": "stream",
     "text": [
      "Running elastic model with corum transcripts:   6%|▋         | 708/10921 [06:05<1:17:45,  2.19it/s]"
     ]
    },
    {
     "name": "stdout",
     "output_type": "stream",
     "text": [
      "corr: [0.1119], r2: [-1.89137]\n",
      "Doing 708: ATP2B3\n"
     ]
    },
    {
     "name": "stderr",
     "output_type": "stream",
     "text": [
      "Running elastic model with corum transcripts:   6%|▋         | 709/10921 [06:05<1:16:44,  2.22it/s]"
     ]
    },
    {
     "name": "stdout",
     "output_type": "stream",
     "text": [
      "corr: [0.06421], r2: [-1.58582]\n",
      "Doing 709: ATP2B4\n"
     ]
    },
    {
     "name": "stderr",
     "output_type": "stream",
     "text": [
      "Running elastic model with corum transcripts:   7%|▋         | 710/10921 [06:05<1:16:28,  2.23it/s]"
     ]
    },
    {
     "name": "stdout",
     "output_type": "stream",
     "text": [
      "corr: [0.45867], r2: [0.20356]\n",
      "Doing 710: ATP2C1\n"
     ]
    },
    {
     "name": "stderr",
     "output_type": "stream",
     "text": [
      "Running elastic model with corum transcripts:   7%|▋         | 711/10921 [06:06<1:16:50,  2.21it/s]"
     ]
    },
    {
     "name": "stdout",
     "output_type": "stream",
     "text": [
      "corr: [0.07767], r2: [-0.08936]\n",
      "Doing 711: ATP5A1\n"
     ]
    },
    {
     "name": "stderr",
     "output_type": "stream",
     "text": [
      "Running elastic model with corum transcripts:   7%|▋         | 712/10921 [06:06<1:16:15,  2.23it/s]"
     ]
    },
    {
     "name": "stdout",
     "output_type": "stream",
     "text": [
      "corr: [0.26059], r2: [0.02213]\n",
      "Doing 712: ATP5B\n"
     ]
    },
    {
     "name": "stderr",
     "output_type": "stream",
     "text": [
      "Running elastic model with corum transcripts:   7%|▋         | 713/10921 [06:07<1:21:57,  2.08it/s]"
     ]
    },
    {
     "name": "stdout",
     "output_type": "stream",
     "text": [
      "corr: [-0.08819], r2: [-0.07784]\n",
      "Doing 713: ATP5C1\n"
     ]
    },
    {
     "name": "stderr",
     "output_type": "stream",
     "text": [
      "Running elastic model with corum transcripts:   7%|▋         | 714/10921 [06:07<1:20:01,  2.13it/s]"
     ]
    },
    {
     "name": "stdout",
     "output_type": "stream",
     "text": [
      "corr: [-0.11969], r2: [-0.01459]\n",
      "Doing 714: ATP5D\n"
     ]
    },
    {
     "name": "stderr",
     "output_type": "stream",
     "text": [
      "Running elastic model with corum transcripts:   7%|▋         | 715/10921 [06:08<1:18:36,  2.16it/s]"
     ]
    },
    {
     "name": "stdout",
     "output_type": "stream",
     "text": [
      "corr: [-0.19235], r2: [-0.03233]\n",
      "Doing 715: ATP5E\n"
     ]
    },
    {
     "name": "stderr",
     "output_type": "stream",
     "text": [
      "/Applications/venv/CPTAC_Protein/lib/python3.9/site-packages/numpy/lib/function_base.py:2691: RuntimeWarning: invalid value encountered in true_divide\n",
      "  c /= stddev[:, None]\n",
      "/Applications/venv/CPTAC_Protein/lib/python3.9/site-packages/numpy/lib/function_base.py:2692: RuntimeWarning: invalid value encountered in true_divide\n",
      "  c /= stddev[None, :]\n",
      "Running elastic model with corum transcripts:   7%|▋         | 716/10921 [06:08<1:17:58,  2.18it/s]"
     ]
    },
    {
     "name": "stdout",
     "output_type": "stream",
     "text": [
      "corr: [0], r2: [-0.00474]\n",
      "Doing 716: ATP5F1\n"
     ]
    },
    {
     "name": "stderr",
     "output_type": "stream",
     "text": [
      "Running elastic model with corum transcripts:   7%|▋         | 717/10921 [06:09<1:17:08,  2.20it/s]"
     ]
    },
    {
     "name": "stdout",
     "output_type": "stream",
     "text": [
      "corr: [0.15223], r2: [0.01799]\n",
      "Doing 717: ATP5H\n"
     ]
    },
    {
     "name": "stderr",
     "output_type": "stream",
     "text": [
      "Running elastic model with corum transcripts:   7%|▋         | 718/10921 [06:09<1:17:20,  2.20it/s]"
     ]
    },
    {
     "name": "stdout",
     "output_type": "stream",
     "text": [
      "corr: [0.00054], r2: [-0.04839]\n",
      "Doing 718: ATP5I\n"
     ]
    },
    {
     "name": "stderr",
     "output_type": "stream",
     "text": [
      "Running elastic model with corum transcripts:   7%|▋         | 719/10921 [06:10<1:16:32,  2.22it/s]"
     ]
    },
    {
     "name": "stdout",
     "output_type": "stream",
     "text": [
      "corr: [0.13547], r2: [0.00146]\n",
      "Doing 719: ATP5J\n"
     ]
    },
    {
     "name": "stderr",
     "output_type": "stream",
     "text": [
      "/Applications/venv/CPTAC_Protein/lib/python3.9/site-packages/numpy/lib/function_base.py:2691: RuntimeWarning: invalid value encountered in true_divide\n",
      "  c /= stddev[:, None]\n",
      "/Applications/venv/CPTAC_Protein/lib/python3.9/site-packages/numpy/lib/function_base.py:2692: RuntimeWarning: invalid value encountered in true_divide\n",
      "  c /= stddev[None, :]\n",
      "Running elastic model with corum transcripts:   7%|▋         | 720/10921 [06:10<1:22:00,  2.07it/s]"
     ]
    },
    {
     "name": "stdout",
     "output_type": "stream",
     "text": [
      "corr: [0], r2: [-0.05938]\n",
      "Doing 720: ATP5J2-PTCD1\n",
      "Not enough features. Skipping protein.\n",
      "Doing 721: ATP5L\n"
     ]
    },
    {
     "name": "stderr",
     "output_type": "stream",
     "text": [
      "Running elastic model with corum transcripts:   7%|▋         | 722/10921 [06:11<1:02:02,  2.74it/s]"
     ]
    },
    {
     "name": "stdout",
     "output_type": "stream",
     "text": [
      "corr: [-0.43553], r2: [-0.21317]\n",
      "Doing 722: ATP5O\n"
     ]
    },
    {
     "name": "stderr",
     "output_type": "stream",
     "text": [
      "/Applications/venv/CPTAC_Protein/lib/python3.9/site-packages/numpy/lib/function_base.py:2691: RuntimeWarning: invalid value encountered in true_divide\n",
      "  c /= stddev[:, None]\n",
      "/Applications/venv/CPTAC_Protein/lib/python3.9/site-packages/numpy/lib/function_base.py:2692: RuntimeWarning: invalid value encountered in true_divide\n",
      "  c /= stddev[None, :]\n",
      "Running elastic model with corum transcripts:   7%|▋         | 723/10921 [06:11<1:05:29,  2.60it/s]"
     ]
    },
    {
     "name": "stdout",
     "output_type": "stream",
     "text": [
      "corr: [0], r2: [-0.07119]\n",
      "Doing 723: ATP5S\n"
     ]
    },
    {
     "name": "stderr",
     "output_type": "stream",
     "text": [
      "Running elastic model with corum transcripts:   7%|▋         | 724/10921 [06:11<1:09:41,  2.44it/s]"
     ]
    },
    {
     "name": "stdout",
     "output_type": "stream",
     "text": [
      "corr: [0.23057], r2: [0.05274]\n",
      "Doing 724: ATP6AP1\n"
     ]
    },
    {
     "name": "stderr",
     "output_type": "stream",
     "text": [
      "Running elastic model with corum transcripts:   7%|▋         | 725/10921 [06:12<1:14:28,  2.28it/s]"
     ]
    },
    {
     "name": "stdout",
     "output_type": "stream",
     "text": [
      "corr: [0.48553], r2: [0.08892]\n",
      "Doing 725: ATP6AP2\n"
     ]
    },
    {
     "name": "stderr",
     "output_type": "stream",
     "text": [
      "Running elastic model with corum transcripts:   7%|▋         | 726/10921 [06:13<1:18:52,  2.15it/s]"
     ]
    },
    {
     "name": "stdout",
     "output_type": "stream",
     "text": [
      "corr: [-0.12539], r2: [-0.10637]\n",
      "Doing 726: ATP6V0A1\n"
     ]
    },
    {
     "name": "stderr",
     "output_type": "stream",
     "text": [
      "Running elastic model with corum transcripts:   7%|▋         | 727/10921 [06:13<1:22:33,  2.06it/s]"
     ]
    },
    {
     "name": "stdout",
     "output_type": "stream",
     "text": [
      "corr: [0.2219], r2: [0.03695]\n",
      "Doing 727: ATP6V0A2\n"
     ]
    },
    {
     "name": "stderr",
     "output_type": "stream",
     "text": [
      "Running elastic model with corum transcripts:   7%|▋         | 728/10921 [06:14<1:25:16,  1.99it/s]"
     ]
    },
    {
     "name": "stdout",
     "output_type": "stream",
     "text": [
      "corr: [0.18938], r2: [-0.02159]\n",
      "Doing 728: ATP6V0A4\n"
     ]
    },
    {
     "name": "stderr",
     "output_type": "stream",
     "text": [
      "Running elastic model with corum transcripts:   7%|▋         | 729/10921 [06:14<1:33:50,  1.81it/s]"
     ]
    },
    {
     "name": "stdout",
     "output_type": "stream",
     "text": [
      "corr: [0.25686], r2: [-1.51734]\n",
      "Doing 729: ATP6V0C\n"
     ]
    },
    {
     "name": "stderr",
     "output_type": "stream",
     "text": [
      "Running elastic model with corum transcripts:   7%|▋         | 730/10921 [06:15<1:39:54,  1.70it/s]"
     ]
    },
    {
     "name": "stdout",
     "output_type": "stream",
     "text": [
      "corr: [0.14207], r2: [-0.38669]\n",
      "Doing 730: ATP6V0D1\n"
     ]
    },
    {
     "name": "stderr",
     "output_type": "stream",
     "text": [
      "Running elastic model with corum transcripts:   7%|▋         | 731/10921 [06:16<1:42:35,  1.66it/s]"
     ]
    },
    {
     "name": "stdout",
     "output_type": "stream",
     "text": [
      "corr: [0.46255], r2: [0.20119]\n",
      "Doing 731: ATP6V1A\n"
     ]
    },
    {
     "name": "stderr",
     "output_type": "stream",
     "text": [
      "Running elastic model with corum transcripts:   7%|▋         | 732/10921 [06:16<1:43:58,  1.63it/s]"
     ]
    },
    {
     "name": "stdout",
     "output_type": "stream",
     "text": [
      "corr: [0.30583], r2: [-0.36283]\n",
      "Doing 732: ATP6V1B1\n"
     ]
    },
    {
     "name": "stderr",
     "output_type": "stream",
     "text": [
      "Running elastic model with corum transcripts:   7%|▋         | 733/10921 [06:17<1:40:21,  1.69it/s]"
     ]
    },
    {
     "name": "stdout",
     "output_type": "stream",
     "text": [
      "corr: [0.53114], r2: [0.27773]\n",
      "Doing 733: ATP6V1B2\n"
     ]
    },
    {
     "name": "stderr",
     "output_type": "stream",
     "text": [
      "Running elastic model with corum transcripts:   7%|▋         | 734/10921 [06:17<1:39:32,  1.71it/s]"
     ]
    },
    {
     "name": "stdout",
     "output_type": "stream",
     "text": [
      "corr: [0.56102], r2: [0.00751]\n",
      "Doing 734: ATP6V1C1\n"
     ]
    },
    {
     "name": "stderr",
     "output_type": "stream",
     "text": [
      "Running elastic model with corum transcripts:   7%|▋         | 735/10921 [06:18<1:33:19,  1.82it/s]"
     ]
    },
    {
     "name": "stdout",
     "output_type": "stream",
     "text": [
      "corr: [0.40504], r2: [0.16081]\n",
      "Doing 735: ATP6V1D\n"
     ]
    },
    {
     "name": "stderr",
     "output_type": "stream",
     "text": [
      "Running elastic model with corum transcripts:   7%|▋         | 736/10921 [06:18<1:28:57,  1.91it/s]"
     ]
    },
    {
     "name": "stdout",
     "output_type": "stream",
     "text": [
      "corr: [0.20325], r2: [0.0212]\n",
      "Doing 736: ATP6V1E1\n"
     ]
    },
    {
     "name": "stderr",
     "output_type": "stream",
     "text": [
      "Running elastic model with corum transcripts:   7%|▋         | 737/10921 [06:19<1:27:30,  1.94it/s]"
     ]
    },
    {
     "name": "stdout",
     "output_type": "stream",
     "text": [
      "corr: [0.06514], r2: [-0.02921]\n",
      "Doing 737: ATP6V1E2\n"
     ]
    },
    {
     "name": "stderr",
     "output_type": "stream",
     "text": [
      "Running elastic model with corum transcripts:   7%|▋         | 738/10921 [06:19<1:35:42,  1.77it/s]"
     ]
    },
    {
     "name": "stdout",
     "output_type": "stream",
     "text": [
      "corr: [-0.10925], r2: [-0.27282]\n",
      "Doing 738: ATP6V1F\n"
     ]
    },
    {
     "name": "stderr",
     "output_type": "stream",
     "text": [
      "Running elastic model with corum transcripts:   7%|▋         | 739/10921 [06:20<1:36:26,  1.76it/s]"
     ]
    },
    {
     "name": "stdout",
     "output_type": "stream",
     "text": [
      "corr: [0.223], r2: [0.00518]\n",
      "Doing 739: ATP6V1G1\n"
     ]
    },
    {
     "name": "stderr",
     "output_type": "stream",
     "text": [
      "Running elastic model with corum transcripts:   7%|▋         | 740/10921 [06:21<1:35:09,  1.78it/s]"
     ]
    },
    {
     "name": "stdout",
     "output_type": "stream",
     "text": [
      "corr: [-0.18116], r2: [-0.0121]\n",
      "Doing 740: ATP6V1H\n"
     ]
    },
    {
     "name": "stderr",
     "output_type": "stream",
     "text": [
      "Running elastic model with corum transcripts:   7%|▋         | 741/10921 [06:21<1:34:35,  1.79it/s]"
     ]
    },
    {
     "name": "stdout",
     "output_type": "stream",
     "text": [
      "corr: [-0.1485], r2: [-0.09017]\n",
      "Doing 741: ATP7A\n"
     ]
    },
    {
     "name": "stderr",
     "output_type": "stream",
     "text": [
      "Running elastic model with corum transcripts:   7%|▋         | 742/10921 [06:22<1:34:03,  1.80it/s]"
     ]
    },
    {
     "name": "stdout",
     "output_type": "stream",
     "text": [
      "corr: [0.29399], r2: [0.02637]\n",
      "Doing 742: ATP7B\n"
     ]
    },
    {
     "name": "stderr",
     "output_type": "stream",
     "text": [
      "/Applications/venv/CPTAC_Protein/lib/python3.9/site-packages/numpy/lib/function_base.py:2691: RuntimeWarning: invalid value encountered in true_divide\n",
      "  c /= stddev[:, None]\n",
      "/Applications/venv/CPTAC_Protein/lib/python3.9/site-packages/numpy/lib/function_base.py:2692: RuntimeWarning: invalid value encountered in true_divide\n",
      "  c /= stddev[None, :]\n",
      "Running elastic model with corum transcripts:   7%|▋         | 743/10921 [06:22<1:33:29,  1.81it/s]"
     ]
    },
    {
     "name": "stdout",
     "output_type": "stream",
     "text": [
      "corr: [0], r2: [-0.00306]\n",
      "Doing 743: ATP8A1\n"
     ]
    },
    {
     "name": "stderr",
     "output_type": "stream",
     "text": [
      "Running elastic model with corum transcripts:   7%|▋         | 744/10921 [06:23<1:33:08,  1.82it/s]"
     ]
    },
    {
     "name": "stdout",
     "output_type": "stream",
     "text": [
      "corr: [0.51983], r2: [0.03777]\n",
      "Doing 744: ATP8B1\n"
     ]
    },
    {
     "name": "stderr",
     "output_type": "stream",
     "text": [
      "Running elastic model with corum transcripts:   7%|▋         | 745/10921 [06:23<1:32:11,  1.84it/s]"
     ]
    },
    {
     "name": "stdout",
     "output_type": "stream",
     "text": [
      "corr: [0.55357], r2: [0.08031]\n",
      "Doing 745: ATP8B2\n"
     ]
    },
    {
     "name": "stderr",
     "output_type": "stream",
     "text": [
      "/Applications/venv/CPTAC_Protein/lib/python3.9/site-packages/numpy/lib/function_base.py:2691: RuntimeWarning: invalid value encountered in true_divide\n",
      "  c /= stddev[:, None]\n",
      "/Applications/venv/CPTAC_Protein/lib/python3.9/site-packages/numpy/lib/function_base.py:2692: RuntimeWarning: invalid value encountered in true_divide\n",
      "  c /= stddev[None, :]\n",
      "Running elastic model with corum transcripts:   7%|▋         | 746/10921 [06:24<1:32:14,  1.84it/s]"
     ]
    },
    {
     "name": "stdout",
     "output_type": "stream",
     "text": [
      "corr: [0], r2: [-0.00533]\n",
      "Doing 746: ATP9A\n"
     ]
    },
    {
     "name": "stderr",
     "output_type": "stream",
     "text": [
      "Running elastic model with corum transcripts:   7%|▋         | 747/10921 [06:24<1:36:42,  1.75it/s]"
     ]
    },
    {
     "name": "stdout",
     "output_type": "stream",
     "text": [
      "corr: [0.40711], r2: [0.09776]\n",
      "Doing 747: ATP9B\n"
     ]
    },
    {
     "name": "stderr",
     "output_type": "stream",
     "text": [
      "Running elastic model with corum transcripts:   7%|▋         | 748/10921 [06:25<1:32:06,  1.84it/s]"
     ]
    },
    {
     "name": "stdout",
     "output_type": "stream",
     "text": [
      "corr: [0.0615], r2: [-0.02498]\n",
      "Doing 748: ATPAF1\n"
     ]
    },
    {
     "name": "stderr",
     "output_type": "stream",
     "text": [
      "Running elastic model with corum transcripts:   7%|▋         | 749/10921 [06:25<1:28:13,  1.92it/s]"
     ]
    },
    {
     "name": "stdout",
     "output_type": "stream",
     "text": [
      "corr: [0.41828], r2: [0.1139]\n",
      "Doing 749: ATPAF2\n"
     ]
    },
    {
     "name": "stderr",
     "output_type": "stream",
     "text": [
      "Running elastic model with corum transcripts:   7%|▋         | 750/10921 [06:26<1:25:42,  1.98it/s]"
     ]
    },
    {
     "name": "stdout",
     "output_type": "stream",
     "text": [
      "corr: [0.35632], r2: [0.08816]\n",
      "Doing 750: ATPIF1\n"
     ]
    },
    {
     "name": "stderr",
     "output_type": "stream",
     "text": [
      "Running elastic model with corum transcripts:   7%|▋         | 751/10921 [06:26<1:25:48,  1.98it/s]"
     ]
    },
    {
     "name": "stdout",
     "output_type": "stream",
     "text": [
      "corr: [0.50288], r2: [0.19587]\n",
      "Doing 751: ATR\n"
     ]
    },
    {
     "name": "stderr",
     "output_type": "stream",
     "text": [
      "/Applications/venv/CPTAC_Protein/lib/python3.9/site-packages/numpy/lib/function_base.py:2691: RuntimeWarning: invalid value encountered in true_divide\n",
      "  c /= stddev[:, None]\n",
      "/Applications/venv/CPTAC_Protein/lib/python3.9/site-packages/numpy/lib/function_base.py:2692: RuntimeWarning: invalid value encountered in true_divide\n",
      "  c /= stddev[None, :]\n",
      "Running elastic model with corum transcripts:   7%|▋         | 752/10921 [06:27<1:28:21,  1.92it/s]"
     ]
    },
    {
     "name": "stdout",
     "output_type": "stream",
     "text": [
      "corr: [0], r2: [-0.02614]\n",
      "Doing 752: ATRAID\n"
     ]
    },
    {
     "name": "stderr",
     "output_type": "stream",
     "text": [
      "/Applications/venv/CPTAC_Protein/lib/python3.9/site-packages/numpy/lib/function_base.py:2691: RuntimeWarning: invalid value encountered in true_divide\n",
      "  c /= stddev[:, None]\n",
      "/Applications/venv/CPTAC_Protein/lib/python3.9/site-packages/numpy/lib/function_base.py:2692: RuntimeWarning: invalid value encountered in true_divide\n",
      "  c /= stddev[None, :]\n",
      "Running elastic model with corum transcripts:   7%|▋         | 753/10921 [06:27<1:28:37,  1.91it/s]"
     ]
    },
    {
     "name": "stdout",
     "output_type": "stream",
     "text": [
      "corr: [0], r2: [-0.0109]\n",
      "Doing 753: ATRIP\n"
     ]
    },
    {
     "name": "stderr",
     "output_type": "stream",
     "text": [
      "/Applications/venv/CPTAC_Protein/lib/python3.9/site-packages/numpy/lib/function_base.py:2691: RuntimeWarning: invalid value encountered in true_divide\n",
      "  c /= stddev[:, None]\n",
      "/Applications/venv/CPTAC_Protein/lib/python3.9/site-packages/numpy/lib/function_base.py:2692: RuntimeWarning: invalid value encountered in true_divide\n",
      "  c /= stddev[None, :]\n",
      "Running elastic model with corum transcripts:   7%|▋         | 754/10921 [06:28<1:29:22,  1.90it/s]"
     ]
    },
    {
     "name": "stdout",
     "output_type": "stream",
     "text": [
      "corr: [0], r2: [-0.26682]\n",
      "Doing 754: ATRN\n"
     ]
    },
    {
     "name": "stderr",
     "output_type": "stream",
     "text": [
      "Running elastic model with corum transcripts:   7%|▋         | 755/10921 [06:29<1:28:57,  1.90it/s]"
     ]
    },
    {
     "name": "stdout",
     "output_type": "stream",
     "text": [
      "corr: [0.08076], r2: [-0.12846]\n",
      "Doing 755: ATRX\n"
     ]
    },
    {
     "name": "stderr",
     "output_type": "stream",
     "text": [
      "Running elastic model with corum transcripts:   7%|▋         | 756/10921 [06:29<1:35:45,  1.77it/s]"
     ]
    },
    {
     "name": "stdout",
     "output_type": "stream",
     "text": [
      "corr: [0.29353], r2: [0.0703]\n",
      "Doing 756: ATXN1\n"
     ]
    },
    {
     "name": "stderr",
     "output_type": "stream",
     "text": [
      "Running elastic model with corum transcripts:   7%|▋         | 757/10921 [06:30<1:34:40,  1.79it/s]"
     ]
    },
    {
     "name": "stdout",
     "output_type": "stream",
     "text": [
      "corr: [0.4851], r2: [0.20539]\n",
      "Doing 757: ATXN10\n"
     ]
    },
    {
     "name": "stderr",
     "output_type": "stream",
     "text": [
      "Running elastic model with corum transcripts:   7%|▋         | 758/10921 [06:30<1:35:42,  1.77it/s]"
     ]
    },
    {
     "name": "stdout",
     "output_type": "stream",
     "text": [
      "corr: [0.43828], r2: [0.17]\n",
      "Doing 758: ATXN1L\n"
     ]
    },
    {
     "name": "stderr",
     "output_type": "stream",
     "text": [
      "Running elastic model with corum transcripts:   7%|▋         | 759/10921 [06:31<1:35:22,  1.78it/s]"
     ]
    },
    {
     "name": "stdout",
     "output_type": "stream",
     "text": [
      "corr: [0.12103], r2: [-0.03692]\n",
      "Doing 759: ATXN2\n"
     ]
    },
    {
     "name": "stderr",
     "output_type": "stream",
     "text": [
      "Running elastic model with corum transcripts:   7%|▋         | 760/10921 [06:31<1:34:46,  1.79it/s]"
     ]
    },
    {
     "name": "stdout",
     "output_type": "stream",
     "text": [
      "corr: [0.32407], r2: [0.05182]\n",
      "Doing 760: ATXN2L\n"
     ]
    },
    {
     "name": "stderr",
     "output_type": "stream",
     "text": [
      "Running elastic model with corum transcripts:   7%|▋         | 761/10921 [06:32<1:33:59,  1.80it/s]"
     ]
    },
    {
     "name": "stdout",
     "output_type": "stream",
     "text": [
      "corr: [0.33121], r2: [0.10681]\n",
      "Doing 761: ATXN3\n"
     ]
    },
    {
     "name": "stderr",
     "output_type": "stream",
     "text": [
      "Running elastic model with corum transcripts:   7%|▋         | 762/10921 [06:33<1:33:42,  1.81it/s]"
     ]
    },
    {
     "name": "stdout",
     "output_type": "stream",
     "text": [
      "corr: [0.38135], r2: [-0.1072]\n",
      "Doing 762: ATXN7L3B\n"
     ]
    },
    {
     "name": "stderr",
     "output_type": "stream",
     "text": [
      "Running elastic model with corum transcripts:   7%|▋         | 763/10921 [06:33<1:37:42,  1.73it/s]"
     ]
    },
    {
     "name": "stdout",
     "output_type": "stream",
     "text": [
      "corr: [0.31141], r2: [0.0484]\n",
      "Doing 763: AUH\n"
     ]
    },
    {
     "name": "stderr",
     "output_type": "stream",
     "text": [
      "Running elastic model with corum transcripts:   7%|▋         | 764/10921 [06:34<1:32:22,  1.83it/s]"
     ]
    },
    {
     "name": "stdout",
     "output_type": "stream",
     "text": [
      "corr: [0.60133], r2: [0.26946]\n",
      "Doing 764: AUP1\n"
     ]
    },
    {
     "name": "stderr",
     "output_type": "stream",
     "text": [
      "Running elastic model with corum transcripts:   7%|▋         | 765/10921 [06:34<1:30:54,  1.86it/s]"
     ]
    },
    {
     "name": "stdout",
     "output_type": "stream",
     "text": [
      "corr: [0.36473], r2: [-0.0023]\n",
      "Doing 765: AURKA\n"
     ]
    },
    {
     "name": "stderr",
     "output_type": "stream",
     "text": [
      "Running elastic model with corum transcripts:   7%|▋         | 766/10921 [06:35<1:31:16,  1.85it/s]"
     ]
    },
    {
     "name": "stdout",
     "output_type": "stream",
     "text": [
      "corr: [0.62912], r2: [0.10714]\n",
      "Doing 766: AURKB\n"
     ]
    },
    {
     "name": "stderr",
     "output_type": "stream",
     "text": [
      "Running elastic model with corum transcripts:   7%|▋         | 767/10921 [06:35<1:34:26,  1.79it/s]"
     ]
    },
    {
     "name": "stdout",
     "output_type": "stream",
     "text": [
      "corr: [0.5041], r2: [0.11838]\n",
      "Doing 767: AUTS2\n"
     ]
    },
    {
     "name": "stderr",
     "output_type": "stream",
     "text": [
      "Running elastic model with corum transcripts:   7%|▋         | 768/10921 [06:36<1:35:36,  1.77it/s]"
     ]
    },
    {
     "name": "stdout",
     "output_type": "stream",
     "text": [
      "corr: [0.52135], r2: [0.21789]\n",
      "Doing 768: AVEN\n"
     ]
    },
    {
     "name": "stderr",
     "output_type": "stream",
     "text": [
      "Running elastic model with corum transcripts:   7%|▋         | 769/10921 [06:36<1:34:38,  1.79it/s]"
     ]
    },
    {
     "name": "stdout",
     "output_type": "stream",
     "text": [
      "corr: [0.10667], r2: [-0.13651]\n",
      "Doing 769: AVL9\n"
     ]
    },
    {
     "name": "stderr",
     "output_type": "stream",
     "text": [
      "Running elastic model with corum transcripts:   7%|▋         | 770/10921 [06:37<1:32:33,  1.83it/s]"
     ]
    },
    {
     "name": "stdout",
     "output_type": "stream",
     "text": [
      "corr: [0.65061], r2: [0.41793]\n",
      "Doing 770: AXIN1\n"
     ]
    },
    {
     "name": "stderr",
     "output_type": "stream",
     "text": [
      "Running elastic model with corum transcripts:   7%|▋         | 771/10921 [06:38<1:37:34,  1.73it/s]"
     ]
    },
    {
     "name": "stdout",
     "output_type": "stream",
     "text": [
      "corr: [0.01486], r2: [-0.13613]\n",
      "Doing 771: AXL\n"
     ]
    },
    {
     "name": "stderr",
     "output_type": "stream",
     "text": [
      "Running elastic model with corum transcripts:   7%|▋         | 772/10921 [06:38<1:35:24,  1.77it/s]"
     ]
    },
    {
     "name": "stdout",
     "output_type": "stream",
     "text": [
      "corr: [0.00347], r2: [-0.19394]\n",
      "Doing 772: AZGP1\n"
     ]
    },
    {
     "name": "stderr",
     "output_type": "stream",
     "text": [
      "Running elastic model with corum transcripts:   7%|▋         | 773/10921 [06:39<1:35:43,  1.77it/s]"
     ]
    },
    {
     "name": "stdout",
     "output_type": "stream",
     "text": [
      "corr: [0.49754], r2: [0.08804]\n",
      "Doing 773: AZI2\n"
     ]
    },
    {
     "name": "stderr",
     "output_type": "stream",
     "text": [
      "Running elastic model with corum transcripts:   7%|▋         | 774/10921 [06:39<1:47:04,  1.58it/s]"
     ]
    },
    {
     "name": "stdout",
     "output_type": "stream",
     "text": [
      "corr: [0.25354], r2: [-0.09266]\n",
      "Doing 774: AZU1\n"
     ]
    },
    {
     "name": "stderr",
     "output_type": "stream",
     "text": [
      "Running elastic model with corum transcripts:   7%|▋         | 775/10921 [06:40<1:42:29,  1.65it/s]"
     ]
    },
    {
     "name": "stdout",
     "output_type": "stream",
     "text": [
      "corr: [0.07365], r2: [-0.42537]\n",
      "Doing 775: B2M\n"
     ]
    },
    {
     "name": "stderr",
     "output_type": "stream",
     "text": [
      "Running elastic model with corum transcripts:   7%|▋         | 776/10921 [06:41<1:39:50,  1.69it/s]"
     ]
    },
    {
     "name": "stdout",
     "output_type": "stream",
     "text": [
      "corr: [0.20507], r2: [0.02576]\n",
      "Doing 776: B3GALNT1\n"
     ]
    },
    {
     "name": "stderr",
     "output_type": "stream",
     "text": [
      "Running elastic model with corum transcripts:   7%|▋         | 777/10921 [06:41<1:37:37,  1.73it/s]"
     ]
    },
    {
     "name": "stdout",
     "output_type": "stream",
     "text": [
      "corr: [0.53402], r2: [0.26497]\n",
      "Doing 777: B3GALT6\n"
     ]
    },
    {
     "name": "stderr",
     "output_type": "stream",
     "text": [
      "Running elastic model with corum transcripts:   7%|▋         | 778/10921 [06:42<1:36:04,  1.76it/s]"
     ]
    },
    {
     "name": "stdout",
     "output_type": "stream",
     "text": [
      "corr: [0.49798], r2: [0.21428]\n",
      "Doing 778: B3GAT3\n"
     ]
    },
    {
     "name": "stderr",
     "output_type": "stream",
     "text": [
      "Running elastic model with corum transcripts:   7%|▋         | 779/10921 [06:42<1:34:14,  1.79it/s]"
     ]
    },
    {
     "name": "stdout",
     "output_type": "stream",
     "text": [
      "corr: [0.53806], r2: [0.12193]\n",
      "Doing 779: B3GNT2\n"
     ]
    },
    {
     "name": "stderr",
     "output_type": "stream",
     "text": [
      "Running elastic model with corum transcripts:   7%|▋         | 780/10921 [06:43<1:33:31,  1.81it/s]"
     ]
    },
    {
     "name": "stdout",
     "output_type": "stream",
     "text": [
      "corr: [0.10476], r2: [0.00751]\n",
      "Doing 780: B3GNT3\n"
     ]
    },
    {
     "name": "stderr",
     "output_type": "stream",
     "text": [
      "Running elastic model with corum transcripts:   7%|▋         | 781/10921 [06:43<1:33:02,  1.82it/s]"
     ]
    },
    {
     "name": "stdout",
     "output_type": "stream",
     "text": [
      "corr: [0.61602], r2: [0.19231]\n",
      "Doing 781: B3GNT9\n"
     ]
    },
    {
     "name": "stderr",
     "output_type": "stream",
     "text": [
      "/Applications/venv/CPTAC_Protein/lib/python3.9/site-packages/numpy/lib/function_base.py:2691: RuntimeWarning: invalid value encountered in true_divide\n",
      "  c /= stddev[:, None]\n",
      "/Applications/venv/CPTAC_Protein/lib/python3.9/site-packages/numpy/lib/function_base.py:2692: RuntimeWarning: invalid value encountered in true_divide\n",
      "  c /= stddev[None, :]\n",
      "Running elastic model with corum transcripts:   7%|▋         | 782/10921 [06:44<1:36:13,  1.76it/s]"
     ]
    },
    {
     "name": "stdout",
     "output_type": "stream",
     "text": [
      "corr: [0], r2: [-0.01395]\n",
      "Doing 782: B4GALT1\n"
     ]
    },
    {
     "name": "stderr",
     "output_type": "stream",
     "text": [
      "Running elastic model with corum transcripts:   7%|▋         | 783/10921 [06:44<1:31:49,  1.84it/s]"
     ]
    },
    {
     "name": "stdout",
     "output_type": "stream",
     "text": [
      "corr: [0.73954], r2: [0.53426]\n",
      "Doing 783: B4GALT3\n"
     ]
    },
    {
     "name": "stderr",
     "output_type": "stream",
     "text": [
      "Running elastic model with corum transcripts:   7%|▋         | 784/10921 [06:45<1:28:26,  1.91it/s]"
     ]
    },
    {
     "name": "stdout",
     "output_type": "stream",
     "text": [
      "corr: [0.12556], r2: [-0.01099]\n",
      "Doing 784: B4GALT4\n"
     ]
    },
    {
     "name": "stderr",
     "output_type": "stream",
     "text": [
      "Running elastic model with corum transcripts:   7%|▋         | 785/10921 [06:45<1:25:34,  1.97it/s]"
     ]
    },
    {
     "name": "stdout",
     "output_type": "stream",
     "text": [
      "corr: [0.11391], r2: [-0.09291]\n",
      "Doing 785: B4GALT5\n"
     ]
    },
    {
     "name": "stderr",
     "output_type": "stream",
     "text": [
      "Running elastic model with corum transcripts:   7%|▋         | 786/10921 [06:46<1:26:38,  1.95it/s]"
     ]
    },
    {
     "name": "stdout",
     "output_type": "stream",
     "text": [
      "corr: [-0.21145], r2: [-0.21208]\n",
      "Doing 786: B4GALT7\n"
     ]
    },
    {
     "name": "stderr",
     "output_type": "stream",
     "text": [
      "Running elastic model with corum transcripts:   7%|▋         | 787/10921 [06:46<1:27:45,  1.92it/s]"
     ]
    },
    {
     "name": "stdout",
     "output_type": "stream",
     "text": [
      "corr: [-0.19844], r2: [-0.15733]\n",
      "Doing 787: B9D1\n"
     ]
    },
    {
     "name": "stderr",
     "output_type": "stream",
     "text": [
      "Running elastic model with corum transcripts:   7%|▋         | 788/10921 [06:47<1:27:33,  1.93it/s]"
     ]
    },
    {
     "name": "stdout",
     "output_type": "stream",
     "text": [
      "corr: [0.07237], r2: [-0.02436]\n",
      "Doing 788: BABAM1\n"
     ]
    },
    {
     "name": "stderr",
     "output_type": "stream",
     "text": [
      "Running elastic model with corum transcripts:   7%|▋         | 789/10921 [06:48<1:34:51,  1.78it/s]"
     ]
    },
    {
     "name": "stdout",
     "output_type": "stream",
     "text": [
      "corr: [0.13072], r2: [-0.3119]\n",
      "Doing 789: BACE2\n"
     ]
    },
    {
     "name": "stderr",
     "output_type": "stream",
     "text": [
      "Running elastic model with corum transcripts:   7%|▋         | 790/10921 [06:48<1:34:05,  1.79it/s]"
     ]
    },
    {
     "name": "stdout",
     "output_type": "stream",
     "text": [
      "corr: [0], r2: [-0.12142]\n",
      "Doing 790: BACH1\n"
     ]
    },
    {
     "name": "stderr",
     "output_type": "stream",
     "text": [
      "Running elastic model with corum transcripts:   7%|▋         | 791/10921 [06:49<1:37:55,  1.72it/s]"
     ]
    },
    {
     "name": "stdout",
     "output_type": "stream",
     "text": [
      "corr: [0.41069], r2: [0.11875]\n",
      "Doing 791: BAD\n"
     ]
    },
    {
     "name": "stderr",
     "output_type": "stream",
     "text": [
      "Running elastic model with corum transcripts:   7%|▋         | 792/10921 [06:49<1:37:33,  1.73it/s]"
     ]
    },
    {
     "name": "stdout",
     "output_type": "stream",
     "text": [
      "corr: [0.12781], r2: [-0.02152]\n",
      "Doing 792: BAG1\n"
     ]
    },
    {
     "name": "stderr",
     "output_type": "stream",
     "text": [
      "Running elastic model with corum transcripts:   7%|▋         | 793/10921 [06:50<1:37:29,  1.73it/s]"
     ]
    },
    {
     "name": "stdout",
     "output_type": "stream",
     "text": [
      "corr: [0.4239], r2: [0.10854]\n",
      "Doing 793: BAG2\n"
     ]
    },
    {
     "name": "stderr",
     "output_type": "stream",
     "text": [
      "Running elastic model with corum transcripts:   7%|▋         | 794/10921 [06:50<1:35:21,  1.77it/s]"
     ]
    },
    {
     "name": "stdout",
     "output_type": "stream",
     "text": [
      "corr: [0.27001], r2: [0.06344]\n",
      "Doing 794: BAG3\n"
     ]
    },
    {
     "name": "stderr",
     "output_type": "stream",
     "text": [
      "Running elastic model with corum transcripts:   7%|▋         | 795/10921 [06:51<1:36:02,  1.76it/s]"
     ]
    },
    {
     "name": "stdout",
     "output_type": "stream",
     "text": [
      "corr: [0.35093], r2: [-0.13612]\n",
      "Doing 795: BAG4\n"
     ]
    },
    {
     "name": "stderr",
     "output_type": "stream",
     "text": [
      "Running elastic model with corum transcripts:   7%|▋         | 796/10921 [06:52<1:34:51,  1.78it/s]"
     ]
    },
    {
     "name": "stdout",
     "output_type": "stream",
     "text": [
      "corr: [0.74869], r2: [0.42932]\n",
      "Doing 796: BAG5\n"
     ]
    },
    {
     "name": "stderr",
     "output_type": "stream",
     "text": [
      "Running elastic model with corum transcripts:   7%|▋         | 797/10921 [06:52<1:40:37,  1.68it/s]"
     ]
    },
    {
     "name": "stdout",
     "output_type": "stream",
     "text": [
      "corr: [0.61379], r2: [0.25412]\n",
      "Doing 797: BAG6\n"
     ]
    },
    {
     "name": "stderr",
     "output_type": "stream",
     "text": [
      "Running elastic model with corum transcripts:   7%|▋         | 798/10921 [06:53<1:39:36,  1.69it/s]"
     ]
    },
    {
     "name": "stdout",
     "output_type": "stream",
     "text": [
      "corr: [0.48926], r2: [0.01072]\n",
      "Doing 798: BAIAP2\n"
     ]
    },
    {
     "name": "stderr",
     "output_type": "stream",
     "text": [
      "Running elastic model with corum transcripts:   7%|▋         | 799/10921 [06:53<1:36:39,  1.75it/s]"
     ]
    },
    {
     "name": "stdout",
     "output_type": "stream",
     "text": [
      "corr: [0.72386], r2: [0.44918]\n",
      "Doing 799: BAIAP2L1\n"
     ]
    },
    {
     "name": "stderr",
     "output_type": "stream",
     "text": [
      "Running elastic model with corum transcripts:   7%|▋         | 800/10921 [06:54<1:34:12,  1.79it/s]"
     ]
    },
    {
     "name": "stdout",
     "output_type": "stream",
     "text": [
      "corr: [0.58171], r2: [0.01887]\n",
      "Doing 800: BAK1\n"
     ]
    },
    {
     "name": "stderr",
     "output_type": "stream",
     "text": [
      "Running elastic model with corum transcripts:   7%|▋         | 801/10921 [06:54<1:33:56,  1.80it/s]"
     ]
    },
    {
     "name": "stdout",
     "output_type": "stream",
     "text": [
      "corr: [0.33632], r2: [0.06242]\n",
      "Doing 801: BANF1\n"
     ]
    },
    {
     "name": "stderr",
     "output_type": "stream",
     "text": [
      "/Applications/venv/CPTAC_Protein/lib/python3.9/site-packages/numpy/lib/function_base.py:2691: RuntimeWarning: invalid value encountered in true_divide\n",
      "  c /= stddev[:, None]\n",
      "/Applications/venv/CPTAC_Protein/lib/python3.9/site-packages/numpy/lib/function_base.py:2692: RuntimeWarning: invalid value encountered in true_divide\n",
      "  c /= stddev[None, :]\n",
      "Running elastic model with corum transcripts:   7%|▋         | 802/10921 [06:55<1:38:51,  1.71it/s]"
     ]
    },
    {
     "name": "stdout",
     "output_type": "stream",
     "text": [
      "corr: [0], r2: [-0.06905]\n",
      "Doing 802: BANK1\n",
      "Not enough proteomics observations. Skipping protein.\n",
      "Doing 803: BANP\n"
     ]
    },
    {
     "name": "stderr",
     "output_type": "stream",
     "text": [
      "Running elastic model with corum transcripts:   7%|▋         | 804/10921 [06:56<1:16:21,  2.21it/s]"
     ]
    },
    {
     "name": "stdout",
     "output_type": "stream",
     "text": [
      "corr: [-0.00437], r2: [-0.15528]\n",
      "Doing 804: BAP1\n"
     ]
    },
    {
     "name": "stderr",
     "output_type": "stream",
     "text": [
      "Running elastic model with corum transcripts:   7%|▋         | 805/10921 [06:56<1:20:45,  2.09it/s]"
     ]
    },
    {
     "name": "stdout",
     "output_type": "stream",
     "text": [
      "corr: [0.31704], r2: [0.05685]\n",
      "Doing 805: BASP1\n"
     ]
    },
    {
     "name": "stderr",
     "output_type": "stream",
     "text": [
      "Running elastic model with corum transcripts:   7%|▋         | 806/10921 [06:57<1:33:54,  1.80it/s]"
     ]
    },
    {
     "name": "stdout",
     "output_type": "stream",
     "text": [
      "corr: [0.48889], r2: [0.19492]\n",
      "Doing 806: BAX\n"
     ]
    },
    {
     "name": "stderr",
     "output_type": "stream",
     "text": [
      "Running elastic model with corum transcripts:   7%|▋         | 807/10921 [06:58<1:35:48,  1.76it/s]"
     ]
    },
    {
     "name": "stdout",
     "output_type": "stream",
     "text": [
      "corr: [0.21699], r2: [0.04063]\n",
      "Doing 807: BAZ1A\n"
     ]
    },
    {
     "name": "stderr",
     "output_type": "stream",
     "text": [
      "Running elastic model with corum transcripts:   7%|▋         | 808/10921 [06:58<1:40:20,  1.68it/s]"
     ]
    },
    {
     "name": "stdout",
     "output_type": "stream",
     "text": [
      "corr: [0.62055], r2: [0.16099]\n",
      "Doing 808: BAZ1B\n"
     ]
    },
    {
     "name": "stderr",
     "output_type": "stream",
     "text": [
      "Running elastic model with corum transcripts:   7%|▋         | 809/10921 [06:59<1:40:42,  1.67it/s]"
     ]
    },
    {
     "name": "stdout",
     "output_type": "stream",
     "text": [
      "corr: [0.50977], r2: [0.16042]\n",
      "Doing 809: BAZ2A\n"
     ]
    },
    {
     "name": "stderr",
     "output_type": "stream",
     "text": [
      "Running elastic model with corum transcripts:   7%|▋         | 810/10921 [06:59<1:37:58,  1.72it/s]"
     ]
    },
    {
     "name": "stdout",
     "output_type": "stream",
     "text": [
      "corr: [0.03942], r2: [-0.00373]\n",
      "Doing 810: BAZ2B\n"
     ]
    },
    {
     "name": "stderr",
     "output_type": "stream",
     "text": [
      "/Applications/venv/CPTAC_Protein/lib/python3.9/site-packages/numpy/lib/function_base.py:2691: RuntimeWarning: invalid value encountered in true_divide\n",
      "  c /= stddev[:, None]\n",
      "/Applications/venv/CPTAC_Protein/lib/python3.9/site-packages/numpy/lib/function_base.py:2692: RuntimeWarning: invalid value encountered in true_divide\n",
      "  c /= stddev[None, :]\n",
      "Running elastic model with corum transcripts:   7%|▋         | 811/10921 [07:00<1:35:03,  1.77it/s]"
     ]
    },
    {
     "name": "stdout",
     "output_type": "stream",
     "text": [
      "corr: [0], r2: [-0.00032]\n",
      "Doing 811: BBOX1\n"
     ]
    },
    {
     "name": "stderr",
     "output_type": "stream",
     "text": [
      "Running elastic model with corum transcripts:   7%|▋         | 812/10921 [07:00<1:33:33,  1.80it/s]"
     ]
    },
    {
     "name": "stdout",
     "output_type": "stream",
     "text": [
      "corr: [0.69115], r2: [0.37983]\n",
      "Doing 812: BBS1\n"
     ]
    },
    {
     "name": "stderr",
     "output_type": "stream",
     "text": [
      "Running elastic model with corum transcripts:   7%|▋         | 813/10921 [07:01<1:35:12,  1.77it/s]"
     ]
    },
    {
     "name": "stdout",
     "output_type": "stream",
     "text": [
      "corr: [0.57615], r2: [0.04958]\n",
      "Doing 813: BBS2\n"
     ]
    },
    {
     "name": "stderr",
     "output_type": "stream",
     "text": [
      "Running elastic model with corum transcripts:   7%|▋         | 814/10921 [07:02<1:40:58,  1.67it/s]"
     ]
    },
    {
     "name": "stdout",
     "output_type": "stream",
     "text": [
      "corr: [0.40567], r2: [0.15994]\n",
      "Doing 814: BBS7\n"
     ]
    },
    {
     "name": "stderr",
     "output_type": "stream",
     "text": [
      "Running elastic model with corum transcripts:   7%|▋         | 815/10921 [07:02<1:42:47,  1.64it/s]"
     ]
    },
    {
     "name": "stdout",
     "output_type": "stream",
     "text": [
      "corr: [0.38704], r2: [0.00457]\n",
      "Doing 815: BBS9\n"
     ]
    },
    {
     "name": "stderr",
     "output_type": "stream",
     "text": [
      "Running elastic model with corum transcripts:   7%|▋         | 816/10921 [07:03<1:41:44,  1.66it/s]"
     ]
    },
    {
     "name": "stdout",
     "output_type": "stream",
     "text": [
      "corr: [0.24584], r2: [0.00334]\n",
      "Doing 816: BBX\n"
     ]
    },
    {
     "name": "stderr",
     "output_type": "stream",
     "text": [
      "Running elastic model with corum transcripts:   7%|▋         | 817/10921 [07:04<1:37:51,  1.72it/s]"
     ]
    },
    {
     "name": "stdout",
     "output_type": "stream",
     "text": [
      "corr: [0.43279], r2: [0.15589]\n",
      "Doing 817: BCAM\n"
     ]
    },
    {
     "name": "stderr",
     "output_type": "stream",
     "text": [
      "Running elastic model with corum transcripts:   7%|▋         | 818/10921 [07:04<1:35:06,  1.77it/s]"
     ]
    },
    {
     "name": "stdout",
     "output_type": "stream",
     "text": [
      "corr: [0.533], r2: [0.17476]\n",
      "Doing 818: BCAP29\n"
     ]
    },
    {
     "name": "stderr",
     "output_type": "stream",
     "text": [
      "Running elastic model with corum transcripts:   7%|▋         | 819/10921 [07:05<1:34:01,  1.79it/s]"
     ]
    },
    {
     "name": "stdout",
     "output_type": "stream",
     "text": [
      "corr: [0.03403], r2: [-0.16253]\n",
      "Doing 819: BCAP31\n"
     ]
    },
    {
     "name": "stderr",
     "output_type": "stream",
     "text": [
      "Running elastic model with corum transcripts:   8%|▊         | 820/10921 [07:05<1:34:23,  1.78it/s]"
     ]
    },
    {
     "name": "stdout",
     "output_type": "stream",
     "text": [
      "corr: [0.39953], r2: [0.03171]\n",
      "Doing 820: BCAR1\n"
     ]
    },
    {
     "name": "stderr",
     "output_type": "stream",
     "text": [
      "Running elastic model with corum transcripts:   8%|▊         | 821/10921 [07:06<1:44:20,  1.61it/s]"
     ]
    },
    {
     "name": "stdout",
     "output_type": "stream",
     "text": [
      "corr: [0.07834], r2: [-0.62131]\n",
      "Doing 821: BCAR3\n"
     ]
    },
    {
     "name": "stderr",
     "output_type": "stream",
     "text": [
      "Running elastic model with corum transcripts:   8%|▊         | 822/10921 [07:07<1:46:25,  1.58it/s]"
     ]
    },
    {
     "name": "stdout",
     "output_type": "stream",
     "text": [
      "corr: [0.57593], r2: [0.14804]\n",
      "Doing 822: BCAS2\n"
     ]
    },
    {
     "name": "stderr",
     "output_type": "stream",
     "text": [
      "Running elastic model with corum transcripts:   8%|▊         | 823/10921 [07:09<3:30:31,  1.25s/it]"
     ]
    },
    {
     "name": "stdout",
     "output_type": "stream",
     "text": [
      "corr: [0.067], r2: [-0.0081]\n",
      "Doing 823: BCAS3\n"
     ]
    },
    {
     "name": "stderr",
     "output_type": "stream",
     "text": [
      "Running elastic model with corum transcripts:   8%|▊         | 824/10921 [07:10<2:53:45,  1.03s/it]"
     ]
    },
    {
     "name": "stdout",
     "output_type": "stream",
     "text": [
      "corr: [0.46832], r2: [0.19314]\n",
      "Doing 824: BCAS4\n"
     ]
    },
    {
     "name": "stderr",
     "output_type": "stream",
     "text": [
      "Running elastic model with corum transcripts:   8%|▊         | 825/10921 [07:10<2:28:48,  1.13it/s]"
     ]
    },
    {
     "name": "stdout",
     "output_type": "stream",
     "text": [
      "corr: [0.21634], r2: [-0.23236]\n",
      "Doing 825: BCAT1\n"
     ]
    },
    {
     "name": "stderr",
     "output_type": "stream",
     "text": [
      "Running elastic model with corum transcripts:   8%|▊         | 826/10921 [07:11<2:11:57,  1.28it/s]"
     ]
    },
    {
     "name": "stdout",
     "output_type": "stream",
     "text": [
      "corr: [0.52426], r2: [-0.7109]\n",
      "Doing 826: BCAT2\n"
     ]
    },
    {
     "name": "stderr",
     "output_type": "stream",
     "text": [
      "Running elastic model with corum transcripts:   8%|▊         | 827/10921 [07:11<1:59:53,  1.40it/s]"
     ]
    },
    {
     "name": "stdout",
     "output_type": "stream",
     "text": [
      "corr: [0.46917], r2: [0.20845]\n",
      "Doing 827: BCCIP\n"
     ]
    },
    {
     "name": "stderr",
     "output_type": "stream",
     "text": [
      "/Applications/venv/CPTAC_Protein/lib/python3.9/site-packages/numpy/lib/function_base.py:2691: RuntimeWarning: invalid value encountered in true_divide\n",
      "  c /= stddev[:, None]\n",
      "/Applications/venv/CPTAC_Protein/lib/python3.9/site-packages/numpy/lib/function_base.py:2692: RuntimeWarning: invalid value encountered in true_divide\n",
      "  c /= stddev[None, :]\n",
      "Running elastic model with corum transcripts:   8%|▊         | 828/10921 [07:12<1:56:36,  1.44it/s]"
     ]
    },
    {
     "name": "stdout",
     "output_type": "stream",
     "text": [
      "corr: [0], r2: [-0.07136]\n",
      "Doing 828: BCHE\n"
     ]
    },
    {
     "name": "stderr",
     "output_type": "stream",
     "text": [
      "Running elastic model with corum transcripts:   8%|▊         | 829/10921 [07:13<1:49:41,  1.53it/s]"
     ]
    },
    {
     "name": "stdout",
     "output_type": "stream",
     "text": [
      "corr: [0.50707], r2: [0.12184]\n",
      "Doing 829: BCKDHA\n"
     ]
    },
    {
     "name": "stderr",
     "output_type": "stream",
     "text": [
      "Running elastic model with corum transcripts:   8%|▊         | 830/10921 [07:13<1:44:01,  1.62it/s]"
     ]
    },
    {
     "name": "stdout",
     "output_type": "stream",
     "text": [
      "corr: [0.52196], r2: [0.0355]\n",
      "Doing 830: BCKDHB\n"
     ]
    },
    {
     "name": "stderr",
     "output_type": "stream",
     "text": [
      "Running elastic model with corum transcripts:   8%|▊         | 831/10921 [07:14<1:44:11,  1.61it/s]"
     ]
    },
    {
     "name": "stdout",
     "output_type": "stream",
     "text": [
      "corr: [0.65211], r2: [0.25827]\n",
      "Doing 831: BCKDK\n"
     ]
    },
    {
     "name": "stderr",
     "output_type": "stream",
     "text": [
      "Running elastic model with corum transcripts:   8%|▊         | 832/10921 [07:14<1:38:24,  1.71it/s]"
     ]
    },
    {
     "name": "stdout",
     "output_type": "stream",
     "text": [
      "corr: [-0.01163], r2: [-0.72024]\n",
      "Doing 832: BCL10\n"
     ]
    },
    {
     "name": "stderr",
     "output_type": "stream",
     "text": [
      "Running elastic model with corum transcripts:   8%|▊         | 833/10921 [07:15<1:38:31,  1.71it/s]"
     ]
    },
    {
     "name": "stdout",
     "output_type": "stream",
     "text": [
      "corr: [0.30948], r2: [0.0535]\n",
      "Doing 833: BCL11A\n"
     ]
    },
    {
     "name": "stderr",
     "output_type": "stream",
     "text": [
      "Running elastic model with corum transcripts:   8%|▊         | 834/10921 [07:15<1:34:13,  1.78it/s]"
     ]
    },
    {
     "name": "stdout",
     "output_type": "stream",
     "text": [
      "corr: [0.44449], r2: [-0.47365]\n",
      "Doing 834: BCL2\n"
     ]
    },
    {
     "name": "stderr",
     "output_type": "stream",
     "text": [
      "Running elastic model with corum transcripts:   8%|▊         | 835/10921 [07:16<1:31:48,  1.83it/s]"
     ]
    },
    {
     "name": "stdout",
     "output_type": "stream",
     "text": [
      "corr: [0.6123], r2: [0.15791]\n",
      "Doing 835: BCL2L1\n"
     ]
    },
    {
     "name": "stderr",
     "output_type": "stream",
     "text": [
      "Running elastic model with corum transcripts:   8%|▊         | 836/10921 [07:16<1:28:35,  1.90it/s]"
     ]
    },
    {
     "name": "stdout",
     "output_type": "stream",
     "text": [
      "corr: [0.59376], r2: [0.34231]\n",
      "Doing 836: BCL2L11\n"
     ]
    },
    {
     "name": "stderr",
     "output_type": "stream",
     "text": [
      "Running elastic model with corum transcripts:   8%|▊         | 837/10921 [07:17<1:27:57,  1.91it/s]"
     ]
    },
    {
     "name": "stdout",
     "output_type": "stream",
     "text": [
      "corr: [0.50928], r2: [0.10809]\n",
      "Doing 837: BCL2L12\n"
     ]
    },
    {
     "name": "stderr",
     "output_type": "stream",
     "text": [
      "Running elastic model with corum transcripts:   8%|▊         | 838/10921 [07:17<1:27:54,  1.91it/s]"
     ]
    },
    {
     "name": "stdout",
     "output_type": "stream",
     "text": [
      "corr: [0.35378], r2: [-0.0079]\n",
      "Doing 838: BCL2L13\n"
     ]
    },
    {
     "name": "stderr",
     "output_type": "stream",
     "text": [
      "Running elastic model with corum transcripts:   8%|▊         | 839/10921 [07:18<1:28:38,  1.90it/s]"
     ]
    },
    {
     "name": "stdout",
     "output_type": "stream",
     "text": [
      "corr: [0.61336], r2: [0.31455]\n",
      "Doing 839: BCL2L14\n",
      "Not enough proteomics observations. Skipping protein.\n",
      "Doing 840: BCL2L15\n"
     ]
    },
    {
     "name": "stderr",
     "output_type": "stream",
     "text": [
      "Running elastic model with corum transcripts:   8%|▊         | 841/10921 [07:19<1:14:28,  2.26it/s]"
     ]
    },
    {
     "name": "stdout",
     "output_type": "stream",
     "text": [
      "corr: [0.37919], r2: [0.08205]\n",
      "Doing 841: BCL2L2-PABPN1\n"
     ]
    },
    {
     "name": "stderr",
     "output_type": "stream",
     "text": [
      "Running elastic model with corum transcripts:   8%|▊         | 842/10921 [07:19<1:17:59,  2.15it/s]"
     ]
    },
    {
     "name": "stdout",
     "output_type": "stream",
     "text": [
      "corr: [0.21947], r2: [-0.03297]\n",
      "Doing 842: BCL3\n"
     ]
    },
    {
     "name": "stderr",
     "output_type": "stream",
     "text": [
      "Running elastic model with corum transcripts:   8%|▊         | 843/10921 [07:20<1:23:22,  2.01it/s]"
     ]
    },
    {
     "name": "stdout",
     "output_type": "stream",
     "text": [
      "corr: [0.63371], r2: [0.18775]\n",
      "Doing 843: BCL6\n"
     ]
    },
    {
     "name": "stderr",
     "output_type": "stream",
     "text": [
      "Running elastic model with corum transcripts:   8%|▊         | 844/10921 [07:20<1:29:03,  1.89it/s]"
     ]
    },
    {
     "name": "stdout",
     "output_type": "stream",
     "text": [
      "corr: [-0.05017], r2: [-0.14845]\n",
      "Doing 844: BCL7A\n"
     ]
    },
    {
     "name": "stderr",
     "output_type": "stream",
     "text": [
      "Running elastic model with corum transcripts:   8%|▊         | 845/10921 [07:21<1:30:21,  1.86it/s]"
     ]
    },
    {
     "name": "stdout",
     "output_type": "stream",
     "text": [
      "corr: [0.17314], r2: [-0.25706]\n",
      "Doing 845: BCL7B\n"
     ]
    },
    {
     "name": "stderr",
     "output_type": "stream",
     "text": [
      "Running elastic model with corum transcripts:   8%|▊         | 846/10921 [07:21<1:31:37,  1.83it/s]"
     ]
    },
    {
     "name": "stdout",
     "output_type": "stream",
     "text": [
      "corr: [0.37284], r2: [0.07462]\n",
      "Doing 846: BCL7C\n"
     ]
    },
    {
     "name": "stderr",
     "output_type": "stream",
     "text": [
      "/Applications/venv/CPTAC_Protein/lib/python3.9/site-packages/numpy/lib/function_base.py:2691: RuntimeWarning: invalid value encountered in true_divide\n",
      "  c /= stddev[:, None]\n",
      "/Applications/venv/CPTAC_Protein/lib/python3.9/site-packages/numpy/lib/function_base.py:2692: RuntimeWarning: invalid value encountered in true_divide\n",
      "  c /= stddev[None, :]\n",
      "Running elastic model with corum transcripts:   8%|▊         | 847/10921 [07:22<1:31:11,  1.84it/s]"
     ]
    },
    {
     "name": "stdout",
     "output_type": "stream",
     "text": [
      "corr: [0], r2: [-0.0138]\n",
      "Doing 847: BCL9\n"
     ]
    },
    {
     "name": "stderr",
     "output_type": "stream",
     "text": [
      "Running elastic model with corum transcripts:   8%|▊         | 848/10921 [07:23<1:31:14,  1.84it/s]"
     ]
    },
    {
     "name": "stdout",
     "output_type": "stream",
     "text": [
      "corr: [0.40141], r2: [0.06113]\n",
      "Doing 848: BCL9L\n"
     ]
    },
    {
     "name": "stderr",
     "output_type": "stream",
     "text": [
      "Running elastic model with corum transcripts:   8%|▊         | 849/10921 [07:23<1:31:01,  1.84it/s]"
     ]
    },
    {
     "name": "stdout",
     "output_type": "stream",
     "text": [
      "corr: [0.28152], r2: [0.06926]\n",
      "Doing 849: BCLAF1\n"
     ]
    },
    {
     "name": "stderr",
     "output_type": "stream",
     "text": [
      "Running elastic model with corum transcripts:   8%|▊         | 850/10921 [07:24<1:31:39,  1.83it/s]"
     ]
    },
    {
     "name": "stdout",
     "output_type": "stream",
     "text": [
      "corr: [-0.08979], r2: [-0.02479]\n",
      "Doing 850: BCOR\n"
     ]
    },
    {
     "name": "stderr",
     "output_type": "stream",
     "text": [
      "Running elastic model with corum transcripts:   8%|▊         | 851/10921 [07:24<1:39:04,  1.69it/s]"
     ]
    },
    {
     "name": "stdout",
     "output_type": "stream",
     "text": [
      "corr: [0.30823], r2: [0.03843]\n",
      "Doing 851: BCR\n"
     ]
    },
    {
     "name": "stderr",
     "output_type": "stream",
     "text": [
      "Running elastic model with corum transcripts:   8%|▊         | 852/10921 [07:25<1:35:28,  1.76it/s]"
     ]
    },
    {
     "name": "stdout",
     "output_type": "stream",
     "text": [
      "corr: [0.613], r2: [0.15817]\n",
      "Doing 852: BCS1L\n"
     ]
    },
    {
     "name": "stderr",
     "output_type": "stream",
     "text": [
      "Running elastic model with corum transcripts:   8%|▊         | 853/10921 [07:25<1:33:56,  1.79it/s]"
     ]
    },
    {
     "name": "stdout",
     "output_type": "stream",
     "text": [
      "corr: [0.16785], r2: [0.02614]\n",
      "Doing 853: BDH1\n"
     ]
    },
    {
     "name": "stderr",
     "output_type": "stream",
     "text": [
      "Running elastic model with corum transcripts:   8%|▊         | 854/10921 [07:26<1:31:52,  1.83it/s]"
     ]
    },
    {
     "name": "stdout",
     "output_type": "stream",
     "text": [
      "corr: [0.50597], r2: [0.22552]\n",
      "Doing 854: BDH2\n"
     ]
    },
    {
     "name": "stderr",
     "output_type": "stream",
     "text": [
      "Running elastic model with corum transcripts:   8%|▊         | 855/10921 [07:26<1:30:41,  1.85it/s]"
     ]
    },
    {
     "name": "stdout",
     "output_type": "stream",
     "text": [
      "corr: [0.37179], r2: [0.10346]\n",
      "Doing 855: BECN1\n"
     ]
    },
    {
     "name": "stderr",
     "output_type": "stream",
     "text": [
      "Running elastic model with corum transcripts:   8%|▊         | 856/10921 [07:27<1:31:37,  1.83it/s]"
     ]
    },
    {
     "name": "stdout",
     "output_type": "stream",
     "text": [
      "corr: [0.13568], r2: [-0.11947]\n",
      "Doing 856: BEND3\n"
     ]
    },
    {
     "name": "stderr",
     "output_type": "stream",
     "text": [
      "Running elastic model with corum transcripts:   8%|▊         | 857/10921 [07:28<1:30:48,  1.85it/s]"
     ]
    },
    {
     "name": "stdout",
     "output_type": "stream",
     "text": [
      "corr: [0.6553], r2: [0.40859]\n",
      "Doing 857: BEND7\n"
     ]
    },
    {
     "name": "stderr",
     "output_type": "stream",
     "text": [
      "Running elastic model with corum transcripts:   8%|▊         | 858/10921 [07:28<1:29:47,  1.87it/s]"
     ]
    },
    {
     "name": "stdout",
     "output_type": "stream",
     "text": [
      "corr: [-0.35829], r2: [-0.06332]\n",
      "Doing 858: BET1\n"
     ]
    },
    {
     "name": "stderr",
     "output_type": "stream",
     "text": [
      "Running elastic model with corum transcripts:   8%|▊         | 859/10921 [07:29<1:29:27,  1.87it/s]"
     ]
    },
    {
     "name": "stdout",
     "output_type": "stream",
     "text": [
      "corr: [0.3568], r2: [0.12628]\n",
      "Doing 859: BET1L\n"
     ]
    },
    {
     "name": "stderr",
     "output_type": "stream",
     "text": [
      "Running elastic model with corum transcripts:   8%|▊         | 860/10921 [07:29<1:29:42,  1.87it/s]"
     ]
    },
    {
     "name": "stdout",
     "output_type": "stream",
     "text": [
      "corr: [0.29789], r2: [0.03142]\n",
      "Doing 860: BGN\n"
     ]
    },
    {
     "name": "stderr",
     "output_type": "stream",
     "text": [
      "Running elastic model with corum transcripts:   8%|▊         | 861/10921 [07:30<1:36:20,  1.74it/s]"
     ]
    },
    {
     "name": "stdout",
     "output_type": "stream",
     "text": [
      "corr: [0.47547], r2: [0.11286]\n",
      "Doing 861: BHLHE41\n"
     ]
    },
    {
     "name": "stderr",
     "output_type": "stream",
     "text": [
      "Running elastic model with corum transcripts:   8%|▊         | 862/10921 [07:30<1:34:28,  1.77it/s]"
     ]
    },
    {
     "name": "stdout",
     "output_type": "stream",
     "text": [
      "corr: [0.7367], r2: [0.19612]\n",
      "Doing 862: BICC1\n"
     ]
    },
    {
     "name": "stderr",
     "output_type": "stream",
     "text": [
      "Running elastic model with corum transcripts:   8%|▊         | 863/10921 [07:31<1:31:38,  1.83it/s]"
     ]
    },
    {
     "name": "stdout",
     "output_type": "stream",
     "text": [
      "corr: [0.60092], r2: [0.28379]\n",
      "Doing 863: BICD1\n"
     ]
    },
    {
     "name": "stderr",
     "output_type": "stream",
     "text": [
      "Running elastic model with corum transcripts:   8%|▊         | 864/10921 [07:31<1:29:34,  1.87it/s]"
     ]
    },
    {
     "name": "stdout",
     "output_type": "stream",
     "text": [
      "corr: [0.57514], r2: [0.23578]\n",
      "Doing 864: BICD2\n"
     ]
    },
    {
     "name": "stderr",
     "output_type": "stream",
     "text": [
      "Running elastic model with corum transcripts:   8%|▊         | 865/10921 [07:32<1:30:37,  1.85it/s]"
     ]
    },
    {
     "name": "stdout",
     "output_type": "stream",
     "text": [
      "corr: [0.62114], r2: [0.31971]\n",
      "Doing 865: BID\n"
     ]
    },
    {
     "name": "stderr",
     "output_type": "stream",
     "text": [
      "Running elastic model with corum transcripts:   8%|▊         | 866/10921 [07:32<1:29:18,  1.88it/s]"
     ]
    },
    {
     "name": "stdout",
     "output_type": "stream",
     "text": [
      "corr: [0.51445], r2: [0.24605]\n",
      "Doing 866: BIN1\n"
     ]
    },
    {
     "name": "stderr",
     "output_type": "stream",
     "text": [
      "Running elastic model with corum transcripts:   8%|▊         | 867/10921 [07:33<1:29:01,  1.88it/s]"
     ]
    },
    {
     "name": "stdout",
     "output_type": "stream",
     "text": [
      "corr: [0.56941], r2: [0.15447]\n",
      "Doing 867: BIN2\n"
     ]
    },
    {
     "name": "stderr",
     "output_type": "stream",
     "text": [
      "Running elastic model with corum transcripts:   8%|▊         | 868/10921 [07:34<1:31:08,  1.84it/s]"
     ]
    },
    {
     "name": "stdout",
     "output_type": "stream",
     "text": [
      "corr: [0.61008], r2: [0.20279]\n",
      "Doing 868: BIN3\n"
     ]
    },
    {
     "name": "stderr",
     "output_type": "stream",
     "text": [
      "Running elastic model with corum transcripts:   8%|▊         | 869/10921 [07:34<1:28:30,  1.89it/s]"
     ]
    },
    {
     "name": "stdout",
     "output_type": "stream",
     "text": [
      "corr: [0.31716], r2: [-0.01132]\n",
      "Doing 869: BIRC2\n"
     ]
    },
    {
     "name": "stderr",
     "output_type": "stream",
     "text": [
      "Running elastic model with corum transcripts:   8%|▊         | 870/10921 [07:35<1:32:13,  1.82it/s]"
     ]
    },
    {
     "name": "stdout",
     "output_type": "stream",
     "text": [
      "corr: [0.12876], r2: [0.01592]\n",
      "Doing 870: BIRC5\n"
     ]
    },
    {
     "name": "stderr",
     "output_type": "stream",
     "text": [
      "Running elastic model with corum transcripts:   8%|▊         | 871/10921 [07:35<1:35:30,  1.75it/s]"
     ]
    },
    {
     "name": "stdout",
     "output_type": "stream",
     "text": [
      "corr: [0.65393], r2: [0.06646]\n",
      "Doing 871: BIRC6\n"
     ]
    },
    {
     "name": "stderr",
     "output_type": "stream",
     "text": [
      "Running elastic model with corum transcripts:   8%|▊         | 872/10921 [07:36<1:34:02,  1.78it/s]"
     ]
    },
    {
     "name": "stdout",
     "output_type": "stream",
     "text": [
      "corr: [-0.04495], r2: [-0.02377]\n",
      "Doing 872: BLK\n"
     ]
    },
    {
     "name": "stderr",
     "output_type": "stream",
     "text": [
      "/Applications/venv/CPTAC_Protein/lib/python3.9/site-packages/numpy/lib/function_base.py:2691: RuntimeWarning: invalid value encountered in true_divide\n",
      "  c /= stddev[:, None]\n",
      "/Applications/venv/CPTAC_Protein/lib/python3.9/site-packages/numpy/lib/function_base.py:2692: RuntimeWarning: invalid value encountered in true_divide\n",
      "  c /= stddev[None, :]\n",
      "Running elastic model with corum transcripts:   8%|▊         | 873/10921 [07:36<1:33:25,  1.79it/s]"
     ]
    },
    {
     "name": "stdout",
     "output_type": "stream",
     "text": [
      "corr: [0], r2: [-0.06791]\n",
      "Doing 873: BLM\n"
     ]
    },
    {
     "name": "stderr",
     "output_type": "stream",
     "text": [
      "Running elastic model with corum transcripts:   8%|▊         | 874/10921 [07:37<1:37:44,  1.71it/s]"
     ]
    },
    {
     "name": "stdout",
     "output_type": "stream",
     "text": [
      "corr: [0.45121], r2: [0.13389]\n",
      "Doing 874: BLMH\n"
     ]
    },
    {
     "name": "stderr",
     "output_type": "stream",
     "text": [
      "Running elastic model with corum transcripts:   8%|▊         | 875/10921 [07:38<1:42:18,  1.64it/s]"
     ]
    },
    {
     "name": "stdout",
     "output_type": "stream",
     "text": [
      "corr: [0.61691], r2: [0.21354]\n",
      "Doing 875: BLNK\n"
     ]
    },
    {
     "name": "stderr",
     "output_type": "stream",
     "text": [
      "Running elastic model with corum transcripts:   8%|▊         | 876/10921 [07:38<1:39:06,  1.69it/s]"
     ]
    },
    {
     "name": "stdout",
     "output_type": "stream",
     "text": [
      "corr: [0.53807], r2: [0.27201]\n",
      "Doing 876: BLOC1S1\n"
     ]
    },
    {
     "name": "stderr",
     "output_type": "stream",
     "text": [
      "Running elastic model with corum transcripts:   8%|▊         | 877/10921 [07:39<1:40:59,  1.66it/s]"
     ]
    },
    {
     "name": "stdout",
     "output_type": "stream",
     "text": [
      "corr: [0.34114], r2: [-0.21398]\n",
      "Doing 877: BLOC1S2\n"
     ]
    },
    {
     "name": "stderr",
     "output_type": "stream",
     "text": [
      "Running elastic model with corum transcripts:   8%|▊         | 878/10921 [07:39<1:43:40,  1.61it/s]"
     ]
    },
    {
     "name": "stdout",
     "output_type": "stream",
     "text": [
      "corr: [0.09001], r2: [-0.00865]\n",
      "Doing 878: BLOC1S3\n"
     ]
    },
    {
     "name": "stderr",
     "output_type": "stream",
     "text": [
      "Running elastic model with corum transcripts:   8%|▊         | 879/10921 [07:40<1:58:15,  1.42it/s]"
     ]
    },
    {
     "name": "stdout",
     "output_type": "stream",
     "text": [
      "corr: [0.18286], r2: [-0.04226]\n",
      "Doing 879: BLOC1S4\n"
     ]
    },
    {
     "name": "stderr",
     "output_type": "stream",
     "text": [
      "Running elastic model with corum transcripts:   8%|▊         | 880/10921 [07:42<3:07:16,  1.12s/it]"
     ]
    },
    {
     "name": "stdout",
     "output_type": "stream",
     "text": [
      "corr: [0.24383], r2: [-0.0271]\n",
      "Doing 880: BLOC1S5\n"
     ]
    },
    {
     "name": "stderr",
     "output_type": "stream",
     "text": [
      "Running elastic model with corum transcripts:   8%|▊         | 881/10921 [07:44<3:20:07,  1.20s/it]"
     ]
    },
    {
     "name": "stdout",
     "output_type": "stream",
     "text": [
      "corr: [0.04687], r2: [-0.06347]\n",
      "Doing 881: BLOC1S6\n"
     ]
    },
    {
     "name": "stderr",
     "output_type": "stream",
     "text": [
      "/Applications/venv/CPTAC_Protein/lib/python3.9/site-packages/numpy/lib/function_base.py:2691: RuntimeWarning: invalid value encountered in true_divide\n",
      "  c /= stddev[:, None]\n",
      "/Applications/venv/CPTAC_Protein/lib/python3.9/site-packages/numpy/lib/function_base.py:2692: RuntimeWarning: invalid value encountered in true_divide\n",
      "  c /= stddev[None, :]\n",
      "Running elastic model with corum transcripts:   8%|▊         | 882/10921 [07:45<3:22:07,  1.21s/it]"
     ]
    },
    {
     "name": "stdout",
     "output_type": "stream",
     "text": [
      "corr: [0], r2: [-0.003]\n",
      "Doing 882: BLVRA\n"
     ]
    },
    {
     "name": "stderr",
     "output_type": "stream",
     "text": [
      "Running elastic model with corum transcripts:   8%|▊         | 883/10921 [07:46<3:25:22,  1.23s/it]"
     ]
    },
    {
     "name": "stdout",
     "output_type": "stream",
     "text": [
      "corr: [0.6599], r2: [0.29294]\n",
      "Doing 883: BLVRB\n"
     ]
    },
    {
     "name": "stderr",
     "output_type": "stream",
     "text": [
      "Running elastic model with corum transcripts:   8%|▊         | 884/10921 [07:47<2:51:51,  1.03s/it]"
     ]
    },
    {
     "name": "stdout",
     "output_type": "stream",
     "text": [
      "corr: [0.16667], r2: [-0.01377]\n",
      "Doing 884: BLZF1\n"
     ]
    },
    {
     "name": "stderr",
     "output_type": "stream",
     "text": [
      "Running elastic model with corum transcripts:   8%|▊         | 885/10921 [07:47<2:27:36,  1.13it/s]"
     ]
    },
    {
     "name": "stdout",
     "output_type": "stream",
     "text": [
      "corr: [0.54373], r2: [0.0432]\n",
      "Doing 885: BMP1\n"
     ]
    },
    {
     "name": "stderr",
     "output_type": "stream",
     "text": [
      "Running elastic model with corum transcripts:   8%|▊         | 886/10921 [07:48<2:12:34,  1.26it/s]"
     ]
    },
    {
     "name": "stdout",
     "output_type": "stream",
     "text": [
      "corr: [0.6035], r2: [0.30973]\n",
      "Doing 886: BMP2K\n"
     ]
    },
    {
     "name": "stderr",
     "output_type": "stream",
     "text": [
      "Running elastic model with corum transcripts:   8%|▊         | 887/10921 [07:49<2:00:02,  1.39it/s]"
     ]
    },
    {
     "name": "stdout",
     "output_type": "stream",
     "text": [
      "corr: [0.69853], r2: [0.46869]\n",
      "Doing 887: BMP7\n",
      "Not enough proteomics observations. Skipping protein.\n",
      "Doing 888: BMPR2\n"
     ]
    },
    {
     "name": "stderr",
     "output_type": "stream",
     "text": [
      "Running elastic model with corum transcripts:   8%|▊         | 889/10921 [07:49<1:24:46,  1.97it/s]"
     ]
    },
    {
     "name": "stdout",
     "output_type": "stream",
     "text": [
      "corr: [0.35018], r2: [0.11968]\n",
      "Doing 889: BMS1\n"
     ]
    },
    {
     "name": "stderr",
     "output_type": "stream",
     "text": [
      "Running elastic model with corum transcripts:   8%|▊         | 890/10921 [07:50<1:24:08,  1.99it/s]"
     ]
    },
    {
     "name": "stdout",
     "output_type": "stream",
     "text": [
      "corr: [0.37554], r2: [-0.02998]\n",
      "Doing 890: BNC2\n"
     ]
    },
    {
     "name": "stderr",
     "output_type": "stream",
     "text": [
      "Running elastic model with corum transcripts:   8%|▊         | 891/10921 [07:50<1:23:37,  2.00it/s]"
     ]
    },
    {
     "name": "stdout",
     "output_type": "stream",
     "text": [
      "corr: [0.07224], r2: [-0.05134]\n",
      "Doing 891: BNIP1\n"
     ]
    },
    {
     "name": "stderr",
     "output_type": "stream",
     "text": [
      "Running elastic model with corum transcripts:   8%|▊         | 892/10921 [07:51<1:23:06,  2.01it/s]"
     ]
    },
    {
     "name": "stdout",
     "output_type": "stream",
     "text": [
      "corr: [0.4574], r2: [0.12239]\n",
      "Doing 892: BNIP2\n"
     ]
    },
    {
     "name": "stderr",
     "output_type": "stream",
     "text": [
      "Running elastic model with corum transcripts:   8%|▊         | 893/10921 [07:51<1:29:12,  1.87it/s]"
     ]
    },
    {
     "name": "stdout",
     "output_type": "stream",
     "text": [
      "corr: [4.e-05], r2: [-0.12836]\n",
      "Doing 893: BNIP3\n"
     ]
    },
    {
     "name": "stderr",
     "output_type": "stream",
     "text": [
      "Running elastic model with corum transcripts:   8%|▊         | 894/10921 [07:52<1:28:44,  1.88it/s]"
     ]
    },
    {
     "name": "stdout",
     "output_type": "stream",
     "text": [
      "corr: [0.19749], r2: [-0.20121]\n",
      "Doing 894: BNIP3L\n"
     ]
    },
    {
     "name": "stderr",
     "output_type": "stream",
     "text": [
      "Running elastic model with corum transcripts:   8%|▊         | 895/10921 [07:52<1:28:36,  1.89it/s]"
     ]
    },
    {
     "name": "stdout",
     "output_type": "stream",
     "text": [
      "corr: [0.35849], r2: [-0.03769]\n",
      "Doing 895: BNIPL\n",
      "Not enough proteomics observations. Skipping protein.\n",
      "Doing 896: BOD1\n"
     ]
    },
    {
     "name": "stderr",
     "output_type": "stream",
     "text": [
      "Running elastic model with corum transcripts:   8%|▊         | 897/10921 [07:53<1:11:36,  2.33it/s]"
     ]
    },
    {
     "name": "stdout",
     "output_type": "stream",
     "text": [
      "corr: [0.32304], r2: [0.04788]\n",
      "Doing 897: BOD1L1\n"
     ]
    },
    {
     "name": "stderr",
     "output_type": "stream",
     "text": [
      "Running elastic model with corum transcripts:   8%|▊         | 898/10921 [07:53<1:19:19,  2.11it/s]"
     ]
    },
    {
     "name": "stdout",
     "output_type": "stream",
     "text": [
      "corr: [0.33111], r2: [0.08095]\n",
      "Doing 898: BOK\n"
     ]
    },
    {
     "name": "stderr",
     "output_type": "stream",
     "text": [
      "Running elastic model with corum transcripts:   8%|▊         | 899/10921 [07:54<1:21:39,  2.05it/s]"
     ]
    },
    {
     "name": "stdout",
     "output_type": "stream",
     "text": [
      "corr: [0.19731], r2: [-0.15176]\n",
      "Doing 899: BOLA1\n"
     ]
    },
    {
     "name": "stderr",
     "output_type": "stream",
     "text": [
      "Running elastic model with corum transcripts:   8%|▊         | 900/10921 [07:55<1:23:18,  2.00it/s]"
     ]
    },
    {
     "name": "stdout",
     "output_type": "stream",
     "text": [
      "corr: [0.53948], r2: [0.14036]\n",
      "Doing 900: BOLA2\n"
     ]
    },
    {
     "name": "stderr",
     "output_type": "stream",
     "text": [
      "/Applications/venv/CPTAC_Protein/lib/python3.9/site-packages/numpy/lib/function_base.py:2691: RuntimeWarning: invalid value encountered in true_divide\n",
      "  c /= stddev[:, None]\n",
      "/Applications/venv/CPTAC_Protein/lib/python3.9/site-packages/numpy/lib/function_base.py:2692: RuntimeWarning: invalid value encountered in true_divide\n",
      "  c /= stddev[None, :]\n",
      "Running elastic model with corum transcripts:   8%|▊         | 901/10921 [07:55<1:25:50,  1.95it/s]"
     ]
    },
    {
     "name": "stdout",
     "output_type": "stream",
     "text": [
      "corr: [0], r2: [-0.00218]\n",
      "Doing 901: BOLA3\n"
     ]
    },
    {
     "name": "stderr",
     "output_type": "stream",
     "text": [
      "Running elastic model with corum transcripts:   8%|▊         | 902/10921 [07:56<1:27:45,  1.90it/s]"
     ]
    },
    {
     "name": "stdout",
     "output_type": "stream",
     "text": [
      "corr: [0.37788], r2: [-0.03481]\n",
      "Doing 902: BOP1\n"
     ]
    },
    {
     "name": "stderr",
     "output_type": "stream",
     "text": [
      "Running elastic model with corum transcripts:   8%|▊         | 903/10921 [07:56<1:35:34,  1.75it/s]"
     ]
    },
    {
     "name": "stdout",
     "output_type": "stream",
     "text": [
      "corr: [0.61851], r2: [0.30648]\n",
      "Doing 903: BPGM\n"
     ]
    },
    {
     "name": "stderr",
     "output_type": "stream",
     "text": [
      "Running elastic model with corum transcripts:   8%|▊         | 904/10921 [07:57<1:33:02,  1.79it/s]"
     ]
    },
    {
     "name": "stdout",
     "output_type": "stream",
     "text": [
      "corr: [0.2761], r2: [0.06339]\n",
      "Doing 904: BPHL\n"
     ]
    },
    {
     "name": "stderr",
     "output_type": "stream",
     "text": [
      "Running elastic model with corum transcripts:   8%|▊         | 905/10921 [07:57<1:32:22,  1.81it/s]"
     ]
    },
    {
     "name": "stdout",
     "output_type": "stream",
     "text": [
      "corr: [0.59283], r2: [0.27193]\n",
      "Doing 905: BPI\n"
     ]
    },
    {
     "name": "stderr",
     "output_type": "stream",
     "text": [
      "Running elastic model with corum transcripts:   8%|▊         | 906/10921 [07:58<1:31:53,  1.82it/s]"
     ]
    },
    {
     "name": "stdout",
     "output_type": "stream",
     "text": [
      "corr: [-0.01306], r2: [-0.16193]\n",
      "Doing 906: BPNT1\n"
     ]
    },
    {
     "name": "stderr",
     "output_type": "stream",
     "text": [
      "Running elastic model with corum transcripts:   8%|▊         | 907/10921 [07:59<1:31:57,  1.81it/s]"
     ]
    },
    {
     "name": "stdout",
     "output_type": "stream",
     "text": [
      "corr: [0.42656], r2: [-0.01336]\n",
      "Doing 907: BPTF\n"
     ]
    },
    {
     "name": "stderr",
     "output_type": "stream",
     "text": [
      "Running elastic model with corum transcripts:   8%|▊         | 908/10921 [07:59<1:33:36,  1.78it/s]"
     ]
    },
    {
     "name": "stdout",
     "output_type": "stream",
     "text": [
      "corr: [0.50452], r2: [0.24123]\n",
      "Doing 908: BRAF\n"
     ]
    },
    {
     "name": "stderr",
     "output_type": "stream",
     "text": [
      "Running elastic model with corum transcripts:   8%|▊         | 909/10921 [08:00<1:35:54,  1.74it/s]"
     ]
    },
    {
     "name": "stdout",
     "output_type": "stream",
     "text": [
      "corr: [0.61485], r2: [0.35589]\n",
      "Doing 909: BRAP\n"
     ]
    },
    {
     "name": "stderr",
     "output_type": "stream",
     "text": [
      "Running elastic model with corum transcripts:   8%|▊         | 910/10921 [08:00<1:43:49,  1.61it/s]"
     ]
    },
    {
     "name": "stdout",
     "output_type": "stream",
     "text": [
      "corr: [0.45853], r2: [0.18845]\n",
      "Doing 910: BRAT1\n"
     ]
    },
    {
     "name": "stderr",
     "output_type": "stream",
     "text": [
      "Running elastic model with corum transcripts:   8%|▊         | 911/10921 [08:01<1:40:59,  1.65it/s]"
     ]
    },
    {
     "name": "stdout",
     "output_type": "stream",
     "text": [
      "corr: [0.39061], r2: [0.12812]\n",
      "Doing 911: BRCC3\n"
     ]
    },
    {
     "name": "stderr",
     "output_type": "stream",
     "text": [
      "Running elastic model with corum transcripts:   8%|▊         | 912/10921 [08:02<1:39:08,  1.68it/s]"
     ]
    },
    {
     "name": "stdout",
     "output_type": "stream",
     "text": [
      "corr: [0.25086], r2: [0.0442]\n",
      "Doing 912: BRD1\n"
     ]
    },
    {
     "name": "stderr",
     "output_type": "stream",
     "text": [
      "/Applications/venv/CPTAC_Protein/lib/python3.9/site-packages/numpy/lib/function_base.py:2691: RuntimeWarning: invalid value encountered in true_divide\n",
      "  c /= stddev[:, None]\n",
      "/Applications/venv/CPTAC_Protein/lib/python3.9/site-packages/numpy/lib/function_base.py:2692: RuntimeWarning: invalid value encountered in true_divide\n",
      "  c /= stddev[None, :]\n",
      "Running elastic model with corum transcripts:   8%|▊         | 913/10921 [08:02<1:37:26,  1.71it/s]"
     ]
    },
    {
     "name": "stdout",
     "output_type": "stream",
     "text": [
      "corr: [0], r2: [-0.08748]\n",
      "Doing 913: BRD2\n"
     ]
    },
    {
     "name": "stderr",
     "output_type": "stream",
     "text": [
      "Running elastic model with corum transcripts:   8%|▊         | 914/10921 [08:03<1:33:56,  1.78it/s]"
     ]
    },
    {
     "name": "stdout",
     "output_type": "stream",
     "text": [
      "corr: [0.20342], r2: [-0.0754]\n",
      "Doing 914: BRD3\n"
     ]
    },
    {
     "name": "stderr",
     "output_type": "stream",
     "text": [
      "Running elastic model with corum transcripts:   8%|▊         | 915/10921 [08:03<1:32:21,  1.81it/s]"
     ]
    },
    {
     "name": "stdout",
     "output_type": "stream",
     "text": [
      "corr: [0.66644], r2: [0.36284]\n",
      "Doing 915: BRD4\n"
     ]
    },
    {
     "name": "stderr",
     "output_type": "stream",
     "text": [
      "Running elastic model with corum transcripts:   8%|▊         | 916/10921 [08:04<1:35:06,  1.75it/s]"
     ]
    },
    {
     "name": "stdout",
     "output_type": "stream",
     "text": [
      "corr: [0.3921], r2: [0.1212]\n",
      "Doing 916: BRD7\n"
     ]
    },
    {
     "name": "stderr",
     "output_type": "stream",
     "text": [
      "Running elastic model with corum transcripts:   8%|▊         | 917/10921 [08:04<1:37:39,  1.71it/s]"
     ]
    },
    {
     "name": "stdout",
     "output_type": "stream",
     "text": [
      "corr: [-0.04505], r2: [-0.09562]\n",
      "Doing 917: BRD8\n"
     ]
    },
    {
     "name": "stderr",
     "output_type": "stream",
     "text": [
      "Running elastic model with corum transcripts:   8%|▊         | 918/10921 [08:05<1:38:57,  1.68it/s]"
     ]
    },
    {
     "name": "stdout",
     "output_type": "stream",
     "text": [
      "corr: [0.63064], r2: [0.28516]\n",
      "Doing 918: BRD9\n"
     ]
    },
    {
     "name": "stderr",
     "output_type": "stream",
     "text": [
      "/Applications/venv/CPTAC_Protein/lib/python3.9/site-packages/numpy/lib/function_base.py:2691: RuntimeWarning: invalid value encountered in true_divide\n",
      "  c /= stddev[:, None]\n",
      "/Applications/venv/CPTAC_Protein/lib/python3.9/site-packages/numpy/lib/function_base.py:2692: RuntimeWarning: invalid value encountered in true_divide\n",
      "  c /= stddev[None, :]\n",
      "Running elastic model with corum transcripts:   8%|▊         | 919/10921 [08:06<1:43:48,  1.61it/s]"
     ]
    },
    {
     "name": "stdout",
     "output_type": "stream",
     "text": [
      "corr: [0], r2: [-0.01731]\n",
      "Doing 919: BRF1\n"
     ]
    },
    {
     "name": "stderr",
     "output_type": "stream",
     "text": [
      "Running elastic model with corum transcripts:   8%|▊         | 920/10921 [08:06<1:43:21,  1.61it/s]"
     ]
    },
    {
     "name": "stdout",
     "output_type": "stream",
     "text": [
      "corr: [-0.04195], r2: [-0.02501]\n",
      "Doing 920: BRF2\n"
     ]
    },
    {
     "name": "stderr",
     "output_type": "stream",
     "text": [
      "Running elastic model with corum transcripts:   8%|▊         | 921/10921 [08:07<1:39:26,  1.68it/s]"
     ]
    },
    {
     "name": "stdout",
     "output_type": "stream",
     "text": [
      "corr: [0.95599], r2: [0.52582]\n",
      "Doing 921: BRI3\n"
     ]
    },
    {
     "name": "stderr",
     "output_type": "stream",
     "text": [
      "Running elastic model with corum transcripts:   8%|▊         | 922/10921 [08:07<1:37:31,  1.71it/s]"
     ]
    },
    {
     "name": "stdout",
     "output_type": "stream",
     "text": [
      "corr: [-0.06007], r2: [-0.1002]\n",
      "Doing 922: BRI3BP\n"
     ]
    },
    {
     "name": "stderr",
     "output_type": "stream",
     "text": [
      "Running elastic model with corum transcripts:   8%|▊         | 923/10921 [08:08<1:35:05,  1.75it/s]"
     ]
    },
    {
     "name": "stdout",
     "output_type": "stream",
     "text": [
      "corr: [0.20582], r2: [0.03872]\n",
      "Doing 923: BRIX1\n"
     ]
    },
    {
     "name": "stderr",
     "output_type": "stream",
     "text": [
      "Running elastic model with corum transcripts:   8%|▊         | 924/10921 [08:09<2:14:23,  1.24it/s]"
     ]
    },
    {
     "name": "stdout",
     "output_type": "stream",
     "text": [
      "corr: [0.5112], r2: [0.26026]\n",
      "Doing 924: BRK1\n"
     ]
    },
    {
     "name": "stderr",
     "output_type": "stream",
     "text": [
      "Running elastic model with corum transcripts:   8%|▊         | 925/10921 [08:10<2:01:10,  1.37it/s]"
     ]
    },
    {
     "name": "stdout",
     "output_type": "stream",
     "text": [
      "corr: [0.1151], r2: [-0.17657]\n",
      "Doing 925: BRMS1\n"
     ]
    },
    {
     "name": "stderr",
     "output_type": "stream",
     "text": [
      "Running elastic model with corum transcripts:   8%|▊         | 926/10921 [08:10<1:54:12,  1.46it/s]"
     ]
    },
    {
     "name": "stdout",
     "output_type": "stream",
     "text": [
      "corr: [0.4068], r2: [0.04916]\n",
      "Doing 926: BRMS1L\n"
     ]
    },
    {
     "name": "stderr",
     "output_type": "stream",
     "text": [
      "Running elastic model with corum transcripts:   8%|▊         | 927/10921 [08:11<1:55:07,  1.45it/s]"
     ]
    },
    {
     "name": "stdout",
     "output_type": "stream",
     "text": [
      "corr: [0.14693], r2: [0.01819]\n",
      "Doing 927: BROX\n"
     ]
    },
    {
     "name": "stderr",
     "output_type": "stream",
     "text": [
      "Running elastic model with corum transcripts:   8%|▊         | 928/10921 [08:12<1:45:15,  1.58it/s]"
     ]
    },
    {
     "name": "stdout",
     "output_type": "stream",
     "text": [
      "corr: [0.55923], r2: [-0.04513]\n",
      "Doing 928: BRPF1\n"
     ]
    },
    {
     "name": "stderr",
     "output_type": "stream",
     "text": [
      "Running elastic model with corum transcripts:   9%|▊         | 929/10921 [08:12<1:40:40,  1.65it/s]"
     ]
    },
    {
     "name": "stdout",
     "output_type": "stream",
     "text": [
      "corr: [0.40483], r2: [0.03294]\n",
      "Doing 929: BRPF3\n"
     ]
    },
    {
     "name": "stderr",
     "output_type": "stream",
     "text": [
      "Running elastic model with corum transcripts:   9%|▊         | 930/10921 [08:13<1:36:56,  1.72it/s]"
     ]
    },
    {
     "name": "stdout",
     "output_type": "stream",
     "text": [
      "corr: [0.20194], r2: [-0.02315]\n",
      "Doing 930: BRWD1\n"
     ]
    },
    {
     "name": "stderr",
     "output_type": "stream",
     "text": [
      "/Applications/venv/CPTAC_Protein/lib/python3.9/site-packages/numpy/lib/function_base.py:2691: RuntimeWarning: invalid value encountered in true_divide\n",
      "  c /= stddev[:, None]\n",
      "/Applications/venv/CPTAC_Protein/lib/python3.9/site-packages/numpy/lib/function_base.py:2692: RuntimeWarning: invalid value encountered in true_divide\n",
      "  c /= stddev[None, :]\n",
      "Running elastic model with corum transcripts:   9%|▊         | 931/10921 [08:13<1:32:51,  1.79it/s]"
     ]
    },
    {
     "name": "stdout",
     "output_type": "stream",
     "text": [
      "corr: [0], r2: [-0.03246]\n",
      "Doing 931: BRWD3\n"
     ]
    },
    {
     "name": "stderr",
     "output_type": "stream",
     "text": [
      "Running elastic model with corum transcripts:   9%|▊         | 932/10921 [08:14<1:30:15,  1.84it/s]"
     ]
    },
    {
     "name": "stdout",
     "output_type": "stream",
     "text": [
      "corr: [-0.04202], r2: [-0.07945]\n",
      "Doing 932: BSCL2\n"
     ]
    },
    {
     "name": "stderr",
     "output_type": "stream",
     "text": [
      "Running elastic model with corum transcripts:   9%|▊         | 933/10921 [08:14<1:31:01,  1.83it/s]"
     ]
    },
    {
     "name": "stdout",
     "output_type": "stream",
     "text": [
      "corr: [0.07393], r2: [-0.19515]\n",
      "Doing 933: BSDC1\n"
     ]
    },
    {
     "name": "stderr",
     "output_type": "stream",
     "text": [
      "Running elastic model with corum transcripts:   9%|▊         | 934/10921 [08:15<1:31:14,  1.82it/s]"
     ]
    },
    {
     "name": "stdout",
     "output_type": "stream",
     "text": [
      "corr: [0.62683], r2: [0.16975]\n",
      "Doing 934: BSG\n"
     ]
    },
    {
     "name": "stderr",
     "output_type": "stream",
     "text": [
      "Running elastic model with corum transcripts:   9%|▊         | 935/10921 [08:16<1:42:31,  1.62it/s]"
     ]
    },
    {
     "name": "stdout",
     "output_type": "stream",
     "text": [
      "corr: [0.01623], r2: [-0.10749]\n",
      "Doing 935: BSPRY\n"
     ]
    },
    {
     "name": "stderr",
     "output_type": "stream",
     "text": [
      "Running elastic model with corum transcripts:   9%|▊         | 936/10921 [08:16<1:39:56,  1.67it/s]"
     ]
    },
    {
     "name": "stdout",
     "output_type": "stream",
     "text": [
      "corr: [0.58111], r2: [0.3355]\n",
      "Doing 936: BST1\n"
     ]
    },
    {
     "name": "stderr",
     "output_type": "stream",
     "text": [
      "Running elastic model with corum transcripts:   9%|▊         | 937/10921 [08:17<1:38:10,  1.69it/s]"
     ]
    },
    {
     "name": "stdout",
     "output_type": "stream",
     "text": [
      "corr: [0.37243], r2: [0.13323]\n",
      "Doing 937: BST2\n"
     ]
    },
    {
     "name": "stderr",
     "output_type": "stream",
     "text": [
      "Running elastic model with corum transcripts:   9%|▊         | 938/10921 [08:17<1:35:52,  1.74it/s]"
     ]
    },
    {
     "name": "stdout",
     "output_type": "stream",
     "text": [
      "corr: [0.76088], r2: [0.41951]\n",
      "Doing 938: BTAF1\n"
     ]
    },
    {
     "name": "stderr",
     "output_type": "stream",
     "text": [
      "Running elastic model with corum transcripts:   9%|▊         | 939/10921 [08:18<1:35:26,  1.74it/s]"
     ]
    },
    {
     "name": "stdout",
     "output_type": "stream",
     "text": [
      "corr: [-0.06587], r2: [-0.0783]\n",
      "Doing 939: BTBD1\n"
     ]
    },
    {
     "name": "stderr",
     "output_type": "stream",
     "text": [
      "/Applications/venv/CPTAC_Protein/lib/python3.9/site-packages/numpy/lib/function_base.py:2691: RuntimeWarning: invalid value encountered in true_divide\n",
      "  c /= stddev[:, None]\n",
      "/Applications/venv/CPTAC_Protein/lib/python3.9/site-packages/numpy/lib/function_base.py:2692: RuntimeWarning: invalid value encountered in true_divide\n",
      "  c /= stddev[None, :]\n",
      "Running elastic model with corum transcripts:   9%|▊         | 940/10921 [08:18<1:36:45,  1.72it/s]"
     ]
    },
    {
     "name": "stdout",
     "output_type": "stream",
     "text": [
      "corr: [0], r2: [-0.03335]\n",
      "Doing 940: BTBD2\n"
     ]
    },
    {
     "name": "stderr",
     "output_type": "stream",
     "text": [
      "Running elastic model with corum transcripts:   9%|▊         | 941/10921 [08:19<1:38:02,  1.70it/s]"
     ]
    },
    {
     "name": "stdout",
     "output_type": "stream",
     "text": [
      "corr: [-0.03158], r2: [-0.05936]\n",
      "Doing 941: BTBD9\n"
     ]
    },
    {
     "name": "stderr",
     "output_type": "stream",
     "text": [
      "Running elastic model with corum transcripts:   9%|▊         | 942/10921 [08:20<1:45:16,  1.58it/s]"
     ]
    },
    {
     "name": "stdout",
     "output_type": "stream",
     "text": [
      "corr: [-0.12078], r2: [-0.09764]\n",
      "Doing 942: BTD\n"
     ]
    },
    {
     "name": "stderr",
     "output_type": "stream",
     "text": [
      "Running elastic model with corum transcripts:   9%|▊         | 943/10921 [08:21<1:57:33,  1.41it/s]"
     ]
    },
    {
     "name": "stdout",
     "output_type": "stream",
     "text": [
      "corr: [0.44494], r2: [-0.0523]\n",
      "Doing 943: BTF3\n"
     ]
    },
    {
     "name": "stderr",
     "output_type": "stream",
     "text": [
      "Running elastic model with corum transcripts:   9%|▊         | 944/10921 [08:21<1:50:08,  1.51it/s]"
     ]
    },
    {
     "name": "stdout",
     "output_type": "stream",
     "text": [
      "corr: [0.1882], r2: [-0.02777]\n",
      "Doing 944: BTF3L4\n"
     ]
    },
    {
     "name": "stderr",
     "output_type": "stream",
     "text": [
      "Running elastic model with corum transcripts:   9%|▊         | 945/10921 [08:22<1:50:43,  1.50it/s]"
     ]
    },
    {
     "name": "stdout",
     "output_type": "stream",
     "text": [
      "corr: [0.46139], r2: [0.0043]\n",
      "Doing 945: BTK\n"
     ]
    },
    {
     "name": "stderr",
     "output_type": "stream",
     "text": [
      "Running elastic model with corum transcripts:   9%|▊         | 946/10921 [08:22<1:46:05,  1.57it/s]"
     ]
    },
    {
     "name": "stdout",
     "output_type": "stream",
     "text": [
      "corr: [0.62876], r2: [0.25173]\n",
      "Doing 946: BTN2A1\n"
     ]
    },
    {
     "name": "stderr",
     "output_type": "stream",
     "text": [
      "Running elastic model with corum transcripts:   9%|▊         | 947/10921 [08:23<1:43:02,  1.61it/s]"
     ]
    },
    {
     "name": "stdout",
     "output_type": "stream",
     "text": [
      "corr: [-0.28272], r2: [-0.33795]\n",
      "Doing 947: BTN3A1\n"
     ]
    },
    {
     "name": "stderr",
     "output_type": "stream",
     "text": [
      "Running elastic model with corum transcripts:   9%|▊         | 948/10921 [08:24<1:39:23,  1.67it/s]"
     ]
    },
    {
     "name": "stdout",
     "output_type": "stream",
     "text": [
      "corr: [0.4171], r2: [0.08032]\n",
      "Doing 948: BTN3A2\n"
     ]
    },
    {
     "name": "stderr",
     "output_type": "stream",
     "text": [
      "/Applications/venv/CPTAC_Protein/lib/python3.9/site-packages/numpy/lib/function_base.py:2691: RuntimeWarning: invalid value encountered in true_divide\n",
      "  c /= stddev[:, None]\n",
      "/Applications/venv/CPTAC_Protein/lib/python3.9/site-packages/numpy/lib/function_base.py:2692: RuntimeWarning: invalid value encountered in true_divide\n",
      "  c /= stddev[None, :]\n",
      "Running elastic model with corum transcripts:   9%|▊         | 949/10921 [08:24<1:35:40,  1.74it/s]"
     ]
    },
    {
     "name": "stdout",
     "output_type": "stream",
     "text": [
      "corr: [0], r2: [-0.12913]\n",
      "Doing 949: BTN3A3\n"
     ]
    },
    {
     "name": "stderr",
     "output_type": "stream",
     "text": [
      "Running elastic model with corum transcripts:   9%|▊         | 950/10921 [08:25<1:32:51,  1.79it/s]"
     ]
    },
    {
     "name": "stdout",
     "output_type": "stream",
     "text": [
      "corr: [0.58252], r2: [0.24966]\n",
      "Doing 950: BTRC\n"
     ]
    },
    {
     "name": "stderr",
     "output_type": "stream",
     "text": [
      "Running elastic model with corum transcripts:   9%|▊         | 951/10921 [08:25<1:35:13,  1.74it/s]"
     ]
    },
    {
     "name": "stdout",
     "output_type": "stream",
     "text": [
      "corr: [-0.04229], r2: [-0.15168]\n",
      "Doing 951: BUB1B\n"
     ]
    },
    {
     "name": "stderr",
     "output_type": "stream",
     "text": [
      "Running elastic model with corum transcripts:   9%|▊         | 952/10921 [08:26<1:36:23,  1.72it/s]"
     ]
    },
    {
     "name": "stdout",
     "output_type": "stream",
     "text": [
      "corr: [0.29588], r2: [-0.06538]\n",
      "Doing 952: BUB3\n"
     ]
    },
    {
     "name": "stderr",
     "output_type": "stream",
     "text": [
      "Running elastic model with corum transcripts:   9%|▊         | 953/10921 [08:26<1:38:37,  1.68it/s]"
     ]
    },
    {
     "name": "stdout",
     "output_type": "stream",
     "text": [
      "corr: [-0.03152], r2: [-0.88485]\n",
      "Doing 953: BUD13\n"
     ]
    },
    {
     "name": "stderr",
     "output_type": "stream",
     "text": [
      "/Applications/venv/CPTAC_Protein/lib/python3.9/site-packages/sklearn/linear_model/_coordinate_descent.py:631: ConvergenceWarning: Objective did not converge. You might want to increase the number of iterations. Duality gap: 0.13174778664700604, tolerance: 0.07855244737808692\n",
      "  model = cd_fast.enet_coordinate_descent_gram(\n",
      "/Applications/venv/CPTAC_Protein/lib/python3.9/site-packages/sklearn/linear_model/_coordinate_descent.py:631: ConvergenceWarning: Objective did not converge. You might want to increase the number of iterations. Duality gap: 0.10130758232484727, tolerance: 0.07855244737808692\n",
      "  model = cd_fast.enet_coordinate_descent_gram(\n",
      "/Applications/venv/CPTAC_Protein/lib/python3.9/site-packages/sklearn/linear_model/_coordinate_descent.py:631: ConvergenceWarning: Objective did not converge. You might want to increase the number of iterations. Duality gap: 0.13962193235577125, tolerance: 0.07855244737808692\n",
      "  model = cd_fast.enet_coordinate_descent_gram(\n",
      "/Applications/venv/CPTAC_Protein/lib/python3.9/site-packages/sklearn/linear_model/_coordinate_descent.py:631: ConvergenceWarning: Objective did not converge. You might want to increase the number of iterations. Duality gap: 0.1179823648214473, tolerance: 0.07855244737808692\n",
      "  model = cd_fast.enet_coordinate_descent_gram(\n",
      "/Applications/venv/CPTAC_Protein/lib/python3.9/site-packages/sklearn/linear_model/_coordinate_descent.py:631: ConvergenceWarning: Objective did not converge. You might want to increase the number of iterations. Duality gap: 0.12880108264614787, tolerance: 0.07855244737808692\n",
      "  model = cd_fast.enet_coordinate_descent_gram(\n",
      "/Applications/venv/CPTAC_Protein/lib/python3.9/site-packages/sklearn/linear_model/_coordinate_descent.py:631: ConvergenceWarning: Objective did not converge. You might want to increase the number of iterations. Duality gap: 0.09796751856747488, tolerance: 0.07855244737808692\n",
      "  model = cd_fast.enet_coordinate_descent_gram(\n",
      "/Applications/venv/CPTAC_Protein/lib/python3.9/site-packages/sklearn/linear_model/_coordinate_descent.py:631: ConvergenceWarning: Objective did not converge. You might want to increase the number of iterations. Duality gap: 0.0767545696681271, tolerance: 0.07230951678241665\n",
      "  model = cd_fast.enet_coordinate_descent_gram(\n",
      "/Applications/venv/CPTAC_Protein/lib/python3.9/site-packages/sklearn/linear_model/_coordinate_descent.py:631: ConvergenceWarning: Objective did not converge. You might want to increase the number of iterations. Duality gap: 0.11941613930086081, tolerance: 0.07230951678241665\n",
      "  model = cd_fast.enet_coordinate_descent_gram(\n",
      "/Applications/venv/CPTAC_Protein/lib/python3.9/site-packages/sklearn/linear_model/_coordinate_descent.py:631: ConvergenceWarning: Objective did not converge. You might want to increase the number of iterations. Duality gap: 0.13901360389891515, tolerance: 0.07855244737808692\n",
      "  model = cd_fast.enet_coordinate_descent_gram(\n",
      "/Applications/venv/CPTAC_Protein/lib/python3.9/site-packages/sklearn/linear_model/_coordinate_descent.py:631: ConvergenceWarning: Objective did not converge. You might want to increase the number of iterations. Duality gap: 0.15830122310407457, tolerance: 0.07855244737808692\n",
      "  model = cd_fast.enet_coordinate_descent_gram(\n",
      "/Applications/venv/CPTAC_Protein/lib/python3.9/site-packages/sklearn/linear_model/_coordinate_descent.py:631: ConvergenceWarning: Objective did not converge. You might want to increase the number of iterations. Duality gap: 0.12467100169985823, tolerance: 0.07855244737808692\n",
      "  model = cd_fast.enet_coordinate_descent_gram(\n",
      "/Applications/venv/CPTAC_Protein/lib/python3.9/site-packages/sklearn/linear_model/_coordinate_descent.py:631: ConvergenceWarning: Objective did not converge. You might want to increase the number of iterations. Duality gap: 0.14830451395096933, tolerance: 0.07855244737808692\n",
      "  model = cd_fast.enet_coordinate_descent_gram(\n",
      "/Applications/venv/CPTAC_Protein/lib/python3.9/site-packages/sklearn/linear_model/_coordinate_descent.py:631: ConvergenceWarning: Objective did not converge. You might want to increase the number of iterations. Duality gap: 0.1052983543765933, tolerance: 0.07855244737808692\n",
      "  model = cd_fast.enet_coordinate_descent_gram(\n",
      "/Applications/venv/CPTAC_Protein/lib/python3.9/site-packages/sklearn/linear_model/_coordinate_descent.py:631: ConvergenceWarning: Objective did not converge. You might want to increase the number of iterations. Duality gap: 0.10724692289367699, tolerance: 0.07855244737808692\n",
      "  model = cd_fast.enet_coordinate_descent_gram(\n",
      "/Applications/venv/CPTAC_Protein/lib/python3.9/site-packages/sklearn/linear_model/_coordinate_descent.py:631: ConvergenceWarning: Objective did not converge. You might want to increase the number of iterations. Duality gap: 0.0886896653023781, tolerance: 0.07855244737808692\n",
      "  model = cd_fast.enet_coordinate_descent_gram(\n",
      "/Applications/venv/CPTAC_Protein/lib/python3.9/site-packages/sklearn/linear_model/_coordinate_descent.py:631: ConvergenceWarning: Objective did not converge. You might want to increase the number of iterations. Duality gap: 0.16442380683682334, tolerance: 0.07855244737808692\n",
      "  model = cd_fast.enet_coordinate_descent_gram(\n",
      "/Applications/venv/CPTAC_Protein/lib/python3.9/site-packages/sklearn/linear_model/_coordinate_descent.py:631: ConvergenceWarning: Objective did not converge. You might want to increase the number of iterations. Duality gap: 0.09962342552321424, tolerance: 0.07230951678241665\n",
      "  model = cd_fast.enet_coordinate_descent_gram(\n",
      "/Applications/venv/CPTAC_Protein/lib/python3.9/site-packages/sklearn/linear_model/_coordinate_descent.py:631: ConvergenceWarning: Objective did not converge. You might want to increase the number of iterations. Duality gap: 0.096962763074945, tolerance: 0.07973353126358647\n",
      "  model = cd_fast.enet_coordinate_descent_gram(\n",
      "/Applications/venv/CPTAC_Protein/lib/python3.9/site-packages/sklearn/linear_model/_coordinate_descent.py:631: ConvergenceWarning: Objective did not converge. You might want to increase the number of iterations. Duality gap: 0.08541657940045155, tolerance: 0.07973353126358647\n",
      "  model = cd_fast.enet_coordinate_descent_gram(\n",
      "/Applications/venv/CPTAC_Protein/lib/python3.9/site-packages/sklearn/linear_model/_coordinate_descent.py:631: ConvergenceWarning: Objective did not converge. You might want to increase the number of iterations. Duality gap: 0.09799901001216549, tolerance: 0.07955789648419173\n",
      "  model = cd_fast.enet_coordinate_descent_gram(\n",
      "/Applications/venv/CPTAC_Protein/lib/python3.9/site-packages/sklearn/linear_model/_coordinate_descent.py:631: ConvergenceWarning: Objective did not converge. You might want to increase the number of iterations. Duality gap: 0.09313571873508586, tolerance: 0.07955789648419173\n",
      "  model = cd_fast.enet_coordinate_descent_gram(\n",
      "/Applications/venv/CPTAC_Protein/lib/python3.9/site-packages/sklearn/linear_model/_coordinate_descent.py:631: ConvergenceWarning: Objective did not converge. You might want to increase the number of iterations. Duality gap: 0.09401577319898724, tolerance: 0.07855244737808692\n",
      "  model = cd_fast.enet_coordinate_descent_gram(\n",
      "/Applications/venv/CPTAC_Protein/lib/python3.9/site-packages/sklearn/linear_model/_coordinate_descent.py:631: ConvergenceWarning: Objective did not converge. You might want to increase the number of iterations. Duality gap: 0.11130813220505686, tolerance: 0.07855244737808692\n",
      "  model = cd_fast.enet_coordinate_descent_gram(\n",
      "/Applications/venv/CPTAC_Protein/lib/python3.9/site-packages/sklearn/linear_model/_coordinate_descent.py:631: ConvergenceWarning: Objective did not converge. You might want to increase the number of iterations. Duality gap: 0.18255969034216157, tolerance: 0.07973353126358647\n",
      "  model = cd_fast.enet_coordinate_descent_gram(\n",
      "/Applications/venv/CPTAC_Protein/lib/python3.9/site-packages/sklearn/linear_model/_coordinate_descent.py:631: ConvergenceWarning: Objective did not converge. You might want to increase the number of iterations. Duality gap: 0.14527524659616375, tolerance: 0.07973353126358647\n",
      "  model = cd_fast.enet_coordinate_descent_gram(\n",
      "/Applications/venv/CPTAC_Protein/lib/python3.9/site-packages/sklearn/linear_model/_coordinate_descent.py:631: ConvergenceWarning: Objective did not converge. You might want to increase the number of iterations. Duality gap: 0.10982332781398263, tolerance: 0.07955789648419173\n",
      "  model = cd_fast.enet_coordinate_descent_gram(\n",
      "/Applications/venv/CPTAC_Protein/lib/python3.9/site-packages/sklearn/linear_model/_coordinate_descent.py:631: ConvergenceWarning: Objective did not converge. You might want to increase the number of iterations. Duality gap: 0.1084007557434159, tolerance: 0.07855244737808692\n",
      "  model = cd_fast.enet_coordinate_descent_gram(\n",
      "/Applications/venv/CPTAC_Protein/lib/python3.9/site-packages/sklearn/linear_model/_coordinate_descent.py:631: ConvergenceWarning: Objective did not converge. You might want to increase the number of iterations. Duality gap: 0.08734210453831448, tolerance: 0.07855244737808692\n",
      "  model = cd_fast.enet_coordinate_descent_gram(\n",
      "/Applications/venv/CPTAC_Protein/lib/python3.9/site-packages/sklearn/linear_model/_coordinate_descent.py:631: ConvergenceWarning: Objective did not converge. You might want to increase the number of iterations. Duality gap: 0.1070401030520447, tolerance: 0.07955789648419173\n",
      "  model = cd_fast.enet_coordinate_descent_gram(\n",
      "/Applications/venv/CPTAC_Protein/lib/python3.9/site-packages/sklearn/linear_model/_coordinate_descent.py:631: ConvergenceWarning: Objective did not converge. You might want to increase the number of iterations. Duality gap: 0.0919666610567198, tolerance: 0.07973353126358647\n",
      "  model = cd_fast.enet_coordinate_descent_gram(\n",
      "/Applications/venv/CPTAC_Protein/lib/python3.9/site-packages/sklearn/linear_model/_coordinate_descent.py:631: ConvergenceWarning: Objective did not converge. You might want to increase the number of iterations. Duality gap: 0.10221275081313097, tolerance: 0.07973353126358647\n",
      "  model = cd_fast.enet_coordinate_descent_gram(\n",
      "/Applications/venv/CPTAC_Protein/lib/python3.9/site-packages/sklearn/linear_model/_coordinate_descent.py:631: ConvergenceWarning: Objective did not converge. You might want to increase the number of iterations. Duality gap: 0.14872055068657142, tolerance: 0.07973353126358647\n",
      "  model = cd_fast.enet_coordinate_descent_gram(\n",
      "/Applications/venv/CPTAC_Protein/lib/python3.9/site-packages/sklearn/linear_model/_coordinate_descent.py:631: ConvergenceWarning: Objective did not converge. You might want to increase the number of iterations. Duality gap: 0.08010563167372631, tolerance: 0.07855244737808692\n",
      "  model = cd_fast.enet_coordinate_descent_gram(\n",
      "/Applications/venv/CPTAC_Protein/lib/python3.9/site-packages/sklearn/linear_model/_coordinate_descent.py:631: ConvergenceWarning: Objective did not converge. You might want to increase the number of iterations. Duality gap: 0.12403929093904331, tolerance: 0.07955789648419173\n",
      "  model = cd_fast.enet_coordinate_descent_gram(\n",
      "/Applications/venv/CPTAC_Protein/lib/python3.9/site-packages/sklearn/linear_model/_coordinate_descent.py:631: ConvergenceWarning: Objective did not converge. You might want to increase the number of iterations. Duality gap: 0.09112883016954632, tolerance: 0.07493740681589617\n",
      "  model = cd_fast.enet_coordinate_descent_gram(\n",
      "/Applications/venv/CPTAC_Protein/lib/python3.9/site-packages/sklearn/linear_model/_coordinate_descent.py:631: ConvergenceWarning: Objective did not converge. You might want to increase the number of iterations. Duality gap: 0.09743319588552257, tolerance: 0.07493740681589617\n",
      "  model = cd_fast.enet_coordinate_descent_gram(\n",
      "/Applications/venv/CPTAC_Protein/lib/python3.9/site-packages/sklearn/linear_model/_coordinate_descent.py:631: ConvergenceWarning: Objective did not converge. You might want to increase the number of iterations. Duality gap: 0.1304271624538864, tolerance: 0.07855244737808692\n",
      "  model = cd_fast.enet_coordinate_descent_gram(\n",
      "/Applications/venv/CPTAC_Protein/lib/python3.9/site-packages/sklearn/linear_model/_coordinate_descent.py:631: ConvergenceWarning: Objective did not converge. You might want to increase the number of iterations. Duality gap: 0.16979724655504258, tolerance: 0.07973353126358647\n",
      "  model = cd_fast.enet_coordinate_descent_gram(\n",
      "/Applications/venv/CPTAC_Protein/lib/python3.9/site-packages/sklearn/linear_model/_coordinate_descent.py:631: ConvergenceWarning: Objective did not converge. You might want to increase the number of iterations. Duality gap: 0.12696919598766954, tolerance: 0.07973353126358647\n",
      "  model = cd_fast.enet_coordinate_descent_gram(\n",
      "/Applications/venv/CPTAC_Protein/lib/python3.9/site-packages/sklearn/linear_model/_coordinate_descent.py:631: ConvergenceWarning: Objective did not converge. You might want to increase the number of iterations. Duality gap: 0.10238900337153112, tolerance: 0.07955789648419173\n",
      "  model = cd_fast.enet_coordinate_descent_gram(\n",
      "/Applications/venv/CPTAC_Protein/lib/python3.9/site-packages/sklearn/linear_model/_coordinate_descent.py:631: ConvergenceWarning: Objective did not converge. You might want to increase the number of iterations. Duality gap: 0.09826716971231875, tolerance: 0.07855244737808692\n",
      "  model = cd_fast.enet_coordinate_descent_gram(\n",
      "/Applications/venv/CPTAC_Protein/lib/python3.9/site-packages/sklearn/linear_model/_coordinate_descent.py:631: ConvergenceWarning: Objective did not converge. You might want to increase the number of iterations. Duality gap: 0.10590761378630553, tolerance: 0.07855244737808692\n",
      "  model = cd_fast.enet_coordinate_descent_gram(\n",
      "/Applications/venv/CPTAC_Protein/lib/python3.9/site-packages/sklearn/linear_model/_coordinate_descent.py:631: ConvergenceWarning: Objective did not converge. You might want to increase the number of iterations. Duality gap: 0.0761666134328185, tolerance: 0.07493740681589617\n",
      "  model = cd_fast.enet_coordinate_descent_gram(\n",
      "/Applications/venv/CPTAC_Protein/lib/python3.9/site-packages/sklearn/linear_model/_coordinate_descent.py:631: ConvergenceWarning: Objective did not converge. You might want to increase the number of iterations. Duality gap: 0.1553203930367486, tolerance: 0.07955789648419173\n",
      "  model = cd_fast.enet_coordinate_descent_gram(\n",
      "/Applications/venv/CPTAC_Protein/lib/python3.9/site-packages/sklearn/linear_model/_coordinate_descent.py:631: ConvergenceWarning: Objective did not converge. You might want to increase the number of iterations. Duality gap: 0.10995833773385177, tolerance: 0.07493740681589617\n",
      "  model = cd_fast.enet_coordinate_descent_gram(\n",
      "/Applications/venv/CPTAC_Protein/lib/python3.9/site-packages/sklearn/linear_model/_coordinate_descent.py:631: ConvergenceWarning: Objective did not converge. You might want to increase the number of iterations. Duality gap: 0.15083748518871154, tolerance: 0.07955789648419173\n",
      "  model = cd_fast.enet_coordinate_descent_gram(\n",
      "/Applications/venv/CPTAC_Protein/lib/python3.9/site-packages/sklearn/linear_model/_coordinate_descent.py:631: ConvergenceWarning: Objective did not converge. You might want to increase the number of iterations. Duality gap: 0.11769362801685768, tolerance: 0.07493740681589617\n",
      "  model = cd_fast.enet_coordinate_descent_gram(\n",
      "/Applications/venv/CPTAC_Protein/lib/python3.9/site-packages/sklearn/linear_model/_coordinate_descent.py:631: ConvergenceWarning: Objective did not converge. You might want to increase the number of iterations. Duality gap: 0.09897172164583612, tolerance: 0.07855244737808692\n",
      "  model = cd_fast.enet_coordinate_descent_gram(\n",
      "/Applications/venv/CPTAC_Protein/lib/python3.9/site-packages/sklearn/linear_model/_coordinate_descent.py:631: ConvergenceWarning: Objective did not converge. You might want to increase the number of iterations. Duality gap: 0.1324747085094944, tolerance: 0.07955789648419173\n",
      "  model = cd_fast.enet_coordinate_descent_gram(\n",
      "/Applications/venv/CPTAC_Protein/lib/python3.9/site-packages/sklearn/linear_model/_coordinate_descent.py:631: ConvergenceWarning: Objective did not converge. You might want to increase the number of iterations. Duality gap: 0.0949451767743752, tolerance: 0.07855244737808692\n",
      "  model = cd_fast.enet_coordinate_descent_gram(\n",
      "/Applications/venv/CPTAC_Protein/lib/python3.9/site-packages/sklearn/linear_model/_coordinate_descent.py:631: ConvergenceWarning: Objective did not converge. You might want to increase the number of iterations. Duality gap: 0.10138644493907956, tolerance: 0.07493740681589617\n",
      "  model = cd_fast.enet_coordinate_descent_gram(\n",
      "/Applications/venv/CPTAC_Protein/lib/python3.9/site-packages/sklearn/linear_model/_coordinate_descent.py:631: ConvergenceWarning: Objective did not converge. You might want to increase the number of iterations. Duality gap: 0.14330447940167712, tolerance: 0.07855244737808692\n",
      "  model = cd_fast.enet_coordinate_descent_gram(\n",
      "/Applications/venv/CPTAC_Protein/lib/python3.9/site-packages/sklearn/linear_model/_coordinate_descent.py:631: ConvergenceWarning: Objective did not converge. You might want to increase the number of iterations. Duality gap: 0.1258258530402454, tolerance: 0.07973353126358647\n",
      "  model = cd_fast.enet_coordinate_descent_gram(\n",
      "/Applications/venv/CPTAC_Protein/lib/python3.9/site-packages/sklearn/linear_model/_coordinate_descent.py:631: ConvergenceWarning: Objective did not converge. You might want to increase the number of iterations. Duality gap: 0.10067946679288697, tolerance: 0.07493740681589617\n",
      "  model = cd_fast.enet_coordinate_descent_gram(\n",
      "/Applications/venv/CPTAC_Protein/lib/python3.9/site-packages/sklearn/linear_model/_coordinate_descent.py:631: ConvergenceWarning: Objective did not converge. You might want to increase the number of iterations. Duality gap: 0.14960004952215877, tolerance: 0.07955789648419173\n",
      "  model = cd_fast.enet_coordinate_descent_gram(\n",
      "/Applications/venv/CPTAC_Protein/lib/python3.9/site-packages/sklearn/linear_model/_coordinate_descent.py:631: ConvergenceWarning: Objective did not converge. You might want to increase the number of iterations. Duality gap: 0.0817908381404786, tolerance: 0.07855244737808692\n",
      "  model = cd_fast.enet_coordinate_descent_gram(\n",
      "/Applications/venv/CPTAC_Protein/lib/python3.9/site-packages/sklearn/linear_model/_coordinate_descent.py:631: ConvergenceWarning: Objective did not converge. You might want to increase the number of iterations. Duality gap: 0.11007920983591646, tolerance: 0.07855244737808692\n",
      "  model = cd_fast.enet_coordinate_descent_gram(\n",
      "/Applications/venv/CPTAC_Protein/lib/python3.9/site-packages/sklearn/linear_model/_coordinate_descent.py:631: ConvergenceWarning: Objective did not converge. You might want to increase the number of iterations. Duality gap: 0.07892813824887623, tolerance: 0.07493740681589617\n",
      "  model = cd_fast.enet_coordinate_descent_gram(\n",
      "/Applications/venv/CPTAC_Protein/lib/python3.9/site-packages/sklearn/linear_model/_coordinate_descent.py:631: ConvergenceWarning: Objective did not converge. You might want to increase the number of iterations. Duality gap: 0.12201232689901764, tolerance: 0.07493740681589617\n",
      "  model = cd_fast.enet_coordinate_descent_gram(\n",
      "/Applications/venv/CPTAC_Protein/lib/python3.9/site-packages/sklearn/linear_model/_coordinate_descent.py:631: ConvergenceWarning: Objective did not converge. You might want to increase the number of iterations. Duality gap: 0.16703496650362437, tolerance: 0.07955789648419173\n",
      "  model = cd_fast.enet_coordinate_descent_gram(\n",
      "/Applications/venv/CPTAC_Protein/lib/python3.9/site-packages/sklearn/linear_model/_coordinate_descent.py:631: ConvergenceWarning: Objective did not converge. You might want to increase the number of iterations. Duality gap: 0.083518679610191, tolerance: 0.07855244737808692\n",
      "  model = cd_fast.enet_coordinate_descent_gram(\n",
      "/Applications/venv/CPTAC_Protein/lib/python3.9/site-packages/sklearn/linear_model/_coordinate_descent.py:631: ConvergenceWarning: Objective did not converge. You might want to increase the number of iterations. Duality gap: 0.12992853389921155, tolerance: 0.07493740681589617\n",
      "  model = cd_fast.enet_coordinate_descent_gram(\n",
      "/Applications/venv/CPTAC_Protein/lib/python3.9/site-packages/sklearn/linear_model/_coordinate_descent.py:631: ConvergenceWarning: Objective did not converge. You might want to increase the number of iterations. Duality gap: 0.16225893779189438, tolerance: 0.07955789648419173\n",
      "  model = cd_fast.enet_coordinate_descent_gram(\n",
      "/Applications/venv/CPTAC_Protein/lib/python3.9/site-packages/sklearn/linear_model/_coordinate_descent.py:631: ConvergenceWarning: Objective did not converge. You might want to increase the number of iterations. Duality gap: 0.10258025003507365, tolerance: 0.07855244737808692\n",
      "  model = cd_fast.enet_coordinate_descent_gram(\n",
      "/Applications/venv/CPTAC_Protein/lib/python3.9/site-packages/sklearn/linear_model/_coordinate_descent.py:631: ConvergenceWarning: Objective did not converge. You might want to increase the number of iterations. Duality gap: 0.10626110137966638, tolerance: 0.07855244737808692\n",
      "  model = cd_fast.enet_coordinate_descent_gram(\n",
      "/Applications/venv/CPTAC_Protein/lib/python3.9/site-packages/sklearn/linear_model/_coordinate_descent.py:631: ConvergenceWarning: Objective did not converge. You might want to increase the number of iterations. Duality gap: 0.12417188696106729, tolerance: 0.07493740681589617\n",
      "  model = cd_fast.enet_coordinate_descent_gram(\n",
      "/Applications/venv/CPTAC_Protein/lib/python3.9/site-packages/sklearn/linear_model/_coordinate_descent.py:631: ConvergenceWarning: Objective did not converge. You might want to increase the number of iterations. Duality gap: 0.12291593018105385, tolerance: 0.07493740681589617\n",
      "  model = cd_fast.enet_coordinate_descent_gram(\n",
      "/Applications/venv/CPTAC_Protein/lib/python3.9/site-packages/sklearn/linear_model/_coordinate_descent.py:631: ConvergenceWarning: Objective did not converge. You might want to increase the number of iterations. Duality gap: 0.1102334473030806, tolerance: 0.07493740681589617\n",
      "  model = cd_fast.enet_coordinate_descent_gram(\n",
      "/Applications/venv/CPTAC_Protein/lib/python3.9/site-packages/sklearn/linear_model/_coordinate_descent.py:631: ConvergenceWarning: Objective did not converge. You might want to increase the number of iterations. Duality gap: 0.12380428529804943, tolerance: 0.07493740681589617\n",
      "  model = cd_fast.enet_coordinate_descent_gram(\n",
      "/Applications/venv/CPTAC_Protein/lib/python3.9/site-packages/sklearn/linear_model/_coordinate_descent.py:631: ConvergenceWarning: Objective did not converge. You might want to increase the number of iterations. Duality gap: 0.15888008009768217, tolerance: 0.07855244737808692\n",
      "  model = cd_fast.enet_coordinate_descent_gram(\n",
      "/Applications/venv/CPTAC_Protein/lib/python3.9/site-packages/sklearn/linear_model/_coordinate_descent.py:631: ConvergenceWarning: Objective did not converge. You might want to increase the number of iterations. Duality gap: 0.11907778860527252, tolerance: 0.07855244737808692\n",
      "  model = cd_fast.enet_coordinate_descent_gram(\n",
      "/Applications/venv/CPTAC_Protein/lib/python3.9/site-packages/sklearn/linear_model/_coordinate_descent.py:631: ConvergenceWarning: Objective did not converge. You might want to increase the number of iterations. Duality gap: 0.14466985251183395, tolerance: 0.07855244737808692\n",
      "  model = cd_fast.enet_coordinate_descent_gram(\n",
      "/Applications/venv/CPTAC_Protein/lib/python3.9/site-packages/sklearn/linear_model/_coordinate_descent.py:631: ConvergenceWarning: Objective did not converge. You might want to increase the number of iterations. Duality gap: 0.09055560452457989, tolerance: 0.07855244737808692\n",
      "  model = cd_fast.enet_coordinate_descent_gram(\n",
      "/Applications/venv/CPTAC_Protein/lib/python3.9/site-packages/sklearn/linear_model/_coordinate_descent.py:631: ConvergenceWarning: Objective did not converge. You might want to increase the number of iterations. Duality gap: 0.1447247260064759, tolerance: 0.07493740681589617\n",
      "  model = cd_fast.enet_coordinate_descent_gram(\n",
      "/Applications/venv/CPTAC_Protein/lib/python3.9/site-packages/sklearn/linear_model/_coordinate_descent.py:631: ConvergenceWarning: Objective did not converge. You might want to increase the number of iterations. Duality gap: 0.08340130297025716, tolerance: 0.07855244737808692\n",
      "  model = cd_fast.enet_coordinate_descent_gram(\n",
      "/Applications/venv/CPTAC_Protein/lib/python3.9/site-packages/sklearn/linear_model/_coordinate_descent.py:631: ConvergenceWarning: Objective did not converge. You might want to increase the number of iterations. Duality gap: 0.09856946188955851, tolerance: 0.07493740681589617\n",
      "  model = cd_fast.enet_coordinate_descent_gram(\n",
      "/Applications/venv/CPTAC_Protein/lib/python3.9/site-packages/sklearn/linear_model/_coordinate_descent.py:631: ConvergenceWarning: Objective did not converge. You might want to increase the number of iterations. Duality gap: 0.14138816255278552, tolerance: 0.07493740681589617\n",
      "  model = cd_fast.enet_coordinate_descent_gram(\n",
      "/Applications/venv/CPTAC_Protein/lib/python3.9/site-packages/sklearn/linear_model/_coordinate_descent.py:631: ConvergenceWarning: Objective did not converge. You might want to increase the number of iterations. Duality gap: 0.11546423977529652, tolerance: 0.07493740681589617\n",
      "  model = cd_fast.enet_coordinate_descent_gram(\n",
      "/Applications/venv/CPTAC_Protein/lib/python3.9/site-packages/sklearn/linear_model/_coordinate_descent.py:631: ConvergenceWarning: Objective did not converge. You might want to increase the number of iterations. Duality gap: 0.17045877486940686, tolerance: 0.07855244737808692\n",
      "  model = cd_fast.enet_coordinate_descent_gram(\n",
      "/Applications/venv/CPTAC_Protein/lib/python3.9/site-packages/sklearn/linear_model/_coordinate_descent.py:631: ConvergenceWarning: Objective did not converge. You might want to increase the number of iterations. Duality gap: 0.1377720847627537, tolerance: 0.07493740681589617\n",
      "  model = cd_fast.enet_coordinate_descent_gram(\n",
      "/Applications/venv/CPTAC_Protein/lib/python3.9/site-packages/sklearn/linear_model/_coordinate_descent.py:631: ConvergenceWarning: Objective did not converge. You might want to increase the number of iterations. Duality gap: 0.13514757927176313, tolerance: 0.07493740681589617\n",
      "  model = cd_fast.enet_coordinate_descent_gram(\n",
      "/Applications/venv/CPTAC_Protein/lib/python3.9/site-packages/sklearn/linear_model/_coordinate_descent.py:631: ConvergenceWarning: Objective did not converge. You might want to increase the number of iterations. Duality gap: 0.1623360655180046, tolerance: 0.07855244737808692\n",
      "  model = cd_fast.enet_coordinate_descent_gram(\n",
      "/Applications/venv/CPTAC_Protein/lib/python3.9/site-packages/sklearn/linear_model/_coordinate_descent.py:631: ConvergenceWarning: Objective did not converge. You might want to increase the number of iterations. Duality gap: 0.12954977308567672, tolerance: 0.07493740681589617\n",
      "  model = cd_fast.enet_coordinate_descent_gram(\n",
      "/Applications/venv/CPTAC_Protein/lib/python3.9/site-packages/sklearn/linear_model/_coordinate_descent.py:631: ConvergenceWarning: Objective did not converge. You might want to increase the number of iterations. Duality gap: 0.12684439774010303, tolerance: 0.07493740681589617\n",
      "  model = cd_fast.enet_coordinate_descent_gram(\n",
      "/Applications/venv/CPTAC_Protein/lib/python3.9/site-packages/sklearn/linear_model/_coordinate_descent.py:631: ConvergenceWarning: Objective did not converge. You might want to increase the number of iterations. Duality gap: 0.09718899346232224, tolerance: 0.07955789648419173\n",
      "  model = cd_fast.enet_coordinate_descent_gram(\n",
      "/Applications/venv/CPTAC_Protein/lib/python3.9/site-packages/sklearn/linear_model/_coordinate_descent.py:631: ConvergenceWarning: Objective did not converge. You might want to increase the number of iterations. Duality gap: 0.12425801054037589, tolerance: 0.07230951678241665\n",
      "  model = cd_fast.enet_coordinate_descent_gram(\n",
      "/Applications/venv/CPTAC_Protein/lib/python3.9/site-packages/sklearn/linear_model/_coordinate_descent.py:631: ConvergenceWarning: Objective did not converge. You might want to increase the number of iterations. Duality gap: 0.10419028278645293, tolerance: 0.07973353126358647\n",
      "  model = cd_fast.enet_coordinate_descent_gram(\n",
      "/Applications/venv/CPTAC_Protein/lib/python3.9/site-packages/sklearn/linear_model/_coordinate_descent.py:631: ConvergenceWarning: Objective did not converge. You might want to increase the number of iterations. Duality gap: 0.16280941493997236, tolerance: 0.07973353126358647\n",
      "  model = cd_fast.enet_coordinate_descent_gram(\n",
      "/Applications/venv/CPTAC_Protein/lib/python3.9/site-packages/sklearn/linear_model/_coordinate_descent.py:631: ConvergenceWarning: Objective did not converge. You might want to increase the number of iterations. Duality gap: 0.15490807576655907, tolerance: 0.07955789648419173\n",
      "  model = cd_fast.enet_coordinate_descent_gram(\n",
      "/Applications/venv/CPTAC_Protein/lib/python3.9/site-packages/sklearn/linear_model/_coordinate_descent.py:631: ConvergenceWarning: Objective did not converge. You might want to increase the number of iterations. Duality gap: 0.16841531250388453, tolerance: 0.07955789648419173\n",
      "  model = cd_fast.enet_coordinate_descent_gram(\n",
      "Running elastic model with corum transcripts:   9%|▊         | 954/10921 [08:28<2:49:45,  1.02s/it]"
     ]
    },
    {
     "name": "stdout",
     "output_type": "stream",
     "text": [
      "corr: [0.6307], r2: [0.18918]\n",
      "Doing 954: BUD31\n"
     ]
    },
    {
     "name": "stderr",
     "output_type": "stream",
     "text": [
      "/Applications/venv/CPTAC_Protein/lib/python3.9/site-packages/sklearn/linear_model/_coordinate_descent.py:631: ConvergenceWarning: Objective did not converge. You might want to increase the number of iterations. Duality gap: 0.046952240329790396, tolerance: 0.0467831240268992\n",
      "  model = cd_fast.enet_coordinate_descent_gram(\n",
      "/Applications/venv/CPTAC_Protein/lib/python3.9/site-packages/sklearn/linear_model/_coordinate_descent.py:631: ConvergenceWarning: Objective did not converge. You might want to increase the number of iterations. Duality gap: 0.04712318255061776, tolerance: 0.0467831240268992\n",
      "  model = cd_fast.enet_coordinate_descent_gram(\n",
      "/Applications/venv/CPTAC_Protein/lib/python3.9/site-packages/sklearn/linear_model/_coordinate_descent.py:631: ConvergenceWarning: Objective did not converge. You might want to increase the number of iterations. Duality gap: 0.07574378504023827, tolerance: 0.048926221463005806\n",
      "  model = cd_fast.enet_coordinate_descent_gram(\n",
      "/Applications/venv/CPTAC_Protein/lib/python3.9/site-packages/sklearn/linear_model/_coordinate_descent.py:631: ConvergenceWarning: Objective did not converge. You might want to increase the number of iterations. Duality gap: 0.043255739818438776, tolerance: 0.04249353341782687\n",
      "  model = cd_fast.enet_coordinate_descent_gram(\n",
      "/Applications/venv/CPTAC_Protein/lib/python3.9/site-packages/sklearn/linear_model/_coordinate_descent.py:631: ConvergenceWarning: Objective did not converge. You might want to increase the number of iterations. Duality gap: 0.06745634196121397, tolerance: 0.048926221463005806\n",
      "  model = cd_fast.enet_coordinate_descent_gram(\n",
      "/Applications/venv/CPTAC_Protein/lib/python3.9/site-packages/sklearn/linear_model/_coordinate_descent.py:631: ConvergenceWarning: Objective did not converge. You might want to increase the number of iterations. Duality gap: 0.0483056011569003, tolerance: 0.0467831240268992\n",
      "  model = cd_fast.enet_coordinate_descent_gram(\n",
      "/Applications/venv/CPTAC_Protein/lib/python3.9/site-packages/sklearn/linear_model/_coordinate_descent.py:631: ConvergenceWarning: Objective did not converge. You might want to increase the number of iterations. Duality gap: 0.05901329989055837, tolerance: 0.0467831240268992\n",
      "  model = cd_fast.enet_coordinate_descent_gram(\n",
      "/Applications/venv/CPTAC_Protein/lib/python3.9/site-packages/sklearn/linear_model/_coordinate_descent.py:631: ConvergenceWarning: Objective did not converge. You might want to increase the number of iterations. Duality gap: 0.05595209823321978, tolerance: 0.0467831240268992\n",
      "  model = cd_fast.enet_coordinate_descent_gram(\n",
      "/Applications/venv/CPTAC_Protein/lib/python3.9/site-packages/sklearn/linear_model/_coordinate_descent.py:631: ConvergenceWarning: Objective did not converge. You might want to increase the number of iterations. Duality gap: 0.043532686677836274, tolerance: 0.04249353341782687\n",
      "  model = cd_fast.enet_coordinate_descent_gram(\n",
      "/Applications/venv/CPTAC_Protein/lib/python3.9/site-packages/sklearn/linear_model/_coordinate_descent.py:631: ConvergenceWarning: Objective did not converge. You might want to increase the number of iterations. Duality gap: 0.04480723234561079, tolerance: 0.04249353341782687\n",
      "  model = cd_fast.enet_coordinate_descent_gram(\n",
      "/Applications/venv/CPTAC_Protein/lib/python3.9/site-packages/sklearn/linear_model/_coordinate_descent.py:631: ConvergenceWarning: Objective did not converge. You might want to increase the number of iterations. Duality gap: 0.12895433127330813, tolerance: 0.048926221463005806\n",
      "  model = cd_fast.enet_coordinate_descent_gram(\n",
      "/Applications/venv/CPTAC_Protein/lib/python3.9/site-packages/sklearn/linear_model/_coordinate_descent.py:631: ConvergenceWarning: Objective did not converge. You might want to increase the number of iterations. Duality gap: 0.05848231555364203, tolerance: 0.0467831240268992\n",
      "  model = cd_fast.enet_coordinate_descent_gram(\n",
      "/Applications/venv/CPTAC_Protein/lib/python3.9/site-packages/sklearn/linear_model/_coordinate_descent.py:631: ConvergenceWarning: Objective did not converge. You might want to increase the number of iterations. Duality gap: 0.07031832286572559, tolerance: 0.048926221463005806\n",
      "  model = cd_fast.enet_coordinate_descent_gram(\n",
      "/Applications/venv/CPTAC_Protein/lib/python3.9/site-packages/sklearn/linear_model/_coordinate_descent.py:631: ConvergenceWarning: Objective did not converge. You might want to increase the number of iterations. Duality gap: 0.13317164831119666, tolerance: 0.048926221463005806\n",
      "  model = cd_fast.enet_coordinate_descent_gram(\n",
      "/Applications/venv/CPTAC_Protein/lib/python3.9/site-packages/sklearn/linear_model/_coordinate_descent.py:631: ConvergenceWarning: Objective did not converge. You might want to increase the number of iterations. Duality gap: 0.05734611304356729, tolerance: 0.048926221463005806\n",
      "  model = cd_fast.enet_coordinate_descent_gram(\n",
      "/Applications/venv/CPTAC_Protein/lib/python3.9/site-packages/sklearn/linear_model/_coordinate_descent.py:631: ConvergenceWarning: Objective did not converge. You might want to increase the number of iterations. Duality gap: 0.06247024576779214, tolerance: 0.0467831240268992\n",
      "  model = cd_fast.enet_coordinate_descent_gram(\n",
      "/Applications/venv/CPTAC_Protein/lib/python3.9/site-packages/sklearn/linear_model/_coordinate_descent.py:631: ConvergenceWarning: Objective did not converge. You might want to increase the number of iterations. Duality gap: 0.061138216869284445, tolerance: 0.048926221463005806\n",
      "  model = cd_fast.enet_coordinate_descent_gram(\n",
      "/Applications/venv/CPTAC_Protein/lib/python3.9/site-packages/sklearn/linear_model/_coordinate_descent.py:631: ConvergenceWarning: Objective did not converge. You might want to increase the number of iterations. Duality gap: 0.07265638125308227, tolerance: 0.0467831240268992\n",
      "  model = cd_fast.enet_coordinate_descent_gram(\n",
      "/Applications/venv/CPTAC_Protein/lib/python3.9/site-packages/sklearn/linear_model/_coordinate_descent.py:631: ConvergenceWarning: Objective did not converge. You might want to increase the number of iterations. Duality gap: 0.056527225335919695, tolerance: 0.048926221463005806\n",
      "  model = cd_fast.enet_coordinate_descent_gram(\n",
      "/Applications/venv/CPTAC_Protein/lib/python3.9/site-packages/sklearn/linear_model/_coordinate_descent.py:631: ConvergenceWarning: Objective did not converge. You might want to increase the number of iterations. Duality gap: 0.12764184901293474, tolerance: 0.048926221463005806\n",
      "  model = cd_fast.enet_coordinate_descent_gram(\n",
      "/Applications/venv/CPTAC_Protein/lib/python3.9/site-packages/sklearn/linear_model/_coordinate_descent.py:631: ConvergenceWarning: Objective did not converge. You might want to increase the number of iterations. Duality gap: 0.06980457842784293, tolerance: 0.048926221463005806\n",
      "  model = cd_fast.enet_coordinate_descent_gram(\n",
      "/Applications/venv/CPTAC_Protein/lib/python3.9/site-packages/sklearn/linear_model/_coordinate_descent.py:631: ConvergenceWarning: Objective did not converge. You might want to increase the number of iterations. Duality gap: 0.11231927924408014, tolerance: 0.048926221463005806\n",
      "  model = cd_fast.enet_coordinate_descent_gram(\n",
      "/Applications/venv/CPTAC_Protein/lib/python3.9/site-packages/sklearn/linear_model/_coordinate_descent.py:631: ConvergenceWarning: Objective did not converge. You might want to increase the number of iterations. Duality gap: 0.05052740944271905, tolerance: 0.0467831240268992\n",
      "  model = cd_fast.enet_coordinate_descent_gram(\n",
      "/Applications/venv/CPTAC_Protein/lib/python3.9/site-packages/sklearn/linear_model/_coordinate_descent.py:631: ConvergenceWarning: Objective did not converge. You might want to increase the number of iterations. Duality gap: 0.06839861869081831, tolerance: 0.0467831240268992\n",
      "  model = cd_fast.enet_coordinate_descent_gram(\n",
      "/Applications/venv/CPTAC_Protein/lib/python3.9/site-packages/sklearn/linear_model/_coordinate_descent.py:631: ConvergenceWarning: Objective did not converge. You might want to increase the number of iterations. Duality gap: 0.056431133813916734, tolerance: 0.0467831240268992\n",
      "  model = cd_fast.enet_coordinate_descent_gram(\n",
      "/Applications/venv/CPTAC_Protein/lib/python3.9/site-packages/sklearn/linear_model/_coordinate_descent.py:631: ConvergenceWarning: Objective did not converge. You might want to increase the number of iterations. Duality gap: 0.053650610683240174, tolerance: 0.048926221463005806\n",
      "  model = cd_fast.enet_coordinate_descent_gram(\n",
      "/Applications/venv/CPTAC_Protein/lib/python3.9/site-packages/sklearn/linear_model/_coordinate_descent.py:631: ConvergenceWarning: Objective did not converge. You might want to increase the number of iterations. Duality gap: 0.12992657036913213, tolerance: 0.048926221463005806\n",
      "  model = cd_fast.enet_coordinate_descent_gram(\n",
      "/Applications/venv/CPTAC_Protein/lib/python3.9/site-packages/sklearn/linear_model/_coordinate_descent.py:631: ConvergenceWarning: Objective did not converge. You might want to increase the number of iterations. Duality gap: 0.07110171891947337, tolerance: 0.048926221463005806\n",
      "  model = cd_fast.enet_coordinate_descent_gram(\n",
      "/Applications/venv/CPTAC_Protein/lib/python3.9/site-packages/sklearn/linear_model/_coordinate_descent.py:631: ConvergenceWarning: Objective did not converge. You might want to increase the number of iterations. Duality gap: 0.06220438597318978, tolerance: 0.0467831240268992\n",
      "  model = cd_fast.enet_coordinate_descent_gram(\n",
      "/Applications/venv/CPTAC_Protein/lib/python3.9/site-packages/sklearn/linear_model/_coordinate_descent.py:631: ConvergenceWarning: Objective did not converge. You might want to increase the number of iterations. Duality gap: 0.1313004896187513, tolerance: 0.048926221463005806\n",
      "  model = cd_fast.enet_coordinate_descent_gram(\n",
      "/Applications/venv/CPTAC_Protein/lib/python3.9/site-packages/sklearn/linear_model/_coordinate_descent.py:631: ConvergenceWarning: Objective did not converge. You might want to increase the number of iterations. Duality gap: 0.062141236572435865, tolerance: 0.04879703279574899\n",
      "  model = cd_fast.enet_coordinate_descent_gram(\n",
      "/Applications/venv/CPTAC_Protein/lib/python3.9/site-packages/sklearn/linear_model/_coordinate_descent.py:631: ConvergenceWarning: Objective did not converge. You might want to increase the number of iterations. Duality gap: 0.10391316729453193, tolerance: 0.048926221463005806\n",
      "  model = cd_fast.enet_coordinate_descent_gram(\n",
      "/Applications/venv/CPTAC_Protein/lib/python3.9/site-packages/sklearn/linear_model/_coordinate_descent.py:631: ConvergenceWarning: Objective did not converge. You might want to increase the number of iterations. Duality gap: 0.050143554163302184, tolerance: 0.04879703279574899\n",
      "  model = cd_fast.enet_coordinate_descent_gram(\n",
      "/Applications/venv/CPTAC_Protein/lib/python3.9/site-packages/sklearn/linear_model/_coordinate_descent.py:631: ConvergenceWarning: Objective did not converge. You might want to increase the number of iterations. Duality gap: 0.05666920660268149, tolerance: 0.0467831240268992\n",
      "  model = cd_fast.enet_coordinate_descent_gram(\n",
      "/Applications/venv/CPTAC_Protein/lib/python3.9/site-packages/sklearn/linear_model/_coordinate_descent.py:631: ConvergenceWarning: Objective did not converge. You might want to increase the number of iterations. Duality gap: 0.06011584973582851, tolerance: 0.0467831240268992\n",
      "  model = cd_fast.enet_coordinate_descent_gram(\n",
      "/Applications/venv/CPTAC_Protein/lib/python3.9/site-packages/sklearn/linear_model/_coordinate_descent.py:631: ConvergenceWarning: Objective did not converge. You might want to increase the number of iterations. Duality gap: 0.05929770536582657, tolerance: 0.0467831240268992\n",
      "  model = cd_fast.enet_coordinate_descent_gram(\n",
      "/Applications/venv/CPTAC_Protein/lib/python3.9/site-packages/sklearn/linear_model/_coordinate_descent.py:631: ConvergenceWarning: Objective did not converge. You might want to increase the number of iterations. Duality gap: 0.12256499033085078, tolerance: 0.048926221463005806\n",
      "  model = cd_fast.enet_coordinate_descent_gram(\n",
      "/Applications/venv/CPTAC_Protein/lib/python3.9/site-packages/sklearn/linear_model/_coordinate_descent.py:631: ConvergenceWarning: Objective did not converge. You might want to increase the number of iterations. Duality gap: 0.11170816634831704, tolerance: 0.048926221463005806\n",
      "  model = cd_fast.enet_coordinate_descent_gram(\n",
      "/Applications/venv/CPTAC_Protein/lib/python3.9/site-packages/sklearn/linear_model/_coordinate_descent.py:631: ConvergenceWarning: Objective did not converge. You might want to increase the number of iterations. Duality gap: 0.06153203860877898, tolerance: 0.04879703279574899\n",
      "  model = cd_fast.enet_coordinate_descent_gram(\n",
      "/Applications/venv/CPTAC_Protein/lib/python3.9/site-packages/sklearn/linear_model/_coordinate_descent.py:631: ConvergenceWarning: Objective did not converge. You might want to increase the number of iterations. Duality gap: 0.04810694441589014, tolerance: 0.0467831240268992\n",
      "  model = cd_fast.enet_coordinate_descent_gram(\n",
      "/Applications/venv/CPTAC_Protein/lib/python3.9/site-packages/sklearn/linear_model/_coordinate_descent.py:631: ConvergenceWarning: Objective did not converge. You might want to increase the number of iterations. Duality gap: 0.09129662540241945, tolerance: 0.0467831240268992\n",
      "  model = cd_fast.enet_coordinate_descent_gram(\n",
      "/Applications/venv/CPTAC_Protein/lib/python3.9/site-packages/sklearn/linear_model/_coordinate_descent.py:631: ConvergenceWarning: Objective did not converge. You might want to increase the number of iterations. Duality gap: 0.05792341575796378, tolerance: 0.04879703279574899\n",
      "  model = cd_fast.enet_coordinate_descent_gram(\n",
      "/Applications/venv/CPTAC_Protein/lib/python3.9/site-packages/sklearn/linear_model/_coordinate_descent.py:631: ConvergenceWarning: Objective did not converge. You might want to increase the number of iterations. Duality gap: 0.09692597918380264, tolerance: 0.048926221463005806\n",
      "  model = cd_fast.enet_coordinate_descent_gram(\n",
      "/Applications/venv/CPTAC_Protein/lib/python3.9/site-packages/sklearn/linear_model/_coordinate_descent.py:631: ConvergenceWarning: Objective did not converge. You might want to increase the number of iterations. Duality gap: 0.06055002379186902, tolerance: 0.04879703279574899\n",
      "  model = cd_fast.enet_coordinate_descent_gram(\n",
      "/Applications/venv/CPTAC_Protein/lib/python3.9/site-packages/sklearn/linear_model/_coordinate_descent.py:631: ConvergenceWarning: Objective did not converge. You might want to increase the number of iterations. Duality gap: 0.18718759021487008, tolerance: 0.048926221463005806\n",
      "  model = cd_fast.enet_coordinate_descent_gram(\n",
      "/Applications/venv/CPTAC_Protein/lib/python3.9/site-packages/sklearn/linear_model/_coordinate_descent.py:631: ConvergenceWarning: Objective did not converge. You might want to increase the number of iterations. Duality gap: 0.1068532949417853, tolerance: 0.048926221463005806\n",
      "  model = cd_fast.enet_coordinate_descent_gram(\n",
      "/Applications/venv/CPTAC_Protein/lib/python3.9/site-packages/sklearn/linear_model/_coordinate_descent.py:631: ConvergenceWarning: Objective did not converge. You might want to increase the number of iterations. Duality gap: 0.061315660563231233, tolerance: 0.04879703279574899\n",
      "  model = cd_fast.enet_coordinate_descent_gram(\n",
      "/Applications/venv/CPTAC_Protein/lib/python3.9/site-packages/sklearn/linear_model/_coordinate_descent.py:631: ConvergenceWarning: Objective did not converge. You might want to increase the number of iterations. Duality gap: 0.08911157400984138, tolerance: 0.0467831240268992\n",
      "  model = cd_fast.enet_coordinate_descent_gram(\n",
      "/Applications/venv/CPTAC_Protein/lib/python3.9/site-packages/sklearn/linear_model/_coordinate_descent.py:631: ConvergenceWarning: Objective did not converge. You might want to increase the number of iterations. Duality gap: 0.08845928212873799, tolerance: 0.0467831240268992\n",
      "  model = cd_fast.enet_coordinate_descent_gram(\n",
      "/Applications/venv/CPTAC_Protein/lib/python3.9/site-packages/sklearn/linear_model/_coordinate_descent.py:631: ConvergenceWarning: Objective did not converge. You might want to increase the number of iterations. Duality gap: 0.13120347866296944, tolerance: 0.048926221463005806\n",
      "  model = cd_fast.enet_coordinate_descent_gram(\n",
      "/Applications/venv/CPTAC_Protein/lib/python3.9/site-packages/sklearn/linear_model/_coordinate_descent.py:631: ConvergenceWarning: Objective did not converge. You might want to increase the number of iterations. Duality gap: 0.05791528733030038, tolerance: 0.04879703279574899\n",
      "  model = cd_fast.enet_coordinate_descent_gram(\n",
      "/Applications/venv/CPTAC_Protein/lib/python3.9/site-packages/sklearn/linear_model/_coordinate_descent.py:631: ConvergenceWarning: Objective did not converge. You might want to increase the number of iterations. Duality gap: 0.09956949083985478, tolerance: 0.048926221463005806\n",
      "  model = cd_fast.enet_coordinate_descent_gram(\n",
      "/Applications/venv/CPTAC_Protein/lib/python3.9/site-packages/sklearn/linear_model/_coordinate_descent.py:631: ConvergenceWarning: Objective did not converge. You might want to increase the number of iterations. Duality gap: 0.0860837660448337, tolerance: 0.0467831240268992\n",
      "  model = cd_fast.enet_coordinate_descent_gram(\n",
      "/Applications/venv/CPTAC_Protein/lib/python3.9/site-packages/sklearn/linear_model/_coordinate_descent.py:631: ConvergenceWarning: Objective did not converge. You might want to increase the number of iterations. Duality gap: 0.05627258533681356, tolerance: 0.04879703279574899\n",
      "  model = cd_fast.enet_coordinate_descent_gram(\n",
      "/Applications/venv/CPTAC_Protein/lib/python3.9/site-packages/sklearn/linear_model/_coordinate_descent.py:631: ConvergenceWarning: Objective did not converge. You might want to increase the number of iterations. Duality gap: 0.05274030567048715, tolerance: 0.0467831240268992\n",
      "  model = cd_fast.enet_coordinate_descent_gram(\n",
      "/Applications/venv/CPTAC_Protein/lib/python3.9/site-packages/sklearn/linear_model/_coordinate_descent.py:631: ConvergenceWarning: Objective did not converge. You might want to increase the number of iterations. Duality gap: 0.10912903341857794, tolerance: 0.048926221463005806\n",
      "  model = cd_fast.enet_coordinate_descent_gram(\n",
      "/Applications/venv/CPTAC_Protein/lib/python3.9/site-packages/sklearn/linear_model/_coordinate_descent.py:631: ConvergenceWarning: Objective did not converge. You might want to increase the number of iterations. Duality gap: 0.08426682076026726, tolerance: 0.048926221463005806\n",
      "  model = cd_fast.enet_coordinate_descent_gram(\n",
      "/Applications/venv/CPTAC_Protein/lib/python3.9/site-packages/sklearn/linear_model/_coordinate_descent.py:631: ConvergenceWarning: Objective did not converge. You might want to increase the number of iterations. Duality gap: 0.05371073602570897, tolerance: 0.0467831240268992\n",
      "  model = cd_fast.enet_coordinate_descent_gram(\n",
      "/Applications/venv/CPTAC_Protein/lib/python3.9/site-packages/sklearn/linear_model/_coordinate_descent.py:631: ConvergenceWarning: Objective did not converge. You might want to increase the number of iterations. Duality gap: 0.08780971488104328, tolerance: 0.0467831240268992\n",
      "  model = cd_fast.enet_coordinate_descent_gram(\n",
      "/Applications/venv/CPTAC_Protein/lib/python3.9/site-packages/sklearn/linear_model/_coordinate_descent.py:631: ConvergenceWarning: Objective did not converge. You might want to increase the number of iterations. Duality gap: 0.08329074146275461, tolerance: 0.048926221463005806\n",
      "  model = cd_fast.enet_coordinate_descent_gram(\n",
      "/Applications/venv/CPTAC_Protein/lib/python3.9/site-packages/sklearn/linear_model/_coordinate_descent.py:631: ConvergenceWarning: Objective did not converge. You might want to increase the number of iterations. Duality gap: 0.05979651457883328, tolerance: 0.04879703279574899\n",
      "  model = cd_fast.enet_coordinate_descent_gram(\n",
      "/Applications/venv/CPTAC_Protein/lib/python3.9/site-packages/sklearn/linear_model/_coordinate_descent.py:631: ConvergenceWarning: Objective did not converge. You might want to increase the number of iterations. Duality gap: 0.07571224586152692, tolerance: 0.0467831240268992\n",
      "  model = cd_fast.enet_coordinate_descent_gram(\n",
      "/Applications/venv/CPTAC_Protein/lib/python3.9/site-packages/sklearn/linear_model/_coordinate_descent.py:631: ConvergenceWarning: Objective did not converge. You might want to increase the number of iterations. Duality gap: 0.13520529470745135, tolerance: 0.048926221463005806\n",
      "  model = cd_fast.enet_coordinate_descent_gram(\n",
      "/Applications/venv/CPTAC_Protein/lib/python3.9/site-packages/sklearn/linear_model/_coordinate_descent.py:631: ConvergenceWarning: Objective did not converge. You might want to increase the number of iterations. Duality gap: 0.09307393153026977, tolerance: 0.0467831240268992\n",
      "  model = cd_fast.enet_coordinate_descent_gram(\n",
      "/Applications/venv/CPTAC_Protein/lib/python3.9/site-packages/sklearn/linear_model/_coordinate_descent.py:631: ConvergenceWarning: Objective did not converge. You might want to increase the number of iterations. Duality gap: 0.05925725598716891, tolerance: 0.0467831240268992\n",
      "  model = cd_fast.enet_coordinate_descent_gram(\n",
      "/Applications/venv/CPTAC_Protein/lib/python3.9/site-packages/sklearn/linear_model/_coordinate_descent.py:631: ConvergenceWarning: Objective did not converge. You might want to increase the number of iterations. Duality gap: 0.0829008814890031, tolerance: 0.0467831240268992\n",
      "  model = cd_fast.enet_coordinate_descent_gram(\n",
      "/Applications/venv/CPTAC_Protein/lib/python3.9/site-packages/sklearn/linear_model/_coordinate_descent.py:631: ConvergenceWarning: Objective did not converge. You might want to increase the number of iterations. Duality gap: 0.07774375146901269, tolerance: 0.0467831240268992\n",
      "  model = cd_fast.enet_coordinate_descent_gram(\n",
      "/Applications/venv/CPTAC_Protein/lib/python3.9/site-packages/sklearn/linear_model/_coordinate_descent.py:631: ConvergenceWarning: Objective did not converge. You might want to increase the number of iterations. Duality gap: 0.07850548694882509, tolerance: 0.0467831240268992\n",
      "  model = cd_fast.enet_coordinate_descent_gram(\n",
      "/Applications/venv/CPTAC_Protein/lib/python3.9/site-packages/sklearn/linear_model/_coordinate_descent.py:631: ConvergenceWarning: Objective did not converge. You might want to increase the number of iterations. Duality gap: 0.1181841916135582, tolerance: 0.048926221463005806\n",
      "  model = cd_fast.enet_coordinate_descent_gram(\n",
      "/Applications/venv/CPTAC_Protein/lib/python3.9/site-packages/sklearn/linear_model/_coordinate_descent.py:631: ConvergenceWarning: Objective did not converge. You might want to increase the number of iterations. Duality gap: 0.06994280023684185, tolerance: 0.0467831240268992\n",
      "  model = cd_fast.enet_coordinate_descent_gram(\n",
      "/Applications/venv/CPTAC_Protein/lib/python3.9/site-packages/sklearn/linear_model/_coordinate_descent.py:631: ConvergenceWarning: Objective did not converge. You might want to increase the number of iterations. Duality gap: 0.06790890762800439, tolerance: 0.0467831240268992\n",
      "  model = cd_fast.enet_coordinate_descent_gram(\n",
      "/Applications/venv/CPTAC_Protein/lib/python3.9/site-packages/sklearn/linear_model/_coordinate_descent.py:631: ConvergenceWarning: Objective did not converge. You might want to increase the number of iterations. Duality gap: 0.06164384326533323, tolerance: 0.0467831240268992\n",
      "  model = cd_fast.enet_coordinate_descent_gram(\n",
      "/Applications/venv/CPTAC_Protein/lib/python3.9/site-packages/sklearn/linear_model/_coordinate_descent.py:631: ConvergenceWarning: Objective did not converge. You might want to increase the number of iterations. Duality gap: 0.15471077819704737, tolerance: 0.048926221463005806\n",
      "  model = cd_fast.enet_coordinate_descent_gram(\n",
      "/Applications/venv/CPTAC_Protein/lib/python3.9/site-packages/sklearn/linear_model/_coordinate_descent.py:631: ConvergenceWarning: Objective did not converge. You might want to increase the number of iterations. Duality gap: 0.08066511508562524, tolerance: 0.0467831240268992\n",
      "  model = cd_fast.enet_coordinate_descent_gram(\n",
      "/Applications/venv/CPTAC_Protein/lib/python3.9/site-packages/sklearn/linear_model/_coordinate_descent.py:631: ConvergenceWarning: Objective did not converge. You might want to increase the number of iterations. Duality gap: 0.08346509731277152, tolerance: 0.0467831240268992\n",
      "  model = cd_fast.enet_coordinate_descent_gram(\n",
      "/Applications/venv/CPTAC_Protein/lib/python3.9/site-packages/sklearn/linear_model/_coordinate_descent.py:631: ConvergenceWarning: Objective did not converge. You might want to increase the number of iterations. Duality gap: 0.056902774294187, tolerance: 0.0467831240268992\n",
      "  model = cd_fast.enet_coordinate_descent_gram(\n",
      "/Applications/venv/CPTAC_Protein/lib/python3.9/site-packages/sklearn/linear_model/_coordinate_descent.py:631: ConvergenceWarning: Objective did not converge. You might want to increase the number of iterations. Duality gap: 0.06836775113509619, tolerance: 0.0467831240268992\n",
      "  model = cd_fast.enet_coordinate_descent_gram(\n",
      "/Applications/venv/CPTAC_Protein/lib/python3.9/site-packages/sklearn/linear_model/_coordinate_descent.py:631: ConvergenceWarning: Objective did not converge. You might want to increase the number of iterations. Duality gap: 0.07125538602021342, tolerance: 0.0467831240268992\n",
      "  model = cd_fast.enet_coordinate_descent_gram(\n",
      "/Applications/venv/CPTAC_Protein/lib/python3.9/site-packages/sklearn/linear_model/_coordinate_descent.py:631: ConvergenceWarning: Objective did not converge. You might want to increase the number of iterations. Duality gap: 0.06308416049171628, tolerance: 0.0467831240268992\n",
      "  model = cd_fast.enet_coordinate_descent_gram(\n",
      "/Applications/venv/CPTAC_Protein/lib/python3.9/site-packages/sklearn/linear_model/_coordinate_descent.py:631: ConvergenceWarning: Objective did not converge. You might want to increase the number of iterations. Duality gap: 0.04830396442885165, tolerance: 0.0467831240268992\n",
      "  model = cd_fast.enet_coordinate_descent_gram(\n",
      "/Applications/venv/CPTAC_Protein/lib/python3.9/site-packages/sklearn/linear_model/_coordinate_descent.py:631: ConvergenceWarning: Objective did not converge. You might want to increase the number of iterations. Duality gap: 0.0792316572736751, tolerance: 0.048926221463005806\n",
      "  model = cd_fast.enet_coordinate_descent_gram(\n",
      "/Applications/venv/CPTAC_Protein/lib/python3.9/site-packages/sklearn/linear_model/_coordinate_descent.py:631: ConvergenceWarning: Objective did not converge. You might want to increase the number of iterations. Duality gap: 0.05524093152249021, tolerance: 0.0467831240268992\n",
      "  model = cd_fast.enet_coordinate_descent_gram(\n",
      "/Applications/venv/CPTAC_Protein/lib/python3.9/site-packages/sklearn/linear_model/_coordinate_descent.py:631: ConvergenceWarning: Objective did not converge. You might want to increase the number of iterations. Duality gap: 0.07275892591321842, tolerance: 0.048926221463005806\n",
      "  model = cd_fast.enet_coordinate_descent_gram(\n",
      "/Applications/venv/CPTAC_Protein/lib/python3.9/site-packages/sklearn/linear_model/_coordinate_descent.py:631: ConvergenceWarning: Objective did not converge. You might want to increase the number of iterations. Duality gap: 0.13073423775494497, tolerance: 0.048926221463005806\n",
      "  model = cd_fast.enet_coordinate_descent_gram(\n",
      "/Applications/venv/CPTAC_Protein/lib/python3.9/site-packages/sklearn/linear_model/_coordinate_descent.py:631: ConvergenceWarning: Objective did not converge. You might want to increase the number of iterations. Duality gap: 0.07351224926431099, tolerance: 0.0467831240268992\n",
      "  model = cd_fast.enet_coordinate_descent_gram(\n",
      "/Applications/venv/CPTAC_Protein/lib/python3.9/site-packages/sklearn/linear_model/_coordinate_descent.py:631: ConvergenceWarning: Objective did not converge. You might want to increase the number of iterations. Duality gap: 0.1315687702996371, tolerance: 0.048926221463005806\n",
      "  model = cd_fast.enet_coordinate_descent_gram(\n",
      "/Applications/venv/CPTAC_Protein/lib/python3.9/site-packages/sklearn/linear_model/_coordinate_descent.py:631: ConvergenceWarning: Objective did not converge. You might want to increase the number of iterations. Duality gap: 0.0627521846183825, tolerance: 0.0467831240268992\n",
      "  model = cd_fast.enet_coordinate_descent_gram(\n",
      "/Applications/venv/CPTAC_Protein/lib/python3.9/site-packages/sklearn/linear_model/_coordinate_descent.py:631: ConvergenceWarning: Objective did not converge. You might want to increase the number of iterations. Duality gap: 0.06951701989548109, tolerance: 0.048926221463005806\n",
      "  model = cd_fast.enet_coordinate_descent_gram(\n",
      "/Applications/venv/CPTAC_Protein/lib/python3.9/site-packages/sklearn/linear_model/_coordinate_descent.py:631: ConvergenceWarning: Objective did not converge. You might want to increase the number of iterations. Duality gap: 0.08015796677818976, tolerance: 0.0467831240268992\n",
      "  model = cd_fast.enet_coordinate_descent_gram(\n",
      "/Applications/venv/CPTAC_Protein/lib/python3.9/site-packages/sklearn/linear_model/_coordinate_descent.py:631: ConvergenceWarning: Objective did not converge. You might want to increase the number of iterations. Duality gap: 0.1343804605247545, tolerance: 0.048926221463005806\n",
      "  model = cd_fast.enet_coordinate_descent_gram(\n",
      "/Applications/venv/CPTAC_Protein/lib/python3.9/site-packages/sklearn/linear_model/_coordinate_descent.py:631: ConvergenceWarning: Objective did not converge. You might want to increase the number of iterations. Duality gap: 0.08608826619192733, tolerance: 0.0467831240268992\n",
      "  model = cd_fast.enet_coordinate_descent_gram(\n",
      "/Applications/venv/CPTAC_Protein/lib/python3.9/site-packages/sklearn/linear_model/_coordinate_descent.py:631: ConvergenceWarning: Objective did not converge. You might want to increase the number of iterations. Duality gap: 0.09245694963099105, tolerance: 0.0467831240268992\n",
      "  model = cd_fast.enet_coordinate_descent_gram(\n",
      "/Applications/venv/CPTAC_Protein/lib/python3.9/site-packages/sklearn/linear_model/_coordinate_descent.py:631: ConvergenceWarning: Objective did not converge. You might want to increase the number of iterations. Duality gap: 0.19428983814499245, tolerance: 0.048926221463005806\n",
      "  model = cd_fast.enet_coordinate_descent_gram(\n",
      "/Applications/venv/CPTAC_Protein/lib/python3.9/site-packages/sklearn/linear_model/_coordinate_descent.py:631: ConvergenceWarning: Objective did not converge. You might want to increase the number of iterations. Duality gap: 0.08461648405945166, tolerance: 0.0467831240268992\n",
      "  model = cd_fast.enet_coordinate_descent_gram(\n",
      "/Applications/venv/CPTAC_Protein/lib/python3.9/site-packages/sklearn/linear_model/_coordinate_descent.py:631: ConvergenceWarning: Objective did not converge. You might want to increase the number of iterations. Duality gap: 0.04954201709903039, tolerance: 0.0467831240268992\n",
      "  model = cd_fast.enet_coordinate_descent_gram(\n",
      "/Applications/venv/CPTAC_Protein/lib/python3.9/site-packages/sklearn/linear_model/_coordinate_descent.py:631: ConvergenceWarning: Objective did not converge. You might want to increase the number of iterations. Duality gap: 0.05592348281380666, tolerance: 0.0467831240268992\n",
      "  model = cd_fast.enet_coordinate_descent_gram(\n",
      "Running elastic model with corum transcripts:   9%|▊         | 955/10921 [08:31<3:42:14,  1.34s/it]"
     ]
    },
    {
     "name": "stdout",
     "output_type": "stream",
     "text": [
      "corr: [0.21345], r2: [-0.09083]\n",
      "Doing 955: BYSL\n"
     ]
    },
    {
     "name": "stderr",
     "output_type": "stream",
     "text": [
      "Running elastic model with corum transcripts:   9%|▉         | 956/10921 [08:31<3:03:24,  1.10s/it]"
     ]
    },
    {
     "name": "stdout",
     "output_type": "stream",
     "text": [
      "corr: [0.58383], r2: [0.24735]\n",
      "Doing 956: BZW1\n"
     ]
    },
    {
     "name": "stderr",
     "output_type": "stream",
     "text": [
      "Running elastic model with corum transcripts:   9%|▉         | 957/10921 [08:32<2:40:45,  1.03it/s]"
     ]
    },
    {
     "name": "stdout",
     "output_type": "stream",
     "text": [
      "corr: [0.39333], r2: [0.14286]\n",
      "Doing 957: BZW2\n"
     ]
    },
    {
     "name": "stderr",
     "output_type": "stream",
     "text": [
      "Running elastic model with corum transcripts:   9%|▉         | 958/10921 [08:32<2:19:42,  1.19it/s]"
     ]
    },
    {
     "name": "stdout",
     "output_type": "stream",
     "text": [
      "corr: [0.61793], r2: [0.34132]\n",
      "Doing 958: C10orf35\n"
     ]
    },
    {
     "name": "stderr",
     "output_type": "stream",
     "text": [
      "Running elastic model with corum transcripts:   9%|▉         | 959/10921 [08:33<2:04:37,  1.33it/s]"
     ]
    },
    {
     "name": "stdout",
     "output_type": "stream",
     "text": [
      "corr: [0.58906], r2: [0.19603]\n",
      "Doing 959: C10orf76\n"
     ]
    },
    {
     "name": "stderr",
     "output_type": "stream",
     "text": [
      "Running elastic model with corum transcripts:   9%|▉         | 960/10921 [08:33<1:53:16,  1.47it/s]"
     ]
    },
    {
     "name": "stdout",
     "output_type": "stream",
     "text": [
      "corr: [0.29558], r2: [0.06533]\n",
      "Doing 960: C11orf52\n"
     ]
    },
    {
     "name": "stderr",
     "output_type": "stream",
     "text": [
      "Running elastic model with corum transcripts:   9%|▉         | 961/10921 [08:34<1:46:12,  1.56it/s]"
     ]
    },
    {
     "name": "stdout",
     "output_type": "stream",
     "text": [
      "corr: [0.57009], r2: [0.28032]\n",
      "Doing 961: C11orf54\n"
     ]
    },
    {
     "name": "stderr",
     "output_type": "stream",
     "text": [
      "Running elastic model with corum transcripts:   9%|▉         | 962/10921 [08:35<1:46:28,  1.56it/s]"
     ]
    },
    {
     "name": "stdout",
     "output_type": "stream",
     "text": [
      "corr: [0.61666], r2: [0.27784]\n",
      "Doing 962: C11orf57\n"
     ]
    },
    {
     "name": "stderr",
     "output_type": "stream",
     "text": [
      "Running elastic model with corum transcripts:   9%|▉         | 963/10921 [08:35<1:40:51,  1.65it/s]"
     ]
    },
    {
     "name": "stdout",
     "output_type": "stream",
     "text": [
      "corr: [0.52966], r2: [0.08271]\n",
      "Doing 963: C11orf58\n"
     ]
    },
    {
     "name": "stderr",
     "output_type": "stream",
     "text": [
      "Running elastic model with corum transcripts:   9%|▉         | 964/10921 [08:36<1:36:31,  1.72it/s]"
     ]
    },
    {
     "name": "stdout",
     "output_type": "stream",
     "text": [
      "corr: [0.42991], r2: [0.17779]\n",
      "Doing 964: C11orf68\n"
     ]
    },
    {
     "name": "stderr",
     "output_type": "stream",
     "text": [
      "Running elastic model with corum transcripts:   9%|▉         | 965/10921 [08:36<1:34:24,  1.76it/s]"
     ]
    },
    {
     "name": "stdout",
     "output_type": "stream",
     "text": [
      "corr: [0.54332], r2: [-0.20858]\n",
      "Doing 965: C11orf84\n"
     ]
    },
    {
     "name": "stderr",
     "output_type": "stream",
     "text": [
      "Running elastic model with corum transcripts:   9%|▉         | 966/10921 [08:37<1:32:24,  1.80it/s]"
     ]
    },
    {
     "name": "stdout",
     "output_type": "stream",
     "text": [
      "corr: [0.37958], r2: [-0.00553]\n",
      "Doing 966: C11orf96\n"
     ]
    },
    {
     "name": "stderr",
     "output_type": "stream",
     "text": [
      "Running elastic model with corum transcripts:   9%|▉         | 967/10921 [08:37<1:31:14,  1.82it/s]"
     ]
    },
    {
     "name": "stdout",
     "output_type": "stream",
     "text": [
      "corr: [0.38066], r2: [0.10505]\n",
      "Doing 967: C12orf10\n"
     ]
    },
    {
     "name": "stderr",
     "output_type": "stream",
     "text": [
      "Running elastic model with corum transcripts:   9%|▉         | 968/10921 [08:38<1:30:57,  1.82it/s]"
     ]
    },
    {
     "name": "stdout",
     "output_type": "stream",
     "text": [
      "corr: [0.36688], r2: [-0.15291]\n",
      "Doing 968: C12orf29\n"
     ]
    },
    {
     "name": "stderr",
     "output_type": "stream",
     "text": [
      "Running elastic model with corum transcripts:   9%|▉         | 969/10921 [08:38<1:30:53,  1.82it/s]"
     ]
    },
    {
     "name": "stdout",
     "output_type": "stream",
     "text": [
      "corr: [0.56498], r2: [0.2739]\n",
      "Doing 969: C12orf4\n"
     ]
    },
    {
     "name": "stderr",
     "output_type": "stream",
     "text": [
      "Running elastic model with corum transcripts:   9%|▉         | 970/10921 [08:39<1:30:06,  1.84it/s]"
     ]
    },
    {
     "name": "stdout",
     "output_type": "stream",
     "text": [
      "corr: [0.05319], r2: [-0.12188]\n",
      "Doing 970: C12orf43\n"
     ]
    },
    {
     "name": "stderr",
     "output_type": "stream",
     "text": [
      "Running elastic model with corum transcripts:   9%|▉         | 971/10921 [08:39<1:35:43,  1.73it/s]"
     ]
    },
    {
     "name": "stdout",
     "output_type": "stream",
     "text": [
      "corr: [0.14771], r2: [-0.76838]\n",
      "Doing 971: C12orf45\n"
     ]
    },
    {
     "name": "stderr",
     "output_type": "stream",
     "text": [
      "Running elastic model with corum transcripts:   9%|▉         | 972/10921 [08:40<1:33:49,  1.77it/s]"
     ]
    },
    {
     "name": "stdout",
     "output_type": "stream",
     "text": [
      "corr: [0.36429], r2: [-0.01192]\n",
      "Doing 972: C12orf57\n"
     ]
    },
    {
     "name": "stderr",
     "output_type": "stream",
     "text": [
      "Running elastic model with corum transcripts:   9%|▉         | 973/10921 [08:41<1:32:49,  1.79it/s]"
     ]
    },
    {
     "name": "stdout",
     "output_type": "stream",
     "text": [
      "corr: [0.44676], r2: [0.10792]\n",
      "Doing 973: C12orf75\n"
     ]
    },
    {
     "name": "stderr",
     "output_type": "stream",
     "text": [
      "Running elastic model with corum transcripts:   9%|▉         | 974/10921 [08:41<1:31:31,  1.81it/s]"
     ]
    },
    {
     "name": "stdout",
     "output_type": "stream",
     "text": [
      "corr: [0.62395], r2: [0.20799]\n",
      "Doing 974: C14orf119\n"
     ]
    },
    {
     "name": "stderr",
     "output_type": "stream",
     "text": [
      "Running elastic model with corum transcripts:   9%|▉         | 975/10921 [08:42<1:30:51,  1.82it/s]"
     ]
    },
    {
     "name": "stdout",
     "output_type": "stream",
     "text": [
      "corr: [0.09483], r2: [-0.11832]\n",
      "Doing 975: C14orf159\n"
     ]
    },
    {
     "name": "stderr",
     "output_type": "stream",
     "text": [
      "Running elastic model with corum transcripts:   9%|▉         | 976/10921 [08:42<1:29:47,  1.85it/s]"
     ]
    },
    {
     "name": "stdout",
     "output_type": "stream",
     "text": [
      "corr: [0.33748], r2: [0.08423]\n",
      "Doing 976: C14orf166\n"
     ]
    },
    {
     "name": "stderr",
     "output_type": "stream",
     "text": [
      "Running elastic model with corum transcripts:   9%|▉         | 977/10921 [08:43<1:30:40,  1.83it/s]"
     ]
    },
    {
     "name": "stdout",
     "output_type": "stream",
     "text": [
      "corr: [0.09709], r2: [-0.27367]\n",
      "Doing 977: C14orf2\n"
     ]
    },
    {
     "name": "stderr",
     "output_type": "stream",
     "text": [
      "Running elastic model with corum transcripts:   9%|▉         | 978/10921 [08:43<1:30:41,  1.83it/s]"
     ]
    },
    {
     "name": "stdout",
     "output_type": "stream",
     "text": [
      "corr: [0.19346], r2: [0.02752]\n",
      "Doing 978: C15orf38-AP3S2\n"
     ]
    },
    {
     "name": "stderr",
     "output_type": "stream",
     "text": [
      "Running elastic model with corum transcripts:   9%|▉         | 979/10921 [08:44<1:31:04,  1.82it/s]"
     ]
    },
    {
     "name": "stdout",
     "output_type": "stream",
     "text": [
      "corr: [0.42176], r2: [0.04652]\n",
      "Doing 979: C15orf39\n"
     ]
    },
    {
     "name": "stderr",
     "output_type": "stream",
     "text": [
      "Running elastic model with corum transcripts:   9%|▉         | 980/10921 [08:44<1:32:31,  1.79it/s]"
     ]
    },
    {
     "name": "stdout",
     "output_type": "stream",
     "text": [
      "corr: [0.5229], r2: [0.09672]\n",
      "Doing 980: C15orf40\n"
     ]
    },
    {
     "name": "stderr",
     "output_type": "stream",
     "text": [
      "Running elastic model with corum transcripts:   9%|▉         | 981/10921 [08:45<1:41:14,  1.64it/s]"
     ]
    },
    {
     "name": "stdout",
     "output_type": "stream",
     "text": [
      "corr: [0.28848], r2: [0.07497]\n",
      "Doing 981: C15orf41\n"
     ]
    },
    {
     "name": "stderr",
     "output_type": "stream",
     "text": [
      "Running elastic model with corum transcripts:   9%|▉         | 982/10921 [08:46<1:40:16,  1.65it/s]"
     ]
    },
    {
     "name": "stdout",
     "output_type": "stream",
     "text": [
      "corr: [0.59074], r2: [-3.69203]\n",
      "Doing 982: C15orf48\n"
     ]
    },
    {
     "name": "stderr",
     "output_type": "stream",
     "text": [
      "Running elastic model with corum transcripts:   9%|▉         | 983/10921 [08:46<1:40:24,  1.65it/s]"
     ]
    },
    {
     "name": "stdout",
     "output_type": "stream",
     "text": [
      "corr: [0.63403], r2: [0.37461]\n",
      "Doing 983: C15orf52\n"
     ]
    },
    {
     "name": "stderr",
     "output_type": "stream",
     "text": [
      "Running elastic model with corum transcripts:   9%|▉         | 984/10921 [08:47<1:40:25,  1.65it/s]"
     ]
    },
    {
     "name": "stdout",
     "output_type": "stream",
     "text": [
      "corr: [0.54235], r2: [-0.14377]\n",
      "Doing 984: C16orf58\n"
     ]
    },
    {
     "name": "stderr",
     "output_type": "stream",
     "text": [
      "Running elastic model with corum transcripts:   9%|▉         | 985/10921 [08:48<1:40:57,  1.64it/s]"
     ]
    },
    {
     "name": "stdout",
     "output_type": "stream",
     "text": [
      "corr: [0.19591], r2: [0.00702]\n",
      "Doing 985: C16orf62\n"
     ]
    },
    {
     "name": "stderr",
     "output_type": "stream",
     "text": [
      "Running elastic model with corum transcripts:   9%|▉         | 986/10921 [08:48<1:41:06,  1.64it/s]"
     ]
    },
    {
     "name": "stdout",
     "output_type": "stream",
     "text": [
      "corr: [0.43451], r2: [0.041]\n",
      "Doing 986: C16orf70\n"
     ]
    },
    {
     "name": "stderr",
     "output_type": "stream",
     "text": [
      "/Applications/venv/CPTAC_Protein/lib/python3.9/site-packages/numpy/lib/function_base.py:2691: RuntimeWarning: invalid value encountered in true_divide\n",
      "  c /= stddev[:, None]\n",
      "/Applications/venv/CPTAC_Protein/lib/python3.9/site-packages/numpy/lib/function_base.py:2692: RuntimeWarning: invalid value encountered in true_divide\n",
      "  c /= stddev[None, :]\n",
      "Running elastic model with corum transcripts:   9%|▉         | 987/10921 [08:49<1:41:11,  1.64it/s]"
     ]
    },
    {
     "name": "stdout",
     "output_type": "stream",
     "text": [
      "corr: [0], r2: [-0.0382]\n",
      "Doing 987: C16orf91\n"
     ]
    },
    {
     "name": "stderr",
     "output_type": "stream",
     "text": [
      "Running elastic model with corum transcripts:   9%|▉         | 988/10921 [08:49<1:40:15,  1.65it/s]"
     ]
    },
    {
     "name": "stdout",
     "output_type": "stream",
     "text": [
      "corr: [0.06838], r2: [-0.06826]\n",
      "Doing 988: C17orf49\n"
     ]
    },
    {
     "name": "stderr",
     "output_type": "stream",
     "text": [
      "Running elastic model with corum transcripts:   9%|▉         | 989/10921 [08:50<1:45:29,  1.57it/s]"
     ]
    },
    {
     "name": "stdout",
     "output_type": "stream",
     "text": [
      "corr: [0.33744], r2: [0.06585]\n",
      "Doing 989: C17orf58\n"
     ]
    },
    {
     "name": "stderr",
     "output_type": "stream",
     "text": [
      "/Applications/venv/CPTAC_Protein/lib/python3.9/site-packages/numpy/lib/function_base.py:2691: RuntimeWarning: invalid value encountered in true_divide\n",
      "  c /= stddev[:, None]\n",
      "/Applications/venv/CPTAC_Protein/lib/python3.9/site-packages/numpy/lib/function_base.py:2692: RuntimeWarning: invalid value encountered in true_divide\n",
      "  c /= stddev[None, :]\n",
      "Running elastic model with corum transcripts:   9%|▉         | 990/10921 [08:51<1:43:01,  1.61it/s]"
     ]
    },
    {
     "name": "stdout",
     "output_type": "stream",
     "text": [
      "corr: [0], r2: [-0.00141]\n",
      "Doing 990: C17orf62\n"
     ]
    },
    {
     "name": "stderr",
     "output_type": "stream",
     "text": [
      "Running elastic model with corum transcripts:   9%|▉         | 991/10921 [08:51<1:47:23,  1.54it/s]"
     ]
    },
    {
     "name": "stdout",
     "output_type": "stream",
     "text": [
      "corr: [0.07409], r2: [-0.11731]\n",
      "Doing 991: C17orf75\n"
     ]
    },
    {
     "name": "stderr",
     "output_type": "stream",
     "text": [
      "Running elastic model with corum transcripts:   9%|▉         | 992/10921 [08:52<1:43:21,  1.60it/s]"
     ]
    },
    {
     "name": "stdout",
     "output_type": "stream",
     "text": [
      "corr: [0.47209], r2: [0.08008]\n",
      "Doing 992: C17orf80\n"
     ]
    },
    {
     "name": "stderr",
     "output_type": "stream",
     "text": [
      "Running elastic model with corum transcripts:   9%|▉         | 993/10921 [08:53<1:41:17,  1.63it/s]"
     ]
    },
    {
     "name": "stdout",
     "output_type": "stream",
     "text": [
      "corr: [0.14951], r2: [-0.21163]\n",
      "Doing 993: C17orf97\n"
     ]
    },
    {
     "name": "stderr",
     "output_type": "stream",
     "text": [
      "Running elastic model with corum transcripts:   9%|▉         | 994/10921 [08:53<1:38:44,  1.68it/s]"
     ]
    },
    {
     "name": "stdout",
     "output_type": "stream",
     "text": [
      "corr: [0.53684], r2: [0.22916]\n",
      "Doing 994: C18orf21\n"
     ]
    },
    {
     "name": "stderr",
     "output_type": "stream",
     "text": [
      "/Applications/venv/CPTAC_Protein/lib/python3.9/site-packages/numpy/lib/function_base.py:2691: RuntimeWarning: invalid value encountered in true_divide\n",
      "  c /= stddev[:, None]\n",
      "/Applications/venv/CPTAC_Protein/lib/python3.9/site-packages/numpy/lib/function_base.py:2692: RuntimeWarning: invalid value encountered in true_divide\n",
      "  c /= stddev[None, :]\n",
      "Running elastic model with corum transcripts:   9%|▉         | 995/10921 [08:54<1:37:32,  1.70it/s]"
     ]
    },
    {
     "name": "stdout",
     "output_type": "stream",
     "text": [
      "corr: [0], r2: [-0.0129]\n",
      "Doing 995: C18orf25\n"
     ]
    },
    {
     "name": "stderr",
     "output_type": "stream",
     "text": [
      "Running elastic model with corum transcripts:   9%|▉         | 996/10921 [08:54<1:36:15,  1.72it/s]"
     ]
    },
    {
     "name": "stdout",
     "output_type": "stream",
     "text": [
      "corr: [0.56531], r2: [0.22334]\n",
      "Doing 996: C18orf32\n"
     ]
    },
    {
     "name": "stderr",
     "output_type": "stream",
     "text": [
      "Running elastic model with corum transcripts:   9%|▉         | 997/10921 [08:55<1:34:07,  1.76it/s]"
     ]
    },
    {
     "name": "stdout",
     "output_type": "stream",
     "text": [
      "corr: [0.13795], r2: [-0.04539]\n",
      "Doing 997: C18orf8\n"
     ]
    },
    {
     "name": "stderr",
     "output_type": "stream",
     "text": [
      "Running elastic model with corum transcripts:   9%|▉         | 998/10921 [08:55<1:34:04,  1.76it/s]"
     ]
    },
    {
     "name": "stdout",
     "output_type": "stream",
     "text": [
      "corr: [0.47152], r2: [0.20736]\n",
      "Doing 998: C19orf12\n"
     ]
    },
    {
     "name": "stderr",
     "output_type": "stream",
     "text": [
      "Running elastic model with corum transcripts:   9%|▉         | 999/10921 [08:56<1:33:44,  1.76it/s]"
     ]
    },
    {
     "name": "stdout",
     "output_type": "stream",
     "text": [
      "corr: [0.15606], r2: [-0.42204]\n",
      "Doing 999: C19orf25\n"
     ]
    },
    {
     "name": "stderr",
     "output_type": "stream",
     "text": [
      "/Applications/venv/CPTAC_Protein/lib/python3.9/site-packages/numpy/lib/function_base.py:2691: RuntimeWarning: invalid value encountered in true_divide\n",
      "  c /= stddev[:, None]\n",
      "/Applications/venv/CPTAC_Protein/lib/python3.9/site-packages/numpy/lib/function_base.py:2692: RuntimeWarning: invalid value encountered in true_divide\n",
      "  c /= stddev[None, :]\n",
      "Running elastic model with corum transcripts:   9%|▉         | 1000/10921 [08:57<1:40:03,  1.65it/s]"
     ]
    },
    {
     "name": "stdout",
     "output_type": "stream",
     "text": [
      "corr: [0], r2: [-1.e-05]\n",
      "Doing 1000: C19orf33\n"
     ]
    },
    {
     "name": "stderr",
     "output_type": "stream",
     "text": [
      "/Applications/venv/CPTAC_Protein/lib/python3.9/site-packages/numpy/lib/function_base.py:2691: RuntimeWarning: invalid value encountered in true_divide\n",
      "  c /= stddev[:, None]\n",
      "/Applications/venv/CPTAC_Protein/lib/python3.9/site-packages/numpy/lib/function_base.py:2692: RuntimeWarning: invalid value encountered in true_divide\n",
      "  c /= stddev[None, :]\n",
      "Running elastic model with corum transcripts:   9%|▉         | 1001/10921 [08:57<1:38:34,  1.68it/s]"
     ]
    },
    {
     "name": "stdout",
     "output_type": "stream",
     "text": [
      "corr: [0], r2: [-0.28983]\n",
      "Doing 1001: C19orf47\n"
     ]
    },
    {
     "name": "stderr",
     "output_type": "stream",
     "text": [
      "Running elastic model with corum transcripts:   9%|▉         | 1002/10921 [08:58<1:38:13,  1.68it/s]"
     ]
    },
    {
     "name": "stdout",
     "output_type": "stream",
     "text": [
      "corr: [-0.08179], r2: [-0.10794]\n",
      "Doing 1002: C19orf53\n"
     ]
    },
    {
     "name": "stderr",
     "output_type": "stream",
     "text": [
      "/Applications/venv/CPTAC_Protein/lib/python3.9/site-packages/numpy/lib/function_base.py:2691: RuntimeWarning: invalid value encountered in true_divide\n",
      "  c /= stddev[:, None]\n",
      "/Applications/venv/CPTAC_Protein/lib/python3.9/site-packages/numpy/lib/function_base.py:2692: RuntimeWarning: invalid value encountered in true_divide\n",
      "  c /= stddev[None, :]\n",
      "Running elastic model with corum transcripts:   9%|▉         | 1003/10921 [08:58<1:37:02,  1.70it/s]"
     ]
    },
    {
     "name": "stdout",
     "output_type": "stream",
     "text": [
      "corr: [0], r2: [-0.00391]\n",
      "Doing 1003: C19orf54\n"
     ]
    },
    {
     "name": "stderr",
     "output_type": "stream",
     "text": [
      "Running elastic model with corum transcripts:   9%|▉         | 1004/10921 [08:59<1:37:15,  1.70it/s]"
     ]
    },
    {
     "name": "stdout",
     "output_type": "stream",
     "text": [
      "corr: [0.08082], r2: [-0.086]\n",
      "Doing 1004: C19orf66\n"
     ]
    },
    {
     "name": "stderr",
     "output_type": "stream",
     "text": [
      "Running elastic model with corum transcripts:   9%|▉         | 1005/10921 [09:00<1:42:00,  1.62it/s]"
     ]
    },
    {
     "name": "stdout",
     "output_type": "stream",
     "text": [
      "corr: [0.65256], r2: [0.40981]\n",
      "Doing 1005: C19orf70\n"
     ]
    },
    {
     "name": "stderr",
     "output_type": "stream",
     "text": [
      "Running elastic model with corum transcripts:   9%|▉         | 1006/10921 [09:00<1:38:41,  1.67it/s]"
     ]
    },
    {
     "name": "stdout",
     "output_type": "stream",
     "text": [
      "corr: [0.22528], r2: [-0.44358]\n",
      "Doing 1006: C1D\n"
     ]
    },
    {
     "name": "stderr",
     "output_type": "stream",
     "text": [
      "/Applications/venv/CPTAC_Protein/lib/python3.9/site-packages/numpy/lib/function_base.py:2691: RuntimeWarning: invalid value encountered in true_divide\n",
      "  c /= stddev[:, None]\n",
      "/Applications/venv/CPTAC_Protein/lib/python3.9/site-packages/numpy/lib/function_base.py:2692: RuntimeWarning: invalid value encountered in true_divide\n",
      "  c /= stddev[None, :]\n",
      "Running elastic model with corum transcripts:   9%|▉         | 1007/10921 [09:01<1:42:27,  1.61it/s]"
     ]
    },
    {
     "name": "stdout",
     "output_type": "stream",
     "text": [
      "corr: [0], r2: [-0.00328]\n",
      "Doing 1007: C1GALT1\n"
     ]
    },
    {
     "name": "stderr",
     "output_type": "stream",
     "text": [
      "Running elastic model with corum transcripts:   9%|▉         | 1008/10921 [09:01<1:42:38,  1.61it/s]"
     ]
    },
    {
     "name": "stdout",
     "output_type": "stream",
     "text": [
      "corr: [0], r2: [-0.00053]\n",
      "Doing 1008: C1GALT1C1\n"
     ]
    },
    {
     "name": "stderr",
     "output_type": "stream",
     "text": [
      "Running elastic model with corum transcripts:   9%|▉         | 1009/10921 [09:02<1:46:42,  1.55it/s]"
     ]
    },
    {
     "name": "stdout",
     "output_type": "stream",
     "text": [
      "corr: [0.17245], r2: [0.01725]\n",
      "Doing 1009: C1QA\n"
     ]
    },
    {
     "name": "stderr",
     "output_type": "stream",
     "text": [
      "Running elastic model with corum transcripts:   9%|▉         | 1010/10921 [09:03<1:48:40,  1.52it/s]"
     ]
    },
    {
     "name": "stdout",
     "output_type": "stream",
     "text": [
      "corr: [0.39867], r2: [0.10156]\n",
      "Doing 1010: C1QB\n"
     ]
    },
    {
     "name": "stderr",
     "output_type": "stream",
     "text": [
      "Running elastic model with corum transcripts:   9%|▉         | 1011/10921 [09:04<1:51:33,  1.48it/s]"
     ]
    },
    {
     "name": "stdout",
     "output_type": "stream",
     "text": [
      "corr: [0.4623], r2: [0.12088]\n",
      "Doing 1011: C1QBP\n"
     ]
    },
    {
     "name": "stderr",
     "output_type": "stream",
     "text": [
      "Running elastic model with corum transcripts:   9%|▉         | 1012/10921 [09:04<1:56:41,  1.42it/s]"
     ]
    },
    {
     "name": "stdout",
     "output_type": "stream",
     "text": [
      "corr: [0.42971], r2: [0.14317]\n",
      "Doing 1012: C1QC\n"
     ]
    },
    {
     "name": "stderr",
     "output_type": "stream",
     "text": [
      "Running elastic model with corum transcripts:   9%|▉         | 1013/10921 [09:05<1:59:27,  1.38it/s]"
     ]
    },
    {
     "name": "stdout",
     "output_type": "stream",
     "text": [
      "corr: [0.48463], r2: [0.05317]\n",
      "Doing 1013: C1QTNF3\n"
     ]
    },
    {
     "name": "stderr",
     "output_type": "stream",
     "text": [
      "Running elastic model with corum transcripts:   9%|▉         | 1014/10921 [09:06<1:51:41,  1.48it/s]"
     ]
    },
    {
     "name": "stdout",
     "output_type": "stream",
     "text": [
      "corr: [0.55738], r2: [0.23817]\n",
      "Doing 1014: C1QTNF5\n"
     ]
    },
    {
     "name": "stderr",
     "output_type": "stream",
     "text": [
      "Running elastic model with corum transcripts:   9%|▉         | 1015/10921 [09:06<1:49:30,  1.51it/s]"
     ]
    },
    {
     "name": "stdout",
     "output_type": "stream",
     "text": [
      "corr: [0.57369], r2: [0.24639]\n",
      "Doing 1015: C1R\n"
     ]
    },
    {
     "name": "stderr",
     "output_type": "stream",
     "text": [
      "Running elastic model with corum transcripts:   9%|▉         | 1016/10921 [09:07<1:45:29,  1.56it/s]"
     ]
    },
    {
     "name": "stdout",
     "output_type": "stream",
     "text": [
      "corr: [0.42871], r2: [-0.00287]\n",
      "Doing 1016: C1RL\n"
     ]
    },
    {
     "name": "stderr",
     "output_type": "stream",
     "text": [
      "Running elastic model with corum transcripts:   9%|▉         | 1017/10921 [09:07<1:41:56,  1.62it/s]"
     ]
    },
    {
     "name": "stdout",
     "output_type": "stream",
     "text": [
      "corr: [0.04083], r2: [-0.3058]\n",
      "Doing 1017: C1S\n"
     ]
    },
    {
     "name": "stderr",
     "output_type": "stream",
     "text": [
      "Running elastic model with corum transcripts:   9%|▉         | 1018/10921 [09:08<1:40:23,  1.64it/s]"
     ]
    },
    {
     "name": "stdout",
     "output_type": "stream",
     "text": [
      "corr: [0.68811], r2: [0.09878]\n",
      "Doing 1018: C1orf109\n"
     ]
    },
    {
     "name": "stderr",
     "output_type": "stream",
     "text": [
      "Running elastic model with corum transcripts:   9%|▉         | 1019/10921 [09:09<1:43:49,  1.59it/s]"
     ]
    },
    {
     "name": "stdout",
     "output_type": "stream",
     "text": [
      "corr: [0.38317], r2: [-0.01203]\n",
      "Doing 1019: C1orf116\n"
     ]
    },
    {
     "name": "stderr",
     "output_type": "stream",
     "text": [
      "Running elastic model with corum transcripts:   9%|▉         | 1020/10921 [09:09<1:44:27,  1.58it/s]"
     ]
    },
    {
     "name": "stdout",
     "output_type": "stream",
     "text": [
      "corr: [0.76754], r2: [0.44834]\n",
      "Doing 1020: C1orf122\n"
     ]
    },
    {
     "name": "stderr",
     "output_type": "stream",
     "text": [
      "Running elastic model with corum transcripts:   9%|▉         | 1021/10921 [09:10<1:45:53,  1.56it/s]"
     ]
    },
    {
     "name": "stdout",
     "output_type": "stream",
     "text": [
      "corr: [0.4866], r2: [-0.33768]\n",
      "Doing 1021: C1orf123\n"
     ]
    },
    {
     "name": "stderr",
     "output_type": "stream",
     "text": [
      "Running elastic model with corum transcripts:   9%|▉         | 1022/10921 [09:11<1:41:25,  1.63it/s]"
     ]
    },
    {
     "name": "stdout",
     "output_type": "stream",
     "text": [
      "corr: [0.1583], r2: [-0.16882]\n",
      "Doing 1022: C1orf131\n"
     ]
    },
    {
     "name": "stderr",
     "output_type": "stream",
     "text": [
      "Running elastic model with corum transcripts:   9%|▉         | 1023/10921 [09:11<1:39:15,  1.66it/s]"
     ]
    },
    {
     "name": "stdout",
     "output_type": "stream",
     "text": [
      "corr: [0.19511], r2: [-0.41202]\n",
      "Doing 1023: C1orf174\n"
     ]
    },
    {
     "name": "stderr",
     "output_type": "stream",
     "text": [
      "Running elastic model with corum transcripts:   9%|▉         | 1024/10921 [09:12<1:40:30,  1.64it/s]"
     ]
    },
    {
     "name": "stdout",
     "output_type": "stream",
     "text": [
      "corr: [0.20825], r2: [0.00674]\n",
      "Doing 1024: C1orf198\n"
     ]
    },
    {
     "name": "stderr",
     "output_type": "stream",
     "text": [
      "Running elastic model with corum transcripts:   9%|▉         | 1025/10921 [09:12<1:37:58,  1.68it/s]"
     ]
    },
    {
     "name": "stdout",
     "output_type": "stream",
     "text": [
      "corr: [0.57322], r2: [0.32704]\n",
      "Doing 1025: C1orf21\n"
     ]
    },
    {
     "name": "stderr",
     "output_type": "stream",
     "text": [
      "Running elastic model with corum transcripts:   9%|▉         | 1026/10921 [09:13<1:42:52,  1.60it/s]"
     ]
    },
    {
     "name": "stdout",
     "output_type": "stream",
     "text": [
      "corr: [0.43752], r2: [0.16947]\n",
      "Doing 1026: C1orf226\n"
     ]
    },
    {
     "name": "stderr",
     "output_type": "stream",
     "text": [
      "Running elastic model with corum transcripts:   9%|▉         | 1027/10921 [09:14<1:41:13,  1.63it/s]"
     ]
    },
    {
     "name": "stdout",
     "output_type": "stream",
     "text": [
      "corr: [0.82941], r2: [0.50841]\n",
      "Doing 1027: C1orf27\n"
     ]
    },
    {
     "name": "stderr",
     "output_type": "stream",
     "text": [
      "Running elastic model with corum transcripts:   9%|▉         | 1028/10921 [09:14<1:38:03,  1.68it/s]"
     ]
    },
    {
     "name": "stdout",
     "output_type": "stream",
     "text": [
      "corr: [0.39844], r2: [0.1434]\n",
      "Doing 1028: C1orf35\n"
     ]
    },
    {
     "name": "stderr",
     "output_type": "stream",
     "text": [
      "Running elastic model with corum transcripts:   9%|▉         | 1029/10921 [09:15<1:43:07,  1.60it/s]"
     ]
    },
    {
     "name": "stdout",
     "output_type": "stream",
     "text": [
      "corr: [0.30803], r2: [-0.20969]\n",
      "Doing 1029: C1orf43\n"
     ]
    },
    {
     "name": "stderr",
     "output_type": "stream",
     "text": [
      "/Applications/venv/CPTAC_Protein/lib/python3.9/site-packages/numpy/lib/function_base.py:2691: RuntimeWarning: invalid value encountered in true_divide\n",
      "  c /= stddev[:, None]\n",
      "/Applications/venv/CPTAC_Protein/lib/python3.9/site-packages/numpy/lib/function_base.py:2692: RuntimeWarning: invalid value encountered in true_divide\n",
      "  c /= stddev[None, :]\n",
      "Running elastic model with corum transcripts:   9%|▉         | 1030/10921 [09:16<1:46:20,  1.55it/s]"
     ]
    },
    {
     "name": "stdout",
     "output_type": "stream",
     "text": [
      "corr: [0], r2: [-0.05801]\n",
      "Doing 1030: C1orf50\n"
     ]
    },
    {
     "name": "stderr",
     "output_type": "stream",
     "text": [
      "Running elastic model with corum transcripts:   9%|▉         | 1031/10921 [09:16<1:45:46,  1.56it/s]"
     ]
    },
    {
     "name": "stdout",
     "output_type": "stream",
     "text": [
      "corr: [0.50149], r2: [0.24371]\n",
      "Doing 1031: C1orf52\n"
     ]
    },
    {
     "name": "stderr",
     "output_type": "stream",
     "text": [
      "Running elastic model with corum transcripts:   9%|▉         | 1032/10921 [09:17<1:44:42,  1.57it/s]"
     ]
    },
    {
     "name": "stdout",
     "output_type": "stream",
     "text": [
      "corr: [0.27263], r2: [0.02547]\n",
      "Doing 1032: C1orf68\n",
      "Not enough features. Skipping protein.\n",
      "Doing 1033: C1orf87\n"
     ]
    },
    {
     "name": "stderr",
     "output_type": "stream",
     "text": [
      "Running elastic model with corum transcripts:   9%|▉         | 1034/10921 [09:17<1:18:02,  2.11it/s]"
     ]
    },
    {
     "name": "stdout",
     "output_type": "stream",
     "text": [
      "corr: [-0.45168], r2: [-0.30873]\n",
      "Doing 1034: C2\n"
     ]
    },
    {
     "name": "stderr",
     "output_type": "stream",
     "text": [
      "Running elastic model with corum transcripts:   9%|▉         | 1035/10921 [09:18<1:24:32,  1.95it/s]"
     ]
    },
    {
     "name": "stdout",
     "output_type": "stream",
     "text": [
      "corr: [-0.62546], r2: [-0.51864]\n",
      "Doing 1035: C20orf24\n"
     ]
    },
    {
     "name": "stderr",
     "output_type": "stream",
     "text": [
      "Running elastic model with corum transcripts:   9%|▉         | 1036/10921 [09:19<1:30:20,  1.82it/s]"
     ]
    },
    {
     "name": "stdout",
     "output_type": "stream",
     "text": [
      "corr: [0.32384], r2: [0.07203]\n",
      "Doing 1036: C20orf27\n"
     ]
    },
    {
     "name": "stderr",
     "output_type": "stream",
     "text": [
      "Running elastic model with corum transcripts:   9%|▉         | 1037/10921 [09:19<1:30:27,  1.82it/s]"
     ]
    },
    {
     "name": "stdout",
     "output_type": "stream",
     "text": [
      "corr: [0.27381], r2: [0.05393]\n",
      "Doing 1037: C21orf2\n"
     ]
    },
    {
     "name": "stderr",
     "output_type": "stream",
     "text": [
      "Running elastic model with corum transcripts:  10%|▉         | 1038/10921 [09:20<1:33:15,  1.77it/s]"
     ]
    },
    {
     "name": "stdout",
     "output_type": "stream",
     "text": [
      "corr: [0.14655], r2: [0.01254]\n",
      "Doing 1038: C21orf33\n"
     ]
    },
    {
     "name": "stderr",
     "output_type": "stream",
     "text": [
      "Running elastic model with corum transcripts:  10%|▉         | 1039/10921 [09:20<1:37:24,  1.69it/s]"
     ]
    },
    {
     "name": "stdout",
     "output_type": "stream",
     "text": [
      "corr: [0.30786], r2: [0.06145]\n",
      "Doing 1039: C21orf59\n"
     ]
    },
    {
     "name": "stderr",
     "output_type": "stream",
     "text": [
      "Running elastic model with corum transcripts:  10%|▉         | 1040/10921 [09:21<1:39:09,  1.66it/s]"
     ]
    },
    {
     "name": "stdout",
     "output_type": "stream",
     "text": [
      "corr: [0.45151], r2: [0.12873]\n",
      "Doing 1040: C2CD2\n"
     ]
    },
    {
     "name": "stderr",
     "output_type": "stream",
     "text": [
      "Running elastic model with corum transcripts:  10%|▉         | 1041/10921 [09:22<1:48:50,  1.51it/s]"
     ]
    },
    {
     "name": "stdout",
     "output_type": "stream",
     "text": [
      "corr: [0.19842], r2: [-0.1944]\n",
      "Doing 1041: C2CD2L\n"
     ]
    },
    {
     "name": "stderr",
     "output_type": "stream",
     "text": [
      "Running elastic model with corum transcripts:  10%|▉         | 1042/10921 [09:23<1:50:16,  1.49it/s]"
     ]
    },
    {
     "name": "stdout",
     "output_type": "stream",
     "text": [
      "corr: [0.40523], r2: [0.10171]\n",
      "Doing 1042: C2CD3\n"
     ]
    },
    {
     "name": "stderr",
     "output_type": "stream",
     "text": [
      "Running elastic model with corum transcripts:  10%|▉         | 1043/10921 [09:23<1:47:22,  1.53it/s]"
     ]
    },
    {
     "name": "stdout",
     "output_type": "stream",
     "text": [
      "corr: [0.1353], r2: [-0.06234]\n",
      "Doing 1043: C2CD5\n"
     ]
    },
    {
     "name": "stderr",
     "output_type": "stream",
     "text": [
      "Running elastic model with corum transcripts:  10%|▉         | 1044/10921 [09:24<1:48:51,  1.51it/s]"
     ]
    },
    {
     "name": "stdout",
     "output_type": "stream",
     "text": [
      "corr: [0.55134], r2: [0.23778]\n",
      "Doing 1044: C2orf49\n"
     ]
    },
    {
     "name": "stderr",
     "output_type": "stream",
     "text": [
      "Running elastic model with corum transcripts:  10%|▉         | 1045/10921 [09:25<1:49:53,  1.50it/s]"
     ]
    },
    {
     "name": "stdout",
     "output_type": "stream",
     "text": [
      "corr: [0.3355], r2: [0.09863]\n",
      "Doing 1045: C2orf54\n"
     ]
    },
    {
     "name": "stderr",
     "output_type": "stream",
     "text": [
      "Running elastic model with corum transcripts:  10%|▉         | 1046/10921 [09:25<1:45:12,  1.56it/s]"
     ]
    },
    {
     "name": "stdout",
     "output_type": "stream",
     "text": [
      "corr: [0.3036], r2: [-0.43719]\n",
      "Doing 1046: C2orf69\n"
     ]
    },
    {
     "name": "stderr",
     "output_type": "stream",
     "text": [
      "Running elastic model with corum transcripts:  10%|▉         | 1047/10921 [09:26<1:47:47,  1.53it/s]"
     ]
    },
    {
     "name": "stdout",
     "output_type": "stream",
     "text": [
      "corr: [0.33514], r2: [-0.07831]\n",
      "Doing 1047: C2orf76\n"
     ]
    },
    {
     "name": "stderr",
     "output_type": "stream",
     "text": [
      "Running elastic model with corum transcripts:  10%|▉         | 1048/10921 [09:26<1:46:05,  1.55it/s]"
     ]
    },
    {
     "name": "stdout",
     "output_type": "stream",
     "text": [
      "corr: [0.25579], r2: [0.05807]\n",
      "Doing 1048: C2orf88\n"
     ]
    },
    {
     "name": "stderr",
     "output_type": "stream",
     "text": [
      "Running elastic model with corum transcripts:  10%|▉         | 1049/10921 [09:27<1:41:42,  1.62it/s]"
     ]
    },
    {
     "name": "stdout",
     "output_type": "stream",
     "text": [
      "corr: [0.74695], r2: [0.46943]\n",
      "Doing 1049: C3\n"
     ]
    },
    {
     "name": "stderr",
     "output_type": "stream",
     "text": [
      "Running elastic model with corum transcripts:  10%|▉         | 1050/10921 [09:28<1:48:24,  1.52it/s]"
     ]
    },
    {
     "name": "stdout",
     "output_type": "stream",
     "text": [
      "corr: [0.4567], r2: [-0.16443]\n",
      "Doing 1050: C3AR1\n"
     ]
    },
    {
     "name": "stderr",
     "output_type": "stream",
     "text": [
      "/Applications/venv/CPTAC_Protein/lib/python3.9/site-packages/numpy/lib/function_base.py:2691: RuntimeWarning: invalid value encountered in true_divide\n",
      "  c /= stddev[:, None]\n",
      "/Applications/venv/CPTAC_Protein/lib/python3.9/site-packages/numpy/lib/function_base.py:2692: RuntimeWarning: invalid value encountered in true_divide\n",
      "  c /= stddev[None, :]\n",
      "Running elastic model with corum transcripts:  10%|▉         | 1051/10921 [09:29<1:51:32,  1.47it/s]"
     ]
    },
    {
     "name": "stdout",
     "output_type": "stream",
     "text": [
      "corr: [0], r2: [-0.19131]\n",
      "Doing 1051: C3orf38\n"
     ]
    },
    {
     "name": "stderr",
     "output_type": "stream",
     "text": [
      "Running elastic model with corum transcripts:  10%|▉         | 1052/10921 [09:29<1:50:37,  1.49it/s]"
     ]
    },
    {
     "name": "stdout",
     "output_type": "stream",
     "text": [
      "corr: [0.21132], r2: [-0.0555]\n",
      "Doing 1052: C3orf58\n"
     ]
    },
    {
     "name": "stderr",
     "output_type": "stream",
     "text": [
      "Running elastic model with corum transcripts:  10%|▉         | 1053/10921 [09:30<1:53:32,  1.45it/s]"
     ]
    },
    {
     "name": "stdout",
     "output_type": "stream",
     "text": [
      "corr: [0.31387], r2: [-0.0096]\n",
      "Doing 1053: C4A\n"
     ]
    },
    {
     "name": "stderr",
     "output_type": "stream",
     "text": [
      "Running elastic model with corum transcripts:  10%|▉         | 1054/10921 [09:31<1:49:09,  1.51it/s]"
     ]
    },
    {
     "name": "stdout",
     "output_type": "stream",
     "text": [
      "corr: [0.5909], r2: [0.24114]\n",
      "Doing 1054: C4B\n"
     ]
    },
    {
     "name": "stderr",
     "output_type": "stream",
     "text": [
      "Running elastic model with corum transcripts:  10%|▉         | 1055/10921 [09:31<1:46:11,  1.55it/s]"
     ]
    },
    {
     "name": "stdout",
     "output_type": "stream",
     "text": [
      "corr: [0.02254], r2: [-0.01589]\n",
      "Doing 1055: C4BPA\n"
     ]
    },
    {
     "name": "stderr",
     "output_type": "stream",
     "text": [
      "/Applications/venv/CPTAC_Protein/lib/python3.9/site-packages/numpy/lib/function_base.py:2691: RuntimeWarning: invalid value encountered in true_divide\n",
      "  c /= stddev[:, None]\n",
      "/Applications/venv/CPTAC_Protein/lib/python3.9/site-packages/numpy/lib/function_base.py:2692: RuntimeWarning: invalid value encountered in true_divide\n",
      "  c /= stddev[None, :]\n",
      "Running elastic model with corum transcripts:  10%|▉         | 1056/10921 [09:32<1:47:00,  1.54it/s]"
     ]
    },
    {
     "name": "stdout",
     "output_type": "stream",
     "text": [
      "corr: [0], r2: [-0.01885]\n",
      "Doing 1056: C4BPB\n"
     ]
    },
    {
     "name": "stderr",
     "output_type": "stream",
     "text": [
      "/Applications/venv/CPTAC_Protein/lib/python3.9/site-packages/numpy/lib/function_base.py:2691: RuntimeWarning: invalid value encountered in true_divide\n",
      "  c /= stddev[:, None]\n",
      "/Applications/venv/CPTAC_Protein/lib/python3.9/site-packages/numpy/lib/function_base.py:2692: RuntimeWarning: invalid value encountered in true_divide\n",
      "  c /= stddev[None, :]\n",
      "Running elastic model with corum transcripts:  10%|▉         | 1057/10921 [09:32<1:44:45,  1.57it/s]"
     ]
    },
    {
     "name": "stdout",
     "output_type": "stream",
     "text": [
      "corr: [0], r2: [-0.04507]\n",
      "Doing 1057: C4orf3\n"
     ]
    },
    {
     "name": "stderr",
     "output_type": "stream",
     "text": [
      "/Applications/venv/CPTAC_Protein/lib/python3.9/site-packages/numpy/lib/function_base.py:2691: RuntimeWarning: invalid value encountered in true_divide\n",
      "  c /= stddev[:, None]\n",
      "/Applications/venv/CPTAC_Protein/lib/python3.9/site-packages/numpy/lib/function_base.py:2692: RuntimeWarning: invalid value encountered in true_divide\n",
      "  c /= stddev[None, :]\n",
      "Running elastic model with corum transcripts:  10%|▉         | 1058/10921 [09:33<1:44:41,  1.57it/s]"
     ]
    },
    {
     "name": "stdout",
     "output_type": "stream",
     "text": [
      "corr: [0], r2: [-0.06841]\n",
      "Doing 1058: C4orf33\n"
     ]
    },
    {
     "name": "stderr",
     "output_type": "stream",
     "text": [
      "Running elastic model with corum transcripts:  10%|▉         | 1059/10921 [09:34<1:45:25,  1.56it/s]"
     ]
    },
    {
     "name": "stdout",
     "output_type": "stream",
     "text": [
      "corr: [0.1743], r2: [0.02944]\n",
      "Doing 1059: C5\n"
     ]
    },
    {
     "name": "stderr",
     "output_type": "stream",
     "text": [
      "/Applications/venv/CPTAC_Protein/lib/python3.9/site-packages/numpy/lib/function_base.py:2691: RuntimeWarning: invalid value encountered in true_divide\n",
      "  c /= stddev[:, None]\n",
      "/Applications/venv/CPTAC_Protein/lib/python3.9/site-packages/numpy/lib/function_base.py:2692: RuntimeWarning: invalid value encountered in true_divide\n",
      "  c /= stddev[None, :]\n",
      "Running elastic model with corum transcripts:  10%|▉         | 1060/10921 [09:34<1:42:21,  1.61it/s]"
     ]
    },
    {
     "name": "stdout",
     "output_type": "stream",
     "text": [
      "corr: [0], r2: [-0.16637]\n",
      "Doing 1060: C5AR1\n"
     ]
    },
    {
     "name": "stderr",
     "output_type": "stream",
     "text": [
      "Running elastic model with corum transcripts:  10%|▉         | 1061/10921 [09:35<1:59:08,  1.38it/s]"
     ]
    },
    {
     "name": "stdout",
     "output_type": "stream",
     "text": [
      "corr: [0.26185], r2: [-0.00567]\n",
      "Doing 1061: C5orf15\n"
     ]
    },
    {
     "name": "stderr",
     "output_type": "stream",
     "text": [
      "/Applications/venv/CPTAC_Protein/lib/python3.9/site-packages/numpy/lib/function_base.py:2691: RuntimeWarning: invalid value encountered in true_divide\n",
      "  c /= stddev[:, None]\n",
      "/Applications/venv/CPTAC_Protein/lib/python3.9/site-packages/numpy/lib/function_base.py:2692: RuntimeWarning: invalid value encountered in true_divide\n",
      "  c /= stddev[None, :]\n",
      "Running elastic model with corum transcripts:  10%|▉         | 1062/10921 [09:36<1:52:19,  1.46it/s]"
     ]
    },
    {
     "name": "stdout",
     "output_type": "stream",
     "text": [
      "corr: [0], r2: [-2.e-05]\n",
      "Doing 1062: C5orf22\n"
     ]
    },
    {
     "name": "stderr",
     "output_type": "stream",
     "text": [
      "Running elastic model with corum transcripts:  10%|▉         | 1063/10921 [09:36<1:50:48,  1.48it/s]"
     ]
    },
    {
     "name": "stdout",
     "output_type": "stream",
     "text": [
      "corr: [-0.09307], r2: [-0.05494]\n",
      "Doing 1063: C5orf24\n"
     ]
    },
    {
     "name": "stderr",
     "output_type": "stream",
     "text": [
      "Running elastic model with corum transcripts:  10%|▉         | 1064/10921 [09:37<1:49:28,  1.50it/s]"
     ]
    },
    {
     "name": "stdout",
     "output_type": "stream",
     "text": [
      "corr: [0.09937], r2: [0.0098]\n",
      "Doing 1064: C5orf51\n"
     ]
    },
    {
     "name": "stderr",
     "output_type": "stream",
     "text": [
      "Running elastic model with corum transcripts:  10%|▉         | 1065/10921 [09:38<1:47:09,  1.53it/s]"
     ]
    },
    {
     "name": "stdout",
     "output_type": "stream",
     "text": [
      "corr: [0.21436], r2: [-0.00247]\n",
      "Doing 1065: C6\n"
     ]
    },
    {
     "name": "stderr",
     "output_type": "stream",
     "text": [
      "Running elastic model with corum transcripts:  10%|▉         | 1066/10921 [09:38<1:44:54,  1.57it/s]"
     ]
    },
    {
     "name": "stdout",
     "output_type": "stream",
     "text": [
      "corr: [0.20742], r2: [-0.09369]\n",
      "Doing 1066: C6orf106\n"
     ]
    },
    {
     "name": "stderr",
     "output_type": "stream",
     "text": [
      "Running elastic model with corum transcripts:  10%|▉         | 1067/10921 [09:39<1:42:31,  1.60it/s]"
     ]
    },
    {
     "name": "stdout",
     "output_type": "stream",
     "text": [
      "corr: [0.11419], r2: [0.00554]\n",
      "Doing 1067: C6orf132\n"
     ]
    },
    {
     "name": "stderr",
     "output_type": "stream",
     "text": [
      "Running elastic model with corum transcripts:  10%|▉         | 1068/10921 [09:40<1:42:13,  1.61it/s]"
     ]
    },
    {
     "name": "stdout",
     "output_type": "stream",
     "text": [
      "corr: [0.60243], r2: [0.35824]\n",
      "Doing 1068: C6orf136\n"
     ]
    },
    {
     "name": "stderr",
     "output_type": "stream",
     "text": [
      "/Applications/venv/CPTAC_Protein/lib/python3.9/site-packages/numpy/lib/function_base.py:2691: RuntimeWarning: invalid value encountered in true_divide\n",
      "  c /= stddev[:, None]\n",
      "/Applications/venv/CPTAC_Protein/lib/python3.9/site-packages/numpy/lib/function_base.py:2692: RuntimeWarning: invalid value encountered in true_divide\n",
      "  c /= stddev[None, :]\n",
      "Running elastic model with corum transcripts:  10%|▉         | 1069/10921 [09:40<1:45:15,  1.56it/s]"
     ]
    },
    {
     "name": "stdout",
     "output_type": "stream",
     "text": [
      "corr: [0], r2: [-0.0905]\n",
      "Doing 1069: C6orf203\n"
     ]
    },
    {
     "name": "stderr",
     "output_type": "stream",
     "text": [
      "Running elastic model with corum transcripts:  10%|▉         | 1070/10921 [09:41<1:51:07,  1.48it/s]"
     ]
    },
    {
     "name": "stdout",
     "output_type": "stream",
     "text": [
      "corr: [0.42031], r2: [0.14331]\n",
      "Doing 1070: C6orf47\n"
     ]
    },
    {
     "name": "stderr",
     "output_type": "stream",
     "text": [
      "Running elastic model with corum transcripts:  10%|▉         | 1071/10921 [09:42<1:48:26,  1.51it/s]"
     ]
    },
    {
     "name": "stdout",
     "output_type": "stream",
     "text": [
      "corr: [0.05679], r2: [-0.00621]\n",
      "Doing 1071: C6orf89\n"
     ]
    },
    {
     "name": "stderr",
     "output_type": "stream",
     "text": [
      "Running elastic model with corum transcripts:  10%|▉         | 1072/10921 [09:42<1:51:12,  1.48it/s]"
     ]
    },
    {
     "name": "stdout",
     "output_type": "stream",
     "text": [
      "corr: [0.01973], r2: [-0.02459]\n",
      "Doing 1072: C7\n"
     ]
    },
    {
     "name": "stderr",
     "output_type": "stream",
     "text": [
      "Running elastic model with corum transcripts:  10%|▉         | 1073/10921 [09:43<1:46:31,  1.54it/s]"
     ]
    },
    {
     "name": "stdout",
     "output_type": "stream",
     "text": [
      "corr: [0.43425], r2: [0.06266]\n",
      "Doing 1073: C7orf25\n"
     ]
    },
    {
     "name": "stderr",
     "output_type": "stream",
     "text": [
      "Running elastic model with corum transcripts:  10%|▉         | 1074/10921 [09:44<1:49:51,  1.49it/s]"
     ]
    },
    {
     "name": "stdout",
     "output_type": "stream",
     "text": [
      "corr: [0.20045], r2: [-0.17377]\n",
      "Doing 1074: C7orf26\n"
     ]
    },
    {
     "name": "stderr",
     "output_type": "stream",
     "text": [
      "Running elastic model with corum transcripts:  10%|▉         | 1075/10921 [09:44<1:49:30,  1.50it/s]"
     ]
    },
    {
     "name": "stdout",
     "output_type": "stream",
     "text": [
      "corr: [0.14071], r2: [0.01845]\n",
      "Doing 1075: C7orf43\n"
     ]
    },
    {
     "name": "stderr",
     "output_type": "stream",
     "text": [
      "/Applications/venv/CPTAC_Protein/lib/python3.9/site-packages/numpy/lib/function_base.py:2691: RuntimeWarning: invalid value encountered in true_divide\n",
      "  c /= stddev[:, None]\n",
      "/Applications/venv/CPTAC_Protein/lib/python3.9/site-packages/numpy/lib/function_base.py:2692: RuntimeWarning: invalid value encountered in true_divide\n",
      "  c /= stddev[None, :]\n",
      "Running elastic model with corum transcripts:  10%|▉         | 1076/10921 [09:45<1:45:42,  1.55it/s]"
     ]
    },
    {
     "name": "stdout",
     "output_type": "stream",
     "text": [
      "corr: [0], r2: [-0.00036]\n",
      "Doing 1076: C7orf50\n"
     ]
    },
    {
     "name": "stderr",
     "output_type": "stream",
     "text": [
      "Running elastic model with corum transcripts:  10%|▉         | 1077/10921 [09:46<1:51:01,  1.48it/s]"
     ]
    },
    {
     "name": "stdout",
     "output_type": "stream",
     "text": [
      "corr: [0.17145], r2: [-0.13215]\n",
      "Doing 1077: C8A\n"
     ]
    },
    {
     "name": "stderr",
     "output_type": "stream",
     "text": [
      "Running elastic model with corum transcripts:  10%|▉         | 1078/10921 [09:46<1:48:23,  1.51it/s]"
     ]
    },
    {
     "name": "stdout",
     "output_type": "stream",
     "text": [
      "corr: [0.09314], r2: [-0.11565]\n",
      "Doing 1078: C8B\n"
     ]
    },
    {
     "name": "stderr",
     "output_type": "stream",
     "text": [
      "Running elastic model with corum transcripts:  10%|▉         | 1079/10921 [09:47<1:44:35,  1.57it/s]"
     ]
    },
    {
     "name": "stdout",
     "output_type": "stream",
     "text": [
      "corr: [0.03408], r2: [-0.11107]\n",
      "Doing 1079: C8G\n"
     ]
    },
    {
     "name": "stderr",
     "output_type": "stream",
     "text": [
      "Running elastic model with corum transcripts:  10%|▉         | 1080/10921 [09:48<1:49:27,  1.50it/s]"
     ]
    },
    {
     "name": "stdout",
     "output_type": "stream",
     "text": [
      "corr: [-0.02914], r2: [-0.18458]\n",
      "Doing 1080: C8orf33\n"
     ]
    },
    {
     "name": "stderr",
     "output_type": "stream",
     "text": [
      "Running elastic model with corum transcripts:  10%|▉         | 1081/10921 [09:49<2:04:41,  1.32it/s]"
     ]
    },
    {
     "name": "stdout",
     "output_type": "stream",
     "text": [
      "corr: [0.59304], r2: [0.2751]\n",
      "Doing 1081: C8orf37\n"
     ]
    },
    {
     "name": "stderr",
     "output_type": "stream",
     "text": [
      "Running elastic model with corum transcripts:  10%|▉         | 1082/10921 [09:49<2:01:38,  1.35it/s]"
     ]
    },
    {
     "name": "stdout",
     "output_type": "stream",
     "text": [
      "corr: [0.31752], r2: [-0.11151]\n",
      "Doing 1082: C8orf44-SGK3\n"
     ]
    },
    {
     "name": "stderr",
     "output_type": "stream",
     "text": [
      "Running elastic model with corum transcripts:  10%|▉         | 1083/10921 [09:50<1:58:00,  1.39it/s]"
     ]
    },
    {
     "name": "stdout",
     "output_type": "stream",
     "text": [
      "corr: [0.84053], r2: [0.55298]\n",
      "Doing 1083: C8orf59\n"
     ]
    },
    {
     "name": "stderr",
     "output_type": "stream",
     "text": [
      "Running elastic model with corum transcripts:  10%|▉         | 1084/10921 [09:51<2:02:55,  1.33it/s]"
     ]
    },
    {
     "name": "stdout",
     "output_type": "stream",
     "text": [
      "corr: [-0.29601], r2: [-0.17452]\n",
      "Doing 1084: C8orf82\n"
     ]
    },
    {
     "name": "stderr",
     "output_type": "stream",
     "text": [
      "Running elastic model with corum transcripts:  10%|▉         | 1085/10921 [09:51<1:58:52,  1.38it/s]"
     ]
    },
    {
     "name": "stdout",
     "output_type": "stream",
     "text": [
      "corr: [0.42172], r2: [0.13298]\n",
      "Doing 1085: C9\n"
     ]
    },
    {
     "name": "stderr",
     "output_type": "stream",
     "text": [
      "/Applications/venv/CPTAC_Protein/lib/python3.9/site-packages/numpy/lib/function_base.py:2691: RuntimeWarning: invalid value encountered in true_divide\n",
      "  c /= stddev[:, None]\n",
      "/Applications/venv/CPTAC_Protein/lib/python3.9/site-packages/numpy/lib/function_base.py:2692: RuntimeWarning: invalid value encountered in true_divide\n",
      "  c /= stddev[None, :]\n",
      "Running elastic model with corum transcripts:  10%|▉         | 1086/10921 [09:52<1:55:27,  1.42it/s]"
     ]
    },
    {
     "name": "stdout",
     "output_type": "stream",
     "text": [
      "corr: [0], r2: [-0.17778]\n",
      "Doing 1086: C9orf64\n"
     ]
    },
    {
     "name": "stderr",
     "output_type": "stream",
     "text": [
      "Running elastic model with corum transcripts:  10%|▉         | 1087/10921 [09:53<1:58:14,  1.39it/s]"
     ]
    },
    {
     "name": "stdout",
     "output_type": "stream",
     "text": [
      "corr: [0.65035], r2: [0.32347]\n",
      "Doing 1087: C9orf72\n"
     ]
    },
    {
     "name": "stderr",
     "output_type": "stream",
     "text": [
      "/Applications/venv/CPTAC_Protein/lib/python3.9/site-packages/numpy/lib/function_base.py:2691: RuntimeWarning: invalid value encountered in true_divide\n",
      "  c /= stddev[:, None]\n",
      "/Applications/venv/CPTAC_Protein/lib/python3.9/site-packages/numpy/lib/function_base.py:2692: RuntimeWarning: invalid value encountered in true_divide\n",
      "  c /= stddev[None, :]\n",
      "Running elastic model with corum transcripts:  10%|▉         | 1088/10921 [09:54<1:59:01,  1.38it/s]"
     ]
    },
    {
     "name": "stdout",
     "output_type": "stream",
     "text": [
      "corr: [0], r2: [-0.01017]\n",
      "Doing 1088: C9orf78\n"
     ]
    },
    {
     "name": "stderr",
     "output_type": "stream",
     "text": [
      "Running elastic model with corum transcripts:  10%|▉         | 1089/10921 [09:54<1:54:56,  1.43it/s]"
     ]
    },
    {
     "name": "stdout",
     "output_type": "stream",
     "text": [
      "corr: [0.67092], r2: [0.32323]\n",
      "Doing 1089: CA1\n"
     ]
    },
    {
     "name": "stderr",
     "output_type": "stream",
     "text": [
      "/Applications/venv/CPTAC_Protein/lib/python3.9/site-packages/numpy/lib/function_base.py:2691: RuntimeWarning: invalid value encountered in true_divide\n",
      "  c /= stddev[:, None]\n",
      "/Applications/venv/CPTAC_Protein/lib/python3.9/site-packages/numpy/lib/function_base.py:2692: RuntimeWarning: invalid value encountered in true_divide\n",
      "  c /= stddev[None, :]\n",
      "Running elastic model with corum transcripts:  10%|▉         | 1090/10921 [09:55<1:54:14,  1.43it/s]"
     ]
    },
    {
     "name": "stdout",
     "output_type": "stream",
     "text": [
      "corr: [0], r2: [-0.02078]\n",
      "Doing 1090: CA12\n"
     ]
    },
    {
     "name": "stderr",
     "output_type": "stream",
     "text": [
      "Running elastic model with corum transcripts:  10%|▉         | 1091/10921 [09:56<2:00:27,  1.36it/s]"
     ]
    },
    {
     "name": "stdout",
     "output_type": "stream",
     "text": [
      "corr: [0.63938], r2: [0.29014]\n",
      "Doing 1091: CA13\n"
     ]
    },
    {
     "name": "stderr",
     "output_type": "stream",
     "text": [
      "Running elastic model with corum transcripts:  10%|▉         | 1092/10921 [09:56<1:57:34,  1.39it/s]"
     ]
    },
    {
     "name": "stdout",
     "output_type": "stream",
     "text": [
      "corr: [0.57549], r2: [0.21991]\n",
      "Doing 1092: CA2\n"
     ]
    },
    {
     "name": "stderr",
     "output_type": "stream",
     "text": [
      "Running elastic model with corum transcripts:  10%|█         | 1093/10921 [09:57<1:56:26,  1.41it/s]"
     ]
    },
    {
     "name": "stdout",
     "output_type": "stream",
     "text": [
      "corr: [0.58332], r2: [0.25063]\n",
      "Doing 1093: CA3\n"
     ]
    },
    {
     "name": "stderr",
     "output_type": "stream",
     "text": [
      "Running elastic model with corum transcripts:  10%|█         | 1094/10921 [09:58<1:54:46,  1.43it/s]"
     ]
    },
    {
     "name": "stdout",
     "output_type": "stream",
     "text": [
      "corr: [0.23889], r2: [-1.19509]\n",
      "Doing 1094: CA4\n"
     ]
    },
    {
     "name": "stderr",
     "output_type": "stream",
     "text": [
      "Running elastic model with corum transcripts:  10%|█         | 1095/10921 [09:58<1:52:12,  1.46it/s]"
     ]
    },
    {
     "name": "stdout",
     "output_type": "stream",
     "text": [
      "corr: [-0.45819], r2: [-0.02602]\n",
      "Doing 1095: CA5B\n"
     ]
    },
    {
     "name": "stderr",
     "output_type": "stream",
     "text": [
      "Running elastic model with corum transcripts:  10%|█         | 1096/10921 [09:59<1:47:58,  1.52it/s]"
     ]
    },
    {
     "name": "stdout",
     "output_type": "stream",
     "text": [
      "corr: [0.43867], r2: [-0.00322]\n",
      "Doing 1096: CA8\n"
     ]
    },
    {
     "name": "stderr",
     "output_type": "stream",
     "text": [
      "Running elastic model with corum transcripts:  10%|█         | 1097/10921 [10:00<1:45:59,  1.54it/s]"
     ]
    },
    {
     "name": "stdout",
     "output_type": "stream",
     "text": [
      "corr: [0.67007], r2: [0.30182]\n",
      "Doing 1097: CA9\n"
     ]
    },
    {
     "name": "stderr",
     "output_type": "stream",
     "text": [
      "Running elastic model with corum transcripts:  10%|█         | 1098/10921 [10:00<1:47:14,  1.53it/s]"
     ]
    },
    {
     "name": "stdout",
     "output_type": "stream",
     "text": [
      "corr: [0.83228], r2: [0.30329]\n",
      "Doing 1098: CAAP1\n"
     ]
    },
    {
     "name": "stderr",
     "output_type": "stream",
     "text": [
      "/Applications/venv/CPTAC_Protein/lib/python3.9/site-packages/numpy/lib/function_base.py:2691: RuntimeWarning: invalid value encountered in true_divide\n",
      "  c /= stddev[:, None]\n",
      "/Applications/venv/CPTAC_Protein/lib/python3.9/site-packages/numpy/lib/function_base.py:2692: RuntimeWarning: invalid value encountered in true_divide\n",
      "  c /= stddev[None, :]\n",
      "Running elastic model with corum transcripts:  10%|█         | 1099/10921 [10:01<1:44:01,  1.57it/s]"
     ]
    },
    {
     "name": "stdout",
     "output_type": "stream",
     "text": [
      "corr: [0], r2: [-0.00861]\n",
      "Doing 1099: CAB39\n"
     ]
    },
    {
     "name": "stderr",
     "output_type": "stream",
     "text": [
      "Running elastic model with corum transcripts:  10%|█         | 1100/10921 [10:02<1:45:24,  1.55it/s]"
     ]
    },
    {
     "name": "stdout",
     "output_type": "stream",
     "text": [
      "corr: [0.29583], r2: [-0.15267]\n",
      "Doing 1100: CAB39L\n"
     ]
    },
    {
     "name": "stderr",
     "output_type": "stream",
     "text": [
      "Running elastic model with corum transcripts:  10%|█         | 1101/10921 [10:02<1:45:03,  1.56it/s]"
     ]
    },
    {
     "name": "stdout",
     "output_type": "stream",
     "text": [
      "corr: [0.68804], r2: [0.32133]\n",
      "Doing 1101: CABIN1\n"
     ]
    },
    {
     "name": "stderr",
     "output_type": "stream",
     "text": [
      "/Applications/venv/CPTAC_Protein/lib/python3.9/site-packages/numpy/lib/function_base.py:2691: RuntimeWarning: invalid value encountered in true_divide\n",
      "  c /= stddev[:, None]\n",
      "/Applications/venv/CPTAC_Protein/lib/python3.9/site-packages/numpy/lib/function_base.py:2692: RuntimeWarning: invalid value encountered in true_divide\n",
      "  c /= stddev[None, :]\n",
      "Running elastic model with corum transcripts:  10%|█         | 1102/10921 [10:03<1:51:16,  1.47it/s]"
     ]
    },
    {
     "name": "stdout",
     "output_type": "stream",
     "text": [
      "corr: [0], r2: [-0.03274]\n",
      "Doing 1102: CABLES1\n"
     ]
    },
    {
     "name": "stderr",
     "output_type": "stream",
     "text": [
      "Running elastic model with corum transcripts:  10%|█         | 1103/10921 [10:04<1:52:09,  1.46it/s]"
     ]
    },
    {
     "name": "stdout",
     "output_type": "stream",
     "text": [
      "corr: [0.50116], r2: [0.087]\n",
      "Doing 1103: CACHD1\n"
     ]
    },
    {
     "name": "stderr",
     "output_type": "stream",
     "text": [
      "Running elastic model with corum transcripts:  10%|█         | 1104/10921 [10:04<1:49:54,  1.49it/s]"
     ]
    },
    {
     "name": "stdout",
     "output_type": "stream",
     "text": [
      "corr: [0.24477], r2: [-0.14863]\n",
      "Doing 1104: CACNA1F\n"
     ]
    },
    {
     "name": "stderr",
     "output_type": "stream",
     "text": [
      "Running elastic model with corum transcripts:  10%|█         | 1105/10921 [10:05<1:46:11,  1.54it/s]"
     ]
    },
    {
     "name": "stdout",
     "output_type": "stream",
     "text": [
      "corr: [0.09899], r2: [-0.036]\n",
      "Doing 1105: CACNA1S\n",
      "Not enough proteomics observations. Skipping protein.\n",
      "Doing 1106: CACNA2D1\n"
     ]
    },
    {
     "name": "stderr",
     "output_type": "stream",
     "text": [
      "Running elastic model with corum transcripts:  10%|█         | 1107/10921 [10:06<1:23:34,  1.96it/s]"
     ]
    },
    {
     "name": "stdout",
     "output_type": "stream",
     "text": [
      "corr: [0.24388], r2: [-0.19723]\n",
      "Doing 1107: CACNA2D2\n"
     ]
    },
    {
     "name": "stderr",
     "output_type": "stream",
     "text": [
      "Running elastic model with corum transcripts:  10%|█         | 1108/10921 [10:06<1:26:08,  1.90it/s]"
     ]
    },
    {
     "name": "stdout",
     "output_type": "stream",
     "text": [
      "corr: [0.07271], r2: [-0.33648]\n",
      "Doing 1108: CACNB1\n"
     ]
    },
    {
     "name": "stderr",
     "output_type": "stream",
     "text": [
      "Running elastic model with corum transcripts:  10%|█         | 1109/10921 [10:07<1:32:10,  1.77it/s]"
     ]
    },
    {
     "name": "stdout",
     "output_type": "stream",
     "text": [
      "corr: [-0.00923], r2: [-0.00317]\n",
      "Doing 1109: CACNB3\n"
     ]
    },
    {
     "name": "stderr",
     "output_type": "stream",
     "text": [
      "Running elastic model with corum transcripts:  10%|█         | 1110/10921 [10:08<1:40:04,  1.63it/s]"
     ]
    },
    {
     "name": "stdout",
     "output_type": "stream",
     "text": [
      "corr: [-0.17455], r2: [-0.33634]\n",
      "Doing 1110: CACTIN\n"
     ]
    },
    {
     "name": "stderr",
     "output_type": "stream",
     "text": [
      "/Applications/venv/CPTAC_Protein/lib/python3.9/site-packages/sklearn/linear_model/_coordinate_descent.py:645: ConvergenceWarning: Objective did not converge. You might want to increase the number of iterations, check the scale of the features or consider increasing regularisation. Duality gap: 3.574e-02, tolerance: 3.327e-02\n",
      "  model = cd_fast.enet_coordinate_descent(\n",
      "/Applications/venv/CPTAC_Protein/lib/python3.9/site-packages/sklearn/linear_model/_coordinate_descent.py:645: ConvergenceWarning: Objective did not converge. You might want to increase the number of iterations, check the scale of the features or consider increasing regularisation. Duality gap: 3.605e-02, tolerance: 3.327e-02\n",
      "  model = cd_fast.enet_coordinate_descent(\n",
      "Running elastic model with corum transcripts:  10%|█         | 1111/10921 [11:00<41:06:49, 15.09s/it]"
     ]
    },
    {
     "name": "stdout",
     "output_type": "stream",
     "text": [
      "corr: [0.28392], r2: [0.07442]\n",
      "Doing 1111: CACUL1\n"
     ]
    },
    {
     "name": "stderr",
     "output_type": "stream",
     "text": [
      "Running elastic model with corum transcripts:  10%|█         | 1112/10921 [11:00<29:48:40, 10.94s/it]"
     ]
    },
    {
     "name": "stdout",
     "output_type": "stream",
     "text": [
      "corr: [0.56588], r2: [0.20093]\n",
      "Doing 1112: CACYBP\n"
     ]
    },
    {
     "name": "stderr",
     "output_type": "stream",
     "text": [
      "Running elastic model with corum transcripts:  10%|█         | 1113/10921 [11:01<21:50:49,  8.02s/it]"
     ]
    },
    {
     "name": "stdout",
     "output_type": "stream",
     "text": [
      "corr: [0.47952], r2: [0.08994]\n",
      "Doing 1113: CAD\n"
     ]
    },
    {
     "name": "stderr",
     "output_type": "stream",
     "text": [
      "Running elastic model with corum transcripts:  10%|█         | 1114/10921 [11:02<15:56:44,  5.85s/it]"
     ]
    },
    {
     "name": "stdout",
     "output_type": "stream",
     "text": [
      "corr: [0.05618], r2: [-0.02165]\n",
      "Doing 1114: CADM1\n"
     ]
    },
    {
     "name": "stderr",
     "output_type": "stream",
     "text": [
      "Running elastic model with corum transcripts:  10%|█         | 1115/10921 [11:03<11:48:37,  4.34s/it]"
     ]
    },
    {
     "name": "stdout",
     "output_type": "stream",
     "text": [
      "corr: [0.63245], r2: [0.33942]\n",
      "Doing 1115: CADM3\n"
     ]
    },
    {
     "name": "stderr",
     "output_type": "stream",
     "text": [
      "Running elastic model with corum transcripts:  10%|█         | 1116/10921 [11:03<8:53:30,  3.26s/it] "
     ]
    },
    {
     "name": "stdout",
     "output_type": "stream",
     "text": [
      "corr: [0.38995], r2: [-0.04202]\n",
      "Doing 1116: CADM4\n"
     ]
    },
    {
     "name": "stderr",
     "output_type": "stream",
     "text": [
      "Running elastic model with corum transcripts:  10%|█         | 1117/10921 [11:04<6:45:26,  2.48s/it]"
     ]
    },
    {
     "name": "stdout",
     "output_type": "stream",
     "text": [
      "corr: [0.39331], r2: [0.04624]\n",
      "Doing 1117: CADPS\n"
     ]
    },
    {
     "name": "stderr",
     "output_type": "stream",
     "text": [
      "Running elastic model with corum transcripts:  10%|█         | 1118/10921 [11:05<5:16:44,  1.94s/it]"
     ]
    },
    {
     "name": "stdout",
     "output_type": "stream",
     "text": [
      "corr: [0.23472], r2: [-0.15145]\n",
      "Doing 1118: CADPS2\n"
     ]
    },
    {
     "name": "stderr",
     "output_type": "stream",
     "text": [
      "Running elastic model with corum transcripts:  10%|█         | 1119/10921 [11:05<4:19:28,  1.59s/it]"
     ]
    },
    {
     "name": "stdout",
     "output_type": "stream",
     "text": [
      "corr: [0.55508], r2: [0.26377]\n",
      "Doing 1119: CALB1\n"
     ]
    },
    {
     "name": "stderr",
     "output_type": "stream",
     "text": [
      "Running elastic model with corum transcripts:  10%|█         | 1120/10921 [11:06<3:33:11,  1.31s/it]"
     ]
    },
    {
     "name": "stdout",
     "output_type": "stream",
     "text": [
      "corr: [0.31609], r2: [0.01985]\n",
      "Doing 1120: CALB2\n"
     ]
    },
    {
     "name": "stderr",
     "output_type": "stream",
     "text": [
      "Running elastic model with corum transcripts:  10%|█         | 1121/10921 [11:07<3:00:16,  1.10s/it]"
     ]
    },
    {
     "name": "stdout",
     "output_type": "stream",
     "text": [
      "corr: [0.6286], r2: [0.19368]\n",
      "Doing 1121: CALCOCO1\n"
     ]
    },
    {
     "name": "stderr",
     "output_type": "stream",
     "text": [
      "Running elastic model with corum transcripts:  10%|█         | 1122/10921 [11:07<2:41:54,  1.01it/s]"
     ]
    },
    {
     "name": "stdout",
     "output_type": "stream",
     "text": [
      "corr: [0.56017], r2: [0.16629]\n",
      "Doing 1122: CALCOCO2\n"
     ]
    },
    {
     "name": "stderr",
     "output_type": "stream",
     "text": [
      "Running elastic model with corum transcripts:  10%|█         | 1123/10921 [11:08<2:30:37,  1.08it/s]"
     ]
    },
    {
     "name": "stdout",
     "output_type": "stream",
     "text": [
      "corr: [0.50313], r2: [0.19073]\n",
      "Doing 1123: CALCRL\n"
     ]
    },
    {
     "name": "stderr",
     "output_type": "stream",
     "text": [
      "Running elastic model with corum transcripts:  10%|█         | 1124/10921 [11:09<2:13:57,  1.22it/s]"
     ]
    },
    {
     "name": "stdout",
     "output_type": "stream",
     "text": [
      "corr: [0.35562], r2: [-0.04361]\n",
      "Doing 1124: CALD1\n"
     ]
    },
    {
     "name": "stderr",
     "output_type": "stream",
     "text": [
      "Running elastic model with corum transcripts:  10%|█         | 1125/10921 [11:09<2:06:55,  1.29it/s]"
     ]
    },
    {
     "name": "stdout",
     "output_type": "stream",
     "text": [
      "corr: [0.49857], r2: [0.23578]\n",
      "Doing 1125: CALHM2\n"
     ]
    },
    {
     "name": "stderr",
     "output_type": "stream",
     "text": [
      "Running elastic model with corum transcripts:  10%|█         | 1126/10921 [11:10<1:59:29,  1.37it/s]"
     ]
    },
    {
     "name": "stdout",
     "output_type": "stream",
     "text": [
      "corr: [0.01569], r2: [-0.07743]\n",
      "Doing 1126: CALM2\n"
     ]
    },
    {
     "name": "stderr",
     "output_type": "stream",
     "text": [
      "/Applications/venv/CPTAC_Protein/lib/python3.9/site-packages/numpy/lib/function_base.py:2691: RuntimeWarning: invalid value encountered in true_divide\n",
      "  c /= stddev[:, None]\n",
      "/Applications/venv/CPTAC_Protein/lib/python3.9/site-packages/numpy/lib/function_base.py:2692: RuntimeWarning: invalid value encountered in true_divide\n",
      "  c /= stddev[None, :]\n",
      "Running elastic model with corum transcripts:  10%|█         | 1127/10921 [11:11<1:54:51,  1.42it/s]"
     ]
    },
    {
     "name": "stdout",
     "output_type": "stream",
     "text": [
      "corr: [0], r2: [-0.33044]\n",
      "Doing 1127: CALML3\n"
     ]
    },
    {
     "name": "stderr",
     "output_type": "stream",
     "text": [
      "Running elastic model with corum transcripts:  10%|█         | 1128/10921 [11:11<1:54:57,  1.42it/s]"
     ]
    },
    {
     "name": "stdout",
     "output_type": "stream",
     "text": [
      "corr: [0.29987], r2: [-0.08341]\n",
      "Doing 1128: CALML5\n"
     ]
    },
    {
     "name": "stderr",
     "output_type": "stream",
     "text": [
      "Running elastic model with corum transcripts:  10%|█         | 1129/10921 [11:12<1:50:13,  1.48it/s]"
     ]
    },
    {
     "name": "stdout",
     "output_type": "stream",
     "text": [
      "corr: [0.63587], r2: [0.33891]\n",
      "Doing 1129: CALR\n"
     ]
    },
    {
     "name": "stderr",
     "output_type": "stream",
     "text": [
      "Running elastic model with corum transcripts:  10%|█         | 1130/10921 [11:13<1:55:10,  1.42it/s]"
     ]
    },
    {
     "name": "stdout",
     "output_type": "stream",
     "text": [
      "corr: [0.54108], r2: [0.22179]\n",
      "Doing 1130: CALU\n"
     ]
    },
    {
     "name": "stderr",
     "output_type": "stream",
     "text": [
      "Running elastic model with corum transcripts:  10%|█         | 1131/10921 [11:13<1:53:30,  1.44it/s]"
     ]
    },
    {
     "name": "stdout",
     "output_type": "stream",
     "text": [
      "corr: [0.55879], r2: [0.3029]\n",
      "Doing 1131: CAMK1\n"
     ]
    },
    {
     "name": "stderr",
     "output_type": "stream",
     "text": [
      "Running elastic model with corum transcripts:  10%|█         | 1132/10921 [11:14<1:57:44,  1.39it/s]"
     ]
    },
    {
     "name": "stdout",
     "output_type": "stream",
     "text": [
      "corr: [0.22624], r2: [-0.27619]\n",
      "Doing 1132: CAMK1D\n"
     ]
    },
    {
     "name": "stderr",
     "output_type": "stream",
     "text": [
      "Running elastic model with corum transcripts:  10%|█         | 1133/10921 [11:15<1:59:06,  1.37it/s]"
     ]
    },
    {
     "name": "stdout",
     "output_type": "stream",
     "text": [
      "corr: [0.83553], r2: [0.64974]\n",
      "Doing 1133: CAMK2A\n"
     ]
    },
    {
     "name": "stderr",
     "output_type": "stream",
     "text": [
      "Running elastic model with corum transcripts:  10%|█         | 1134/10921 [11:16<1:59:37,  1.36it/s]"
     ]
    },
    {
     "name": "stdout",
     "output_type": "stream",
     "text": [
      "corr: [0.00241], r2: [-0.02627]\n",
      "Doing 1134: CAMK2B\n"
     ]
    },
    {
     "name": "stderr",
     "output_type": "stream",
     "text": [
      "Running elastic model with corum transcripts:  10%|█         | 1135/10921 [11:16<1:55:51,  1.41it/s]"
     ]
    },
    {
     "name": "stdout",
     "output_type": "stream",
     "text": [
      "corr: [0.10639], r2: [-0.11062]\n",
      "Doing 1135: CAMK2D\n"
     ]
    },
    {
     "name": "stderr",
     "output_type": "stream",
     "text": [
      "Running elastic model with corum transcripts:  10%|█         | 1136/10921 [11:17<2:00:44,  1.35it/s]"
     ]
    },
    {
     "name": "stdout",
     "output_type": "stream",
     "text": [
      "corr: [0.74702], r2: [0.45354]\n",
      "Doing 1136: CAMK2G\n"
     ]
    },
    {
     "name": "stderr",
     "output_type": "stream",
     "text": [
      "/Applications/venv/CPTAC_Protein/lib/python3.9/site-packages/numpy/lib/function_base.py:2691: RuntimeWarning: invalid value encountered in true_divide\n",
      "  c /= stddev[:, None]\n",
      "/Applications/venv/CPTAC_Protein/lib/python3.9/site-packages/numpy/lib/function_base.py:2692: RuntimeWarning: invalid value encountered in true_divide\n",
      "  c /= stddev[None, :]\n",
      "Running elastic model with corum transcripts:  10%|█         | 1137/10921 [11:18<1:58:29,  1.38it/s]"
     ]
    },
    {
     "name": "stdout",
     "output_type": "stream",
     "text": [
      "corr: [0], r2: [-0.0165]\n",
      "Doing 1137: CAMK4\n"
     ]
    },
    {
     "name": "stderr",
     "output_type": "stream",
     "text": [
      "Running elastic model with corum transcripts:  10%|█         | 1138/10921 [11:19<1:52:47,  1.45it/s]"
     ]
    },
    {
     "name": "stdout",
     "output_type": "stream",
     "text": [
      "corr: [0.37565], r2: [0.10682]\n",
      "Doing 1138: CAMKK1\n"
     ]
    },
    {
     "name": "stderr",
     "output_type": "stream",
     "text": [
      "Running elastic model with corum transcripts:  10%|█         | 1139/10921 [11:19<1:50:04,  1.48it/s]"
     ]
    },
    {
     "name": "stdout",
     "output_type": "stream",
     "text": [
      "corr: [0.42292], r2: [-0.10423]\n",
      "Doing 1139: CAMKK2\n"
     ]
    },
    {
     "name": "stderr",
     "output_type": "stream",
     "text": [
      "Running elastic model with corum transcripts:  10%|█         | 1140/10921 [11:20<1:52:47,  1.45it/s]"
     ]
    },
    {
     "name": "stdout",
     "output_type": "stream",
     "text": [
      "corr: [0.39002], r2: [-0.03258]\n",
      "Doing 1140: CAMKMT\n"
     ]
    },
    {
     "name": "stderr",
     "output_type": "stream",
     "text": [
      "Running elastic model with corum transcripts:  10%|█         | 1141/10921 [11:21<1:53:40,  1.43it/s]"
     ]
    },
    {
     "name": "stdout",
     "output_type": "stream",
     "text": [
      "corr: [0.14366], r2: [0.01639]\n",
      "Doing 1141: CAMLG\n"
     ]
    },
    {
     "name": "stderr",
     "output_type": "stream",
     "text": [
      "Running elastic model with corum transcripts:  10%|█         | 1142/10921 [11:21<1:58:34,  1.37it/s]"
     ]
    },
    {
     "name": "stdout",
     "output_type": "stream",
     "text": [
      "corr: [0.06672], r2: [-0.03118]\n",
      "Doing 1142: CAMP\n"
     ]
    },
    {
     "name": "stderr",
     "output_type": "stream",
     "text": [
      "Running elastic model with corum transcripts:  10%|█         | 1143/10921 [11:22<1:58:35,  1.37it/s]"
     ]
    },
    {
     "name": "stdout",
     "output_type": "stream",
     "text": [
      "corr: [0.07785], r2: [-0.28092]\n",
      "Doing 1143: CAMSAP1\n"
     ]
    },
    {
     "name": "stderr",
     "output_type": "stream",
     "text": [
      "Running elastic model with corum transcripts:  10%|█         | 1144/10921 [11:23<1:56:47,  1.40it/s]"
     ]
    },
    {
     "name": "stdout",
     "output_type": "stream",
     "text": [
      "corr: [0.29162], r2: [0.05903]\n",
      "Doing 1144: CAMSAP2\n"
     ]
    },
    {
     "name": "stderr",
     "output_type": "stream",
     "text": [
      "Running elastic model with corum transcripts:  10%|█         | 1145/10921 [11:23<1:53:32,  1.43it/s]"
     ]
    },
    {
     "name": "stdout",
     "output_type": "stream",
     "text": [
      "corr: [0.20524], r2: [-0.04307]\n",
      "Doing 1145: CAMSAP3\n"
     ]
    },
    {
     "name": "stderr",
     "output_type": "stream",
     "text": [
      "Running elastic model with corum transcripts:  10%|█         | 1146/10921 [11:24<1:52:09,  1.45it/s]"
     ]
    },
    {
     "name": "stdout",
     "output_type": "stream",
     "text": [
      "corr: [0.62288], r2: [0.21698]\n",
      "Doing 1146: CAND1\n"
     ]
    },
    {
     "name": "stderr",
     "output_type": "stream",
     "text": [
      "Running elastic model with corum transcripts:  11%|█         | 1147/10921 [11:25<1:56:34,  1.40it/s]"
     ]
    },
    {
     "name": "stdout",
     "output_type": "stream",
     "text": [
      "corr: [0.29613], r2: [-0.1862]\n",
      "Doing 1147: CAND2\n"
     ]
    },
    {
     "name": "stderr",
     "output_type": "stream",
     "text": [
      "Running elastic model with corum transcripts:  11%|█         | 1148/10921 [11:26<1:52:17,  1.45it/s]"
     ]
    },
    {
     "name": "stdout",
     "output_type": "stream",
     "text": [
      "corr: [0.37103], r2: [0.00212]\n",
      "Doing 1148: CANT1\n"
     ]
    },
    {
     "name": "stderr",
     "output_type": "stream",
     "text": [
      "Running elastic model with corum transcripts:  11%|█         | 1149/10921 [11:26<1:50:15,  1.48it/s]"
     ]
    },
    {
     "name": "stdout",
     "output_type": "stream",
     "text": [
      "corr: [0.56152], r2: [0.30362]\n",
      "Doing 1149: CANX\n"
     ]
    },
    {
     "name": "stderr",
     "output_type": "stream",
     "text": [
      "Running elastic model with corum transcripts:  11%|█         | 1150/10921 [11:27<1:52:29,  1.45it/s]"
     ]
    },
    {
     "name": "stdout",
     "output_type": "stream",
     "text": [
      "corr: [0.24777], r2: [0.00606]\n",
      "Doing 1150: CAP1\n"
     ]
    },
    {
     "name": "stderr",
     "output_type": "stream",
     "text": [
      "Running elastic model with corum transcripts:  11%|█         | 1151/10921 [11:28<1:53:25,  1.44it/s]"
     ]
    },
    {
     "name": "stdout",
     "output_type": "stream",
     "text": [
      "corr: [0.30184], r2: [0.03174]\n",
      "Doing 1151: CAP2\n"
     ]
    },
    {
     "name": "stderr",
     "output_type": "stream",
     "text": [
      "Running elastic model with corum transcripts:  11%|█         | 1152/10921 [11:28<1:54:13,  1.43it/s]"
     ]
    },
    {
     "name": "stdout",
     "output_type": "stream",
     "text": [
      "corr: [0.51213], r2: [0.25544]\n",
      "Doing 1152: CAPG\n"
     ]
    },
    {
     "name": "stderr",
     "output_type": "stream",
     "text": [
      "Running elastic model with corum transcripts:  11%|█         | 1153/10921 [11:29<2:00:22,  1.35it/s]"
     ]
    },
    {
     "name": "stdout",
     "output_type": "stream",
     "text": [
      "corr: [0.68629], r2: [0.36318]\n",
      "Doing 1153: CAPN1\n"
     ]
    },
    {
     "name": "stderr",
     "output_type": "stream",
     "text": [
      "Running elastic model with corum transcripts:  11%|█         | 1154/10921 [11:30<1:55:50,  1.41it/s]"
     ]
    },
    {
     "name": "stdout",
     "output_type": "stream",
     "text": [
      "corr: [0.43629], r2: [0.05525]\n",
      "Doing 1154: CAPN13\n"
     ]
    },
    {
     "name": "stderr",
     "output_type": "stream",
     "text": [
      "Running elastic model with corum transcripts:  11%|█         | 1155/10921 [11:31<1:54:45,  1.42it/s]"
     ]
    },
    {
     "name": "stdout",
     "output_type": "stream",
     "text": [
      "corr: [0.63805], r2: [0.35085]\n",
      "Doing 1155: CAPN15\n"
     ]
    },
    {
     "name": "stderr",
     "output_type": "stream",
     "text": [
      "/Applications/venv/CPTAC_Protein/lib/python3.9/site-packages/numpy/lib/function_base.py:2691: RuntimeWarning: invalid value encountered in true_divide\n",
      "  c /= stddev[:, None]\n",
      "/Applications/venv/CPTAC_Protein/lib/python3.9/site-packages/numpy/lib/function_base.py:2692: RuntimeWarning: invalid value encountered in true_divide\n",
      "  c /= stddev[None, :]\n",
      "Running elastic model with corum transcripts:  11%|█         | 1156/10921 [11:31<1:53:40,  1.43it/s]"
     ]
    },
    {
     "name": "stdout",
     "output_type": "stream",
     "text": [
      "corr: [0], r2: [-0.08239]\n",
      "Doing 1156: CAPN2\n"
     ]
    },
    {
     "name": "stderr",
     "output_type": "stream",
     "text": [
      "Running elastic model with corum transcripts:  11%|█         | 1157/10921 [11:32<1:52:35,  1.45it/s]"
     ]
    },
    {
     "name": "stdout",
     "output_type": "stream",
     "text": [
      "corr: [0.67141], r2: [0.28755]\n",
      "Doing 1157: CAPN3\n",
      "Not enough proteomics observations. Skipping protein.\n",
      "Doing 1158: CAPN5\n"
     ]
    },
    {
     "name": "stderr",
     "output_type": "stream",
     "text": [
      "Running elastic model with corum transcripts:  11%|█         | 1159/10921 [11:33<1:26:43,  1.88it/s]"
     ]
    },
    {
     "name": "stdout",
     "output_type": "stream",
     "text": [
      "corr: [0.65893], r2: [0.39582]\n",
      "Doing 1159: CAPN6\n"
     ]
    },
    {
     "name": "stderr",
     "output_type": "stream",
     "text": [
      "Running elastic model with corum transcripts:  11%|█         | 1160/10921 [11:33<1:35:13,  1.71it/s]"
     ]
    },
    {
     "name": "stdout",
     "output_type": "stream",
     "text": [
      "corr: [0.34687], r2: [-0.36491]\n",
      "Doing 1160: CAPN7\n"
     ]
    },
    {
     "name": "stderr",
     "output_type": "stream",
     "text": [
      "Running elastic model with corum transcripts:  11%|█         | 1161/10921 [11:34<1:39:44,  1.63it/s]"
     ]
    },
    {
     "name": "stdout",
     "output_type": "stream",
     "text": [
      "corr: [0.47807], r2: [0.15352]\n",
      "Doing 1161: CAPNS1\n"
     ]
    },
    {
     "name": "stderr",
     "output_type": "stream",
     "text": [
      "Running elastic model with corum transcripts:  11%|█         | 1162/10921 [11:35<1:42:47,  1.58it/s]"
     ]
    },
    {
     "name": "stdout",
     "output_type": "stream",
     "text": [
      "corr: [0.13438], r2: [-0.32071]\n",
      "Doing 1162: CAPNS2\n"
     ]
    },
    {
     "name": "stderr",
     "output_type": "stream",
     "text": [
      "Running elastic model with corum transcripts:  11%|█         | 1163/10921 [11:35<1:47:40,  1.51it/s]"
     ]
    },
    {
     "name": "stdout",
     "output_type": "stream",
     "text": [
      "corr: [-0.29082], r2: [-0.32624]\n",
      "Doing 1163: CAPRIN1\n"
     ]
    },
    {
     "name": "stderr",
     "output_type": "stream",
     "text": [
      "Running elastic model with corum transcripts:  11%|█         | 1164/10921 [11:36<2:00:34,  1.35it/s]"
     ]
    },
    {
     "name": "stdout",
     "output_type": "stream",
     "text": [
      "corr: [0.61755], r2: [0.29461]\n",
      "Doing 1164: CAPS\n"
     ]
    },
    {
     "name": "stderr",
     "output_type": "stream",
     "text": [
      "Running elastic model with corum transcripts:  11%|█         | 1165/10921 [11:37<1:56:14,  1.40it/s]"
     ]
    },
    {
     "name": "stdout",
     "output_type": "stream",
     "text": [
      "corr: [0.71179], r2: [0.36516]\n",
      "Doing 1165: CAPZA1\n"
     ]
    },
    {
     "name": "stderr",
     "output_type": "stream",
     "text": [
      "Running elastic model with corum transcripts:  11%|█         | 1166/10921 [11:38<2:01:03,  1.34it/s]"
     ]
    },
    {
     "name": "stdout",
     "output_type": "stream",
     "text": [
      "corr: [0.59004], r2: [0.04561]\n",
      "Doing 1166: CAPZA2\n"
     ]
    },
    {
     "name": "stderr",
     "output_type": "stream",
     "text": [
      "Running elastic model with corum transcripts:  11%|█         | 1167/10921 [11:38<1:55:55,  1.40it/s]"
     ]
    },
    {
     "name": "stdout",
     "output_type": "stream",
     "text": [
      "corr: [-0.00961], r2: [-0.47963]\n",
      "Doing 1167: CAPZB\n"
     ]
    },
    {
     "name": "stderr",
     "output_type": "stream",
     "text": [
      "/Applications/venv/CPTAC_Protein/lib/python3.9/site-packages/numpy/lib/function_base.py:2691: RuntimeWarning: invalid value encountered in true_divide\n",
      "  c /= stddev[:, None]\n",
      "/Applications/venv/CPTAC_Protein/lib/python3.9/site-packages/numpy/lib/function_base.py:2692: RuntimeWarning: invalid value encountered in true_divide\n",
      "  c /= stddev[None, :]\n",
      "Running elastic model with corum transcripts:  11%|█         | 1168/10921 [11:39<1:58:16,  1.37it/s]"
     ]
    },
    {
     "name": "stdout",
     "output_type": "stream",
     "text": [
      "corr: [0], r2: [-2.81038]\n",
      "Doing 1168: CARD11\n"
     ]
    },
    {
     "name": "stderr",
     "output_type": "stream",
     "text": [
      "Running elastic model with corum transcripts:  11%|█         | 1169/10921 [11:40<2:00:28,  1.35it/s]"
     ]
    },
    {
     "name": "stdout",
     "output_type": "stream",
     "text": [
      "corr: [0.36312], r2: [-0.13233]\n",
      "Doing 1169: CARD16\n"
     ]
    },
    {
     "name": "stderr",
     "output_type": "stream",
     "text": [
      "/Applications/venv/CPTAC_Protein/lib/python3.9/site-packages/numpy/lib/function_base.py:2691: RuntimeWarning: invalid value encountered in true_divide\n",
      "  c /= stddev[:, None]\n",
      "/Applications/venv/CPTAC_Protein/lib/python3.9/site-packages/numpy/lib/function_base.py:2692: RuntimeWarning: invalid value encountered in true_divide\n",
      "  c /= stddev[None, :]\n",
      "Running elastic model with corum transcripts:  11%|█         | 1170/10921 [11:41<1:55:22,  1.41it/s]"
     ]
    },
    {
     "name": "stdout",
     "output_type": "stream",
     "text": [
      "corr: [-0.], r2: [-0.00022]\n",
      "Doing 1170: CARD6\n"
     ]
    },
    {
     "name": "stderr",
     "output_type": "stream",
     "text": [
      "Running elastic model with corum transcripts:  11%|█         | 1171/10921 [11:41<1:50:05,  1.48it/s]"
     ]
    },
    {
     "name": "stdout",
     "output_type": "stream",
     "text": [
      "corr: [0.55585], r2: [0.24865]\n",
      "Doing 1171: CARD8\n"
     ]
    },
    {
     "name": "stderr",
     "output_type": "stream",
     "text": [
      "Running elastic model with corum transcripts:  11%|█         | 1172/10921 [11:42<1:54:43,  1.42it/s]"
     ]
    },
    {
     "name": "stdout",
     "output_type": "stream",
     "text": [
      "corr: [0.54021], r2: [0.16846]\n",
      "Doing 1172: CARD9\n"
     ]
    },
    {
     "name": "stderr",
     "output_type": "stream",
     "text": [
      "Running elastic model with corum transcripts:  11%|█         | 1173/10921 [11:43<1:51:23,  1.46it/s]"
     ]
    },
    {
     "name": "stdout",
     "output_type": "stream",
     "text": [
      "corr: [0.50722], r2: [0.09594]\n",
      "Doing 1173: CARHSP1\n"
     ]
    },
    {
     "name": "stderr",
     "output_type": "stream",
     "text": [
      "Running elastic model with corum transcripts:  11%|█         | 1174/10921 [11:43<1:55:50,  1.40it/s]"
     ]
    },
    {
     "name": "stdout",
     "output_type": "stream",
     "text": [
      "corr: [0.4573], r2: [0.08535]\n",
      "Doing 1174: CARM1\n"
     ]
    },
    {
     "name": "stderr",
     "output_type": "stream",
     "text": [
      "Running elastic model with corum transcripts:  11%|█         | 1175/10921 [11:44<2:00:10,  1.35it/s]"
     ]
    },
    {
     "name": "stdout",
     "output_type": "stream",
     "text": [
      "corr: [0.69243], r2: [0.44901]\n",
      "Doing 1175: CARS\n"
     ]
    },
    {
     "name": "stderr",
     "output_type": "stream",
     "text": [
      "Running elastic model with corum transcripts:  11%|█         | 1176/10921 [11:45<1:54:53,  1.41it/s]"
     ]
    },
    {
     "name": "stdout",
     "output_type": "stream",
     "text": [
      "corr: [0.24737], r2: [-0.49397]\n",
      "Doing 1176: CARS2\n"
     ]
    },
    {
     "name": "stderr",
     "output_type": "stream",
     "text": [
      "Running elastic model with corum transcripts:  11%|█         | 1177/10921 [11:46<1:54:31,  1.42it/s]"
     ]
    },
    {
     "name": "stdout",
     "output_type": "stream",
     "text": [
      "corr: [0.47341], r2: [0.21039]\n",
      "Doing 1177: CASC3\n"
     ]
    },
    {
     "name": "stderr",
     "output_type": "stream",
     "text": [
      "Running elastic model with corum transcripts:  11%|█         | 1178/10921 [11:46<1:56:35,  1.39it/s]"
     ]
    },
    {
     "name": "stdout",
     "output_type": "stream",
     "text": [
      "corr: [0.63237], r2: [0.22654]\n",
      "Doing 1178: CASC4\n"
     ]
    },
    {
     "name": "stderr",
     "output_type": "stream",
     "text": [
      "Running elastic model with corum transcripts:  11%|█         | 1179/10921 [11:47<1:52:52,  1.44it/s]"
     ]
    },
    {
     "name": "stdout",
     "output_type": "stream",
     "text": [
      "corr: [0.33027], r2: [0.09809]\n",
      "Doing 1179: CASK\n"
     ]
    },
    {
     "name": "stderr",
     "output_type": "stream",
     "text": [
      "Running elastic model with corum transcripts:  11%|█         | 1180/10921 [11:48<1:56:35,  1.39it/s]"
     ]
    },
    {
     "name": "stdout",
     "output_type": "stream",
     "text": [
      "corr: [0.16439], r2: [-0.0334]\n",
      "Doing 1180: CASKIN2\n"
     ]
    },
    {
     "name": "stderr",
     "output_type": "stream",
     "text": [
      "Running elastic model with corum transcripts:  11%|█         | 1181/10921 [11:48<1:52:18,  1.45it/s]"
     ]
    },
    {
     "name": "stdout",
     "output_type": "stream",
     "text": [
      "corr: [0.23233], r2: [0.04489]\n",
      "Doing 1181: CASP1\n"
     ]
    },
    {
     "name": "stderr",
     "output_type": "stream",
     "text": [
      "Running elastic model with corum transcripts:  11%|█         | 1182/10921 [11:49<1:50:39,  1.47it/s]"
     ]
    },
    {
     "name": "stdout",
     "output_type": "stream",
     "text": [
      "corr: [0.71562], r2: [0.48204]\n",
      "Doing 1182: CASP10\n"
     ]
    },
    {
     "name": "stderr",
     "output_type": "stream",
     "text": [
      "Running elastic model with corum transcripts:  11%|█         | 1183/10921 [11:50<1:53:37,  1.43it/s]"
     ]
    },
    {
     "name": "stdout",
     "output_type": "stream",
     "text": [
      "corr: [0.62741], r2: [0.16546]\n",
      "Doing 1183: CASP14\n"
     ]
    },
    {
     "name": "stderr",
     "output_type": "stream",
     "text": [
      "Running elastic model with corum transcripts:  11%|█         | 1184/10921 [11:51<1:55:35,  1.40it/s]"
     ]
    },
    {
     "name": "stdout",
     "output_type": "stream",
     "text": [
      "corr: [0.55386], r2: [0.23658]\n",
      "Doing 1184: CASP2\n"
     ]
    },
    {
     "name": "stderr",
     "output_type": "stream",
     "text": [
      "Running elastic model with corum transcripts:  11%|█         | 1185/10921 [11:51<1:53:32,  1.43it/s]"
     ]
    },
    {
     "name": "stdout",
     "output_type": "stream",
     "text": [
      "corr: [0.58216], r2: [0.13152]\n",
      "Doing 1185: CASP3\n"
     ]
    },
    {
     "name": "stderr",
     "output_type": "stream",
     "text": [
      "Running elastic model with corum transcripts:  11%|█         | 1186/10921 [11:52<1:55:20,  1.41it/s]"
     ]
    },
    {
     "name": "stdout",
     "output_type": "stream",
     "text": [
      "corr: [0.56635], r2: [0.31158]\n",
      "Doing 1186: CASP4\n"
     ]
    },
    {
     "name": "stderr",
     "output_type": "stream",
     "text": [
      "Running elastic model with corum transcripts:  11%|█         | 1187/10921 [11:53<1:52:07,  1.45it/s]"
     ]
    },
    {
     "name": "stdout",
     "output_type": "stream",
     "text": [
      "corr: [0.50589], r2: [0.2258]\n",
      "Doing 1187: CASP5\n"
     ]
    },
    {
     "name": "stderr",
     "output_type": "stream",
     "text": [
      "Running elastic model with corum transcripts:  11%|█         | 1188/10921 [11:53<1:54:00,  1.42it/s]"
     ]
    },
    {
     "name": "stdout",
     "output_type": "stream",
     "text": [
      "corr: [0.34024], r2: [-0.06015]\n",
      "Doing 1188: CASP6\n"
     ]
    },
    {
     "name": "stderr",
     "output_type": "stream",
     "text": [
      "Running elastic model with corum transcripts:  11%|█         | 1189/10921 [11:54<1:56:21,  1.39it/s]"
     ]
    },
    {
     "name": "stdout",
     "output_type": "stream",
     "text": [
      "corr: [0.68435], r2: [0.43934]\n",
      "Doing 1189: CASP7\n"
     ]
    },
    {
     "name": "stderr",
     "output_type": "stream",
     "text": [
      "Running elastic model with corum transcripts:  11%|█         | 1190/10921 [11:55<1:53:25,  1.43it/s]"
     ]
    },
    {
     "name": "stdout",
     "output_type": "stream",
     "text": [
      "corr: [0.76372], r2: [0.47978]\n",
      "Doing 1190: CASP8\n"
     ]
    },
    {
     "name": "stderr",
     "output_type": "stream",
     "text": [
      "Running elastic model with corum transcripts:  11%|█         | 1191/10921 [11:55<1:54:54,  1.41it/s]"
     ]
    },
    {
     "name": "stdout",
     "output_type": "stream",
     "text": [
      "corr: [0.66367], r2: [0.39946]\n",
      "Doing 1191: CASP9\n"
     ]
    },
    {
     "name": "stderr",
     "output_type": "stream",
     "text": [
      "Running elastic model with corum transcripts:  11%|█         | 1192/10921 [11:56<1:57:30,  1.38it/s]"
     ]
    },
    {
     "name": "stdout",
     "output_type": "stream",
     "text": [
      "corr: [0.32763], r2: [-0.06838]\n",
      "Doing 1192: CASQ1\n"
     ]
    },
    {
     "name": "stderr",
     "output_type": "stream",
     "text": [
      "/Applications/venv/CPTAC_Protein/lib/python3.9/site-packages/numpy/lib/function_base.py:2691: RuntimeWarning: invalid value encountered in true_divide\n",
      "  c /= stddev[:, None]\n",
      "/Applications/venv/CPTAC_Protein/lib/python3.9/site-packages/numpy/lib/function_base.py:2692: RuntimeWarning: invalid value encountered in true_divide\n",
      "  c /= stddev[None, :]\n",
      "Running elastic model with corum transcripts:  11%|█         | 1193/10921 [11:57<1:53:17,  1.43it/s]"
     ]
    },
    {
     "name": "stdout",
     "output_type": "stream",
     "text": [
      "corr: [0], r2: [-24.16522]\n",
      "Doing 1193: CASQ2\n"
     ]
    },
    {
     "name": "stderr",
     "output_type": "stream",
     "text": [
      "/Applications/venv/CPTAC_Protein/lib/python3.9/site-packages/numpy/lib/function_base.py:2691: RuntimeWarning: invalid value encountered in true_divide\n",
      "  c /= stddev[:, None]\n",
      "/Applications/venv/CPTAC_Protein/lib/python3.9/site-packages/numpy/lib/function_base.py:2692: RuntimeWarning: invalid value encountered in true_divide\n",
      "  c /= stddev[None, :]\n",
      "Running elastic model with corum transcripts:  11%|█         | 1194/10921 [11:58<2:04:43,  1.30it/s]"
     ]
    },
    {
     "name": "stdout",
     "output_type": "stream",
     "text": [
      "corr: [0], r2: [-1.12684]\n",
      "Doing 1194: CAST\n"
     ]
    },
    {
     "name": "stderr",
     "output_type": "stream",
     "text": [
      "Running elastic model with corum transcripts:  11%|█         | 1195/10921 [11:58<1:59:22,  1.36it/s]"
     ]
    },
    {
     "name": "stdout",
     "output_type": "stream",
     "text": [
      "corr: [0.24048], r2: [-0.03552]\n",
      "Doing 1195: CASZ1\n"
     ]
    },
    {
     "name": "stderr",
     "output_type": "stream",
     "text": [
      "Running elastic model with corum transcripts:  11%|█         | 1196/10921 [11:59<1:54:07,  1.42it/s]"
     ]
    },
    {
     "name": "stdout",
     "output_type": "stream",
     "text": [
      "corr: [0.46977], r2: [0.19869]\n",
      "Doing 1196: CAT\n"
     ]
    },
    {
     "name": "stderr",
     "output_type": "stream",
     "text": [
      "Running elastic model with corum transcripts:  11%|█         | 1197/10921 [12:00<1:54:00,  1.42it/s]"
     ]
    },
    {
     "name": "stdout",
     "output_type": "stream",
     "text": [
      "corr: [0.22873], r2: [-0.05698]\n",
      "Doing 1197: CAV1\n"
     ]
    },
    {
     "name": "stderr",
     "output_type": "stream",
     "text": [
      "Running elastic model with corum transcripts:  11%|█         | 1198/10921 [12:01<2:01:04,  1.34it/s]"
     ]
    },
    {
     "name": "stdout",
     "output_type": "stream",
     "text": [
      "corr: [0.40799], r2: [0.14703]\n",
      "Doing 1198: CAV2\n"
     ]
    },
    {
     "name": "stderr",
     "output_type": "stream",
     "text": [
      "Running elastic model with corum transcripts:  11%|█         | 1199/10921 [12:01<1:53:50,  1.42it/s]"
     ]
    },
    {
     "name": "stdout",
     "output_type": "stream",
     "text": [
      "corr: [0.03169], r2: [-0.01198]\n",
      "Doing 1199: CAV3\n"
     ]
    },
    {
     "name": "stderr",
     "output_type": "stream",
     "text": [
      "/Applications/venv/CPTAC_Protein/lib/python3.9/site-packages/numpy/lib/function_base.py:2691: RuntimeWarning: invalid value encountered in true_divide\n",
      "  c /= stddev[:, None]\n",
      "/Applications/venv/CPTAC_Protein/lib/python3.9/site-packages/numpy/lib/function_base.py:2692: RuntimeWarning: invalid value encountered in true_divide\n",
      "  c /= stddev[None, :]\n",
      "Running elastic model with corum transcripts:  11%|█         | 1200/10921 [12:02<1:51:36,  1.45it/s]"
     ]
    },
    {
     "name": "stdout",
     "output_type": "stream",
     "text": [
      "corr: [0], r2: [-0.01997]\n",
      "Doing 1200: CBFA2T2\n"
     ]
    },
    {
     "name": "stderr",
     "output_type": "stream",
     "text": [
      "Running elastic model with corum transcripts:  11%|█         | 1201/10921 [12:03<1:52:23,  1.44it/s]"
     ]
    },
    {
     "name": "stdout",
     "output_type": "stream",
     "text": [
      "corr: [0.35519], r2: [0.12272]\n",
      "Doing 1201: CBFB\n"
     ]
    },
    {
     "name": "stderr",
     "output_type": "stream",
     "text": [
      "Running elastic model with corum transcripts:  11%|█         | 1202/10921 [12:03<1:51:57,  1.45it/s]"
     ]
    },
    {
     "name": "stdout",
     "output_type": "stream",
     "text": [
      "corr: [0.34638], r2: [0.10004]\n",
      "Doing 1202: CBL\n"
     ]
    },
    {
     "name": "stderr",
     "output_type": "stream",
     "text": [
      "Running elastic model with corum transcripts:  11%|█         | 1203/10921 [12:04<1:58:45,  1.36it/s]"
     ]
    },
    {
     "name": "stdout",
     "output_type": "stream",
     "text": [
      "corr: [0.50986], r2: [0.24542]\n",
      "Doing 1203: CBLB\n"
     ]
    },
    {
     "name": "stderr",
     "output_type": "stream",
     "text": [
      "Running elastic model with corum transcripts:  11%|█         | 1204/10921 [12:05<1:55:59,  1.40it/s]"
     ]
    },
    {
     "name": "stdout",
     "output_type": "stream",
     "text": [
      "corr: [0.37486], r2: [0.13605]\n",
      "Doing 1204: CBLL1\n"
     ]
    },
    {
     "name": "stderr",
     "output_type": "stream",
     "text": [
      "Running elastic model with corum transcripts:  11%|█         | 1205/10921 [12:06<2:05:22,  1.29it/s]"
     ]
    },
    {
     "name": "stdout",
     "output_type": "stream",
     "text": [
      "corr: [-0.08848], r2: [-0.03242]\n",
      "Doing 1205: CBLN1\n",
      "Not enough proteomics observations. Skipping protein.\n",
      "Doing 1206: CBR1\n"
     ]
    },
    {
     "name": "stderr",
     "output_type": "stream",
     "text": [
      "Running elastic model with corum transcripts:  11%|█         | 1207/10921 [12:06<1:34:13,  1.72it/s]"
     ]
    },
    {
     "name": "stdout",
     "output_type": "stream",
     "text": [
      "corr: [0.74469], r2: [0.35099]\n",
      "Doing 1207: CBR3\n"
     ]
    },
    {
     "name": "stderr",
     "output_type": "stream",
     "text": [
      "Running elastic model with corum transcripts:  11%|█         | 1208/10921 [12:07<1:37:16,  1.66it/s]"
     ]
    },
    {
     "name": "stdout",
     "output_type": "stream",
     "text": [
      "corr: [0.41013], r2: [-0.03154]\n",
      "Doing 1208: CBR4\n"
     ]
    },
    {
     "name": "stderr",
     "output_type": "stream",
     "text": [
      "Running elastic model with corum transcripts:  11%|█         | 1209/10921 [12:08<1:37:23,  1.66it/s]"
     ]
    },
    {
     "name": "stdout",
     "output_type": "stream",
     "text": [
      "corr: [0.55987], r2: [0.22724]\n",
      "Doing 1209: CBS\n"
     ]
    },
    {
     "name": "stderr",
     "output_type": "stream",
     "text": [
      "Running elastic model with corum transcripts:  11%|█         | 1210/10921 [12:08<1:42:30,  1.58it/s]"
     ]
    },
    {
     "name": "stdout",
     "output_type": "stream",
     "text": [
      "corr: [0.51117], r2: [-0.21694]\n",
      "Doing 1210: CBWD1\n"
     ]
    },
    {
     "name": "stderr",
     "output_type": "stream",
     "text": [
      "Running elastic model with corum transcripts:  11%|█         | 1211/10921 [12:09<1:42:36,  1.58it/s]"
     ]
    },
    {
     "name": "stdout",
     "output_type": "stream",
     "text": [
      "corr: [0.38126], r2: [0.09284]\n",
      "Doing 1211: CBWD2\n"
     ]
    },
    {
     "name": "stderr",
     "output_type": "stream",
     "text": [
      "Running elastic model with corum transcripts:  11%|█         | 1212/10921 [12:10<1:43:58,  1.56it/s]"
     ]
    },
    {
     "name": "stdout",
     "output_type": "stream",
     "text": [
      "corr: [0.01601], r2: [-0.18086]\n",
      "Doing 1212: CBX1\n"
     ]
    },
    {
     "name": "stderr",
     "output_type": "stream",
     "text": [
      "Running elastic model with corum transcripts:  11%|█         | 1213/10921 [12:10<1:47:00,  1.51it/s]"
     ]
    },
    {
     "name": "stdout",
     "output_type": "stream",
     "text": [
      "corr: [-0.05382], r2: [-0.21983]\n",
      "Doing 1213: CBX2\n"
     ]
    },
    {
     "name": "stderr",
     "output_type": "stream",
     "text": [
      "Running elastic model with corum transcripts:  11%|█         | 1214/10921 [12:11<1:54:55,  1.41it/s]"
     ]
    },
    {
     "name": "stdout",
     "output_type": "stream",
     "text": [
      "corr: [0.50485], r2: [0.0259]\n",
      "Doing 1214: CBX3\n"
     ]
    },
    {
     "name": "stderr",
     "output_type": "stream",
     "text": [
      "Running elastic model with corum transcripts:  11%|█         | 1215/10921 [12:12<2:01:25,  1.33it/s]"
     ]
    },
    {
     "name": "stdout",
     "output_type": "stream",
     "text": [
      "corr: [0.10711], r2: [-0.064]\n",
      "Doing 1215: CBX4\n"
     ]
    },
    {
     "name": "stderr",
     "output_type": "stream",
     "text": [
      "Running elastic model with corum transcripts:  11%|█         | 1216/10921 [12:13<2:15:54,  1.19it/s]"
     ]
    },
    {
     "name": "stdout",
     "output_type": "stream",
     "text": [
      "corr: [0.81454], r2: [0.34264]\n",
      "Doing 1216: CBX5\n"
     ]
    },
    {
     "name": "stderr",
     "output_type": "stream",
     "text": [
      "Running elastic model with corum transcripts:  11%|█         | 1217/10921 [12:14<2:11:20,  1.23it/s]"
     ]
    },
    {
     "name": "stdout",
     "output_type": "stream",
     "text": [
      "corr: [0.34267], r2: [0.09962]\n",
      "Doing 1217: CBX6\n"
     ]
    },
    {
     "name": "stderr",
     "output_type": "stream",
     "text": [
      "Running elastic model with corum transcripts:  11%|█         | 1218/10921 [12:14<2:02:40,  1.32it/s]"
     ]
    },
    {
     "name": "stdout",
     "output_type": "stream",
     "text": [
      "corr: [0.01353], r2: [-0.05268]\n",
      "Doing 1218: CBX7\n"
     ]
    },
    {
     "name": "stderr",
     "output_type": "stream",
     "text": [
      "Running elastic model with corum transcripts:  11%|█         | 1219/10921 [12:15<2:01:39,  1.33it/s]"
     ]
    },
    {
     "name": "stdout",
     "output_type": "stream",
     "text": [
      "corr: [0.60795], r2: [0.32599]\n",
      "Doing 1219: CBX8\n"
     ]
    },
    {
     "name": "stderr",
     "output_type": "stream",
     "text": [
      "Running elastic model with corum transcripts:  11%|█         | 1220/10921 [12:16<2:05:10,  1.29it/s]"
     ]
    },
    {
     "name": "stdout",
     "output_type": "stream",
     "text": [
      "corr: [0.52687], r2: [0.25]\n",
      "Doing 1220: CC2D1A\n"
     ]
    },
    {
     "name": "stderr",
     "output_type": "stream",
     "text": [
      "Running elastic model with corum transcripts:  11%|█         | 1221/10921 [12:17<2:03:32,  1.31it/s]"
     ]
    },
    {
     "name": "stdout",
     "output_type": "stream",
     "text": [
      "corr: [0.72959], r2: [0.38772]\n",
      "Doing 1221: CC2D1B\n"
     ]
    },
    {
     "name": "stderr",
     "output_type": "stream",
     "text": [
      "Running elastic model with corum transcripts:  11%|█         | 1222/10921 [12:17<1:59:28,  1.35it/s]"
     ]
    },
    {
     "name": "stdout",
     "output_type": "stream",
     "text": [
      "corr: [0.41059], r2: [0.12787]\n",
      "Doing 1222: CCAR1\n"
     ]
    },
    {
     "name": "stderr",
     "output_type": "stream",
     "text": [
      "Running elastic model with corum transcripts:  11%|█         | 1223/10921 [12:18<2:00:54,  1.34it/s]"
     ]
    },
    {
     "name": "stdout",
     "output_type": "stream",
     "text": [
      "corr: [0.27173], r2: [-0.03551]\n",
      "Doing 1223: CCAR2\n"
     ]
    },
    {
     "name": "stderr",
     "output_type": "stream",
     "text": [
      "Running elastic model with corum transcripts:  11%|█         | 1224/10921 [12:19<2:02:49,  1.32it/s]"
     ]
    },
    {
     "name": "stdout",
     "output_type": "stream",
     "text": [
      "corr: [0.50859], r2: [0.04846]\n",
      "Doing 1224: CCDC102A\n"
     ]
    },
    {
     "name": "stderr",
     "output_type": "stream",
     "text": [
      "Running elastic model with corum transcripts:  11%|█         | 1225/10921 [12:20<1:57:37,  1.37it/s]"
     ]
    },
    {
     "name": "stdout",
     "output_type": "stream",
     "text": [
      "corr: [0.42824], r2: [0.18151]\n",
      "Doing 1225: CCDC106\n"
     ]
    },
    {
     "name": "stderr",
     "output_type": "stream",
     "text": [
      "/Applications/venv/CPTAC_Protein/lib/python3.9/site-packages/numpy/lib/function_base.py:2691: RuntimeWarning: invalid value encountered in true_divide\n",
      "  c /= stddev[:, None]\n",
      "/Applications/venv/CPTAC_Protein/lib/python3.9/site-packages/numpy/lib/function_base.py:2692: RuntimeWarning: invalid value encountered in true_divide\n",
      "  c /= stddev[None, :]\n",
      "Running elastic model with corum transcripts:  11%|█         | 1226/10921 [12:20<1:49:32,  1.48it/s]"
     ]
    },
    {
     "name": "stdout",
     "output_type": "stream",
     "text": [
      "corr: [0], r2: [-0.00041]\n",
      "Doing 1226: CCDC115\n"
     ]
    },
    {
     "name": "stderr",
     "output_type": "stream",
     "text": [
      "/Applications/venv/CPTAC_Protein/lib/python3.9/site-packages/numpy/lib/function_base.py:2691: RuntimeWarning: invalid value encountered in true_divide\n",
      "  c /= stddev[:, None]\n",
      "/Applications/venv/CPTAC_Protein/lib/python3.9/site-packages/numpy/lib/function_base.py:2692: RuntimeWarning: invalid value encountered in true_divide\n",
      "  c /= stddev[None, :]\n",
      "Running elastic model with corum transcripts:  11%|█         | 1227/10921 [12:21<1:59:52,  1.35it/s]"
     ]
    },
    {
     "name": "stdout",
     "output_type": "stream",
     "text": [
      "corr: [0], r2: [-0.02269]\n",
      "Doing 1227: CCDC117\n"
     ]
    },
    {
     "name": "stderr",
     "output_type": "stream",
     "text": [
      "Running elastic model with corum transcripts:  11%|█         | 1228/10921 [12:22<1:53:10,  1.43it/s]"
     ]
    },
    {
     "name": "stdout",
     "output_type": "stream",
     "text": [
      "corr: [0.71957], r2: [0.37501]\n",
      "Doing 1228: CCDC12\n"
     ]
    },
    {
     "name": "stderr",
     "output_type": "stream",
     "text": [
      "Running elastic model with corum transcripts:  11%|█▏        | 1229/10921 [12:22<1:50:50,  1.46it/s]"
     ]
    },
    {
     "name": "stdout",
     "output_type": "stream",
     "text": [
      "corr: [0.18553], r2: [0.00224]\n",
      "Doing 1229: CCDC120\n"
     ]
    },
    {
     "name": "stderr",
     "output_type": "stream",
     "text": [
      "Running elastic model with corum transcripts:  11%|█▏        | 1230/10921 [12:23<1:50:32,  1.46it/s]"
     ]
    },
    {
     "name": "stdout",
     "output_type": "stream",
     "text": [
      "corr: [0.32136], r2: [0.03582]\n",
      "Doing 1230: CCDC124\n"
     ]
    },
    {
     "name": "stderr",
     "output_type": "stream",
     "text": [
      "Running elastic model with corum transcripts:  11%|█▏        | 1231/10921 [12:24<1:45:51,  1.53it/s]"
     ]
    },
    {
     "name": "stdout",
     "output_type": "stream",
     "text": [
      "corr: [0.38878], r2: [0.04198]\n",
      "Doing 1231: CCDC126\n"
     ]
    },
    {
     "name": "stderr",
     "output_type": "stream",
     "text": [
      "Running elastic model with corum transcripts:  11%|█▏        | 1232/10921 [12:24<1:47:07,  1.51it/s]"
     ]
    },
    {
     "name": "stdout",
     "output_type": "stream",
     "text": [
      "corr: [0.09388], r2: [-0.04079]\n",
      "Doing 1232: CCDC127\n"
     ]
    },
    {
     "name": "stderr",
     "output_type": "stream",
     "text": [
      "Running elastic model with corum transcripts:  11%|█▏        | 1233/10921 [12:25<1:46:07,  1.52it/s]"
     ]
    },
    {
     "name": "stdout",
     "output_type": "stream",
     "text": [
      "corr: [0.31605], r2: [0.01711]\n",
      "Doing 1233: CCDC130\n"
     ]
    },
    {
     "name": "stderr",
     "output_type": "stream",
     "text": [
      "Running elastic model with corum transcripts:  11%|█▏        | 1234/10921 [12:26<1:42:53,  1.57it/s]"
     ]
    },
    {
     "name": "stdout",
     "output_type": "stream",
     "text": [
      "corr: [0.08654], r2: [-0.08581]\n",
      "Doing 1234: CCDC134\n"
     ]
    },
    {
     "name": "stderr",
     "output_type": "stream",
     "text": [
      "Running elastic model with corum transcripts:  11%|█▏        | 1235/10921 [12:26<1:46:39,  1.51it/s]"
     ]
    },
    {
     "name": "stdout",
     "output_type": "stream",
     "text": [
      "corr: [0.42459], r2: [0.09202]\n",
      "Doing 1235: CCDC137\n"
     ]
    },
    {
     "name": "stderr",
     "output_type": "stream",
     "text": [
      "Running elastic model with corum transcripts:  11%|█▏        | 1236/10921 [12:27<1:46:23,  1.52it/s]"
     ]
    },
    {
     "name": "stdout",
     "output_type": "stream",
     "text": [
      "corr: [0.38256], r2: [0.01959]\n",
      "Doing 1236: CCDC14\n"
     ]
    },
    {
     "name": "stderr",
     "output_type": "stream",
     "text": [
      "Running elastic model with corum transcripts:  11%|█▏        | 1237/10921 [12:28<1:53:43,  1.42it/s]"
     ]
    },
    {
     "name": "stdout",
     "output_type": "stream",
     "text": [
      "corr: [-0.05498], r2: [-0.07463]\n",
      "Doing 1237: CCDC149\n"
     ]
    },
    {
     "name": "stderr",
     "output_type": "stream",
     "text": [
      "Running elastic model with corum transcripts:  11%|█▏        | 1238/10921 [12:29<1:58:35,  1.36it/s]"
     ]
    },
    {
     "name": "stdout",
     "output_type": "stream",
     "text": [
      "corr: [0.55818], r2: [0.28552]\n",
      "Doing 1238: CCDC158\n",
      "Not enough proteomics observations. Skipping protein.\n",
      "Doing 1239: CCDC170\n"
     ]
    },
    {
     "name": "stderr",
     "output_type": "stream",
     "text": [
      "Running elastic model with corum transcripts:  11%|█▏        | 1240/10921 [12:29<1:27:58,  1.83it/s]"
     ]
    },
    {
     "name": "stdout",
     "output_type": "stream",
     "text": [
      "corr: [0.04439], r2: [-1.76832]\n",
      "Doing 1240: CCDC174\n"
     ]
    },
    {
     "name": "stderr",
     "output_type": "stream",
     "text": [
      "Running elastic model with corum transcripts:  11%|█▏        | 1241/10921 [12:30<1:32:16,  1.75it/s]"
     ]
    },
    {
     "name": "stdout",
     "output_type": "stream",
     "text": [
      "corr: [0.21101], r2: [0.03007]\n",
      "Doing 1241: CCDC22\n"
     ]
    },
    {
     "name": "stderr",
     "output_type": "stream",
     "text": [
      "Running elastic model with corum transcripts:  11%|█▏        | 1242/10921 [12:31<1:40:17,  1.61it/s]"
     ]
    },
    {
     "name": "stdout",
     "output_type": "stream",
     "text": [
      "corr: [0.4474], r2: [-0.0874]\n",
      "Doing 1242: CCDC25\n"
     ]
    },
    {
     "name": "stderr",
     "output_type": "stream",
     "text": [
      "Running elastic model with corum transcripts:  11%|█▏        | 1243/10921 [12:31<1:38:01,  1.65it/s]"
     ]
    },
    {
     "name": "stdout",
     "output_type": "stream",
     "text": [
      "corr: [0.64307], r2: [0.35904]\n",
      "Doing 1243: CCDC28A\n"
     ]
    },
    {
     "name": "stderr",
     "output_type": "stream",
     "text": [
      "Running elastic model with corum transcripts:  11%|█▏        | 1244/10921 [12:32<1:43:43,  1.55it/s]"
     ]
    },
    {
     "name": "stdout",
     "output_type": "stream",
     "text": [
      "corr: [0.40127], r2: [0.11726]\n",
      "Doing 1244: CCDC43\n"
     ]
    },
    {
     "name": "stderr",
     "output_type": "stream",
     "text": [
      "Running elastic model with corum transcripts:  11%|█▏        | 1245/10921 [12:33<1:44:37,  1.54it/s]"
     ]
    },
    {
     "name": "stdout",
     "output_type": "stream",
     "text": [
      "corr: [0.42777], r2: [0.18216]\n",
      "Doing 1245: CCDC47\n"
     ]
    },
    {
     "name": "stderr",
     "output_type": "stream",
     "text": [
      "Running elastic model with corum transcripts:  11%|█▏        | 1246/10921 [12:33<1:47:52,  1.49it/s]"
     ]
    },
    {
     "name": "stdout",
     "output_type": "stream",
     "text": [
      "corr: [0.30914], r2: [0.0601]\n",
      "Doing 1246: CCDC50\n"
     ]
    },
    {
     "name": "stderr",
     "output_type": "stream",
     "text": [
      "Running elastic model with corum transcripts:  11%|█▏        | 1247/10921 [12:34<1:50:38,  1.46it/s]"
     ]
    },
    {
     "name": "stdout",
     "output_type": "stream",
     "text": [
      "corr: [0.08436], r2: [-0.01343]\n",
      "Doing 1247: CCDC51\n"
     ]
    },
    {
     "name": "stderr",
     "output_type": "stream",
     "text": [
      "Running elastic model with corum transcripts:  11%|█▏        | 1248/10921 [12:35<1:56:52,  1.38it/s]"
     ]
    },
    {
     "name": "stdout",
     "output_type": "stream",
     "text": [
      "corr: [0.391], r2: [0.12022]\n",
      "Doing 1248: CCDC57\n"
     ]
    },
    {
     "name": "stderr",
     "output_type": "stream",
     "text": [
      "/Applications/venv/CPTAC_Protein/lib/python3.9/site-packages/numpy/lib/function_base.py:2691: RuntimeWarning: invalid value encountered in true_divide\n",
      "  c /= stddev[:, None]\n",
      "/Applications/venv/CPTAC_Protein/lib/python3.9/site-packages/numpy/lib/function_base.py:2692: RuntimeWarning: invalid value encountered in true_divide\n",
      "  c /= stddev[None, :]\n",
      "Running elastic model with corum transcripts:  11%|█▏        | 1249/10921 [12:36<1:57:08,  1.38it/s]"
     ]
    },
    {
     "name": "stdout",
     "output_type": "stream",
     "text": [
      "corr: [0], r2: [-0.00942]\n",
      "Doing 1249: CCDC58\n"
     ]
    },
    {
     "name": "stderr",
     "output_type": "stream",
     "text": [
      "Running elastic model with corum transcripts:  11%|█▏        | 1250/10921 [12:36<1:56:16,  1.39it/s]"
     ]
    },
    {
     "name": "stdout",
     "output_type": "stream",
     "text": [
      "corr: [0.1667], r2: [0.00535]\n",
      "Doing 1250: CCDC59\n"
     ]
    },
    {
     "name": "stderr",
     "output_type": "stream",
     "text": [
      "/Applications/venv/CPTAC_Protein/lib/python3.9/site-packages/numpy/lib/function_base.py:2691: RuntimeWarning: invalid value encountered in true_divide\n",
      "  c /= stddev[:, None]\n",
      "/Applications/venv/CPTAC_Protein/lib/python3.9/site-packages/numpy/lib/function_base.py:2692: RuntimeWarning: invalid value encountered in true_divide\n",
      "  c /= stddev[None, :]\n",
      "Running elastic model with corum transcripts:  11%|█▏        | 1251/10921 [12:37<1:51:37,  1.44it/s]"
     ]
    },
    {
     "name": "stdout",
     "output_type": "stream",
     "text": [
      "corr: [0], r2: [-0.00234]\n",
      "Doing 1251: CCDC6\n"
     ]
    },
    {
     "name": "stderr",
     "output_type": "stream",
     "text": [
      "Running elastic model with corum transcripts:  11%|█▏        | 1252/10921 [12:38<1:51:13,  1.45it/s]"
     ]
    },
    {
     "name": "stdout",
     "output_type": "stream",
     "text": [
      "corr: [0.63982], r2: [0.39437]\n",
      "Doing 1252: CCDC61\n"
     ]
    },
    {
     "name": "stderr",
     "output_type": "stream",
     "text": [
      "Running elastic model with corum transcripts:  11%|█▏        | 1253/10921 [12:38<1:52:20,  1.43it/s]"
     ]
    },
    {
     "name": "stdout",
     "output_type": "stream",
     "text": [
      "corr: [0.14132], r2: [0.01632]\n",
      "Doing 1253: CCDC69\n"
     ]
    },
    {
     "name": "stderr",
     "output_type": "stream",
     "text": [
      "Running elastic model with corum transcripts:  11%|█▏        | 1254/10921 [12:39<1:50:47,  1.45it/s]"
     ]
    },
    {
     "name": "stdout",
     "output_type": "stream",
     "text": [
      "corr: [-0.06175], r2: [-0.59575]\n",
      "Doing 1254: CCDC71\n"
     ]
    },
    {
     "name": "stderr",
     "output_type": "stream",
     "text": [
      "Running elastic model with corum transcripts:  11%|█▏        | 1255/10921 [12:40<1:49:48,  1.47it/s]"
     ]
    },
    {
     "name": "stdout",
     "output_type": "stream",
     "text": [
      "corr: [0.14003], r2: [-0.29732]\n",
      "Doing 1255: CCDC71L\n"
     ]
    },
    {
     "name": "stderr",
     "output_type": "stream",
     "text": [
      "Running elastic model with corum transcripts:  12%|█▏        | 1256/10921 [12:40<1:49:34,  1.47it/s]"
     ]
    },
    {
     "name": "stdout",
     "output_type": "stream",
     "text": [
      "corr: [0.40741], r2: [-0.11816]\n",
      "Doing 1256: CCDC77\n",
      "Not enough proteomics observations. Skipping protein.\n",
      "Doing 1257: CCDC8\n"
     ]
    },
    {
     "name": "stderr",
     "output_type": "stream",
     "text": [
      "Running elastic model with corum transcripts:  12%|█▏        | 1258/10921 [12:41<1:26:11,  1.87it/s]"
     ]
    },
    {
     "name": "stdout",
     "output_type": "stream",
     "text": [
      "corr: [0.61351], r2: [0.34559]\n",
      "Doing 1258: CCDC80\n"
     ]
    },
    {
     "name": "stderr",
     "output_type": "stream",
     "text": [
      "Running elastic model with corum transcripts:  12%|█▏        | 1259/10921 [12:42<1:30:32,  1.78it/s]"
     ]
    },
    {
     "name": "stdout",
     "output_type": "stream",
     "text": [
      "corr: [0.47331], r2: [0.19508]\n",
      "Doing 1259: CCDC82\n"
     ]
    },
    {
     "name": "stderr",
     "output_type": "stream",
     "text": [
      "/Applications/venv/CPTAC_Protein/lib/python3.9/site-packages/numpy/lib/function_base.py:2691: RuntimeWarning: invalid value encountered in true_divide\n",
      "  c /= stddev[:, None]\n",
      "/Applications/venv/CPTAC_Protein/lib/python3.9/site-packages/numpy/lib/function_base.py:2692: RuntimeWarning: invalid value encountered in true_divide\n",
      "  c /= stddev[None, :]\n",
      "Running elastic model with corum transcripts:  12%|█▏        | 1260/10921 [12:43<1:43:43,  1.55it/s]"
     ]
    },
    {
     "name": "stdout",
     "output_type": "stream",
     "text": [
      "corr: [0], r2: [-0.41684]\n",
      "Doing 1260: CCDC84\n",
      "Not enough proteomics observations. Skipping protein.\n",
      "Doing 1261: CCDC85C\n"
     ]
    },
    {
     "name": "stderr",
     "output_type": "stream",
     "text": [
      "Running elastic model with corum transcripts:  12%|█▏        | 1262/10921 [12:43<1:20:55,  1.99it/s]"
     ]
    },
    {
     "name": "stdout",
     "output_type": "stream",
     "text": [
      "corr: [0.10546], r2: [-0.03242]\n",
      "Doing 1262: CCDC86\n"
     ]
    },
    {
     "name": "stderr",
     "output_type": "stream",
     "text": [
      "Running elastic model with corum transcripts:  12%|█▏        | 1263/10921 [12:44<1:27:26,  1.84it/s]"
     ]
    },
    {
     "name": "stdout",
     "output_type": "stream",
     "text": [
      "corr: [0.4434], r2: [0.09504]\n",
      "Doing 1263: CCDC88A\n"
     ]
    },
    {
     "name": "stderr",
     "output_type": "stream",
     "text": [
      "Running elastic model with corum transcripts:  12%|█▏        | 1264/10921 [12:45<1:37:08,  1.66it/s]"
     ]
    },
    {
     "name": "stdout",
     "output_type": "stream",
     "text": [
      "corr: [0.42447], r2: [0.09899]\n",
      "Doing 1264: CCDC88B\n"
     ]
    },
    {
     "name": "stderr",
     "output_type": "stream",
     "text": [
      "Running elastic model with corum transcripts:  12%|█▏        | 1265/10921 [12:45<1:38:06,  1.64it/s]"
     ]
    },
    {
     "name": "stdout",
     "output_type": "stream",
     "text": [
      "corr: [0.02349], r2: [-0.06745]\n",
      "Doing 1265: CCDC88C\n"
     ]
    },
    {
     "name": "stderr",
     "output_type": "stream",
     "text": [
      "Running elastic model with corum transcripts:  12%|█▏        | 1266/10921 [12:46<1:42:04,  1.58it/s]"
     ]
    },
    {
     "name": "stdout",
     "output_type": "stream",
     "text": [
      "corr: [0.29383], r2: [0.03393]\n",
      "Doing 1266: CCDC9\n"
     ]
    },
    {
     "name": "stderr",
     "output_type": "stream",
     "text": [
      "Running elastic model with corum transcripts:  12%|█▏        | 1267/10921 [12:47<1:43:03,  1.56it/s]"
     ]
    },
    {
     "name": "stdout",
     "output_type": "stream",
     "text": [
      "corr: [0.23774], r2: [-0.05026]\n",
      "Doing 1267: CCDC90B\n"
     ]
    },
    {
     "name": "stderr",
     "output_type": "stream",
     "text": [
      "Running elastic model with corum transcripts:  12%|█▏        | 1268/10921 [12:47<1:43:03,  1.56it/s]"
     ]
    },
    {
     "name": "stdout",
     "output_type": "stream",
     "text": [
      "corr: [0.40056], r2: [-0.00282]\n",
      "Doing 1268: CCDC91\n"
     ]
    },
    {
     "name": "stderr",
     "output_type": "stream",
     "text": [
      "Running elastic model with corum transcripts:  12%|█▏        | 1269/10921 [12:48<1:42:45,  1.57it/s]"
     ]
    },
    {
     "name": "stdout",
     "output_type": "stream",
     "text": [
      "corr: [0.69322], r2: [0.44077]\n",
      "Doing 1269: CCDC92\n"
     ]
    },
    {
     "name": "stderr",
     "output_type": "stream",
     "text": [
      "Running elastic model with corum transcripts:  12%|█▏        | 1270/10921 [12:49<1:57:04,  1.37it/s]"
     ]
    },
    {
     "name": "stdout",
     "output_type": "stream",
     "text": [
      "corr: [0.32098], r2: [0.10051]\n",
      "Doing 1270: CCDC93\n"
     ]
    },
    {
     "name": "stderr",
     "output_type": "stream",
     "text": [
      "Running elastic model with corum transcripts:  12%|█▏        | 1271/10921 [12:50<1:56:25,  1.38it/s]"
     ]
    },
    {
     "name": "stdout",
     "output_type": "stream",
     "text": [
      "corr: [0.44642], r2: [-0.06506]\n",
      "Doing 1271: CCDC94\n"
     ]
    },
    {
     "name": "stderr",
     "output_type": "stream",
     "text": [
      "Running elastic model with corum transcripts:  12%|█▏        | 1272/10921 [12:50<1:58:24,  1.36it/s]"
     ]
    },
    {
     "name": "stdout",
     "output_type": "stream",
     "text": [
      "corr: [0.54675], r2: [0.29369]\n",
      "Doing 1272: CCDC96\n",
      "Not enough proteomics observations. Skipping protein.\n",
      "Doing 1273: CCDC97\n"
     ]
    },
    {
     "name": "stderr",
     "output_type": "stream",
     "text": [
      "Running elastic model with corum transcripts:  12%|█▏        | 1274/10921 [12:51<1:29:51,  1.79it/s]"
     ]
    },
    {
     "name": "stdout",
     "output_type": "stream",
     "text": [
      "corr: [0.01469], r2: [-0.24097]\n",
      "Doing 1274: CCL14\n"
     ]
    },
    {
     "name": "stderr",
     "output_type": "stream",
     "text": [
      "Running elastic model with corum transcripts:  12%|█▏        | 1275/10921 [12:52<1:34:30,  1.70it/s]"
     ]
    },
    {
     "name": "stdout",
     "output_type": "stream",
     "text": [
      "corr: [0.55702], r2: [0.03476]\n",
      "Doing 1275: CCL20\n",
      "Not enough proteomics observations. Skipping protein.\n",
      "Doing 1276: CCL21\n"
     ]
    },
    {
     "name": "stderr",
     "output_type": "stream",
     "text": [
      "Running elastic model with corum transcripts:  12%|█▏        | 1277/10921 [12:52<1:20:28,  2.00it/s]"
     ]
    },
    {
     "name": "stdout",
     "output_type": "stream",
     "text": [
      "corr: [0.71564], r2: [0.37125]\n",
      "Doing 1277: CCL5\n"
     ]
    },
    {
     "name": "stderr",
     "output_type": "stream",
     "text": [
      "Running elastic model with corum transcripts:  12%|█▏        | 1278/10921 [12:53<1:26:58,  1.85it/s]"
     ]
    },
    {
     "name": "stdout",
     "output_type": "stream",
     "text": [
      "corr: [0.57434], r2: [0.21904]\n",
      "Doing 1278: CCM2\n"
     ]
    },
    {
     "name": "stderr",
     "output_type": "stream",
     "text": [
      "Running elastic model with corum transcripts:  12%|█▏        | 1279/10921 [12:54<1:33:17,  1.72it/s]"
     ]
    },
    {
     "name": "stdout",
     "output_type": "stream",
     "text": [
      "corr: [0.34458], r2: [0.10476]\n",
      "Doing 1279: CCNA2\n"
     ]
    },
    {
     "name": "stderr",
     "output_type": "stream",
     "text": [
      "Running elastic model with corum transcripts:  12%|█▏        | 1280/10921 [12:55<1:43:21,  1.55it/s]"
     ]
    },
    {
     "name": "stdout",
     "output_type": "stream",
     "text": [
      "corr: [0.36537], r2: [-0.09265]\n",
      "Doing 1280: CCNB1\n"
     ]
    },
    {
     "name": "stderr",
     "output_type": "stream",
     "text": [
      "Running elastic model with corum transcripts:  12%|█▏        | 1281/10921 [12:56<1:52:09,  1.43it/s]"
     ]
    },
    {
     "name": "stdout",
     "output_type": "stream",
     "text": [
      "corr: [0.55971], r2: [0.25685]\n",
      "Doing 1281: CCNB2\n"
     ]
    },
    {
     "name": "stderr",
     "output_type": "stream",
     "text": [
      "Running elastic model with corum transcripts:  12%|█▏        | 1282/10921 [12:57<2:22:11,  1.13it/s]"
     ]
    },
    {
     "name": "stdout",
     "output_type": "stream",
     "text": [
      "corr: [0.57605], r2: [0.15188]\n",
      "Doing 1282: CCND2\n",
      "Not enough proteomics observations. Skipping protein.\n",
      "Doing 1283: CCNDBP1\n"
     ]
    },
    {
     "name": "stderr",
     "output_type": "stream",
     "text": [
      "Running elastic model with corum transcripts:  12%|█▏        | 1284/10921 [12:58<1:47:59,  1.49it/s]"
     ]
    },
    {
     "name": "stdout",
     "output_type": "stream",
     "text": [
      "corr: [0.26348], r2: [-0.04401]\n",
      "Doing 1284: CCNE1\n"
     ]
    },
    {
     "name": "stderr",
     "output_type": "stream",
     "text": [
      "Running elastic model with corum transcripts:  12%|█▏        | 1285/10921 [12:58<1:52:16,  1.43it/s]"
     ]
    },
    {
     "name": "stdout",
     "output_type": "stream",
     "text": [
      "corr: [0.08174], r2: [-0.15357]\n",
      "Doing 1285: CCNH\n"
     ]
    },
    {
     "name": "stderr",
     "output_type": "stream",
     "text": [
      "Running elastic model with corum transcripts:  12%|█▏        | 1286/10921 [12:59<1:55:08,  1.39it/s]"
     ]
    },
    {
     "name": "stdout",
     "output_type": "stream",
     "text": [
      "corr: [0.21012], r2: [0.02371]\n",
      "Doing 1286: CCNK\n"
     ]
    },
    {
     "name": "stderr",
     "output_type": "stream",
     "text": [
      "Running elastic model with corum transcripts:  12%|█▏        | 1287/10921 [13:00<1:54:08,  1.41it/s]"
     ]
    },
    {
     "name": "stdout",
     "output_type": "stream",
     "text": [
      "corr: [-0.07453], r2: [-0.07822]\n",
      "Doing 1287: CCNL1\n"
     ]
    },
    {
     "name": "stderr",
     "output_type": "stream",
     "text": [
      "/Applications/venv/CPTAC_Protein/lib/python3.9/site-packages/numpy/lib/function_base.py:2691: RuntimeWarning: invalid value encountered in true_divide\n",
      "  c /= stddev[:, None]\n",
      "/Applications/venv/CPTAC_Protein/lib/python3.9/site-packages/numpy/lib/function_base.py:2692: RuntimeWarning: invalid value encountered in true_divide\n",
      "  c /= stddev[None, :]\n",
      "Running elastic model with corum transcripts:  12%|█▏        | 1288/10921 [13:01<1:51:45,  1.44it/s]"
     ]
    },
    {
     "name": "stdout",
     "output_type": "stream",
     "text": [
      "corr: [0], r2: [-0.00258]\n",
      "Doing 1288: CCNL2\n"
     ]
    },
    {
     "name": "stderr",
     "output_type": "stream",
     "text": [
      "Running elastic model with corum transcripts:  12%|█▏        | 1289/10921 [13:01<1:47:25,  1.49it/s]"
     ]
    },
    {
     "name": "stdout",
     "output_type": "stream",
     "text": [
      "corr: [0.38548], r2: [0.00205]\n",
      "Doing 1289: CCNT1\n"
     ]
    },
    {
     "name": "stderr",
     "output_type": "stream",
     "text": [
      "Running elastic model with corum transcripts:  12%|█▏        | 1290/10921 [13:02<1:54:31,  1.40it/s]"
     ]
    },
    {
     "name": "stdout",
     "output_type": "stream",
     "text": [
      "corr: [0.45836], r2: [0.1897]\n",
      "Doing 1290: CCNT2\n"
     ]
    },
    {
     "name": "stderr",
     "output_type": "stream",
     "text": [
      "Running elastic model with corum transcripts:  12%|█▏        | 1291/10921 [13:03<1:53:55,  1.41it/s]"
     ]
    },
    {
     "name": "stdout",
     "output_type": "stream",
     "text": [
      "corr: [0.08637], r2: [-0.00513]\n",
      "Doing 1291: CCNY\n"
     ]
    },
    {
     "name": "stderr",
     "output_type": "stream",
     "text": [
      "Running elastic model with corum transcripts:  12%|█▏        | 1292/10921 [13:03<1:53:55,  1.41it/s]"
     ]
    },
    {
     "name": "stdout",
     "output_type": "stream",
     "text": [
      "corr: [-0.18693], r2: [-0.08014]\n",
      "Doing 1292: CCNYL1\n"
     ]
    },
    {
     "name": "stderr",
     "output_type": "stream",
     "text": [
      "Running elastic model with corum transcripts:  12%|█▏        | 1293/10921 [13:04<2:00:02,  1.34it/s]"
     ]
    },
    {
     "name": "stdout",
     "output_type": "stream",
     "text": [
      "corr: [0.40707], r2: [0.0365]\n",
      "Doing 1293: CCP110\n"
     ]
    },
    {
     "name": "stderr",
     "output_type": "stream",
     "text": [
      "Running elastic model with corum transcripts:  12%|█▏        | 1294/10921 [13:05<1:54:05,  1.41it/s]"
     ]
    },
    {
     "name": "stdout",
     "output_type": "stream",
     "text": [
      "corr: [0.14692], r2: [-0.01439]\n",
      "Doing 1294: CCPG1\n"
     ]
    },
    {
     "name": "stderr",
     "output_type": "stream",
     "text": [
      "Running elastic model with corum transcripts:  12%|█▏        | 1295/10921 [13:06<1:51:12,  1.44it/s]"
     ]
    },
    {
     "name": "stdout",
     "output_type": "stream",
     "text": [
      "corr: [0.10114], r2: [-0.13205]\n",
      "Doing 1295: CCS\n"
     ]
    },
    {
     "name": "stderr",
     "output_type": "stream",
     "text": [
      "Running elastic model with corum transcripts:  12%|█▏        | 1296/10921 [13:06<1:52:53,  1.42it/s]"
     ]
    },
    {
     "name": "stdout",
     "output_type": "stream",
     "text": [
      "corr: [0.59873], r2: [0.07963]\n",
      "Doing 1296: CCT2\n"
     ]
    },
    {
     "name": "stderr",
     "output_type": "stream",
     "text": [
      "Running elastic model with corum transcripts:  12%|█▏        | 1297/10921 [13:07<1:56:44,  1.37it/s]"
     ]
    },
    {
     "name": "stdout",
     "output_type": "stream",
     "text": [
      "corr: [0.0577], r2: [-0.13792]\n",
      "Doing 1297: CCT3\n"
     ]
    },
    {
     "name": "stderr",
     "output_type": "stream",
     "text": [
      "Running elastic model with corum transcripts:  12%|█▏        | 1298/10921 [13:08<1:56:30,  1.38it/s]"
     ]
    },
    {
     "name": "stdout",
     "output_type": "stream",
     "text": [
      "corr: [0.25542], r2: [-0.01998]\n",
      "Doing 1298: CCT4\n"
     ]
    },
    {
     "name": "stderr",
     "output_type": "stream",
     "text": [
      "Running elastic model with corum transcripts:  12%|█▏        | 1299/10921 [13:09<2:02:20,  1.31it/s]"
     ]
    },
    {
     "name": "stdout",
     "output_type": "stream",
     "text": [
      "corr: [0.26886], r2: [-0.10599]\n",
      "Doing 1299: CCT5\n"
     ]
    },
    {
     "name": "stderr",
     "output_type": "stream",
     "text": [
      "Running elastic model with corum transcripts:  12%|█▏        | 1300/10921 [13:09<2:02:30,  1.31it/s]"
     ]
    },
    {
     "name": "stdout",
     "output_type": "stream",
     "text": [
      "corr: [0.24507], r2: [0.02064]\n",
      "Doing 1300: CCT6A\n"
     ]
    },
    {
     "name": "stderr",
     "output_type": "stream",
     "text": [
      "Running elastic model with corum transcripts:  12%|█▏        | 1301/10921 [13:10<1:59:38,  1.34it/s]"
     ]
    },
    {
     "name": "stdout",
     "output_type": "stream",
     "text": [
      "corr: [0.24626], r2: [0.0525]\n",
      "Doing 1301: CCT6B\n"
     ]
    },
    {
     "name": "stderr",
     "output_type": "stream",
     "text": [
      "/Applications/venv/CPTAC_Protein/lib/python3.9/site-packages/numpy/lib/function_base.py:2691: RuntimeWarning: invalid value encountered in true_divide\n",
      "  c /= stddev[:, None]\n",
      "/Applications/venv/CPTAC_Protein/lib/python3.9/site-packages/numpy/lib/function_base.py:2692: RuntimeWarning: invalid value encountered in true_divide\n",
      "  c /= stddev[None, :]\n",
      "Running elastic model with corum transcripts:  12%|█▏        | 1302/10921 [13:11<1:53:09,  1.42it/s]"
     ]
    },
    {
     "name": "stdout",
     "output_type": "stream",
     "text": [
      "corr: [0], r2: [-0.02673]\n",
      "Doing 1302: CCT7\n"
     ]
    },
    {
     "name": "stderr",
     "output_type": "stream",
     "text": [
      "Running elastic model with corum transcripts:  12%|█▏        | 1303/10921 [13:12<1:58:50,  1.35it/s]"
     ]
    },
    {
     "name": "stdout",
     "output_type": "stream",
     "text": [
      "corr: [0.26267], r2: [-0.20698]\n",
      "Doing 1303: CCT8\n"
     ]
    },
    {
     "name": "stderr",
     "output_type": "stream",
     "text": [
      "Running elastic model with corum transcripts:  12%|█▏        | 1304/10921 [13:12<1:57:57,  1.36it/s]"
     ]
    },
    {
     "name": "stdout",
     "output_type": "stream",
     "text": [
      "corr: [0.23189], r2: [-0.1223]\n",
      "Doing 1304: CCZ1\n"
     ]
    },
    {
     "name": "stderr",
     "output_type": "stream",
     "text": [
      "Running elastic model with corum transcripts:  12%|█▏        | 1305/10921 [13:13<1:55:16,  1.39it/s]"
     ]
    },
    {
     "name": "stdout",
     "output_type": "stream",
     "text": [
      "corr: [0.29232], r2: [0.0767]\n",
      "Doing 1305: CD109\n"
     ]
    },
    {
     "name": "stderr",
     "output_type": "stream",
     "text": [
      "Running elastic model with corum transcripts:  12%|█▏        | 1306/10921 [13:14<1:53:50,  1.41it/s]"
     ]
    },
    {
     "name": "stdout",
     "output_type": "stream",
     "text": [
      "corr: [0.6732], r2: [0.38543]\n",
      "Doing 1306: CD14\n"
     ]
    },
    {
     "name": "stderr",
     "output_type": "stream",
     "text": [
      "Running elastic model with corum transcripts:  12%|█▏        | 1307/10921 [13:14<1:50:15,  1.45it/s]"
     ]
    },
    {
     "name": "stdout",
     "output_type": "stream",
     "text": [
      "corr: [0.38617], r2: [0.07322]\n",
      "Doing 1307: CD151\n"
     ]
    },
    {
     "name": "stderr",
     "output_type": "stream",
     "text": [
      "Running elastic model with corum transcripts:  12%|█▏        | 1308/10921 [13:15<1:51:08,  1.44it/s]"
     ]
    },
    {
     "name": "stdout",
     "output_type": "stream",
     "text": [
      "corr: [0.09645], r2: [-0.02223]\n",
      "Doing 1308: CD163\n"
     ]
    },
    {
     "name": "stderr",
     "output_type": "stream",
     "text": [
      "Running elastic model with corum transcripts:  12%|█▏        | 1309/10921 [13:16<1:46:37,  1.50it/s]"
     ]
    },
    {
     "name": "stdout",
     "output_type": "stream",
     "text": [
      "corr: [0.47146], r2: [0.19519]\n",
      "Doing 1309: CD164\n"
     ]
    },
    {
     "name": "stderr",
     "output_type": "stream",
     "text": [
      "Running elastic model with corum transcripts:  12%|█▏        | 1310/10921 [13:16<1:49:33,  1.46it/s]"
     ]
    },
    {
     "name": "stdout",
     "output_type": "stream",
     "text": [
      "corr: [0.26334], r2: [-0.83647]\n",
      "Doing 1310: CD177\n"
     ]
    },
    {
     "name": "stderr",
     "output_type": "stream",
     "text": [
      "Running elastic model with corum transcripts:  12%|█▏        | 1311/10921 [13:17<1:44:46,  1.53it/s]"
     ]
    },
    {
     "name": "stdout",
     "output_type": "stream",
     "text": [
      "corr: [0.13184], r2: [-0.00304]\n",
      "Doing 1311: CD180\n"
     ]
    },
    {
     "name": "stderr",
     "output_type": "stream",
     "text": [
      "Running elastic model with corum transcripts:  12%|█▏        | 1312/10921 [13:17<1:40:26,  1.59it/s]"
     ]
    },
    {
     "name": "stdout",
     "output_type": "stream",
     "text": [
      "corr: [0.48261], r2: [0.16042]\n",
      "Doing 1312: CD19\n",
      "Not enough proteomics observations. Skipping protein.\n",
      "Doing 1313: CD200\n"
     ]
    },
    {
     "name": "stderr",
     "output_type": "stream",
     "text": [
      "Running elastic model with corum transcripts:  12%|█▏        | 1314/10921 [13:18<1:21:03,  1.98it/s]"
     ]
    },
    {
     "name": "stdout",
     "output_type": "stream",
     "text": [
      "corr: [0.69723], r2: [0.15991]\n",
      "Doing 1314: CD207\n"
     ]
    },
    {
     "name": "stderr",
     "output_type": "stream",
     "text": [
      "Running elastic model with corum transcripts:  12%|█▏        | 1315/10921 [13:19<1:42:45,  1.56it/s]"
     ]
    },
    {
     "name": "stdout",
     "output_type": "stream",
     "text": [
      "corr: [0.72849], r2: [0.22352]\n",
      "Doing 1315: CD209\n"
     ]
    },
    {
     "name": "stderr",
     "output_type": "stream",
     "text": [
      "Running elastic model with corum transcripts:  12%|█▏        | 1316/10921 [13:20<1:40:20,  1.60it/s]"
     ]
    },
    {
     "name": "stdout",
     "output_type": "stream",
     "text": [
      "corr: [0.4915], r2: [0.23134]\n",
      "Doing 1316: CD22\n",
      "Not enough proteomics observations. Skipping protein.\n",
      "Doing 1317: CD247\n"
     ]
    },
    {
     "name": "stderr",
     "output_type": "stream",
     "text": [
      "/Applications/venv/CPTAC_Protein/lib/python3.9/site-packages/numpy/lib/function_base.py:2691: RuntimeWarning: invalid value encountered in true_divide\n",
      "  c /= stddev[:, None]\n",
      "/Applications/venv/CPTAC_Protein/lib/python3.9/site-packages/numpy/lib/function_base.py:2692: RuntimeWarning: invalid value encountered in true_divide\n",
      "  c /= stddev[None, :]\n",
      "Running elastic model with corum transcripts:  12%|█▏        | 1318/10921 [13:20<1:20:05,  2.00it/s]"
     ]
    },
    {
     "name": "stdout",
     "output_type": "stream",
     "text": [
      "corr: [0], r2: [-0.005]\n",
      "Doing 1318: CD248\n"
     ]
    },
    {
     "name": "stderr",
     "output_type": "stream",
     "text": [
      "Running elastic model with corum transcripts:  12%|█▏        | 1319/10921 [13:21<1:29:15,  1.79it/s]"
     ]
    },
    {
     "name": "stdout",
     "output_type": "stream",
     "text": [
      "corr: [0.56019], r2: [0.22776]\n",
      "Doing 1319: CD27\n",
      "Not enough proteomics observations. Skipping protein.\n",
      "Doing 1320: CD276\n"
     ]
    },
    {
     "name": "stderr",
     "output_type": "stream",
     "text": [
      "Running elastic model with corum transcripts:  12%|█▏        | 1321/10921 [13:22<1:16:08,  2.10it/s]"
     ]
    },
    {
     "name": "stdout",
     "output_type": "stream",
     "text": [
      "corr: [0.33441], r2: [0.07097]\n",
      "Doing 1321: CD2AP\n"
     ]
    },
    {
     "name": "stderr",
     "output_type": "stream",
     "text": [
      "Running elastic model with corum transcripts:  12%|█▏        | 1322/10921 [13:23<1:21:52,  1.95it/s]"
     ]
    },
    {
     "name": "stdout",
     "output_type": "stream",
     "text": [
      "corr: [0.67915], r2: [0.43197]\n",
      "Doing 1322: CD2BP2\n"
     ]
    },
    {
     "name": "stderr",
     "output_type": "stream",
     "text": [
      "/Applications/venv/CPTAC_Protein/lib/python3.9/site-packages/sklearn/linear_model/_coordinate_descent.py:631: ConvergenceWarning: Objective did not converge. You might want to increase the number of iterations. Duality gap: 0.10803250863688874, tolerance: 0.07303001979405067\n",
      "  model = cd_fast.enet_coordinate_descent_gram(\n",
      "/Applications/venv/CPTAC_Protein/lib/python3.9/site-packages/sklearn/linear_model/_coordinate_descent.py:631: ConvergenceWarning: Objective did not converge. You might want to increase the number of iterations. Duality gap: 0.11393507376011947, tolerance: 0.07303001979405067\n",
      "  model = cd_fast.enet_coordinate_descent_gram(\n",
      "/Applications/venv/CPTAC_Protein/lib/python3.9/site-packages/sklearn/linear_model/_coordinate_descent.py:631: ConvergenceWarning: Objective did not converge. You might want to increase the number of iterations. Duality gap: 0.12036647161079528, tolerance: 0.07303001979405067\n",
      "  model = cd_fast.enet_coordinate_descent_gram(\n",
      "/Applications/venv/CPTAC_Protein/lib/python3.9/site-packages/sklearn/linear_model/_coordinate_descent.py:631: ConvergenceWarning: Objective did not converge. You might want to increase the number of iterations. Duality gap: 0.0784874730606937, tolerance: 0.07303001979405067\n",
      "  model = cd_fast.enet_coordinate_descent_gram(\n",
      "/Applications/venv/CPTAC_Protein/lib/python3.9/site-packages/sklearn/linear_model/_coordinate_descent.py:631: ConvergenceWarning: Objective did not converge. You might want to increase the number of iterations. Duality gap: 0.12861677193159737, tolerance: 0.07303001979405067\n",
      "  model = cd_fast.enet_coordinate_descent_gram(\n",
      "/Applications/venv/CPTAC_Protein/lib/python3.9/site-packages/sklearn/linear_model/_coordinate_descent.py:631: ConvergenceWarning: Objective did not converge. You might want to increase the number of iterations. Duality gap: 0.0849360679365887, tolerance: 0.0760718911381878\n",
      "  model = cd_fast.enet_coordinate_descent_gram(\n",
      "/Applications/venv/CPTAC_Protein/lib/python3.9/site-packages/sklearn/linear_model/_coordinate_descent.py:631: ConvergenceWarning: Objective did not converge. You might want to increase the number of iterations. Duality gap: 0.08456783205399798, tolerance: 0.0760718911381878\n",
      "  model = cd_fast.enet_coordinate_descent_gram(\n",
      "/Applications/venv/CPTAC_Protein/lib/python3.9/site-packages/sklearn/linear_model/_coordinate_descent.py:631: ConvergenceWarning: Objective did not converge. You might want to increase the number of iterations. Duality gap: 0.08350666685085928, tolerance: 0.07303001979405067\n",
      "  model = cd_fast.enet_coordinate_descent_gram(\n",
      "/Applications/venv/CPTAC_Protein/lib/python3.9/site-packages/sklearn/linear_model/_coordinate_descent.py:631: ConvergenceWarning: Objective did not converge. You might want to increase the number of iterations. Duality gap: 0.11389081478649832, tolerance: 0.07303001979405067\n",
      "  model = cd_fast.enet_coordinate_descent_gram(\n",
      "/Applications/venv/CPTAC_Protein/lib/python3.9/site-packages/sklearn/linear_model/_coordinate_descent.py:631: ConvergenceWarning: Objective did not converge. You might want to increase the number of iterations. Duality gap: 0.1334102035619722, tolerance: 0.07303001979405067\n",
      "  model = cd_fast.enet_coordinate_descent_gram(\n",
      "/Applications/venv/CPTAC_Protein/lib/python3.9/site-packages/sklearn/linear_model/_coordinate_descent.py:631: ConvergenceWarning: Objective did not converge. You might want to increase the number of iterations. Duality gap: 0.12520535174421088, tolerance: 0.0760718911381878\n",
      "  model = cd_fast.enet_coordinate_descent_gram(\n",
      "/Applications/venv/CPTAC_Protein/lib/python3.9/site-packages/sklearn/linear_model/_coordinate_descent.py:631: ConvergenceWarning: Objective did not converge. You might want to increase the number of iterations. Duality gap: 0.11873436250535185, tolerance: 0.07303001979405067\n",
      "  model = cd_fast.enet_coordinate_descent_gram(\n",
      "/Applications/venv/CPTAC_Protein/lib/python3.9/site-packages/sklearn/linear_model/_coordinate_descent.py:631: ConvergenceWarning: Objective did not converge. You might want to increase the number of iterations. Duality gap: 0.0808757713924404, tolerance: 0.07303001979405067\n",
      "  model = cd_fast.enet_coordinate_descent_gram(\n",
      "/Applications/venv/CPTAC_Protein/lib/python3.9/site-packages/sklearn/linear_model/_coordinate_descent.py:631: ConvergenceWarning: Objective did not converge. You might want to increase the number of iterations. Duality gap: 0.09812398707091896, tolerance: 0.0760718911381878\n",
      "  model = cd_fast.enet_coordinate_descent_gram(\n",
      "/Applications/venv/CPTAC_Protein/lib/python3.9/site-packages/sklearn/linear_model/_coordinate_descent.py:631: ConvergenceWarning: Objective did not converge. You might want to increase the number of iterations. Duality gap: 0.07189737686410536, tolerance: 0.07137767508742356\n",
      "  model = cd_fast.enet_coordinate_descent_gram(\n",
      "/Applications/venv/CPTAC_Protein/lib/python3.9/site-packages/sklearn/linear_model/_coordinate_descent.py:631: ConvergenceWarning: Objective did not converge. You might want to increase the number of iterations. Duality gap: 0.09262341393108153, tolerance: 0.07303001979405067\n",
      "  model = cd_fast.enet_coordinate_descent_gram(\n",
      "/Applications/venv/CPTAC_Protein/lib/python3.9/site-packages/sklearn/linear_model/_coordinate_descent.py:631: ConvergenceWarning: Objective did not converge. You might want to increase the number of iterations. Duality gap: 0.0715747053482374, tolerance: 0.07137767508742356\n",
      "  model = cd_fast.enet_coordinate_descent_gram(\n",
      "/Applications/venv/CPTAC_Protein/lib/python3.9/site-packages/sklearn/linear_model/_coordinate_descent.py:631: ConvergenceWarning: Objective did not converge. You might want to increase the number of iterations. Duality gap: 0.1294543725116175, tolerance: 0.07303001979405067\n",
      "  model = cd_fast.enet_coordinate_descent_gram(\n",
      "/Applications/venv/CPTAC_Protein/lib/python3.9/site-packages/sklearn/linear_model/_coordinate_descent.py:631: ConvergenceWarning: Objective did not converge. You might want to increase the number of iterations. Duality gap: 0.09840460670838169, tolerance: 0.07303001979405067\n",
      "  model = cd_fast.enet_coordinate_descent_gram(\n",
      "/Applications/venv/CPTAC_Protein/lib/python3.9/site-packages/sklearn/linear_model/_coordinate_descent.py:631: ConvergenceWarning: Objective did not converge. You might want to increase the number of iterations. Duality gap: 0.13445144083847893, tolerance: 0.07303001979405067\n",
      "  model = cd_fast.enet_coordinate_descent_gram(\n",
      "/Applications/venv/CPTAC_Protein/lib/python3.9/site-packages/sklearn/linear_model/_coordinate_descent.py:631: ConvergenceWarning: Objective did not converge. You might want to increase the number of iterations. Duality gap: 0.1072774555644016, tolerance: 0.07303001979405067\n",
      "  model = cd_fast.enet_coordinate_descent_gram(\n",
      "/Applications/venv/CPTAC_Protein/lib/python3.9/site-packages/sklearn/linear_model/_coordinate_descent.py:631: ConvergenceWarning: Objective did not converge. You might want to increase the number of iterations. Duality gap: 0.1374661230246923, tolerance: 0.07303001979405067\n",
      "  model = cd_fast.enet_coordinate_descent_gram(\n",
      "/Applications/venv/CPTAC_Protein/lib/python3.9/site-packages/sklearn/linear_model/_coordinate_descent.py:631: ConvergenceWarning: Objective did not converge. You might want to increase the number of iterations. Duality gap: 0.11527559954287536, tolerance: 0.0760718911381878\n",
      "  model = cd_fast.enet_coordinate_descent_gram(\n",
      "/Applications/venv/CPTAC_Protein/lib/python3.9/site-packages/sklearn/linear_model/_coordinate_descent.py:631: ConvergenceWarning: Objective did not converge. You might want to increase the number of iterations. Duality gap: 0.11006115254073778, tolerance: 0.07303001979405067\n",
      "  model = cd_fast.enet_coordinate_descent_gram(\n",
      "/Applications/venv/CPTAC_Protein/lib/python3.9/site-packages/sklearn/linear_model/_coordinate_descent.py:631: ConvergenceWarning: Objective did not converge. You might want to increase the number of iterations. Duality gap: 0.12148839152917734, tolerance: 0.07303001979405067\n",
      "  model = cd_fast.enet_coordinate_descent_gram(\n",
      "/Applications/venv/CPTAC_Protein/lib/python3.9/site-packages/sklearn/linear_model/_coordinate_descent.py:631: ConvergenceWarning: Objective did not converge. You might want to increase the number of iterations. Duality gap: 0.12791883115265668, tolerance: 0.07303001979405067\n",
      "  model = cd_fast.enet_coordinate_descent_gram(\n",
      "/Applications/venv/CPTAC_Protein/lib/python3.9/site-packages/sklearn/linear_model/_coordinate_descent.py:631: ConvergenceWarning: Objective did not converge. You might want to increase the number of iterations. Duality gap: 0.11516037431266479, tolerance: 0.07303001979405067\n",
      "  model = cd_fast.enet_coordinate_descent_gram(\n",
      "/Applications/venv/CPTAC_Protein/lib/python3.9/site-packages/sklearn/linear_model/_coordinate_descent.py:631: ConvergenceWarning: Objective did not converge. You might want to increase the number of iterations. Duality gap: 0.12255844490803369, tolerance: 0.07303001979405067\n",
      "  model = cd_fast.enet_coordinate_descent_gram(\n",
      "/Applications/venv/CPTAC_Protein/lib/python3.9/site-packages/sklearn/linear_model/_coordinate_descent.py:631: ConvergenceWarning: Objective did not converge. You might want to increase the number of iterations. Duality gap: 0.07193652291911734, tolerance: 0.07137767508742356\n",
      "  model = cd_fast.enet_coordinate_descent_gram(\n",
      "/Applications/venv/CPTAC_Protein/lib/python3.9/site-packages/sklearn/linear_model/_coordinate_descent.py:631: ConvergenceWarning: Objective did not converge. You might want to increase the number of iterations. Duality gap: 0.13162958297784488, tolerance: 0.07303001979405067\n",
      "  model = cd_fast.enet_coordinate_descent_gram(\n",
      "/Applications/venv/CPTAC_Protein/lib/python3.9/site-packages/sklearn/linear_model/_coordinate_descent.py:631: ConvergenceWarning: Objective did not converge. You might want to increase the number of iterations. Duality gap: 0.0895283764982091, tolerance: 0.0760718911381878\n",
      "  model = cd_fast.enet_coordinate_descent_gram(\n",
      "/Applications/venv/CPTAC_Protein/lib/python3.9/site-packages/sklearn/linear_model/_coordinate_descent.py:631: ConvergenceWarning: Objective did not converge. You might want to increase the number of iterations. Duality gap: 0.13656355582640956, tolerance: 0.07303001979405067\n",
      "  model = cd_fast.enet_coordinate_descent_gram(\n",
      "/Applications/venv/CPTAC_Protein/lib/python3.9/site-packages/sklearn/linear_model/_coordinate_descent.py:631: ConvergenceWarning: Objective did not converge. You might want to increase the number of iterations. Duality gap: 0.12729576277126942, tolerance: 0.0760718911381878\n",
      "  model = cd_fast.enet_coordinate_descent_gram(\n",
      "/Applications/venv/CPTAC_Protein/lib/python3.9/site-packages/sklearn/linear_model/_coordinate_descent.py:631: ConvergenceWarning: Objective did not converge. You might want to increase the number of iterations. Duality gap: 0.1285252251183504, tolerance: 0.07303001979405067\n",
      "  model = cd_fast.enet_coordinate_descent_gram(\n",
      "Running elastic model with corum transcripts:  12%|█▏        | 1323/10921 [13:25<2:34:58,  1.03it/s]"
     ]
    },
    {
     "name": "stdout",
     "output_type": "stream",
     "text": [
      "corr: [0.31651], r2: [-0.1257]\n",
      "Doing 1323: CD300A\n"
     ]
    },
    {
     "name": "stderr",
     "output_type": "stream",
     "text": [
      "Running elastic model with corum transcripts:  12%|█▏        | 1324/10921 [13:26<2:22:08,  1.13it/s]"
     ]
    },
    {
     "name": "stdout",
     "output_type": "stream",
     "text": [
      "corr: [0.60557], r2: [0.27587]\n",
      "Doing 1324: CD300LG\n",
      "Not enough proteomics observations. Skipping protein.\n",
      "Doing 1325: CD320\n"
     ]
    },
    {
     "name": "stderr",
     "output_type": "stream",
     "text": [
      "Running elastic model with corum transcripts:  12%|█▏        | 1326/10921 [13:26<1:44:41,  1.53it/s]"
     ]
    },
    {
     "name": "stdout",
     "output_type": "stream",
     "text": [
      "corr: [0.49537], r2: [0.15135]\n",
      "Doing 1326: CD34\n"
     ]
    },
    {
     "name": "stderr",
     "output_type": "stream",
     "text": [
      "Running elastic model with corum transcripts:  12%|█▏        | 1327/10921 [13:27<1:45:13,  1.52it/s]"
     ]
    },
    {
     "name": "stdout",
     "output_type": "stream",
     "text": [
      "corr: [0.2183], r2: [-1.02943]\n",
      "Doing 1327: CD36\n"
     ]
    },
    {
     "name": "stderr",
     "output_type": "stream",
     "text": [
      "Running elastic model with corum transcripts:  12%|█▏        | 1328/10921 [13:28<1:48:10,  1.48it/s]"
     ]
    },
    {
     "name": "stdout",
     "output_type": "stream",
     "text": [
      "corr: [0.60025], r2: [0.3095]\n",
      "Doing 1328: CD37\n"
     ]
    },
    {
     "name": "stderr",
     "output_type": "stream",
     "text": [
      "Running elastic model with corum transcripts:  12%|█▏        | 1329/10921 [13:28<1:47:15,  1.49it/s]"
     ]
    },
    {
     "name": "stdout",
     "output_type": "stream",
     "text": [
      "corr: [0.67803], r2: [-0.45014]\n",
      "Doing 1329: CD38\n"
     ]
    },
    {
     "name": "stderr",
     "output_type": "stream",
     "text": [
      "Running elastic model with corum transcripts:  12%|█▏        | 1330/10921 [13:29<1:49:45,  1.46it/s]"
     ]
    },
    {
     "name": "stdout",
     "output_type": "stream",
     "text": [
      "corr: [0.44867], r2: [-0.20213]\n",
      "Doing 1330: CD3E\n"
     ]
    },
    {
     "name": "stderr",
     "output_type": "stream",
     "text": [
      "Running elastic model with corum transcripts:  12%|█▏        | 1331/10921 [13:30<1:54:18,  1.40it/s]"
     ]
    },
    {
     "name": "stdout",
     "output_type": "stream",
     "text": [
      "corr: [0.61751], r2: [0.12724]\n",
      "Doing 1331: CD3EAP\n"
     ]
    },
    {
     "name": "stderr",
     "output_type": "stream",
     "text": [
      "Running elastic model with corum transcripts:  12%|█▏        | 1332/10921 [13:31<1:58:47,  1.35it/s]"
     ]
    },
    {
     "name": "stdout",
     "output_type": "stream",
     "text": [
      "corr: [0.28835], r2: [-0.08319]\n",
      "Doing 1332: CD4\n"
     ]
    },
    {
     "name": "stderr",
     "output_type": "stream",
     "text": [
      "Running elastic model with corum transcripts:  12%|█▏        | 1333/10921 [13:31<1:55:39,  1.38it/s]"
     ]
    },
    {
     "name": "stdout",
     "output_type": "stream",
     "text": [
      "corr: [0.51615], r2: [0.05062]\n",
      "Doing 1333: CD40\n"
     ]
    },
    {
     "name": "stderr",
     "output_type": "stream",
     "text": [
      "Running elastic model with corum transcripts:  12%|█▏        | 1334/10921 [13:32<1:57:29,  1.36it/s]"
     ]
    },
    {
     "name": "stdout",
     "output_type": "stream",
     "text": [
      "corr: [0.56207], r2: [0.09187]\n",
      "Doing 1334: CD44\n"
     ]
    },
    {
     "name": "stderr",
     "output_type": "stream",
     "text": [
      "Running elastic model with corum transcripts:  12%|█▏        | 1335/10921 [13:33<1:57:10,  1.36it/s]"
     ]
    },
    {
     "name": "stdout",
     "output_type": "stream",
     "text": [
      "corr: [0.56514], r2: [0.05375]\n",
      "Doing 1335: CD46\n"
     ]
    },
    {
     "name": "stderr",
     "output_type": "stream",
     "text": [
      "Running elastic model with corum transcripts:  12%|█▏        | 1336/10921 [13:34<1:53:54,  1.40it/s]"
     ]
    },
    {
     "name": "stdout",
     "output_type": "stream",
     "text": [
      "corr: [0.34134], r2: [0.08664]\n",
      "Doing 1336: CD47\n"
     ]
    },
    {
     "name": "stderr",
     "output_type": "stream",
     "text": [
      "Running elastic model with corum transcripts:  12%|█▏        | 1337/10921 [13:34<2:03:38,  1.29it/s]"
     ]
    },
    {
     "name": "stdout",
     "output_type": "stream",
     "text": [
      "corr: [0.3123], r2: [0.05945]\n",
      "Doing 1337: CD48\n"
     ]
    },
    {
     "name": "stderr",
     "output_type": "stream",
     "text": [
      "Running elastic model with corum transcripts:  12%|█▏        | 1338/10921 [13:35<1:58:36,  1.35it/s]"
     ]
    },
    {
     "name": "stdout",
     "output_type": "stream",
     "text": [
      "corr: [0.39145], r2: [-0.13195]\n",
      "Doing 1338: CD5\n"
     ]
    },
    {
     "name": "stderr",
     "output_type": "stream",
     "text": [
      "Running elastic model with corum transcripts:  12%|█▏        | 1339/10921 [13:36<1:52:13,  1.42it/s]"
     ]
    },
    {
     "name": "stdout",
     "output_type": "stream",
     "text": [
      "corr: [0.66265], r2: [0.2231]\n",
      "Doing 1339: CD53\n"
     ]
    },
    {
     "name": "stderr",
     "output_type": "stream",
     "text": [
      "Running elastic model with corum transcripts:  12%|█▏        | 1340/10921 [13:36<1:50:29,  1.45it/s]"
     ]
    },
    {
     "name": "stdout",
     "output_type": "stream",
     "text": [
      "corr: [0.67906], r2: [0.32406]\n",
      "Doing 1340: CD55\n"
     ]
    },
    {
     "name": "stderr",
     "output_type": "stream",
     "text": [
      "Running elastic model with corum transcripts:  12%|█▏        | 1341/10921 [13:37<1:54:35,  1.39it/s]"
     ]
    },
    {
     "name": "stdout",
     "output_type": "stream",
     "text": [
      "corr: [0.60931], r2: [0.27132]\n",
      "Doing 1341: CD58\n"
     ]
    },
    {
     "name": "stderr",
     "output_type": "stream",
     "text": [
      "Running elastic model with corum transcripts:  12%|█▏        | 1342/10921 [13:38<1:52:45,  1.42it/s]"
     ]
    },
    {
     "name": "stdout",
     "output_type": "stream",
     "text": [
      "corr: [0.36843], r2: [0.13222]\n",
      "Doing 1342: CD59\n"
     ]
    },
    {
     "name": "stderr",
     "output_type": "stream",
     "text": [
      "Running elastic model with corum transcripts:  12%|█▏        | 1343/10921 [13:38<1:50:00,  1.45it/s]"
     ]
    },
    {
     "name": "stdout",
     "output_type": "stream",
     "text": [
      "corr: [0.46964], r2: [0.12595]\n",
      "Doing 1343: CD5L\n"
     ]
    },
    {
     "name": "stderr",
     "output_type": "stream",
     "text": [
      "/Applications/venv/CPTAC_Protein/lib/python3.9/site-packages/numpy/lib/function_base.py:2691: RuntimeWarning: invalid value encountered in true_divide\n",
      "  c /= stddev[:, None]\n",
      "/Applications/venv/CPTAC_Protein/lib/python3.9/site-packages/numpy/lib/function_base.py:2692: RuntimeWarning: invalid value encountered in true_divide\n",
      "  c /= stddev[None, :]\n",
      "Running elastic model with corum transcripts:  12%|█▏        | 1344/10921 [13:39<1:45:07,  1.52it/s]"
     ]
    },
    {
     "name": "stdout",
     "output_type": "stream",
     "text": [
      "corr: [0], r2: [-0.03076]\n",
      "Doing 1344: CD63\n"
     ]
    },
    {
     "name": "stderr",
     "output_type": "stream",
     "text": [
      "Running elastic model with corum transcripts:  12%|█▏        | 1345/10921 [13:40<1:50:47,  1.44it/s]"
     ]
    },
    {
     "name": "stdout",
     "output_type": "stream",
     "text": [
      "corr: [0.12008], r2: [-0.01379]\n",
      "Doing 1345: CD68\n"
     ]
    },
    {
     "name": "stderr",
     "output_type": "stream",
     "text": [
      "Running elastic model with corum transcripts:  12%|█▏        | 1346/10921 [13:41<1:48:24,  1.47it/s]"
     ]
    },
    {
     "name": "stdout",
     "output_type": "stream",
     "text": [
      "corr: [0.48853], r2: [0.19803]\n",
      "Doing 1346: CD72\n",
      "Not enough proteomics observations. Skipping protein.\n",
      "Doing 1347: CD74\n"
     ]
    },
    {
     "name": "stderr",
     "output_type": "stream",
     "text": [
      "Running elastic model with corum transcripts:  12%|█▏        | 1348/10921 [13:41<1:23:55,  1.90it/s]"
     ]
    },
    {
     "name": "stdout",
     "output_type": "stream",
     "text": [
      "corr: [0.52184], r2: [0.27106]\n",
      "Doing 1348: CD81\n"
     ]
    },
    {
     "name": "stderr",
     "output_type": "stream",
     "text": [
      "Running elastic model with corum transcripts:  12%|█▏        | 1349/10921 [13:42<1:36:07,  1.66it/s]"
     ]
    },
    {
     "name": "stdout",
     "output_type": "stream",
     "text": [
      "corr: [0.11846], r2: [0.00272]\n",
      "Doing 1349: CD82\n"
     ]
    },
    {
     "name": "stderr",
     "output_type": "stream",
     "text": [
      "Running elastic model with corum transcripts:  12%|█▏        | 1350/10921 [13:43<1:42:30,  1.56it/s]"
     ]
    },
    {
     "name": "stdout",
     "output_type": "stream",
     "text": [
      "corr: [0.40311], r2: [0.00154]\n",
      "Doing 1350: CD84\n"
     ]
    },
    {
     "name": "stderr",
     "output_type": "stream",
     "text": [
      "Running elastic model with corum transcripts:  12%|█▏        | 1351/10921 [13:43<1:44:26,  1.53it/s]"
     ]
    },
    {
     "name": "stdout",
     "output_type": "stream",
     "text": [
      "corr: [0.21878], r2: [0.03943]\n",
      "Doing 1351: CD8A\n"
     ]
    },
    {
     "name": "stderr",
     "output_type": "stream",
     "text": [
      "Running elastic model with corum transcripts:  12%|█▏        | 1352/10921 [13:44<1:47:05,  1.49it/s]"
     ]
    },
    {
     "name": "stdout",
     "output_type": "stream",
     "text": [
      "corr: [0.54991], r2: [0.00235]\n",
      "Doing 1352: CD9\n"
     ]
    },
    {
     "name": "stderr",
     "output_type": "stream",
     "text": [
      "Running elastic model with corum transcripts:  12%|█▏        | 1353/10921 [13:45<2:00:23,  1.32it/s]"
     ]
    },
    {
     "name": "stdout",
     "output_type": "stream",
     "text": [
      "corr: [0.51209], r2: [0.24877]\n",
      "Doing 1353: CD93\n"
     ]
    },
    {
     "name": "stderr",
     "output_type": "stream",
     "text": [
      "Running elastic model with corum transcripts:  12%|█▏        | 1354/10921 [13:46<2:00:12,  1.33it/s]"
     ]
    },
    {
     "name": "stdout",
     "output_type": "stream",
     "text": [
      "corr: [0.35211], r2: [-0.13758]\n",
      "Doing 1354: CD99\n"
     ]
    },
    {
     "name": "stderr",
     "output_type": "stream",
     "text": [
      "Running elastic model with corum transcripts:  12%|█▏        | 1355/10921 [13:47<1:59:42,  1.33it/s]"
     ]
    },
    {
     "name": "stdout",
     "output_type": "stream",
     "text": [
      "corr: [0.47783], r2: [0.22236]\n",
      "Doing 1355: CD99L2\n"
     ]
    },
    {
     "name": "stderr",
     "output_type": "stream",
     "text": [
      "Running elastic model with corum transcripts:  12%|█▏        | 1356/10921 [13:47<1:52:59,  1.41it/s]"
     ]
    },
    {
     "name": "stdout",
     "output_type": "stream",
     "text": [
      "corr: [0.19054], r2: [-0.10867]\n",
      "Doing 1356: CDA\n"
     ]
    },
    {
     "name": "stderr",
     "output_type": "stream",
     "text": [
      "Running elastic model with corum transcripts:  12%|█▏        | 1357/10921 [13:48<1:51:45,  1.43it/s]"
     ]
    },
    {
     "name": "stdout",
     "output_type": "stream",
     "text": [
      "corr: [0.39354], r2: [0.06026]\n",
      "Doing 1357: CDAN1\n"
     ]
    },
    {
     "name": "stderr",
     "output_type": "stream",
     "text": [
      "Running elastic model with corum transcripts:  12%|█▏        | 1358/10921 [13:49<1:54:00,  1.40it/s]"
     ]
    },
    {
     "name": "stdout",
     "output_type": "stream",
     "text": [
      "corr: [0.45044], r2: [0.19596]\n",
      "Doing 1358: CDC123\n"
     ]
    },
    {
     "name": "stderr",
     "output_type": "stream",
     "text": [
      "Running elastic model with corum transcripts:  12%|█▏        | 1359/10921 [13:49<1:58:35,  1.34it/s]"
     ]
    },
    {
     "name": "stdout",
     "output_type": "stream",
     "text": [
      "corr: [0.56953], r2: [0.32368]\n",
      "Doing 1359: CDC14A\n"
     ]
    },
    {
     "name": "stderr",
     "output_type": "stream",
     "text": [
      "Running elastic model with corum transcripts:  12%|█▏        | 1360/10921 [13:50<1:52:00,  1.42it/s]"
     ]
    },
    {
     "name": "stdout",
     "output_type": "stream",
     "text": [
      "corr: [-0.6217], r2: [-1.50904]\n",
      "Doing 1360: CDC16\n"
     ]
    },
    {
     "name": "stderr",
     "output_type": "stream",
     "text": [
      "Running elastic model with corum transcripts:  12%|█▏        | 1361/10921 [13:51<1:52:50,  1.41it/s]"
     ]
    },
    {
     "name": "stdout",
     "output_type": "stream",
     "text": [
      "corr: [0.40028], r2: [0.08394]\n",
      "Doing 1361: CDC20\n"
     ]
    },
    {
     "name": "stderr",
     "output_type": "stream",
     "text": [
      "Running elastic model with corum transcripts:  12%|█▏        | 1362/10921 [13:52<1:55:42,  1.38it/s]"
     ]
    },
    {
     "name": "stdout",
     "output_type": "stream",
     "text": [
      "corr: [0.55527], r2: [-0.23518]\n",
      "Doing 1362: CDC23\n"
     ]
    },
    {
     "name": "stderr",
     "output_type": "stream",
     "text": [
      "Running elastic model with corum transcripts:  12%|█▏        | 1363/10921 [13:52<1:54:43,  1.39it/s]"
     ]
    },
    {
     "name": "stdout",
     "output_type": "stream",
     "text": [
      "corr: [0.22062], r2: [0.00077]\n",
      "Doing 1363: CDC25C\n"
     ]
    },
    {
     "name": "stderr",
     "output_type": "stream",
     "text": [
      "Running elastic model with corum transcripts:  12%|█▏        | 1364/10921 [13:53<1:48:39,  1.47it/s]"
     ]
    },
    {
     "name": "stdout",
     "output_type": "stream",
     "text": [
      "corr: [0.1506], r2: [-0.17891]\n",
      "Doing 1364: CDC26\n"
     ]
    },
    {
     "name": "stderr",
     "output_type": "stream",
     "text": [
      "Running elastic model with corum transcripts:  12%|█▏        | 1365/10921 [13:54<1:51:47,  1.42it/s]"
     ]
    },
    {
     "name": "stdout",
     "output_type": "stream",
     "text": [
      "corr: [-0.04143], r2: [-0.0805]\n",
      "Doing 1365: CDC27\n"
     ]
    },
    {
     "name": "stderr",
     "output_type": "stream",
     "text": [
      "Running elastic model with corum transcripts:  13%|█▎        | 1366/10921 [13:55<2:06:19,  1.26it/s]"
     ]
    },
    {
     "name": "stdout",
     "output_type": "stream",
     "text": [
      "corr: [0.43316], r2: [0.02751]\n",
      "Doing 1366: CDC34\n"
     ]
    },
    {
     "name": "stderr",
     "output_type": "stream",
     "text": [
      "Running elastic model with corum transcripts:  13%|█▎        | 1367/10921 [13:55<2:02:44,  1.30it/s]"
     ]
    },
    {
     "name": "stdout",
     "output_type": "stream",
     "text": [
      "corr: [0.30328], r2: [-0.08381]\n",
      "Doing 1367: CDC37\n"
     ]
    },
    {
     "name": "stderr",
     "output_type": "stream",
     "text": [
      "Running elastic model with corum transcripts:  13%|█▎        | 1368/10921 [13:57<2:21:04,  1.13it/s]"
     ]
    },
    {
     "name": "stdout",
     "output_type": "stream",
     "text": [
      "corr: [0.33934], r2: [0.09495]\n",
      "Doing 1368: CDC37L1\n"
     ]
    },
    {
     "name": "stderr",
     "output_type": "stream",
     "text": [
      "Running elastic model with corum transcripts:  13%|█▎        | 1369/10921 [13:57<2:12:36,  1.20it/s]"
     ]
    },
    {
     "name": "stdout",
     "output_type": "stream",
     "text": [
      "corr: [0.64593], r2: [0.34432]\n",
      "Doing 1369: CDC40\n"
     ]
    },
    {
     "name": "stderr",
     "output_type": "stream",
     "text": [
      "/Applications/venv/CPTAC_Protein/lib/python3.9/site-packages/sklearn/linear_model/_coordinate_descent.py:645: ConvergenceWarning: Objective did not converge. You might want to increase the number of iterations, check the scale of the features or consider increasing regularisation. Duality gap: 7.708e-02, tolerance: 6.799e-02\n",
      "  model = cd_fast.enet_coordinate_descent(\n",
      "/Applications/venv/CPTAC_Protein/lib/python3.9/site-packages/sklearn/linear_model/_coordinate_descent.py:645: ConvergenceWarning: Objective did not converge. You might want to increase the number of iterations, check the scale of the features or consider increasing regularisation. Duality gap: 7.635e-02, tolerance: 6.799e-02\n",
      "  model = cd_fast.enet_coordinate_descent(\n",
      "Running elastic model with corum transcripts:  13%|█▎        | 1370/10921 [14:51<44:20:21, 16.71s/it]"
     ]
    },
    {
     "name": "stdout",
     "output_type": "stream",
     "text": [
      "corr: [0.22662], r2: [-0.19412]\n",
      "Doing 1370: CDC42\n"
     ]
    },
    {
     "name": "stderr",
     "output_type": "stream",
     "text": [
      "Running elastic model with corum transcripts:  13%|█▎        | 1371/10921 [14:52<31:48:33, 11.99s/it]"
     ]
    },
    {
     "name": "stdout",
     "output_type": "stream",
     "text": [
      "corr: [-0.11775], r2: [-0.22547]\n",
      "Doing 1371: CDC42BPA\n"
     ]
    },
    {
     "name": "stderr",
     "output_type": "stream",
     "text": [
      "Running elastic model with corum transcripts:  13%|█▎        | 1372/10921 [14:53<22:47:13,  8.59s/it]"
     ]
    },
    {
     "name": "stdout",
     "output_type": "stream",
     "text": [
      "corr: [0.53017], r2: [-0.12495]\n",
      "Doing 1372: CDC42BPB\n"
     ]
    },
    {
     "name": "stderr",
     "output_type": "stream",
     "text": [
      "Running elastic model with corum transcripts:  13%|█▎        | 1373/10921 [14:53<16:32:15,  6.24s/it]"
     ]
    },
    {
     "name": "stdout",
     "output_type": "stream",
     "text": [
      "corr: [0.44139], r2: [-0.09384]\n",
      "Doing 1373: CDC42BPG\n"
     ]
    },
    {
     "name": "stderr",
     "output_type": "stream",
     "text": [
      "Running elastic model with corum transcripts:  13%|█▎        | 1374/10921 [14:54<12:01:00,  4.53s/it]"
     ]
    },
    {
     "name": "stdout",
     "output_type": "stream",
     "text": [
      "corr: [0.58668], r2: [0.18799]\n",
      "Doing 1374: CDC42EP1\n"
     ]
    },
    {
     "name": "stderr",
     "output_type": "stream",
     "text": [
      "Running elastic model with corum transcripts:  13%|█▎        | 1375/10921 [14:55<8:58:52,  3.39s/it] "
     ]
    },
    {
     "name": "stdout",
     "output_type": "stream",
     "text": [
      "corr: [0.59418], r2: [0.30338]\n",
      "Doing 1375: CDC42EP2\n"
     ]
    },
    {
     "name": "stderr",
     "output_type": "stream",
     "text": [
      "/Applications/venv/CPTAC_Protein/lib/python3.9/site-packages/numpy/lib/function_base.py:2691: RuntimeWarning: invalid value encountered in true_divide\n",
      "  c /= stddev[:, None]\n",
      "/Applications/venv/CPTAC_Protein/lib/python3.9/site-packages/numpy/lib/function_base.py:2692: RuntimeWarning: invalid value encountered in true_divide\n",
      "  c /= stddev[None, :]\n",
      "Running elastic model with corum transcripts:  13%|█▎        | 1376/10921 [14:55<6:45:06,  2.55s/it]"
     ]
    },
    {
     "name": "stdout",
     "output_type": "stream",
     "text": [
      "corr: [0], r2: [-0.00367]\n",
      "Doing 1376: CDC42EP3\n"
     ]
    },
    {
     "name": "stderr",
     "output_type": "stream",
     "text": [
      "Running elastic model with corum transcripts:  13%|█▎        | 1377/10921 [14:56<5:12:39,  1.97s/it]"
     ]
    },
    {
     "name": "stdout",
     "output_type": "stream",
     "text": [
      "corr: [0.50557], r2: [-0.03687]\n",
      "Doing 1377: CDC42EP4\n"
     ]
    },
    {
     "name": "stderr",
     "output_type": "stream",
     "text": [
      "Running elastic model with corum transcripts:  13%|█▎        | 1378/10921 [14:56<4:08:54,  1.56s/it]"
     ]
    },
    {
     "name": "stdout",
     "output_type": "stream",
     "text": [
      "corr: [0.8414], r2: [0.62682]\n",
      "Doing 1378: CDC42EP5\n"
     ]
    },
    {
     "name": "stderr",
     "output_type": "stream",
     "text": [
      "Running elastic model with corum transcripts:  13%|█▎        | 1379/10921 [14:57<3:26:14,  1.30s/it]"
     ]
    },
    {
     "name": "stdout",
     "output_type": "stream",
     "text": [
      "corr: [0.43739], r2: [0.13144]\n",
      "Doing 1379: CDC5L\n"
     ]
    },
    {
     "name": "stderr",
     "output_type": "stream",
     "text": [
      "Running elastic model with corum transcripts:  13%|█▎        | 1380/10921 [15:06<9:14:43,  3.49s/it]"
     ]
    },
    {
     "name": "stdout",
     "output_type": "stream",
     "text": [
      "corr: [0.36902], r2: [-0.41295]\n",
      "Doing 1380: CDC73\n"
     ]
    },
    {
     "name": "stderr",
     "output_type": "stream",
     "text": [
      "Running elastic model with corum transcripts:  13%|█▎        | 1381/10921 [15:06<7:03:56,  2.67s/it]"
     ]
    },
    {
     "name": "stdout",
     "output_type": "stream",
     "text": [
      "corr: [0.37682], r2: [0.12477]\n",
      "Doing 1381: CDCA2\n"
     ]
    },
    {
     "name": "stderr",
     "output_type": "stream",
     "text": [
      "Running elastic model with corum transcripts:  13%|█▎        | 1382/10921 [15:07<5:33:08,  2.10s/it]"
     ]
    },
    {
     "name": "stdout",
     "output_type": "stream",
     "text": [
      "corr: [0.21981], r2: [-0.4625]\n",
      "Doing 1382: CDCA3\n"
     ]
    },
    {
     "name": "stderr",
     "output_type": "stream",
     "text": [
      "Running elastic model with corum transcripts:  13%|█▎        | 1383/10921 [15:08<4:19:42,  1.63s/it]"
     ]
    },
    {
     "name": "stdout",
     "output_type": "stream",
     "text": [
      "corr: [0.38201], r2: [-0.84493]\n",
      "Doing 1383: CDCA5\n"
     ]
    },
    {
     "name": "stderr",
     "output_type": "stream",
     "text": [
      "Running elastic model with corum transcripts:  13%|█▎        | 1384/10921 [15:09<3:37:20,  1.37s/it]"
     ]
    },
    {
     "name": "stdout",
     "output_type": "stream",
     "text": [
      "corr: [0.53708], r2: [0.20126]\n",
      "Doing 1384: CDCA7L\n"
     ]
    },
    {
     "name": "stderr",
     "output_type": "stream",
     "text": [
      "Running elastic model with corum transcripts:  13%|█▎        | 1385/10921 [15:09<2:59:25,  1.13s/it]"
     ]
    },
    {
     "name": "stdout",
     "output_type": "stream",
     "text": [
      "corr: [0.33423], r2: [0.05334]\n",
      "Doing 1385: CDCA8\n"
     ]
    },
    {
     "name": "stderr",
     "output_type": "stream",
     "text": [
      "Running elastic model with corum transcripts:  13%|█▎        | 1386/10921 [15:10<2:36:46,  1.01it/s]"
     ]
    },
    {
     "name": "stdout",
     "output_type": "stream",
     "text": [
      "corr: [0.57138], r2: [0.0151]\n",
      "Doing 1386: CDCP1\n"
     ]
    },
    {
     "name": "stderr",
     "output_type": "stream",
     "text": [
      "Running elastic model with corum transcripts:  13%|█▎        | 1387/10921 [15:10<2:23:45,  1.11it/s]"
     ]
    },
    {
     "name": "stdout",
     "output_type": "stream",
     "text": [
      "corr: [0.59886], r2: [0.28053]\n",
      "Doing 1387: CDH1\n"
     ]
    },
    {
     "name": "stderr",
     "output_type": "stream",
     "text": [
      "Running elastic model with corum transcripts:  13%|█▎        | 1388/10921 [15:11<2:14:22,  1.18it/s]"
     ]
    },
    {
     "name": "stdout",
     "output_type": "stream",
     "text": [
      "corr: [0.5441], r2: [0.19683]\n",
      "Doing 1388: CDH10\n"
     ]
    },
    {
     "name": "stderr",
     "output_type": "stream",
     "text": [
      "Running elastic model with corum transcripts:  13%|█▎        | 1389/10921 [15:12<2:05:02,  1.27it/s]"
     ]
    },
    {
     "name": "stdout",
     "output_type": "stream",
     "text": [
      "corr: [0.12774], r2: [-0.01425]\n",
      "Doing 1389: CDH11\n"
     ]
    },
    {
     "name": "stderr",
     "output_type": "stream",
     "text": [
      "Running elastic model with corum transcripts:  13%|█▎        | 1390/10921 [15:13<2:00:00,  1.32it/s]"
     ]
    },
    {
     "name": "stdout",
     "output_type": "stream",
     "text": [
      "corr: [0.73478], r2: [0.50257]\n",
      "Doing 1390: CDH13\n"
     ]
    },
    {
     "name": "stderr",
     "output_type": "stream",
     "text": [
      "Running elastic model with corum transcripts:  13%|█▎        | 1391/10921 [15:13<1:50:17,  1.44it/s]"
     ]
    },
    {
     "name": "stdout",
     "output_type": "stream",
     "text": [
      "corr: [0.19184], r2: [-0.15678]\n",
      "Doing 1391: CDH2\n"
     ]
    },
    {
     "name": "stderr",
     "output_type": "stream",
     "text": [
      "Running elastic model with corum transcripts:  13%|█▎        | 1392/10921 [15:14<1:53:16,  1.40it/s]"
     ]
    },
    {
     "name": "stdout",
     "output_type": "stream",
     "text": [
      "corr: [0.45736], r2: [-1.19548]\n",
      "Doing 1392: CDH3\n"
     ]
    },
    {
     "name": "stderr",
     "output_type": "stream",
     "text": [
      "Running elastic model with corum transcripts:  13%|█▎        | 1393/10921 [15:15<1:53:42,  1.40it/s]"
     ]
    },
    {
     "name": "stdout",
     "output_type": "stream",
     "text": [
      "corr: [0.35409], r2: [0.10829]\n",
      "Doing 1393: CDH5\n"
     ]
    },
    {
     "name": "stderr",
     "output_type": "stream",
     "text": [
      "Running elastic model with corum transcripts:  13%|█▎        | 1394/10921 [15:15<1:54:38,  1.39it/s]"
     ]
    },
    {
     "name": "stdout",
     "output_type": "stream",
     "text": [
      "corr: [0.35125], r2: [0.02504]\n",
      "Doing 1394: CDH6\n"
     ]
    },
    {
     "name": "stderr",
     "output_type": "stream",
     "text": [
      "Running elastic model with corum transcripts:  13%|█▎        | 1395/10921 [15:16<1:54:58,  1.38it/s]"
     ]
    },
    {
     "name": "stdout",
     "output_type": "stream",
     "text": [
      "corr: [0.78408], r2: [0.46712]\n",
      "Doing 1395: CDIPT\n"
     ]
    },
    {
     "name": "stderr",
     "output_type": "stream",
     "text": [
      "Running elastic model with corum transcripts:  13%|█▎        | 1396/10921 [15:17<1:51:53,  1.42it/s]"
     ]
    },
    {
     "name": "stdout",
     "output_type": "stream",
     "text": [
      "corr: [0.15455], r2: [-0.07779]\n",
      "Doing 1396: CDK1\n"
     ]
    },
    {
     "name": "stderr",
     "output_type": "stream",
     "text": [
      "Running elastic model with corum transcripts:  13%|█▎        | 1397/10921 [15:18<2:00:23,  1.32it/s]"
     ]
    },
    {
     "name": "stdout",
     "output_type": "stream",
     "text": [
      "corr: [0.60469], r2: [0.34584]\n",
      "Doing 1397: CDK11A\n"
     ]
    },
    {
     "name": "stderr",
     "output_type": "stream",
     "text": [
      "Running elastic model with corum transcripts:  13%|█▎        | 1398/10921 [15:18<1:58:23,  1.34it/s]"
     ]
    },
    {
     "name": "stdout",
     "output_type": "stream",
     "text": [
      "corr: [0.4259], r2: [0.07454]\n",
      "Doing 1398: CDK11B\n"
     ]
    },
    {
     "name": "stderr",
     "output_type": "stream",
     "text": [
      "Running elastic model with corum transcripts:  13%|█▎        | 1399/10921 [15:19<1:56:59,  1.36it/s]"
     ]
    },
    {
     "name": "stdout",
     "output_type": "stream",
     "text": [
      "corr: [0.33172], r2: [0.08619]\n",
      "Doing 1399: CDK12\n"
     ]
    },
    {
     "name": "stderr",
     "output_type": "stream",
     "text": [
      "/Applications/venv/CPTAC_Protein/lib/python3.9/site-packages/sklearn/linear_model/_coordinate_descent.py:631: ConvergenceWarning: Objective did not converge. You might want to increase the number of iterations. Duality gap: 0.11945712902981764, tolerance: 0.10807804342790903\n",
      "  model = cd_fast.enet_coordinate_descent_gram(\n",
      "/Applications/venv/CPTAC_Protein/lib/python3.9/site-packages/sklearn/linear_model/_coordinate_descent.py:631: ConvergenceWarning: Objective did not converge. You might want to increase the number of iterations. Duality gap: 0.1346642517387071, tolerance: 0.10807804342790903\n",
      "  model = cd_fast.enet_coordinate_descent_gram(\n",
      "/Applications/venv/CPTAC_Protein/lib/python3.9/site-packages/sklearn/linear_model/_coordinate_descent.py:631: ConvergenceWarning: Objective did not converge. You might want to increase the number of iterations. Duality gap: 0.1118805585786058, tolerance: 0.10807804342790903\n",
      "  model = cd_fast.enet_coordinate_descent_gram(\n",
      "/Applications/venv/CPTAC_Protein/lib/python3.9/site-packages/sklearn/linear_model/_coordinate_descent.py:631: ConvergenceWarning: Objective did not converge. You might want to increase the number of iterations. Duality gap: 0.11258971506919302, tolerance: 0.10807804342790903\n",
      "  model = cd_fast.enet_coordinate_descent_gram(\n",
      "Running elastic model with corum transcripts:  13%|█▎        | 1400/10921 [15:21<2:46:29,  1.05s/it]"
     ]
    },
    {
     "name": "stdout",
     "output_type": "stream",
     "text": [
      "corr: [0.56764], r2: [0.2963]\n",
      "Doing 1400: CDK13\n"
     ]
    },
    {
     "name": "stderr",
     "output_type": "stream",
     "text": [
      "Running elastic model with corum transcripts:  13%|█▎        | 1401/10921 [15:21<2:29:02,  1.06it/s]"
     ]
    },
    {
     "name": "stdout",
     "output_type": "stream",
     "text": [
      "corr: [0.09268], r2: [-0.03791]\n",
      "Doing 1401: CDK14\n"
     ]
    },
    {
     "name": "stderr",
     "output_type": "stream",
     "text": [
      "Running elastic model with corum transcripts:  13%|█▎        | 1402/10921 [15:22<2:27:13,  1.08it/s]"
     ]
    },
    {
     "name": "stdout",
     "output_type": "stream",
     "text": [
      "corr: [0.20971], r2: [-0.02085]\n",
      "Doing 1402: CDK16\n"
     ]
    },
    {
     "name": "stderr",
     "output_type": "stream",
     "text": [
      "Running elastic model with corum transcripts:  13%|█▎        | 1403/10921 [15:23<2:19:48,  1.13it/s]"
     ]
    },
    {
     "name": "stdout",
     "output_type": "stream",
     "text": [
      "corr: [0.42477], r2: [0.16333]\n",
      "Doing 1403: CDK17\n"
     ]
    },
    {
     "name": "stderr",
     "output_type": "stream",
     "text": [
      "Running elastic model with corum transcripts:  13%|█▎        | 1404/10921 [15:24<2:08:51,  1.23it/s]"
     ]
    },
    {
     "name": "stdout",
     "output_type": "stream",
     "text": [
      "corr: [0.34224], r2: [0.07318]\n",
      "Doing 1404: CDK18\n"
     ]
    },
    {
     "name": "stderr",
     "output_type": "stream",
     "text": [
      "Running elastic model with corum transcripts:  13%|█▎        | 1405/10921 [15:24<2:01:05,  1.31it/s]"
     ]
    },
    {
     "name": "stdout",
     "output_type": "stream",
     "text": [
      "corr: [0.42322], r2: [0.08514]\n",
      "Doing 1405: CDK19\n"
     ]
    },
    {
     "name": "stderr",
     "output_type": "stream",
     "text": [
      "Running elastic model with corum transcripts:  13%|█▎        | 1406/10921 [15:25<2:08:18,  1.24it/s]"
     ]
    },
    {
     "name": "stdout",
     "output_type": "stream",
     "text": [
      "corr: [0.51316], r2: [0.20908]\n",
      "Doing 1406: CDK2\n"
     ]
    },
    {
     "name": "stderr",
     "output_type": "stream",
     "text": [
      "Running elastic model with corum transcripts:  13%|█▎        | 1407/10921 [15:26<2:05:35,  1.26it/s]"
     ]
    },
    {
     "name": "stdout",
     "output_type": "stream",
     "text": [
      "corr: [0.53904], r2: [0.2887]\n",
      "Doing 1407: CDK2AP1\n"
     ]
    },
    {
     "name": "stderr",
     "output_type": "stream",
     "text": [
      "Running elastic model with corum transcripts:  13%|█▎        | 1408/10921 [15:27<2:01:48,  1.30it/s]"
     ]
    },
    {
     "name": "stdout",
     "output_type": "stream",
     "text": [
      "corr: [0.09687], r2: [-0.14456]\n",
      "Doing 1408: CDK2AP2\n"
     ]
    },
    {
     "name": "stderr",
     "output_type": "stream",
     "text": [
      "/Applications/venv/CPTAC_Protein/lib/python3.9/site-packages/numpy/lib/function_base.py:2691: RuntimeWarning: invalid value encountered in true_divide\n",
      "  c /= stddev[:, None]\n",
      "/Applications/venv/CPTAC_Protein/lib/python3.9/site-packages/numpy/lib/function_base.py:2692: RuntimeWarning: invalid value encountered in true_divide\n",
      "  c /= stddev[None, :]\n",
      "Running elastic model with corum transcripts:  13%|█▎        | 1409/10921 [15:27<1:56:02,  1.37it/s]"
     ]
    },
    {
     "name": "stdout",
     "output_type": "stream",
     "text": [
      "corr: [0], r2: [-0.38126]\n",
      "Doing 1409: CDK3\n"
     ]
    },
    {
     "name": "stderr",
     "output_type": "stream",
     "text": [
      "Running elastic model with corum transcripts:  13%|█▎        | 1410/10921 [15:28<1:51:28,  1.42it/s]"
     ]
    },
    {
     "name": "stdout",
     "output_type": "stream",
     "text": [
      "corr: [-0.40153], r2: [-0.00362]\n",
      "Doing 1410: CDK4\n"
     ]
    },
    {
     "name": "stderr",
     "output_type": "stream",
     "text": [
      "Running elastic model with corum transcripts:  13%|█▎        | 1411/10921 [15:29<1:56:36,  1.36it/s]"
     ]
    },
    {
     "name": "stdout",
     "output_type": "stream",
     "text": [
      "corr: [0.69651], r2: [0.28244]\n",
      "Doing 1411: CDK5\n"
     ]
    },
    {
     "name": "stderr",
     "output_type": "stream",
     "text": [
      "Running elastic model with corum transcripts:  13%|█▎        | 1412/10921 [15:30<2:01:12,  1.31it/s]"
     ]
    },
    {
     "name": "stdout",
     "output_type": "stream",
     "text": [
      "corr: [0.23679], r2: [0.01373]\n",
      "Doing 1412: CDK5RAP1\n"
     ]
    },
    {
     "name": "stderr",
     "output_type": "stream",
     "text": [
      "/Applications/venv/CPTAC_Protein/lib/python3.9/site-packages/numpy/lib/function_base.py:2691: RuntimeWarning: invalid value encountered in true_divide\n",
      "  c /= stddev[:, None]\n",
      "/Applications/venv/CPTAC_Protein/lib/python3.9/site-packages/numpy/lib/function_base.py:2692: RuntimeWarning: invalid value encountered in true_divide\n",
      "  c /= stddev[None, :]\n",
      "Running elastic model with corum transcripts:  13%|█▎        | 1413/10921 [15:30<1:57:29,  1.35it/s]"
     ]
    },
    {
     "name": "stdout",
     "output_type": "stream",
     "text": [
      "corr: [0], r2: [-0.04081]\n",
      "Doing 1413: CDK5RAP2\n"
     ]
    },
    {
     "name": "stderr",
     "output_type": "stream",
     "text": [
      "Running elastic model with corum transcripts:  13%|█▎        | 1414/10921 [15:31<1:51:56,  1.42it/s]"
     ]
    },
    {
     "name": "stdout",
     "output_type": "stream",
     "text": [
      "corr: [0.43803], r2: [0.18569]\n",
      "Doing 1414: CDK5RAP3\n"
     ]
    },
    {
     "name": "stderr",
     "output_type": "stream",
     "text": [
      "/Applications/venv/CPTAC_Protein/lib/python3.9/site-packages/numpy/lib/function_base.py:2691: RuntimeWarning: invalid value encountered in true_divide\n",
      "  c /= stddev[:, None]\n",
      "/Applications/venv/CPTAC_Protein/lib/python3.9/site-packages/numpy/lib/function_base.py:2692: RuntimeWarning: invalid value encountered in true_divide\n",
      "  c /= stddev[None, :]\n",
      "Running elastic model with corum transcripts:  13%|█▎        | 1415/10921 [15:32<1:47:48,  1.47it/s]"
     ]
    },
    {
     "name": "stdout",
     "output_type": "stream",
     "text": [
      "corr: [0], r2: [-0.38221]\n",
      "Doing 1415: CDK6\n"
     ]
    },
    {
     "name": "stderr",
     "output_type": "stream",
     "text": [
      "Running elastic model with corum transcripts:  13%|█▎        | 1416/10921 [15:32<1:48:33,  1.46it/s]"
     ]
    },
    {
     "name": "stdout",
     "output_type": "stream",
     "text": [
      "corr: [0.62564], r2: [0.21441]\n",
      "Doing 1416: CDK7\n"
     ]
    },
    {
     "name": "stderr",
     "output_type": "stream",
     "text": [
      "Running elastic model with corum transcripts:  13%|█▎        | 1417/10921 [15:33<1:57:17,  1.35it/s]"
     ]
    },
    {
     "name": "stdout",
     "output_type": "stream",
     "text": [
      "corr: [0.60187], r2: [0.25462]\n",
      "Doing 1417: CDK8\n"
     ]
    },
    {
     "name": "stderr",
     "output_type": "stream",
     "text": [
      "Running elastic model with corum transcripts:  13%|█▎        | 1418/10921 [15:34<2:04:20,  1.27it/s]"
     ]
    },
    {
     "name": "stdout",
     "output_type": "stream",
     "text": [
      "corr: [0.45463], r2: [0.16432]\n",
      "Doing 1418: CDK9\n"
     ]
    },
    {
     "name": "stderr",
     "output_type": "stream",
     "text": [
      "Running elastic model with corum transcripts:  13%|█▎        | 1419/10921 [15:35<2:05:46,  1.26it/s]"
     ]
    },
    {
     "name": "stdout",
     "output_type": "stream",
     "text": [
      "corr: [0.33464], r2: [0.10798]\n",
      "Doing 1419: CDKAL1\n"
     ]
    },
    {
     "name": "stderr",
     "output_type": "stream",
     "text": [
      "Running elastic model with corum transcripts:  13%|█▎        | 1420/10921 [15:36<1:58:31,  1.34it/s]"
     ]
    },
    {
     "name": "stdout",
     "output_type": "stream",
     "text": [
      "corr: [0.46177], r2: [0.0602]\n",
      "Doing 1420: CDKN1A\n"
     ]
    },
    {
     "name": "stderr",
     "output_type": "stream",
     "text": [
      "Running elastic model with corum transcripts:  13%|█▎        | 1421/10921 [15:36<2:00:12,  1.32it/s]"
     ]
    },
    {
     "name": "stdout",
     "output_type": "stream",
     "text": [
      "corr: [0.37482], r2: [-0.48952]\n",
      "Doing 1421: CDKN1B\n"
     ]
    },
    {
     "name": "stderr",
     "output_type": "stream",
     "text": [
      "Running elastic model with corum transcripts:  13%|█▎        | 1422/10921 [15:37<2:12:26,  1.20it/s]"
     ]
    },
    {
     "name": "stdout",
     "output_type": "stream",
     "text": [
      "corr: [0.62719], r2: [0.32835]\n",
      "Doing 1422: CDKN1C\n"
     ]
    },
    {
     "name": "stderr",
     "output_type": "stream",
     "text": [
      "Running elastic model with corum transcripts:  13%|█▎        | 1423/10921 [15:38<2:02:07,  1.30it/s]"
     ]
    },
    {
     "name": "stdout",
     "output_type": "stream",
     "text": [
      "corr: [0.5691], r2: [0.08776]\n",
      "Doing 1423: CDKN2A\n"
     ]
    },
    {
     "name": "stderr",
     "output_type": "stream",
     "text": [
      "Running elastic model with corum transcripts:  13%|█▎        | 1424/10921 [15:39<1:58:18,  1.34it/s]"
     ]
    },
    {
     "name": "stdout",
     "output_type": "stream",
     "text": [
      "corr: [0.6554], r2: [0.38546]\n",
      "Doing 1424: CDKN2AIP\n"
     ]
    },
    {
     "name": "stderr",
     "output_type": "stream",
     "text": [
      "Running elastic model with corum transcripts:  13%|█▎        | 1425/10921 [15:39<1:54:22,  1.38it/s]"
     ]
    },
    {
     "name": "stdout",
     "output_type": "stream",
     "text": [
      "corr: [0.55652], r2: [0.13042]\n",
      "Doing 1425: CDKN2AIPNL\n"
     ]
    },
    {
     "name": "stderr",
     "output_type": "stream",
     "text": [
      "/Applications/venv/CPTAC_Protein/lib/python3.9/site-packages/numpy/lib/function_base.py:2691: RuntimeWarning: invalid value encountered in true_divide\n",
      "  c /= stddev[:, None]\n",
      "/Applications/venv/CPTAC_Protein/lib/python3.9/site-packages/numpy/lib/function_base.py:2692: RuntimeWarning: invalid value encountered in true_divide\n",
      "  c /= stddev[None, :]\n",
      "Running elastic model with corum transcripts:  13%|█▎        | 1426/10921 [15:40<1:51:13,  1.42it/s]"
     ]
    },
    {
     "name": "stdout",
     "output_type": "stream",
     "text": [
      "corr: [0], r2: [-0.09114]\n",
      "Doing 1426: CDKN2C\n"
     ]
    },
    {
     "name": "stderr",
     "output_type": "stream",
     "text": [
      "Running elastic model with corum transcripts:  13%|█▎        | 1427/10921 [15:41<1:52:44,  1.40it/s]"
     ]
    },
    {
     "name": "stdout",
     "output_type": "stream",
     "text": [
      "corr: [0.20306], r2: [0.02731]\n",
      "Doing 1427: CDR2\n"
     ]
    },
    {
     "name": "stderr",
     "output_type": "stream",
     "text": [
      "Running elastic model with corum transcripts:  13%|█▎        | 1428/10921 [15:41<1:49:35,  1.44it/s]"
     ]
    },
    {
     "name": "stdout",
     "output_type": "stream",
     "text": [
      "corr: [0.099], r2: [-0.16519]\n",
      "Doing 1428: CDR2L\n"
     ]
    },
    {
     "name": "stderr",
     "output_type": "stream",
     "text": [
      "Running elastic model with corum transcripts:  13%|█▎        | 1429/10921 [15:42<1:44:43,  1.51it/s]"
     ]
    },
    {
     "name": "stdout",
     "output_type": "stream",
     "text": [
      "corr: [0.12662], r2: [-0.02175]\n",
      "Doing 1429: CDS1\n"
     ]
    },
    {
     "name": "stderr",
     "output_type": "stream",
     "text": [
      "Running elastic model with corum transcripts:  13%|█▎        | 1430/10921 [15:43<1:49:26,  1.45it/s]"
     ]
    },
    {
     "name": "stdout",
     "output_type": "stream",
     "text": [
      "corr: [0.29235], r2: [-0.00207]\n",
      "Doing 1430: CDS2\n"
     ]
    },
    {
     "name": "stderr",
     "output_type": "stream",
     "text": [
      "Running elastic model with corum transcripts:  13%|█▎        | 1431/10921 [15:43<1:45:07,  1.50it/s]"
     ]
    },
    {
     "name": "stdout",
     "output_type": "stream",
     "text": [
      "corr: [0.33981], r2: [0.00344]\n",
      "Doing 1431: CDV3\n"
     ]
    },
    {
     "name": "stderr",
     "output_type": "stream",
     "text": [
      "Running elastic model with corum transcripts:  13%|█▎        | 1432/10921 [15:44<1:50:17,  1.43it/s]"
     ]
    },
    {
     "name": "stdout",
     "output_type": "stream",
     "text": [
      "corr: [0.68349], r2: [0.44205]\n",
      "Doing 1432: CDYL\n"
     ]
    },
    {
     "name": "stderr",
     "output_type": "stream",
     "text": [
      "Running elastic model with corum transcripts:  13%|█▎        | 1433/10921 [15:45<1:55:29,  1.37it/s]"
     ]
    },
    {
     "name": "stdout",
     "output_type": "stream",
     "text": [
      "corr: [0.50034], r2: [0.22252]\n",
      "Doing 1433: CEACAM8\n"
     ]
    },
    {
     "name": "stderr",
     "output_type": "stream",
     "text": [
      "Running elastic model with corum transcripts:  13%|█▎        | 1434/10921 [15:46<1:50:44,  1.43it/s]"
     ]
    },
    {
     "name": "stdout",
     "output_type": "stream",
     "text": [
      "corr: [-0.38939], r2: [-0.05023]\n",
      "Doing 1434: CEBPA\n"
     ]
    },
    {
     "name": "stderr",
     "output_type": "stream",
     "text": [
      "Running elastic model with corum transcripts:  13%|█▎        | 1435/10921 [15:46<1:50:34,  1.43it/s]"
     ]
    },
    {
     "name": "stdout",
     "output_type": "stream",
     "text": [
      "corr: [0.40536], r2: [0.16209]\n",
      "Doing 1435: CEBPB\n"
     ]
    },
    {
     "name": "stderr",
     "output_type": "stream",
     "text": [
      "Running elastic model with corum transcripts:  13%|█▎        | 1436/10921 [15:47<1:50:04,  1.44it/s]"
     ]
    },
    {
     "name": "stdout",
     "output_type": "stream",
     "text": [
      "corr: [0.69307], r2: [0.34524]\n",
      "Doing 1436: CEBPG\n"
     ]
    },
    {
     "name": "stderr",
     "output_type": "stream",
     "text": [
      "Running elastic model with corum transcripts:  13%|█▎        | 1437/10921 [15:48<1:46:21,  1.49it/s]"
     ]
    },
    {
     "name": "stdout",
     "output_type": "stream",
     "text": [
      "corr: [0.64613], r2: [0.146]\n",
      "Doing 1437: CEBPZ\n"
     ]
    },
    {
     "name": "stderr",
     "output_type": "stream",
     "text": [
      "Running elastic model with corum transcripts:  13%|█▎        | 1438/10921 [15:48<1:45:40,  1.50it/s]"
     ]
    },
    {
     "name": "stdout",
     "output_type": "stream",
     "text": [
      "corr: [0.21264], r2: [-0.14794]\n",
      "Doing 1438: CELF1\n"
     ]
    },
    {
     "name": "stderr",
     "output_type": "stream",
     "text": [
      "Running elastic model with corum transcripts:  13%|█▎        | 1439/10921 [15:49<1:43:04,  1.53it/s]"
     ]
    },
    {
     "name": "stdout",
     "output_type": "stream",
     "text": [
      "corr: [0.46812], r2: [0.20267]\n",
      "Doing 1439: CELF2\n"
     ]
    },
    {
     "name": "stderr",
     "output_type": "stream",
     "text": [
      "Running elastic model with corum transcripts:  13%|█▎        | 1440/10921 [15:49<1:41:08,  1.56it/s]"
     ]
    },
    {
     "name": "stdout",
     "output_type": "stream",
     "text": [
      "corr: [0.56687], r2: [0.30654]\n",
      "Doing 1440: CELSR1\n"
     ]
    },
    {
     "name": "stderr",
     "output_type": "stream",
     "text": [
      "Running elastic model with corum transcripts:  13%|█▎        | 1441/10921 [15:50<1:45:11,  1.50it/s]"
     ]
    },
    {
     "name": "stdout",
     "output_type": "stream",
     "text": [
      "corr: [0.58831], r2: [0.3413]\n",
      "Doing 1441: CELSR2\n"
     ]
    },
    {
     "name": "stderr",
     "output_type": "stream",
     "text": [
      "Running elastic model with corum transcripts:  13%|█▎        | 1442/10921 [15:51<1:45:03,  1.50it/s]"
     ]
    },
    {
     "name": "stdout",
     "output_type": "stream",
     "text": [
      "corr: [0.51879], r2: [0.09211]\n",
      "Doing 1442: CELSR3\n"
     ]
    },
    {
     "name": "stderr",
     "output_type": "stream",
     "text": [
      "/Applications/venv/CPTAC_Protein/lib/python3.9/site-packages/numpy/lib/function_base.py:2691: RuntimeWarning: invalid value encountered in true_divide\n",
      "  c /= stddev[:, None]\n",
      "/Applications/venv/CPTAC_Protein/lib/python3.9/site-packages/numpy/lib/function_base.py:2692: RuntimeWarning: invalid value encountered in true_divide\n",
      "  c /= stddev[None, :]\n",
      "Running elastic model with corum transcripts:  13%|█▎        | 1443/10921 [15:51<1:41:19,  1.56it/s]"
     ]
    },
    {
     "name": "stdout",
     "output_type": "stream",
     "text": [
      "corr: [-0.], r2: [-0.12736]\n",
      "Doing 1443: CEMIP\n"
     ]
    },
    {
     "name": "stderr",
     "output_type": "stream",
     "text": [
      "Running elastic model with corum transcripts:  13%|█▎        | 1444/10921 [15:52<1:54:37,  1.38it/s]"
     ]
    },
    {
     "name": "stdout",
     "output_type": "stream",
     "text": [
      "corr: [0.50241], r2: [0.01647]\n",
      "Doing 1444: CENPB\n"
     ]
    },
    {
     "name": "stderr",
     "output_type": "stream",
     "text": [
      "Running elastic model with corum transcripts:  13%|█▎        | 1445/10921 [15:53<1:58:46,  1.33it/s]"
     ]
    },
    {
     "name": "stdout",
     "output_type": "stream",
     "text": [
      "corr: [0.41342], r2: [-0.09033]\n",
      "Doing 1445: CENPC\n"
     ]
    },
    {
     "name": "stderr",
     "output_type": "stream",
     "text": [
      "/Applications/venv/CPTAC_Protein/lib/python3.9/site-packages/numpy/lib/function_base.py:2691: RuntimeWarning: invalid value encountered in true_divide\n",
      "  c /= stddev[:, None]\n",
      "/Applications/venv/CPTAC_Protein/lib/python3.9/site-packages/numpy/lib/function_base.py:2692: RuntimeWarning: invalid value encountered in true_divide\n",
      "  c /= stddev[None, :]\n",
      "Running elastic model with corum transcripts:  13%|█▎        | 1446/10921 [15:54<2:07:33,  1.24it/s]"
     ]
    },
    {
     "name": "stdout",
     "output_type": "stream",
     "text": [
      "corr: [0], r2: [-0.00652]\n",
      "Doing 1446: CENPE\n"
     ]
    },
    {
     "name": "stderr",
     "output_type": "stream",
     "text": [
      "/Applications/venv/CPTAC_Protein/lib/python3.9/site-packages/numpy/lib/function_base.py:2691: RuntimeWarning: invalid value encountered in true_divide\n",
      "  c /= stddev[:, None]\n",
      "/Applications/venv/CPTAC_Protein/lib/python3.9/site-packages/numpy/lib/function_base.py:2692: RuntimeWarning: invalid value encountered in true_divide\n",
      "  c /= stddev[None, :]\n",
      "Running elastic model with corum transcripts:  13%|█▎        | 1447/10921 [15:55<2:02:10,  1.29it/s]"
     ]
    },
    {
     "name": "stdout",
     "output_type": "stream",
     "text": [
      "corr: [0], r2: [-0.20838]\n",
      "Doing 1447: CENPF\n"
     ]
    },
    {
     "name": "stderr",
     "output_type": "stream",
     "text": [
      "Running elastic model with corum transcripts:  13%|█▎        | 1448/10921 [15:55<1:56:56,  1.35it/s]"
     ]
    },
    {
     "name": "stdout",
     "output_type": "stream",
     "text": [
      "corr: [0.49913], r2: [-0.0337]\n",
      "Doing 1448: CENPH\n"
     ]
    },
    {
     "name": "stderr",
     "output_type": "stream",
     "text": [
      "Running elastic model with corum transcripts:  13%|█▎        | 1449/10921 [15:56<2:03:07,  1.28it/s]"
     ]
    },
    {
     "name": "stdout",
     "output_type": "stream",
     "text": [
      "corr: [0.76394], r2: [0.40127]\n",
      "Doing 1449: CENPI\n"
     ]
    },
    {
     "name": "stderr",
     "output_type": "stream",
     "text": [
      "/Applications/venv/CPTAC_Protein/lib/python3.9/site-packages/sklearn/linear_model/_coordinate_descent.py:631: ConvergenceWarning: Objective did not converge. You might want to increase the number of iterations. Duality gap: 0.006396894795742902, tolerance: 0.006324115907342874\n",
      "  model = cd_fast.enet_coordinate_descent_gram(\n",
      "/Applications/venv/CPTAC_Protein/lib/python3.9/site-packages/sklearn/linear_model/_coordinate_descent.py:631: ConvergenceWarning: Objective did not converge. You might want to increase the number of iterations. Duality gap: 0.008554358861287303, tolerance: 0.006324115907342874\n",
      "  model = cd_fast.enet_coordinate_descent_gram(\n",
      "/Applications/venv/CPTAC_Protein/lib/python3.9/site-packages/sklearn/linear_model/_coordinate_descent.py:631: ConvergenceWarning: Objective did not converge. You might want to increase the number of iterations. Duality gap: 0.010266364961562191, tolerance: 0.006324115907342874\n",
      "  model = cd_fast.enet_coordinate_descent_gram(\n",
      "/Applications/venv/CPTAC_Protein/lib/python3.9/site-packages/sklearn/linear_model/_coordinate_descent.py:631: ConvergenceWarning: Objective did not converge. You might want to increase the number of iterations. Duality gap: 0.006400060485877823, tolerance: 0.006324115907342874\n",
      "  model = cd_fast.enet_coordinate_descent_gram(\n",
      "/Applications/venv/CPTAC_Protein/lib/python3.9/site-packages/sklearn/linear_model/_coordinate_descent.py:631: ConvergenceWarning: Objective did not converge. You might want to increase the number of iterations. Duality gap: 0.0094965768198092, tolerance: 0.006324115907342874\n",
      "  model = cd_fast.enet_coordinate_descent_gram(\n",
      "/Applications/venv/CPTAC_Protein/lib/python3.9/site-packages/sklearn/linear_model/_coordinate_descent.py:631: ConvergenceWarning: Objective did not converge. You might want to increase the number of iterations. Duality gap: 0.009030256549773297, tolerance: 0.006324115907342874\n",
      "  model = cd_fast.enet_coordinate_descent_gram(\n",
      "/Applications/venv/CPTAC_Protein/lib/python3.9/site-packages/sklearn/linear_model/_coordinate_descent.py:631: ConvergenceWarning: Objective did not converge. You might want to increase the number of iterations. Duality gap: 0.006403894689749334, tolerance: 0.006324115907342874\n",
      "  model = cd_fast.enet_coordinate_descent_gram(\n",
      "/Applications/venv/CPTAC_Protein/lib/python3.9/site-packages/sklearn/linear_model/_coordinate_descent.py:631: ConvergenceWarning: Objective did not converge. You might want to increase the number of iterations. Duality gap: 0.00868358560018545, tolerance: 0.006324115907342874\n",
      "  model = cd_fast.enet_coordinate_descent_gram(\n",
      "/Applications/venv/CPTAC_Protein/lib/python3.9/site-packages/sklearn/linear_model/_coordinate_descent.py:631: ConvergenceWarning: Objective did not converge. You might want to increase the number of iterations. Duality gap: 0.0063613833078211, tolerance: 0.006324115907342874\n",
      "  model = cd_fast.enet_coordinate_descent_gram(\n",
      "/Applications/venv/CPTAC_Protein/lib/python3.9/site-packages/sklearn/linear_model/_coordinate_descent.py:631: ConvergenceWarning: Objective did not converge. You might want to increase the number of iterations. Duality gap: 0.00848317513295438, tolerance: 0.006324115907342874\n",
      "  model = cd_fast.enet_coordinate_descent_gram(\n",
      "/Applications/venv/CPTAC_Protein/lib/python3.9/site-packages/sklearn/linear_model/_coordinate_descent.py:631: ConvergenceWarning: Objective did not converge. You might want to increase the number of iterations. Duality gap: 0.006959331471538155, tolerance: 0.006324115907342874\n",
      "  model = cd_fast.enet_coordinate_descent_gram(\n",
      "/Applications/venv/CPTAC_Protein/lib/python3.9/site-packages/sklearn/linear_model/_coordinate_descent.py:631: ConvergenceWarning: Objective did not converge. You might want to increase the number of iterations. Duality gap: 0.010660079929960098, tolerance: 0.006324115907342874\n",
      "  model = cd_fast.enet_coordinate_descent_gram(\n",
      "/Applications/venv/CPTAC_Protein/lib/python3.9/site-packages/sklearn/linear_model/_coordinate_descent.py:631: ConvergenceWarning: Objective did not converge. You might want to increase the number of iterations. Duality gap: 0.012266788050855348, tolerance: 0.006324115907342874\n",
      "  model = cd_fast.enet_coordinate_descent_gram(\n",
      "/Applications/venv/CPTAC_Protein/lib/python3.9/site-packages/sklearn/linear_model/_coordinate_descent.py:631: ConvergenceWarning: Objective did not converge. You might want to increase the number of iterations. Duality gap: 0.00752332899602437, tolerance: 0.006324115907342874\n",
      "  model = cd_fast.enet_coordinate_descent_gram(\n",
      "/Applications/venv/CPTAC_Protein/lib/python3.9/site-packages/sklearn/linear_model/_coordinate_descent.py:631: ConvergenceWarning: Objective did not converge. You might want to increase the number of iterations. Duality gap: 0.014000788286252064, tolerance: 0.006324115907342874\n",
      "  model = cd_fast.enet_coordinate_descent_gram(\n",
      "/Applications/venv/CPTAC_Protein/lib/python3.9/site-packages/sklearn/linear_model/_coordinate_descent.py:631: ConvergenceWarning: Objective did not converge. You might want to increase the number of iterations. Duality gap: 0.013539291798471798, tolerance: 0.006324115907342874\n",
      "  model = cd_fast.enet_coordinate_descent_gram(\n",
      "/Applications/venv/CPTAC_Protein/lib/python3.9/site-packages/sklearn/linear_model/_coordinate_descent.py:631: ConvergenceWarning: Objective did not converge. You might want to increase the number of iterations. Duality gap: 0.00846291202757099, tolerance: 0.006324115907342874\n",
      "  model = cd_fast.enet_coordinate_descent_gram(\n",
      "/Applications/venv/CPTAC_Protein/lib/python3.9/site-packages/sklearn/linear_model/_coordinate_descent.py:631: ConvergenceWarning: Objective did not converge. You might want to increase the number of iterations. Duality gap: 0.012935829873271576, tolerance: 0.006324115907342874\n",
      "  model = cd_fast.enet_coordinate_descent_gram(\n",
      "/Applications/venv/CPTAC_Protein/lib/python3.9/site-packages/sklearn/linear_model/_coordinate_descent.py:631: ConvergenceWarning: Objective did not converge. You might want to increase the number of iterations. Duality gap: 0.009469050483057684, tolerance: 0.006324115907342874\n",
      "  model = cd_fast.enet_coordinate_descent_gram(\n",
      "/Applications/venv/CPTAC_Protein/lib/python3.9/site-packages/sklearn/linear_model/_coordinate_descent.py:631: ConvergenceWarning: Objective did not converge. You might want to increase the number of iterations. Duality gap: 0.009950317770605066, tolerance: 0.006324115907342874\n",
      "  model = cd_fast.enet_coordinate_descent_gram(\n",
      "/Applications/venv/CPTAC_Protein/lib/python3.9/site-packages/sklearn/linear_model/_coordinate_descent.py:631: ConvergenceWarning: Objective did not converge. You might want to increase the number of iterations. Duality gap: 0.010014995340890342, tolerance: 0.006324115907342874\n",
      "  model = cd_fast.enet_coordinate_descent_gram(\n",
      "/Applications/venv/CPTAC_Protein/lib/python3.9/site-packages/sklearn/linear_model/_coordinate_descent.py:631: ConvergenceWarning: Objective did not converge. You might want to increase the number of iterations. Duality gap: 0.009773082700507807, tolerance: 0.006324115907342874\n",
      "  model = cd_fast.enet_coordinate_descent_gram(\n",
      "/Applications/venv/CPTAC_Protein/lib/python3.9/site-packages/sklearn/linear_model/_coordinate_descent.py:631: ConvergenceWarning: Objective did not converge. You might want to increase the number of iterations. Duality gap: 0.009410609049766094, tolerance: 0.006324115907342874\n",
      "  model = cd_fast.enet_coordinate_descent_gram(\n",
      "/Applications/venv/CPTAC_Protein/lib/python3.9/site-packages/sklearn/linear_model/_coordinate_descent.py:631: ConvergenceWarning: Objective did not converge. You might want to increase the number of iterations. Duality gap: 0.009027873953157739, tolerance: 0.006324115907342874\n",
      "  model = cd_fast.enet_coordinate_descent_gram(\n",
      "/Applications/venv/CPTAC_Protein/lib/python3.9/site-packages/sklearn/linear_model/_coordinate_descent.py:631: ConvergenceWarning: Objective did not converge. You might want to increase the number of iterations. Duality gap: 0.008656844400595665, tolerance: 0.006324115907342874\n",
      "  model = cd_fast.enet_coordinate_descent_gram(\n",
      "/Applications/venv/CPTAC_Protein/lib/python3.9/site-packages/sklearn/linear_model/_coordinate_descent.py:631: ConvergenceWarning: Objective did not converge. You might want to increase the number of iterations. Duality gap: 0.008893091249331686, tolerance: 0.006324115907342874\n",
      "  model = cd_fast.enet_coordinate_descent_gram(\n",
      "/Applications/venv/CPTAC_Protein/lib/python3.9/site-packages/sklearn/linear_model/_coordinate_descent.py:631: ConvergenceWarning: Objective did not converge. You might want to increase the number of iterations. Duality gap: 0.011144470872991974, tolerance: 0.006324115907342874\n",
      "  model = cd_fast.enet_coordinate_descent_gram(\n",
      "Running elastic model with corum transcripts:  13%|█▎        | 1450/10921 [15:57<2:05:05,  1.26it/s]"
     ]
    },
    {
     "name": "stdout",
     "output_type": "stream",
     "text": [
      "corr: [0.30936], r2: [-0.12585]\n",
      "Doing 1450: CENPK\n"
     ]
    },
    {
     "name": "stderr",
     "output_type": "stream",
     "text": [
      "Running elastic model with corum transcripts:  13%|█▎        | 1451/10921 [15:58<1:58:53,  1.33it/s]"
     ]
    },
    {
     "name": "stdout",
     "output_type": "stream",
     "text": [
      "corr: [0.1472], r2: [-0.08265]\n",
      "Doing 1451: CENPL\n"
     ]
    },
    {
     "name": "stderr",
     "output_type": "stream",
     "text": [
      "/Applications/venv/CPTAC_Protein/lib/python3.9/site-packages/sklearn/linear_model/_coordinate_descent.py:631: ConvergenceWarning: Objective did not converge. You might want to increase the number of iterations. Duality gap: 0.03642427950429905, tolerance: 0.02010408433326781\n",
      "  model = cd_fast.enet_coordinate_descent_gram(\n",
      "/Applications/venv/CPTAC_Protein/lib/python3.9/site-packages/sklearn/linear_model/_coordinate_descent.py:631: ConvergenceWarning: Objective did not converge. You might want to increase the number of iterations. Duality gap: 0.03858027822479215, tolerance: 0.02010408433326781\n",
      "  model = cd_fast.enet_coordinate_descent_gram(\n",
      "/Applications/venv/CPTAC_Protein/lib/python3.9/site-packages/sklearn/linear_model/_coordinate_descent.py:631: ConvergenceWarning: Objective did not converge. You might want to increase the number of iterations. Duality gap: 0.021991592369122515, tolerance: 0.02010408433326781\n",
      "  model = cd_fast.enet_coordinate_descent_gram(\n",
      "/Applications/venv/CPTAC_Protein/lib/python3.9/site-packages/sklearn/linear_model/_coordinate_descent.py:631: ConvergenceWarning: Objective did not converge. You might want to increase the number of iterations. Duality gap: 0.03824188673232953, tolerance: 0.02010408433326781\n",
      "  model = cd_fast.enet_coordinate_descent_gram(\n",
      "/Applications/venv/CPTAC_Protein/lib/python3.9/site-packages/sklearn/linear_model/_coordinate_descent.py:631: ConvergenceWarning: Objective did not converge. You might want to increase the number of iterations. Duality gap: 0.0340345177447805, tolerance: 0.02010408433326781\n",
      "  model = cd_fast.enet_coordinate_descent_gram(\n",
      "/Applications/venv/CPTAC_Protein/lib/python3.9/site-packages/sklearn/linear_model/_coordinate_descent.py:631: ConvergenceWarning: Objective did not converge. You might want to increase the number of iterations. Duality gap: 0.021637254253462856, tolerance: 0.02010408433326781\n",
      "  model = cd_fast.enet_coordinate_descent_gram(\n",
      "/Applications/venv/CPTAC_Protein/lib/python3.9/site-packages/sklearn/linear_model/_coordinate_descent.py:631: ConvergenceWarning: Objective did not converge. You might want to increase the number of iterations. Duality gap: 0.04128399194189569, tolerance: 0.02010408433326781\n",
      "  model = cd_fast.enet_coordinate_descent_gram(\n",
      "/Applications/venv/CPTAC_Protein/lib/python3.9/site-packages/sklearn/linear_model/_coordinate_descent.py:631: ConvergenceWarning: Objective did not converge. You might want to increase the number of iterations. Duality gap: 0.03509110736265875, tolerance: 0.02010408433326781\n",
      "  model = cd_fast.enet_coordinate_descent_gram(\n",
      "/Applications/venv/CPTAC_Protein/lib/python3.9/site-packages/sklearn/linear_model/_coordinate_descent.py:631: ConvergenceWarning: Objective did not converge. You might want to increase the number of iterations. Duality gap: 0.03868870745280617, tolerance: 0.02010408433326781\n",
      "  model = cd_fast.enet_coordinate_descent_gram(\n",
      "/Applications/venv/CPTAC_Protein/lib/python3.9/site-packages/sklearn/linear_model/_coordinate_descent.py:631: ConvergenceWarning: Objective did not converge. You might want to increase the number of iterations. Duality gap: 0.041947579904942245, tolerance: 0.02010408433326781\n",
      "  model = cd_fast.enet_coordinate_descent_gram(\n",
      "Running elastic model with corum transcripts:  13%|█▎        | 1452/10921 [15:59<2:02:30,  1.29it/s]"
     ]
    },
    {
     "name": "stdout",
     "output_type": "stream",
     "text": [
      "corr: [0.40787], r2: [0.12555]\n",
      "Doing 1452: CENPN\n"
     ]
    },
    {
     "name": "stderr",
     "output_type": "stream",
     "text": [
      "Running elastic model with corum transcripts:  13%|█▎        | 1453/10921 [15:59<1:59:29,  1.32it/s]"
     ]
    },
    {
     "name": "stdout",
     "output_type": "stream",
     "text": [
      "corr: [0.37725], r2: [0.09921]\n",
      "Doing 1453: CENPU\n"
     ]
    },
    {
     "name": "stderr",
     "output_type": "stream",
     "text": [
      "Running elastic model with corum transcripts:  13%|█▎        | 1454/10921 [16:00<2:02:14,  1.29it/s]"
     ]
    },
    {
     "name": "stdout",
     "output_type": "stream",
     "text": [
      "corr: [0.39214], r2: [-0.14767]\n",
      "Doing 1454: CENPV\n"
     ]
    },
    {
     "name": "stderr",
     "output_type": "stream",
     "text": [
      "Running elastic model with corum transcripts:  13%|█▎        | 1455/10921 [16:01<2:00:31,  1.31it/s]"
     ]
    },
    {
     "name": "stdout",
     "output_type": "stream",
     "text": [
      "corr: [0.67893], r2: [0.38504]\n",
      "Doing 1455: CEP104\n"
     ]
    },
    {
     "name": "stderr",
     "output_type": "stream",
     "text": [
      "/Applications/venv/CPTAC_Protein/lib/python3.9/site-packages/numpy/lib/function_base.py:2691: RuntimeWarning: invalid value encountered in true_divide\n",
      "  c /= stddev[:, None]\n",
      "/Applications/venv/CPTAC_Protein/lib/python3.9/site-packages/numpy/lib/function_base.py:2692: RuntimeWarning: invalid value encountered in true_divide\n",
      "  c /= stddev[None, :]\n",
      "Running elastic model with corum transcripts:  13%|█▎        | 1456/10921 [16:02<1:56:40,  1.35it/s]"
     ]
    },
    {
     "name": "stdout",
     "output_type": "stream",
     "text": [
      "corr: [0], r2: [-0.00025]\n",
      "Doing 1456: CEP112\n"
     ]
    },
    {
     "name": "stderr",
     "output_type": "stream",
     "text": [
      "Running elastic model with corum transcripts:  13%|█▎        | 1457/10921 [16:02<1:49:41,  1.44it/s]"
     ]
    },
    {
     "name": "stdout",
     "output_type": "stream",
     "text": [
      "corr: [0.57512], r2: [0.29693]\n",
      "Doing 1457: CEP120\n"
     ]
    },
    {
     "name": "stderr",
     "output_type": "stream",
     "text": [
      "Running elastic model with corum transcripts:  13%|█▎        | 1458/10921 [16:03<1:48:16,  1.46it/s]"
     ]
    },
    {
     "name": "stdout",
     "output_type": "stream",
     "text": [
      "corr: [0.47588], r2: [0.17074]\n",
      "Doing 1458: CEP128\n"
     ]
    },
    {
     "name": "stderr",
     "output_type": "stream",
     "text": [
      "/Applications/venv/CPTAC_Protein/lib/python3.9/site-packages/numpy/lib/function_base.py:2691: RuntimeWarning: invalid value encountered in true_divide\n",
      "  c /= stddev[:, None]\n",
      "/Applications/venv/CPTAC_Protein/lib/python3.9/site-packages/numpy/lib/function_base.py:2692: RuntimeWarning: invalid value encountered in true_divide\n",
      "  c /= stddev[None, :]\n",
      "Running elastic model with corum transcripts:  13%|█▎        | 1459/10921 [16:04<1:46:06,  1.49it/s]"
     ]
    },
    {
     "name": "stdout",
     "output_type": "stream",
     "text": [
      "corr: [0], r2: [-0.00026]\n",
      "Doing 1459: CEP131\n"
     ]
    },
    {
     "name": "stderr",
     "output_type": "stream",
     "text": [
      "Running elastic model with corum transcripts:  13%|█▎        | 1460/10921 [16:04<1:45:57,  1.49it/s]"
     ]
    },
    {
     "name": "stdout",
     "output_type": "stream",
     "text": [
      "corr: [0.18014], r2: [-0.01237]\n",
      "Doing 1460: CEP135\n"
     ]
    },
    {
     "name": "stderr",
     "output_type": "stream",
     "text": [
      "Running elastic model with corum transcripts:  13%|█▎        | 1461/10921 [16:05<1:50:44,  1.42it/s]"
     ]
    },
    {
     "name": "stdout",
     "output_type": "stream",
     "text": [
      "corr: [0.3232], r2: [0.04197]\n",
      "Doing 1461: CEP164\n"
     ]
    },
    {
     "name": "stderr",
     "output_type": "stream",
     "text": [
      "Running elastic model with corum transcripts:  13%|█▎        | 1462/10921 [16:06<1:48:13,  1.46it/s]"
     ]
    },
    {
     "name": "stdout",
     "output_type": "stream",
     "text": [
      "corr: [-0.06148], r2: [-0.56527]\n",
      "Doing 1462: CEP170\n"
     ]
    },
    {
     "name": "stderr",
     "output_type": "stream",
     "text": [
      "Running elastic model with corum transcripts:  13%|█▎        | 1463/10921 [16:06<1:42:41,  1.54it/s]"
     ]
    },
    {
     "name": "stdout",
     "output_type": "stream",
     "text": [
      "corr: [0.23942], r2: [0.00434]\n",
      "Doing 1463: CEP170B\n"
     ]
    },
    {
     "name": "stderr",
     "output_type": "stream",
     "text": [
      "Running elastic model with corum transcripts:  13%|█▎        | 1464/10921 [16:07<1:47:09,  1.47it/s]"
     ]
    },
    {
     "name": "stdout",
     "output_type": "stream",
     "text": [
      "corr: [0.11339], r2: [0.00485]\n",
      "Doing 1464: CEP192\n"
     ]
    },
    {
     "name": "stderr",
     "output_type": "stream",
     "text": [
      "Running elastic model with corum transcripts:  13%|█▎        | 1465/10921 [16:08<1:50:57,  1.42it/s]"
     ]
    },
    {
     "name": "stdout",
     "output_type": "stream",
     "text": [
      "corr: [0.20116], r2: [0.03551]\n",
      "Doing 1465: CEP250\n"
     ]
    },
    {
     "name": "stderr",
     "output_type": "stream",
     "text": [
      "Running elastic model with corum transcripts:  13%|█▎        | 1466/10921 [16:08<1:47:31,  1.47it/s]"
     ]
    },
    {
     "name": "stdout",
     "output_type": "stream",
     "text": [
      "corr: [0.47369], r2: [0.19811]\n",
      "Doing 1466: CEP290\n"
     ]
    },
    {
     "name": "stderr",
     "output_type": "stream",
     "text": [
      "Running elastic model with corum transcripts:  13%|█▎        | 1467/10921 [16:09<1:47:15,  1.47it/s]"
     ]
    },
    {
     "name": "stdout",
     "output_type": "stream",
     "text": [
      "corr: [-0.12731], r2: [-0.07374]\n",
      "Doing 1467: CEP350\n"
     ]
    },
    {
     "name": "stderr",
     "output_type": "stream",
     "text": [
      "Running elastic model with corum transcripts:  13%|█▎        | 1468/10921 [16:10<1:45:57,  1.49it/s]"
     ]
    },
    {
     "name": "stdout",
     "output_type": "stream",
     "text": [
      "corr: [0.07351], r2: [0.00223]\n",
      "Doing 1468: CEP41\n"
     ]
    },
    {
     "name": "stderr",
     "output_type": "stream",
     "text": [
      "Running elastic model with corum transcripts:  13%|█▎        | 1469/10921 [16:10<1:43:50,  1.52it/s]"
     ]
    },
    {
     "name": "stdout",
     "output_type": "stream",
     "text": [
      "corr: [0.34782], r2: [0.06407]\n",
      "Doing 1469: CEP44\n"
     ]
    },
    {
     "name": "stderr",
     "output_type": "stream",
     "text": [
      "Running elastic model with corum transcripts:  13%|█▎        | 1470/10921 [16:11<1:42:12,  1.54it/s]"
     ]
    },
    {
     "name": "stdout",
     "output_type": "stream",
     "text": [
      "corr: [0.51278], r2: [0.115]\n",
      "Doing 1470: CEP55\n"
     ]
    },
    {
     "name": "stderr",
     "output_type": "stream",
     "text": [
      "Running elastic model with corum transcripts:  13%|█▎        | 1471/10921 [16:12<1:45:36,  1.49it/s]"
     ]
    },
    {
     "name": "stdout",
     "output_type": "stream",
     "text": [
      "corr: [0.3832], r2: [0.03734]\n",
      "Doing 1471: CEP57\n"
     ]
    },
    {
     "name": "stderr",
     "output_type": "stream",
     "text": [
      "Running elastic model with corum transcripts:  13%|█▎        | 1472/10921 [16:12<1:40:23,  1.57it/s]"
     ]
    },
    {
     "name": "stdout",
     "output_type": "stream",
     "text": [
      "corr: [0.37449], r2: [0.12169]\n",
      "Doing 1472: CEP63\n"
     ]
    },
    {
     "name": "stderr",
     "output_type": "stream",
     "text": [
      "Running elastic model with corum transcripts:  13%|█▎        | 1473/10921 [16:13<1:39:44,  1.58it/s]"
     ]
    },
    {
     "name": "stdout",
     "output_type": "stream",
     "text": [
      "corr: [0.48514], r2: [-0.04771]\n",
      "Doing 1473: CEP68\n"
     ]
    },
    {
     "name": "stderr",
     "output_type": "stream",
     "text": [
      "Running elastic model with corum transcripts:  13%|█▎        | 1474/10921 [16:13<1:41:53,  1.55it/s]"
     ]
    },
    {
     "name": "stdout",
     "output_type": "stream",
     "text": [
      "corr: [0.29348], r2: [0.0752]\n",
      "Doing 1474: CEP76\n"
     ]
    },
    {
     "name": "stderr",
     "output_type": "stream",
     "text": [
      "Running elastic model with corum transcripts:  14%|█▎        | 1475/10921 [16:14<1:43:32,  1.52it/s]"
     ]
    },
    {
     "name": "stdout",
     "output_type": "stream",
     "text": [
      "corr: [0.15561], r2: [-0.07611]\n",
      "Doing 1475: CEP78\n"
     ]
    },
    {
     "name": "stderr",
     "output_type": "stream",
     "text": [
      "Running elastic model with corum transcripts:  14%|█▎        | 1476/10921 [16:15<1:49:02,  1.44it/s]"
     ]
    },
    {
     "name": "stdout",
     "output_type": "stream",
     "text": [
      "corr: [0.42831], r2: [0.05031]\n",
      "Doing 1476: CEP85\n"
     ]
    },
    {
     "name": "stderr",
     "output_type": "stream",
     "text": [
      "Running elastic model with corum transcripts:  14%|█▎        | 1477/10921 [16:16<1:51:12,  1.42it/s]"
     ]
    },
    {
     "name": "stdout",
     "output_type": "stream",
     "text": [
      "corr: [0.13815], r2: [-0.251]\n",
      "Doing 1477: CEP89\n"
     ]
    },
    {
     "name": "stderr",
     "output_type": "stream",
     "text": [
      "Running elastic model with corum transcripts:  14%|█▎        | 1478/10921 [16:16<1:45:50,  1.49it/s]"
     ]
    },
    {
     "name": "stdout",
     "output_type": "stream",
     "text": [
      "corr: [0.37749], r2: [-0.02129]\n",
      "Doing 1478: CEP97\n"
     ]
    },
    {
     "name": "stderr",
     "output_type": "stream",
     "text": [
      "Running elastic model with corum transcripts:  14%|█▎        | 1479/10921 [16:17<1:43:51,  1.52it/s]"
     ]
    },
    {
     "name": "stdout",
     "output_type": "stream",
     "text": [
      "corr: [0.57399], r2: [0.20115]\n",
      "Doing 1479: CEPT1\n"
     ]
    },
    {
     "name": "stderr",
     "output_type": "stream",
     "text": [
      "Running elastic model with corum transcripts:  14%|█▎        | 1480/10921 [16:18<1:46:04,  1.48it/s]"
     ]
    },
    {
     "name": "stdout",
     "output_type": "stream",
     "text": [
      "corr: [0.68163], r2: [0.02701]\n",
      "Doing 1480: CERCAM\n"
     ]
    },
    {
     "name": "stderr",
     "output_type": "stream",
     "text": [
      "Running elastic model with corum transcripts:  14%|█▎        | 1481/10921 [16:18<1:44:29,  1.51it/s]"
     ]
    },
    {
     "name": "stdout",
     "output_type": "stream",
     "text": [
      "corr: [0.46498], r2: [0.12144]\n",
      "Doing 1481: CERS2\n"
     ]
    },
    {
     "name": "stderr",
     "output_type": "stream",
     "text": [
      "Running elastic model with corum transcripts:  14%|█▎        | 1482/10921 [16:19<1:41:55,  1.54it/s]"
     ]
    },
    {
     "name": "stdout",
     "output_type": "stream",
     "text": [
      "corr: [0.32827], r2: [0.01604]\n",
      "Doing 1482: CERS4\n"
     ]
    },
    {
     "name": "stderr",
     "output_type": "stream",
     "text": [
      "Running elastic model with corum transcripts:  14%|█▎        | 1483/10921 [16:20<1:42:35,  1.53it/s]"
     ]
    },
    {
     "name": "stdout",
     "output_type": "stream",
     "text": [
      "corr: [0.45371], r2: [0.05911]\n",
      "Doing 1483: CERS5\n"
     ]
    },
    {
     "name": "stderr",
     "output_type": "stream",
     "text": [
      "/Applications/venv/CPTAC_Protein/lib/python3.9/site-packages/numpy/lib/function_base.py:2691: RuntimeWarning: invalid value encountered in true_divide\n",
      "  c /= stddev[:, None]\n",
      "/Applications/venv/CPTAC_Protein/lib/python3.9/site-packages/numpy/lib/function_base.py:2692: RuntimeWarning: invalid value encountered in true_divide\n",
      "  c /= stddev[None, :]\n",
      "Running elastic model with corum transcripts:  14%|█▎        | 1484/10921 [16:20<1:40:34,  1.56it/s]"
     ]
    },
    {
     "name": "stdout",
     "output_type": "stream",
     "text": [
      "corr: [0], r2: [-0.12802]\n",
      "Doing 1484: CERS6\n"
     ]
    },
    {
     "name": "stderr",
     "output_type": "stream",
     "text": [
      "Running elastic model with corum transcripts:  14%|█▎        | 1485/10921 [16:21<1:40:37,  1.56it/s]"
     ]
    },
    {
     "name": "stdout",
     "output_type": "stream",
     "text": [
      "corr: [0.36826], r2: [0.09481]\n",
      "Doing 1485: CES1\n"
     ]
    },
    {
     "name": "stderr",
     "output_type": "stream",
     "text": [
      "Running elastic model with corum transcripts:  14%|█▎        | 1486/10921 [16:21<1:41:14,  1.55it/s]"
     ]
    },
    {
     "name": "stdout",
     "output_type": "stream",
     "text": [
      "corr: [0.73398], r2: [0.2672]\n",
      "Doing 1486: CES2\n"
     ]
    },
    {
     "name": "stderr",
     "output_type": "stream",
     "text": [
      "Running elastic model with corum transcripts:  14%|█▎        | 1487/10921 [16:22<1:46:37,  1.47it/s]"
     ]
    },
    {
     "name": "stdout",
     "output_type": "stream",
     "text": [
      "corr: [0.23038], r2: [0.01754]\n",
      "Doing 1487: CES3\n"
     ]
    },
    {
     "name": "stderr",
     "output_type": "stream",
     "text": [
      "Running elastic model with corum transcripts:  14%|█▎        | 1488/10921 [16:23<1:48:40,  1.45it/s]"
     ]
    },
    {
     "name": "stdout",
     "output_type": "stream",
     "text": [
      "corr: [0.51601], r2: [-0.11193]\n",
      "Doing 1488: CETN2\n"
     ]
    },
    {
     "name": "stderr",
     "output_type": "stream",
     "text": [
      "Running elastic model with corum transcripts:  14%|█▎        | 1489/10921 [16:24<1:45:03,  1.50it/s]"
     ]
    },
    {
     "name": "stdout",
     "output_type": "stream",
     "text": [
      "corr: [0.4959], r2: [0.21753]\n",
      "Doing 1489: CETN3\n"
     ]
    },
    {
     "name": "stderr",
     "output_type": "stream",
     "text": [
      "Running elastic model with corum transcripts:  14%|█▎        | 1490/10921 [16:24<1:41:27,  1.55it/s]"
     ]
    },
    {
     "name": "stdout",
     "output_type": "stream",
     "text": [
      "corr: [0.50432], r2: [0.22511]\n",
      "Doing 1490: CETP\n"
     ]
    },
    {
     "name": "stderr",
     "output_type": "stream",
     "text": [
      "Running elastic model with corum transcripts:  14%|█▎        | 1491/10921 [16:25<1:43:24,  1.52it/s]"
     ]
    },
    {
     "name": "stdout",
     "output_type": "stream",
     "text": [
      "corr: [0.15979], r2: [-0.03022]\n",
      "Doing 1491: CFB\n"
     ]
    },
    {
     "name": "stderr",
     "output_type": "stream",
     "text": [
      "Running elastic model with corum transcripts:  14%|█▎        | 1492/10921 [16:25<1:43:29,  1.52it/s]"
     ]
    },
    {
     "name": "stdout",
     "output_type": "stream",
     "text": [
      "corr: [0.48709], r2: [-0.20394]\n",
      "Doing 1492: CFD\n"
     ]
    },
    {
     "name": "stderr",
     "output_type": "stream",
     "text": [
      "Running elastic model with corum transcripts:  14%|█▎        | 1493/10921 [16:26<1:40:41,  1.56it/s]"
     ]
    },
    {
     "name": "stdout",
     "output_type": "stream",
     "text": [
      "corr: [0.74857], r2: [0.01685]\n",
      "Doing 1493: CFDP1\n"
     ]
    },
    {
     "name": "stderr",
     "output_type": "stream",
     "text": [
      "Running elastic model with corum transcripts:  14%|█▎        | 1494/10921 [16:27<1:37:17,  1.61it/s]"
     ]
    },
    {
     "name": "stdout",
     "output_type": "stream",
     "text": [
      "corr: [0.42286], r2: [-0.12199]\n",
      "Doing 1494: CFH\n"
     ]
    },
    {
     "name": "stderr",
     "output_type": "stream",
     "text": [
      "Running elastic model with corum transcripts:  14%|█▎        | 1495/10921 [16:27<1:41:39,  1.55it/s]"
     ]
    },
    {
     "name": "stdout",
     "output_type": "stream",
     "text": [
      "corr: [0.53577], r2: [0.04718]\n",
      "Doing 1495: CFHR1\n"
     ]
    },
    {
     "name": "stderr",
     "output_type": "stream",
     "text": [
      "Running elastic model with corum transcripts:  14%|█▎        | 1496/10921 [16:28<1:38:10,  1.60it/s]"
     ]
    },
    {
     "name": "stdout",
     "output_type": "stream",
     "text": [
      "corr: [0.43442], r2: [-0.05522]\n",
      "Doing 1496: CFHR2\n"
     ]
    },
    {
     "name": "stderr",
     "output_type": "stream",
     "text": [
      "Running elastic model with corum transcripts:  14%|█▎        | 1497/10921 [16:29<1:39:49,  1.57it/s]"
     ]
    },
    {
     "name": "stdout",
     "output_type": "stream",
     "text": [
      "corr: [0.02461], r2: [-0.07384]\n",
      "Doing 1497: CFHR3\n"
     ]
    },
    {
     "name": "stderr",
     "output_type": "stream",
     "text": [
      "Running elastic model with corum transcripts:  14%|█▎        | 1498/10921 [16:29<1:53:28,  1.38it/s]"
     ]
    },
    {
     "name": "stdout",
     "output_type": "stream",
     "text": [
      "corr: [0.35047], r2: [0.09814]\n",
      "Doing 1498: CFHR4\n"
     ]
    },
    {
     "name": "stderr",
     "output_type": "stream",
     "text": [
      "Running elastic model with corum transcripts:  14%|█▎        | 1499/10921 [16:30<1:49:37,  1.43it/s]"
     ]
    },
    {
     "name": "stdout",
     "output_type": "stream",
     "text": [
      "corr: [0.00212], r2: [-0.20341]\n",
      "Doing 1499: CFHR5\n"
     ]
    },
    {
     "name": "stderr",
     "output_type": "stream",
     "text": [
      "Running elastic model with corum transcripts:  14%|█▎        | 1500/10921 [16:31<1:49:20,  1.44it/s]"
     ]
    },
    {
     "name": "stdout",
     "output_type": "stream",
     "text": [
      "corr: [0.03444], r2: [-0.0235]\n",
      "Doing 1500: CFI\n"
     ]
    },
    {
     "name": "stderr",
     "output_type": "stream",
     "text": [
      "Running elastic model with corum transcripts:  14%|█▎        | 1501/10921 [16:31<1:42:52,  1.53it/s]"
     ]
    },
    {
     "name": "stdout",
     "output_type": "stream",
     "text": [
      "corr: [0.52671], r2: [0.00485]\n",
      "Doing 1501: CFL1\n"
     ]
    },
    {
     "name": "stderr",
     "output_type": "stream",
     "text": [
      "Running elastic model with corum transcripts:  14%|█▍        | 1502/10921 [16:32<1:41:38,  1.54it/s]"
     ]
    },
    {
     "name": "stdout",
     "output_type": "stream",
     "text": [
      "corr: [0.42044], r2: [0.11966]\n",
      "Doing 1502: CFL2\n"
     ]
    },
    {
     "name": "stderr",
     "output_type": "stream",
     "text": [
      "Running elastic model with corum transcripts:  14%|█▍        | 1503/10921 [16:33<1:42:41,  1.53it/s]"
     ]
    },
    {
     "name": "stdout",
     "output_type": "stream",
     "text": [
      "corr: [0.34194], r2: [0.03109]\n",
      "Doing 1503: CFP\n"
     ]
    },
    {
     "name": "stderr",
     "output_type": "stream",
     "text": [
      "Running elastic model with corum transcripts:  14%|█▍        | 1504/10921 [16:33<1:37:19,  1.61it/s]"
     ]
    },
    {
     "name": "stdout",
     "output_type": "stream",
     "text": [
      "corr: [0.05156], r2: [-0.03536]\n",
      "Doing 1504: CGGBP1\n"
     ]
    },
    {
     "name": "stderr",
     "output_type": "stream",
     "text": [
      "Running elastic model with corum transcripts:  14%|█▍        | 1505/10921 [16:34<1:40:17,  1.56it/s]"
     ]
    },
    {
     "name": "stdout",
     "output_type": "stream",
     "text": [
      "corr: [0.43035], r2: [0.14277]\n",
      "Doing 1505: CGN\n"
     ]
    },
    {
     "name": "stderr",
     "output_type": "stream",
     "text": [
      "Running elastic model with corum transcripts:  14%|█▍        | 1506/10921 [16:35<1:42:08,  1.54it/s]"
     ]
    },
    {
     "name": "stdout",
     "output_type": "stream",
     "text": [
      "corr: [0.65183], r2: [0.2675]\n",
      "Doing 1506: CGNL1\n"
     ]
    },
    {
     "name": "stderr",
     "output_type": "stream",
     "text": [
      "Running elastic model with corum transcripts:  14%|█▍        | 1507/10921 [16:35<1:38:05,  1.60it/s]"
     ]
    },
    {
     "name": "stdout",
     "output_type": "stream",
     "text": [
      "corr: [0.70008], r2: [0.46464]\n",
      "Doing 1507: CGREF1\n"
     ]
    },
    {
     "name": "stderr",
     "output_type": "stream",
     "text": [
      "Running elastic model with corum transcripts:  14%|█▍        | 1508/10921 [16:36<1:45:51,  1.48it/s]"
     ]
    },
    {
     "name": "stdout",
     "output_type": "stream",
     "text": [
      "corr: [0.42303], r2: [0.16434]\n",
      "Doing 1508: CHAC2\n"
     ]
    },
    {
     "name": "stderr",
     "output_type": "stream",
     "text": [
      "Running elastic model with corum transcripts:  14%|█▍        | 1509/10921 [16:37<1:43:11,  1.52it/s]"
     ]
    },
    {
     "name": "stdout",
     "output_type": "stream",
     "text": [
      "corr: [0.56466], r2: [-0.83329]\n",
      "Doing 1509: CHAF1A\n"
     ]
    },
    {
     "name": "stderr",
     "output_type": "stream",
     "text": [
      "Running elastic model with corum transcripts:  14%|█▍        | 1510/10921 [16:37<1:49:54,  1.43it/s]"
     ]
    },
    {
     "name": "stdout",
     "output_type": "stream",
     "text": [
      "corr: [0.63114], r2: [0.32437]\n",
      "Doing 1510: CHAF1B\n"
     ]
    },
    {
     "name": "stderr",
     "output_type": "stream",
     "text": [
      "Running elastic model with corum transcripts:  14%|█▍        | 1511/10921 [16:38<1:50:51,  1.41it/s]"
     ]
    },
    {
     "name": "stdout",
     "output_type": "stream",
     "text": [
      "corr: [0.67421], r2: [0.40738]\n",
      "Doing 1511: CHAMP1\n"
     ]
    },
    {
     "name": "stderr",
     "output_type": "stream",
     "text": [
      "Running elastic model with corum transcripts:  14%|█▍        | 1512/10921 [16:39<1:49:49,  1.43it/s]"
     ]
    },
    {
     "name": "stdout",
     "output_type": "stream",
     "text": [
      "corr: [0.55227], r2: [0.18425]\n",
      "Doing 1512: CHCHD1\n"
     ]
    },
    {
     "name": "stderr",
     "output_type": "stream",
     "text": [
      "/Applications/venv/CPTAC_Protein/lib/python3.9/site-packages/numpy/lib/function_base.py:2691: RuntimeWarning: invalid value encountered in true_divide\n",
      "  c /= stddev[:, None]\n",
      "/Applications/venv/CPTAC_Protein/lib/python3.9/site-packages/numpy/lib/function_base.py:2692: RuntimeWarning: invalid value encountered in true_divide\n",
      "  c /= stddev[None, :]\n",
      "Running elastic model with corum transcripts:  14%|█▍        | 1513/10921 [16:39<1:46:57,  1.47it/s]"
     ]
    },
    {
     "name": "stdout",
     "output_type": "stream",
     "text": [
      "corr: [0], r2: [-0.00792]\n",
      "Doing 1513: CHCHD10\n"
     ]
    },
    {
     "name": "stderr",
     "output_type": "stream",
     "text": [
      "Running elastic model with corum transcripts:  14%|█▍        | 1514/10921 [16:40<1:42:16,  1.53it/s]"
     ]
    },
    {
     "name": "stdout",
     "output_type": "stream",
     "text": [
      "corr: [0.22507], r2: [-0.01566]\n",
      "Doing 1514: CHCHD2\n"
     ]
    },
    {
     "name": "stderr",
     "output_type": "stream",
     "text": [
      "Running elastic model with corum transcripts:  14%|█▍        | 1515/10921 [16:41<1:44:18,  1.50it/s]"
     ]
    },
    {
     "name": "stdout",
     "output_type": "stream",
     "text": [
      "corr: [0.45708], r2: [-0.22467]\n",
      "Doing 1515: CHCHD3\n"
     ]
    },
    {
     "name": "stderr",
     "output_type": "stream",
     "text": [
      "Running elastic model with corum transcripts:  14%|█▍        | 1516/10921 [16:41<1:48:01,  1.45it/s]"
     ]
    },
    {
     "name": "stdout",
     "output_type": "stream",
     "text": [
      "corr: [-0.21036], r2: [-0.09388]\n",
      "Doing 1516: CHCHD4\n"
     ]
    },
    {
     "name": "stderr",
     "output_type": "stream",
     "text": [
      "Running elastic model with corum transcripts:  14%|█▍        | 1517/10921 [16:42<1:41:40,  1.54it/s]"
     ]
    },
    {
     "name": "stdout",
     "output_type": "stream",
     "text": [
      "corr: [0.46634], r2: [0.11703]\n",
      "Doing 1517: CHCHD5\n"
     ]
    },
    {
     "name": "stderr",
     "output_type": "stream",
     "text": [
      "Running elastic model with corum transcripts:  14%|█▍        | 1518/10921 [16:43<1:42:28,  1.53it/s]"
     ]
    },
    {
     "name": "stdout",
     "output_type": "stream",
     "text": [
      "corr: [0.13097], r2: [-0.10767]\n",
      "Doing 1518: CHCHD6\n"
     ]
    },
    {
     "name": "stderr",
     "output_type": "stream",
     "text": [
      "Running elastic model with corum transcripts:  14%|█▍        | 1519/10921 [16:43<1:46:29,  1.47it/s]"
     ]
    },
    {
     "name": "stdout",
     "output_type": "stream",
     "text": [
      "corr: [0.42675], r2: [0.09547]\n",
      "Doing 1519: CHCHD7\n"
     ]
    },
    {
     "name": "stderr",
     "output_type": "stream",
     "text": [
      "Running elastic model with corum transcripts:  14%|█▍        | 1520/10921 [16:44<1:49:43,  1.43it/s]"
     ]
    },
    {
     "name": "stdout",
     "output_type": "stream",
     "text": [
      "corr: [0.57933], r2: [0.27141]\n",
      "Doing 1520: CHD1\n"
     ]
    },
    {
     "name": "stderr",
     "output_type": "stream",
     "text": [
      "Running elastic model with corum transcripts:  14%|█▍        | 1521/10921 [16:45<1:49:44,  1.43it/s]"
     ]
    },
    {
     "name": "stdout",
     "output_type": "stream",
     "text": [
      "corr: [0.70279], r2: [0.2101]\n",
      "Doing 1521: CHD1L\n"
     ]
    },
    {
     "name": "stderr",
     "output_type": "stream",
     "text": [
      "Running elastic model with corum transcripts:  14%|█▍        | 1522/10921 [16:45<1:44:36,  1.50it/s]"
     ]
    },
    {
     "name": "stdout",
     "output_type": "stream",
     "text": [
      "corr: [0.44543], r2: [0.19085]\n",
      "Doing 1522: CHD2\n"
     ]
    },
    {
     "name": "stderr",
     "output_type": "stream",
     "text": [
      "Running elastic model with corum transcripts:  14%|█▍        | 1523/10921 [16:46<1:43:12,  1.52it/s]"
     ]
    },
    {
     "name": "stdout",
     "output_type": "stream",
     "text": [
      "corr: [0.00412], r2: [-0.04627]\n",
      "Doing 1523: CHD3\n"
     ]
    },
    {
     "name": "stderr",
     "output_type": "stream",
     "text": [
      "Running elastic model with corum transcripts:  14%|█▍        | 1524/10921 [16:47<1:52:38,  1.39it/s]"
     ]
    },
    {
     "name": "stdout",
     "output_type": "stream",
     "text": [
      "corr: [0.57954], r2: [0.32172]\n",
      "Doing 1524: CHD4\n"
     ]
    },
    {
     "name": "stderr",
     "output_type": "stream",
     "text": [
      "Running elastic model with corum transcripts:  14%|█▍        | 1525/10921 [16:48<1:58:09,  1.33it/s]"
     ]
    },
    {
     "name": "stdout",
     "output_type": "stream",
     "text": [
      "corr: [0.49834], r2: [0.2238]\n",
      "Doing 1525: CHD5\n"
     ]
    },
    {
     "name": "stderr",
     "output_type": "stream",
     "text": [
      "/Applications/venv/CPTAC_Protein/lib/python3.9/site-packages/numpy/lib/function_base.py:2691: RuntimeWarning: invalid value encountered in true_divide\n",
      "  c /= stddev[:, None]\n",
      "/Applications/venv/CPTAC_Protein/lib/python3.9/site-packages/numpy/lib/function_base.py:2692: RuntimeWarning: invalid value encountered in true_divide\n",
      "  c /= stddev[None, :]\n",
      "Running elastic model with corum transcripts:  14%|█▍        | 1526/10921 [16:48<1:54:08,  1.37it/s]"
     ]
    },
    {
     "name": "stdout",
     "output_type": "stream",
     "text": [
      "corr: [0], r2: [-0.01864]\n",
      "Doing 1526: CHD6\n"
     ]
    },
    {
     "name": "stderr",
     "output_type": "stream",
     "text": [
      "Running elastic model with corum transcripts:  14%|█▍        | 1527/10921 [16:49<1:50:35,  1.42it/s]"
     ]
    },
    {
     "name": "stdout",
     "output_type": "stream",
     "text": [
      "corr: [0.34491], r2: [0.09476]\n",
      "Doing 1527: CHD7\n"
     ]
    },
    {
     "name": "stderr",
     "output_type": "stream",
     "text": [
      "Running elastic model with corum transcripts:  14%|█▍        | 1528/10921 [16:50<1:45:25,  1.48it/s]"
     ]
    },
    {
     "name": "stdout",
     "output_type": "stream",
     "text": [
      "corr: [0.40931], r2: [0.1204]\n",
      "Doing 1528: CHD8\n"
     ]
    },
    {
     "name": "stderr",
     "output_type": "stream",
     "text": [
      "Running elastic model with corum transcripts:  14%|█▍        | 1529/10921 [16:51<1:54:42,  1.36it/s]"
     ]
    },
    {
     "name": "stdout",
     "output_type": "stream",
     "text": [
      "corr: [0.20219], r2: [-0.59409]\n",
      "Doing 1529: CHD9\n"
     ]
    },
    {
     "name": "stderr",
     "output_type": "stream",
     "text": [
      "Running elastic model with corum transcripts:  14%|█▍        | 1530/10921 [16:51<1:56:12,  1.35it/s]"
     ]
    },
    {
     "name": "stdout",
     "output_type": "stream",
     "text": [
      "corr: [0.15625], r2: [0.01282]\n",
      "Doing 1530: CHDH\n"
     ]
    },
    {
     "name": "stderr",
     "output_type": "stream",
     "text": [
      "Running elastic model with corum transcripts:  14%|█▍        | 1531/10921 [16:52<1:51:41,  1.40it/s]"
     ]
    },
    {
     "name": "stdout",
     "output_type": "stream",
     "text": [
      "corr: [0.52353], r2: [0.23701]\n",
      "Doing 1531: CHEK1\n"
     ]
    },
    {
     "name": "stderr",
     "output_type": "stream",
     "text": [
      "Running elastic model with corum transcripts:  14%|█▍        | 1532/10921 [16:53<1:50:53,  1.41it/s]"
     ]
    },
    {
     "name": "stdout",
     "output_type": "stream",
     "text": [
      "corr: [0.66567], r2: [0.22408]\n",
      "Doing 1532: CHEK2\n"
     ]
    },
    {
     "name": "stderr",
     "output_type": "stream",
     "text": [
      "Running elastic model with corum transcripts:  14%|█▍        | 1533/10921 [16:53<1:53:15,  1.38it/s]"
     ]
    },
    {
     "name": "stdout",
     "output_type": "stream",
     "text": [
      "corr: [0.50117], r2: [0.19185]\n",
      "Doing 1533: CHERP\n"
     ]
    },
    {
     "name": "stderr",
     "output_type": "stream",
     "text": [
      "Running elastic model with corum transcripts:  14%|█▍        | 1534/10921 [16:54<1:58:44,  1.32it/s]"
     ]
    },
    {
     "name": "stdout",
     "output_type": "stream",
     "text": [
      "corr: [0.29103], r2: [-0.31901]\n",
      "Doing 1534: CHGA\n"
     ]
    },
    {
     "name": "stderr",
     "output_type": "stream",
     "text": [
      "Running elastic model with corum transcripts:  14%|█▍        | 1535/10921 [16:55<1:50:50,  1.41it/s]"
     ]
    },
    {
     "name": "stdout",
     "output_type": "stream",
     "text": [
      "corr: [0.13359], r2: [-0.50314]\n",
      "Doing 1535: CHGB\n"
     ]
    },
    {
     "name": "stderr",
     "output_type": "stream",
     "text": [
      "Running elastic model with corum transcripts:  14%|█▍        | 1536/10921 [16:56<1:53:57,  1.37it/s]"
     ]
    },
    {
     "name": "stdout",
     "output_type": "stream",
     "text": [
      "corr: [0.05606], r2: [-4.13171]\n",
      "Doing 1536: CHI3L1\n"
     ]
    },
    {
     "name": "stderr",
     "output_type": "stream",
     "text": [
      "Running elastic model with corum transcripts:  14%|█▍        | 1537/10921 [16:56<1:51:06,  1.41it/s]"
     ]
    },
    {
     "name": "stdout",
     "output_type": "stream",
     "text": [
      "corr: [0.56635], r2: [0.19709]\n",
      "Doing 1537: CHID1\n"
     ]
    },
    {
     "name": "stderr",
     "output_type": "stream",
     "text": [
      "Running elastic model with corum transcripts:  14%|█▍        | 1538/10921 [16:57<1:44:59,  1.49it/s]"
     ]
    },
    {
     "name": "stdout",
     "output_type": "stream",
     "text": [
      "corr: [0.08532], r2: [-0.07232]\n",
      "Doing 1538: CHIT1\n"
     ]
    },
    {
     "name": "stderr",
     "output_type": "stream",
     "text": [
      "Running elastic model with corum transcripts:  14%|█▍        | 1539/10921 [16:58<1:44:58,  1.49it/s]"
     ]
    },
    {
     "name": "stdout",
     "output_type": "stream",
     "text": [
      "corr: [-0.08529], r2: [-0.07862]\n",
      "Doing 1539: CHKB\n"
     ]
    },
    {
     "name": "stderr",
     "output_type": "stream",
     "text": [
      "/Applications/venv/CPTAC_Protein/lib/python3.9/site-packages/numpy/lib/function_base.py:2691: RuntimeWarning: invalid value encountered in true_divide\n",
      "  c /= stddev[:, None]\n",
      "/Applications/venv/CPTAC_Protein/lib/python3.9/site-packages/numpy/lib/function_base.py:2692: RuntimeWarning: invalid value encountered in true_divide\n",
      "  c /= stddev[None, :]\n",
      "Running elastic model with corum transcripts:  14%|█▍        | 1540/10921 [16:58<1:54:25,  1.37it/s]"
     ]
    },
    {
     "name": "stdout",
     "output_type": "stream",
     "text": [
      "corr: [0], r2: [-0.14759]\n",
      "Doing 1540: CHL1\n"
     ]
    },
    {
     "name": "stderr",
     "output_type": "stream",
     "text": [
      "Running elastic model with corum transcripts:  14%|█▍        | 1541/10921 [16:59<1:51:35,  1.40it/s]"
     ]
    },
    {
     "name": "stdout",
     "output_type": "stream",
     "text": [
      "corr: [0.64603], r2: [0.30905]\n",
      "Doing 1541: CHM\n"
     ]
    },
    {
     "name": "stderr",
     "output_type": "stream",
     "text": [
      "Running elastic model with corum transcripts:  14%|█▍        | 1542/10921 [17:00<1:55:15,  1.36it/s]"
     ]
    },
    {
     "name": "stdout",
     "output_type": "stream",
     "text": [
      "corr: [0.2333], r2: [-0.03647]\n",
      "Doing 1542: CHML\n"
     ]
    },
    {
     "name": "stderr",
     "output_type": "stream",
     "text": [
      "Running elastic model with corum transcripts:  14%|█▍        | 1543/10921 [17:01<1:50:49,  1.41it/s]"
     ]
    },
    {
     "name": "stdout",
     "output_type": "stream",
     "text": [
      "corr: [0.50468], r2: [0.12573]\n",
      "Doing 1543: CHMP1A\n"
     ]
    },
    {
     "name": "stderr",
     "output_type": "stream",
     "text": [
      "Running elastic model with corum transcripts:  14%|█▍        | 1544/10921 [17:01<1:51:27,  1.40it/s]"
     ]
    },
    {
     "name": "stdout",
     "output_type": "stream",
     "text": [
      "corr: [0.40007], r2: [0.09335]\n",
      "Doing 1544: CHMP1B\n"
     ]
    },
    {
     "name": "stderr",
     "output_type": "stream",
     "text": [
      "Running elastic model with corum transcripts:  14%|█▍        | 1545/10921 [17:02<1:55:09,  1.36it/s]"
     ]
    },
    {
     "name": "stdout",
     "output_type": "stream",
     "text": [
      "corr: [0.40519], r2: [0.14014]\n",
      "Doing 1545: CHMP2A\n"
     ]
    },
    {
     "name": "stderr",
     "output_type": "stream",
     "text": [
      "Running elastic model with corum transcripts:  14%|█▍        | 1546/10921 [17:03<1:53:17,  1.38it/s]"
     ]
    },
    {
     "name": "stdout",
     "output_type": "stream",
     "text": [
      "corr: [0.52126], r2: [0.08981]\n",
      "Doing 1546: CHMP2B\n"
     ]
    },
    {
     "name": "stderr",
     "output_type": "stream",
     "text": [
      "Running elastic model with corum transcripts:  14%|█▍        | 1547/10921 [17:04<1:54:54,  1.36it/s]"
     ]
    },
    {
     "name": "stdout",
     "output_type": "stream",
     "text": [
      "corr: [0.23027], r2: [0.01381]\n",
      "Doing 1547: CHMP3\n"
     ]
    },
    {
     "name": "stderr",
     "output_type": "stream",
     "text": [
      "Running elastic model with corum transcripts:  14%|█▍        | 1548/10921 [17:04<1:56:32,  1.34it/s]"
     ]
    },
    {
     "name": "stdout",
     "output_type": "stream",
     "text": [
      "corr: [0.15835], r2: [-0.06618]\n",
      "Doing 1548: CHMP4A\n"
     ]
    },
    {
     "name": "stderr",
     "output_type": "stream",
     "text": [
      "Running elastic model with corum transcripts:  14%|█▍        | 1549/10921 [17:05<1:53:11,  1.38it/s]"
     ]
    },
    {
     "name": "stdout",
     "output_type": "stream",
     "text": [
      "corr: [0.11219], r2: [-0.01369]\n",
      "Doing 1549: CHMP4B\n"
     ]
    },
    {
     "name": "stderr",
     "output_type": "stream",
     "text": [
      "Running elastic model with corum transcripts:  14%|█▍        | 1550/10921 [17:06<1:54:11,  1.37it/s]"
     ]
    },
    {
     "name": "stdout",
     "output_type": "stream",
     "text": [
      "corr: [0.40227], r2: [0.0899]\n",
      "Doing 1550: CHMP4C\n"
     ]
    },
    {
     "name": "stderr",
     "output_type": "stream",
     "text": [
      "Running elastic model with corum transcripts:  14%|█▍        | 1551/10921 [17:07<1:59:55,  1.30it/s]"
     ]
    },
    {
     "name": "stdout",
     "output_type": "stream",
     "text": [
      "corr: [0.48865], r2: [0.23677]\n",
      "Doing 1551: CHMP5\n"
     ]
    },
    {
     "name": "stderr",
     "output_type": "stream",
     "text": [
      "Running elastic model with corum transcripts:  14%|█▍        | 1552/10921 [17:07<1:59:41,  1.30it/s]"
     ]
    },
    {
     "name": "stdout",
     "output_type": "stream",
     "text": [
      "corr: [0.39747], r2: [0.1231]\n",
      "Doing 1552: CHMP6\n"
     ]
    },
    {
     "name": "stderr",
     "output_type": "stream",
     "text": [
      "Running elastic model with corum transcripts:  14%|█▍        | 1553/10921 [17:08<1:58:57,  1.31it/s]"
     ]
    },
    {
     "name": "stdout",
     "output_type": "stream",
     "text": [
      "corr: [0.53897], r2: [0.16672]\n",
      "Doing 1553: CHMP7\n"
     ]
    },
    {
     "name": "stderr",
     "output_type": "stream",
     "text": [
      "Running elastic model with corum transcripts:  14%|█▍        | 1554/10921 [17:09<1:52:30,  1.39it/s]"
     ]
    },
    {
     "name": "stdout",
     "output_type": "stream",
     "text": [
      "corr: [0.79732], r2: [0.56414]\n",
      "Doing 1554: CHN1\n"
     ]
    },
    {
     "name": "stderr",
     "output_type": "stream",
     "text": [
      "Running elastic model with corum transcripts:  14%|█▍        | 1555/10921 [17:09<1:53:49,  1.37it/s]"
     ]
    },
    {
     "name": "stdout",
     "output_type": "stream",
     "text": [
      "corr: [0.45938], r2: [0.18734]\n",
      "Doing 1555: CHORDC1\n"
     ]
    },
    {
     "name": "stderr",
     "output_type": "stream",
     "text": [
      "Running elastic model with corum transcripts:  14%|█▍        | 1556/10921 [17:10<1:48:06,  1.44it/s]"
     ]
    },
    {
     "name": "stdout",
     "output_type": "stream",
     "text": [
      "corr: [0.24199], r2: [-0.45687]\n",
      "Doing 1556: CHP1\n"
     ]
    },
    {
     "name": "stderr",
     "output_type": "stream",
     "text": [
      "Running elastic model with corum transcripts:  14%|█▍        | 1557/10921 [17:11<1:46:07,  1.47it/s]"
     ]
    },
    {
     "name": "stdout",
     "output_type": "stream",
     "text": [
      "corr: [0.20478], r2: [-0.23732]\n",
      "Doing 1557: CHPF\n"
     ]
    },
    {
     "name": "stderr",
     "output_type": "stream",
     "text": [
      "Running elastic model with corum transcripts:  14%|█▍        | 1558/10921 [17:11<1:45:29,  1.48it/s]"
     ]
    },
    {
     "name": "stdout",
     "output_type": "stream",
     "text": [
      "corr: [0.10442], r2: [-0.00983]\n",
      "Doing 1558: CHPF2\n"
     ]
    },
    {
     "name": "stderr",
     "output_type": "stream",
     "text": [
      "Running elastic model with corum transcripts:  14%|█▍        | 1559/10921 [17:12<1:44:15,  1.50it/s]"
     ]
    },
    {
     "name": "stdout",
     "output_type": "stream",
     "text": [
      "corr: [0.65328], r2: [0.11782]\n",
      "Doing 1559: CHRAC1\n"
     ]
    },
    {
     "name": "stderr",
     "output_type": "stream",
     "text": [
      "Running elastic model with corum transcripts:  14%|█▍        | 1560/10921 [17:13<1:44:32,  1.49it/s]"
     ]
    },
    {
     "name": "stdout",
     "output_type": "stream",
     "text": [
      "corr: [0.53088], r2: [0.26309]\n",
      "Doing 1560: CHRDL1\n"
     ]
    },
    {
     "name": "stderr",
     "output_type": "stream",
     "text": [
      "Running elastic model with corum transcripts:  14%|█▍        | 1561/10921 [17:13<1:49:20,  1.43it/s]"
     ]
    },
    {
     "name": "stdout",
     "output_type": "stream",
     "text": [
      "corr: [0.45934], r2: [0.14768]\n",
      "Doing 1561: CHST11\n"
     ]
    },
    {
     "name": "stderr",
     "output_type": "stream",
     "text": [
      "Running elastic model with corum transcripts:  14%|█▍        | 1562/10921 [17:14<1:47:52,  1.45it/s]"
     ]
    },
    {
     "name": "stdout",
     "output_type": "stream",
     "text": [
      "corr: [0.10048], r2: [-0.45454]\n",
      "Doing 1562: CHST12\n"
     ]
    },
    {
     "name": "stderr",
     "output_type": "stream",
     "text": [
      "/Applications/venv/CPTAC_Protein/lib/python3.9/site-packages/numpy/lib/function_base.py:2691: RuntimeWarning: invalid value encountered in true_divide\n",
      "  c /= stddev[:, None]\n",
      "/Applications/venv/CPTAC_Protein/lib/python3.9/site-packages/numpy/lib/function_base.py:2692: RuntimeWarning: invalid value encountered in true_divide\n",
      "  c /= stddev[None, :]\n",
      "Running elastic model with corum transcripts:  14%|█▍        | 1563/10921 [17:15<1:50:54,  1.41it/s]"
     ]
    },
    {
     "name": "stdout",
     "output_type": "stream",
     "text": [
      "corr: [0], r2: [-0.02063]\n",
      "Doing 1563: CHST14\n"
     ]
    },
    {
     "name": "stderr",
     "output_type": "stream",
     "text": [
      "Running elastic model with corum transcripts:  14%|█▍        | 1564/10921 [17:16<1:49:18,  1.43it/s]"
     ]
    },
    {
     "name": "stdout",
     "output_type": "stream",
     "text": [
      "corr: [0.13088], r2: [-0.21967]\n",
      "Doing 1564: CHST4\n",
      "Not enough proteomics observations. Skipping protein.\n",
      "Doing 1565: CHSY1\n"
     ]
    },
    {
     "name": "stderr",
     "output_type": "stream",
     "text": [
      "Running elastic model with corum transcripts:  14%|█▍        | 1566/10921 [17:16<1:24:12,  1.85it/s]"
     ]
    },
    {
     "name": "stdout",
     "output_type": "stream",
     "text": [
      "corr: [0.0875], r2: [-0.0949]\n",
      "Doing 1566: CHSY3\n"
     ]
    },
    {
     "name": "stderr",
     "output_type": "stream",
     "text": [
      "Running elastic model with corum transcripts:  14%|█▍        | 1567/10921 [17:17<1:26:14,  1.81it/s]"
     ]
    },
    {
     "name": "stdout",
     "output_type": "stream",
     "text": [
      "corr: [0.42192], r2: [0.14917]\n",
      "Doing 1567: CHTF18\n"
     ]
    },
    {
     "name": "stderr",
     "output_type": "stream",
     "text": [
      "Running elastic model with corum transcripts:  14%|█▍        | 1568/10921 [17:18<1:35:24,  1.63it/s]"
     ]
    },
    {
     "name": "stdout",
     "output_type": "stream",
     "text": [
      "corr: [0.3772], r2: [-0.20646]\n",
      "Doing 1568: CHTF8\n"
     ]
    },
    {
     "name": "stderr",
     "output_type": "stream",
     "text": [
      "Running elastic model with corum transcripts:  14%|█▍        | 1569/10921 [17:18<1:40:42,  1.55it/s]"
     ]
    },
    {
     "name": "stdout",
     "output_type": "stream",
     "text": [
      "corr: [0.25012], r2: [-0.04672]\n",
      "Doing 1569: CHTOP\n"
     ]
    },
    {
     "name": "stderr",
     "output_type": "stream",
     "text": [
      "Running elastic model with corum transcripts:  14%|█▍        | 1570/10921 [17:19<1:42:47,  1.52it/s]"
     ]
    },
    {
     "name": "stdout",
     "output_type": "stream",
     "text": [
      "corr: [0.06122], r2: [-0.01951]\n",
      "Doing 1570: CHUK\n"
     ]
    },
    {
     "name": "stderr",
     "output_type": "stream",
     "text": [
      "Running elastic model with corum transcripts:  14%|█▍        | 1571/10921 [17:20<2:03:22,  1.26it/s]"
     ]
    },
    {
     "name": "stdout",
     "output_type": "stream",
     "text": [
      "corr: [0.43963], r2: [0.05076]\n",
      "Doing 1571: CHURC1\n"
     ]
    },
    {
     "name": "stderr",
     "output_type": "stream",
     "text": [
      "Running elastic model with corum transcripts:  14%|█▍        | 1572/10921 [17:21<1:58:28,  1.32it/s]"
     ]
    },
    {
     "name": "stdout",
     "output_type": "stream",
     "text": [
      "corr: [0], r2: [-0.38489]\n",
      "Doing 1572: CHURC1-FNTB\n"
     ]
    },
    {
     "name": "stderr",
     "output_type": "stream",
     "text": [
      "Running elastic model with corum transcripts:  14%|█▍        | 1573/10921 [17:21<1:52:02,  1.39it/s]"
     ]
    },
    {
     "name": "stdout",
     "output_type": "stream",
     "text": [
      "corr: [0.07605], r2: [-0.09237]\n",
      "Doing 1573: CIAO1\n"
     ]
    },
    {
     "name": "stderr",
     "output_type": "stream",
     "text": [
      "Running elastic model with corum transcripts:  14%|█▍        | 1574/10921 [17:22<1:51:29,  1.40it/s]"
     ]
    },
    {
     "name": "stdout",
     "output_type": "stream",
     "text": [
      "corr: [0.05355], r2: [-0.01428]\n",
      "Doing 1574: CIAPIN1\n"
     ]
    },
    {
     "name": "stderr",
     "output_type": "stream",
     "text": [
      "Running elastic model with corum transcripts:  14%|█▍        | 1575/10921 [17:23<1:54:10,  1.36it/s]"
     ]
    },
    {
     "name": "stdout",
     "output_type": "stream",
     "text": [
      "corr: [0.62706], r2: [0.34783]\n",
      "Doing 1575: CIB1\n"
     ]
    },
    {
     "name": "stderr",
     "output_type": "stream",
     "text": [
      "Running elastic model with corum transcripts:  14%|█▍        | 1576/10921 [17:24<1:52:39,  1.38it/s]"
     ]
    },
    {
     "name": "stdout",
     "output_type": "stream",
     "text": [
      "corr: [0.38174], r2: [0.09423]\n",
      "Doing 1576: CIC\n"
     ]
    },
    {
     "name": "stderr",
     "output_type": "stream",
     "text": [
      "Running elastic model with corum transcripts:  14%|█▍        | 1577/10921 [17:25<2:01:57,  1.28it/s]"
     ]
    },
    {
     "name": "stdout",
     "output_type": "stream",
     "text": [
      "corr: [0.30882], r2: [0.08736]\n",
      "Doing 1577: CILP\n"
     ]
    },
    {
     "name": "stderr",
     "output_type": "stream",
     "text": [
      "Running elastic model with corum transcripts:  14%|█▍        | 1578/10921 [17:25<2:00:35,  1.29it/s]"
     ]
    },
    {
     "name": "stdout",
     "output_type": "stream",
     "text": [
      "corr: [0.45358], r2: [0.03427]\n",
      "Doing 1578: CILP2\n"
     ]
    },
    {
     "name": "stderr",
     "output_type": "stream",
     "text": [
      "Running elastic model with corum transcripts:  14%|█▍        | 1579/10921 [17:26<1:57:38,  1.32it/s]"
     ]
    },
    {
     "name": "stdout",
     "output_type": "stream",
     "text": [
      "corr: [0.49282], r2: [0.20778]\n",
      "Doing 1579: CINP\n"
     ]
    },
    {
     "name": "stderr",
     "output_type": "stream",
     "text": [
      "Running elastic model with corum transcripts:  14%|█▍        | 1580/10921 [17:27<1:53:13,  1.37it/s]"
     ]
    },
    {
     "name": "stdout",
     "output_type": "stream",
     "text": [
      "corr: [0.16677], r2: [0.02612]\n",
      "Doing 1580: CIR1\n"
     ]
    },
    {
     "name": "stderr",
     "output_type": "stream",
     "text": [
      "/Applications/venv/CPTAC_Protein/lib/python3.9/site-packages/numpy/lib/function_base.py:2691: RuntimeWarning: invalid value encountered in true_divide\n",
      "  c /= stddev[:, None]\n",
      "/Applications/venv/CPTAC_Protein/lib/python3.9/site-packages/numpy/lib/function_base.py:2692: RuntimeWarning: invalid value encountered in true_divide\n",
      "  c /= stddev[None, :]\n",
      "Running elastic model with corum transcripts:  14%|█▍        | 1581/10921 [17:27<1:49:56,  1.42it/s]"
     ]
    },
    {
     "name": "stdout",
     "output_type": "stream",
     "text": [
      "corr: [0], r2: [-0.02518]\n",
      "Doing 1581: CIRBP\n"
     ]
    },
    {
     "name": "stderr",
     "output_type": "stream",
     "text": [
      "/Applications/venv/CPTAC_Protein/lib/python3.9/site-packages/sklearn/linear_model/_coordinate_descent.py:631: ConvergenceWarning: Objective did not converge. You might want to increase the number of iterations. Duality gap: 0.5087356959400626, tolerance: 0.21853685383214919\n",
      "  model = cd_fast.enet_coordinate_descent_gram(\n",
      "/Applications/venv/CPTAC_Protein/lib/python3.9/site-packages/sklearn/linear_model/_coordinate_descent.py:631: ConvergenceWarning: Objective did not converge. You might want to increase the number of iterations. Duality gap: 0.562515006618904, tolerance: 0.21853685383214919\n",
      "  model = cd_fast.enet_coordinate_descent_gram(\n",
      "/Applications/venv/CPTAC_Protein/lib/python3.9/site-packages/sklearn/linear_model/_coordinate_descent.py:631: ConvergenceWarning: Objective did not converge. You might want to increase the number of iterations. Duality gap: 0.32603178811844913, tolerance: 0.21853685383214919\n",
      "  model = cd_fast.enet_coordinate_descent_gram(\n",
      "/Applications/venv/CPTAC_Protein/lib/python3.9/site-packages/sklearn/linear_model/_coordinate_descent.py:631: ConvergenceWarning: Objective did not converge. You might want to increase the number of iterations. Duality gap: 0.58584328969346, tolerance: 0.21853685383214919\n",
      "  model = cd_fast.enet_coordinate_descent_gram(\n",
      "/Applications/venv/CPTAC_Protein/lib/python3.9/site-packages/sklearn/linear_model/_coordinate_descent.py:631: ConvergenceWarning: Objective did not converge. You might want to increase the number of iterations. Duality gap: 0.2360530347801113, tolerance: 0.21853685383214919\n",
      "  model = cd_fast.enet_coordinate_descent_gram(\n",
      "/Applications/venv/CPTAC_Protein/lib/python3.9/site-packages/sklearn/linear_model/_coordinate_descent.py:631: ConvergenceWarning: Objective did not converge. You might want to increase the number of iterations. Duality gap: 0.29112205970632044, tolerance: 0.21853685383214919\n",
      "  model = cd_fast.enet_coordinate_descent_gram(\n",
      "/Applications/venv/CPTAC_Protein/lib/python3.9/site-packages/sklearn/linear_model/_coordinate_descent.py:631: ConvergenceWarning: Objective did not converge. You might want to increase the number of iterations. Duality gap: 0.7100873677041948, tolerance: 0.21853685383214919\n",
      "  model = cd_fast.enet_coordinate_descent_gram(\n",
      "/Applications/venv/CPTAC_Protein/lib/python3.9/site-packages/sklearn/linear_model/_coordinate_descent.py:631: ConvergenceWarning: Objective did not converge. You might want to increase the number of iterations. Duality gap: 0.5539736096163086, tolerance: 0.21853685383214919\n",
      "  model = cd_fast.enet_coordinate_descent_gram(\n",
      "/Applications/venv/CPTAC_Protein/lib/python3.9/site-packages/sklearn/linear_model/_coordinate_descent.py:631: ConvergenceWarning: Objective did not converge. You might want to increase the number of iterations. Duality gap: 0.5954766662213586, tolerance: 0.21853685383214919\n",
      "  model = cd_fast.enet_coordinate_descent_gram(\n",
      "/Applications/venv/CPTAC_Protein/lib/python3.9/site-packages/sklearn/linear_model/_coordinate_descent.py:631: ConvergenceWarning: Objective did not converge. You might want to increase the number of iterations. Duality gap: 0.34937707463267387, tolerance: 0.21853685383214919\n",
      "  model = cd_fast.enet_coordinate_descent_gram(\n",
      "/Applications/venv/CPTAC_Protein/lib/python3.9/site-packages/sklearn/linear_model/_coordinate_descent.py:631: ConvergenceWarning: Objective did not converge. You might want to increase the number of iterations. Duality gap: 0.5943914074373584, tolerance: 0.21853685383214919\n",
      "  model = cd_fast.enet_coordinate_descent_gram(\n",
      "/Applications/venv/CPTAC_Protein/lib/python3.9/site-packages/sklearn/linear_model/_coordinate_descent.py:631: ConvergenceWarning: Objective did not converge. You might want to increase the number of iterations. Duality gap: 0.6924410878446405, tolerance: 0.21853685383214919\n",
      "  model = cd_fast.enet_coordinate_descent_gram(\n",
      "Running elastic model with corum transcripts:  14%|█▍        | 1582/10921 [17:30<3:10:54,  1.23s/it]"
     ]
    },
    {
     "name": "stdout",
     "output_type": "stream",
     "text": [
      "corr: [0.68638], r2: [0.43529]\n",
      "Doing 1582: CISD1\n"
     ]
    },
    {
     "name": "stderr",
     "output_type": "stream",
     "text": [
      "Running elastic model with corum transcripts:  14%|█▍        | 1583/10921 [17:30<2:44:17,  1.06s/it]"
     ]
    },
    {
     "name": "stdout",
     "output_type": "stream",
     "text": [
      "corr: [0.1097], r2: [-0.09346]\n",
      "Doing 1583: CISD2\n"
     ]
    },
    {
     "name": "stderr",
     "output_type": "stream",
     "text": [
      "/Applications/venv/CPTAC_Protein/lib/python3.9/site-packages/numpy/lib/function_base.py:2691: RuntimeWarning: invalid value encountered in true_divide\n",
      "  c /= stddev[:, None]\n",
      "/Applications/venv/CPTAC_Protein/lib/python3.9/site-packages/numpy/lib/function_base.py:2692: RuntimeWarning: invalid value encountered in true_divide\n",
      "  c /= stddev[None, :]\n",
      "Running elastic model with corum transcripts:  15%|█▍        | 1584/10921 [17:31<2:29:22,  1.04it/s]"
     ]
    },
    {
     "name": "stdout",
     "output_type": "stream",
     "text": [
      "corr: [0], r2: [-0.05665]\n",
      "Doing 1584: CISD3\n"
     ]
    },
    {
     "name": "stderr",
     "output_type": "stream",
     "text": [
      "Running elastic model with corum transcripts:  15%|█▍        | 1585/10921 [17:32<2:14:51,  1.15it/s]"
     ]
    },
    {
     "name": "stdout",
     "output_type": "stream",
     "text": [
      "corr: [0.47965], r2: [0.06147]\n",
      "Doing 1585: CIT\n"
     ]
    },
    {
     "name": "stderr",
     "output_type": "stream",
     "text": [
      "Running elastic model with corum transcripts:  15%|█▍        | 1586/10921 [17:32<2:02:32,  1.27it/s]"
     ]
    },
    {
     "name": "stdout",
     "output_type": "stream",
     "text": [
      "corr: [0.49579], r2: [0.03514]\n",
      "Doing 1586: CIZ1\n"
     ]
    },
    {
     "name": "stderr",
     "output_type": "stream",
     "text": [
      "Running elastic model with corum transcripts:  15%|█▍        | 1587/10921 [17:33<1:57:58,  1.32it/s]"
     ]
    },
    {
     "name": "stdout",
     "output_type": "stream",
     "text": [
      "corr: [0.37617], r2: [0.06031]\n",
      "Doing 1587: CKAP2\n"
     ]
    },
    {
     "name": "stderr",
     "output_type": "stream",
     "text": [
      "Running elastic model with corum transcripts:  15%|█▍        | 1588/10921 [17:34<2:02:58,  1.26it/s]"
     ]
    },
    {
     "name": "stdout",
     "output_type": "stream",
     "text": [
      "corr: [0.44362], r2: [-0.04832]\n",
      "Doing 1588: CKAP4\n"
     ]
    },
    {
     "name": "stderr",
     "output_type": "stream",
     "text": [
      "Running elastic model with corum transcripts:  15%|█▍        | 1589/10921 [17:35<1:56:34,  1.33it/s]"
     ]
    },
    {
     "name": "stdout",
     "output_type": "stream",
     "text": [
      "corr: [0.52281], r2: [0.25787]\n",
      "Doing 1589: CKAP5\n"
     ]
    },
    {
     "name": "stderr",
     "output_type": "stream",
     "text": [
      "Running elastic model with corum transcripts:  15%|█▍        | 1590/10921 [17:35<1:56:38,  1.33it/s]"
     ]
    },
    {
     "name": "stdout",
     "output_type": "stream",
     "text": [
      "corr: [0.52586], r2: [0.23271]\n",
      "Doing 1590: CKB\n"
     ]
    },
    {
     "name": "stderr",
     "output_type": "stream",
     "text": [
      "Running elastic model with corum transcripts:  15%|█▍        | 1591/10921 [17:36<1:58:31,  1.31it/s]"
     ]
    },
    {
     "name": "stdout",
     "output_type": "stream",
     "text": [
      "corr: [0.38069], r2: [0.04675]\n",
      "Doing 1591: CKM\n"
     ]
    },
    {
     "name": "stderr",
     "output_type": "stream",
     "text": [
      "Running elastic model with corum transcripts:  15%|█▍        | 1592/10921 [17:37<1:54:22,  1.36it/s]"
     ]
    },
    {
     "name": "stdout",
     "output_type": "stream",
     "text": [
      "corr: [0.0277], r2: [-0.73205]\n",
      "Doing 1592: CKMT1B\n"
     ]
    },
    {
     "name": "stderr",
     "output_type": "stream",
     "text": [
      "Running elastic model with corum transcripts:  15%|█▍        | 1593/10921 [17:38<1:50:45,  1.40it/s]"
     ]
    },
    {
     "name": "stdout",
     "output_type": "stream",
     "text": [
      "corr: [0.65599], r2: [0.27623]\n",
      "Doing 1593: CKMT2\n"
     ]
    },
    {
     "name": "stderr",
     "output_type": "stream",
     "text": [
      "Running elastic model with corum transcripts:  15%|█▍        | 1594/10921 [17:38<1:44:59,  1.48it/s]"
     ]
    },
    {
     "name": "stdout",
     "output_type": "stream",
     "text": [
      "corr: [0.42522], r2: [0.16371]\n",
      "Doing 1594: CKS1B\n"
     ]
    },
    {
     "name": "stderr",
     "output_type": "stream",
     "text": [
      "Running elastic model with corum transcripts:  15%|█▍        | 1595/10921 [17:39<1:48:07,  1.44it/s]"
     ]
    },
    {
     "name": "stdout",
     "output_type": "stream",
     "text": [
      "corr: [0.50126], r2: [0.21948]\n",
      "Doing 1595: CKS2\n"
     ]
    },
    {
     "name": "stderr",
     "output_type": "stream",
     "text": [
      "Running elastic model with corum transcripts:  15%|█▍        | 1596/10921 [17:40<1:48:18,  1.43it/s]"
     ]
    },
    {
     "name": "stdout",
     "output_type": "stream",
     "text": [
      "corr: [0.16302], r2: [-0.18064]\n",
      "Doing 1596: CLASP1\n"
     ]
    },
    {
     "name": "stderr",
     "output_type": "stream",
     "text": [
      "Running elastic model with corum transcripts:  15%|█▍        | 1597/10921 [17:40<1:45:21,  1.47it/s]"
     ]
    },
    {
     "name": "stdout",
     "output_type": "stream",
     "text": [
      "corr: [0.26696], r2: [0.0555]\n",
      "Doing 1597: CLASP2\n"
     ]
    },
    {
     "name": "stderr",
     "output_type": "stream",
     "text": [
      "Running elastic model with corum transcripts:  15%|█▍        | 1598/10921 [17:41<1:39:56,  1.55it/s]"
     ]
    },
    {
     "name": "stdout",
     "output_type": "stream",
     "text": [
      "corr: [0.6185], r2: [0.03664]\n",
      "Doing 1598: CLASRP\n"
     ]
    },
    {
     "name": "stderr",
     "output_type": "stream",
     "text": [
      "/Applications/venv/CPTAC_Protein/lib/python3.9/site-packages/numpy/lib/function_base.py:2691: RuntimeWarning: invalid value encountered in true_divide\n",
      "  c /= stddev[:, None]\n",
      "/Applications/venv/CPTAC_Protein/lib/python3.9/site-packages/numpy/lib/function_base.py:2692: RuntimeWarning: invalid value encountered in true_divide\n",
      "  c /= stddev[None, :]\n",
      "Running elastic model with corum transcripts:  15%|█▍        | 1599/10921 [17:42<1:48:42,  1.43it/s]"
     ]
    },
    {
     "name": "stdout",
     "output_type": "stream",
     "text": [
      "corr: [0], r2: [-0.0319]\n",
      "Doing 1599: CLC\n"
     ]
    },
    {
     "name": "stderr",
     "output_type": "stream",
     "text": [
      "Running elastic model with corum transcripts:  15%|█▍        | 1600/10921 [17:42<1:41:53,  1.52it/s]"
     ]
    },
    {
     "name": "stdout",
     "output_type": "stream",
     "text": [
      "corr: [0.6558], r2: [0.10723]\n",
      "Doing 1600: CLCA4\n",
      "Not enough proteomics observations. Skipping protein.\n",
      "Doing 1601: CLCC1\n"
     ]
    },
    {
     "name": "stderr",
     "output_type": "stream",
     "text": [
      "Running elastic model with corum transcripts:  15%|█▍        | 1602/10921 [17:43<1:17:49,  2.00it/s]"
     ]
    },
    {
     "name": "stdout",
     "output_type": "stream",
     "text": [
      "corr: [0.04002], r2: [-0.13689]\n",
      "Doing 1602: CLCN3\n"
     ]
    },
    {
     "name": "stderr",
     "output_type": "stream",
     "text": [
      "Running elastic model with corum transcripts:  15%|█▍        | 1603/10921 [17:43<1:23:19,  1.86it/s]"
     ]
    },
    {
     "name": "stdout",
     "output_type": "stream",
     "text": [
      "corr: [0.26376], r2: [0.02325]\n",
      "Doing 1603: CLCN5\n"
     ]
    },
    {
     "name": "stderr",
     "output_type": "stream",
     "text": [
      "Running elastic model with corum transcripts:  15%|█▍        | 1604/10921 [17:44<1:26:16,  1.80it/s]"
     ]
    },
    {
     "name": "stdout",
     "output_type": "stream",
     "text": [
      "corr: [0.19919], r2: [-0.01315]\n",
      "Doing 1604: CLCN6\n"
     ]
    },
    {
     "name": "stderr",
     "output_type": "stream",
     "text": [
      "/Applications/venv/CPTAC_Protein/lib/python3.9/site-packages/numpy/lib/function_base.py:2691: RuntimeWarning: invalid value encountered in true_divide\n",
      "  c /= stddev[:, None]\n",
      "/Applications/venv/CPTAC_Protein/lib/python3.9/site-packages/numpy/lib/function_base.py:2692: RuntimeWarning: invalid value encountered in true_divide\n",
      "  c /= stddev[None, :]\n",
      "Running elastic model with corum transcripts:  15%|█▍        | 1605/10921 [17:45<1:28:54,  1.75it/s]"
     ]
    },
    {
     "name": "stdout",
     "output_type": "stream",
     "text": [
      "corr: [0], r2: [-0.00035]\n",
      "Doing 1605: CLCN7\n"
     ]
    },
    {
     "name": "stderr",
     "output_type": "stream",
     "text": [
      "Running elastic model with corum transcripts:  15%|█▍        | 1606/10921 [17:45<1:29:54,  1.73it/s]"
     ]
    },
    {
     "name": "stdout",
     "output_type": "stream",
     "text": [
      "corr: [0.13154], r2: [-0.02967]\n",
      "Doing 1606: CLDN1\n"
     ]
    },
    {
     "name": "stderr",
     "output_type": "stream",
     "text": [
      "Running elastic model with corum transcripts:  15%|█▍        | 1607/10921 [17:46<1:36:57,  1.60it/s]"
     ]
    },
    {
     "name": "stdout",
     "output_type": "stream",
     "text": [
      "corr: [0.7265], r2: [0.48562]\n",
      "Doing 1607: CLDN11\n"
     ]
    },
    {
     "name": "stderr",
     "output_type": "stream",
     "text": [
      "Running elastic model with corum transcripts:  15%|█▍        | 1608/10921 [17:47<1:37:02,  1.60it/s]"
     ]
    },
    {
     "name": "stdout",
     "output_type": "stream",
     "text": [
      "corr: [0.44331], r2: [-0.02696]\n",
      "Doing 1608: CLDN16\n"
     ]
    },
    {
     "name": "stderr",
     "output_type": "stream",
     "text": [
      "Running elastic model with corum transcripts:  15%|█▍        | 1609/10921 [17:47<1:34:23,  1.64it/s]"
     ]
    },
    {
     "name": "stdout",
     "output_type": "stream",
     "text": [
      "corr: [0.46579], r2: [0.12624]\n",
      "Doing 1609: CLDN3\n"
     ]
    },
    {
     "name": "stderr",
     "output_type": "stream",
     "text": [
      "Running elastic model with corum transcripts:  15%|█▍        | 1610/10921 [17:48<1:43:21,  1.50it/s]"
     ]
    },
    {
     "name": "stdout",
     "output_type": "stream",
     "text": [
      "corr: [0.30087], r2: [-0.04572]\n",
      "Doing 1610: CLDN4\n"
     ]
    },
    {
     "name": "stderr",
     "output_type": "stream",
     "text": [
      "Running elastic model with corum transcripts:  15%|█▍        | 1611/10921 [17:49<1:40:00,  1.55it/s]"
     ]
    },
    {
     "name": "stdout",
     "output_type": "stream",
     "text": [
      "corr: [0.46518], r2: [0.06892]\n",
      "Doing 1611: CLDN5\n"
     ]
    },
    {
     "name": "stderr",
     "output_type": "stream",
     "text": [
      "Running elastic model with corum transcripts:  15%|█▍        | 1612/10921 [17:49<1:41:17,  1.53it/s]"
     ]
    },
    {
     "name": "stdout",
     "output_type": "stream",
     "text": [
      "corr: [0.42356], r2: [-0.14234]\n",
      "Doing 1612: CLDN6\n"
     ]
    },
    {
     "name": "stderr",
     "output_type": "stream",
     "text": [
      "Running elastic model with corum transcripts:  15%|█▍        | 1613/10921 [17:50<1:43:59,  1.49it/s]"
     ]
    },
    {
     "name": "stdout",
     "output_type": "stream",
     "text": [
      "corr: [0.66115], r2: [0.43437]\n",
      "Doing 1613: CLDN7\n"
     ]
    },
    {
     "name": "stderr",
     "output_type": "stream",
     "text": [
      "Running elastic model with corum transcripts:  15%|█▍        | 1614/10921 [17:51<1:40:45,  1.54it/s]"
     ]
    },
    {
     "name": "stdout",
     "output_type": "stream",
     "text": [
      "corr: [0.44693], r2: [-0.02166]\n",
      "Doing 1614: CLDND1\n"
     ]
    },
    {
     "name": "stderr",
     "output_type": "stream",
     "text": [
      "/Applications/venv/CPTAC_Protein/lib/python3.9/site-packages/numpy/lib/function_base.py:2691: RuntimeWarning: invalid value encountered in true_divide\n",
      "  c /= stddev[:, None]\n",
      "/Applications/venv/CPTAC_Protein/lib/python3.9/site-packages/numpy/lib/function_base.py:2692: RuntimeWarning: invalid value encountered in true_divide\n",
      "  c /= stddev[None, :]\n",
      "Running elastic model with corum transcripts:  15%|█▍        | 1615/10921 [17:51<1:38:52,  1.57it/s]"
     ]
    },
    {
     "name": "stdout",
     "output_type": "stream",
     "text": [
      "corr: [0], r2: [-0.0406]\n",
      "Doing 1615: CLEC11A\n"
     ]
    },
    {
     "name": "stderr",
     "output_type": "stream",
     "text": [
      "Running elastic model with corum transcripts:  15%|█▍        | 1616/10921 [17:52<1:40:30,  1.54it/s]"
     ]
    },
    {
     "name": "stdout",
     "output_type": "stream",
     "text": [
      "corr: [0.38522], r2: [0.12916]\n",
      "Doing 1616: CLEC14A\n"
     ]
    },
    {
     "name": "stderr",
     "output_type": "stream",
     "text": [
      "Running elastic model with corum transcripts:  15%|█▍        | 1617/10921 [17:53<1:39:52,  1.55it/s]"
     ]
    },
    {
     "name": "stdout",
     "output_type": "stream",
     "text": [
      "corr: [0.52868], r2: [0.15167]\n",
      "Doing 1617: CLEC16A\n"
     ]
    },
    {
     "name": "stderr",
     "output_type": "stream",
     "text": [
      "/Applications/venv/CPTAC_Protein/lib/python3.9/site-packages/numpy/lib/function_base.py:2691: RuntimeWarning: invalid value encountered in true_divide\n",
      "  c /= stddev[:, None]\n",
      "/Applications/venv/CPTAC_Protein/lib/python3.9/site-packages/numpy/lib/function_base.py:2692: RuntimeWarning: invalid value encountered in true_divide\n",
      "  c /= stddev[None, :]\n",
      "Running elastic model with corum transcripts:  15%|█▍        | 1618/10921 [17:53<1:37:26,  1.59it/s]"
     ]
    },
    {
     "name": "stdout",
     "output_type": "stream",
     "text": [
      "corr: [0], r2: [-0.30858]\n",
      "Doing 1618: CLEC3B\n"
     ]
    },
    {
     "name": "stderr",
     "output_type": "stream",
     "text": [
      "Running elastic model with corum transcripts:  15%|█▍        | 1619/10921 [17:54<1:42:17,  1.52it/s]"
     ]
    },
    {
     "name": "stdout",
     "output_type": "stream",
     "text": [
      "corr: [0.38493], r2: [-0.0778]\n",
      "Doing 1619: CLEC5A\n"
     ]
    },
    {
     "name": "stderr",
     "output_type": "stream",
     "text": [
      "Running elastic model with corum transcripts:  15%|█▍        | 1620/10921 [17:54<1:42:10,  1.52it/s]"
     ]
    },
    {
     "name": "stdout",
     "output_type": "stream",
     "text": [
      "corr: [0.64418], r2: [-0.03002]\n",
      "Doing 1620: CLGN\n"
     ]
    },
    {
     "name": "stderr",
     "output_type": "stream",
     "text": [
      "Running elastic model with corum transcripts:  15%|█▍        | 1621/10921 [17:55<1:49:17,  1.42it/s]"
     ]
    },
    {
     "name": "stdout",
     "output_type": "stream",
     "text": [
      "corr: [0.4889], r2: [0.23831]\n",
      "Doing 1621: CLIC1\n"
     ]
    },
    {
     "name": "stderr",
     "output_type": "stream",
     "text": [
      "Running elastic model with corum transcripts:  15%|█▍        | 1622/10921 [17:56<1:46:31,  1.45it/s]"
     ]
    },
    {
     "name": "stdout",
     "output_type": "stream",
     "text": [
      "corr: [0.00015], r2: [-0.06321]\n",
      "Doing 1622: CLIC2\n"
     ]
    },
    {
     "name": "stderr",
     "output_type": "stream",
     "text": [
      "Running elastic model with corum transcripts:  15%|█▍        | 1623/10921 [17:57<1:45:20,  1.47it/s]"
     ]
    },
    {
     "name": "stdout",
     "output_type": "stream",
     "text": [
      "corr: [0.50444], r2: [0.24094]\n",
      "Doing 1623: CLIC3\n"
     ]
    },
    {
     "name": "stderr",
     "output_type": "stream",
     "text": [
      "Running elastic model with corum transcripts:  15%|█▍        | 1624/10921 [17:57<1:41:55,  1.52it/s]"
     ]
    },
    {
     "name": "stdout",
     "output_type": "stream",
     "text": [
      "corr: [0.59904], r2: [0.29813]\n",
      "Doing 1624: CLIC4\n"
     ]
    },
    {
     "name": "stderr",
     "output_type": "stream",
     "text": [
      "Running elastic model with corum transcripts:  15%|█▍        | 1625/10921 [17:58<1:40:11,  1.55it/s]"
     ]
    },
    {
     "name": "stdout",
     "output_type": "stream",
     "text": [
      "corr: [0.54456], r2: [0.14476]\n",
      "Doing 1625: CLIC5\n"
     ]
    },
    {
     "name": "stderr",
     "output_type": "stream",
     "text": [
      "Running elastic model with corum transcripts:  15%|█▍        | 1626/10921 [17:58<1:40:41,  1.54it/s]"
     ]
    },
    {
     "name": "stdout",
     "output_type": "stream",
     "text": [
      "corr: [0.54844], r2: [0.26851]\n",
      "Doing 1626: CLIC6\n"
     ]
    },
    {
     "name": "stderr",
     "output_type": "stream",
     "text": [
      "Running elastic model with corum transcripts:  15%|█▍        | 1627/10921 [17:59<1:36:45,  1.60it/s]"
     ]
    },
    {
     "name": "stdout",
     "output_type": "stream",
     "text": [
      "corr: [0.69128], r2: [0.38833]\n",
      "Doing 1627: CLINT1\n"
     ]
    },
    {
     "name": "stderr",
     "output_type": "stream",
     "text": [
      "Running elastic model with corum transcripts:  15%|█▍        | 1628/10921 [18:00<1:41:10,  1.53it/s]"
     ]
    },
    {
     "name": "stdout",
     "output_type": "stream",
     "text": [
      "corr: [0.33078], r2: [0.10808]\n",
      "Doing 1628: CLIP1\n"
     ]
    },
    {
     "name": "stderr",
     "output_type": "stream",
     "text": [
      "Running elastic model with corum transcripts:  15%|█▍        | 1629/10921 [18:00<1:39:53,  1.55it/s]"
     ]
    },
    {
     "name": "stdout",
     "output_type": "stream",
     "text": [
      "corr: [0.30188], r2: [0.08348]\n",
      "Doing 1629: CLIP2\n"
     ]
    },
    {
     "name": "stderr",
     "output_type": "stream",
     "text": [
      "Running elastic model with corum transcripts:  15%|█▍        | 1630/10921 [18:01<1:39:59,  1.55it/s]"
     ]
    },
    {
     "name": "stdout",
     "output_type": "stream",
     "text": [
      "corr: [0.41932], r2: [0.16019]\n",
      "Doing 1630: CLK2\n"
     ]
    },
    {
     "name": "stderr",
     "output_type": "stream",
     "text": [
      "Running elastic model with corum transcripts:  15%|█▍        | 1631/10921 [18:02<1:42:21,  1.51it/s]"
     ]
    },
    {
     "name": "stdout",
     "output_type": "stream",
     "text": [
      "corr: [0.10549], r2: [-0.64771]\n",
      "Doing 1631: CLK3\n"
     ]
    },
    {
     "name": "stderr",
     "output_type": "stream",
     "text": [
      "Running elastic model with corum transcripts:  15%|█▍        | 1632/10921 [18:02<1:42:29,  1.51it/s]"
     ]
    },
    {
     "name": "stdout",
     "output_type": "stream",
     "text": [
      "corr: [0.07591], r2: [-0.02159]\n",
      "Doing 1632: CLMN\n"
     ]
    },
    {
     "name": "stderr",
     "output_type": "stream",
     "text": [
      "Running elastic model with corum transcripts:  15%|█▍        | 1633/10921 [18:03<1:39:18,  1.56it/s]"
     ]
    },
    {
     "name": "stdout",
     "output_type": "stream",
     "text": [
      "corr: [0.5338], r2: [0.18749]\n",
      "Doing 1633: CLN3\n"
     ]
    },
    {
     "name": "stderr",
     "output_type": "stream",
     "text": [
      "Running elastic model with corum transcripts:  15%|█▍        | 1634/10921 [18:04<1:48:45,  1.42it/s]"
     ]
    },
    {
     "name": "stdout",
     "output_type": "stream",
     "text": [
      "corr: [-0.09067], r2: [-1.0908]\n",
      "Doing 1634: CLN5\n"
     ]
    },
    {
     "name": "stderr",
     "output_type": "stream",
     "text": [
      "Running elastic model with corum transcripts:  15%|█▍        | 1635/10921 [18:04<1:41:34,  1.52it/s]"
     ]
    },
    {
     "name": "stdout",
     "output_type": "stream",
     "text": [
      "corr: [0.66173], r2: [0.28575]\n",
      "Doing 1635: CLN6\n"
     ]
    },
    {
     "name": "stderr",
     "output_type": "stream",
     "text": [
      "/Applications/venv/CPTAC_Protein/lib/python3.9/site-packages/numpy/lib/function_base.py:2691: RuntimeWarning: invalid value encountered in true_divide\n",
      "  c /= stddev[:, None]\n",
      "/Applications/venv/CPTAC_Protein/lib/python3.9/site-packages/numpy/lib/function_base.py:2692: RuntimeWarning: invalid value encountered in true_divide\n",
      "  c /= stddev[None, :]\n",
      "Running elastic model with corum transcripts:  15%|█▍        | 1636/10921 [18:05<1:40:39,  1.54it/s]"
     ]
    },
    {
     "name": "stdout",
     "output_type": "stream",
     "text": [
      "corr: [0], r2: [-0.02509]\n",
      "Doing 1636: CLNS1A\n"
     ]
    },
    {
     "name": "stderr",
     "output_type": "stream",
     "text": [
      "Running elastic model with corum transcripts:  15%|█▍        | 1637/10921 [18:06<1:46:50,  1.45it/s]"
     ]
    },
    {
     "name": "stdout",
     "output_type": "stream",
     "text": [
      "corr: [0.55498], r2: [0.06554]\n",
      "Doing 1637: CLP1\n"
     ]
    },
    {
     "name": "stderr",
     "output_type": "stream",
     "text": [
      "Running elastic model with corum transcripts:  15%|█▍        | 1638/10921 [18:07<1:49:41,  1.41it/s]"
     ]
    },
    {
     "name": "stdout",
     "output_type": "stream",
     "text": [
      "corr: [0.31019], r2: [0.09233]\n",
      "Doing 1638: CLPB\n"
     ]
    },
    {
     "name": "stderr",
     "output_type": "stream",
     "text": [
      "Running elastic model with corum transcripts:  15%|█▌        | 1639/10921 [18:07<1:44:16,  1.48it/s]"
     ]
    },
    {
     "name": "stdout",
     "output_type": "stream",
     "text": [
      "corr: [0.13202], r2: [-0.19095]\n",
      "Doing 1639: CLPP\n"
     ]
    },
    {
     "name": "stderr",
     "output_type": "stream",
     "text": [
      "Running elastic model with corum transcripts:  15%|█▌        | 1640/10921 [18:08<1:43:22,  1.50it/s]"
     ]
    },
    {
     "name": "stdout",
     "output_type": "stream",
     "text": [
      "corr: [0.58903], r2: [0.27469]\n",
      "Doing 1640: CLPTM1\n"
     ]
    },
    {
     "name": "stderr",
     "output_type": "stream",
     "text": [
      "Running elastic model with corum transcripts:  15%|█▌        | 1641/10921 [18:08<1:39:16,  1.56it/s]"
     ]
    },
    {
     "name": "stdout",
     "output_type": "stream",
     "text": [
      "corr: [0.12914], r2: [-0.12945]\n",
      "Doing 1641: CLPTM1L\n"
     ]
    },
    {
     "name": "stderr",
     "output_type": "stream",
     "text": [
      "Running elastic model with corum transcripts:  15%|█▌        | 1642/10921 [18:09<1:41:16,  1.53it/s]"
     ]
    },
    {
     "name": "stdout",
     "output_type": "stream",
     "text": [
      "corr: [0.46141], r2: [0.02142]\n",
      "Doing 1642: CLPX\n"
     ]
    },
    {
     "name": "stderr",
     "output_type": "stream",
     "text": [
      "Running elastic model with corum transcripts:  15%|█▌        | 1643/10921 [18:10<1:42:27,  1.51it/s]"
     ]
    },
    {
     "name": "stdout",
     "output_type": "stream",
     "text": [
      "corr: [0.12305], r2: [-0.00521]\n",
      "Doing 1643: CLSTN1\n"
     ]
    },
    {
     "name": "stderr",
     "output_type": "stream",
     "text": [
      "Running elastic model with corum transcripts:  15%|█▌        | 1644/10921 [18:11<1:45:38,  1.46it/s]"
     ]
    },
    {
     "name": "stdout",
     "output_type": "stream",
     "text": [
      "corr: [0.39927], r2: [0.09902]\n",
      "Doing 1644: CLSTN2\n"
     ]
    },
    {
     "name": "stderr",
     "output_type": "stream",
     "text": [
      "Running elastic model with corum transcripts:  15%|█▌        | 1645/10921 [18:11<1:45:16,  1.47it/s]"
     ]
    },
    {
     "name": "stdout",
     "output_type": "stream",
     "text": [
      "corr: [0.6352], r2: [0.20306]\n",
      "Doing 1645: CLSTN3\n"
     ]
    },
    {
     "name": "stderr",
     "output_type": "stream",
     "text": [
      "Running elastic model with corum transcripts:  15%|█▌        | 1646/10921 [18:12<1:43:06,  1.50it/s]"
     ]
    },
    {
     "name": "stdout",
     "output_type": "stream",
     "text": [
      "corr: [0.29629], r2: [-0.17606]\n",
      "Doing 1646: CLTA\n"
     ]
    },
    {
     "name": "stderr",
     "output_type": "stream",
     "text": [
      "Running elastic model with corum transcripts:  15%|█▌        | 1647/10921 [18:12<1:38:14,  1.57it/s]"
     ]
    },
    {
     "name": "stdout",
     "output_type": "stream",
     "text": [
      "corr: [0.39749], r2: [-0.1813]\n",
      "Doing 1647: CLTB\n"
     ]
    },
    {
     "name": "stderr",
     "output_type": "stream",
     "text": [
      "Running elastic model with corum transcripts:  15%|█▌        | 1648/10921 [18:13<1:41:51,  1.52it/s]"
     ]
    },
    {
     "name": "stdout",
     "output_type": "stream",
     "text": [
      "corr: [0.32776], r2: [0.04525]\n",
      "Doing 1648: CLTC\n"
     ]
    },
    {
     "name": "stderr",
     "output_type": "stream",
     "text": [
      "Running elastic model with corum transcripts:  15%|█▌        | 1649/10921 [18:14<1:44:51,  1.47it/s]"
     ]
    },
    {
     "name": "stdout",
     "output_type": "stream",
     "text": [
      "corr: [0.36245], r2: [-3.8114]\n",
      "Doing 1649: CLTCL1\n"
     ]
    },
    {
     "name": "stderr",
     "output_type": "stream",
     "text": [
      "Running elastic model with corum transcripts:  15%|█▌        | 1650/10921 [18:14<1:42:03,  1.51it/s]"
     ]
    },
    {
     "name": "stdout",
     "output_type": "stream",
     "text": [
      "corr: [-0.20217], r2: [-2.09363]\n",
      "Doing 1650: CLU\n"
     ]
    },
    {
     "name": "stderr",
     "output_type": "stream",
     "text": [
      "Running elastic model with corum transcripts:  15%|█▌        | 1651/10921 [18:15<1:43:55,  1.49it/s]"
     ]
    },
    {
     "name": "stdout",
     "output_type": "stream",
     "text": [
      "corr: [0.39851], r2: [0.14582]\n",
      "Doing 1651: CLUAP1\n"
     ]
    },
    {
     "name": "stderr",
     "output_type": "stream",
     "text": [
      "Running elastic model with corum transcripts:  15%|█▌        | 1652/10921 [18:16<1:40:01,  1.54it/s]"
     ]
    },
    {
     "name": "stdout",
     "output_type": "stream",
     "text": [
      "corr: [0.15926], r2: [0.00246]\n",
      "Doing 1652: CLUH\n"
     ]
    },
    {
     "name": "stderr",
     "output_type": "stream",
     "text": [
      "Running elastic model with corum transcripts:  15%|█▌        | 1653/10921 [18:16<1:37:25,  1.59it/s]"
     ]
    },
    {
     "name": "stdout",
     "output_type": "stream",
     "text": [
      "corr: [0.38122], r2: [-0.05757]\n",
      "Doing 1653: CLYBL\n"
     ]
    },
    {
     "name": "stderr",
     "output_type": "stream",
     "text": [
      "Running elastic model with corum transcripts:  15%|█▌        | 1654/10921 [18:17<1:43:06,  1.50it/s]"
     ]
    },
    {
     "name": "stdout",
     "output_type": "stream",
     "text": [
      "corr: [0.78376], r2: [0.47277]\n",
      "Doing 1654: CMA1\n"
     ]
    },
    {
     "name": "stderr",
     "output_type": "stream",
     "text": [
      "Running elastic model with corum transcripts:  15%|█▌        | 1655/10921 [18:18<1:46:31,  1.45it/s]"
     ]
    },
    {
     "name": "stdout",
     "output_type": "stream",
     "text": [
      "corr: [0.31469], r2: [0.02945]\n",
      "Doing 1655: CMAS\n"
     ]
    },
    {
     "name": "stderr",
     "output_type": "stream",
     "text": [
      "Running elastic model with corum transcripts:  15%|█▌        | 1656/10921 [18:19<1:46:40,  1.45it/s]"
     ]
    },
    {
     "name": "stdout",
     "output_type": "stream",
     "text": [
      "corr: [0.73547], r2: [0.4042]\n",
      "Doing 1656: CMBL\n"
     ]
    },
    {
     "name": "stderr",
     "output_type": "stream",
     "text": [
      "Running elastic model with corum transcripts:  15%|█▌        | 1657/10921 [18:19<1:42:04,  1.51it/s]"
     ]
    },
    {
     "name": "stdout",
     "output_type": "stream",
     "text": [
      "corr: [0.58876], r2: [-0.00669]\n",
      "Doing 1657: CMC1\n"
     ]
    },
    {
     "name": "stderr",
     "output_type": "stream",
     "text": [
      "Running elastic model with corum transcripts:  15%|█▌        | 1658/10921 [18:20<1:42:32,  1.51it/s]"
     ]
    },
    {
     "name": "stdout",
     "output_type": "stream",
     "text": [
      "corr: [0.28645], r2: [0.03126]\n",
      "Doing 1658: CMC2\n"
     ]
    },
    {
     "name": "stderr",
     "output_type": "stream",
     "text": [
      "Running elastic model with corum transcripts:  15%|█▌        | 1659/10921 [18:20<1:43:33,  1.49it/s]"
     ]
    },
    {
     "name": "stdout",
     "output_type": "stream",
     "text": [
      "corr: [0.25531], r2: [0.01753]\n",
      "Doing 1659: CMC4\n"
     ]
    },
    {
     "name": "stderr",
     "output_type": "stream",
     "text": [
      "Running elastic model with corum transcripts:  15%|█▌        | 1660/10921 [18:21<1:42:00,  1.51it/s]"
     ]
    },
    {
     "name": "stdout",
     "output_type": "stream",
     "text": [
      "corr: [0.12287], r2: [-0.04151]\n",
      "Doing 1660: CMIP\n"
     ]
    },
    {
     "name": "stderr",
     "output_type": "stream",
     "text": [
      "Running elastic model with corum transcripts:  15%|█▌        | 1661/10921 [18:22<1:38:19,  1.57it/s]"
     ]
    },
    {
     "name": "stdout",
     "output_type": "stream",
     "text": [
      "corr: [0.33004], r2: [-0.13378]\n",
      "Doing 1661: CMPK1\n"
     ]
    },
    {
     "name": "stderr",
     "output_type": "stream",
     "text": [
      "Running elastic model with corum transcripts:  15%|█▌        | 1662/10921 [18:22<1:43:18,  1.49it/s]"
     ]
    },
    {
     "name": "stdout",
     "output_type": "stream",
     "text": [
      "corr: [0.68235], r2: [0.40627]\n",
      "Doing 1662: CMPK2\n"
     ]
    },
    {
     "name": "stderr",
     "output_type": "stream",
     "text": [
      "Running elastic model with corum transcripts:  15%|█▌        | 1663/10921 [18:23<1:42:07,  1.51it/s]"
     ]
    },
    {
     "name": "stdout",
     "output_type": "stream",
     "text": [
      "corr: [0.71232], r2: [0.46174]\n",
      "Doing 1663: CMSS1\n"
     ]
    },
    {
     "name": "stderr",
     "output_type": "stream",
     "text": [
      "Running elastic model with corum transcripts:  15%|█▌        | 1664/10921 [18:24<1:37:59,  1.57it/s]"
     ]
    },
    {
     "name": "stdout",
     "output_type": "stream",
     "text": [
      "corr: [0.33016], r2: [0.09277]\n",
      "Doing 1664: CMTM3\n"
     ]
    },
    {
     "name": "stderr",
     "output_type": "stream",
     "text": [
      "Running elastic model with corum transcripts:  15%|█▌        | 1665/10921 [18:24<1:41:02,  1.53it/s]"
     ]
    },
    {
     "name": "stdout",
     "output_type": "stream",
     "text": [
      "corr: [0.58146], r2: [0.15504]\n",
      "Doing 1665: CMTM4\n"
     ]
    },
    {
     "name": "stderr",
     "output_type": "stream",
     "text": [
      "Running elastic model with corum transcripts:  15%|█▌        | 1666/10921 [18:25<1:44:06,  1.48it/s]"
     ]
    },
    {
     "name": "stdout",
     "output_type": "stream",
     "text": [
      "corr: [0.37177], r2: [0.03948]\n",
      "Doing 1666: CMTM6\n"
     ]
    },
    {
     "name": "stderr",
     "output_type": "stream",
     "text": [
      "Running elastic model with corum transcripts:  15%|█▌        | 1667/10921 [18:26<1:49:47,  1.40it/s]"
     ]
    },
    {
     "name": "stdout",
     "output_type": "stream",
     "text": [
      "corr: [0.61032], r2: [0.21985]\n",
      "Doing 1667: CMTM7\n"
     ]
    },
    {
     "name": "stderr",
     "output_type": "stream",
     "text": [
      "/Applications/venv/CPTAC_Protein/lib/python3.9/site-packages/numpy/lib/function_base.py:2691: RuntimeWarning: invalid value encountered in true_divide\n",
      "  c /= stddev[:, None]\n",
      "/Applications/venv/CPTAC_Protein/lib/python3.9/site-packages/numpy/lib/function_base.py:2692: RuntimeWarning: invalid value encountered in true_divide\n",
      "  c /= stddev[None, :]\n",
      "Running elastic model with corum transcripts:  15%|█▌        | 1668/10921 [18:27<1:46:53,  1.44it/s]"
     ]
    },
    {
     "name": "stdout",
     "output_type": "stream",
     "text": [
      "corr: [0], r2: [-0.00297]\n",
      "Doing 1668: CMTR1\n"
     ]
    },
    {
     "name": "stderr",
     "output_type": "stream",
     "text": [
      "Running elastic model with corum transcripts:  15%|█▌        | 1669/10921 [18:27<1:49:59,  1.40it/s]"
     ]
    },
    {
     "name": "stdout",
     "output_type": "stream",
     "text": [
      "corr: [0.54317], r2: [0.29497]\n",
      "Doing 1669: CMTR2\n"
     ]
    },
    {
     "name": "stderr",
     "output_type": "stream",
     "text": [
      "Running elastic model with corum transcripts:  15%|█▌        | 1670/10921 [18:28<1:46:41,  1.45it/s]"
     ]
    },
    {
     "name": "stdout",
     "output_type": "stream",
     "text": [
      "corr: [0.42892], r2: [0.1564]\n",
      "Doing 1670: CMYA5\n",
      "Not enough proteomics observations. Skipping protein.\n",
      "Doing 1671: CNBP\n"
     ]
    },
    {
     "name": "stderr",
     "output_type": "stream",
     "text": [
      "Running elastic model with corum transcripts:  15%|█▌        | 1672/10921 [18:29<1:20:04,  1.93it/s]"
     ]
    },
    {
     "name": "stdout",
     "output_type": "stream",
     "text": [
      "corr: [0.05096], r2: [-0.04686]\n",
      "Doing 1672: CNDP1\n"
     ]
    },
    {
     "name": "stderr",
     "output_type": "stream",
     "text": [
      "Running elastic model with corum transcripts:  15%|█▌        | 1673/10921 [18:29<1:27:11,  1.77it/s]"
     ]
    },
    {
     "name": "stdout",
     "output_type": "stream",
     "text": [
      "corr: [-0.09045], r2: [-0.1023]\n",
      "Doing 1673: CNDP2\n"
     ]
    },
    {
     "name": "stderr",
     "output_type": "stream",
     "text": [
      "Running elastic model with corum transcripts:  15%|█▌        | 1674/10921 [18:30<1:29:36,  1.72it/s]"
     ]
    },
    {
     "name": "stdout",
     "output_type": "stream",
     "text": [
      "corr: [0.7292], r2: [0.47616]\n",
      "Doing 1674: CNIH1\n"
     ]
    },
    {
     "name": "stderr",
     "output_type": "stream",
     "text": [
      "Running elastic model with corum transcripts:  15%|█▌        | 1675/10921 [18:31<1:31:36,  1.68it/s]"
     ]
    },
    {
     "name": "stdout",
     "output_type": "stream",
     "text": [
      "corr: [0.05436], r2: [-0.19306]\n",
      "Doing 1675: CNKSR1\n"
     ]
    },
    {
     "name": "stderr",
     "output_type": "stream",
     "text": [
      "Running elastic model with corum transcripts:  15%|█▌        | 1676/10921 [18:31<1:35:01,  1.62it/s]"
     ]
    },
    {
     "name": "stdout",
     "output_type": "stream",
     "text": [
      "corr: [0.40326], r2: [0.16172]\n",
      "Doing 1676: CNN1\n"
     ]
    },
    {
     "name": "stderr",
     "output_type": "stream",
     "text": [
      "Running elastic model with corum transcripts:  15%|█▌        | 1677/10921 [18:32<1:35:03,  1.62it/s]"
     ]
    },
    {
     "name": "stdout",
     "output_type": "stream",
     "text": [
      "corr: [0.56534], r2: [0.30483]\n",
      "Doing 1677: CNN2\n"
     ]
    },
    {
     "name": "stderr",
     "output_type": "stream",
     "text": [
      "Running elastic model with corum transcripts:  15%|█▌        | 1678/10921 [18:32<1:35:44,  1.61it/s]"
     ]
    },
    {
     "name": "stdout",
     "output_type": "stream",
     "text": [
      "corr: [0.53118], r2: [0.26089]\n",
      "Doing 1678: CNN3\n"
     ]
    },
    {
     "name": "stderr",
     "output_type": "stream",
     "text": [
      "Running elastic model with corum transcripts:  15%|█▌        | 1679/10921 [18:33<1:39:41,  1.55it/s]"
     ]
    },
    {
     "name": "stdout",
     "output_type": "stream",
     "text": [
      "corr: [0.35334], r2: [0.01611]\n",
      "Doing 1679: CNNM2\n"
     ]
    },
    {
     "name": "stderr",
     "output_type": "stream",
     "text": [
      "Running elastic model with corum transcripts:  15%|█▌        | 1680/10921 [18:34<1:37:21,  1.58it/s]"
     ]
    },
    {
     "name": "stdout",
     "output_type": "stream",
     "text": [
      "corr: [0.10003], r2: [-0.00048]\n",
      "Doing 1680: CNNM3\n"
     ]
    },
    {
     "name": "stderr",
     "output_type": "stream",
     "text": [
      "Running elastic model with corum transcripts:  15%|█▌        | 1681/10921 [18:35<1:49:25,  1.41it/s]"
     ]
    },
    {
     "name": "stdout",
     "output_type": "stream",
     "text": [
      "corr: [0.38682], r2: [0.14791]\n",
      "Doing 1681: CNNM4\n"
     ]
    },
    {
     "name": "stderr",
     "output_type": "stream",
     "text": [
      "Running elastic model with corum transcripts:  15%|█▌        | 1682/10921 [18:35<1:47:26,  1.43it/s]"
     ]
    },
    {
     "name": "stdout",
     "output_type": "stream",
     "text": [
      "corr: [0.27042], r2: [0.00536]\n",
      "Doing 1682: CNOT1\n"
     ]
    },
    {
     "name": "stderr",
     "output_type": "stream",
     "text": [
      "Running elastic model with corum transcripts:  15%|█▌        | 1683/10921 [18:36<1:50:45,  1.39it/s]"
     ]
    },
    {
     "name": "stdout",
     "output_type": "stream",
     "text": [
      "corr: [0.80277], r2: [0.54484]\n",
      "Doing 1683: CNOT10\n"
     ]
    },
    {
     "name": "stderr",
     "output_type": "stream",
     "text": [
      "Running elastic model with corum transcripts:  15%|█▌        | 1684/10921 [18:37<1:49:57,  1.40it/s]"
     ]
    },
    {
     "name": "stdout",
     "output_type": "stream",
     "text": [
      "corr: [0.65371], r2: [0.31315]\n",
      "Doing 1684: CNOT11\n"
     ]
    },
    {
     "name": "stderr",
     "output_type": "stream",
     "text": [
      "Running elastic model with corum transcripts:  15%|█▌        | 1685/10921 [18:38<1:51:39,  1.38it/s]"
     ]
    },
    {
     "name": "stdout",
     "output_type": "stream",
     "text": [
      "corr: [0.11218], r2: [-0.02601]\n",
      "Doing 1685: CNOT2\n"
     ]
    },
    {
     "name": "stderr",
     "output_type": "stream",
     "text": [
      "Running elastic model with corum transcripts:  15%|█▌        | 1686/10921 [18:38<1:51:54,  1.38it/s]"
     ]
    },
    {
     "name": "stdout",
     "output_type": "stream",
     "text": [
      "corr: [0.55032], r2: [-0.02455]\n",
      "Doing 1686: CNOT3\n"
     ]
    },
    {
     "name": "stderr",
     "output_type": "stream",
     "text": [
      "Running elastic model with corum transcripts:  15%|█▌        | 1687/10921 [18:39<1:52:14,  1.37it/s]"
     ]
    },
    {
     "name": "stdout",
     "output_type": "stream",
     "text": [
      "corr: [0.76949], r2: [0.18042]\n",
      "Doing 1687: CNOT4\n"
     ]
    },
    {
     "name": "stderr",
     "output_type": "stream",
     "text": [
      "Running elastic model with corum transcripts:  15%|█▌        | 1688/10921 [18:40<1:54:07,  1.35it/s]"
     ]
    },
    {
     "name": "stdout",
     "output_type": "stream",
     "text": [
      "corr: [0.42631], r2: [0.12869]\n",
      "Doing 1688: CNOT6\n"
     ]
    },
    {
     "name": "stderr",
     "output_type": "stream",
     "text": [
      "/Applications/venv/CPTAC_Protein/lib/python3.9/site-packages/numpy/lib/function_base.py:2691: RuntimeWarning: invalid value encountered in true_divide\n",
      "  c /= stddev[:, None]\n",
      "/Applications/venv/CPTAC_Protein/lib/python3.9/site-packages/numpy/lib/function_base.py:2692: RuntimeWarning: invalid value encountered in true_divide\n",
      "  c /= stddev[None, :]\n",
      "Running elastic model with corum transcripts:  15%|█▌        | 1689/10921 [18:40<1:50:15,  1.40it/s]"
     ]
    },
    {
     "name": "stdout",
     "output_type": "stream",
     "text": [
      "corr: [0], r2: [-0.0575]\n",
      "Doing 1689: CNOT6L\n"
     ]
    },
    {
     "name": "stderr",
     "output_type": "stream",
     "text": [
      "Running elastic model with corum transcripts:  15%|█▌        | 1690/10921 [18:41<2:07:00,  1.21it/s]"
     ]
    },
    {
     "name": "stdout",
     "output_type": "stream",
     "text": [
      "corr: [0.49108], r2: [0.20179]\n",
      "Doing 1690: CNOT7\n"
     ]
    },
    {
     "name": "stderr",
     "output_type": "stream",
     "text": [
      "Running elastic model with corum transcripts:  15%|█▌        | 1691/10921 [18:42<2:01:30,  1.27it/s]"
     ]
    },
    {
     "name": "stdout",
     "output_type": "stream",
     "text": [
      "corr: [0.54494], r2: [0.24542]\n",
      "Doing 1691: CNOT8\n"
     ]
    },
    {
     "name": "stderr",
     "output_type": "stream",
     "text": [
      "Running elastic model with corum transcripts:  15%|█▌        | 1692/10921 [18:43<1:57:25,  1.31it/s]"
     ]
    },
    {
     "name": "stdout",
     "output_type": "stream",
     "text": [
      "corr: [0.19766], r2: [0.03901]\n",
      "Doing 1692: CNP\n"
     ]
    },
    {
     "name": "stderr",
     "output_type": "stream",
     "text": [
      "Running elastic model with corum transcripts:  16%|█▌        | 1693/10921 [18:44<1:52:35,  1.37it/s]"
     ]
    },
    {
     "name": "stdout",
     "output_type": "stream",
     "text": [
      "corr: [0.62496], r2: [0.2169]\n",
      "Doing 1693: CNPY2\n"
     ]
    },
    {
     "name": "stderr",
     "output_type": "stream",
     "text": [
      "Running elastic model with corum transcripts:  16%|█▌        | 1694/10921 [18:44<1:47:59,  1.42it/s]"
     ]
    },
    {
     "name": "stdout",
     "output_type": "stream",
     "text": [
      "corr: [-0.0696], r2: [-0.16846]\n",
      "Doing 1694: CNPY3\n"
     ]
    },
    {
     "name": "stderr",
     "output_type": "stream",
     "text": [
      "Running elastic model with corum transcripts:  16%|█▌        | 1695/10921 [18:45<1:42:29,  1.50it/s]"
     ]
    },
    {
     "name": "stdout",
     "output_type": "stream",
     "text": [
      "corr: [0.25507], r2: [0.05743]\n",
      "Doing 1695: CNPY4\n"
     ]
    },
    {
     "name": "stderr",
     "output_type": "stream",
     "text": [
      "Running elastic model with corum transcripts:  16%|█▌        | 1696/10921 [18:45<1:44:10,  1.48it/s]"
     ]
    },
    {
     "name": "stdout",
     "output_type": "stream",
     "text": [
      "corr: [0.19202], r2: [-0.02032]\n",
      "Doing 1696: CNRIP1\n"
     ]
    },
    {
     "name": "stderr",
     "output_type": "stream",
     "text": [
      "Running elastic model with corum transcripts:  16%|█▌        | 1697/10921 [18:46<1:40:37,  1.53it/s]"
     ]
    },
    {
     "name": "stdout",
     "output_type": "stream",
     "text": [
      "corr: [0.51332], r2: [0.1687]\n",
      "Doing 1697: CNST\n"
     ]
    },
    {
     "name": "stderr",
     "output_type": "stream",
     "text": [
      "Running elastic model with corum transcripts:  16%|█▌        | 1698/10921 [18:47<1:36:07,  1.60it/s]"
     ]
    },
    {
     "name": "stdout",
     "output_type": "stream",
     "text": [
      "corr: [0.40901], r2: [0.01445]\n",
      "Doing 1698: CNTFR\n"
     ]
    },
    {
     "name": "stderr",
     "output_type": "stream",
     "text": [
      "Running elastic model with corum transcripts:  16%|█▌        | 1699/10921 [18:47<1:40:44,  1.53it/s]"
     ]
    },
    {
     "name": "stdout",
     "output_type": "stream",
     "text": [
      "corr: [0.7113], r2: [0.2888]\n",
      "Doing 1699: CNTN1\n"
     ]
    },
    {
     "name": "stderr",
     "output_type": "stream",
     "text": [
      "Running elastic model with corum transcripts:  16%|█▌        | 1700/10921 [18:48<1:39:25,  1.55it/s]"
     ]
    },
    {
     "name": "stdout",
     "output_type": "stream",
     "text": [
      "corr: [0.34819], r2: [0.03127]\n",
      "Doing 1700: CNTN4\n"
     ]
    },
    {
     "name": "stderr",
     "output_type": "stream",
     "text": [
      "Running elastic model with corum transcripts:  16%|█▌        | 1701/10921 [18:49<1:37:09,  1.58it/s]"
     ]
    },
    {
     "name": "stdout",
     "output_type": "stream",
     "text": [
      "corr: [-0.11937], r2: [-0.17248]\n",
      "Doing 1701: CNTNAP1\n"
     ]
    },
    {
     "name": "stderr",
     "output_type": "stream",
     "text": [
      "Running elastic model with corum transcripts:  16%|█▌        | 1702/10921 [18:50<2:00:13,  1.28it/s]"
     ]
    },
    {
     "name": "stdout",
     "output_type": "stream",
     "text": [
      "corr: [0.19629], r2: [0.02288]\n",
      "Doing 1702: CNTRL\n"
     ]
    },
    {
     "name": "stderr",
     "output_type": "stream",
     "text": [
      "Running elastic model with corum transcripts:  16%|█▌        | 1703/10921 [18:50<1:50:39,  1.39it/s]"
     ]
    },
    {
     "name": "stdout",
     "output_type": "stream",
     "text": [
      "corr: [0.54724], r2: [0.04787]\n",
      "Doing 1703: CNTROB\n"
     ]
    },
    {
     "name": "stderr",
     "output_type": "stream",
     "text": [
      "Running elastic model with corum transcripts:  16%|█▌        | 1704/10921 [18:51<1:47:59,  1.42it/s]"
     ]
    },
    {
     "name": "stdout",
     "output_type": "stream",
     "text": [
      "corr: [0.05998], r2: [-0.11288]\n",
      "Doing 1704: COA1\n"
     ]
    },
    {
     "name": "stderr",
     "output_type": "stream",
     "text": [
      "Running elastic model with corum transcripts:  16%|█▌        | 1705/10921 [18:52<1:49:00,  1.41it/s]"
     ]
    },
    {
     "name": "stdout",
     "output_type": "stream",
     "text": [
      "corr: [0.24544], r2: [0.05822]\n",
      "Doing 1705: COA3\n"
     ]
    },
    {
     "name": "stderr",
     "output_type": "stream",
     "text": [
      "Running elastic model with corum transcripts:  16%|█▌        | 1706/10921 [18:52<1:49:32,  1.40it/s]"
     ]
    },
    {
     "name": "stdout",
     "output_type": "stream",
     "text": [
      "corr: [0.48591], r2: [0.20207]\n",
      "Doing 1706: COA4\n"
     ]
    },
    {
     "name": "stderr",
     "output_type": "stream",
     "text": [
      "Running elastic model with corum transcripts:  16%|█▌        | 1707/10921 [18:53<1:46:59,  1.44it/s]"
     ]
    },
    {
     "name": "stdout",
     "output_type": "stream",
     "text": [
      "corr: [0.49586], r2: [0.07826]\n",
      "Doing 1707: COA5\n"
     ]
    },
    {
     "name": "stderr",
     "output_type": "stream",
     "text": [
      "Running elastic model with corum transcripts:  16%|█▌        | 1708/10921 [18:54<1:42:11,  1.50it/s]"
     ]
    },
    {
     "name": "stdout",
     "output_type": "stream",
     "text": [
      "corr: [0.38399], r2: [-0.12181]\n",
      "Doing 1708: COA6\n"
     ]
    },
    {
     "name": "stderr",
     "output_type": "stream",
     "text": [
      "Running elastic model with corum transcripts:  16%|█▌        | 1709/10921 [18:54<1:43:34,  1.48it/s]"
     ]
    },
    {
     "name": "stdout",
     "output_type": "stream",
     "text": [
      "corr: [0.19046], r2: [-0.33492]\n",
      "Doing 1709: COA7\n"
     ]
    },
    {
     "name": "stderr",
     "output_type": "stream",
     "text": [
      "Running elastic model with corum transcripts:  16%|█▌        | 1710/10921 [18:55<1:40:15,  1.53it/s]"
     ]
    },
    {
     "name": "stdout",
     "output_type": "stream",
     "text": [
      "corr: [0.5294], r2: [0.20096]\n",
      "Doing 1710: COASY\n"
     ]
    },
    {
     "name": "stderr",
     "output_type": "stream",
     "text": [
      "Running elastic model with corum transcripts:  16%|█▌        | 1711/10921 [18:56<1:37:08,  1.58it/s]"
     ]
    },
    {
     "name": "stdout",
     "output_type": "stream",
     "text": [
      "corr: [0.42125], r2: [0.09179]\n",
      "Doing 1711: COBL\n"
     ]
    },
    {
     "name": "stderr",
     "output_type": "stream",
     "text": [
      "Running elastic model with corum transcripts:  16%|█▌        | 1712/10921 [18:56<1:44:45,  1.47it/s]"
     ]
    },
    {
     "name": "stdout",
     "output_type": "stream",
     "text": [
      "corr: [0.70605], r2: [0.37525]\n",
      "Doing 1712: COBLL1\n"
     ]
    },
    {
     "name": "stderr",
     "output_type": "stream",
     "text": [
      "Running elastic model with corum transcripts:  16%|█▌        | 1713/10921 [18:57<2:03:35,  1.24it/s]"
     ]
    },
    {
     "name": "stdout",
     "output_type": "stream",
     "text": [
      "corr: [0.67159], r2: [0.34952]\n",
      "Doing 1713: COCH\n"
     ]
    },
    {
     "name": "stderr",
     "output_type": "stream",
     "text": [
      "Running elastic model with corum transcripts:  16%|█▌        | 1714/10921 [18:58<1:57:57,  1.30it/s]"
     ]
    },
    {
     "name": "stdout",
     "output_type": "stream",
     "text": [
      "corr: [0.79469], r2: [0.52582]\n",
      "Doing 1714: COG1\n"
     ]
    },
    {
     "name": "stderr",
     "output_type": "stream",
     "text": [
      "Running elastic model with corum transcripts:  16%|█▌        | 1715/10921 [18:59<2:01:08,  1.27it/s]"
     ]
    },
    {
     "name": "stdout",
     "output_type": "stream",
     "text": [
      "corr: [0.36594], r2: [0.00816]\n",
      "Doing 1715: COG2\n"
     ]
    },
    {
     "name": "stderr",
     "output_type": "stream",
     "text": [
      "Running elastic model with corum transcripts:  16%|█▌        | 1716/10921 [19:00<1:58:07,  1.30it/s]"
     ]
    },
    {
     "name": "stdout",
     "output_type": "stream",
     "text": [
      "corr: [0.49744], r2: [0.12182]\n",
      "Doing 1716: COG3\n"
     ]
    },
    {
     "name": "stderr",
     "output_type": "stream",
     "text": [
      "Running elastic model with corum transcripts:  16%|█▌        | 1717/10921 [19:00<1:56:02,  1.32it/s]"
     ]
    },
    {
     "name": "stdout",
     "output_type": "stream",
     "text": [
      "corr: [0.52463], r2: [0.18575]\n",
      "Doing 1717: COG4\n"
     ]
    },
    {
     "name": "stderr",
     "output_type": "stream",
     "text": [
      "Running elastic model with corum transcripts:  16%|█▌        | 1718/10921 [19:01<1:56:52,  1.31it/s]"
     ]
    },
    {
     "name": "stdout",
     "output_type": "stream",
     "text": [
      "corr: [0.42144], r2: [0.01223]\n",
      "Doing 1718: COG5\n"
     ]
    },
    {
     "name": "stderr",
     "output_type": "stream",
     "text": [
      "Running elastic model with corum transcripts:  16%|█▌        | 1719/10921 [19:02<1:58:03,  1.30it/s]"
     ]
    },
    {
     "name": "stdout",
     "output_type": "stream",
     "text": [
      "corr: [0.39193], r2: [-0.02488]\n",
      "Doing 1719: COG6\n"
     ]
    },
    {
     "name": "stderr",
     "output_type": "stream",
     "text": [
      "Running elastic model with corum transcripts:  16%|█▌        | 1720/10921 [19:03<1:55:37,  1.33it/s]"
     ]
    },
    {
     "name": "stdout",
     "output_type": "stream",
     "text": [
      "corr: [0.32588], r2: [-0.00216]\n",
      "Doing 1720: COG7\n"
     ]
    },
    {
     "name": "stderr",
     "output_type": "stream",
     "text": [
      "Running elastic model with corum transcripts:  16%|█▌        | 1721/10921 [19:04<2:05:26,  1.22it/s]"
     ]
    },
    {
     "name": "stdout",
     "output_type": "stream",
     "text": [
      "corr: [0.38274], r2: [0.06559]\n",
      "Doing 1721: COG8\n"
     ]
    },
    {
     "name": "stderr",
     "output_type": "stream",
     "text": [
      "Running elastic model with corum transcripts:  16%|█▌        | 1722/10921 [19:05<2:17:33,  1.11it/s]"
     ]
    },
    {
     "name": "stdout",
     "output_type": "stream",
     "text": [
      "corr: [0.29894], r2: [-0.01557]\n",
      "Doing 1722: COIL\n"
     ]
    },
    {
     "name": "stderr",
     "output_type": "stream",
     "text": [
      "Running elastic model with corum transcripts:  16%|█▌        | 1723/10921 [19:06<2:17:38,  1.11it/s]"
     ]
    },
    {
     "name": "stdout",
     "output_type": "stream",
     "text": [
      "corr: [0.59178], r2: [0.32776]\n",
      "Doing 1723: COL10A1\n"
     ]
    },
    {
     "name": "stderr",
     "output_type": "stream",
     "text": [
      "Running elastic model with corum transcripts:  16%|█▌        | 1724/10921 [19:06<2:14:25,  1.14it/s]"
     ]
    },
    {
     "name": "stdout",
     "output_type": "stream",
     "text": [
      "corr: [0.63481], r2: [0.37662]\n",
      "Doing 1724: COL11A1\n"
     ]
    },
    {
     "name": "stderr",
     "output_type": "stream",
     "text": [
      "Running elastic model with corum transcripts:  16%|█▌        | 1725/10921 [19:07<2:18:57,  1.10it/s]"
     ]
    },
    {
     "name": "stdout",
     "output_type": "stream",
     "text": [
      "corr: [0.54824], r2: [0.27116]\n",
      "Doing 1725: COL12A1\n"
     ]
    },
    {
     "name": "stderr",
     "output_type": "stream",
     "text": [
      "Running elastic model with corum transcripts:  16%|█▌        | 1726/10921 [19:09<2:41:18,  1.05s/it]"
     ]
    },
    {
     "name": "stdout",
     "output_type": "stream",
     "text": [
      "corr: [0.41285], r2: [-0.03428]\n",
      "Doing 1726: COL14A1\n"
     ]
    },
    {
     "name": "stderr",
     "output_type": "stream",
     "text": [
      "Running elastic model with corum transcripts:  16%|█▌        | 1727/10921 [19:10<2:37:25,  1.03s/it]"
     ]
    },
    {
     "name": "stdout",
     "output_type": "stream",
     "text": [
      "corr: [0.62428], r2: [0.27776]\n",
      "Doing 1727: COL15A1\n"
     ]
    },
    {
     "name": "stderr",
     "output_type": "stream",
     "text": [
      "Running elastic model with corum transcripts:  16%|█▌        | 1728/10921 [19:11<2:33:35,  1.00s/it]"
     ]
    },
    {
     "name": "stdout",
     "output_type": "stream",
     "text": [
      "corr: [0.36466], r2: [0.10764]\n",
      "Doing 1728: COL16A1\n"
     ]
    },
    {
     "name": "stderr",
     "output_type": "stream",
     "text": [
      "Running elastic model with corum transcripts:  16%|█▌        | 1729/10921 [19:12<2:29:14,  1.03it/s]"
     ]
    },
    {
     "name": "stdout",
     "output_type": "stream",
     "text": [
      "corr: [0.27532], r2: [0.06864]\n",
      "Doing 1729: COL17A1\n"
     ]
    },
    {
     "name": "stderr",
     "output_type": "stream",
     "text": [
      "Running elastic model with corum transcripts:  16%|█▌        | 1730/10921 [19:12<2:21:06,  1.09it/s]"
     ]
    },
    {
     "name": "stdout",
     "output_type": "stream",
     "text": [
      "corr: [0.66471], r2: [0.41498]\n",
      "Doing 1730: COL18A1\n"
     ]
    },
    {
     "name": "stderr",
     "output_type": "stream",
     "text": [
      "Running elastic model with corum transcripts:  16%|█▌        | 1731/10921 [19:13<2:23:15,  1.07it/s]"
     ]
    },
    {
     "name": "stdout",
     "output_type": "stream",
     "text": [
      "corr: [0.25937], r2: [0.02867]\n",
      "Doing 1731: COL1A1\n"
     ]
    },
    {
     "name": "stderr",
     "output_type": "stream",
     "text": [
      "Running elastic model with corum transcripts:  16%|█▌        | 1732/10921 [19:14<2:21:48,  1.08it/s]"
     ]
    },
    {
     "name": "stdout",
     "output_type": "stream",
     "text": [
      "corr: [0.48159], r2: [0.13744]\n",
      "Doing 1732: COL1A2\n"
     ]
    },
    {
     "name": "stderr",
     "output_type": "stream",
     "text": [
      "Running elastic model with corum transcripts:  16%|█▌        | 1733/10921 [19:15<2:11:09,  1.17it/s]"
     ]
    },
    {
     "name": "stdout",
     "output_type": "stream",
     "text": [
      "corr: [0.51924], r2: [0.13438]\n",
      "Doing 1733: COL21A1\n"
     ]
    },
    {
     "name": "stderr",
     "output_type": "stream",
     "text": [
      "Running elastic model with corum transcripts:  16%|█▌        | 1734/10921 [19:16<2:03:15,  1.24it/s]"
     ]
    },
    {
     "name": "stdout",
     "output_type": "stream",
     "text": [
      "corr: [0.0248], r2: [-0.15316]\n",
      "Doing 1734: COL22A1\n"
     ]
    },
    {
     "name": "stderr",
     "output_type": "stream",
     "text": [
      "/Applications/venv/CPTAC_Protein/lib/python3.9/site-packages/numpy/lib/function_base.py:2691: RuntimeWarning: invalid value encountered in true_divide\n",
      "  c /= stddev[:, None]\n",
      "/Applications/venv/CPTAC_Protein/lib/python3.9/site-packages/numpy/lib/function_base.py:2692: RuntimeWarning: invalid value encountered in true_divide\n",
      "  c /= stddev[None, :]\n",
      "Running elastic model with corum transcripts:  16%|█▌        | 1735/10921 [19:16<1:56:52,  1.31it/s]"
     ]
    },
    {
     "name": "stdout",
     "output_type": "stream",
     "text": [
      "corr: [0], r2: [-0.14001]\n",
      "Doing 1735: COL25A1\n"
     ]
    },
    {
     "name": "stderr",
     "output_type": "stream",
     "text": [
      "/Applications/venv/CPTAC_Protein/lib/python3.9/site-packages/numpy/lib/function_base.py:2691: RuntimeWarning: invalid value encountered in true_divide\n",
      "  c /= stddev[:, None]\n",
      "/Applications/venv/CPTAC_Protein/lib/python3.9/site-packages/numpy/lib/function_base.py:2692: RuntimeWarning: invalid value encountered in true_divide\n",
      "  c /= stddev[None, :]\n",
      "Running elastic model with corum transcripts:  16%|█▌        | 1736/10921 [19:17<1:52:35,  1.36it/s]"
     ]
    },
    {
     "name": "stdout",
     "output_type": "stream",
     "text": [
      "corr: [0], r2: [-4.23471]\n",
      "Doing 1736: COL26A1\n"
     ]
    },
    {
     "name": "stderr",
     "output_type": "stream",
     "text": [
      "Running elastic model with corum transcripts:  16%|█▌        | 1737/10921 [19:18<1:51:39,  1.37it/s]"
     ]
    },
    {
     "name": "stdout",
     "output_type": "stream",
     "text": [
      "corr: [0.80825], r2: [0.21305]\n",
      "Doing 1737: COL28A1\n"
     ]
    },
    {
     "name": "stderr",
     "output_type": "stream",
     "text": [
      "/Applications/venv/CPTAC_Protein/lib/python3.9/site-packages/numpy/lib/function_base.py:2691: RuntimeWarning: invalid value encountered in true_divide\n",
      "  c /= stddev[:, None]\n",
      "/Applications/venv/CPTAC_Protein/lib/python3.9/site-packages/numpy/lib/function_base.py:2692: RuntimeWarning: invalid value encountered in true_divide\n",
      "  c /= stddev[None, :]\n",
      "Running elastic model with corum transcripts:  16%|█▌        | 1738/10921 [19:18<1:50:12,  1.39it/s]"
     ]
    },
    {
     "name": "stdout",
     "output_type": "stream",
     "text": [
      "corr: [0], r2: [-0.01668]\n",
      "Doing 1738: COL2A1\n"
     ]
    },
    {
     "name": "stderr",
     "output_type": "stream",
     "text": [
      "Running elastic model with corum transcripts:  16%|█▌        | 1739/10921 [19:19<1:55:44,  1.32it/s]"
     ]
    },
    {
     "name": "stdout",
     "output_type": "stream",
     "text": [
      "corr: [0.09029], r2: [0.00791]\n",
      "Doing 1739: COL3A1\n"
     ]
    },
    {
     "name": "stderr",
     "output_type": "stream",
     "text": [
      "Running elastic model with corum transcripts:  16%|█▌        | 1740/10921 [19:20<1:57:47,  1.30it/s]"
     ]
    },
    {
     "name": "stdout",
     "output_type": "stream",
     "text": [
      "corr: [0.43107], r2: [0.14204]\n",
      "Doing 1740: COL4A1\n"
     ]
    },
    {
     "name": "stderr",
     "output_type": "stream",
     "text": [
      "Running elastic model with corum transcripts:  16%|█▌        | 1741/10921 [19:21<1:56:38,  1.31it/s]"
     ]
    },
    {
     "name": "stdout",
     "output_type": "stream",
     "text": [
      "corr: [0.1796], r2: [0.00675]\n",
      "Doing 1741: COL4A2\n"
     ]
    },
    {
     "name": "stderr",
     "output_type": "stream",
     "text": [
      "Running elastic model with corum transcripts:  16%|█▌        | 1742/10921 [19:21<1:50:55,  1.38it/s]"
     ]
    },
    {
     "name": "stdout",
     "output_type": "stream",
     "text": [
      "corr: [0.31158], r2: [0.09708]\n",
      "Doing 1742: COL4A3\n"
     ]
    },
    {
     "name": "stderr",
     "output_type": "stream",
     "text": [
      "/Applications/venv/CPTAC_Protein/lib/python3.9/site-packages/numpy/lib/function_base.py:2691: RuntimeWarning: invalid value encountered in true_divide\n",
      "  c /= stddev[:, None]\n",
      "/Applications/venv/CPTAC_Protein/lib/python3.9/site-packages/numpy/lib/function_base.py:2692: RuntimeWarning: invalid value encountered in true_divide\n",
      "  c /= stddev[None, :]\n",
      "Running elastic model with corum transcripts:  16%|█▌        | 1743/10921 [19:22<1:51:22,  1.37it/s]"
     ]
    },
    {
     "name": "stdout",
     "output_type": "stream",
     "text": [
      "corr: [0], r2: [-0.10909]\n",
      "Doing 1743: COL4A3BP\n"
     ]
    },
    {
     "name": "stderr",
     "output_type": "stream",
     "text": [
      "Running elastic model with corum transcripts:  16%|█▌        | 1744/10921 [19:23<1:54:40,  1.33it/s]"
     ]
    },
    {
     "name": "stdout",
     "output_type": "stream",
     "text": [
      "corr: [0.79646], r2: [0.47964]\n",
      "Doing 1744: COL4A5\n"
     ]
    },
    {
     "name": "stderr",
     "output_type": "stream",
     "text": [
      "/Applications/venv/CPTAC_Protein/lib/python3.9/site-packages/numpy/lib/function_base.py:2691: RuntimeWarning: invalid value encountered in true_divide\n",
      "  c /= stddev[:, None]\n",
      "/Applications/venv/CPTAC_Protein/lib/python3.9/site-packages/numpy/lib/function_base.py:2692: RuntimeWarning: invalid value encountered in true_divide\n",
      "  c /= stddev[None, :]\n",
      "Running elastic model with corum transcripts:  16%|█▌        | 1745/10921 [19:24<1:54:10,  1.34it/s]"
     ]
    },
    {
     "name": "stdout",
     "output_type": "stream",
     "text": [
      "corr: [0], r2: [-0.03069]\n",
      "Doing 1745: COL4A6\n"
     ]
    },
    {
     "name": "stderr",
     "output_type": "stream",
     "text": [
      "Running elastic model with corum transcripts:  16%|█▌        | 1746/10921 [19:24<1:51:38,  1.37it/s]"
     ]
    },
    {
     "name": "stdout",
     "output_type": "stream",
     "text": [
      "corr: [-0.11222], r2: [-0.33237]\n",
      "Doing 1746: COL5A1\n"
     ]
    },
    {
     "name": "stderr",
     "output_type": "stream",
     "text": [
      "Running elastic model with corum transcripts:  16%|█▌        | 1747/10921 [19:25<1:47:26,  1.42it/s]"
     ]
    },
    {
     "name": "stdout",
     "output_type": "stream",
     "text": [
      "corr: [0.57816], r2: [0.28726]\n",
      "Doing 1747: COL5A2\n"
     ]
    },
    {
     "name": "stderr",
     "output_type": "stream",
     "text": [
      "Running elastic model with corum transcripts:  16%|█▌        | 1748/10921 [19:26<1:50:08,  1.39it/s]"
     ]
    },
    {
     "name": "stdout",
     "output_type": "stream",
     "text": [
      "corr: [0.63232], r2: [0.37157]\n",
      "Doing 1748: COL5A3\n"
     ]
    },
    {
     "name": "stderr",
     "output_type": "stream",
     "text": [
      "Running elastic model with corum transcripts:  16%|█▌        | 1749/10921 [19:27<1:47:57,  1.42it/s]"
     ]
    },
    {
     "name": "stdout",
     "output_type": "stream",
     "text": [
      "corr: [0.46375], r2: [-0.52913]\n",
      "Doing 1749: COL6A1\n"
     ]
    },
    {
     "name": "stderr",
     "output_type": "stream",
     "text": [
      "Running elastic model with corum transcripts:  16%|█▌        | 1750/10921 [19:27<1:46:12,  1.44it/s]"
     ]
    },
    {
     "name": "stdout",
     "output_type": "stream",
     "text": [
      "corr: [0.45814], r2: [0.09672]\n",
      "Doing 1750: COL6A2\n"
     ]
    },
    {
     "name": "stderr",
     "output_type": "stream",
     "text": [
      "Running elastic model with corum transcripts:  16%|█▌        | 1751/10921 [19:28<1:55:01,  1.33it/s]"
     ]
    },
    {
     "name": "stdout",
     "output_type": "stream",
     "text": [
      "corr: [0.42604], r2: [0.06193]\n",
      "Doing 1751: COL6A3\n"
     ]
    },
    {
     "name": "stderr",
     "output_type": "stream",
     "text": [
      "Running elastic model with corum transcripts:  16%|█▌        | 1752/10921 [19:29<2:00:24,  1.27it/s]"
     ]
    },
    {
     "name": "stdout",
     "output_type": "stream",
     "text": [
      "corr: [0.34728], r2: [0.04695]\n",
      "Doing 1752: COL6A5\n"
     ]
    },
    {
     "name": "stderr",
     "output_type": "stream",
     "text": [
      "Running elastic model with corum transcripts:  16%|█▌        | 1753/10921 [19:30<2:09:34,  1.18it/s]"
     ]
    },
    {
     "name": "stdout",
     "output_type": "stream",
     "text": [
      "corr: [-0.05994], r2: [-0.03503]\n",
      "Doing 1753: COL6A6\n"
     ]
    },
    {
     "name": "stderr",
     "output_type": "stream",
     "text": [
      "Running elastic model with corum transcripts:  16%|█▌        | 1754/10921 [19:31<2:15:11,  1.13it/s]"
     ]
    },
    {
     "name": "stdout",
     "output_type": "stream",
     "text": [
      "corr: [0.50129], r2: [0.20381]\n",
      "Doing 1754: COL7A1\n"
     ]
    },
    {
     "name": "stderr",
     "output_type": "stream",
     "text": [
      "Running elastic model with corum transcripts:  16%|█▌        | 1755/10921 [19:32<2:19:20,  1.10it/s]"
     ]
    },
    {
     "name": "stdout",
     "output_type": "stream",
     "text": [
      "corr: [0.21668], r2: [0.03042]\n",
      "Doing 1755: COL8A1\n"
     ]
    },
    {
     "name": "stderr",
     "output_type": "stream",
     "text": [
      "Running elastic model with corum transcripts:  16%|█▌        | 1756/10921 [19:33<2:14:33,  1.14it/s]"
     ]
    },
    {
     "name": "stdout",
     "output_type": "stream",
     "text": [
      "corr: [0.44603], r2: [0.19416]\n",
      "Doing 1756: COL8A2\n"
     ]
    },
    {
     "name": "stderr",
     "output_type": "stream",
     "text": [
      "Running elastic model with corum transcripts:  16%|█▌        | 1757/10921 [19:34<2:16:19,  1.12it/s]"
     ]
    },
    {
     "name": "stdout",
     "output_type": "stream",
     "text": [
      "corr: [0.56433], r2: [0.28583]\n",
      "Doing 1757: COL9A2\n"
     ]
    },
    {
     "name": "stderr",
     "output_type": "stream",
     "text": [
      "Running elastic model with corum transcripts:  16%|█▌        | 1758/10921 [19:34<2:07:20,  1.20it/s]"
     ]
    },
    {
     "name": "stdout",
     "output_type": "stream",
     "text": [
      "corr: [0.39897], r2: [0.12525]\n",
      "Doing 1758: COLEC11\n"
     ]
    },
    {
     "name": "stderr",
     "output_type": "stream",
     "text": [
      "Running elastic model with corum transcripts:  16%|█▌        | 1759/10921 [19:35<2:01:40,  1.25it/s]"
     ]
    },
    {
     "name": "stdout",
     "output_type": "stream",
     "text": [
      "corr: [0.79389], r2: [0.54044]\n",
      "Doing 1759: COLEC12\n"
     ]
    },
    {
     "name": "stderr",
     "output_type": "stream",
     "text": [
      "Running elastic model with corum transcripts:  16%|█▌        | 1760/10921 [19:36<1:54:54,  1.33it/s]"
     ]
    },
    {
     "name": "stdout",
     "output_type": "stream",
     "text": [
      "corr: [0.75016], r2: [0.43958]\n",
      "Doing 1760: COLGALT1\n"
     ]
    },
    {
     "name": "stderr",
     "output_type": "stream",
     "text": [
      "Running elastic model with corum transcripts:  16%|█▌        | 1761/10921 [19:36<1:52:17,  1.36it/s]"
     ]
    },
    {
     "name": "stdout",
     "output_type": "stream",
     "text": [
      "corr: [0.56054], r2: [0.31334]\n",
      "Doing 1761: COLGALT2\n"
     ]
    },
    {
     "name": "stderr",
     "output_type": "stream",
     "text": [
      "/Applications/venv/CPTAC_Protein/lib/python3.9/site-packages/numpy/lib/function_base.py:2691: RuntimeWarning: invalid value encountered in true_divide\n",
      "  c /= stddev[:, None]\n",
      "/Applications/venv/CPTAC_Protein/lib/python3.9/site-packages/numpy/lib/function_base.py:2692: RuntimeWarning: invalid value encountered in true_divide\n",
      "  c /= stddev[None, :]\n",
      "Running elastic model with corum transcripts:  16%|█▌        | 1762/10921 [19:37<2:01:26,  1.26it/s]"
     ]
    },
    {
     "name": "stdout",
     "output_type": "stream",
     "text": [
      "corr: [0], r2: [-0.04722]\n",
      "Doing 1762: COMMD1\n"
     ]
    },
    {
     "name": "stderr",
     "output_type": "stream",
     "text": [
      "Running elastic model with corum transcripts:  16%|█▌        | 1763/10921 [19:38<2:01:19,  1.26it/s]"
     ]
    },
    {
     "name": "stdout",
     "output_type": "stream",
     "text": [
      "corr: [0.29078], r2: [-0.1866]\n",
      "Doing 1763: COMMD10\n"
     ]
    },
    {
     "name": "stderr",
     "output_type": "stream",
     "text": [
      "Running elastic model with corum transcripts:  16%|█▌        | 1764/10921 [19:39<2:05:43,  1.21it/s]"
     ]
    },
    {
     "name": "stdout",
     "output_type": "stream",
     "text": [
      "corr: [0.27146], r2: [-0.08693]\n",
      "Doing 1764: COMMD2\n"
     ]
    },
    {
     "name": "stderr",
     "output_type": "stream",
     "text": [
      "Running elastic model with corum transcripts:  16%|█▌        | 1765/10921 [19:40<2:07:16,  1.20it/s]"
     ]
    },
    {
     "name": "stdout",
     "output_type": "stream",
     "text": [
      "corr: [0.26425], r2: [-0.01656]\n",
      "Doing 1765: COMMD3\n"
     ]
    },
    {
     "name": "stderr",
     "output_type": "stream",
     "text": [
      "Running elastic model with corum transcripts:  16%|█▌        | 1766/10921 [19:41<2:01:25,  1.26it/s]"
     ]
    },
    {
     "name": "stdout",
     "output_type": "stream",
     "text": [
      "corr: [0.12837], r2: [-0.35158]\n",
      "Doing 1766: COMMD3-BMI1\n"
     ]
    },
    {
     "name": "stderr",
     "output_type": "stream",
     "text": [
      "Running elastic model with corum transcripts:  16%|█▌        | 1767/10921 [19:41<1:55:25,  1.32it/s]"
     ]
    },
    {
     "name": "stdout",
     "output_type": "stream",
     "text": [
      "corr: [0.54364], r2: [-0.14718]\n",
      "Doing 1767: COMMD4\n"
     ]
    },
    {
     "name": "stderr",
     "output_type": "stream",
     "text": [
      "Running elastic model with corum transcripts:  16%|█▌        | 1768/10921 [19:42<2:03:15,  1.24it/s]"
     ]
    },
    {
     "name": "stdout",
     "output_type": "stream",
     "text": [
      "corr: [0.08121], r2: [-0.17632]\n",
      "Doing 1768: COMMD5\n"
     ]
    },
    {
     "name": "stderr",
     "output_type": "stream",
     "text": [
      "Running elastic model with corum transcripts:  16%|█▌        | 1769/10921 [19:43<2:00:56,  1.26it/s]"
     ]
    },
    {
     "name": "stdout",
     "output_type": "stream",
     "text": [
      "corr: [0.12339], r2: [-0.36337]\n",
      "Doing 1769: COMMD6\n"
     ]
    },
    {
     "name": "stderr",
     "output_type": "stream",
     "text": [
      "Running elastic model with corum transcripts:  16%|█▌        | 1770/10921 [19:44<2:00:15,  1.27it/s]"
     ]
    },
    {
     "name": "stdout",
     "output_type": "stream",
     "text": [
      "corr: [0.34447], r2: [-0.01468]\n",
      "Doing 1770: COMMD7\n"
     ]
    },
    {
     "name": "stderr",
     "output_type": "stream",
     "text": [
      "Running elastic model with corum transcripts:  16%|█▌        | 1771/10921 [19:44<1:58:40,  1.28it/s]"
     ]
    },
    {
     "name": "stdout",
     "output_type": "stream",
     "text": [
      "corr: [0.1832], r2: [-0.20469]\n",
      "Doing 1771: COMMD8\n"
     ]
    },
    {
     "name": "stderr",
     "output_type": "stream",
     "text": [
      "Running elastic model with corum transcripts:  16%|█▌        | 1772/10921 [19:45<2:08:52,  1.18it/s]"
     ]
    },
    {
     "name": "stdout",
     "output_type": "stream",
     "text": [
      "corr: [0.48834], r2: [-0.3248]\n",
      "Doing 1772: COMMD9\n"
     ]
    },
    {
     "name": "stderr",
     "output_type": "stream",
     "text": [
      "Running elastic model with corum transcripts:  16%|█▌        | 1773/10921 [19:47<2:19:40,  1.09it/s]"
     ]
    },
    {
     "name": "stdout",
     "output_type": "stream",
     "text": [
      "corr: [0.10835], r2: [-0.33641]\n",
      "Doing 1773: COMP\n"
     ]
    },
    {
     "name": "stderr",
     "output_type": "stream",
     "text": [
      "Running elastic model with corum transcripts:  16%|█▌        | 1774/10921 [19:47<2:18:56,  1.10it/s]"
     ]
    },
    {
     "name": "stdout",
     "output_type": "stream",
     "text": [
      "corr: [0.57468], r2: [0.31012]\n",
      "Doing 1774: COMT\n"
     ]
    },
    {
     "name": "stderr",
     "output_type": "stream",
     "text": [
      "Running elastic model with corum transcripts:  16%|█▋        | 1775/10921 [19:49<2:39:50,  1.05s/it]"
     ]
    },
    {
     "name": "stdout",
     "output_type": "stream",
     "text": [
      "corr: [0.64364], r2: [0.28375]\n",
      "Doing 1775: COMTD1\n"
     ]
    },
    {
     "name": "stderr",
     "output_type": "stream",
     "text": [
      "Running elastic model with corum transcripts:  16%|█▋        | 1776/10921 [19:50<2:34:35,  1.01s/it]"
     ]
    },
    {
     "name": "stdout",
     "output_type": "stream",
     "text": [
      "corr: [0.40709], r2: [0.12384]\n",
      "Doing 1776: COPA\n"
     ]
    },
    {
     "name": "stderr",
     "output_type": "stream",
     "text": [
      "/Applications/venv/CPTAC_Protein/lib/python3.9/site-packages/numpy/lib/function_base.py:2691: RuntimeWarning: invalid value encountered in true_divide\n",
      "  c /= stddev[:, None]\n",
      "/Applications/venv/CPTAC_Protein/lib/python3.9/site-packages/numpy/lib/function_base.py:2692: RuntimeWarning: invalid value encountered in true_divide\n",
      "  c /= stddev[None, :]\n",
      "Running elastic model with corum transcripts:  16%|█▋        | 1777/10921 [19:51<2:30:06,  1.02it/s]"
     ]
    },
    {
     "name": "stdout",
     "output_type": "stream",
     "text": [
      "corr: [0], r2: [-0.4689]\n",
      "Doing 1777: COPB1\n"
     ]
    },
    {
     "name": "stderr",
     "output_type": "stream",
     "text": [
      "Running elastic model with corum transcripts:  16%|█▋        | 1778/10921 [19:51<2:24:05,  1.06it/s]"
     ]
    },
    {
     "name": "stdout",
     "output_type": "stream",
     "text": [
      "corr: [0.08346], r2: [-0.40446]\n",
      "Doing 1778: COPB2\n"
     ]
    },
    {
     "name": "stderr",
     "output_type": "stream",
     "text": [
      "Running elastic model with corum transcripts:  16%|█▋        | 1779/10921 [19:52<2:15:02,  1.13it/s]"
     ]
    },
    {
     "name": "stdout",
     "output_type": "stream",
     "text": [
      "corr: [0.48006], r2: [-0.21288]\n",
      "Doing 1779: COPE\n"
     ]
    },
    {
     "name": "stderr",
     "output_type": "stream",
     "text": [
      "Running elastic model with corum transcripts:  16%|█▋        | 1780/10921 [19:53<2:04:28,  1.22it/s]"
     ]
    },
    {
     "name": "stdout",
     "output_type": "stream",
     "text": [
      "corr: [0.10049], r2: [-0.06141]\n",
      "Doing 1780: COPG1\n"
     ]
    },
    {
     "name": "stderr",
     "output_type": "stream",
     "text": [
      "Running elastic model with corum transcripts:  16%|█▋        | 1781/10921 [19:54<1:58:05,  1.29it/s]"
     ]
    },
    {
     "name": "stdout",
     "output_type": "stream",
     "text": [
      "corr: [0.35463], r2: [-0.12598]\n",
      "Doing 1781: COPG2\n"
     ]
    },
    {
     "name": "stderr",
     "output_type": "stream",
     "text": [
      "Running elastic model with corum transcripts:  16%|█▋        | 1782/10921 [19:54<1:54:51,  1.33it/s]"
     ]
    },
    {
     "name": "stdout",
     "output_type": "stream",
     "text": [
      "corr: [0.53317], r2: [0.0554]\n",
      "Doing 1782: COPRS\n"
     ]
    },
    {
     "name": "stderr",
     "output_type": "stream",
     "text": [
      "Running elastic model with corum transcripts:  16%|█▋        | 1783/10921 [19:55<2:08:33,  1.18it/s]"
     ]
    },
    {
     "name": "stdout",
     "output_type": "stream",
     "text": [
      "corr: [0.59502], r2: [0.06285]\n",
      "Doing 1783: COPS2\n"
     ]
    },
    {
     "name": "stderr",
     "output_type": "stream",
     "text": [
      "Running elastic model with corum transcripts:  16%|█▋        | 1784/10921 [19:57<2:25:35,  1.05it/s]"
     ]
    },
    {
     "name": "stdout",
     "output_type": "stream",
     "text": [
      "corr: [0.18214], r2: [-0.59412]\n",
      "Doing 1784: COPS3\n"
     ]
    },
    {
     "name": "stderr",
     "output_type": "stream",
     "text": [
      "Running elastic model with corum transcripts:  16%|█▋        | 1785/10921 [19:58<2:36:22,  1.03s/it]"
     ]
    },
    {
     "name": "stdout",
     "output_type": "stream",
     "text": [
      "corr: [-0.23328], r2: [-1.49932]\n",
      "Doing 1785: COPS4\n"
     ]
    },
    {
     "name": "stderr",
     "output_type": "stream",
     "text": [
      "Running elastic model with corum transcripts:  16%|█▋        | 1786/10921 [19:59<2:42:47,  1.07s/it]"
     ]
    },
    {
     "name": "stdout",
     "output_type": "stream",
     "text": [
      "corr: [0.35668], r2: [-0.39837]\n",
      "Doing 1786: COPS5\n"
     ]
    },
    {
     "name": "stderr",
     "output_type": "stream",
     "text": [
      "Running elastic model with corum transcripts:  16%|█▋        | 1787/10921 [20:00<3:03:24,  1.20s/it]"
     ]
    },
    {
     "name": "stdout",
     "output_type": "stream",
     "text": [
      "corr: [0.03903], r2: [-0.60439]\n",
      "Doing 1787: COPS6\n"
     ]
    },
    {
     "name": "stderr",
     "output_type": "stream",
     "text": [
      "Running elastic model with corum transcripts:  16%|█▋        | 1788/10921 [20:02<3:00:14,  1.18s/it]"
     ]
    },
    {
     "name": "stdout",
     "output_type": "stream",
     "text": [
      "corr: [0.28895], r2: [-0.34743]\n",
      "Doing 1788: COPS7A\n"
     ]
    },
    {
     "name": "stderr",
     "output_type": "stream",
     "text": [
      "Running elastic model with corum transcripts:  16%|█▋        | 1789/10921 [20:03<2:57:41,  1.17s/it]"
     ]
    },
    {
     "name": "stdout",
     "output_type": "stream",
     "text": [
      "corr: [0.29554], r2: [-0.3558]\n",
      "Doing 1789: COPS7B\n"
     ]
    },
    {
     "name": "stderr",
     "output_type": "stream",
     "text": [
      "Running elastic model with corum transcripts:  16%|█▋        | 1790/10921 [20:04<2:47:40,  1.10s/it]"
     ]
    },
    {
     "name": "stdout",
     "output_type": "stream",
     "text": [
      "corr: [0.29862], r2: [-0.066]\n",
      "Doing 1790: COPS8\n"
     ]
    },
    {
     "name": "stderr",
     "output_type": "stream",
     "text": [
      "Running elastic model with corum transcripts:  16%|█▋        | 1791/10921 [20:05<2:50:24,  1.12s/it]"
     ]
    },
    {
     "name": "stdout",
     "output_type": "stream",
     "text": [
      "corr: [-0.00228], r2: [-0.10218]\n",
      "Doing 1791: COPZ1\n"
     ]
    },
    {
     "name": "stderr",
     "output_type": "stream",
     "text": [
      "Running elastic model with corum transcripts:  16%|█▋        | 1792/10921 [20:06<2:42:36,  1.07s/it]"
     ]
    },
    {
     "name": "stdout",
     "output_type": "stream",
     "text": [
      "corr: [0.31044], r2: [-0.1044]\n",
      "Doing 1792: COPZ2\n"
     ]
    },
    {
     "name": "stderr",
     "output_type": "stream",
     "text": [
      "Running elastic model with corum transcripts:  16%|█▋        | 1793/10921 [20:07<2:36:53,  1.03s/it]"
     ]
    },
    {
     "name": "stdout",
     "output_type": "stream",
     "text": [
      "corr: [0.6552], r2: [0.29749]\n",
      "Doing 1793: COQ10B\n"
     ]
    },
    {
     "name": "stderr",
     "output_type": "stream",
     "text": [
      "Running elastic model with corum transcripts:  16%|█▋        | 1794/10921 [20:08<2:32:23,  1.00s/it]"
     ]
    },
    {
     "name": "stdout",
     "output_type": "stream",
     "text": [
      "corr: [0.15218], r2: [-0.04841]\n",
      "Doing 1794: COQ3\n"
     ]
    },
    {
     "name": "stderr",
     "output_type": "stream",
     "text": [
      "Running elastic model with corum transcripts:  16%|█▋        | 1795/10921 [20:09<2:29:17,  1.02it/s]"
     ]
    },
    {
     "name": "stdout",
     "output_type": "stream",
     "text": [
      "corr: [0.24024], r2: [0.0546]\n",
      "Doing 1795: COQ5\n"
     ]
    },
    {
     "name": "stderr",
     "output_type": "stream",
     "text": [
      "Running elastic model with corum transcripts:  16%|█▋        | 1796/10921 [20:10<2:28:15,  1.03it/s]"
     ]
    },
    {
     "name": "stdout",
     "output_type": "stream",
     "text": [
      "corr: [0.06183], r2: [-0.02359]\n",
      "Doing 1796: COQ6\n"
     ]
    },
    {
     "name": "stderr",
     "output_type": "stream",
     "text": [
      "Running elastic model with corum transcripts:  16%|█▋        | 1797/10921 [20:10<2:27:01,  1.03it/s]"
     ]
    },
    {
     "name": "stdout",
     "output_type": "stream",
     "text": [
      "corr: [0.00924], r2: [-0.05513]\n",
      "Doing 1797: COQ7\n"
     ]
    },
    {
     "name": "stderr",
     "output_type": "stream",
     "text": [
      "Running elastic model with corum transcripts:  16%|█▋        | 1798/10921 [20:11<2:20:26,  1.08it/s]"
     ]
    },
    {
     "name": "stdout",
     "output_type": "stream",
     "text": [
      "corr: [0.2174], r2: [0.0134]\n",
      "Doing 1798: COQ9\n"
     ]
    },
    {
     "name": "stderr",
     "output_type": "stream",
     "text": [
      "Running elastic model with corum transcripts:  16%|█▋        | 1799/10921 [20:12<2:13:02,  1.14it/s]"
     ]
    },
    {
     "name": "stdout",
     "output_type": "stream",
     "text": [
      "corr: [0.19583], r2: [0.03437]\n",
      "Doing 1799: CORO1A\n"
     ]
    },
    {
     "name": "stderr",
     "output_type": "stream",
     "text": [
      "Running elastic model with corum transcripts:  16%|█▋        | 1800/10921 [20:13<2:15:47,  1.12it/s]"
     ]
    },
    {
     "name": "stdout",
     "output_type": "stream",
     "text": [
      "corr: [0.62468], r2: [-0.00277]\n",
      "Doing 1800: CORO1B\n"
     ]
    },
    {
     "name": "stderr",
     "output_type": "stream",
     "text": [
      "Running elastic model with corum transcripts:  16%|█▋        | 1801/10921 [20:14<2:06:18,  1.20it/s]"
     ]
    },
    {
     "name": "stdout",
     "output_type": "stream",
     "text": [
      "corr: [0.21564], r2: [-0.02255]\n",
      "Doing 1801: CORO1C\n"
     ]
    },
    {
     "name": "stderr",
     "output_type": "stream",
     "text": [
      "Running elastic model with corum transcripts:  17%|█▋        | 1802/10921 [20:14<2:03:01,  1.24it/s]"
     ]
    },
    {
     "name": "stdout",
     "output_type": "stream",
     "text": [
      "corr: [0.50457], r2: [0.21245]\n",
      "Doing 1802: CORO2A\n"
     ]
    },
    {
     "name": "stderr",
     "output_type": "stream",
     "text": [
      "Running elastic model with corum transcripts:  17%|█▋        | 1803/10921 [20:15<1:58:04,  1.29it/s]"
     ]
    },
    {
     "name": "stdout",
     "output_type": "stream",
     "text": [
      "corr: [0.65486], r2: [0.28091]\n",
      "Doing 1803: CORO2B\n"
     ]
    },
    {
     "name": "stderr",
     "output_type": "stream",
     "text": [
      "Running elastic model with corum transcripts:  17%|█▋        | 1804/10921 [20:16<1:54:32,  1.33it/s]"
     ]
    },
    {
     "name": "stdout",
     "output_type": "stream",
     "text": [
      "corr: [0.38629], r2: [-0.19214]\n",
      "Doing 1804: CORO6\n"
     ]
    },
    {
     "name": "stderr",
     "output_type": "stream",
     "text": [
      "Running elastic model with corum transcripts:  17%|█▋        | 1805/10921 [20:17<1:54:42,  1.32it/s]"
     ]
    },
    {
     "name": "stdout",
     "output_type": "stream",
     "text": [
      "corr: [-0.01921], r2: [-0.29895]\n",
      "Doing 1805: CORO7-PAM16\n"
     ]
    },
    {
     "name": "stderr",
     "output_type": "stream",
     "text": [
      "Running elastic model with corum transcripts:  17%|█▋        | 1806/10921 [20:17<1:49:36,  1.39it/s]"
     ]
    },
    {
     "name": "stdout",
     "output_type": "stream",
     "text": [
      "corr: [0.16763], r2: [-0.04001]\n",
      "Doing 1806: COTL1\n"
     ]
    },
    {
     "name": "stderr",
     "output_type": "stream",
     "text": [
      "Running elastic model with corum transcripts:  17%|█▋        | 1807/10921 [20:18<1:47:56,  1.41it/s]"
     ]
    },
    {
     "name": "stdout",
     "output_type": "stream",
     "text": [
      "corr: [0.74635], r2: [0.35209]\n",
      "Doing 1807: COX11\n"
     ]
    },
    {
     "name": "stderr",
     "output_type": "stream",
     "text": [
      "Running elastic model with corum transcripts:  17%|█▋        | 1808/10921 [20:19<1:50:40,  1.37it/s]"
     ]
    },
    {
     "name": "stdout",
     "output_type": "stream",
     "text": [
      "corr: [0.37963], r2: [0.12637]\n",
      "Doing 1808: COX15\n"
     ]
    },
    {
     "name": "stderr",
     "output_type": "stream",
     "text": [
      "Running elastic model with corum transcripts:  17%|█▋        | 1809/10921 [20:20<1:54:50,  1.32it/s]"
     ]
    },
    {
     "name": "stdout",
     "output_type": "stream",
     "text": [
      "corr: [0.18569], r2: [-0.15908]\n",
      "Doing 1809: COX16\n"
     ]
    },
    {
     "name": "stderr",
     "output_type": "stream",
     "text": [
      "/Applications/venv/CPTAC_Protein/lib/python3.9/site-packages/numpy/lib/function_base.py:2691: RuntimeWarning: invalid value encountered in true_divide\n",
      "  c /= stddev[:, None]\n",
      "/Applications/venv/CPTAC_Protein/lib/python3.9/site-packages/numpy/lib/function_base.py:2692: RuntimeWarning: invalid value encountered in true_divide\n",
      "  c /= stddev[None, :]\n",
      "Running elastic model with corum transcripts:  17%|█▋        | 1810/10921 [20:20<1:53:33,  1.34it/s]"
     ]
    },
    {
     "name": "stdout",
     "output_type": "stream",
     "text": [
      "corr: [0], r2: [-0.03165]\n",
      "Doing 1810: COX17\n"
     ]
    },
    {
     "name": "stderr",
     "output_type": "stream",
     "text": [
      "Running elastic model with corum transcripts:  17%|█▋        | 1811/10921 [20:21<1:58:50,  1.28it/s]"
     ]
    },
    {
     "name": "stdout",
     "output_type": "stream",
     "text": [
      "corr: [0.54638], r2: [0.23543]\n",
      "Doing 1811: COX18\n"
     ]
    },
    {
     "name": "stderr",
     "output_type": "stream",
     "text": [
      "Running elastic model with corum transcripts:  17%|█▋        | 1812/10921 [20:22<1:56:11,  1.31it/s]"
     ]
    },
    {
     "name": "stdout",
     "output_type": "stream",
     "text": [
      "corr: [0.41308], r2: [-0.19794]\n",
      "Doing 1812: COX19\n"
     ]
    },
    {
     "name": "stderr",
     "output_type": "stream",
     "text": [
      "Running elastic model with corum transcripts:  17%|█▋        | 1813/10921 [20:23<1:52:43,  1.35it/s]"
     ]
    },
    {
     "name": "stdout",
     "output_type": "stream",
     "text": [
      "corr: [-0.12928], r2: [-0.1489]\n",
      "Doing 1813: COX20\n"
     ]
    },
    {
     "name": "stderr",
     "output_type": "stream",
     "text": [
      "Running elastic model with corum transcripts:  17%|█▋        | 1814/10921 [20:23<1:52:57,  1.34it/s]"
     ]
    },
    {
     "name": "stdout",
     "output_type": "stream",
     "text": [
      "corr: [0.13088], r2: [-0.09428]\n",
      "Doing 1814: COX4I1\n"
     ]
    },
    {
     "name": "stderr",
     "output_type": "stream",
     "text": [
      "Running elastic model with corum transcripts:  17%|█▋        | 1815/10921 [20:24<1:56:37,  1.30it/s]"
     ]
    },
    {
     "name": "stdout",
     "output_type": "stream",
     "text": [
      "corr: [0.39126], r2: [0.0861]\n",
      "Doing 1815: COX5A\n"
     ]
    },
    {
     "name": "stderr",
     "output_type": "stream",
     "text": [
      "Running elastic model with corum transcripts:  17%|█▋        | 1816/10921 [20:25<2:12:49,  1.14it/s]"
     ]
    },
    {
     "name": "stdout",
     "output_type": "stream",
     "text": [
      "corr: [-0.17206], r2: [-0.22643]\n",
      "Doing 1816: COX5B\n"
     ]
    },
    {
     "name": "stderr",
     "output_type": "stream",
     "text": [
      "Running elastic model with corum transcripts:  17%|█▋        | 1817/10921 [20:26<2:18:16,  1.10it/s]"
     ]
    },
    {
     "name": "stdout",
     "output_type": "stream",
     "text": [
      "corr: [0.03579], r2: [-0.06711]\n",
      "Doing 1817: COX6A1\n"
     ]
    },
    {
     "name": "stderr",
     "output_type": "stream",
     "text": [
      "Running elastic model with corum transcripts:  17%|█▋        | 1818/10921 [20:27<2:20:19,  1.08it/s]"
     ]
    },
    {
     "name": "stdout",
     "output_type": "stream",
     "text": [
      "corr: [-0.27028], r2: [-0.12941]\n",
      "Doing 1818: COX6B1\n"
     ]
    },
    {
     "name": "stderr",
     "output_type": "stream",
     "text": [
      "Running elastic model with corum transcripts:  17%|█▋        | 1819/10921 [20:28<2:23:17,  1.06it/s]"
     ]
    },
    {
     "name": "stdout",
     "output_type": "stream",
     "text": [
      "corr: [0.00082], r2: [-0.019]\n",
      "Doing 1819: COX6C\n"
     ]
    },
    {
     "name": "stderr",
     "output_type": "stream",
     "text": [
      "Running elastic model with corum transcripts:  17%|█▋        | 1820/10921 [20:29<2:31:23,  1.00it/s]"
     ]
    },
    {
     "name": "stdout",
     "output_type": "stream",
     "text": [
      "corr: [0.27255], r2: [-0.05878]\n",
      "Doing 1820: COX7A2\n"
     ]
    },
    {
     "name": "stderr",
     "output_type": "stream",
     "text": [
      "/Applications/venv/CPTAC_Protein/lib/python3.9/site-packages/numpy/lib/function_base.py:2691: RuntimeWarning: invalid value encountered in true_divide\n",
      "  c /= stddev[:, None]\n",
      "/Applications/venv/CPTAC_Protein/lib/python3.9/site-packages/numpy/lib/function_base.py:2692: RuntimeWarning: invalid value encountered in true_divide\n",
      "  c /= stddev[None, :]\n",
      "Running elastic model with corum transcripts:  17%|█▋        | 1821/10921 [20:30<2:30:11,  1.01it/s]"
     ]
    },
    {
     "name": "stdout",
     "output_type": "stream",
     "text": [
      "corr: [0], r2: [-0.03911]\n",
      "Doing 1821: COX7A2L\n"
     ]
    },
    {
     "name": "stderr",
     "output_type": "stream",
     "text": [
      "Running elastic model with corum transcripts:  17%|█▋        | 1822/10921 [20:31<2:17:36,  1.10it/s]"
     ]
    },
    {
     "name": "stdout",
     "output_type": "stream",
     "text": [
      "corr: [0.01786], r2: [-0.06061]\n",
      "Doing 1822: COX7C\n"
     ]
    },
    {
     "name": "stderr",
     "output_type": "stream",
     "text": [
      "Running elastic model with corum transcripts:  17%|█▋        | 1823/10921 [20:32<2:26:27,  1.04it/s]"
     ]
    },
    {
     "name": "stdout",
     "output_type": "stream",
     "text": [
      "corr: [0.21602], r2: [0.02735]\n",
      "Doing 1823: COX8A\n"
     ]
    },
    {
     "name": "stderr",
     "output_type": "stream",
     "text": [
      "/Applications/venv/CPTAC_Protein/lib/python3.9/site-packages/numpy/lib/function_base.py:2691: RuntimeWarning: invalid value encountered in true_divide\n",
      "  c /= stddev[:, None]\n",
      "/Applications/venv/CPTAC_Protein/lib/python3.9/site-packages/numpy/lib/function_base.py:2692: RuntimeWarning: invalid value encountered in true_divide\n",
      "  c /= stddev[None, :]\n",
      "Running elastic model with corum transcripts:  17%|█▋        | 1824/10921 [20:33<2:13:54,  1.13it/s]"
     ]
    },
    {
     "name": "stdout",
     "output_type": "stream",
     "text": [
      "corr: [0], r2: [-0.00604]\n",
      "Doing 1824: CP\n"
     ]
    },
    {
     "name": "stderr",
     "output_type": "stream",
     "text": [
      "Running elastic model with corum transcripts:  17%|█▋        | 1825/10921 [20:33<2:04:31,  1.22it/s]"
     ]
    },
    {
     "name": "stdout",
     "output_type": "stream",
     "text": [
      "corr: [0.07918], r2: [-0.272]\n",
      "Doing 1825: CPA3\n"
     ]
    },
    {
     "name": "stderr",
     "output_type": "stream",
     "text": [
      "Running elastic model with corum transcripts:  17%|█▋        | 1826/10921 [20:34<1:58:10,  1.28it/s]"
     ]
    },
    {
     "name": "stdout",
     "output_type": "stream",
     "text": [
      "corr: [0.46478], r2: [0.09152]\n",
      "Doing 1826: CPAMD8\n",
      "Not enough proteomics observations. Skipping protein.\n",
      "Doing 1827: CPB2\n"
     ]
    },
    {
     "name": "stderr",
     "output_type": "stream",
     "text": [
      "/Applications/venv/CPTAC_Protein/lib/python3.9/site-packages/numpy/lib/function_base.py:2691: RuntimeWarning: invalid value encountered in true_divide\n",
      "  c /= stddev[:, None]\n",
      "/Applications/venv/CPTAC_Protein/lib/python3.9/site-packages/numpy/lib/function_base.py:2692: RuntimeWarning: invalid value encountered in true_divide\n",
      "  c /= stddev[None, :]\n",
      "Running elastic model with corum transcripts:  17%|█▋        | 1828/10921 [20:35<1:26:36,  1.75it/s]"
     ]
    },
    {
     "name": "stdout",
     "output_type": "stream",
     "text": [
      "corr: [0], r2: [-0.0633]\n",
      "Doing 1828: CPD\n"
     ]
    },
    {
     "name": "stderr",
     "output_type": "stream",
     "text": [
      "Running elastic model with corum transcripts:  17%|█▋        | 1829/10921 [20:36<1:33:08,  1.63it/s]"
     ]
    },
    {
     "name": "stdout",
     "output_type": "stream",
     "text": [
      "corr: [0.63531], r2: [0.35064]\n",
      "Doing 1829: CPE\n"
     ]
    },
    {
     "name": "stderr",
     "output_type": "stream",
     "text": [
      "Running elastic model with corum transcripts:  17%|█▋        | 1830/10921 [20:36<1:37:43,  1.55it/s]"
     ]
    },
    {
     "name": "stdout",
     "output_type": "stream",
     "text": [
      "corr: [0.44799], r2: [-0.31943]\n",
      "Doing 1830: CPEB2\n"
     ]
    },
    {
     "name": "stderr",
     "output_type": "stream",
     "text": [
      "Running elastic model with corum transcripts:  17%|█▋        | 1831/10921 [20:37<1:37:09,  1.56it/s]"
     ]
    },
    {
     "name": "stdout",
     "output_type": "stream",
     "text": [
      "corr: [0.47931], r2: [0.13233]\n",
      "Doing 1831: CPEB4\n"
     ]
    },
    {
     "name": "stderr",
     "output_type": "stream",
     "text": [
      "Running elastic model with corum transcripts:  17%|█▋        | 1832/10921 [20:38<1:37:36,  1.55it/s]"
     ]
    },
    {
     "name": "stdout",
     "output_type": "stream",
     "text": [
      "corr: [0.21076], r2: [-0.05374]\n",
      "Doing 1832: CPLX2\n"
     ]
    },
    {
     "name": "stderr",
     "output_type": "stream",
     "text": [
      "Running elastic model with corum transcripts:  17%|█▋        | 1833/10921 [20:38<1:42:53,  1.47it/s]"
     ]
    },
    {
     "name": "stdout",
     "output_type": "stream",
     "text": [
      "corr: [0.52107], r2: [-0.42944]\n",
      "Doing 1833: CPM\n"
     ]
    },
    {
     "name": "stderr",
     "output_type": "stream",
     "text": [
      "Running elastic model with corum transcripts:  17%|█▋        | 1834/10921 [20:39<1:48:01,  1.40it/s]"
     ]
    },
    {
     "name": "stdout",
     "output_type": "stream",
     "text": [
      "corr: [0.55109], r2: [0.23517]\n",
      "Doing 1834: CPN1\n"
     ]
    },
    {
     "name": "stderr",
     "output_type": "stream",
     "text": [
      "Running elastic model with corum transcripts:  17%|█▋        | 1835/10921 [20:40<1:53:22,  1.34it/s]"
     ]
    },
    {
     "name": "stdout",
     "output_type": "stream",
     "text": [
      "corr: [-0.01511], r2: [-0.09134]\n",
      "Doing 1835: CPN2\n"
     ]
    },
    {
     "name": "stderr",
     "output_type": "stream",
     "text": [
      "Running elastic model with corum transcripts:  17%|█▋        | 1836/10921 [20:41<1:59:01,  1.27it/s]"
     ]
    },
    {
     "name": "stdout",
     "output_type": "stream",
     "text": [
      "corr: [0.0179], r2: [-0.21909]\n",
      "Doing 1836: CPNE1\n"
     ]
    },
    {
     "name": "stderr",
     "output_type": "stream",
     "text": [
      "Running elastic model with corum transcripts:  17%|█▋        | 1837/10921 [20:43<2:40:23,  1.06s/it]"
     ]
    },
    {
     "name": "stdout",
     "output_type": "stream",
     "text": [
      "corr: [0.48757], r2: [-0.31667]\n",
      "Doing 1837: CPNE2\n"
     ]
    },
    {
     "name": "stderr",
     "output_type": "stream",
     "text": [
      "Running elastic model with corum transcripts:  17%|█▋        | 1838/10921 [20:44<2:40:31,  1.06s/it]"
     ]
    },
    {
     "name": "stdout",
     "output_type": "stream",
     "text": [
      "corr: [0.65274], r2: [0.36397]\n",
      "Doing 1838: CPNE3\n"
     ]
    },
    {
     "name": "stderr",
     "output_type": "stream",
     "text": [
      "Running elastic model with corum transcripts:  17%|█▋        | 1839/10921 [20:45<2:41:23,  1.07s/it]"
     ]
    },
    {
     "name": "stdout",
     "output_type": "stream",
     "text": [
      "corr: [0.61238], r2: [0.14233]\n",
      "Doing 1839: CPNE5\n"
     ]
    },
    {
     "name": "stderr",
     "output_type": "stream",
     "text": [
      "Running elastic model with corum transcripts:  17%|█▋        | 1840/10921 [20:46<2:41:03,  1.06s/it]"
     ]
    },
    {
     "name": "stdout",
     "output_type": "stream",
     "text": [
      "corr: [0.09693], r2: [-0.00271]\n",
      "Doing 1840: CPNE8\n"
     ]
    },
    {
     "name": "stderr",
     "output_type": "stream",
     "text": [
      "Running elastic model with corum transcripts:  17%|█▋        | 1841/10921 [20:47<2:40:33,  1.06s/it]"
     ]
    },
    {
     "name": "stdout",
     "output_type": "stream",
     "text": [
      "corr: [0.6395], r2: [0.32522]\n",
      "Doing 1841: CPOX\n"
     ]
    },
    {
     "name": "stderr",
     "output_type": "stream",
     "text": [
      "Running elastic model with corum transcripts:  17%|█▋        | 1842/10921 [20:48<2:40:18,  1.06s/it]"
     ]
    },
    {
     "name": "stdout",
     "output_type": "stream",
     "text": [
      "corr: [0.51762], r2: [0.24192]\n",
      "Doing 1842: CPPED1\n"
     ]
    },
    {
     "name": "stderr",
     "output_type": "stream",
     "text": [
      "Running elastic model with corum transcripts:  17%|█▋        | 1843/10921 [20:49<2:40:41,  1.06s/it]"
     ]
    },
    {
     "name": "stdout",
     "output_type": "stream",
     "text": [
      "corr: [0.53325], r2: [0.27994]\n",
      "Doing 1843: CPQ\n"
     ]
    },
    {
     "name": "stderr",
     "output_type": "stream",
     "text": [
      "Running elastic model with corum transcripts:  17%|█▋        | 1844/10921 [20:50<2:37:57,  1.04s/it]"
     ]
    },
    {
     "name": "stdout",
     "output_type": "stream",
     "text": [
      "corr: [0.71036], r2: [0.15291]\n",
      "Doing 1844: CPS1\n"
     ]
    },
    {
     "name": "stderr",
     "output_type": "stream",
     "text": [
      "Running elastic model with corum transcripts:  17%|█▋        | 1845/10921 [20:51<2:33:12,  1.01s/it]"
     ]
    },
    {
     "name": "stdout",
     "output_type": "stream",
     "text": [
      "corr: [0.26062], r2: [-0.06524]\n",
      "Doing 1845: CPSF1\n"
     ]
    },
    {
     "name": "stderr",
     "output_type": "stream",
     "text": [
      "Running elastic model with corum transcripts:  17%|█▋        | 1846/10921 [20:52<2:40:02,  1.06s/it]"
     ]
    },
    {
     "name": "stdout",
     "output_type": "stream",
     "text": [
      "corr: [0.36308], r2: [0.0806]\n",
      "Doing 1846: CPSF2\n"
     ]
    },
    {
     "name": "stderr",
     "output_type": "stream",
     "text": [
      "Running elastic model with corum transcripts:  17%|█▋        | 1847/10921 [20:54<3:00:52,  1.20s/it]"
     ]
    },
    {
     "name": "stdout",
     "output_type": "stream",
     "text": [
      "corr: [-0.077], r2: [-0.53268]\n",
      "Doing 1847: CPSF3\n"
     ]
    },
    {
     "name": "stderr",
     "output_type": "stream",
     "text": [
      "Running elastic model with corum transcripts:  17%|█▋        | 1848/10921 [20:55<3:09:05,  1.25s/it]"
     ]
    },
    {
     "name": "stdout",
     "output_type": "stream",
     "text": [
      "corr: [0.12913], r2: [-0.02006]\n",
      "Doing 1848: CPSF4\n"
     ]
    },
    {
     "name": "stderr",
     "output_type": "stream",
     "text": [
      "Running elastic model with corum transcripts:  17%|█▋        | 1849/10921 [20:56<3:03:08,  1.21s/it]"
     ]
    },
    {
     "name": "stdout",
     "output_type": "stream",
     "text": [
      "corr: [0.31093], r2: [0.09017]\n",
      "Doing 1849: CPSF6\n"
     ]
    },
    {
     "name": "stderr",
     "output_type": "stream",
     "text": [
      "/Applications/venv/CPTAC_Protein/lib/python3.9/site-packages/sklearn/linear_model/_coordinate_descent.py:645: ConvergenceWarning: Objective did not converge. You might want to increase the number of iterations, check the scale of the features or consider increasing regularisation. Duality gap: 4.533e-02, tolerance: 4.313e-02\n",
      "  model = cd_fast.enet_coordinate_descent(\n",
      "/Applications/venv/CPTAC_Protein/lib/python3.9/site-packages/sklearn/linear_model/_coordinate_descent.py:645: ConvergenceWarning: Objective did not converge. You might want to increase the number of iterations, check the scale of the features or consider increasing regularisation. Duality gap: 4.360e-02, tolerance: 4.255e-02\n",
      "  model = cd_fast.enet_coordinate_descent(\n",
      "/Applications/venv/CPTAC_Protein/lib/python3.9/site-packages/sklearn/linear_model/_coordinate_descent.py:645: ConvergenceWarning: Objective did not converge. You might want to increase the number of iterations, check the scale of the features or consider increasing regularisation. Duality gap: 4.937e-02, tolerance: 4.255e-02\n",
      "  model = cd_fast.enet_coordinate_descent(\n",
      "/Applications/venv/CPTAC_Protein/lib/python3.9/site-packages/sklearn/linear_model/_coordinate_descent.py:645: ConvergenceWarning: Objective did not converge. You might want to increase the number of iterations, check the scale of the features or consider increasing regularisation. Duality gap: 5.134e-02, tolerance: 4.255e-02\n",
      "  model = cd_fast.enet_coordinate_descent(\n",
      "/Applications/venv/CPTAC_Protein/lib/python3.9/site-packages/sklearn/linear_model/_coordinate_descent.py:645: ConvergenceWarning: Objective did not converge. You might want to increase the number of iterations, check the scale of the features or consider increasing regularisation. Duality gap: 4.556e-02, tolerance: 4.255e-02\n",
      "  model = cd_fast.enet_coordinate_descent(\n",
      "/Applications/venv/CPTAC_Protein/lib/python3.9/site-packages/sklearn/linear_model/_coordinate_descent.py:645: ConvergenceWarning: Objective did not converge. You might want to increase the number of iterations, check the scale of the features or consider increasing regularisation. Duality gap: 4.512e-02, tolerance: 4.468e-02\n",
      "  model = cd_fast.enet_coordinate_descent(\n",
      "/Applications/venv/CPTAC_Protein/lib/python3.9/site-packages/sklearn/linear_model/_coordinate_descent.py:645: ConvergenceWarning: Objective did not converge. You might want to increase the number of iterations, check the scale of the features or consider increasing regularisation. Duality gap: 4.882e-02, tolerance: 4.468e-02\n",
      "  model = cd_fast.enet_coordinate_descent(\n",
      "/Applications/venv/CPTAC_Protein/lib/python3.9/site-packages/sklearn/linear_model/_coordinate_descent.py:645: ConvergenceWarning: Objective did not converge. You might want to increase the number of iterations, check the scale of the features or consider increasing regularisation. Duality gap: 3.967e-02, tolerance: 3.704e-02\n",
      "  model = cd_fast.enet_coordinate_descent(\n",
      "/Applications/venv/CPTAC_Protein/lib/python3.9/site-packages/sklearn/linear_model/_coordinate_descent.py:645: ConvergenceWarning: Objective did not converge. You might want to increase the number of iterations, check the scale of the features or consider increasing regularisation. Duality gap: 4.802e-02, tolerance: 3.704e-02\n",
      "  model = cd_fast.enet_coordinate_descent(\n",
      "/Applications/venv/CPTAC_Protein/lib/python3.9/site-packages/sklearn/linear_model/_coordinate_descent.py:645: ConvergenceWarning: Objective did not converge. You might want to increase the number of iterations, check the scale of the features or consider increasing regularisation. Duality gap: 4.391e-02, tolerance: 4.255e-02\n",
      "  model = cd_fast.enet_coordinate_descent(\n",
      "/Applications/venv/CPTAC_Protein/lib/python3.9/site-packages/sklearn/linear_model/_coordinate_descent.py:645: ConvergenceWarning: Objective did not converge. You might want to increase the number of iterations, check the scale of the features or consider increasing regularisation. Duality gap: 4.054e-02, tolerance: 3.704e-02\n",
      "  model = cd_fast.enet_coordinate_descent(\n",
      "/Applications/venv/CPTAC_Protein/lib/python3.9/site-packages/sklearn/linear_model/_coordinate_descent.py:645: ConvergenceWarning: Objective did not converge. You might want to increase the number of iterations, check the scale of the features or consider increasing regularisation. Duality gap: 4.777e-02, tolerance: 4.255e-02\n",
      "  model = cd_fast.enet_coordinate_descent(\n",
      "/Applications/venv/CPTAC_Protein/lib/python3.9/site-packages/sklearn/linear_model/_coordinate_descent.py:645: ConvergenceWarning: Objective did not converge. You might want to increase the number of iterations, check the scale of the features or consider increasing regularisation. Duality gap: 4.164e-02, tolerance: 3.704e-02\n",
      "  model = cd_fast.enet_coordinate_descent(\n",
      "/Applications/venv/CPTAC_Protein/lib/python3.9/site-packages/sklearn/linear_model/_coordinate_descent.py:645: ConvergenceWarning: Objective did not converge. You might want to increase the number of iterations, check the scale of the features or consider increasing regularisation. Duality gap: 4.357e-02, tolerance: 3.704e-02\n",
      "  model = cd_fast.enet_coordinate_descent(\n",
      "/Applications/venv/CPTAC_Protein/lib/python3.9/site-packages/sklearn/linear_model/_coordinate_descent.py:645: ConvergenceWarning: Objective did not converge. You might want to increase the number of iterations, check the scale of the features or consider increasing regularisation. Duality gap: 4.526e-02, tolerance: 4.255e-02\n",
      "  model = cd_fast.enet_coordinate_descent(\n",
      "/Applications/venv/CPTAC_Protein/lib/python3.9/site-packages/sklearn/linear_model/_coordinate_descent.py:645: ConvergenceWarning: Objective did not converge. You might want to increase the number of iterations, check the scale of the features or consider increasing regularisation. Duality gap: 4.826e-02, tolerance: 4.255e-02\n",
      "  model = cd_fast.enet_coordinate_descent(\n",
      "/Applications/venv/CPTAC_Protein/lib/python3.9/site-packages/sklearn/linear_model/_coordinate_descent.py:645: ConvergenceWarning: Objective did not converge. You might want to increase the number of iterations, check the scale of the features or consider increasing regularisation. Duality gap: 5.380e-02, tolerance: 4.255e-02\n",
      "  model = cd_fast.enet_coordinate_descent(\n",
      "/Applications/venv/CPTAC_Protein/lib/python3.9/site-packages/sklearn/linear_model/_coordinate_descent.py:645: ConvergenceWarning: Objective did not converge. You might want to increase the number of iterations, check the scale of the features or consider increasing regularisation. Duality gap: 4.736e-02, tolerance: 4.255e-02\n",
      "  model = cd_fast.enet_coordinate_descent(\n",
      "/Applications/venv/CPTAC_Protein/lib/python3.9/site-packages/sklearn/linear_model/_coordinate_descent.py:645: ConvergenceWarning: Objective did not converge. You might want to increase the number of iterations, check the scale of the features or consider increasing regularisation. Duality gap: 4.413e-02, tolerance: 4.255e-02\n",
      "  model = cd_fast.enet_coordinate_descent(\n",
      "/Applications/venv/CPTAC_Protein/lib/python3.9/site-packages/sklearn/linear_model/_coordinate_descent.py:645: ConvergenceWarning: Objective did not converge. You might want to increase the number of iterations, check the scale of the features or consider increasing regularisation. Duality gap: 4.516e-02, tolerance: 4.255e-02\n",
      "  model = cd_fast.enet_coordinate_descent(\n",
      "/Applications/venv/CPTAC_Protein/lib/python3.9/site-packages/sklearn/linear_model/_coordinate_descent.py:645: ConvergenceWarning: Objective did not converge. You might want to increase the number of iterations, check the scale of the features or consider increasing regularisation. Duality gap: 4.534e-02, tolerance: 4.255e-02\n",
      "  model = cd_fast.enet_coordinate_descent(\n",
      "/Applications/venv/CPTAC_Protein/lib/python3.9/site-packages/sklearn/linear_model/_coordinate_descent.py:645: ConvergenceWarning: Objective did not converge. You might want to increase the number of iterations, check the scale of the features or consider increasing regularisation. Duality gap: 3.930e-02, tolerance: 3.704e-02\n",
      "  model = cd_fast.enet_coordinate_descent(\n",
      "/Applications/venv/CPTAC_Protein/lib/python3.9/site-packages/sklearn/linear_model/_coordinate_descent.py:645: ConvergenceWarning: Objective did not converge. You might want to increase the number of iterations, check the scale of the features or consider increasing regularisation. Duality gap: 4.178e-02, tolerance: 3.704e-02\n",
      "  model = cd_fast.enet_coordinate_descent(\n",
      "/Applications/venv/CPTAC_Protein/lib/python3.9/site-packages/sklearn/linear_model/_coordinate_descent.py:645: ConvergenceWarning: Objective did not converge. You might want to increase the number of iterations, check the scale of the features or consider increasing regularisation. Duality gap: 4.600e-02, tolerance: 4.255e-02\n",
      "  model = cd_fast.enet_coordinate_descent(\n",
      "/Applications/venv/CPTAC_Protein/lib/python3.9/site-packages/sklearn/linear_model/_coordinate_descent.py:645: ConvergenceWarning: Objective did not converge. You might want to increase the number of iterations, check the scale of the features or consider increasing regularisation. Duality gap: 4.242e-02, tolerance: 3.704e-02\n",
      "  model = cd_fast.enet_coordinate_descent(\n",
      "/Applications/venv/CPTAC_Protein/lib/python3.9/site-packages/sklearn/linear_model/_coordinate_descent.py:645: ConvergenceWarning: Objective did not converge. You might want to increase the number of iterations, check the scale of the features or consider increasing regularisation. Duality gap: 3.932e-02, tolerance: 3.704e-02\n",
      "  model = cd_fast.enet_coordinate_descent(\n",
      "/Applications/venv/CPTAC_Protein/lib/python3.9/site-packages/sklearn/linear_model/_coordinate_descent.py:645: ConvergenceWarning: Objective did not converge. You might want to increase the number of iterations, check the scale of the features or consider increasing regularisation. Duality gap: 4.071e-02, tolerance: 3.704e-02\n",
      "  model = cd_fast.enet_coordinate_descent(\n",
      "/Applications/venv/CPTAC_Protein/lib/python3.9/site-packages/sklearn/linear_model/_coordinate_descent.py:645: ConvergenceWarning: Objective did not converge. You might want to increase the number of iterations, check the scale of the features or consider increasing regularisation. Duality gap: 5.366e-02, tolerance: 4.313e-02\n",
      "  model = cd_fast.enet_coordinate_descent(\n",
      "/Applications/venv/CPTAC_Protein/lib/python3.9/site-packages/sklearn/linear_model/_coordinate_descent.py:645: ConvergenceWarning: Objective did not converge. You might want to increase the number of iterations, check the scale of the features or consider increasing regularisation. Duality gap: 4.659e-02, tolerance: 4.255e-02\n",
      "  model = cd_fast.enet_coordinate_descent(\n",
      "/Applications/venv/CPTAC_Protein/lib/python3.9/site-packages/sklearn/linear_model/_coordinate_descent.py:645: ConvergenceWarning: Objective did not converge. You might want to increase the number of iterations, check the scale of the features or consider increasing regularisation. Duality gap: 5.112e-02, tolerance: 4.313e-02\n",
      "  model = cd_fast.enet_coordinate_descent(\n",
      "/Applications/venv/CPTAC_Protein/lib/python3.9/site-packages/sklearn/linear_model/_coordinate_descent.py:645: ConvergenceWarning: Objective did not converge. You might want to increase the number of iterations, check the scale of the features or consider increasing regularisation. Duality gap: 5.128e-02, tolerance: 4.255e-02\n",
      "  model = cd_fast.enet_coordinate_descent(\n",
      "/Applications/venv/CPTAC_Protein/lib/python3.9/site-packages/sklearn/linear_model/_coordinate_descent.py:645: ConvergenceWarning: Objective did not converge. You might want to increase the number of iterations, check the scale of the features or consider increasing regularisation. Duality gap: 4.525e-02, tolerance: 4.468e-02\n",
      "  model = cd_fast.enet_coordinate_descent(\n",
      "/Applications/venv/CPTAC_Protein/lib/python3.9/site-packages/sklearn/linear_model/_coordinate_descent.py:645: ConvergenceWarning: Objective did not converge. You might want to increase the number of iterations, check the scale of the features or consider increasing regularisation. Duality gap: 5.789e-02, tolerance: 4.313e-02\n",
      "  model = cd_fast.enet_coordinate_descent(\n",
      "/Applications/venv/CPTAC_Protein/lib/python3.9/site-packages/sklearn/linear_model/_coordinate_descent.py:645: ConvergenceWarning: Objective did not converge. You might want to increase the number of iterations, check the scale of the features or consider increasing regularisation. Duality gap: 4.846e-02, tolerance: 4.468e-02\n",
      "  model = cd_fast.enet_coordinate_descent(\n",
      "/Applications/venv/CPTAC_Protein/lib/python3.9/site-packages/sklearn/linear_model/_coordinate_descent.py:645: ConvergenceWarning: Objective did not converge. You might want to increase the number of iterations, check the scale of the features or consider increasing regularisation. Duality gap: 5.375e-02, tolerance: 4.313e-02\n",
      "  model = cd_fast.enet_coordinate_descent(\n",
      "/Applications/venv/CPTAC_Protein/lib/python3.9/site-packages/sklearn/linear_model/_coordinate_descent.py:645: ConvergenceWarning: Objective did not converge. You might want to increase the number of iterations, check the scale of the features or consider increasing regularisation. Duality gap: 5.448e-02, tolerance: 4.313e-02\n",
      "  model = cd_fast.enet_coordinate_descent(\n",
      "/Applications/venv/CPTAC_Protein/lib/python3.9/site-packages/sklearn/linear_model/_coordinate_descent.py:645: ConvergenceWarning: Objective did not converge. You might want to increase the number of iterations, check the scale of the features or consider increasing regularisation. Duality gap: 4.421e-02, tolerance: 4.313e-02\n",
      "  model = cd_fast.enet_coordinate_descent(\n",
      "/Applications/venv/CPTAC_Protein/lib/python3.9/site-packages/sklearn/linear_model/_coordinate_descent.py:645: ConvergenceWarning: Objective did not converge. You might want to increase the number of iterations, check the scale of the features or consider increasing regularisation. Duality gap: 4.980e-02, tolerance: 4.468e-02\n",
      "  model = cd_fast.enet_coordinate_descent(\n",
      "/Applications/venv/CPTAC_Protein/lib/python3.9/site-packages/sklearn/linear_model/_coordinate_descent.py:645: ConvergenceWarning: Objective did not converge. You might want to increase the number of iterations, check the scale of the features or consider increasing regularisation. Duality gap: 4.885e-02, tolerance: 4.255e-02\n",
      "  model = cd_fast.enet_coordinate_descent(\n",
      "/Applications/venv/CPTAC_Protein/lib/python3.9/site-packages/sklearn/linear_model/_coordinate_descent.py:645: ConvergenceWarning: Objective did not converge. You might want to increase the number of iterations, check the scale of the features or consider increasing regularisation. Duality gap: 5.445e-02, tolerance: 4.255e-02\n",
      "  model = cd_fast.enet_coordinate_descent(\n",
      "/Applications/venv/CPTAC_Protein/lib/python3.9/site-packages/sklearn/linear_model/_coordinate_descent.py:645: ConvergenceWarning: Objective did not converge. You might want to increase the number of iterations, check the scale of the features or consider increasing regularisation. Duality gap: 4.604e-02, tolerance: 4.255e-02\n",
      "  model = cd_fast.enet_coordinate_descent(\n",
      "/Applications/venv/CPTAC_Protein/lib/python3.9/site-packages/sklearn/linear_model/_coordinate_descent.py:645: ConvergenceWarning: Objective did not converge. You might want to increase the number of iterations, check the scale of the features or consider increasing regularisation. Duality gap: 4.957e-02, tolerance: 3.704e-02\n",
      "  model = cd_fast.enet_coordinate_descent(\n",
      "/Applications/venv/CPTAC_Protein/lib/python3.9/site-packages/sklearn/linear_model/_coordinate_descent.py:645: ConvergenceWarning: Objective did not converge. You might want to increase the number of iterations, check the scale of the features or consider increasing regularisation. Duality gap: 4.407e-02, tolerance: 3.704e-02\n",
      "  model = cd_fast.enet_coordinate_descent(\n",
      "/Applications/venv/CPTAC_Protein/lib/python3.9/site-packages/sklearn/linear_model/_coordinate_descent.py:645: ConvergenceWarning: Objective did not converge. You might want to increase the number of iterations, check the scale of the features or consider increasing regularisation. Duality gap: 4.182e-02, tolerance: 3.704e-02\n",
      "  model = cd_fast.enet_coordinate_descent(\n",
      "/Applications/venv/CPTAC_Protein/lib/python3.9/site-packages/sklearn/linear_model/_coordinate_descent.py:645: ConvergenceWarning: Objective did not converge. You might want to increase the number of iterations, check the scale of the features or consider increasing regularisation. Duality gap: 4.363e-02, tolerance: 3.704e-02\n",
      "  model = cd_fast.enet_coordinate_descent(\n",
      "Running elastic model with corum transcripts:  17%|█▋        | 1850/10921 [24:41<171:55:20, 68.23s/it]"
     ]
    },
    {
     "name": "stdout",
     "output_type": "stream",
     "text": [
      "corr: [0.14978], r2: [-0.06126]\n",
      "Doing 1850: CPSF7\n"
     ]
    },
    {
     "name": "stderr",
     "output_type": "stream",
     "text": [
      "Running elastic model with corum transcripts:  17%|█▋        | 1851/10921 [24:42<120:59:45, 48.02s/it]"
     ]
    },
    {
     "name": "stdout",
     "output_type": "stream",
     "text": [
      "corr: [0.59457], r2: [0.348]\n",
      "Doing 1851: CPT1A\n"
     ]
    },
    {
     "name": "stderr",
     "output_type": "stream",
     "text": [
      "Running elastic model with corum transcripts:  17%|█▋        | 1852/10921 [24:42<85:14:15, 33.84s/it] "
     ]
    },
    {
     "name": "stdout",
     "output_type": "stream",
     "text": [
      "corr: [0.40297], r2: [0.07943]\n",
      "Doing 1852: CPT1B\n"
     ]
    },
    {
     "name": "stderr",
     "output_type": "stream",
     "text": [
      "Running elastic model with corum transcripts:  17%|█▋        | 1853/10921 [24:43<60:10:24, 23.89s/it]"
     ]
    },
    {
     "name": "stdout",
     "output_type": "stream",
     "text": [
      "corr: [0], r2: [-0.30169]\n",
      "Doing 1853: CPT2\n"
     ]
    },
    {
     "name": "stderr",
     "output_type": "stream",
     "text": [
      "Running elastic model with corum transcripts:  17%|█▋        | 1854/10921 [24:44<42:38:17, 16.93s/it]"
     ]
    },
    {
     "name": "stdout",
     "output_type": "stream",
     "text": [
      "corr: [0.72282], r2: [0.2809]\n",
      "Doing 1854: CPVL\n"
     ]
    },
    {
     "name": "stderr",
     "output_type": "stream",
     "text": [
      "Running elastic model with corum transcripts:  17%|█▋        | 1855/10921 [24:44<30:25:00, 12.08s/it]"
     ]
    },
    {
     "name": "stdout",
     "output_type": "stream",
     "text": [
      "corr: [0.18007], r2: [-0.18682]\n",
      "Doing 1855: CPXM1\n"
     ]
    },
    {
     "name": "stderr",
     "output_type": "stream",
     "text": [
      "Running elastic model with corum transcripts:  17%|█▋        | 1856/10921 [24:45<21:51:20,  8.68s/it]"
     ]
    },
    {
     "name": "stdout",
     "output_type": "stream",
     "text": [
      "corr: [0.66002], r2: [0.24639]\n",
      "Doing 1856: CPXM2\n"
     ]
    },
    {
     "name": "stderr",
     "output_type": "stream",
     "text": [
      "Running elastic model with corum transcripts:  17%|█▋        | 1857/10921 [24:46<15:51:17,  6.30s/it]"
     ]
    },
    {
     "name": "stdout",
     "output_type": "stream",
     "text": [
      "corr: [0.40069], r2: [0.10084]\n",
      "Doing 1857: CPZ\n"
     ]
    },
    {
     "name": "stderr",
     "output_type": "stream",
     "text": [
      "Running elastic model with corum transcripts:  17%|█▋        | 1858/10921 [24:47<11:38:02,  4.62s/it]"
     ]
    },
    {
     "name": "stdout",
     "output_type": "stream",
     "text": [
      "corr: [0.44171], r2: [0.07995]\n",
      "Doing 1858: CR1\n"
     ]
    },
    {
     "name": "stderr",
     "output_type": "stream",
     "text": [
      "/Applications/venv/CPTAC_Protein/lib/python3.9/site-packages/numpy/lib/function_base.py:2691: RuntimeWarning: invalid value encountered in true_divide\n",
      "  c /= stddev[:, None]\n",
      "/Applications/venv/CPTAC_Protein/lib/python3.9/site-packages/numpy/lib/function_base.py:2692: RuntimeWarning: invalid value encountered in true_divide\n",
      "  c /= stddev[None, :]\n",
      "Running elastic model with corum transcripts:  17%|█▋        | 1859/10921 [24:47<8:44:56,  3.48s/it] "
     ]
    },
    {
     "name": "stdout",
     "output_type": "stream",
     "text": [
      "corr: [0], r2: [-0.18063]\n",
      "Doing 1859: CR2\n",
      "Not enough proteomics observations. Skipping protein.\n",
      "Doing 1860: CRABP1\n"
     ]
    },
    {
     "name": "stderr",
     "output_type": "stream",
     "text": [
      "Running elastic model with corum transcripts:  17%|█▋        | 1861/10921 [24:48<5:09:00,  2.05s/it]"
     ]
    },
    {
     "name": "stdout",
     "output_type": "stream",
     "text": [
      "corr: [0.60349], r2: [0.05084]\n",
      "Doing 1861: CRABP2\n"
     ]
    },
    {
     "name": "stderr",
     "output_type": "stream",
     "text": [
      "Running elastic model with corum transcripts:  17%|█▋        | 1862/10921 [24:49<4:18:27,  1.71s/it]"
     ]
    },
    {
     "name": "stdout",
     "output_type": "stream",
     "text": [
      "corr: [0.67], r2: [0.38233]\n",
      "Doing 1862: CRADD\n"
     ]
    },
    {
     "name": "stderr",
     "output_type": "stream",
     "text": [
      "Running elastic model with corum transcripts:  17%|█▋        | 1863/10921 [24:50<3:46:10,  1.50s/it]"
     ]
    },
    {
     "name": "stdout",
     "output_type": "stream",
     "text": [
      "corr: [0.12808], r2: [-0.04628]\n",
      "Doing 1863: CRAT\n"
     ]
    },
    {
     "name": "stderr",
     "output_type": "stream",
     "text": [
      "Running elastic model with corum transcripts:  17%|█▋        | 1864/10921 [24:51<3:40:05,  1.46s/it]"
     ]
    },
    {
     "name": "stdout",
     "output_type": "stream",
     "text": [
      "corr: [0.53446], r2: [0.2579]\n",
      "Doing 1864: CRB2\n"
     ]
    },
    {
     "name": "stderr",
     "output_type": "stream",
     "text": [
      "Running elastic model with corum transcripts:  17%|█▋        | 1865/10921 [24:52<3:19:29,  1.32s/it]"
     ]
    },
    {
     "name": "stdout",
     "output_type": "stream",
     "text": [
      "corr: [0.52994], r2: [-0.03489]\n",
      "Doing 1865: CRBN\n"
     ]
    },
    {
     "name": "stderr",
     "output_type": "stream",
     "text": [
      "Running elastic model with corum transcripts:  17%|█▋        | 1866/10921 [24:53<3:06:26,  1.24s/it]"
     ]
    },
    {
     "name": "stdout",
     "output_type": "stream",
     "text": [
      "corr: [0.39288], r2: [-0.03554]\n",
      "Doing 1866: CRCP\n"
     ]
    },
    {
     "name": "stderr",
     "output_type": "stream",
     "text": [
      "/Applications/venv/CPTAC_Protein/lib/python3.9/site-packages/numpy/lib/function_base.py:2691: RuntimeWarning: invalid value encountered in true_divide\n",
      "  c /= stddev[:, None]\n",
      "/Applications/venv/CPTAC_Protein/lib/python3.9/site-packages/numpy/lib/function_base.py:2692: RuntimeWarning: invalid value encountered in true_divide\n",
      "  c /= stddev[None, :]\n",
      "Running elastic model with corum transcripts:  17%|█▋        | 1867/10921 [24:54<2:50:42,  1.13s/it]"
     ]
    },
    {
     "name": "stdout",
     "output_type": "stream",
     "text": [
      "corr: [0], r2: [-0.02235]\n",
      "Doing 1867: CREB1\n"
     ]
    },
    {
     "name": "stderr",
     "output_type": "stream",
     "text": [
      "/Applications/venv/CPTAC_Protein/lib/python3.9/site-packages/numpy/lib/function_base.py:2691: RuntimeWarning: invalid value encountered in true_divide\n",
      "  c /= stddev[:, None]\n",
      "/Applications/venv/CPTAC_Protein/lib/python3.9/site-packages/numpy/lib/function_base.py:2692: RuntimeWarning: invalid value encountered in true_divide\n",
      "  c /= stddev[None, :]\n",
      "Running elastic model with corum transcripts:  17%|█▋        | 1868/10921 [24:55<2:46:12,  1.10s/it]"
     ]
    },
    {
     "name": "stdout",
     "output_type": "stream",
     "text": [
      "corr: [0], r2: [-0.24465]\n",
      "Doing 1868: CREBBP\n"
     ]
    },
    {
     "name": "stderr",
     "output_type": "stream",
     "text": [
      "Running elastic model with corum transcripts:  17%|█▋        | 1869/10921 [24:56<2:58:54,  1.19s/it]"
     ]
    },
    {
     "name": "stdout",
     "output_type": "stream",
     "text": [
      "corr: [0.43444], r2: [0.13505]\n",
      "Doing 1869: CREG1\n"
     ]
    },
    {
     "name": "stderr",
     "output_type": "stream",
     "text": [
      "Running elastic model with corum transcripts:  17%|█▋        | 1870/10921 [24:57<2:46:07,  1.10s/it]"
     ]
    },
    {
     "name": "stdout",
     "output_type": "stream",
     "text": [
      "corr: [0.2264], r2: [-0.06886]\n",
      "Doing 1870: CRELD1\n"
     ]
    },
    {
     "name": "stderr",
     "output_type": "stream",
     "text": [
      "Running elastic model with corum transcripts:  17%|█▋        | 1871/10921 [24:58<2:37:34,  1.04s/it]"
     ]
    },
    {
     "name": "stdout",
     "output_type": "stream",
     "text": [
      "corr: [0.36481], r2: [0.11298]\n",
      "Doing 1871: CRELD2\n"
     ]
    },
    {
     "name": "stderr",
     "output_type": "stream",
     "text": [
      "Running elastic model with corum transcripts:  17%|█▋        | 1872/10921 [24:59<2:34:37,  1.03s/it]"
     ]
    },
    {
     "name": "stdout",
     "output_type": "stream",
     "text": [
      "corr: [0.58476], r2: [0.0876]\n",
      "Doing 1872: CREM\n"
     ]
    },
    {
     "name": "stderr",
     "output_type": "stream",
     "text": [
      "Running elastic model with corum transcripts:  17%|█▋        | 1873/10921 [25:00<2:22:36,  1.06it/s]"
     ]
    },
    {
     "name": "stdout",
     "output_type": "stream",
     "text": [
      "corr: [0.06442], r2: [-0.02778]\n",
      "Doing 1873: CRIM1\n"
     ]
    },
    {
     "name": "stderr",
     "output_type": "stream",
     "text": [
      "Running elastic model with corum transcripts:  17%|█▋        | 1874/10921 [25:01<2:20:29,  1.07it/s]"
     ]
    },
    {
     "name": "stdout",
     "output_type": "stream",
     "text": [
      "corr: [0.54774], r2: [0.18363]\n",
      "Doing 1874: CRIP1\n"
     ]
    },
    {
     "name": "stderr",
     "output_type": "stream",
     "text": [
      "Running elastic model with corum transcripts:  17%|█▋        | 1875/10921 [25:02<2:19:23,  1.08it/s]"
     ]
    },
    {
     "name": "stdout",
     "output_type": "stream",
     "text": [
      "corr: [0.55225], r2: [0.26945]\n",
      "Doing 1875: CRIP2\n"
     ]
    },
    {
     "name": "stderr",
     "output_type": "stream",
     "text": [
      "Running elastic model with corum transcripts:  17%|█▋        | 1876/10921 [25:03<2:38:57,  1.05s/it]"
     ]
    },
    {
     "name": "stdout",
     "output_type": "stream",
     "text": [
      "corr: [0.50127], r2: [0.18163]\n",
      "Doing 1876: CRIPT\n"
     ]
    },
    {
     "name": "stderr",
     "output_type": "stream",
     "text": [
      "Running elastic model with corum transcripts:  17%|█▋        | 1877/10921 [25:04<2:27:43,  1.02it/s]"
     ]
    },
    {
     "name": "stdout",
     "output_type": "stream",
     "text": [
      "corr: [0.16026], r2: [0.00894]\n",
      "Doing 1877: CRISP3\n"
     ]
    },
    {
     "name": "stderr",
     "output_type": "stream",
     "text": [
      "Running elastic model with corum transcripts:  17%|█▋        | 1878/10921 [25:05<2:25:04,  1.04it/s]"
     ]
    },
    {
     "name": "stdout",
     "output_type": "stream",
     "text": [
      "corr: [0.52773], r2: [0.2733]\n",
      "Doing 1878: CRISPLD2\n"
     ]
    },
    {
     "name": "stderr",
     "output_type": "stream",
     "text": [
      "Running elastic model with corum transcripts:  17%|█▋        | 1879/10921 [25:06<2:25:09,  1.04it/s]"
     ]
    },
    {
     "name": "stdout",
     "output_type": "stream",
     "text": [
      "corr: [0.7209], r2: [0.41255]\n",
      "Doing 1879: CRK\n"
     ]
    },
    {
     "name": "stderr",
     "output_type": "stream",
     "text": [
      "/Applications/venv/CPTAC_Protein/lib/python3.9/site-packages/numpy/lib/function_base.py:2691: RuntimeWarning: invalid value encountered in true_divide\n",
      "  c /= stddev[:, None]\n",
      "/Applications/venv/CPTAC_Protein/lib/python3.9/site-packages/numpy/lib/function_base.py:2692: RuntimeWarning: invalid value encountered in true_divide\n",
      "  c /= stddev[None, :]\n",
      "Running elastic model with corum transcripts:  17%|█▋        | 1880/10921 [25:07<2:26:43,  1.03it/s]"
     ]
    },
    {
     "name": "stdout",
     "output_type": "stream",
     "text": [
      "corr: [0], r2: [-0.00094]\n",
      "Doing 1880: CRKL\n"
     ]
    },
    {
     "name": "stderr",
     "output_type": "stream",
     "text": [
      "Running elastic model with corum transcripts:  17%|█▋        | 1881/10921 [25:08<2:30:26,  1.00it/s]"
     ]
    },
    {
     "name": "stdout",
     "output_type": "stream",
     "text": [
      "corr: [0.13898], r2: [-0.08349]\n",
      "Doing 1881: CRLF3\n"
     ]
    },
    {
     "name": "stderr",
     "output_type": "stream",
     "text": [
      "Running elastic model with corum transcripts:  17%|█▋        | 1882/10921 [25:09<2:28:24,  1.02it/s]"
     ]
    },
    {
     "name": "stdout",
     "output_type": "stream",
     "text": [
      "corr: [0.36847], r2: [0.1192]\n",
      "Doing 1882: CRMP1\n"
     ]
    },
    {
     "name": "stderr",
     "output_type": "stream",
     "text": [
      "Running elastic model with corum transcripts:  17%|█▋        | 1883/10921 [25:10<2:25:59,  1.03it/s]"
     ]
    },
    {
     "name": "stdout",
     "output_type": "stream",
     "text": [
      "corr: [0.41901], r2: [0.13152]\n",
      "Doing 1883: CRNKL1\n"
     ]
    },
    {
     "name": "stderr",
     "output_type": "stream",
     "text": [
      "Running elastic model with corum transcripts:  17%|█▋        | 1883/10921 [26:26<2:06:55,  1.19it/s]\n"
     ]
    },
    {
     "ename": "KeyboardInterrupt",
     "evalue": "",
     "output_type": "error",
     "traceback": [
      "\u001B[0;31m---------------------------------------------------------------------------\u001B[0m",
      "\u001B[0;31mKeyboardInterrupt\u001B[0m                         Traceback (most recent call last)",
      "\u001B[0;32m/var/folders/7c/l09scrbj6bdgsg118sgq25wm0000gn/T/ipykernel_71322/1710564164.py\u001B[0m in \u001B[0;36m<module>\u001B[0;34m\u001B[0m\n\u001B[1;32m      3\u001B[0m \u001B[0;34m\u001B[0m\u001B[0m\n\u001B[1;32m      4\u001B[0m \u001B[0;31m# This worked in string earlier\u001B[0m\u001B[0;34m\u001B[0m\u001B[0;34m\u001B[0m\u001B[0m\n\u001B[0;32m----> 5\u001B[0;31m \u001B[0mres\u001B[0m \u001B[0;34m=\u001B[0m \u001B[0mtm\u001B[0m\u001B[0;34m.\u001B[0m\u001B[0mlearn_all_proteins\u001B[0m\u001B[0;34m(\u001B[0m\u001B[0;34m)\u001B[0m\u001B[0;34m\u001B[0m\u001B[0;34m\u001B[0m\u001B[0m\n\u001B[0m\u001B[1;32m      6\u001B[0m \u001B[0;34m\u001B[0m\u001B[0m\n",
      "\u001B[0;32m~/PythonProjects/CPTAC_Protein/predict_protein/train_model.py\u001B[0m in \u001B[0;36mlearn_all_proteins\u001B[0;34m(self)\u001B[0m\n\u001B[1;32m     96\u001B[0m             \u001B[0mtqdm\u001B[0m\u001B[0;34m.\u001B[0m\u001B[0mtqdm\u001B[0m\u001B[0;34m.\u001B[0m\u001B[0mwrite\u001B[0m\u001B[0;34m(\u001B[0m\u001B[0;34mf'Doing {i}: {protein}'\u001B[0m\u001B[0;34m)\u001B[0m\u001B[0;34m\u001B[0m\u001B[0;34m\u001B[0m\u001B[0m\n\u001B[1;32m     97\u001B[0m \u001B[0;34m\u001B[0m\u001B[0m\n\u001B[0;32m---> 98\u001B[0;31m             \u001B[0mres\u001B[0m \u001B[0;34m=\u001B[0m \u001B[0mself\u001B[0m\u001B[0;34m.\u001B[0m\u001B[0mlearn_one_protein\u001B[0m\u001B[0;34m(\u001B[0m\u001B[0mprotein\u001B[0m\u001B[0;34m)\u001B[0m\u001B[0;34m\u001B[0m\u001B[0;34m\u001B[0m\u001B[0m\n\u001B[0m\u001B[1;32m     99\u001B[0m \u001B[0;34m\u001B[0m\u001B[0m\n\u001B[1;32m    100\u001B[0m             \u001B[0;32mif\u001B[0m \u001B[0mres\u001B[0m\u001B[0;34m:\u001B[0m\u001B[0;34m\u001B[0m\u001B[0;34m\u001B[0m\u001B[0m\n",
      "\u001B[0;32m~/PythonProjects/CPTAC_Protein/predict_protein/train_model.py\u001B[0m in \u001B[0;36mlearn_one_protein\u001B[0;34m(self, protein_to_do, return_model)\u001B[0m\n\u001B[1;32m    243\u001B[0m         \u001B[0mpd\u001B[0m\u001B[0;34m.\u001B[0m\u001B[0mDataFrame\u001B[0m\u001B[0;34m(\u001B[0m\u001B[0;34m[\u001B[0m\u001B[0m_\u001B[0m \u001B[0;32mfor\u001B[0m \u001B[0m_\u001B[0m \u001B[0;32min\u001B[0m \u001B[0mzip\u001B[0m\u001B[0;34m(\u001B[0m\u001B[0mX_train\u001B[0m\u001B[0;34m.\u001B[0m\u001B[0mcolumns\u001B[0m\u001B[0;34m,\u001B[0m \u001B[0melastic\u001B[0m\u001B[0;34m.\u001B[0m\u001B[0mcoef_\u001B[0m\u001B[0;34m)\u001B[0m\u001B[0;34m]\u001B[0m\u001B[0;34m)\u001B[0m\u001B[0;34m.\u001B[0m\u001B[0mto_csv\u001B[0m\u001B[0;34m(\u001B[0m\u001B[0mprotein_to_do\u001B[0m \u001B[0;34m+\u001B[0m \u001B[0;34m'coef.txt'\u001B[0m\u001B[0;34m)\u001B[0m\u001B[0;34m\u001B[0m\u001B[0;34m\u001B[0m\u001B[0m\n\u001B[1;32m    244\u001B[0m \u001B[0;34m\u001B[0m\u001B[0m\n\u001B[0;32m--> 245\u001B[0;31m         '''\n\u001B[0m\u001B[1;32m    246\u001B[0m \u001B[0;34m\u001B[0m\u001B[0m\n\u001B[1;32m    247\u001B[0m         \u001B[0mvreg\u001B[0m\u001B[0;34m.\u001B[0m\u001B[0mfit\u001B[0m\u001B[0;34m(\u001B[0m\u001B[0mx_train\u001B[0m\u001B[0;34m,\u001B[0m \u001B[0my_train\u001B[0m\u001B[0;34m)\u001B[0m\u001B[0;34m\u001B[0m\u001B[0;34m\u001B[0m\u001B[0m\n",
      "\u001B[0;32m/Applications/venv/CPTAC_Protein/lib/python3.9/site-packages/sklearn/linear_model/_coordinate_descent.py\u001B[0m in \u001B[0;36mfit\u001B[0;34m(self, X, y, sample_weight)\u001B[0m\n\u001B[1;32m   1667\u001B[0m             \u001B[0;32mfor\u001B[0m \u001B[0mtrain\u001B[0m\u001B[0;34m,\u001B[0m \u001B[0mtest\u001B[0m \u001B[0;32min\u001B[0m \u001B[0mfolds\u001B[0m\u001B[0;34m\u001B[0m\u001B[0;34m\u001B[0m\u001B[0m\n\u001B[1;32m   1668\u001B[0m         )\n\u001B[0;32m-> 1669\u001B[0;31m         mse_paths = Parallel(\n\u001B[0m\u001B[1;32m   1670\u001B[0m             \u001B[0mn_jobs\u001B[0m\u001B[0;34m=\u001B[0m\u001B[0mself\u001B[0m\u001B[0;34m.\u001B[0m\u001B[0mn_jobs\u001B[0m\u001B[0;34m,\u001B[0m\u001B[0;34m\u001B[0m\u001B[0;34m\u001B[0m\u001B[0m\n\u001B[1;32m   1671\u001B[0m             \u001B[0mverbose\u001B[0m\u001B[0;34m=\u001B[0m\u001B[0mself\u001B[0m\u001B[0;34m.\u001B[0m\u001B[0mverbose\u001B[0m\u001B[0;34m,\u001B[0m\u001B[0;34m\u001B[0m\u001B[0;34m\u001B[0m\u001B[0m\n",
      "\u001B[0;32m/Applications/venv/CPTAC_Protein/lib/python3.9/site-packages/joblib/parallel.py\u001B[0m in \u001B[0;36m__call__\u001B[0;34m(self, iterable)\u001B[0m\n\u001B[1;32m   1054\u001B[0m \u001B[0;34m\u001B[0m\u001B[0m\n\u001B[1;32m   1055\u001B[0m             \u001B[0;32mwith\u001B[0m \u001B[0mself\u001B[0m\u001B[0;34m.\u001B[0m\u001B[0m_backend\u001B[0m\u001B[0;34m.\u001B[0m\u001B[0mretrieval_context\u001B[0m\u001B[0;34m(\u001B[0m\u001B[0;34m)\u001B[0m\u001B[0;34m:\u001B[0m\u001B[0;34m\u001B[0m\u001B[0;34m\u001B[0m\u001B[0m\n\u001B[0;32m-> 1056\u001B[0;31m                 \u001B[0mself\u001B[0m\u001B[0;34m.\u001B[0m\u001B[0mretrieve\u001B[0m\u001B[0;34m(\u001B[0m\u001B[0;34m)\u001B[0m\u001B[0;34m\u001B[0m\u001B[0;34m\u001B[0m\u001B[0m\n\u001B[0m\u001B[1;32m   1057\u001B[0m             \u001B[0;31m# Make sure that we get a last message telling us we are done\u001B[0m\u001B[0;34m\u001B[0m\u001B[0;34m\u001B[0m\u001B[0m\n\u001B[1;32m   1058\u001B[0m             \u001B[0melapsed_time\u001B[0m \u001B[0;34m=\u001B[0m \u001B[0mtime\u001B[0m\u001B[0;34m.\u001B[0m\u001B[0mtime\u001B[0m\u001B[0;34m(\u001B[0m\u001B[0;34m)\u001B[0m \u001B[0;34m-\u001B[0m \u001B[0mself\u001B[0m\u001B[0;34m.\u001B[0m\u001B[0m_start_time\u001B[0m\u001B[0;34m\u001B[0m\u001B[0;34m\u001B[0m\u001B[0m\n",
      "\u001B[0;32m/Applications/venv/CPTAC_Protein/lib/python3.9/site-packages/joblib/parallel.py\u001B[0m in \u001B[0;36mretrieve\u001B[0;34m(self)\u001B[0m\n\u001B[1;32m    933\u001B[0m             \u001B[0;32mtry\u001B[0m\u001B[0;34m:\u001B[0m\u001B[0;34m\u001B[0m\u001B[0;34m\u001B[0m\u001B[0m\n\u001B[1;32m    934\u001B[0m                 \u001B[0;32mif\u001B[0m \u001B[0mgetattr\u001B[0m\u001B[0;34m(\u001B[0m\u001B[0mself\u001B[0m\u001B[0;34m.\u001B[0m\u001B[0m_backend\u001B[0m\u001B[0;34m,\u001B[0m \u001B[0;34m'supports_timeout'\u001B[0m\u001B[0;34m,\u001B[0m \u001B[0;32mFalse\u001B[0m\u001B[0;34m)\u001B[0m\u001B[0;34m:\u001B[0m\u001B[0;34m\u001B[0m\u001B[0;34m\u001B[0m\u001B[0m\n\u001B[0;32m--> 935\u001B[0;31m                     \u001B[0mself\u001B[0m\u001B[0;34m.\u001B[0m\u001B[0m_output\u001B[0m\u001B[0;34m.\u001B[0m\u001B[0mextend\u001B[0m\u001B[0;34m(\u001B[0m\u001B[0mjob\u001B[0m\u001B[0;34m.\u001B[0m\u001B[0mget\u001B[0m\u001B[0;34m(\u001B[0m\u001B[0mtimeout\u001B[0m\u001B[0;34m=\u001B[0m\u001B[0mself\u001B[0m\u001B[0;34m.\u001B[0m\u001B[0mtimeout\u001B[0m\u001B[0;34m)\u001B[0m\u001B[0;34m)\u001B[0m\u001B[0;34m\u001B[0m\u001B[0;34m\u001B[0m\u001B[0m\n\u001B[0m\u001B[1;32m    936\u001B[0m                 \u001B[0;32melse\u001B[0m\u001B[0;34m:\u001B[0m\u001B[0;34m\u001B[0m\u001B[0;34m\u001B[0m\u001B[0m\n\u001B[1;32m    937\u001B[0m                     \u001B[0mself\u001B[0m\u001B[0;34m.\u001B[0m\u001B[0m_output\u001B[0m\u001B[0;34m.\u001B[0m\u001B[0mextend\u001B[0m\u001B[0;34m(\u001B[0m\u001B[0mjob\u001B[0m\u001B[0;34m.\u001B[0m\u001B[0mget\u001B[0m\u001B[0;34m(\u001B[0m\u001B[0;34m)\u001B[0m\u001B[0;34m)\u001B[0m\u001B[0;34m\u001B[0m\u001B[0;34m\u001B[0m\u001B[0m\n",
      "\u001B[0;32m/usr/local/Cellar/python@3.9/3.9.7_1/Frameworks/Python.framework/Versions/3.9/lib/python3.9/multiprocessing/pool.py\u001B[0m in \u001B[0;36mget\u001B[0;34m(self, timeout)\u001B[0m\n\u001B[1;32m    763\u001B[0m \u001B[0;34m\u001B[0m\u001B[0m\n\u001B[1;32m    764\u001B[0m     \u001B[0;32mdef\u001B[0m \u001B[0mget\u001B[0m\u001B[0;34m(\u001B[0m\u001B[0mself\u001B[0m\u001B[0;34m,\u001B[0m \u001B[0mtimeout\u001B[0m\u001B[0;34m=\u001B[0m\u001B[0;32mNone\u001B[0m\u001B[0;34m)\u001B[0m\u001B[0;34m:\u001B[0m\u001B[0;34m\u001B[0m\u001B[0;34m\u001B[0m\u001B[0m\n\u001B[0;32m--> 765\u001B[0;31m         \u001B[0mself\u001B[0m\u001B[0;34m.\u001B[0m\u001B[0mwait\u001B[0m\u001B[0;34m(\u001B[0m\u001B[0mtimeout\u001B[0m\u001B[0;34m)\u001B[0m\u001B[0;34m\u001B[0m\u001B[0;34m\u001B[0m\u001B[0m\n\u001B[0m\u001B[1;32m    766\u001B[0m         \u001B[0;32mif\u001B[0m \u001B[0;32mnot\u001B[0m \u001B[0mself\u001B[0m\u001B[0;34m.\u001B[0m\u001B[0mready\u001B[0m\u001B[0;34m(\u001B[0m\u001B[0;34m)\u001B[0m\u001B[0;34m:\u001B[0m\u001B[0;34m\u001B[0m\u001B[0;34m\u001B[0m\u001B[0m\n\u001B[1;32m    767\u001B[0m             \u001B[0;32mraise\u001B[0m \u001B[0mTimeoutError\u001B[0m\u001B[0;34m\u001B[0m\u001B[0;34m\u001B[0m\u001B[0m\n",
      "\u001B[0;32m/usr/local/Cellar/python@3.9/3.9.7_1/Frameworks/Python.framework/Versions/3.9/lib/python3.9/multiprocessing/pool.py\u001B[0m in \u001B[0;36mwait\u001B[0;34m(self, timeout)\u001B[0m\n\u001B[1;32m    760\u001B[0m \u001B[0;34m\u001B[0m\u001B[0m\n\u001B[1;32m    761\u001B[0m     \u001B[0;32mdef\u001B[0m \u001B[0mwait\u001B[0m\u001B[0;34m(\u001B[0m\u001B[0mself\u001B[0m\u001B[0;34m,\u001B[0m \u001B[0mtimeout\u001B[0m\u001B[0;34m=\u001B[0m\u001B[0;32mNone\u001B[0m\u001B[0;34m)\u001B[0m\u001B[0;34m:\u001B[0m\u001B[0;34m\u001B[0m\u001B[0;34m\u001B[0m\u001B[0m\n\u001B[0;32m--> 762\u001B[0;31m         \u001B[0mself\u001B[0m\u001B[0;34m.\u001B[0m\u001B[0m_event\u001B[0m\u001B[0;34m.\u001B[0m\u001B[0mwait\u001B[0m\u001B[0;34m(\u001B[0m\u001B[0mtimeout\u001B[0m\u001B[0;34m)\u001B[0m\u001B[0;34m\u001B[0m\u001B[0;34m\u001B[0m\u001B[0m\n\u001B[0m\u001B[1;32m    763\u001B[0m \u001B[0;34m\u001B[0m\u001B[0m\n\u001B[1;32m    764\u001B[0m     \u001B[0;32mdef\u001B[0m \u001B[0mget\u001B[0m\u001B[0;34m(\u001B[0m\u001B[0mself\u001B[0m\u001B[0;34m,\u001B[0m \u001B[0mtimeout\u001B[0m\u001B[0;34m=\u001B[0m\u001B[0;32mNone\u001B[0m\u001B[0;34m)\u001B[0m\u001B[0;34m:\u001B[0m\u001B[0;34m\u001B[0m\u001B[0;34m\u001B[0m\u001B[0m\n",
      "\u001B[0;32m/usr/local/Cellar/python@3.9/3.9.7_1/Frameworks/Python.framework/Versions/3.9/lib/python3.9/threading.py\u001B[0m in \u001B[0;36mwait\u001B[0;34m(self, timeout)\u001B[0m\n\u001B[1;32m    572\u001B[0m             \u001B[0msignaled\u001B[0m \u001B[0;34m=\u001B[0m \u001B[0mself\u001B[0m\u001B[0;34m.\u001B[0m\u001B[0m_flag\u001B[0m\u001B[0;34m\u001B[0m\u001B[0;34m\u001B[0m\u001B[0m\n\u001B[1;32m    573\u001B[0m             \u001B[0;32mif\u001B[0m \u001B[0;32mnot\u001B[0m \u001B[0msignaled\u001B[0m\u001B[0;34m:\u001B[0m\u001B[0;34m\u001B[0m\u001B[0;34m\u001B[0m\u001B[0m\n\u001B[0;32m--> 574\u001B[0;31m                 \u001B[0msignaled\u001B[0m \u001B[0;34m=\u001B[0m \u001B[0mself\u001B[0m\u001B[0;34m.\u001B[0m\u001B[0m_cond\u001B[0m\u001B[0;34m.\u001B[0m\u001B[0mwait\u001B[0m\u001B[0;34m(\u001B[0m\u001B[0mtimeout\u001B[0m\u001B[0;34m)\u001B[0m\u001B[0;34m\u001B[0m\u001B[0;34m\u001B[0m\u001B[0m\n\u001B[0m\u001B[1;32m    575\u001B[0m             \u001B[0;32mreturn\u001B[0m \u001B[0msignaled\u001B[0m\u001B[0;34m\u001B[0m\u001B[0;34m\u001B[0m\u001B[0m\n\u001B[1;32m    576\u001B[0m \u001B[0;34m\u001B[0m\u001B[0m\n",
      "\u001B[0;32m/usr/local/Cellar/python@3.9/3.9.7_1/Frameworks/Python.framework/Versions/3.9/lib/python3.9/threading.py\u001B[0m in \u001B[0;36mwait\u001B[0;34m(self, timeout)\u001B[0m\n\u001B[1;32m    310\u001B[0m         \u001B[0;32mtry\u001B[0m\u001B[0;34m:\u001B[0m    \u001B[0;31m# restore state no matter what (e.g., KeyboardInterrupt)\u001B[0m\u001B[0;34m\u001B[0m\u001B[0;34m\u001B[0m\u001B[0m\n\u001B[1;32m    311\u001B[0m             \u001B[0;32mif\u001B[0m \u001B[0mtimeout\u001B[0m \u001B[0;32mis\u001B[0m \u001B[0;32mNone\u001B[0m\u001B[0;34m:\u001B[0m\u001B[0;34m\u001B[0m\u001B[0;34m\u001B[0m\u001B[0m\n\u001B[0;32m--> 312\u001B[0;31m                 \u001B[0mwaiter\u001B[0m\u001B[0;34m.\u001B[0m\u001B[0macquire\u001B[0m\u001B[0;34m(\u001B[0m\u001B[0;34m)\u001B[0m\u001B[0;34m\u001B[0m\u001B[0;34m\u001B[0m\u001B[0m\n\u001B[0m\u001B[1;32m    313\u001B[0m                 \u001B[0mgotit\u001B[0m \u001B[0;34m=\u001B[0m \u001B[0;32mTrue\u001B[0m\u001B[0;34m\u001B[0m\u001B[0;34m\u001B[0m\u001B[0m\n\u001B[1;32m    314\u001B[0m             \u001B[0;32melse\u001B[0m\u001B[0;34m:\u001B[0m\u001B[0;34m\u001B[0m\u001B[0;34m\u001B[0m\u001B[0m\n",
      "\u001B[0;31mKeyboardInterrupt\u001B[0m: "
     ]
    }
   ],
   "source": [
    "tm.train_method = 'elastic'\n",
    "tm.included_features = 'corum'\n",
    "\n",
    "# This worked in string earlier\n",
    "res = tm.learn_all_proteins()\n"
   ],
   "metadata": {
    "collapsed": false,
    "pycharm": {
     "name": "#%%\n"
    }
   }
  }
 ],
 "metadata": {
  "kernelspec": {
   "display_name": "Python 3",
   "language": "python",
   "name": "python3"
  },
  "language_info": {
   "codemirror_mode": {
    "name": "ipython",
    "version": 2
   },
   "file_extension": ".py",
   "mimetype": "text/x-python",
   "name": "python",
   "nbconvert_exporter": "python",
   "pygments_lexer": "ipython2",
   "version": "2.7.6"
  }
 },
 "nbformat": 4,
 "nbformat_minor": 0
}
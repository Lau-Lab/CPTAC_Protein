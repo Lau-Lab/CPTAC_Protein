{
 "cells": [
  {
   "cell_type": "code",
   "execution_count": 18,
   "metadata": {
    "collapsed": true
   },
   "outputs": [],
   "source": [
    "\n",
    "import pandas as pd\n",
    "from predict_protein import download_cptac, select_features, train_model\n",
    "import numpy as np\n",
    "\n",
    "from sklearn.impute import SimpleImputer\n",
    "from sklearn.feature_selection import VarianceThreshold\n",
    "from sklearn.model_selection import train_test_split\n",
    "from sklearn.metrics import mean_squared_error, r2_score\n",
    "from sklearn.ensemble import RandomForestRegressor, VotingRegressor, GradientBoostingRegressor\n",
    "from sklearn.linear_model import LinearRegression, ElasticNetCV"
   ]
  },
  {
   "cell_type": "code",
   "execution_count": 3,
   "outputs": [
    {
     "name": "stdout",
     "output_type": "stream",
     "text": [
      "Formatting dataframes...\r..\r up-to-date...\r.\r...\r                                                                                                                                                                                                                                                                                                                                                                                            Loading endometrial v2.1.1....Loading endometrial v2.1.1.......Loading endometrial v2.1.1.........Loading endometrial v2.1.1............                                                                    Loading ovarian v0.0.1...Loading ovarian v0.0.1......Loading ovarian v0.0.1........                                                                  Loading colon v0.0.1....Loading colon v0.0.1......Loading colon v0.0.1........Loading colon v0.0.1...........                                                                 Loading brca v5.4..Loading brca v5.4....Loading brca v5.4......                                                                 Loading luad v3.1.1...Loading luad v3.1.1.....Loading luad v3.1.1.......Loading luad v3.1.1.........Loading luad v3.1.1...........                                                                  Loading ccrcc v0.1.1..Loading ccrcc v0.1.1....Loading ccrcc v0.1.1......Loading ccrcc v0.1.1........Loading ccrcc v0.1.1..........Loading ccrcc v0.1.1............                                                                Loading gbm v3.0..Loading gbm v3.0.........Loading gbm v3.0...........Loading gbm v3.0...............                                                                                                 Loading lscc v3.3..Loading lscc v3.3....Loading lscc v3.3......Loading lscc v3.3.........Loading lscc v3.3...........                                                                                               Loading hnscc v2.0......Loading hnscc v2.0........                                                   \r"
     ]
    },
    {
     "name": "stderr",
     "output_type": "stream",
     "text": [
      "cptac warning: transcriptomics data was not found for the following samples, so transcriptomics data columns were filled with NaN for these samples: C3L-00563.N, C3L-00605.N, C3L-00769.N, C3L-00770.N, C3L-00771.N, C3L-00930.N, C3L-00947.N, C3L-00963.N, C3L-01246.N, C3L-01249.N, C3L-01252.N, C3L-01256.N, C3L-01257.N, C3L-01744.N, C3N-00200.N, C3N-00729.N, C3N-01211.N, NX1.N, NX10.N, NX11.N, NX12.N, NX13.N, NX14.N, NX15.N, NX16.N, NX17.N, NX18.N, NX2.N, NX3.N, NX4.N, NX5.N, NX6.N, NX7.N, NX8.N, NX9.N (/Users/edwardlau/PythonProjects/CPTAC_Protein/predict_protein/download_cptac.py, line 38)\n",
      "cptac warning: proteomics data was not found for the following samples, so proteomics data columns were filled with NaN for these samples: 01OV002, 01OV008, 01OV010, 01OV013, 01OV019, 01OV045, 01OV046, 01OV049, 02OV035, 02OV040, 02OV042, 02OV045, 04OV041, 11OV009, 13OV004, 17OV019, 17OV034, 22OV001, 26OV010 (/Users/edwardlau/PythonProjects/CPTAC_Protein/predict_protein/download_cptac.py, line 42)\n",
      "cptac warning: transcriptomics data was not found for the following samples, so transcriptomics data columns were filled with NaN for these samples: 01OV007.N, 01OV008.N, 01OV010.N, 01OV013.N, 01OV017.N, 01OV019.N, 01OV023.N, 01OV029, 01OV029.N, 01OV039.N, 02OV001.N, 11OV002.N, 11OV010.N, 14OV011.N, 14OV029.N, 15OV001.N, 17OV001.N, 17OV002.N, 17OV003.N, 17OV004.N, 17OV005.N (/Users/edwardlau/PythonProjects/CPTAC_Protein/predict_protein/download_cptac.py, line 42)\n",
      "cptac warning: proteomics data was not found for the following samples, so proteomics data columns were filled with NaN for these samples: 01CO001, 05CO005, 05CO007, 05CO014, 05CO055, 11CO059, 11CO060, 14CO002, 16CO012, 24CO005 (/Users/edwardlau/PythonProjects/CPTAC_Protein/predict_protein/download_cptac.py, line 47)\n",
      "cptac warning: transcriptomics data was not found for the following samples, so transcriptomics data columns were filled with NaN for these samples: 01CO001.N, 01CO005.N, 01CO006.N, 01CO008.N, 01CO013.N, 01CO014.N, 01CO015.N, 01CO019.N, 01CO022.N, 05CO002.N, 05CO003.N, 05CO006.N, 05CO007.N, 05CO011.N, 05CO015.N, 05CO020.N, 05CO026.N, 05CO028.N, 05CO029.N, 05CO032.N, 05CO033.N, 05CO034.N, 05CO035.N, 05CO037.N, 05CO039.N, 05CO041.N, 05CO044.N, 05CO045.N, 05CO047.N, 05CO048.N, 05CO049.N, 05CO050.N, 05CO053.N, 05CO054.N, 06CO001.N, 06CO002.N, 09CO005.N, 09CO006.N, 09CO008.N, 09CO011.N, 09CO013.N, 09CO014.N, 09CO015.N, 09CO018.N, 09CO019.N, 09CO022.N, 11CO005.N, 11CO007.N, 11CO008.N, 11CO010.N, 11CO018.N, 11CO019.N, 11CO020.N, 11CO021.N, 11CO022.N, 11CO027.N, 11CO030.N, 11CO031.N, 11CO032.N, 11CO033.N, 11CO036.N, 11CO037.N, 11CO039.N, 11CO042.N, 11CO043.N, 11CO044.N, 11CO045.N, 11CO047.N, 11CO048.N, 11CO051.N, 11CO052.N, 11CO053.N, 11CO054.N, 11CO057.N, 11CO058.N, 11CO060.N, 11CO061.N, 11CO062.N, 11CO070.N, 11CO072.N, 11CO077.N, 11CO079.N, 14CO002.N, 14CO005.N, 15CO001.N, 15CO002.N, 16CO002.N, 16CO003.N, 16CO006.N, 16CO011.N, 20CO001.N, 20CO003.N, 20CO004.N, 20CO006, 20CO006.N, 20CO007.N, 21CO006.N, 21CO007.N, 22CO004.N, 22CO006.N, 27CO004.N (/Users/edwardlau/PythonProjects/CPTAC_Protein/predict_protein/download_cptac.py, line 47)\n",
      "cptac warning: transcriptomics data was not found for the following samples, so transcriptomics data columns were filled with NaN for these samples: C3L-00183.N, C3L-00791.N, C3N-00246.N, C3N-00312.N, C3N-00317.N, C3N-00320.N, C3N-00437.N, C3N-00492.N, C3N-00953.N (/Users/edwardlau/PythonProjects/CPTAC_Protein/predict_protein/download_cptac.py, line 61)\n",
      "cptac warning: transcriptomics data was not found for the following samples, so transcriptomics data columns were filled with NaN for these samples: PT-Q2AG.N (/Users/edwardlau/PythonProjects/CPTAC_Protein/predict_protein/download_cptac.py, line 66)\n",
      "cptac warning: transcriptomics data was not found for the following samples, so transcriptomics data columns were filled with NaN for these samples: C3L-02646.N, C3N-03072.N, C3N-03662.N, C3N-03886.N, C3N-04155.N (/Users/edwardlau/PythonProjects/CPTAC_Protein/predict_protein/download_cptac.py, line 71)\n",
      "cptac warning: proteomics data was not found for the following samples, so proteomics data columns were filled with NaN for these samples: C3L-00977.N, C3L-04025.N, C3N-01948.N, C3N-02333.N, C3N-02727.N, C3N-02925.N, C3N-03226.N, C3N-03487.N, C3N-03889.N, C3N-04152.N, C3N-04611.N (/Users/edwardlau/PythonProjects/CPTAC_Protein/predict_protein/download_cptac.py, line 76)\n",
      "cptac warning: transcriptomics data was not found for the following samples, so transcriptomics data columns were filled with NaN for these samples: C3L-00994.C, C3L-02617.C, C3L-04350.C, C3L-04354.N, C3L-04844.N, C3L-05257.C, C3N-00295.N, C3N-00829.N, C3N-00857.N, C3N-01620.N, C3N-01757.C, C3N-01758.N, C3N-01858.N, C3N-01859.N, C3N-02693.N, C3N-03008.N, C3N-03011.N, C3N-03012.N, C3N-03013.N, C3N-03015.N, C3N-03042.C, C3N-03781.N, C3N-04275.N, C3N-04276.N, C3N-04277.N, C3N-04278.N, C3N-04279.N (/Users/edwardlau/PythonProjects/CPTAC_Protein/predict_protein/download_cptac.py, line 76)\n",
      "/Applications/venv/CPTAC_Protein/lib/python3.9/site-packages/numpy/lib/nanfunctions.py:1119: RuntimeWarning: All-NaN slice encountered\n",
      "  r, k = function_base._ureduce(a, func=_nanmedian, axis=axis, out=out,\n",
      "/Applications/venv/CPTAC_Protein/lib/python3.9/site-packages/numpy/lib/nanfunctions.py:1374: RuntimeWarning: All-NaN slice encountered\n",
      "  r, k = function_base._ureduce(\n",
      "/Applications/venv/CPTAC_Protein/lib/python3.9/site-packages/numpy/lib/nanfunctions.py:1119: RuntimeWarning: All-NaN slice encountered\n",
      "  r, k = function_base._ureduce(a, func=_nanmedian, axis=axis, out=out,\n",
      "/Applications/venv/CPTAC_Protein/lib/python3.9/site-packages/numpy/lib/nanfunctions.py:1374: RuntimeWarning: All-NaN slice encountered\n",
      "  r, k = function_base._ureduce(\n",
      "/Applications/venv/CPTAC_Protein/lib/python3.9/site-packages/numpy/lib/nanfunctions.py:1119: RuntimeWarning: All-NaN slice encountered\n",
      "  r, k = function_base._ureduce(a, func=_nanmedian, axis=axis, out=out,\n",
      "/Applications/venv/CPTAC_Protein/lib/python3.9/site-packages/numpy/lib/nanfunctions.py:1374: RuntimeWarning: All-NaN slice encountered\n",
      "  r, k = function_base._ureduce(\n"
     ]
    }
   ],
   "source": [
    "cptac_list = download_cptac.download_cptac(n_tumors=2)"
   ],
   "metadata": {
    "collapsed": false,
    "pycharm": {
     "name": "#%%\n"
    }
   }
  },
  {
   "cell_type": "code",
   "execution_count": 4,
   "outputs": [],
   "source": [
    "tm = train_model.LearnCPTAC(pd.concat(cptac_list))"
   ],
   "metadata": {
    "collapsed": false,
    "pycharm": {
     "name": "#%%\n"
    }
   }
  },
  {
   "cell_type": "code",
   "execution_count": 5,
   "outputs": [],
   "source": [
    "tm.train_method = 'linreg'\n",
    "tm.included_features = 'single'"
   ],
   "metadata": {
    "collapsed": false,
    "pycharm": {
     "name": "#%%\n"
    }
   }
  },
  {
   "cell_type": "code",
   "execution_count": 10,
   "outputs": [
    {
     "data": {
      "text/plain": "'GK2'"
     },
     "execution_count": 10,
     "metadata": {},
     "output_type": "execute_result"
    }
   ],
   "source": [
    "tm.shared_proteins[3281]"
   ],
   "metadata": {
    "collapsed": false,
    "pycharm": {
     "name": "#%%\n"
    }
   }
  },
  {
   "cell_type": "code",
   "execution_count": 11,
   "outputs": [
    {
     "ename": "ValueError",
     "evalue": "Shape of passed values is (244, 0), indices imply (244, 1)",
     "output_type": "error",
     "traceback": [
      "\u001B[0;31m---------------------------------------------------------------------------\u001B[0m",
      "\u001B[0;31mValueError\u001B[0m                                Traceback (most recent call last)",
      "Input \u001B[0;32mIn [11]\u001B[0m, in \u001B[0;36m<module>\u001B[0;34m\u001B[0m\n\u001B[1;32m      1\u001B[0m \u001B[38;5;66;03m# This worked in string earlier\u001B[39;00m\n\u001B[0;32m----> 2\u001B[0m res \u001B[38;5;241m=\u001B[39m \u001B[43mtm\u001B[49m\u001B[38;5;241;43m.\u001B[39;49m\u001B[43mlearn_one_protein\u001B[49m\u001B[43m(\u001B[49m\u001B[38;5;124;43m'\u001B[39;49m\u001B[38;5;124;43mGK2\u001B[39;49m\u001B[38;5;124;43m'\u001B[39;49m\u001B[43m)\u001B[49m\n\u001B[1;32m      3\u001B[0m res\n",
      "File \u001B[0;32m~/PythonProjects/CPTAC_Protein/predict_protein/train_model.py:256\u001B[0m, in \u001B[0;36mLearnCPTAC.learn_one_protein\u001B[0;34m(self, protein_to_do, n_threads)\u001B[0m\n\u001B[1;32m    247\u001B[0m \u001B[38;5;124;03m\"\"\"\u001B[39;00m\n\u001B[1;32m    248\u001B[0m \u001B[38;5;124;03mtrain model for one protein of interest\u001B[39;00m\n\u001B[1;32m    249\u001B[0m \n\u001B[0;32m   (...)\u001B[0m\n\u001B[1;32m    252\u001B[0m \u001B[38;5;124;03m:return: dict of models and metrics\u001B[39;00m\n\u001B[1;32m    253\u001B[0m \u001B[38;5;124;03m\"\"\"\u001B[39;00m\n\u001B[1;32m    255\u001B[0m \u001B[38;5;28;01mtry\u001B[39;00m:\n\u001B[0;32m--> 256\u001B[0m     x_train, x_test, y_train, y_test \u001B[38;5;241m=\u001B[39m \u001B[38;5;28;43mself\u001B[39;49m\u001B[38;5;241;43m.\u001B[39;49m\u001B[43mget_train_test\u001B[49m\u001B[43m(\u001B[49m\u001B[43mprotein_to_do\u001B[49m\u001B[38;5;241;43m=\u001B[39;49m\u001B[43mprotein_to_do\u001B[49m\u001B[43m)\u001B[49m\n\u001B[1;32m    258\u001B[0m \u001B[38;5;66;03m# if the get_train_test method returns none, return empty result\u001B[39;00m\n\u001B[1;32m    259\u001B[0m \u001B[38;5;28;01mexcept\u001B[39;00m \u001B[38;5;167;01mTypeError\u001B[39;00m:\n",
      "File \u001B[0;32m~/PythonProjects/CPTAC_Protein/predict_protein/train_model.py:207\u001B[0m, in \u001B[0;36mLearnCPTAC.get_train_test\u001B[0;34m(self, protein_to_do)\u001B[0m\n\u001B[1;32m    204\u001B[0m \u001B[38;5;66;03m# simple impute for missing values\u001B[39;00m\n\u001B[1;32m    205\u001B[0m \u001B[38;5;66;03m# TODO: use knn for better performance.\u001B[39;00m\n\u001B[1;32m    206\u001B[0m x_impute \u001B[38;5;241m=\u001B[39m SimpleImputer(missing_values\u001B[38;5;241m=\u001B[39mnp\u001B[38;5;241m.\u001B[39mnan, strategy\u001B[38;5;241m=\u001B[39m\u001B[38;5;124m'\u001B[39m\u001B[38;5;124mmedian\u001B[39m\u001B[38;5;124m'\u001B[39m)\u001B[38;5;241m.\u001B[39mfit_transform(x_df)\n\u001B[0;32m--> 207\u001B[0m x_impute_df \u001B[38;5;241m=\u001B[39m \u001B[43mpd\u001B[49m\u001B[38;5;241;43m.\u001B[39;49m\u001B[43mDataFrame\u001B[49m\u001B[43m(\u001B[49m\u001B[43mx_impute\u001B[49m\u001B[43m,\u001B[49m\u001B[43m \u001B[49m\u001B[43mcolumns\u001B[49m\u001B[38;5;241;43m=\u001B[39;49m\u001B[43mx_df\u001B[49m\u001B[38;5;241;43m.\u001B[39;49m\u001B[43mcolumns\u001B[49m\u001B[43m,\u001B[49m\u001B[43m \u001B[49m\u001B[43mindex\u001B[49m\u001B[38;5;241;43m=\u001B[39;49m\u001B[43mx_df\u001B[49m\u001B[38;5;241;43m.\u001B[39;49m\u001B[43mindex\u001B[49m\u001B[43m)\u001B[49m\n\u001B[1;32m    209\u001B[0m \u001B[38;5;66;03m# remove low variance columns\u001B[39;00m\n\u001B[1;32m    210\u001B[0m \u001B[38;5;28;01mtry\u001B[39;00m:\n",
      "File \u001B[0;32m/Applications/venv/CPTAC_Protein/lib/python3.9/site-packages/pandas/core/frame.py:672\u001B[0m, in \u001B[0;36mDataFrame.__init__\u001B[0;34m(self, data, index, columns, dtype, copy)\u001B[0m\n\u001B[1;32m    662\u001B[0m         mgr \u001B[38;5;241m=\u001B[39m dict_to_mgr(\n\u001B[1;32m    663\u001B[0m             \u001B[38;5;66;03m# error: Item \"ndarray\" of \"Union[ndarray, Series, Index]\" has no\u001B[39;00m\n\u001B[1;32m    664\u001B[0m             \u001B[38;5;66;03m# attribute \"name\"\u001B[39;00m\n\u001B[0;32m   (...)\u001B[0m\n\u001B[1;32m    669\u001B[0m             typ\u001B[38;5;241m=\u001B[39mmanager,\n\u001B[1;32m    670\u001B[0m         )\n\u001B[1;32m    671\u001B[0m     \u001B[38;5;28;01melse\u001B[39;00m:\n\u001B[0;32m--> 672\u001B[0m         mgr \u001B[38;5;241m=\u001B[39m \u001B[43mndarray_to_mgr\u001B[49m\u001B[43m(\u001B[49m\n\u001B[1;32m    673\u001B[0m \u001B[43m            \u001B[49m\u001B[43mdata\u001B[49m\u001B[43m,\u001B[49m\n\u001B[1;32m    674\u001B[0m \u001B[43m            \u001B[49m\u001B[43mindex\u001B[49m\u001B[43m,\u001B[49m\n\u001B[1;32m    675\u001B[0m \u001B[43m            \u001B[49m\u001B[43mcolumns\u001B[49m\u001B[43m,\u001B[49m\n\u001B[1;32m    676\u001B[0m \u001B[43m            \u001B[49m\u001B[43mdtype\u001B[49m\u001B[38;5;241;43m=\u001B[39;49m\u001B[43mdtype\u001B[49m\u001B[43m,\u001B[49m\n\u001B[1;32m    677\u001B[0m \u001B[43m            \u001B[49m\u001B[43mcopy\u001B[49m\u001B[38;5;241;43m=\u001B[39;49m\u001B[43mcopy\u001B[49m\u001B[43m,\u001B[49m\n\u001B[1;32m    678\u001B[0m \u001B[43m            \u001B[49m\u001B[43mtyp\u001B[49m\u001B[38;5;241;43m=\u001B[39;49m\u001B[43mmanager\u001B[49m\u001B[43m,\u001B[49m\n\u001B[1;32m    679\u001B[0m \u001B[43m        \u001B[49m\u001B[43m)\u001B[49m\n\u001B[1;32m    681\u001B[0m \u001B[38;5;66;03m# For data is list-like, or Iterable (will consume into list)\u001B[39;00m\n\u001B[1;32m    682\u001B[0m \u001B[38;5;28;01melif\u001B[39;00m is_list_like(data):\n",
      "File \u001B[0;32m/Applications/venv/CPTAC_Protein/lib/python3.9/site-packages/pandas/core/internals/construction.py:324\u001B[0m, in \u001B[0;36mndarray_to_mgr\u001B[0;34m(values, index, columns, dtype, copy, typ)\u001B[0m\n\u001B[1;32m    319\u001B[0m \u001B[38;5;66;03m# _prep_ndarray ensures that values.ndim == 2 at this point\u001B[39;00m\n\u001B[1;32m    320\u001B[0m index, columns \u001B[38;5;241m=\u001B[39m _get_axes(\n\u001B[1;32m    321\u001B[0m     values\u001B[38;5;241m.\u001B[39mshape[\u001B[38;5;241m0\u001B[39m], values\u001B[38;5;241m.\u001B[39mshape[\u001B[38;5;241m1\u001B[39m], index\u001B[38;5;241m=\u001B[39mindex, columns\u001B[38;5;241m=\u001B[39mcolumns\n\u001B[1;32m    322\u001B[0m )\n\u001B[0;32m--> 324\u001B[0m \u001B[43m_check_values_indices_shape_match\u001B[49m\u001B[43m(\u001B[49m\u001B[43mvalues\u001B[49m\u001B[43m,\u001B[49m\u001B[43m \u001B[49m\u001B[43mindex\u001B[49m\u001B[43m,\u001B[49m\u001B[43m \u001B[49m\u001B[43mcolumns\u001B[49m\u001B[43m)\u001B[49m\n\u001B[1;32m    326\u001B[0m \u001B[38;5;28;01mif\u001B[39;00m typ \u001B[38;5;241m==\u001B[39m \u001B[38;5;124m\"\u001B[39m\u001B[38;5;124marray\u001B[39m\u001B[38;5;124m\"\u001B[39m:\n\u001B[1;32m    328\u001B[0m     \u001B[38;5;28;01mif\u001B[39;00m \u001B[38;5;28missubclass\u001B[39m(values\u001B[38;5;241m.\u001B[39mdtype\u001B[38;5;241m.\u001B[39mtype, \u001B[38;5;28mstr\u001B[39m):\n",
      "File \u001B[0;32m/Applications/venv/CPTAC_Protein/lib/python3.9/site-packages/pandas/core/internals/construction.py:393\u001B[0m, in \u001B[0;36m_check_values_indices_shape_match\u001B[0;34m(values, index, columns)\u001B[0m\n\u001B[1;32m    391\u001B[0m passed \u001B[38;5;241m=\u001B[39m values\u001B[38;5;241m.\u001B[39mshape\n\u001B[1;32m    392\u001B[0m implied \u001B[38;5;241m=\u001B[39m (\u001B[38;5;28mlen\u001B[39m(index), \u001B[38;5;28mlen\u001B[39m(columns))\n\u001B[0;32m--> 393\u001B[0m \u001B[38;5;28;01mraise\u001B[39;00m \u001B[38;5;167;01mValueError\u001B[39;00m(\u001B[38;5;124mf\u001B[39m\u001B[38;5;124m\"\u001B[39m\u001B[38;5;124mShape of passed values is \u001B[39m\u001B[38;5;132;01m{\u001B[39;00mpassed\u001B[38;5;132;01m}\u001B[39;00m\u001B[38;5;124m, indices imply \u001B[39m\u001B[38;5;132;01m{\u001B[39;00mimplied\u001B[38;5;132;01m}\u001B[39;00m\u001B[38;5;124m\"\u001B[39m)\n",
      "\u001B[0;31mValueError\u001B[0m: Shape of passed values is (244, 0), indices imply (244, 1)"
     ]
    }
   ],
   "source": [
    "# This worked in string earlier\n",
    "res = tm.learn_one_protein('GK2')\n",
    "res"
   ],
   "metadata": {
    "collapsed": false,
    "pycharm": {
     "name": "#%%\n"
    }
   }
  },
  {
   "cell_type": "code",
   "execution_count": 13,
   "outputs": [
    {
     "data": {
      "text/plain": "103"
     },
     "execution_count": 13,
     "metadata": {},
     "output_type": "execute_result"
    }
   ],
   "source": [
    "protein_to_do = 'GK2'\n",
    "y_df = tm.df[[protein_to_do + '_proteomics']]\n",
    "y_df = y_df.dropna(subset=[protein_to_do + '_proteomics'])\n",
    "len(y_df)"
   ],
   "metadata": {
    "collapsed": false,
    "pycharm": {
     "name": "#%%\n"
    }
   }
  },
  {
   "cell_type": "code",
   "execution_count": 16,
   "outputs": [
    {
     "data": {
      "text/plain": "Name        GK2_transcriptomics\nPatient_ID                     \nOV01OV002                   NaN\nOV01OV007                   NaN\nOV01OV008                   NaN\nOV01OV010                   NaN\nOV01OV013                   NaN\n...                         ...\nBRX21BR001                  NaN\nBRX21BR002                  NaN\nBRX21BR010                  NaN\nBRX22BR005                  NaN\nBRX22BR006                  NaN\n\n[244 rows x 1 columns]",
      "text/html": "<div>\n<style scoped>\n    .dataframe tbody tr th:only-of-type {\n        vertical-align: middle;\n    }\n\n    .dataframe tbody tr th {\n        vertical-align: top;\n    }\n\n    .dataframe thead th {\n        text-align: right;\n    }\n</style>\n<table border=\"1\" class=\"dataframe\">\n  <thead>\n    <tr style=\"text-align: right;\">\n      <th>Name</th>\n      <th>GK2_transcriptomics</th>\n    </tr>\n    <tr>\n      <th>Patient_ID</th>\n      <th></th>\n    </tr>\n  </thead>\n  <tbody>\n    <tr>\n      <th>OV01OV002</th>\n      <td>NaN</td>\n    </tr>\n    <tr>\n      <th>OV01OV007</th>\n      <td>NaN</td>\n    </tr>\n    <tr>\n      <th>OV01OV008</th>\n      <td>NaN</td>\n    </tr>\n    <tr>\n      <th>OV01OV010</th>\n      <td>NaN</td>\n    </tr>\n    <tr>\n      <th>OV01OV013</th>\n      <td>NaN</td>\n    </tr>\n    <tr>\n      <th>...</th>\n      <td>...</td>\n    </tr>\n    <tr>\n      <th>BRX21BR001</th>\n      <td>NaN</td>\n    </tr>\n    <tr>\n      <th>BRX21BR002</th>\n      <td>NaN</td>\n    </tr>\n    <tr>\n      <th>BRX21BR010</th>\n      <td>NaN</td>\n    </tr>\n    <tr>\n      <th>BRX22BR005</th>\n      <td>NaN</td>\n    </tr>\n    <tr>\n      <th>BRX22BR006</th>\n      <td>NaN</td>\n    </tr>\n  </tbody>\n</table>\n<p>244 rows × 1 columns</p>\n</div>"
     },
     "execution_count": 16,
     "metadata": {},
     "output_type": "execute_result"
    }
   ],
   "source": [
    "proteins_to_include = [protein_to_do]\n",
    "x_df = tm.df[[tx + '_transcriptomics' for tx in proteins_to_include]]\n",
    "x_df"
   ],
   "metadata": {
    "collapsed": false,
    "pycharm": {
     "name": "#%%\n"
    }
   }
  },
  {
   "cell_type": "code",
   "execution_count": 30,
   "outputs": [],
   "source": [
    "x_df = x_df.dropna(axis=1, how='all')"
   ],
   "metadata": {
    "collapsed": false,
    "pycharm": {
     "name": "#%%\n"
    }
   }
  },
  {
   "cell_type": "code",
   "execution_count": 32,
   "outputs": [
    {
     "data": {
      "text/plain": "0"
     },
     "execution_count": 32,
     "metadata": {},
     "output_type": "execute_result"
    }
   ],
   "source": [
    "x_df.shape[1]"
   ],
   "metadata": {
    "collapsed": false,
    "pycharm": {
     "name": "#%%\n"
    }
   }
  },
  {
   "cell_type": "code",
   "execution_count": 19,
   "outputs": [
    {
     "ename": "ValueError",
     "evalue": "Shape of passed values is (244, 0), indices imply (244, 1)",
     "output_type": "error",
     "traceback": [
      "\u001B[0;31m---------------------------------------------------------------------------\u001B[0m",
      "\u001B[0;31mValueError\u001B[0m                                Traceback (most recent call last)",
      "Input \u001B[0;32mIn [19]\u001B[0m, in \u001B[0;36m<module>\u001B[0;34m\u001B[0m\n\u001B[1;32m      1\u001B[0m x_impute \u001B[38;5;241m=\u001B[39m SimpleImputer(missing_values\u001B[38;5;241m=\u001B[39mnp\u001B[38;5;241m.\u001B[39mnan, strategy\u001B[38;5;241m=\u001B[39m\u001B[38;5;124m'\u001B[39m\u001B[38;5;124mmedian\u001B[39m\u001B[38;5;124m'\u001B[39m)\u001B[38;5;241m.\u001B[39mfit_transform(x_df)\n\u001B[0;32m----> 2\u001B[0m x_impute_df \u001B[38;5;241m=\u001B[39m \u001B[43mpd\u001B[49m\u001B[38;5;241;43m.\u001B[39;49m\u001B[43mDataFrame\u001B[49m\u001B[43m(\u001B[49m\u001B[43mx_impute\u001B[49m\u001B[43m,\u001B[49m\u001B[43m \u001B[49m\u001B[43mcolumns\u001B[49m\u001B[38;5;241;43m=\u001B[39;49m\u001B[43mx_df\u001B[49m\u001B[38;5;241;43m.\u001B[39;49m\u001B[43mcolumns\u001B[49m\u001B[43m,\u001B[49m\u001B[43m \u001B[49m\u001B[43mindex\u001B[49m\u001B[38;5;241;43m=\u001B[39;49m\u001B[43mx_df\u001B[49m\u001B[38;5;241;43m.\u001B[39;49m\u001B[43mindex\u001B[49m\u001B[43m)\u001B[49m\n",
      "File \u001B[0;32m/Applications/venv/CPTAC_Protein/lib/python3.9/site-packages/pandas/core/frame.py:672\u001B[0m, in \u001B[0;36mDataFrame.__init__\u001B[0;34m(self, data, index, columns, dtype, copy)\u001B[0m\n\u001B[1;32m    662\u001B[0m         mgr \u001B[38;5;241m=\u001B[39m dict_to_mgr(\n\u001B[1;32m    663\u001B[0m             \u001B[38;5;66;03m# error: Item \"ndarray\" of \"Union[ndarray, Series, Index]\" has no\u001B[39;00m\n\u001B[1;32m    664\u001B[0m             \u001B[38;5;66;03m# attribute \"name\"\u001B[39;00m\n\u001B[0;32m   (...)\u001B[0m\n\u001B[1;32m    669\u001B[0m             typ\u001B[38;5;241m=\u001B[39mmanager,\n\u001B[1;32m    670\u001B[0m         )\n\u001B[1;32m    671\u001B[0m     \u001B[38;5;28;01melse\u001B[39;00m:\n\u001B[0;32m--> 672\u001B[0m         mgr \u001B[38;5;241m=\u001B[39m \u001B[43mndarray_to_mgr\u001B[49m\u001B[43m(\u001B[49m\n\u001B[1;32m    673\u001B[0m \u001B[43m            \u001B[49m\u001B[43mdata\u001B[49m\u001B[43m,\u001B[49m\n\u001B[1;32m    674\u001B[0m \u001B[43m            \u001B[49m\u001B[43mindex\u001B[49m\u001B[43m,\u001B[49m\n\u001B[1;32m    675\u001B[0m \u001B[43m            \u001B[49m\u001B[43mcolumns\u001B[49m\u001B[43m,\u001B[49m\n\u001B[1;32m    676\u001B[0m \u001B[43m            \u001B[49m\u001B[43mdtype\u001B[49m\u001B[38;5;241;43m=\u001B[39;49m\u001B[43mdtype\u001B[49m\u001B[43m,\u001B[49m\n\u001B[1;32m    677\u001B[0m \u001B[43m            \u001B[49m\u001B[43mcopy\u001B[49m\u001B[38;5;241;43m=\u001B[39;49m\u001B[43mcopy\u001B[49m\u001B[43m,\u001B[49m\n\u001B[1;32m    678\u001B[0m \u001B[43m            \u001B[49m\u001B[43mtyp\u001B[49m\u001B[38;5;241;43m=\u001B[39;49m\u001B[43mmanager\u001B[49m\u001B[43m,\u001B[49m\n\u001B[1;32m    679\u001B[0m \u001B[43m        \u001B[49m\u001B[43m)\u001B[49m\n\u001B[1;32m    681\u001B[0m \u001B[38;5;66;03m# For data is list-like, or Iterable (will consume into list)\u001B[39;00m\n\u001B[1;32m    682\u001B[0m \u001B[38;5;28;01melif\u001B[39;00m is_list_like(data):\n",
      "File \u001B[0;32m/Applications/venv/CPTAC_Protein/lib/python3.9/site-packages/pandas/core/internals/construction.py:324\u001B[0m, in \u001B[0;36mndarray_to_mgr\u001B[0;34m(values, index, columns, dtype, copy, typ)\u001B[0m\n\u001B[1;32m    319\u001B[0m \u001B[38;5;66;03m# _prep_ndarray ensures that values.ndim == 2 at this point\u001B[39;00m\n\u001B[1;32m    320\u001B[0m index, columns \u001B[38;5;241m=\u001B[39m _get_axes(\n\u001B[1;32m    321\u001B[0m     values\u001B[38;5;241m.\u001B[39mshape[\u001B[38;5;241m0\u001B[39m], values\u001B[38;5;241m.\u001B[39mshape[\u001B[38;5;241m1\u001B[39m], index\u001B[38;5;241m=\u001B[39mindex, columns\u001B[38;5;241m=\u001B[39mcolumns\n\u001B[1;32m    322\u001B[0m )\n\u001B[0;32m--> 324\u001B[0m \u001B[43m_check_values_indices_shape_match\u001B[49m\u001B[43m(\u001B[49m\u001B[43mvalues\u001B[49m\u001B[43m,\u001B[49m\u001B[43m \u001B[49m\u001B[43mindex\u001B[49m\u001B[43m,\u001B[49m\u001B[43m \u001B[49m\u001B[43mcolumns\u001B[49m\u001B[43m)\u001B[49m\n\u001B[1;32m    326\u001B[0m \u001B[38;5;28;01mif\u001B[39;00m typ \u001B[38;5;241m==\u001B[39m \u001B[38;5;124m\"\u001B[39m\u001B[38;5;124marray\u001B[39m\u001B[38;5;124m\"\u001B[39m:\n\u001B[1;32m    328\u001B[0m     \u001B[38;5;28;01mif\u001B[39;00m \u001B[38;5;28missubclass\u001B[39m(values\u001B[38;5;241m.\u001B[39mdtype\u001B[38;5;241m.\u001B[39mtype, \u001B[38;5;28mstr\u001B[39m):\n",
      "File \u001B[0;32m/Applications/venv/CPTAC_Protein/lib/python3.9/site-packages/pandas/core/internals/construction.py:393\u001B[0m, in \u001B[0;36m_check_values_indices_shape_match\u001B[0;34m(values, index, columns)\u001B[0m\n\u001B[1;32m    391\u001B[0m passed \u001B[38;5;241m=\u001B[39m values\u001B[38;5;241m.\u001B[39mshape\n\u001B[1;32m    392\u001B[0m implied \u001B[38;5;241m=\u001B[39m (\u001B[38;5;28mlen\u001B[39m(index), \u001B[38;5;28mlen\u001B[39m(columns))\n\u001B[0;32m--> 393\u001B[0m \u001B[38;5;28;01mraise\u001B[39;00m \u001B[38;5;167;01mValueError\u001B[39;00m(\u001B[38;5;124mf\u001B[39m\u001B[38;5;124m\"\u001B[39m\u001B[38;5;124mShape of passed values is \u001B[39m\u001B[38;5;132;01m{\u001B[39;00mpassed\u001B[38;5;132;01m}\u001B[39;00m\u001B[38;5;124m, indices imply \u001B[39m\u001B[38;5;132;01m{\u001B[39;00mimplied\u001B[38;5;132;01m}\u001B[39;00m\u001B[38;5;124m\"\u001B[39m)\n",
      "\u001B[0;31mValueError\u001B[0m: Shape of passed values is (244, 0), indices imply (244, 1)"
     ]
    }
   ],
   "source": [
    "x_impute = SimpleImputer(missing_values=np.nan, strategy='median').fit_transform(x_df)\n",
    "x_impute_df = pd.DataFrame(x_impute, columns=x_df.columns, index=x_df.index)"
   ],
   "metadata": {
    "collapsed": false,
    "pycharm": {
     "name": "#%%\n"
    }
   }
  }
 ],
 "metadata": {
  "kernelspec": {
   "display_name": "Python 3",
   "language": "python",
   "name": "python3"
  },
  "language_info": {
   "codemirror_mode": {
    "name": "ipython",
    "version": 2
   },
   "file_extension": ".py",
   "mimetype": "text/x-python",
   "name": "python",
   "nbconvert_exporter": "python",
   "pygments_lexer": "ipython2",
   "version": "2.7.6"
  }
 },
 "nbformat": 4,
 "nbformat_minor": 0
}
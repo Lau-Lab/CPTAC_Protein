{
 "cells": [
  {
   "cell_type": "markdown",
   "source": [
    "We continued to compare the differences between single feature models and multiple feature models.\n",
    "\n",
    "Here we tried to compare single linreg with string elastic net to find some\n",
    "additional transcripts that explain protein level."
   ],
   "metadata": {
    "collapsed": false
   }
  },
  {
   "cell_type": "code",
   "execution_count": 10,
   "outputs": [],
   "source": [
    "data_dir = '/Volumes/Ginkgo_Data/Data/2021-11_CPTACTrainedModels/out2'\n",
    "feature = 'string' # 'corum' #'string'\n",
    "out_dir = f'res2_{feature}_coefs'"
   ],
   "metadata": {
    "collapsed": false,
    "pycharm": {
     "name": "#%% Specify data directory and features\n"
    }
   }
  },
  {
   "cell_type": "code",
   "execution_count": 11,
   "outputs": [
    {
     "name": "stdout",
     "output_type": "stream",
     "text": [
      "Formatting dataframes...\r  s up-to-date...\r.\r...\r                                                                                                                                                                                                                                                                                                                                                                                            Loading endometrial v2.1.1..Loading endometrial v2.1.1....Loading endometrial v2.1.1.......Loading endometrial v2.1.1.........Loading endometrial v2.1.1............                                                                    Loading ovarian v0.0.1...Loading ovarian v0.0.1......Loading ovarian v0.0.1........                                                                  Loading colon v0.0.1....Loading colon v0.0.1......Loading colon v0.0.1........Loading colon v0.0.1...........                                                                 Loading brca v5.4..Loading brca v5.4....Loading brca v5.4......                                                                 Loading luad v3.1.1...Loading luad v3.1.1.....Loading luad v3.1.1.......Loading luad v3.1.1.........Loading luad v3.1.1...........                                                                  Loading ccrcc v0.1.1..Loading ccrcc v0.1.1....Loading ccrcc v0.1.1......Loading ccrcc v0.1.1........Loading ccrcc v0.1.1..........Loading ccrcc v0.1.1............                                                                Loading gbm v3.0..Loading gbm v3.0........Loading gbm v3.0...........Loading gbm v3.0...............                                                                                                 Loading lscc v3.3..Loading lscc v3.3....Loading lscc v3.3......Loading lscc v3.3........Loading lscc v3.3..........                                                                                               Loading hnscc v2.0.....Loading hnscc v2.0.......Loading hnscc v2.0.........                        \r"
     ]
    },
    {
     "name": "stderr",
     "output_type": "stream",
     "text": [
      "cptac warning: transcriptomics data was not found for the following samples, so transcriptomics data columns were filled with NaN for these samples: C3L-00563.N, C3L-00605.N, C3L-00769.N, C3L-00770.N, C3L-00771.N, C3L-00930.N, C3L-00947.N, C3L-00963.N, C3L-01246.N, C3L-01249.N, C3L-01252.N, C3L-01256.N, C3L-01257.N, C3L-01744.N, C3N-00200.N, C3N-00729.N, C3N-01211.N, NX1.N, NX10.N, NX11.N, NX12.N, NX13.N, NX14.N, NX15.N, NX16.N, NX17.N, NX18.N, NX2.N, NX3.N, NX4.N, NX5.N, NX6.N, NX7.N, NX8.N, NX9.N (/Users/edwardlau/PythonProjects/CPTAC_Protein/predict_protein/download_cptac.py, line 37)\n",
      "cptac warning: proteomics data was not found for the following samples, so proteomics data columns were filled with NaN for these samples: 01OV002, 01OV008, 01OV010, 01OV013, 01OV019, 01OV045, 01OV046, 01OV049, 02OV035, 02OV040, 02OV042, 02OV045, 04OV041, 11OV009, 13OV004, 17OV019, 17OV034, 22OV001, 26OV010 (/Users/edwardlau/PythonProjects/CPTAC_Protein/predict_protein/download_cptac.py, line 41)\n",
      "cptac warning: transcriptomics data was not found for the following samples, so transcriptomics data columns were filled with NaN for these samples: 01OV007.N, 01OV008.N, 01OV010.N, 01OV013.N, 01OV017.N, 01OV019.N, 01OV023.N, 01OV029, 01OV029.N, 01OV039.N, 02OV001.N, 11OV002.N, 11OV010.N, 14OV011.N, 14OV029.N, 15OV001.N, 17OV001.N, 17OV002.N, 17OV003.N, 17OV004.N, 17OV005.N (/Users/edwardlau/PythonProjects/CPTAC_Protein/predict_protein/download_cptac.py, line 41)\n",
      "cptac warning: proteomics data was not found for the following samples, so proteomics data columns were filled with NaN for these samples: 01CO001, 05CO005, 05CO007, 05CO014, 05CO055, 11CO059, 11CO060, 14CO002, 16CO012, 24CO005 (/Users/edwardlau/PythonProjects/CPTAC_Protein/predict_protein/download_cptac.py, line 46)\n",
      "cptac warning: transcriptomics data was not found for the following samples, so transcriptomics data columns were filled with NaN for these samples: 01CO001.N, 01CO005.N, 01CO006.N, 01CO008.N, 01CO013.N, 01CO014.N, 01CO015.N, 01CO019.N, 01CO022.N, 05CO002.N, 05CO003.N, 05CO006.N, 05CO007.N, 05CO011.N, 05CO015.N, 05CO020.N, 05CO026.N, 05CO028.N, 05CO029.N, 05CO032.N, 05CO033.N, 05CO034.N, 05CO035.N, 05CO037.N, 05CO039.N, 05CO041.N, 05CO044.N, 05CO045.N, 05CO047.N, 05CO048.N, 05CO049.N, 05CO050.N, 05CO053.N, 05CO054.N, 06CO001.N, 06CO002.N, 09CO005.N, 09CO006.N, 09CO008.N, 09CO011.N, 09CO013.N, 09CO014.N, 09CO015.N, 09CO018.N, 09CO019.N, 09CO022.N, 11CO005.N, 11CO007.N, 11CO008.N, 11CO010.N, 11CO018.N, 11CO019.N, 11CO020.N, 11CO021.N, 11CO022.N, 11CO027.N, 11CO030.N, 11CO031.N, 11CO032.N, 11CO033.N, 11CO036.N, 11CO037.N, 11CO039.N, 11CO042.N, 11CO043.N, 11CO044.N, 11CO045.N, 11CO047.N, 11CO048.N, 11CO051.N, 11CO052.N, 11CO053.N, 11CO054.N, 11CO057.N, 11CO058.N, 11CO060.N, 11CO061.N, 11CO062.N, 11CO070.N, 11CO072.N, 11CO077.N, 11CO079.N, 14CO002.N, 14CO005.N, 15CO001.N, 15CO002.N, 16CO002.N, 16CO003.N, 16CO006.N, 16CO011.N, 20CO001.N, 20CO003.N, 20CO004.N, 20CO006, 20CO006.N, 20CO007.N, 21CO006.N, 21CO007.N, 22CO004.N, 22CO006.N, 27CO004.N (/Users/edwardlau/PythonProjects/CPTAC_Protein/predict_protein/download_cptac.py, line 46)\n",
      "cptac warning: transcriptomics data was not found for the following samples, so transcriptomics data columns were filled with NaN for these samples: C3L-00183.N, C3L-00791.N, C3N-00246.N, C3N-00312.N, C3N-00317.N, C3N-00320.N, C3N-00437.N, C3N-00492.N, C3N-00953.N (/Users/edwardlau/PythonProjects/CPTAC_Protein/predict_protein/download_cptac.py, line 60)\n",
      "cptac warning: transcriptomics data was not found for the following samples, so transcriptomics data columns were filled with NaN for these samples: PT-Q2AG.N (/Users/edwardlau/PythonProjects/CPTAC_Protein/predict_protein/download_cptac.py, line 65)\n",
      "cptac warning: transcriptomics data was not found for the following samples, so transcriptomics data columns were filled with NaN for these samples: C3L-02646.N, C3N-03072.N, C3N-03662.N, C3N-03886.N, C3N-04155.N (/Users/edwardlau/PythonProjects/CPTAC_Protein/predict_protein/download_cptac.py, line 70)\n",
      "cptac warning: proteomics data was not found for the following samples, so proteomics data columns were filled with NaN for these samples: C3L-00977.N, C3L-04025.N, C3N-01948.N, C3N-02333.N, C3N-02727.N, C3N-02925.N, C3N-03226.N, C3N-03487.N, C3N-03889.N, C3N-04152.N, C3N-04611.N (/Users/edwardlau/PythonProjects/CPTAC_Protein/predict_protein/download_cptac.py, line 75)\n",
      "cptac warning: transcriptomics data was not found for the following samples, so transcriptomics data columns were filled with NaN for these samples: C3L-00994.C, C3L-02617.C, C3L-04350.C, C3L-04354.N, C3L-04844.N, C3L-05257.C, C3N-00295.N, C3N-00829.N, C3N-00857.N, C3N-01620.N, C3N-01757.C, C3N-01758.N, C3N-01858.N, C3N-01859.N, C3N-02693.N, C3N-03008.N, C3N-03011.N, C3N-03012.N, C3N-03013.N, C3N-03015.N, C3N-03042.C, C3N-03781.N, C3N-04275.N, C3N-04276.N, C3N-04277.N, C3N-04278.N, C3N-04279.N (/Users/edwardlau/PythonProjects/CPTAC_Protein/predict_protein/download_cptac.py, line 75)\n"
     ]
    }
   ],
   "source": [
    "import os\n",
    "import pickle\n",
    "from predict_protein import download_cptac, select_features, train_model, utils\n",
    "import pandas as pd\n",
    "\n",
    "cptac_list = download_cptac.download_cptac(n_tumors=8)\n",
    "tumor_df = pd.concat(cptac_list)\n",
    "\n",
    "os.makedirs(out_dir, exist_ok=True)"
   ],
   "metadata": {
    "collapsed": false,
    "pycharm": {
     "name": "#%% Import packages and download CPTAC data\n"
    }
   }
  },
  {
   "cell_type": "code",
   "execution_count": null,
   "outputs": [],
   "source": [
    "tm = train_model.LearnCPTAC(tumor_df)\n",
    "tm.included_features = feature"
   ],
   "metadata": {
    "collapsed": false,
    "pycharm": {
     "name": "#%% Set up CPTAC class and features\n",
     "is_executing": true
    }
   }
  },
  {
   "cell_type": "code",
   "execution_count": null,
   "outputs": [],
   "source": [
    "get_dataframe = utils.get_dataframe\n",
    "\n",
    "\n",
    "linreg = get_dataframe(os.path.join(data_dir, f'tumor8_linreg_single.p'))\n",
    "linreg = linreg.rename(columns={'corr_test': 'linreg_corr'})\n",
    "\n",
    "elastic = get_dataframe(os.path.join(data_dir, f'tumor8_elastic_{feature}.p'))\n",
    "elastic = elastic.rename(columns={'corr_test': 'elastic_corr'})\n"
   ],
   "metadata": {
    "collapsed": false,
    "pycharm": {
     "name": "#%% Get the trained result metrics data frames for linear regression single and elastic net corum\n",
     "is_executing": true
    }
   }
  },
  {
   "cell_type": "code",
   "execution_count": null,
   "outputs": [],
   "source": [
    "elastic_cf = elastic[['elastic_corr', 'num_obs', 'num_features']].merge(linreg[['linreg_corr']], left_index=True, right_index=True)\n",
    "elastic_cf['diff'] = elastic_cf.elastic_corr - elastic_cf.linreg_corr\n",
    "proteins_of_interest = list(elastic_cf[(elastic_cf.num_features > 1) & (elastic_cf['diff'] > 0.33)].index)"
   ],
   "metadata": {
    "collapsed": false,
    "pycharm": {
     "name": "#%% Merge data frame and find proteins with improved correlation coefficients in Elastic Net\n",
     "is_executing": true
    }
   }
  },
  {
   "cell_type": "code",
   "execution_count": null,
   "outputs": [],
   "source": [
    "with open(os.path.join(data_dir, f'tumor8_elastic_{feature}.p'), 'rb') as f:\n",
    "    results = pickle.load(f)\n",
    "\n",
    "for protein_of_interest in proteins_of_interest:\n",
    "    # with open('../out2/tumor8_linreg_single.p', 'rb') as f:\n",
    "    #     results = pickle.load(f)\n",
    "    #     linreg_model  = [result['model'] for result in results if result['metrics'].index[0] == protein_of_interest][0]\n",
    "\n",
    "    elastic_model  = [result['model'] for result in results if result['metrics'].index[0] == protein_of_interest][0]\n",
    "\n",
    "    # x_train, x_test, y_train, y_test = tm.get_train_test(protein_to_do=protein_of_interest)\n",
    "\n",
    "    elastic_coefs = pd.DataFrame(list(zip(elastic_model.feature_names_in_,\n",
    "                                      elastic_model.coef_)),\n",
    "               columns =['Transcript', 'Coef'])\n",
    "    elastic_coefs = elastic_coefs.sort_values(by='Coef')\n",
    "    elastic_coefs.to_csv(os.path.join(out_dir, f'{protein_of_interest}_ElasticNet.csv'))"
   ],
   "metadata": {
    "collapsed": false,
    "pycharm": {
     "name": "#%% Loop through proteins and plot out coefficients of different features\n",
     "is_executing": true
    }
   }
  },
  {
   "cell_type": "code",
   "execution_count": null,
   "outputs": [],
   "source": [
    "with open(os.path.join(data_dir, 'tumor8_forest_corum.p'), 'rb') as f:\n",
    "    results = pickle.load(f)\n",
    "\n",
    "for protein_of_interest in proteins_of_interest:\n",
    "\n",
    "    forest_model  = [result['model'] for result in results if result['metrics'].index[0] == protein_of_interest][0]\n",
    "\n",
    "    forest_importance = pd.DataFrame(list(zip(forest_model.feature_names_in_,\n",
    "                                      forest_model.feature_importances_)),\n",
    "               columns =['Transcript', 'Feature_Importance'])\n",
    "    forest_importance = forest_importance.sort_values(by='Feature_Importance')\n",
    "    forest_importance.to_csv(os.path.join(out_dir, f'{protein_of_interest}_RandomForest.csv'))"
   ],
   "metadata": {
    "collapsed": false,
    "pycharm": {
     "name": "#%% For the same proteins, we want to see if the important features also have high feature importance in random forest\n",
     "is_executing": true
    }
   }
  }
 ],
 "metadata": {
  "kernelspec": {
   "display_name": "Python 3",
   "language": "python",
   "name": "python3"
  },
  "language_info": {
   "codemirror_mode": {
    "name": "ipython",
    "version": 2
   },
   "file_extension": ".py",
   "mimetype": "text/x-python",
   "name": "python",
   "nbconvert_exporter": "python",
   "pygments_lexer": "ipython2",
   "version": "2.7.6"
  }
 },
 "nbformat": 4,
 "nbformat_minor": 0
}
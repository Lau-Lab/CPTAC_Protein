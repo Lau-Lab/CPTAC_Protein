{
 "cells": [
  {
   "cell_type": "markdown",
   "source": [
    "This file plots out graphs from the Corum results in 03_PlotElasticNetCoefficients.ipynb\n",
    "\n",
    "We are producitn networks with transcript to protein relationship if the Elastic Net coefficient\n",
    "of a transcript for a protein is > 0.05. Only proteins with improved correlation coefficient > 0.2 are included.\n"
   ],
   "metadata": {
    "collapsed": false
   }
  },
  {
   "cell_type": "code",
   "execution_count": 46,
   "outputs": [],
   "source": [
    "feature_todo = 'string'\n",
    "# only proteins are included if the feature-included test set r is greater than the self-feature r by this much\n",
    "included_protein_threshold = 0.25\n",
    "min_nodes = 2  # only plot subgraphs if there are as many nodes\n",
    "# only transcripts with this much coef contribution or feature_importance will be included in the graphs\n",
    "# 0.05 coef 0.05 feature importance for corum; 0.1 coef 0.01 feature importance for string\n",
    "min_coef = 0.1\n",
    "min_feature_importance = 0.05\n",
    "file_dir = f'03_ExportFeatureCoefficients_Output/res2_{feature_todo}_{included_protein_threshold}_out3_coefs' # \"notebook/res2_stringhi_0.2_coefs\"  # path to the coef text fileset\n",
    "output_dir = f'05_PlotCorumNetworks_Output/{feature_todo}_weakly_connected_{min_coef}coef_{min_feature_importance}feat_out3'  # 'notebook/05_PlotCorumNetworks_Output/stringhi'  # path to output directory"
   ],
   "metadata": {
    "collapsed": false,
    "pycharm": {
     "name": "#%% settings\n"
    }
   }
  },
  {
   "cell_type": "code",
   "execution_count": 47,
   "outputs": [],
   "source": [
    "import pandas as pd\n",
    "import os\n",
    "import re\n",
    "import numpy as np\n",
    "import networkx as nx\n",
    "from pyvis.network import Network\n",
    "\n",
    "os.makedirs(output_dir, exist_ok=True)\n",
    "\n",
    "def visualize(G, SG, output_filename='graph.html', show_buttons=False, only_physics_buttons=False):\n",
    "\n",
    "    N = Network(height='100%', width='100%', font_color='black', directed=True)\n",
    "    # N = nx.Graph()\n",
    "    # uncomment the following if the graph is large\n",
    "    # N.barnes_hut(spring_strength=0.006)\n",
    "    #color_map = []\n",
    "\n",
    "    for n in G.nodes():\n",
    "        # if n in SG:\n",
    "        #     color_map.append('royalblue')\n",
    "        # else:\n",
    "        #     color_map.append('orange')\n",
    "        if n in SG:  # if the node is part of the sub-graph\n",
    "            color = 'royalblue'\n",
    "        else:\n",
    "            color = 'orange'\n",
    "        N.add_node(n, label=n, color=color)\n",
    "\n",
    "    #weight_map=[]\n",
    "    #style_map=[]\n",
    "    for e in G.edges():\n",
    "        u=e[0]\n",
    "        v=e[1]\n",
    "        N.add_edge(u, v,\n",
    "                   title=np.round(G[u][v]['Coef'], 3),\n",
    "                   width=G[u][v]['Weight'] * 5,\n",
    "                   color='orange' if G[u][v]['Coef'] > 0 else 'lightgray',\n",
    "                   )\n",
    "        #weight_map.append(G[u][v]['Weight'])\n",
    "        #style_map.append('red' if G[u][v]['Coef'] > 0 else 'blue')\n",
    "\n",
    "    # plt.figure(figsize=(12,12))\n",
    "    # nx.draw_networkx(N, node_color=color_map, width=weight_map, edge_color=style_map)\n",
    "    # plt.savefig(f'{output_filename}.png')\n",
    "    # plt.cla()\n",
    "\n",
    "    if show_buttons:\n",
    "            if only_physics_buttons:\n",
    "                N.show_buttons(filter_=['physics'])\n",
    "            else:\n",
    "                N.show_buttons()\n",
    "\n",
    "    return N.show(f'{output_filename}.html')"
   ],
   "metadata": {
    "collapsed": false,
    "pycharm": {
     "name": "#%% imports and functions\n"
    }
   }
  },
  {
   "cell_type": "code",
   "execution_count": 48,
   "outputs": [],
   "source": [
    "en_files = [f for f in os.listdir(file_dir) if re.match('.*_ElasticNet.csv', f)]\n",
    "en_dfs = []\n",
    "for file in en_files:\n",
    "    df = pd.read_csv(os.path.join(file_dir, file))\n",
    "    df['Protein'] = re.sub('_.*$', '', file)\n",
    "    en_dfs.append(df)\n",
    "\n",
    "en_merged = pd.concat(en_dfs)\n",
    "en_merged['Transcript'] = en_merged['Transcript'].str.replace('_transcriptomics', '')\n",
    "\n",
    "\n",
    "rf_files = [f for f in os.listdir(file_dir) if re.match('.*_RandomForest.csv', f)]\n",
    "rf_dfs = []\n",
    "for file in rf_files:\n",
    "    df = pd.read_csv(os.path.join(file_dir, file))\n",
    "    df['Protein'] = re.sub('_.*$', '', file)\n",
    "    rf_dfs.append(df)\n",
    "\n",
    "rf_merged = pd.concat(rf_dfs)\n",
    "rf_merged['Transcript'] = rf_merged['Transcript'].str.replace('_transcriptomics', '')"
   ],
   "metadata": {
    "collapsed": false,
    "pycharm": {
     "name": "#%% Read the elastic net and random forest files to calculate weight, then generate the overall graph\n"
    }
   }
  },
  {
   "cell_type": "code",
   "execution_count": 49,
   "outputs": [],
   "source": [
    "result = pd.merge(en_merged, rf_merged, how=\"outer\", on=['Protein', 'Transcript']).copy()\n",
    "result = result.fillna(0)\n",
    "result = result[(abs(result['Coef']) >= min_coef) | (result['Feature_Importance'] >= min_feature_importance)]\n",
    "# result['Feature_Importance_Rank'] = result.groupby('Protein')['Feature_Importance'].rank(method='dense', ascending=True)\n",
    "result['Feature_Importance_Percentile'] = result.groupby('Protein')['Feature_Importance'].rank(method='min', ascending=True, pct=True)\n",
    "result['Clipped_Coef']= np.clip(result['Coef'], -1, 1)\n",
    "result[\"Weight\"] = abs(result['Clipped_Coef']) + result['Feature_Importance_Percentile'] # + result['rank']/10"
   ],
   "metadata": {
    "collapsed": false,
    "pycharm": {
     "name": "#%% Merge the elastic net and random forest data frames, perform filtering, and calculate weight\n"
    }
   }
  },
  {
   "cell_type": "code",
   "execution_count": 50,
   "outputs": [],
   "source": [
    "result\n",
    "result.to_csv(f'05_PlotCorumNetworks_Output/degrees/{feature_todo}_weakly_connected_{min_coef}coef_{min_feature_importance}feat_edgelist.csv')  # 'notebook/05_PlotCorumNetworks_Output/stringhi'  # path to output directory"
   ],
   "metadata": {
    "collapsed": false,
    "pycharm": {
     "name": "#%% Write the result to a table\n"
    }
   }
  },
  {
   "cell_type": "code",
   "execution_count": 51,
   "outputs": [],
   "source": [
    "\n",
    "Giant = nx.from_pandas_edgelist(result,\n",
    "                                source='Transcript',\n",
    "                                target='Protein',\n",
    "                                edge_attr=True,\n",
    "                                create_using=nx.DiGraph(),  # Cannot use directed graph for connected subgraph\n",
    "                                )\n",
    "\n",
    "\n",
    "# In the newer versions of NetworkX this is the recommended method of getting connected subgraphs\n",
    "graphs = list(Giant.subgraph(c).copy() for c in nx.weakly_connected_components(Giant))\n",
    "\n",
    "\n",
    "# Loop through subgraphs and export\n",
    "for i, g in enumerate(graphs):\n",
    "\n",
    "    # Skip if there are fewer than 3 nodes\n",
    "    if g.number_of_nodes() < min_nodes:\n",
    "        continue\n",
    "\n",
    "    # Make subgraph into data frame\n",
    "    g_df = nx.convert_matrix.to_pandas_edgelist(g)\n",
    "\n",
    "    # Get protein nodes\n",
    "    proteins = g_df.iloc[:,1].tolist()\n",
    "\n",
    "    # Get the hub gene using nx.pagerank\n",
    "    ec = nx.in_degree_centrality(g)\n",
    "    hub_protein = pd.Series(ec, index=ec.keys()).sort_values(ascending=False).index[0]\n",
    "\n",
    "    # Plot function\n",
    "    visualize(g , proteins,\n",
    "              output_filename=os.path.join(output_dir, f'{str(i)}_{hub_protein}'),\n",
    "              show_buttons=True,\n",
    "              only_physics_buttons=True)\n",
    "\n",
    "    # Write out data frame\n",
    "    g_df.to_csv(os.path.join(output_dir, f'{str(i)}_{hub_protein}.csv'), index=False)"
   ],
   "metadata": {
    "collapsed": false,
    "pycharm": {
     "name": "#%%\n"
    }
   }
  },
  {
   "cell_type": "code",
   "execution_count": 52,
   "outputs": [
    {
     "name": "stdout",
     "output_type": "stream",
     "text": [
      "9099\n",
      "2\n",
      "1\n",
      "2\n",
      "2\n",
      "2\n",
      "2\n",
      "2\n",
      "4\n",
      "1\n",
      "3\n",
      "2\n",
      "2\n",
      "2\n",
      "2\n",
      "2\n",
      "2\n",
      "1\n",
      "3\n",
      "4\n",
      "1\n",
      "2\n",
      "3\n",
      "3\n",
      "2\n",
      "2\n",
      "1\n",
      "2\n",
      "3\n",
      "3\n",
      "2\n",
      "1\n",
      "2\n",
      "2\n",
      "2\n",
      "3\n",
      "3\n",
      "1\n",
      "1\n",
      "2\n",
      "2\n",
      "1\n",
      "2\n",
      "1\n",
      "2\n",
      "2\n",
      "2\n",
      "2\n",
      "1\n",
      "1\n",
      "2\n",
      "2\n",
      "1\n",
      "2\n"
     ]
    }
   ],
   "source": [
    "import matplotlib.pyplot as plt\n",
    "for i, g in enumerate(graphs):\n",
    "    print(g.number_of_nodes())"
   ],
   "metadata": {
    "collapsed": false,
    "pycharm": {
     "name": "#%%\n"
    }
   }
  },
  {
   "cell_type": "code",
   "execution_count": 53,
   "outputs": [
    {
     "data": {
      "text/plain": "<Figure size 432x288 with 1 Axes>",
      "image/png": "[encoded data removed]"
     },
     "metadata": {
      "needs_background": "light"
     },
     "output_type": "display_data"
    },
    {
     "data": {
      "text/plain": "<Figure size 432x288 with 1 Axes>",
      "image/png": "[encoded data removed]"
     },
     "metadata": {
      "needs_background": "light"
     },
     "output_type": "display_data"
    }
   ],
   "source": [
    "def plot_outdegree_dist(G):\n",
    "    degrees = [G.out_degree(n) for n in G.nodes()]\n",
    "    plt.hist(degrees)\n",
    "    plt.show()\n",
    "\n",
    "def plot_indegree_dist(G):\n",
    "    degrees = [G.in_degree(n) for n in G.nodes()]\n",
    "    plt.hist(degrees)\n",
    "    plt.show()\n",
    "\n",
    "plot_outdegree_dist(graphs[0])\n",
    "plot_indegree_dist(graphs[0])"
   ],
   "metadata": {
    "collapsed": false,
    "pycharm": {
     "name": "#%%\n"
    }
   }
  },
  {
   "cell_type": "code",
   "execution_count": 54,
   "outputs": [],
   "source": [
    "summary_out =  f'05_PlotCorumNetworks_Output/degrees/{feature_todo}_weakly_connected_{min_coef}coef_{min_feature_importance}feat_out3'  # 'notebook/05_PlotCorumNetworks_Output/stringhi'  # path to output directory\n",
    "\n",
    "pd.DataFrame([(n, graphs[0].out_degree(n)) for n in graphs[0].nodes()]).to_csv(f'{summary_out}_graph0_outdegree.csv', index=False)\n",
    "pd.DataFrame([(n, graphs[0].in_degree(n)) for n in graphs[0].nodes()]).to_csv(f'{summary_out}_graph0_indegree.csv', index=False)\n",
    "\n",
    "pd.DataFrame([(n, graphs[1].out_degree(n)) for n in graphs[1].nodes()]).to_csv(f'{summary_out}_graph1_outdegree.csv', index=False)\n",
    "pd.DataFrame([(n, graphs[1].in_degree(n)) for n in graphs[1].nodes()]).to_csv(f'{summary_out}_graph1_indegree.csv', index=False)"
   ],
   "metadata": {
    "collapsed": false,
    "pycharm": {
     "name": "#%% Export the outdegree and indegree as histograms\n"
    }
   }
  }
 ],
 "metadata": {
  "kernelspec": {
   "display_name": "Python 3",
   "language": "python",
   "name": "python3"
  },
  "language_info": {
   "codemirror_mode": {
    "name": "ipython",
    "version": 2
   },
   "file_extension": ".py",
   "mimetype": "text/x-python",
   "name": "python",
   "nbconvert_exporter": "python",
   "pygments_lexer": "ipython2",
   "version": "2.7.6"
  }
 },
 "nbformat": 4,
 "nbformat_minor": 0
}
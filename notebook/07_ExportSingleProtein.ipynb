{
 "cells": [
  {
   "cell_type": "markdown",
   "source": [
    "This file export the train and test set prediction vs. actual for a single protein for a model\n"
   ],
   "metadata": {
    "collapsed": false
   }
  },
  {
   "cell_type": "code",
   "execution_count": 1,
   "outputs": [],
   "source": [
    "\n",
    "import pickle\n",
    "import os\n",
    "import pandas as pd\n",
    "import numpy as np\n",
    "import matplotlib.pyplot as plt\n",
    "import seaborn as sns\n",
    "from predict_protein import download_cptac_original_order, select_features, train_model, utils\n",
    "\n",
    "model_loc = '/Volumes/Ginkgo_Data/Data/2021-11_CPTACTrainedModels/out3'\n"
   ],
   "metadata": {
    "collapsed": false,
    "pycharm": {
     "name": "#%% imports\n"
    }
   }
  },
  {
   "cell_type": "code",
   "execution_count": 2,
   "outputs": [
    {
     "name": "stderr",
     "output_type": "stream",
     "text": [
      "cptac warning: Your version of cptac (1.1.0) is out-of-date. Latest is 1.1.2. Please run 'pip install --upgrade cptac' to update it. (/usr/local/Cellar/python@3.9/3.9.7_1/Frameworks/Python.framework/Versions/3.9/lib/python3.9/threading.py, line 910)\n"
     ]
    },
    {
     "name": "stdout",
     "output_type": "stream",
     "text": [
      "Formatting dataframes...\r  s up-to-date...\r.\r...\r                                                                                                                                                                                                                                                                                                                                                                                            Loading endometrial v2.1.1..Loading endometrial v2.1.1....Loading endometrial v2.1.1.......Loading endometrial v2.1.1.........Loading endometrial v2.1.1............                                                                    Loading ovarian v0.0.1...Loading ovarian v0.0.1......Loading ovarian v0.0.1........                                                                  Loading colon v0.0.1....Loading colon v0.0.1......Loading colon v0.0.1........Loading colon v0.0.1...........                                                                 Loading brca v5.4..Loading brca v5.4....Loading brca v5.4......                                                                 Loading luad v3.1.1...Loading luad v3.1.1.....Loading luad v3.1.1.......Loading luad v3.1.1.........Loading luad v3.1.1...........                                                                  Loading ccrcc v0.1.1..Loading ccrcc v0.1.1....Loading ccrcc v0.1.1......Loading ccrcc v0.1.1........Loading ccrcc v0.1.1..........Loading ccrcc v0.1.1............                                                                Loading gbm v3.0..Loading gbm v3.0.........Loading gbm v3.0...........Loading gbm v3.0...............                                                                                                 Loading lscc v3.3..Loading lscc v3.3....Loading lscc v3.3......Loading lscc v3.3........Loading lscc v3.3..........                                                                                               Loading hnscc v2.0.....Loading hnscc v2.0.......Loading hnscc v2.0.........                        \r"
     ]
    },
    {
     "name": "stderr",
     "output_type": "stream",
     "text": [
      "cptac warning: transcriptomics data was not found for the following samples, so transcriptomics data columns were filled with NaN for these samples: C3L-00563.N, C3L-00605.N, C3L-00769.N, C3L-00770.N, C3L-00771.N, C3L-00930.N, C3L-00947.N, C3L-00963.N, C3L-01246.N, C3L-01249.N, C3L-01252.N, C3L-01256.N, C3L-01257.N, C3L-01744.N, C3N-00200.N, C3N-00729.N, C3N-01211.N, NX1.N, NX10.N, NX11.N, NX12.N, NX13.N, NX14.N, NX15.N, NX16.N, NX17.N, NX18.N, NX2.N, NX3.N, NX4.N, NX5.N, NX6.N, NX7.N, NX8.N, NX9.N (/Users/edwardlau/PythonProjects/CPTAC_Protein/predict_protein/download_cptac_original_order.py, line 38)\n",
      "cptac warning: proteomics data was not found for the following samples, so proteomics data columns were filled with NaN for these samples: 01OV002, 01OV008, 01OV010, 01OV013, 01OV019, 01OV045, 01OV046, 01OV049, 02OV035, 02OV040, 02OV042, 02OV045, 04OV041, 11OV009, 13OV004, 17OV019, 17OV034, 22OV001, 26OV010 (/Users/edwardlau/PythonProjects/CPTAC_Protein/predict_protein/download_cptac_original_order.py, line 42)\n",
      "cptac warning: transcriptomics data was not found for the following samples, so transcriptomics data columns were filled with NaN for these samples: 01OV007.N, 01OV008.N, 01OV010.N, 01OV013.N, 01OV017.N, 01OV019.N, 01OV023.N, 01OV029, 01OV029.N, 01OV039.N, 02OV001.N, 11OV002.N, 11OV010.N, 14OV011.N, 14OV029.N, 15OV001.N, 17OV001.N, 17OV002.N, 17OV003.N, 17OV004.N, 17OV005.N (/Users/edwardlau/PythonProjects/CPTAC_Protein/predict_protein/download_cptac_original_order.py, line 42)\n",
      "cptac warning: proteomics data was not found for the following samples, so proteomics data columns were filled with NaN for these samples: 01CO001, 05CO005, 05CO007, 05CO014, 05CO055, 11CO059, 11CO060, 14CO002, 16CO012, 24CO005 (/Users/edwardlau/PythonProjects/CPTAC_Protein/predict_protein/download_cptac_original_order.py, line 47)\n",
      "cptac warning: transcriptomics data was not found for the following samples, so transcriptomics data columns were filled with NaN for these samples: 01CO001.N, 01CO005.N, 01CO006.N, 01CO008.N, 01CO013.N, 01CO014.N, 01CO015.N, 01CO019.N, 01CO022.N, 05CO002.N, 05CO003.N, 05CO006.N, 05CO007.N, 05CO011.N, 05CO015.N, 05CO020.N, 05CO026.N, 05CO028.N, 05CO029.N, 05CO032.N, 05CO033.N, 05CO034.N, 05CO035.N, 05CO037.N, 05CO039.N, 05CO041.N, 05CO044.N, 05CO045.N, 05CO047.N, 05CO048.N, 05CO049.N, 05CO050.N, 05CO053.N, 05CO054.N, 06CO001.N, 06CO002.N, 09CO005.N, 09CO006.N, 09CO008.N, 09CO011.N, 09CO013.N, 09CO014.N, 09CO015.N, 09CO018.N, 09CO019.N, 09CO022.N, 11CO005.N, 11CO007.N, 11CO008.N, 11CO010.N, 11CO018.N, 11CO019.N, 11CO020.N, 11CO021.N, 11CO022.N, 11CO027.N, 11CO030.N, 11CO031.N, 11CO032.N, 11CO033.N, 11CO036.N, 11CO037.N, 11CO039.N, 11CO042.N, 11CO043.N, 11CO044.N, 11CO045.N, 11CO047.N, 11CO048.N, 11CO051.N, 11CO052.N, 11CO053.N, 11CO054.N, 11CO057.N, 11CO058.N, 11CO060.N, 11CO061.N, 11CO062.N, 11CO070.N, 11CO072.N, 11CO077.N, 11CO079.N, 14CO002.N, 14CO005.N, 15CO001.N, 15CO002.N, 16CO002.N, 16CO003.N, 16CO006.N, 16CO011.N, 20CO001.N, 20CO003.N, 20CO004.N, 20CO006, 20CO006.N, 20CO007.N, 21CO006.N, 21CO007.N, 22CO004.N, 22CO006.N, 27CO004.N (/Users/edwardlau/PythonProjects/CPTAC_Protein/predict_protein/download_cptac_original_order.py, line 47)\n",
      "cptac warning: transcriptomics data was not found for the following samples, so transcriptomics data columns were filled with NaN for these samples: C3L-00183.N, C3L-00791.N, C3N-00246.N, C3N-00312.N, C3N-00317.N, C3N-00320.N, C3N-00437.N, C3N-00492.N, C3N-00953.N (/Users/edwardlau/PythonProjects/CPTAC_Protein/predict_protein/download_cptac_original_order.py, line 61)\n",
      "cptac warning: transcriptomics data was not found for the following samples, so transcriptomics data columns were filled with NaN for these samples: PT-Q2AG.N (/Users/edwardlau/PythonProjects/CPTAC_Protein/predict_protein/download_cptac_original_order.py, line 66)\n",
      "cptac warning: transcriptomics data was not found for the following samples, so transcriptomics data columns were filled with NaN for these samples: C3L-02646.N, C3N-03072.N, C3N-03662.N, C3N-03886.N, C3N-04155.N (/Users/edwardlau/PythonProjects/CPTAC_Protein/predict_protein/download_cptac_original_order.py, line 71)\n",
      "cptac warning: proteomics data was not found for the following samples, so proteomics data columns were filled with NaN for these samples: C3L-00977.N, C3L-04025.N, C3N-01948.N, C3N-02333.N, C3N-02727.N, C3N-02925.N, C3N-03226.N, C3N-03487.N, C3N-03889.N, C3N-04152.N, C3N-04611.N (/Users/edwardlau/PythonProjects/CPTAC_Protein/predict_protein/download_cptac_original_order.py, line 76)\n",
      "cptac warning: transcriptomics data was not found for the following samples, so transcriptomics data columns were filled with NaN for these samples: C3L-00994.C, C3L-02617.C, C3L-04350.C, C3L-04354.N, C3L-04844.N, C3L-05257.C, C3N-00295.N, C3N-00829.N, C3N-00857.N, C3N-01620.N, C3N-01757.C, C3N-01758.N, C3N-01858.N, C3N-01859.N, C3N-02693.N, C3N-03008.N, C3N-03011.N, C3N-03012.N, C3N-03013.N, C3N-03015.N, C3N-03042.C, C3N-03781.N, C3N-04275.N, C3N-04276.N, C3N-04277.N, C3N-04278.N, C3N-04279.N (/Users/edwardlau/PythonProjects/CPTAC_Protein/predict_protein/download_cptac_original_order.py, line 76)\n",
      "/Applications/venv/CPTAC_Protein/lib/python3.9/site-packages/numpy/lib/nanfunctions.py:1119: RuntimeWarning: All-NaN slice encountered\n",
      "  r, k = function_base._ureduce(a, func=_nanmedian, axis=axis, out=out,\n",
      "/Applications/venv/CPTAC_Protein/lib/python3.9/site-packages/numpy/lib/nanfunctions.py:1374: RuntimeWarning: All-NaN slice encountered\n",
      "  r, k = function_base._ureduce(\n",
      "/Applications/venv/CPTAC_Protein/lib/python3.9/site-packages/numpy/lib/nanfunctions.py:1119: RuntimeWarning: All-NaN slice encountered\n",
      "  r, k = function_base._ureduce(a, func=_nanmedian, axis=axis, out=out,\n",
      "/Applications/venv/CPTAC_Protein/lib/python3.9/site-packages/numpy/lib/nanfunctions.py:1374: RuntimeWarning: All-NaN slice encountered\n",
      "  r, k = function_base._ureduce(\n",
      "/Applications/venv/CPTAC_Protein/lib/python3.9/site-packages/numpy/lib/nanfunctions.py:1119: RuntimeWarning: All-NaN slice encountered\n",
      "  r, k = function_base._ureduce(a, func=_nanmedian, axis=axis, out=out,\n",
      "/Applications/venv/CPTAC_Protein/lib/python3.9/site-packages/numpy/lib/nanfunctions.py:1374: RuntimeWarning: All-NaN slice encountered\n",
      "  r, k = function_base._ureduce(\n"
     ]
    }
   ],
   "source": [
    "cptac_list = download_cptac_original_order.download_cptac(n_tumors=8)\n",
    "tumor_df = pd.concat(cptac_list)\n",
    "tm = train_model.LearnCPTAC(tumor_df)\n"
   ],
   "metadata": {
    "collapsed": false,
    "pycharm": {
     "name": "#%% Download CPTAC data again\n"
    }
   }
  },
  {
   "cell_type": "code",
   "execution_count": 3,
   "outputs": [],
   "source": [
    "def get_predictions(tm_obj, model_loc, model, protein_todo):\n",
    "\n",
    "    with open(model_loc, 'rb') as f:\n",
    "        model_results = pickle.load(f)\n",
    "\n",
    "    protein_model  = [result['model'] for result in model_results if result['metrics'].index[0] == protein_todo][0]\n",
    "\n",
    "    # Get features and then do train test split again\n",
    "    tm_obj.included_features = model\n",
    "    print(tm_obj.included_features)\n",
    "    x_train, x_test, y_train, y_test = tm_obj.get_train_test(protein_to_do=protein_todo)\n",
    "\n",
    "    # Output a pandas data frame with y (actual mass spec protein level) and y_hat (predicted from transcript(s))\n",
    "    train_df = pd.DataFrame({'y': y_train, 'yhat': protein_model.predict(x_train[protein_model.feature_names_in_]), 'set': 'train'})\n",
    "    test_df = pd.DataFrame({'y': y_test, 'yhat': protein_model.predict(x_test[protein_model.feature_names_in_]), 'set': 'test'})\n",
    "\n",
    "    return pd.concat([train_df, test_df])\n"
   ],
   "metadata": {
    "collapsed": false,
    "pycharm": {
     "name": "#%% Load the trained model, get the x/y data frames again and apply the model to train\n"
    }
   }
  },
  {
   "cell_type": "code",
   "execution_count": 4,
   "outputs": [
    {
     "name": "stdout",
     "output_type": "stream",
     "text": [
      "single\n",
      "single\n",
      "single\n",
      "single\n",
      "single\n",
      "single\n",
      "corum\n",
      "corum\n",
      "corum\n",
      "corum\n",
      "corum\n",
      "corum\n",
      "stringhi\n",
      "stringhi\n",
      "stringhi\n",
      "stringhi\n",
      "stringhi\n",
      "stringhi\n",
      "string\n",
      "string\n",
      "string\n",
      "string\n",
      "string\n",
      "string\n",
      "all\n",
      "all\n",
      "all\n",
      "all\n",
      "all\n",
      "all\n"
     ]
    }
   ],
   "source": [
    "for model in ['single', 'corum', 'stringhi', 'string', 'all']: # 'single', 'corum', 'stringhi', 'string'\n",
    "    for protein in ['CMC1', 'PCCB', 'PSMG2', 'SMCR8', 'MICU2', 'PPP3R1']:\n",
    "        df = get_predictions(tm_obj=tm,\n",
    "                             model_loc=f'{model_loc}/tumor8_elastic_{model}.p',\n",
    "                             model=model,\n",
    "                             protein_todo=protein,\n",
    "                        )\n",
    "        df.to_csv(f'07_ExportSingleProtein_Output/{protein}_{model}_out3.csv', index=False)"
   ],
   "metadata": {
    "collapsed": false,
    "pycharm": {
     "name": "#%% Get CMC1 and PCCB for single, corum, and string, then output.\n"
    }
   }
  },
  {
   "cell_type": "code",
   "execution_count": 5,
   "outputs": [
    {
     "data": {
      "text/plain": "Name           A1BG-AS1_transcriptomics  A1CF_transcriptomics  \\\nPatient_ID                                                      \nOV01OV002                     -1.328216              0.349336   \nOV01OV007                     -0.676969                   NaN   \nOV01OV008                     -2.093132                   NaN   \nOV01OV010                      0.428657                   NaN   \nOV01OV013                     -0.975500                   NaN   \n...                                 ...                   ...   \nLSC3N-03886.N                       NaN                   NaN   \nLSC3N-04124.N                 -0.274753                   NaN   \nLSC3N-04127.N                 -0.035043              1.065609   \nLSC3N-04155.N                       NaN                   NaN   \nLSC3N-04162.N                  0.386785                   NaN   \n\nName           A2M_transcriptomics  A2M-AS1_transcriptomics  \\\nPatient_ID                                                    \nOV01OV002                 0.082808                      NaN   \nOV01OV007                 0.614237                      NaN   \nOV01OV008                -0.096348                      NaN   \nOV01OV010                 0.671921                      NaN   \nOV01OV013                 0.375882                      NaN   \n...                            ...                      ...   \nLSC3N-03886.N                  NaN                      NaN   \nLSC3N-04124.N             0.267354                 1.120134   \nLSC3N-04127.N             0.401612                 0.625109   \nLSC3N-04155.N                  NaN                      NaN   \nLSC3N-04162.N             0.031323                 0.148062   \n\nName           A2ML1_transcriptomics  A2MP1_transcriptomics  \\\nPatient_ID                                                    \nOV01OV002                   0.420501              -0.809248   \nOV01OV007                  -0.603361                    NaN   \nOV01OV008                  -0.494284                    NaN   \nOV01OV010                   0.993398                    NaN   \nOV01OV013                  -1.411217               0.308969   \n...                              ...                    ...   \nLSC3N-03886.N                    NaN                    NaN   \nLSC3N-04124.N              -0.281525               1.008742   \nLSC3N-04127.N              -0.357490               0.830724   \nLSC3N-04155.N                    NaN                    NaN   \nLSC3N-04162.N              -0.292247               0.767565   \n\nName           A3GALT2_transcriptomics  A4GALT_transcriptomics  \\\nPatient_ID                                                       \nOV01OV002                    -0.138877                0.388107   \nOV01OV007                          NaN                0.367057   \nOV01OV008                          NaN                0.197533   \nOV01OV010                          NaN               -0.224448   \nOV01OV013                          NaN               -0.147564   \n...                                ...                     ...   \nLSC3N-03886.N                      NaN                     NaN   \nLSC3N-04124.N                -0.127427               -0.547766   \nLSC3N-04127.N                 0.194589               -0.351362   \nLSC3N-04155.N                      NaN                     NaN   \nLSC3N-04162.N                 0.340623               -0.227922   \n\nName           A4GNT_transcriptomics  AA06_transcriptomics  ...  \\\nPatient_ID                                                  ...   \nOV01OV002                        NaN                   NaN  ...   \nOV01OV007                        NaN                   NaN  ...   \nOV01OV008                        NaN                   NaN  ...   \nOV01OV010                        NaN                   NaN  ...   \nOV01OV013                        NaN                   NaN  ...   \n...                              ...                   ...  ...   \nLSC3N-03886.N                    NaN                   NaN  ...   \nLSC3N-04124.N               0.283572                   NaN  ...   \nLSC3N-04127.N               0.575559                   NaN  ...   \nLSC3N-04155.N                    NaN                   NaN  ...   \nLSC3N-04162.N               0.720222                   NaN  ...   \n\nName           ZNF721_proteomics  ZNF723_proteomics  ZNF724_proteomics  \\\nPatient_ID                                                               \nOV01OV002                    NaN                NaN                NaN   \nOV01OV007                    NaN                NaN                NaN   \nOV01OV008                    NaN                NaN                NaN   \nOV01OV010                    NaN                NaN                NaN   \nOV01OV013                    NaN                NaN                NaN   \n...                          ...                ...                ...   \nLSC3N-03886.N                NaN            -0.7562                NaN   \nLSC3N-04124.N            -0.4921             0.4016             0.3106   \nLSC3N-04127.N                NaN            -1.5687                NaN   \nLSC3N-04155.N                NaN            -0.5417            -1.9780   \nLSC3N-04162.N                NaN             0.1283            -1.6433   \n\nName           ZNF75D_proteomics  ZNF774_proteomics  ZNF836_proteomics  \\\nPatient_ID                                                               \nOV01OV002                    NaN                NaN                NaN   \nOV01OV007                    NaN                NaN                NaN   \nOV01OV008                    NaN                NaN                NaN   \nOV01OV010                    NaN                NaN                NaN   \nOV01OV013                    NaN                NaN                NaN   \n...                          ...                ...                ...   \nLSC3N-03886.N                NaN             0.4721             2.1518   \nLSC3N-04124.N                NaN            -0.8536             1.9444   \nLSC3N-04127.N                NaN            -0.4416                NaN   \nLSC3N-04155.N                NaN             1.6152            -2.1766   \nLSC3N-04162.N             0.6268            -1.7291                NaN   \n\nName           ZNF85_proteomics  ZNF880_proteomics  ZNF91_proteomics  \\\nPatient_ID                                                             \nOV01OV002                   NaN                NaN               NaN   \nOV01OV007                   NaN                NaN               NaN   \nOV01OV008                   NaN                NaN               NaN   \nOV01OV010                   NaN                NaN               NaN   \nOV01OV013                   NaN                NaN               NaN   \n...                         ...                ...               ...   \nLSC3N-03886.N               NaN             0.0548               NaN   \nLSC3N-04124.N           -0.5946            -1.1269            0.3020   \nLSC3N-04127.N               NaN            -0.4127           -1.6368   \nLSC3N-04155.N           -1.9780             0.1973            2.9014   \nLSC3N-04162.N           -1.0912            -0.0084            0.9485   \n\nName           ZSCAN5A_proteomics  \nPatient_ID                         \nOV01OV002                     NaN  \nOV01OV007                     NaN  \nOV01OV008                     NaN  \nOV01OV010                     NaN  \nOV01OV013                     NaN  \n...                           ...  \nLSC3N-03886.N                 NaN  \nLSC3N-04124.N                 NaN  \nLSC3N-04127.N             -1.3511  \nLSC3N-04155.N                 NaN  \nLSC3N-04162.N             -0.9706  \n\n[1316 rows x 78529 columns]",
      "text/html": "<div>\n<style scoped>\n    .dataframe tbody tr th:only-of-type {\n        vertical-align: middle;\n    }\n\n    .dataframe tbody tr th {\n        vertical-align: top;\n    }\n\n    .dataframe thead th {\n        text-align: right;\n    }\n</style>\n<table border=\"1\" class=\"dataframe\">\n  <thead>\n    <tr style=\"text-align: right;\">\n      <th>Name</th>\n      <th>A1BG-AS1_transcriptomics</th>\n      <th>A1CF_transcriptomics</th>\n      <th>A2M_transcriptomics</th>\n      <th>A2M-AS1_transcriptomics</th>\n      <th>A2ML1_transcriptomics</th>\n      <th>A2MP1_transcriptomics</th>\n      <th>A3GALT2_transcriptomics</th>\n      <th>A4GALT_transcriptomics</th>\n      <th>A4GNT_transcriptomics</th>\n      <th>AA06_transcriptomics</th>\n      <th>...</th>\n      <th>ZNF721_proteomics</th>\n      <th>ZNF723_proteomics</th>\n      <th>ZNF724_proteomics</th>\n      <th>ZNF75D_proteomics</th>\n      <th>ZNF774_proteomics</th>\n      <th>ZNF836_proteomics</th>\n      <th>ZNF85_proteomics</th>\n      <th>ZNF880_proteomics</th>\n      <th>ZNF91_proteomics</th>\n      <th>ZSCAN5A_proteomics</th>\n    </tr>\n    <tr>\n      <th>Patient_ID</th>\n      <th></th>\n      <th></th>\n      <th></th>\n      <th></th>\n      <th></th>\n      <th></th>\n      <th></th>\n      <th></th>\n      <th></th>\n      <th></th>\n      <th></th>\n      <th></th>\n      <th></th>\n      <th></th>\n      <th></th>\n      <th></th>\n      <th></th>\n      <th></th>\n      <th></th>\n      <th></th>\n      <th></th>\n    </tr>\n  </thead>\n  <tbody>\n    <tr>\n      <th>OV01OV002</th>\n      <td>-1.328216</td>\n      <td>0.349336</td>\n      <td>0.082808</td>\n      <td>NaN</td>\n      <td>0.420501</td>\n      <td>-0.809248</td>\n      <td>-0.138877</td>\n      <td>0.388107</td>\n      <td>NaN</td>\n      <td>NaN</td>\n      <td>...</td>\n      <td>NaN</td>\n      <td>NaN</td>\n      <td>NaN</td>\n      <td>NaN</td>\n      <td>NaN</td>\n      <td>NaN</td>\n      <td>NaN</td>\n      <td>NaN</td>\n      <td>NaN</td>\n      <td>NaN</td>\n    </tr>\n    <tr>\n      <th>OV01OV007</th>\n      <td>-0.676969</td>\n      <td>NaN</td>\n      <td>0.614237</td>\n      <td>NaN</td>\n      <td>-0.603361</td>\n      <td>NaN</td>\n      <td>NaN</td>\n      <td>0.367057</td>\n      <td>NaN</td>\n      <td>NaN</td>\n      <td>...</td>\n      <td>NaN</td>\n      <td>NaN</td>\n      <td>NaN</td>\n      <td>NaN</td>\n      <td>NaN</td>\n      <td>NaN</td>\n      <td>NaN</td>\n      <td>NaN</td>\n      <td>NaN</td>\n      <td>NaN</td>\n    </tr>\n    <tr>\n      <th>OV01OV008</th>\n      <td>-2.093132</td>\n      <td>NaN</td>\n      <td>-0.096348</td>\n      <td>NaN</td>\n      <td>-0.494284</td>\n      <td>NaN</td>\n      <td>NaN</td>\n      <td>0.197533</td>\n      <td>NaN</td>\n      <td>NaN</td>\n      <td>...</td>\n      <td>NaN</td>\n      <td>NaN</td>\n      <td>NaN</td>\n      <td>NaN</td>\n      <td>NaN</td>\n      <td>NaN</td>\n      <td>NaN</td>\n      <td>NaN</td>\n      <td>NaN</td>\n      <td>NaN</td>\n    </tr>\n    <tr>\n      <th>OV01OV010</th>\n      <td>0.428657</td>\n      <td>NaN</td>\n      <td>0.671921</td>\n      <td>NaN</td>\n      <td>0.993398</td>\n      <td>NaN</td>\n      <td>NaN</td>\n      <td>-0.224448</td>\n      <td>NaN</td>\n      <td>NaN</td>\n      <td>...</td>\n      <td>NaN</td>\n      <td>NaN</td>\n      <td>NaN</td>\n      <td>NaN</td>\n      <td>NaN</td>\n      <td>NaN</td>\n      <td>NaN</td>\n      <td>NaN</td>\n      <td>NaN</td>\n      <td>NaN</td>\n    </tr>\n    <tr>\n      <th>OV01OV013</th>\n      <td>-0.975500</td>\n      <td>NaN</td>\n      <td>0.375882</td>\n      <td>NaN</td>\n      <td>-1.411217</td>\n      <td>0.308969</td>\n      <td>NaN</td>\n      <td>-0.147564</td>\n      <td>NaN</td>\n      <td>NaN</td>\n      <td>...</td>\n      <td>NaN</td>\n      <td>NaN</td>\n      <td>NaN</td>\n      <td>NaN</td>\n      <td>NaN</td>\n      <td>NaN</td>\n      <td>NaN</td>\n      <td>NaN</td>\n      <td>NaN</td>\n      <td>NaN</td>\n    </tr>\n    <tr>\n      <th>...</th>\n      <td>...</td>\n      <td>...</td>\n      <td>...</td>\n      <td>...</td>\n      <td>...</td>\n      <td>...</td>\n      <td>...</td>\n      <td>...</td>\n      <td>...</td>\n      <td>...</td>\n      <td>...</td>\n      <td>...</td>\n      <td>...</td>\n      <td>...</td>\n      <td>...</td>\n      <td>...</td>\n      <td>...</td>\n      <td>...</td>\n      <td>...</td>\n      <td>...</td>\n      <td>...</td>\n    </tr>\n    <tr>\n      <th>LSC3N-03886.N</th>\n      <td>NaN</td>\n      <td>NaN</td>\n      <td>NaN</td>\n      <td>NaN</td>\n      <td>NaN</td>\n      <td>NaN</td>\n      <td>NaN</td>\n      <td>NaN</td>\n      <td>NaN</td>\n      <td>NaN</td>\n      <td>...</td>\n      <td>NaN</td>\n      <td>-0.7562</td>\n      <td>NaN</td>\n      <td>NaN</td>\n      <td>0.4721</td>\n      <td>2.1518</td>\n      <td>NaN</td>\n      <td>0.0548</td>\n      <td>NaN</td>\n      <td>NaN</td>\n    </tr>\n    <tr>\n      <th>LSC3N-04124.N</th>\n      <td>-0.274753</td>\n      <td>NaN</td>\n      <td>0.267354</td>\n      <td>1.120134</td>\n      <td>-0.281525</td>\n      <td>1.008742</td>\n      <td>-0.127427</td>\n      <td>-0.547766</td>\n      <td>0.283572</td>\n      <td>NaN</td>\n      <td>...</td>\n      <td>-0.4921</td>\n      <td>0.4016</td>\n      <td>0.3106</td>\n      <td>NaN</td>\n      <td>-0.8536</td>\n      <td>1.9444</td>\n      <td>-0.5946</td>\n      <td>-1.1269</td>\n      <td>0.3020</td>\n      <td>NaN</td>\n    </tr>\n    <tr>\n      <th>LSC3N-04127.N</th>\n      <td>-0.035043</td>\n      <td>1.065609</td>\n      <td>0.401612</td>\n      <td>0.625109</td>\n      <td>-0.357490</td>\n      <td>0.830724</td>\n      <td>0.194589</td>\n      <td>-0.351362</td>\n      <td>0.575559</td>\n      <td>NaN</td>\n      <td>...</td>\n      <td>NaN</td>\n      <td>-1.5687</td>\n      <td>NaN</td>\n      <td>NaN</td>\n      <td>-0.4416</td>\n      <td>NaN</td>\n      <td>NaN</td>\n      <td>-0.4127</td>\n      <td>-1.6368</td>\n      <td>-1.3511</td>\n    </tr>\n    <tr>\n      <th>LSC3N-04155.N</th>\n      <td>NaN</td>\n      <td>NaN</td>\n      <td>NaN</td>\n      <td>NaN</td>\n      <td>NaN</td>\n      <td>NaN</td>\n      <td>NaN</td>\n      <td>NaN</td>\n      <td>NaN</td>\n      <td>NaN</td>\n      <td>...</td>\n      <td>NaN</td>\n      <td>-0.5417</td>\n      <td>-1.9780</td>\n      <td>NaN</td>\n      <td>1.6152</td>\n      <td>-2.1766</td>\n      <td>-1.9780</td>\n      <td>0.1973</td>\n      <td>2.9014</td>\n      <td>NaN</td>\n    </tr>\n    <tr>\n      <th>LSC3N-04162.N</th>\n      <td>0.386785</td>\n      <td>NaN</td>\n      <td>0.031323</td>\n      <td>0.148062</td>\n      <td>-0.292247</td>\n      <td>0.767565</td>\n      <td>0.340623</td>\n      <td>-0.227922</td>\n      <td>0.720222</td>\n      <td>NaN</td>\n      <td>...</td>\n      <td>NaN</td>\n      <td>0.1283</td>\n      <td>-1.6433</td>\n      <td>0.6268</td>\n      <td>-1.7291</td>\n      <td>NaN</td>\n      <td>-1.0912</td>\n      <td>-0.0084</td>\n      <td>0.9485</td>\n      <td>-0.9706</td>\n    </tr>\n  </tbody>\n</table>\n<p>1316 rows × 78529 columns</p>\n</div>"
     },
     "execution_count": 5,
     "metadata": {},
     "output_type": "execute_result"
    }
   ],
   "source": [
    "tm.df"
   ],
   "metadata": {
    "collapsed": false,
    "pycharm": {
     "name": "#%%\n"
    }
   }
  }
 ],
 "metadata": {
  "kernelspec": {
   "display_name": "Python 3",
   "language": "python",
   "name": "python3"
  },
  "language_info": {
   "codemirror_mode": {
    "name": "ipython",
    "version": 2
   },
   "file_extension": ".py",
   "mimetype": "text/x-python",
   "name": "python",
   "nbconvert_exporter": "python",
   "pygments_lexer": "ipython2",
   "version": "2.7.6"
  }
 },
 "nbformat": 4,
 "nbformat_minor": 0
}
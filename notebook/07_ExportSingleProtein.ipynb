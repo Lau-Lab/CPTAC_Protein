{
 "cells": [
  {
   "cell_type": "markdown",
   "source": [
    "This file export the train and test set prediction vs. actual for a single protein for a model\n"
   ],
   "metadata": {
    "collapsed": false
   }
  },
  {
   "cell_type": "code",
   "execution_count": null,
   "outputs": [],
   "source": [
    "\n",
    "import pickle\n",
    "import os\n",
    "import pandas as pd\n",
    "import numpy as np\n",
    "import matplotlib.pyplot as plt\n",
    "import seaborn as sns\n",
    "from predict_protein import download_cptac, select_features, train_model, utils\n",
    "\n",
    "model_loc = '/Volumes/Ginkgo_Data/Data/2021-11_CPTACTrainedModels/out2'\n"
   ],
   "metadata": {
    "collapsed": false,
    "pycharm": {
     "name": "#%% imports\n"
    }
   }
  },
  {
   "cell_type": "code",
   "execution_count": null,
   "outputs": [],
   "source": [
    "cptac_list = download_cptac.download_cptac(n_tumors=8)\n",
    "tumor_df = pd.concat(cptac_list)\n",
    "tm = train_model.LearnCPTAC(tumor_df)\n"
   ],
   "metadata": {
    "collapsed": false,
    "pycharm": {
     "name": "#%% Download CPTAC data again\n"
    }
   }
  },
  {
   "cell_type": "code",
   "execution_count": null,
   "outputs": [],
   "source": [
    "def get_predictions(tm_obj, model_loc, model, protein_todo):\n",
    "\n",
    "    with open(model_loc, 'rb') as f:\n",
    "        model_results = pickle.load(f)\n",
    "\n",
    "    protein_model  = [result['model'] for result in model_results if result['metrics'].index[0] == protein_todo][0]\n",
    "\n",
    "    # Get features and then do train test split again\n",
    "    tm_obj.included_features = model\n",
    "    print(tm_obj.included_features)\n",
    "    x_train, x_test, y_train, y_test = tm_obj.get_train_test(protein_to_do=protein_todo)\n",
    "\n",
    "    # Output a pandas data frame with y (actual mass spec protein level) and y_hat (predicted from transcript(s))\n",
    "    train_df = pd.DataFrame({'y': y_train, 'yhat': protein_model.predict(x_train[protein_model.feature_names_in_]), 'set': 'train'})\n",
    "    test_df = pd.DataFrame({'y': y_test, 'yhat': protein_model.predict(x_test[protein_model.feature_names_in_]), 'set': 'test'})\n",
    "\n",
    "    return pd.concat([train_df, test_df])\n"
   ],
   "metadata": {
    "collapsed": false,
    "pycharm": {
     "name": "#%% Load the trained model, get the x/y data frames again and apply the model to train\n"
    }
   }
  },
  {
   "cell_type": "code",
   "execution_count": null,
   "outputs": [],
   "source": [
    "for model in ['single', 'corum', 'stringhi', 'string', 'all']: # 'single', 'corum', 'stringhi', 'string'\n",
    "    for protein in ['CMC1', 'PCCB']:\n",
    "        df = get_predictions(tm_obj=tm,\n",
    "                             model_loc=f'{model_loc}/tumor8_elastic_{model}.p',\n",
    "                             model=model,\n",
    "                             protein_todo=protein,\n",
    "                        )\n",
    "        df.to_csv(f'07_ExportSingleProtein_Output/{protein}_{model}.csv', index=False)"
   ],
   "metadata": {
    "collapsed": false,
    "pycharm": {
     "name": "#%% Get CMC1 and PCCB for single, corum, and string, then output.\n"
    }
   }
  },
  {
   "cell_type": "code",
   "execution_count": 73,
   "outputs": [
    {
     "data": {
      "text/plain": "Name           A1BG-AS1_transcriptomics  A1CF_transcriptomics  \\\nPatient_ID                                                      \nOV01OV002                     -0.810973              1.737504   \nOV01OV007                     -0.579647             -0.200269   \nOV01OV008                     -0.939795             -0.200269   \nOV01OV010                      0.458707             -0.200269   \nOV01OV013                     -0.705588             -0.200269   \n...                                 ...                   ...   \nLSC3N-03886.N                       NaN                   NaN   \nLSC3N-04124.N                 -0.132147                   NaN   \nLSC3N-04127.N                  0.121392              0.469040   \nLSC3N-04155.N                       NaN                   NaN   \nLSC3N-04162.N                  0.567554                   NaN   \n\nName           A2M_transcriptomics  A2M-AS1_transcriptomics  \\\nPatient_ID                                                    \nOV01OV002                -0.064191                -0.141861   \nOV01OV007                 0.706692                -0.141861   \nOV01OV008                -0.239893                -0.141861   \nOV01OV010                 0.819804                -0.141861   \nOV01OV013                 0.306646                -0.141861   \n...                            ...                      ...   \nLSC3N-03886.N                  NaN                      NaN   \nLSC3N-04124.N             0.664792                 1.591982   \nLSC3N-04127.N             0.912619                 0.943135   \nLSC3N-04155.N                  NaN                      NaN   \nLSC3N-04162.N             0.229099                 0.317854   \n\nName           A2ML1_transcriptomics  A2MP1_transcriptomics  \\\nPatient_ID                                                    \nOV01OV002                  -0.126406              -0.346127   \nOV01OV007                  -0.145774              -0.675191   \nOV01OV008                  -0.145122              -0.675191   \nOV01OV010                  -0.074793              -0.675191   \nOV01OV013                  -0.147828               0.997248   \n...                              ...                    ...   \nLSC3N-03886.N                    NaN                    NaN   \nLSC3N-04124.N              -0.809999               1.351150   \nLSC3N-04127.N              -0.950772               1.116439   \nLSC3N-04155.N                    NaN                    NaN   \nLSC3N-04162.N              -0.829869               1.033166   \n\nName           A3GALT2_transcriptomics  A4GALT_transcriptomics  \\\nPatient_ID                                                       \nOV01OV002                     0.196378                0.249613   \nOV01OV007                    -0.179449                0.218804   \nOV01OV008                    -0.179449               -0.003430   \nOV01OV010                    -0.179449               -0.397784   \nOV01OV013                    -0.179449               -0.339678   \n...                                ...                     ...   \nLSC3N-03886.N                      NaN                     NaN   \nLSC3N-04124.N                -0.128957               -0.964266   \nLSC3N-04127.N                 0.354907               -0.694556   \nLSC3N-04155.N                      NaN                     NaN   \nLSC3N-04162.N                 0.574339               -0.525044   \n\nName           A4GNT_transcriptomics  AA06_transcriptomics  ...  \\\nPatient_ID                                                  ...   \nOV01OV002                  -0.267013                   0.0  ...   \nOV01OV007                  -0.267013                   0.0  ...   \nOV01OV008                  -0.267013                   0.0  ...   \nOV01OV010                  -0.267013                   0.0  ...   \nOV01OV013                  -0.267013                   0.0  ...   \n...                              ...                   ...  ...   \nLSC3N-03886.N                    NaN                   NaN  ...   \nLSC3N-04124.N               0.501067                   NaN  ...   \nLSC3N-04127.N               0.952722                   NaN  ...   \nLSC3N-04155.N                    NaN                   NaN  ...   \nLSC3N-04162.N               1.176492                   NaN  ...   \n\nName           ZNF75D_proteomics  ZNF774_proteomics  ZNF804A_proteomics  \\\nPatient_ID                                                                \nOV01OV002                    NaN                NaN                 NaN   \nOV01OV007                    NaN                NaN                 NaN   \nOV01OV008                    NaN                NaN                 NaN   \nOV01OV010                    NaN                NaN                 NaN   \nOV01OV013                    NaN                NaN                 NaN   \n...                          ...                ...                 ...   \nLSC3N-03886.N                NaN             0.4721             -0.6144   \nLSC3N-04124.N                NaN            -0.8536             -5.1573   \nLSC3N-04127.N                NaN            -0.4416             -1.2463   \nLSC3N-04155.N                NaN             1.6152              5.5339   \nLSC3N-04162.N             0.6268            -1.7291              0.7689   \n\nName           ZNF831_proteomics  ZNF836_proteomics  ZNF85_proteomics  \\\nPatient_ID                                                              \nOV01OV002                    NaN                NaN               NaN   \nOV01OV007                    NaN                NaN               NaN   \nOV01OV008                    NaN                NaN               NaN   \nOV01OV010                    NaN                NaN               NaN   \nOV01OV013                    NaN                NaN               NaN   \n...                          ...                ...               ...   \nLSC3N-03886.N             1.2358             2.1518               NaN   \nLSC3N-04124.N                NaN             1.9444           -0.5946   \nLSC3N-04127.N             3.7052                NaN               NaN   \nLSC3N-04155.N                NaN            -2.1766           -1.9780   \nLSC3N-04162.N                NaN                NaN           -1.0912   \n\nName           ZNF880_proteomics  ZNF91_proteomics  ZNF92_proteomics  \\\nPatient_ID                                                             \nOV01OV002                    NaN               NaN               NaN   \nOV01OV007                    NaN               NaN               NaN   \nOV01OV008                    NaN               NaN               NaN   \nOV01OV010                    NaN               NaN               NaN   \nOV01OV013                    NaN               NaN               NaN   \n...                          ...               ...               ...   \nLSC3N-03886.N             0.0548               NaN           -0.7562   \nLSC3N-04124.N            -1.1269            0.3020           -0.8451   \nLSC3N-04127.N            -0.4127           -1.6368           -0.6880   \nLSC3N-04155.N             0.1973            2.9014           -0.5417   \nLSC3N-04162.N            -0.0084            0.9485           -0.1075   \n\nName           ZSCAN5A_proteomics  \nPatient_ID                         \nOV01OV002                     NaN  \nOV01OV007                     NaN  \nOV01OV008                     NaN  \nOV01OV010                     NaN  \nOV01OV013                     NaN  \n...                           ...  \nLSC3N-03886.N                 NaN  \nLSC3N-04124.N                 NaN  \nLSC3N-04127.N             -1.3511  \nLSC3N-04155.N                 NaN  \nLSC3N-04162.N             -0.9706  \n\n[1227 rows x 78426 columns]",
      "text/html": "<div>\n<style scoped>\n    .dataframe tbody tr th:only-of-type {\n        vertical-align: middle;\n    }\n\n    .dataframe tbody tr th {\n        vertical-align: top;\n    }\n\n    .dataframe thead th {\n        text-align: right;\n    }\n</style>\n<table border=\"1\" class=\"dataframe\">\n  <thead>\n    <tr style=\"text-align: right;\">\n      <th>Name</th>\n      <th>A1BG-AS1_transcriptomics</th>\n      <th>A1CF_transcriptomics</th>\n      <th>A2M_transcriptomics</th>\n      <th>A2M-AS1_transcriptomics</th>\n      <th>A2ML1_transcriptomics</th>\n      <th>A2MP1_transcriptomics</th>\n      <th>A3GALT2_transcriptomics</th>\n      <th>A4GALT_transcriptomics</th>\n      <th>A4GNT_transcriptomics</th>\n      <th>AA06_transcriptomics</th>\n      <th>...</th>\n      <th>ZNF75D_proteomics</th>\n      <th>ZNF774_proteomics</th>\n      <th>ZNF804A_proteomics</th>\n      <th>ZNF831_proteomics</th>\n      <th>ZNF836_proteomics</th>\n      <th>ZNF85_proteomics</th>\n      <th>ZNF880_proteomics</th>\n      <th>ZNF91_proteomics</th>\n      <th>ZNF92_proteomics</th>\n      <th>ZSCAN5A_proteomics</th>\n    </tr>\n    <tr>\n      <th>Patient_ID</th>\n      <th></th>\n      <th></th>\n      <th></th>\n      <th></th>\n      <th></th>\n      <th></th>\n      <th></th>\n      <th></th>\n      <th></th>\n      <th></th>\n      <th></th>\n      <th></th>\n      <th></th>\n      <th></th>\n      <th></th>\n      <th></th>\n      <th></th>\n      <th></th>\n      <th></th>\n      <th></th>\n      <th></th>\n    </tr>\n  </thead>\n  <tbody>\n    <tr>\n      <th>OV01OV002</th>\n      <td>-0.810973</td>\n      <td>1.737504</td>\n      <td>-0.064191</td>\n      <td>-0.141861</td>\n      <td>-0.126406</td>\n      <td>-0.346127</td>\n      <td>0.196378</td>\n      <td>0.249613</td>\n      <td>-0.267013</td>\n      <td>0.0</td>\n      <td>...</td>\n      <td>NaN</td>\n      <td>NaN</td>\n      <td>NaN</td>\n      <td>NaN</td>\n      <td>NaN</td>\n      <td>NaN</td>\n      <td>NaN</td>\n      <td>NaN</td>\n      <td>NaN</td>\n      <td>NaN</td>\n    </tr>\n    <tr>\n      <th>OV01OV007</th>\n      <td>-0.579647</td>\n      <td>-0.200269</td>\n      <td>0.706692</td>\n      <td>-0.141861</td>\n      <td>-0.145774</td>\n      <td>-0.675191</td>\n      <td>-0.179449</td>\n      <td>0.218804</td>\n      <td>-0.267013</td>\n      <td>0.0</td>\n      <td>...</td>\n      <td>NaN</td>\n      <td>NaN</td>\n      <td>NaN</td>\n      <td>NaN</td>\n      <td>NaN</td>\n      <td>NaN</td>\n      <td>NaN</td>\n      <td>NaN</td>\n      <td>NaN</td>\n      <td>NaN</td>\n    </tr>\n    <tr>\n      <th>OV01OV008</th>\n      <td>-0.939795</td>\n      <td>-0.200269</td>\n      <td>-0.239893</td>\n      <td>-0.141861</td>\n      <td>-0.145122</td>\n      <td>-0.675191</td>\n      <td>-0.179449</td>\n      <td>-0.003430</td>\n      <td>-0.267013</td>\n      <td>0.0</td>\n      <td>...</td>\n      <td>NaN</td>\n      <td>NaN</td>\n      <td>NaN</td>\n      <td>NaN</td>\n      <td>NaN</td>\n      <td>NaN</td>\n      <td>NaN</td>\n      <td>NaN</td>\n      <td>NaN</td>\n      <td>NaN</td>\n    </tr>\n    <tr>\n      <th>OV01OV010</th>\n      <td>0.458707</td>\n      <td>-0.200269</td>\n      <td>0.819804</td>\n      <td>-0.141861</td>\n      <td>-0.074793</td>\n      <td>-0.675191</td>\n      <td>-0.179449</td>\n      <td>-0.397784</td>\n      <td>-0.267013</td>\n      <td>0.0</td>\n      <td>...</td>\n      <td>NaN</td>\n      <td>NaN</td>\n      <td>NaN</td>\n      <td>NaN</td>\n      <td>NaN</td>\n      <td>NaN</td>\n      <td>NaN</td>\n      <td>NaN</td>\n      <td>NaN</td>\n      <td>NaN</td>\n    </tr>\n    <tr>\n      <th>OV01OV013</th>\n      <td>-0.705588</td>\n      <td>-0.200269</td>\n      <td>0.306646</td>\n      <td>-0.141861</td>\n      <td>-0.147828</td>\n      <td>0.997248</td>\n      <td>-0.179449</td>\n      <td>-0.339678</td>\n      <td>-0.267013</td>\n      <td>0.0</td>\n      <td>...</td>\n      <td>NaN</td>\n      <td>NaN</td>\n      <td>NaN</td>\n      <td>NaN</td>\n      <td>NaN</td>\n      <td>NaN</td>\n      <td>NaN</td>\n      <td>NaN</td>\n      <td>NaN</td>\n      <td>NaN</td>\n    </tr>\n    <tr>\n      <th>...</th>\n      <td>...</td>\n      <td>...</td>\n      <td>...</td>\n      <td>...</td>\n      <td>...</td>\n      <td>...</td>\n      <td>...</td>\n      <td>...</td>\n      <td>...</td>\n      <td>...</td>\n      <td>...</td>\n      <td>...</td>\n      <td>...</td>\n      <td>...</td>\n      <td>...</td>\n      <td>...</td>\n      <td>...</td>\n      <td>...</td>\n      <td>...</td>\n      <td>...</td>\n      <td>...</td>\n    </tr>\n    <tr>\n      <th>LSC3N-03886.N</th>\n      <td>NaN</td>\n      <td>NaN</td>\n      <td>NaN</td>\n      <td>NaN</td>\n      <td>NaN</td>\n      <td>NaN</td>\n      <td>NaN</td>\n      <td>NaN</td>\n      <td>NaN</td>\n      <td>NaN</td>\n      <td>...</td>\n      <td>NaN</td>\n      <td>0.4721</td>\n      <td>-0.6144</td>\n      <td>1.2358</td>\n      <td>2.1518</td>\n      <td>NaN</td>\n      <td>0.0548</td>\n      <td>NaN</td>\n      <td>-0.7562</td>\n      <td>NaN</td>\n    </tr>\n    <tr>\n      <th>LSC3N-04124.N</th>\n      <td>-0.132147</td>\n      <td>NaN</td>\n      <td>0.664792</td>\n      <td>1.591982</td>\n      <td>-0.809999</td>\n      <td>1.351150</td>\n      <td>-0.128957</td>\n      <td>-0.964266</td>\n      <td>0.501067</td>\n      <td>NaN</td>\n      <td>...</td>\n      <td>NaN</td>\n      <td>-0.8536</td>\n      <td>-5.1573</td>\n      <td>NaN</td>\n      <td>1.9444</td>\n      <td>-0.5946</td>\n      <td>-1.1269</td>\n      <td>0.3020</td>\n      <td>-0.8451</td>\n      <td>NaN</td>\n    </tr>\n    <tr>\n      <th>LSC3N-04127.N</th>\n      <td>0.121392</td>\n      <td>0.469040</td>\n      <td>0.912619</td>\n      <td>0.943135</td>\n      <td>-0.950772</td>\n      <td>1.116439</td>\n      <td>0.354907</td>\n      <td>-0.694556</td>\n      <td>0.952722</td>\n      <td>NaN</td>\n      <td>...</td>\n      <td>NaN</td>\n      <td>-0.4416</td>\n      <td>-1.2463</td>\n      <td>3.7052</td>\n      <td>NaN</td>\n      <td>NaN</td>\n      <td>-0.4127</td>\n      <td>-1.6368</td>\n      <td>-0.6880</td>\n      <td>-1.3511</td>\n    </tr>\n    <tr>\n      <th>LSC3N-04155.N</th>\n      <td>NaN</td>\n      <td>NaN</td>\n      <td>NaN</td>\n      <td>NaN</td>\n      <td>NaN</td>\n      <td>NaN</td>\n      <td>NaN</td>\n      <td>NaN</td>\n      <td>NaN</td>\n      <td>NaN</td>\n      <td>...</td>\n      <td>NaN</td>\n      <td>1.6152</td>\n      <td>5.5339</td>\n      <td>NaN</td>\n      <td>-2.1766</td>\n      <td>-1.9780</td>\n      <td>0.1973</td>\n      <td>2.9014</td>\n      <td>-0.5417</td>\n      <td>NaN</td>\n    </tr>\n    <tr>\n      <th>LSC3N-04162.N</th>\n      <td>0.567554</td>\n      <td>NaN</td>\n      <td>0.229099</td>\n      <td>0.317854</td>\n      <td>-0.829869</td>\n      <td>1.033166</td>\n      <td>0.574339</td>\n      <td>-0.525044</td>\n      <td>1.176492</td>\n      <td>NaN</td>\n      <td>...</td>\n      <td>0.6268</td>\n      <td>-1.7291</td>\n      <td>0.7689</td>\n      <td>NaN</td>\n      <td>NaN</td>\n      <td>-1.0912</td>\n      <td>-0.0084</td>\n      <td>0.9485</td>\n      <td>-0.1075</td>\n      <td>-0.9706</td>\n    </tr>\n  </tbody>\n</table>\n<p>1227 rows × 78426 columns</p>\n</div>"
     },
     "execution_count": 73,
     "metadata": {},
     "output_type": "execute_result"
    }
   ],
   "source": [
    "tm.df"
   ],
   "metadata": {
    "collapsed": false,
    "pycharm": {
     "name": "#%%\n"
    }
   }
  }
 ],
 "metadata": {
  "kernelspec": {
   "display_name": "Python 3",
   "language": "python",
   "name": "python3"
  },
  "language_info": {
   "codemirror_mode": {
    "name": "ipython",
    "version": 2
   },
   "file_extension": ".py",
   "mimetype": "text/x-python",
   "name": "python",
   "nbconvert_exporter": "python",
   "pygments_lexer": "ipython2",
   "version": "2.7.6"
  }
 },
 "nbformat": 4,
 "nbformat_minor": 0
}
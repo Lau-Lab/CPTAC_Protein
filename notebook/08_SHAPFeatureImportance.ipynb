{
 "cells": [
  {
   "cell_type": "markdown",
   "metadata": {
    "collapsed": true,
    "pycharm": {
     "name": "#%% md\n"
    }
   },
   "source": [
    "The goal of this notebook is to use SHAP to assess feature importance in more complex models"
   ]
  },
  {
   "cell_type": "code",
   "execution_count": 1,
   "outputs": [],
   "source": [
    "import pickle\n",
    "import shap\n",
    "import pandas as pd\n",
    "from predict_protein import download_cptac_original_order, select_features, train_model, utils\n",
    "import matplotlib.pyplot as plt\n",
    "import numpy as np\n",
    "\n",
    "model_loc = '/Volumes/Ginkgo_Data/Data/2021-11_CPTACTrainedModels/out3'"
   ],
   "metadata": {
    "collapsed": false,
    "pycharm": {
     "name": "#%% imports\n"
    }
   }
  },
  {
   "cell_type": "code",
   "execution_count": 2,
   "outputs": [
    {
     "name": "stderr",
     "output_type": "stream",
     "text": [
      "cptac warning: Your version of cptac (1.1.0) is out-of-date. Latest is 1.1.2. Please run 'pip install --upgrade cptac' to update it. (/usr/local/Cellar/python@3.9/3.9.7_1/Frameworks/Python.framework/Versions/3.9/lib/python3.9/threading.py, line 910)\n"
     ]
    },
    {
     "name": "stdout",
     "output_type": "stream",
     "text": [
      "Formatting dataframes...\r..\r up-to-date...\r.\r...\r                                                                                                                                                                                                                                                                                                                                                                                            Loading endometrial v2.1.1..Loading endometrial v2.1.1....Loading endometrial v2.1.1.......Loading endometrial v2.1.1.........Loading endometrial v2.1.1............                                                                    Loading ovarian v0.0.1...Loading ovarian v0.0.1......Loading ovarian v0.0.1........                                                                  Loading colon v0.0.1....Loading colon v0.0.1......Loading colon v0.0.1........Loading colon v0.0.1...........                                                                 Loading brca v5.4..Loading brca v5.4....Loading brca v5.4......                                                                 Loading luad v3.1.1...Loading luad v3.1.1.....Loading luad v3.1.1.......Loading luad v3.1.1.........Loading luad v3.1.1...........                                                                  Loading ccrcc v0.1.1..Loading ccrcc v0.1.1....Loading ccrcc v0.1.1......Loading ccrcc v0.1.1..........Loading ccrcc v0.1.1............                                                                Loading gbm v3.0..Loading gbm v3.0.........Loading gbm v3.0...........Loading gbm v3.0...............                                                                                                 Loading lscc v3.3..Loading lscc v3.3....Loading lscc v3.3......Loading lscc v3.3.........Loading lscc v3.3...........                                                                                               Loading hnscc v2.0......Loading hnscc v2.0........                                                   \r"
     ]
    },
    {
     "name": "stderr",
     "output_type": "stream",
     "text": [
      "cptac warning: transcriptomics data was not found for the following samples, so transcriptomics data columns were filled with NaN for these samples: C3L-00563.N, C3L-00605.N, C3L-00769.N, C3L-00770.N, C3L-00771.N, C3L-00930.N, C3L-00947.N, C3L-00963.N, C3L-01246.N, C3L-01249.N, C3L-01252.N, C3L-01256.N, C3L-01257.N, C3L-01744.N, C3N-00200.N, C3N-00729.N, C3N-01211.N, NX1.N, NX10.N, NX11.N, NX12.N, NX13.N, NX14.N, NX15.N, NX16.N, NX17.N, NX18.N, NX2.N, NX3.N, NX4.N, NX5.N, NX6.N, NX7.N, NX8.N, NX9.N (/Users/edwardlau/PythonProjects/CPTAC_Protein/predict_protein/download_cptac_original_order.py, line 38)\n",
      "cptac warning: proteomics data was not found for the following samples, so proteomics data columns were filled with NaN for these samples: 01OV002, 01OV008, 01OV010, 01OV013, 01OV019, 01OV045, 01OV046, 01OV049, 02OV035, 02OV040, 02OV042, 02OV045, 04OV041, 11OV009, 13OV004, 17OV019, 17OV034, 22OV001, 26OV010 (/Users/edwardlau/PythonProjects/CPTAC_Protein/predict_protein/download_cptac_original_order.py, line 42)\n",
      "cptac warning: transcriptomics data was not found for the following samples, so transcriptomics data columns were filled with NaN for these samples: 01OV007.N, 01OV008.N, 01OV010.N, 01OV013.N, 01OV017.N, 01OV019.N, 01OV023.N, 01OV029, 01OV029.N, 01OV039.N, 02OV001.N, 11OV002.N, 11OV010.N, 14OV011.N, 14OV029.N, 15OV001.N, 17OV001.N, 17OV002.N, 17OV003.N, 17OV004.N, 17OV005.N (/Users/edwardlau/PythonProjects/CPTAC_Protein/predict_protein/download_cptac_original_order.py, line 42)\n",
      "cptac warning: proteomics data was not found for the following samples, so proteomics data columns were filled with NaN for these samples: 01CO001, 05CO005, 05CO007, 05CO014, 05CO055, 11CO059, 11CO060, 14CO002, 16CO012, 24CO005 (/Users/edwardlau/PythonProjects/CPTAC_Protein/predict_protein/download_cptac_original_order.py, line 47)\n",
      "cptac warning: transcriptomics data was not found for the following samples, so transcriptomics data columns were filled with NaN for these samples: 01CO001.N, 01CO005.N, 01CO006.N, 01CO008.N, 01CO013.N, 01CO014.N, 01CO015.N, 01CO019.N, 01CO022.N, 05CO002.N, 05CO003.N, 05CO006.N, 05CO007.N, 05CO011.N, 05CO015.N, 05CO020.N, 05CO026.N, 05CO028.N, 05CO029.N, 05CO032.N, 05CO033.N, 05CO034.N, 05CO035.N, 05CO037.N, 05CO039.N, 05CO041.N, 05CO044.N, 05CO045.N, 05CO047.N, 05CO048.N, 05CO049.N, 05CO050.N, 05CO053.N, 05CO054.N, 06CO001.N, 06CO002.N, 09CO005.N, 09CO006.N, 09CO008.N, 09CO011.N, 09CO013.N, 09CO014.N, 09CO015.N, 09CO018.N, 09CO019.N, 09CO022.N, 11CO005.N, 11CO007.N, 11CO008.N, 11CO010.N, 11CO018.N, 11CO019.N, 11CO020.N, 11CO021.N, 11CO022.N, 11CO027.N, 11CO030.N, 11CO031.N, 11CO032.N, 11CO033.N, 11CO036.N, 11CO037.N, 11CO039.N, 11CO042.N, 11CO043.N, 11CO044.N, 11CO045.N, 11CO047.N, 11CO048.N, 11CO051.N, 11CO052.N, 11CO053.N, 11CO054.N, 11CO057.N, 11CO058.N, 11CO060.N, 11CO061.N, 11CO062.N, 11CO070.N, 11CO072.N, 11CO077.N, 11CO079.N, 14CO002.N, 14CO005.N, 15CO001.N, 15CO002.N, 16CO002.N, 16CO003.N, 16CO006.N, 16CO011.N, 20CO001.N, 20CO003.N, 20CO004.N, 20CO006, 20CO006.N, 20CO007.N, 21CO006.N, 21CO007.N, 22CO004.N, 22CO006.N, 27CO004.N (/Users/edwardlau/PythonProjects/CPTAC_Protein/predict_protein/download_cptac_original_order.py, line 47)\n",
      "cptac warning: transcriptomics data was not found for the following samples, so transcriptomics data columns were filled with NaN for these samples: C3L-00183.N, C3L-00791.N, C3N-00246.N, C3N-00312.N, C3N-00317.N, C3N-00320.N, C3N-00437.N, C3N-00492.N, C3N-00953.N (/Users/edwardlau/PythonProjects/CPTAC_Protein/predict_protein/download_cptac_original_order.py, line 61)\n",
      "cptac warning: transcriptomics data was not found for the following samples, so transcriptomics data columns were filled with NaN for these samples: PT-Q2AG.N (/Users/edwardlau/PythonProjects/CPTAC_Protein/predict_protein/download_cptac_original_order.py, line 66)\n",
      "cptac warning: transcriptomics data was not found for the following samples, so transcriptomics data columns were filled with NaN for these samples: C3L-02646.N, C3N-03072.N, C3N-03662.N, C3N-03886.N, C3N-04155.N (/Users/edwardlau/PythonProjects/CPTAC_Protein/predict_protein/download_cptac_original_order.py, line 71)\n",
      "cptac warning: proteomics data was not found for the following samples, so proteomics data columns were filled with NaN for these samples: C3L-00977.N, C3L-04025.N, C3N-01948.N, C3N-02333.N, C3N-02727.N, C3N-02925.N, C3N-03226.N, C3N-03487.N, C3N-03889.N, C3N-04152.N, C3N-04611.N (/Users/edwardlau/PythonProjects/CPTAC_Protein/predict_protein/download_cptac_original_order.py, line 76)\n",
      "cptac warning: transcriptomics data was not found for the following samples, so transcriptomics data columns were filled with NaN for these samples: C3L-00994.C, C3L-02617.C, C3L-04350.C, C3L-04354.N, C3L-04844.N, C3L-05257.C, C3N-00295.N, C3N-00829.N, C3N-00857.N, C3N-01620.N, C3N-01757.C, C3N-01758.N, C3N-01858.N, C3N-01859.N, C3N-02693.N, C3N-03008.N, C3N-03011.N, C3N-03012.N, C3N-03013.N, C3N-03015.N, C3N-03042.C, C3N-03781.N, C3N-04275.N, C3N-04276.N, C3N-04277.N, C3N-04278.N, C3N-04279.N (/Users/edwardlau/PythonProjects/CPTAC_Protein/predict_protein/download_cptac_original_order.py, line 76)\n",
      "All-NaN slice encountered\n",
      "All-NaN slice encountered\n",
      "All-NaN slice encountered\n",
      "All-NaN slice encountered\n",
      "All-NaN slice encountered\n",
      "All-NaN slice encountered\n"
     ]
    }
   ],
   "source": [
    "cptac_list = download_cptac_original_order.download_cptac(n_tumors=8)\n",
    "tumor_df = pd.concat(cptac_list)\n",
    "tm = train_model.LearnCPTAC(tumor_df)\n"
   ],
   "metadata": {
    "collapsed": false,
    "pycharm": {
     "name": "#%% Load CPTAC data\n"
    }
   }
  },
  {
   "cell_type": "code",
   "execution_count": 3,
   "outputs": [],
   "source": [
    "def get_model(tm_obj, model_loc, model, protein_todo):\n",
    "\n",
    "    with open(model_loc, 'rb') as f:\n",
    "        model_results = pickle.load(f)\n",
    "\n",
    "    protein_model  = [result['model'] for result in model_results if result['metrics'].index[0] == protein_todo][0]\n",
    "\n",
    "    # Get features and then do train test split again\n",
    "    tm_obj.included_features = model\n",
    "    print(tm_obj.included_features)\n",
    "    x_train, x_test, y_train, y_test = tm_obj.get_train_test(protein_to_do=protein_todo)\n",
    "\n",
    "    # Output a pandas data frame with y (actual mass spec protein level) and y_hat (predicted from transcript(s))\n",
    "    train_df = pd.DataFrame({'y': y_train, 'yhat': protein_model.predict(x_train[protein_model.feature_names_in_]), 'set': 'train'})\n",
    "    test_df = pd.DataFrame({'y': y_test, 'yhat': protein_model.predict(x_test[protein_model.feature_names_in_]), 'set': 'test'})\n",
    "\n",
    "    return protein_model, x_test # pd.concat([train_df, test_df])\n"
   ],
   "metadata": {
    "collapsed": false,
    "pycharm": {
     "name": "#%% Load the trained model, get the x/y data frames again and apply the model to train\n"
    }
   }
  },
  {
   "cell_type": "code",
   "execution_count": 4,
   "outputs": [
    {
     "name": "stdout",
     "output_type": "stream",
     "text": [
      "corum\n"
     ]
    },
    {
     "name": "stderr",
     "output_type": "stream",
     "text": [
      "Permutation explainer: 259it [02:03,  1.94it/s]                         \n"
     ]
    },
    {
     "name": "stdout",
     "output_type": "stream",
     "text": [
      "corum\n"
     ]
    },
    {
     "name": "stderr",
     "output_type": "stream",
     "text": [
      "Permutation explainer: 259it [02:10,  1.83it/s]                         \n"
     ]
    },
    {
     "name": "stdout",
     "output_type": "stream",
     "text": [
      "corum\n"
     ]
    },
    {
     "name": "stderr",
     "output_type": "stream",
     "text": [
      "Permutation explainer: 259it [02:07,  1.87it/s]                         \n"
     ]
    },
    {
     "name": "stdout",
     "output_type": "stream",
     "text": [
      "corum\n"
     ]
    },
    {
     "name": "stderr",
     "output_type": "stream",
     "text": [
      "Permutation explainer: 255it [02:10,  1.79it/s]                         \n"
     ]
    },
    {
     "name": "stdout",
     "output_type": "stream",
     "text": [
      "corum\n"
     ]
    },
    {
     "name": "stderr",
     "output_type": "stream",
     "text": [
      "Permutation explainer: 255it [02:10,  1.81it/s]                         \n"
     ]
    },
    {
     "name": "stdout",
     "output_type": "stream",
     "text": [
      "corum\n"
     ]
    },
    {
     "name": "stderr",
     "output_type": "stream",
     "text": [
      "Permutation explainer: 259it [02:15,  1.75it/s]                         \n"
     ]
    },
    {
     "name": "stdout",
     "output_type": "stream",
     "text": [
      "corum\n"
     ]
    },
    {
     "name": "stderr",
     "output_type": "stream",
     "text": [
      "Permutation explainer: 259it [01:59,  1.98it/s]                         \n"
     ]
    },
    {
     "name": "stdout",
     "output_type": "stream",
     "text": [
      "corum\n"
     ]
    },
    {
     "name": "stderr",
     "output_type": "stream",
     "text": [
      "Permutation explainer: 259it [02:04,  1.90it/s]                         \n"
     ]
    },
    {
     "name": "stdout",
     "output_type": "stream",
     "text": [
      "corum\n"
     ]
    },
    {
     "name": "stderr",
     "output_type": "stream",
     "text": [
      "Permutation explainer: 257it [02:06,  1.87it/s]                         \n"
     ]
    },
    {
     "name": "stdout",
     "output_type": "stream",
     "text": [
      "corum\n"
     ]
    },
    {
     "name": "stderr",
     "output_type": "stream",
     "text": [
      "Permutation explainer: 256it [02:06,  1.85it/s]                         \n"
     ]
    },
    {
     "data": {
      "text/plain": "<Figure size 576x684 with 1 Axes>",
      "image/png": "[encoded data removed]"
     },
     "metadata": {
      "needs_background": "light"
     },
     "output_type": "display_data"
    }
   ],
   "source": [
    "for model in ['corum', ]: # 'single', 'corum', 'stringhi', 'string'\n",
    "\n",
    "    # LACTB\n",
    "    for protein in ['MRPL20', 'MRPS34', 'MRPS27', 'MRPS21', 'MRPS17', 'MRPL1', 'DAP3', 'MRPL19', 'MRPL41', 'MRPS33']:\n",
    "    # TOP 30\n",
    "    # for protein in ['APOL1', 'BORCS8', 'CACNA1A','CAPZB', 'CMC1', 'COL18A1',\n",
    "    #                 'CPLX3', 'DAG1', 'DLG4', 'EPN1', 'ESPL1', 'F7', 'GNB1',\n",
    "    #                 'GP1BA', 'GTF2F1', 'HSPA1A', 'HUS1B', 'IDH3B', 'IRAK2',\n",
    "    #                 'ITGA2B', 'KCNQ2', 'LAMA5', 'LRP5', 'MPP3', 'MRPL53',\n",
    "    #                 'NDUFAF1', 'NEDD8', 'NGDN', 'NPHP4', 'PATJ', 'PCCB',\n",
    "    #                 'PHF21B', 'PHKG1', 'PPP3R1', 'PSMB5', 'PSMB6', 'PSMC3IP',\n",
    "    #                 'PSMG2', 'REV1', 'RPA3', 'RPGRIP1L', 'RPS29', 'SERPINA1',\n",
    "    #                 'SERPIND1', 'SMCR8', 'TEN1', 'TNIP2', 'TTR', 'UBA52', 'YBX3',]:\n",
    "\n",
    "    # ING2\n",
    "        # ['SAP30', 'ARID4A', 'RBBP4', 'HDAC1', 'RBBP7', 'BRMS1L', 'HDAC2', 'SIN3A', 'SAP130', 'ING2', 'SUDS3', 'BRMS1']:\n",
    "    # 6 highlighted proteins in the manuscript\n",
    "    # ['CMC1', 'PCCB', 'PSMG2', 'SMCR8', 'MICU2', 'PPP3R1']:\n",
    "        for method in ['forest']: #['elastic', 'forest', 'boosting']:\n",
    "            m, X = get_model(tm_obj=tm,\n",
    "                                 model_loc=f'{model_loc}/tumor8_{method}_{model}.p',\n",
    "                                 model=model,\n",
    "                                 protein_todo=protein,\n",
    "                            )\n",
    "            # Reorder the X data frame\n",
    "            X = X[m.feature_names_in_]\n",
    "            #%% SHAP\n",
    "            X100 = shap.utils.sample(X, 100)\n",
    "            explainer = shap.Explainer(m.predict, X100) #, max_evals=1000)\n",
    "            shap_values = explainer(X)\n",
    "\n",
    "            #%%# Plot SHAP\n",
    "            shap.plots.beeswarm(shap_values, max_display=7, show=False)\n",
    "            plt.tight_layout()\n",
    "            plt.savefig(f'08_SHAPFeatureImportance_Output/{model}_{method}/00_LACTB_{protein}_R1.pdf')\n",
    "            plt.close()\n",
    "            shap.summary_plot(shap_values, X, plot_type=\"bar\", show=False)\n"
   ],
   "metadata": {
    "collapsed": false,
    "pycharm": {
     "name": "#%% Get CMC1 and PCCB for single, corum, and string, then output.\n"
    }
   }
  },
  {
   "cell_type": "code",
   "execution_count": 5,
   "outputs": [
    {
     "name": "stdout",
     "output_type": "stream",
     "text": [
      "BCL6-HDAC4 complex\n",
      "bcl6-hdac4-complex\n",
      "BCL6-HDAC5 complex\n",
      "bcl6-hdac5-complex\n",
      "BCL6-HDAC7 complex\n",
      "bcl6-hdac7-complex\n",
      "Multisubunit ACTR coactivator complex\n",
      "multisubunit-actr-coactivator-complex\n",
      "Condensin I complex\n",
      "condensin-i-complex\n",
      "BLOC-3 (biogenesis of lysosome-related organelles complex 3)\n",
      "bloc-3-biogenesis-of-lysosome-related-organelles-complex-3\n",
      "BLOC-2 (biogenesis of lysosome-related organelles complex 2)\n",
      "bloc-2-biogenesis-of-lysosome-related-organelles-complex-2\n",
      "MUS81-CDS1 complex\n",
      "mus81-cds1-complex\n",
      "NCOR complex\n",
      "ncor-complex\n",
      "BLOC-1 (biogenesis of lysosome-related organelles complex 1)\n",
      "bloc-1-biogenesis-of-lysosome-related-organelles-complex-1\n"
     ]
    }
   ],
   "source": [
    "import unicodedata\n",
    "import re\n",
    "\n",
    "def slugify(value, allow_unicode=False):\n",
    "    \"\"\"\n",
    "    Taken from https://github.com/django/django/blob/master/django/utils/text.py\n",
    "    Convert to ASCII if 'allow_unicode' is False. Convert spaces or repeated\n",
    "    dashes to single dashes. Remove characters that aren't alphanumerics,\n",
    "    underscores, or hyphens. Convert to lowercase. Also strip leading and\n",
    "    trailing whitespace, dashes, and underscores.\n",
    "    \"\"\"\n",
    "    value = str(value)\n",
    "    if allow_unicode:\n",
    "        value = unicodedata.normalize('NFKC', value)\n",
    "    else:\n",
    "        value = unicodedata.normalize('NFKD', value).encode('ascii', 'ignore').decode('ascii')\n",
    "    value = re.sub(r'[^\\w\\s-]', '', value.lower())\n",
    "    return re.sub(r'[-\\s]+', '-', value).strip('-_')\n",
    "\n",
    "corum = pd.read_table('/Users/edwardlau/PythonProjects/CPTAC_Protein/data/corum/tidy_corum_homosapiens.txt')\n",
    "# get all unique complexes\n",
    "corum_complexes = corum['ComplexName'].unique()\n",
    "\n",
    "for corcom in corum_complexes[:10]:\n",
    "    print(corcom)\n",
    "    print(slugify(corcom))"
   ],
   "metadata": {
    "collapsed": false,
    "pycharm": {
     "name": "#%% Open CORUM\n"
    }
   }
  },
  {
   "cell_type": "code",
   "execution_count": 6,
   "outputs": [
    {
     "name": "stdout",
     "output_type": "stream",
     "text": [
      "corum\n"
     ]
    },
    {
     "name": "stderr",
     "output_type": "stream",
     "text": [
      "Exact explainer: 156it [01:25,  1.62it/s]                         \n"
     ]
    },
    {
     "name": "stdout",
     "output_type": "stream",
     "text": [
      "corum\n"
     ]
    },
    {
     "name": "stderr",
     "output_type": "stream",
     "text": [
      "Exact explainer: 252it [00:11,  2.87it/s]                         \n"
     ]
    },
    {
     "name": "stdout",
     "output_type": "stream",
     "text": [
      "corum\n"
     ]
    },
    {
     "name": "stderr",
     "output_type": "stream",
     "text": [
      "Exact explainer: 156it [01:24,  1.62it/s]                         \n"
     ]
    },
    {
     "name": "stdout",
     "output_type": "stream",
     "text": [
      "corum\n",
      "corum\n"
     ]
    },
    {
     "name": "stderr",
     "output_type": "stream",
     "text": [
      "Exact explainer: 156it [01:25,  1.60it/s]                         \n"
     ]
    },
    {
     "name": "stdout",
     "output_type": "stream",
     "text": [
      "corum\n",
      "corum\n"
     ]
    },
    {
     "name": "stderr",
     "output_type": "stream",
     "text": [
      "Permutation explainer: 250it [02:00,  1.91it/s]                         \n"
     ]
    },
    {
     "name": "stdout",
     "output_type": "stream",
     "text": [
      "corum\n"
     ]
    },
    {
     "name": "stderr",
     "output_type": "stream",
     "text": [
      "Permutation explainer: 243it [01:22,  2.59it/s]                         \n"
     ]
    },
    {
     "name": "stdout",
     "output_type": "stream",
     "text": [
      "corum\n"
     ]
    },
    {
     "name": "stderr",
     "output_type": "stream",
     "text": [
      "Permutation explainer: 142it [00:51,  2.20it/s]                         \n"
     ]
    },
    {
     "name": "stdout",
     "output_type": "stream",
     "text": [
      "corum\n"
     ]
    },
    {
     "name": "stderr",
     "output_type": "stream",
     "text": [
      "Permutation explainer: 213it [01:13,  2.51it/s]                         \n"
     ]
    },
    {
     "name": "stdout",
     "output_type": "stream",
     "text": [
      "corum\n"
     ]
    },
    {
     "name": "stderr",
     "output_type": "stream",
     "text": [
      "Permutation explainer: 259it [01:36,  2.41it/s]                         \n"
     ]
    },
    {
     "name": "stdout",
     "output_type": "stream",
     "text": [
      "corum\n"
     ]
    },
    {
     "name": "stderr",
     "output_type": "stream",
     "text": [
      "Exact explainer: 225it [00:18,  5.56it/s]                         \n"
     ]
    },
    {
     "name": "stdout",
     "output_type": "stream",
     "text": [
      "corum\n"
     ]
    },
    {
     "name": "stderr",
     "output_type": "stream",
     "text": [
      "Exact explainer: 240it [00:19,  6.04it/s]                         \n"
     ]
    },
    {
     "name": "stdout",
     "output_type": "stream",
     "text": [
      "corum\n"
     ]
    },
    {
     "name": "stderr",
     "output_type": "stream",
     "text": [
      "Exact explainer: 225it [00:18,  5.57it/s]                         \n"
     ]
    },
    {
     "name": "stdout",
     "output_type": "stream",
     "text": [
      "corum\n"
     ]
    },
    {
     "name": "stderr",
     "output_type": "stream",
     "text": [
      "Permutation explainer: 259it [01:38,  2.36it/s]                         \n"
     ]
    },
    {
     "name": "stdout",
     "output_type": "stream",
     "text": [
      "corum\n",
      "corum\n",
      "corum\n"
     ]
    },
    {
     "name": "stderr",
     "output_type": "stream",
     "text": [
      "Permutation explainer: 252it [01:31,  2.45it/s]                         \n"
     ]
    },
    {
     "name": "stdout",
     "output_type": "stream",
     "text": [
      "corum\n"
     ]
    },
    {
     "name": "stderr",
     "output_type": "stream",
     "text": [
      "Permutation explainer: 177it [01:00,  2.42it/s]                         \n"
     ]
    },
    {
     "name": "stdout",
     "output_type": "stream",
     "text": [
      "corum\n"
     ]
    },
    {
     "name": "stderr",
     "output_type": "stream",
     "text": [
      "Permutation explainer: 219it [01:20,  2.36it/s]                         \n"
     ]
    },
    {
     "name": "stdout",
     "output_type": "stream",
     "text": [
      "corum\n"
     ]
    },
    {
     "ename": "IndexError",
     "evalue": "list index out of range",
     "output_type": "error",
     "traceback": [
      "\u001B[0;31m---------------------------------------------------------------------------\u001B[0m",
      "\u001B[0;31mIndexError\u001B[0m                                Traceback (most recent call last)",
      "Input \u001B[0;32mIn [6]\u001B[0m, in \u001B[0;36m<module>\u001B[0;34m\u001B[0m\n\u001B[1;32m      4\u001B[0m \u001B[38;5;28;01mfor\u001B[39;00m protein \u001B[38;5;129;01min\u001B[39;00m protein_list:\n\u001B[1;32m      5\u001B[0m     \u001B[38;5;28;01mfor\u001B[39;00m method \u001B[38;5;129;01min\u001B[39;00m [\u001B[38;5;124m'\u001B[39m\u001B[38;5;124mboosting\u001B[39m\u001B[38;5;124m'\u001B[39m]: \u001B[38;5;66;03m#['elastic', 'forest', 'boosting']:\u001B[39;00m\n\u001B[0;32m----> 6\u001B[0m         m, X \u001B[38;5;241m=\u001B[39m \u001B[43mget_model\u001B[49m\u001B[43m(\u001B[49m\u001B[43mtm_obj\u001B[49m\u001B[38;5;241;43m=\u001B[39;49m\u001B[43mtm\u001B[49m\u001B[43m,\u001B[49m\n\u001B[1;32m      7\u001B[0m \u001B[43m                             \u001B[49m\u001B[43mmodel_loc\u001B[49m\u001B[38;5;241;43m=\u001B[39;49m\u001B[38;5;124;43mf\u001B[39;49m\u001B[38;5;124;43m'\u001B[39;49m\u001B[38;5;132;43;01m{\u001B[39;49;00m\u001B[43mmodel_loc\u001B[49m\u001B[38;5;132;43;01m}\u001B[39;49;00m\u001B[38;5;124;43m/tumor8_\u001B[39;49m\u001B[38;5;132;43;01m{\u001B[39;49;00m\u001B[43mmethod\u001B[49m\u001B[38;5;132;43;01m}\u001B[39;49;00m\u001B[38;5;124;43m_\u001B[39;49m\u001B[38;5;132;43;01m{\u001B[39;49;00m\u001B[43mmodel\u001B[49m\u001B[38;5;132;43;01m}\u001B[39;49;00m\u001B[38;5;124;43m.p\u001B[39;49m\u001B[38;5;124;43m'\u001B[39;49m\u001B[43m,\u001B[49m\n\u001B[1;32m      8\u001B[0m \u001B[43m                             \u001B[49m\u001B[43mmodel\u001B[49m\u001B[38;5;241;43m=\u001B[39;49m\u001B[43mmodel\u001B[49m\u001B[43m,\u001B[49m\n\u001B[1;32m      9\u001B[0m \u001B[43m                             \u001B[49m\u001B[43mprotein_todo\u001B[49m\u001B[38;5;241;43m=\u001B[39;49m\u001B[43mprotein\u001B[49m\u001B[43m,\u001B[49m\n\u001B[1;32m     10\u001B[0m \u001B[43m                        \u001B[49m\u001B[43m)\u001B[49m\n\u001B[1;32m     11\u001B[0m         \u001B[38;5;66;03m# Reorder the X data frame\u001B[39;00m\n\u001B[1;32m     12\u001B[0m         X \u001B[38;5;241m=\u001B[39m X[m\u001B[38;5;241m.\u001B[39mfeature_names_in_]\n",
      "Input \u001B[0;32mIn [3]\u001B[0m, in \u001B[0;36mget_model\u001B[0;34m(tm_obj, model_loc, model, protein_todo)\u001B[0m\n\u001B[1;32m      3\u001B[0m \u001B[38;5;28;01mwith\u001B[39;00m \u001B[38;5;28mopen\u001B[39m(model_loc, \u001B[38;5;124m'\u001B[39m\u001B[38;5;124mrb\u001B[39m\u001B[38;5;124m'\u001B[39m) \u001B[38;5;28;01mas\u001B[39;00m f:\n\u001B[1;32m      4\u001B[0m     model_results \u001B[38;5;241m=\u001B[39m pickle\u001B[38;5;241m.\u001B[39mload(f)\n\u001B[0;32m----> 6\u001B[0m protein_model  \u001B[38;5;241m=\u001B[39m \u001B[43m[\u001B[49m\u001B[43mresult\u001B[49m\u001B[43m[\u001B[49m\u001B[38;5;124;43m'\u001B[39;49m\u001B[38;5;124;43mmodel\u001B[39;49m\u001B[38;5;124;43m'\u001B[39;49m\u001B[43m]\u001B[49m\u001B[43m \u001B[49m\u001B[38;5;28;43;01mfor\u001B[39;49;00m\u001B[43m \u001B[49m\u001B[43mresult\u001B[49m\u001B[43m \u001B[49m\u001B[38;5;129;43;01min\u001B[39;49;00m\u001B[43m \u001B[49m\u001B[43mmodel_results\u001B[49m\u001B[43m \u001B[49m\u001B[38;5;28;43;01mif\u001B[39;49;00m\u001B[43m \u001B[49m\u001B[43mresult\u001B[49m\u001B[43m[\u001B[49m\u001B[38;5;124;43m'\u001B[39;49m\u001B[38;5;124;43mmetrics\u001B[39;49m\u001B[38;5;124;43m'\u001B[39;49m\u001B[43m]\u001B[49m\u001B[38;5;241;43m.\u001B[39;49m\u001B[43mindex\u001B[49m\u001B[43m[\u001B[49m\u001B[38;5;241;43m0\u001B[39;49m\u001B[43m]\u001B[49m\u001B[43m \u001B[49m\u001B[38;5;241;43m==\u001B[39;49m\u001B[43m \u001B[49m\u001B[43mprotein_todo\u001B[49m\u001B[43m]\u001B[49m\u001B[43m[\u001B[49m\u001B[38;5;241;43m0\u001B[39;49m\u001B[43m]\u001B[49m\n\u001B[1;32m      8\u001B[0m \u001B[38;5;66;03m# Get features and then do train test split again\u001B[39;00m\n\u001B[1;32m      9\u001B[0m tm_obj\u001B[38;5;241m.\u001B[39mincluded_features \u001B[38;5;241m=\u001B[39m model\n",
      "\u001B[0;31mIndexError\u001B[0m: list index out of range"
     ]
    }
   ],
   "source": [
    "\n",
    "\n",
    "for model in ['corum', ]: # 'single', 'corum', 'stringhi', 'string'\n",
    "    for corcom in corum_complexes:\n",
    "        protein_list = corum[corum['ComplexName'] == corcom]['SubunitGN'].unique()\n",
    "        for protein in protein_list:\n",
    "            for method in ['boosting']: #['elastic', 'forest', 'boosting']:\n",
    "                m, X = get_model(tm_obj=tm,\n",
    "                                     model_loc=f'{model_loc}/tumor8_{method}_{model}.p',\n",
    "                                     model=model,\n",
    "                                     protein_todo=protein,\n",
    "                                )\n",
    "                # Reorder the X data frame\n",
    "                X = X[m.feature_names_in_]\n",
    "                #%% SHAP\n",
    "                X100 = shap.utils.sample(X, 100)\n",
    "                explainer = shap.Explainer(m.predict, X100) #, max_evals=1000)\n",
    "                shap_values = explainer(X)\n",
    "\n",
    "                #%%# Plot SHAP\n",
    "                shap.plots.beeswarm(shap_values, max_display=11, show=False)\n",
    "                plt.tight_layout()\n",
    "                plt.savefig(f'08_SHAPFeatureImportance_Output/{model}_{method}/all_complexes/{slugify(corcom)}_{protein}_R1.pdf')\n",
    "                plt.close()\n"
   ],
   "metadata": {
    "collapsed": false,
    "pycharm": {
     "name": "#%% Plot out graphs for every CORUM complex\n"
    }
   }
  }
 ],
 "metadata": {
  "kernelspec": {
   "display_name": "Python 3",
   "language": "python",
   "name": "python3"
  },
  "language_info": {
   "codemirror_mode": {
    "name": "ipython",
    "version": 2
   },
   "file_extension": ".py",
   "mimetype": "text/x-python",
   "name": "python",
   "nbconvert_exporter": "python",
   "pygments_lexer": "ipython2",
   "version": "2.7.6"
  }
 },
 "nbformat": 4,
 "nbformat_minor": 0
}
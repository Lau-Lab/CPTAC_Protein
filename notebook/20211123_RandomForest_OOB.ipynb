{
 "cells": [
  {
   "cell_type": "code",
   "execution_count": 1,
   "metadata": {
    "collapsed": true
   },
   "outputs": [],
   "source": [
    "import pandas as pd\n",
    "from predict_protein import download_cptac, select_features, train_model\n",
    "import matplotlib.pyplot as plt\n",
    "import numpy as np\n",
    "from sklearn.impute import SimpleImputer, KNNImputer\n",
    "from sklearn.feature_selection import VarianceThreshold\n",
    "from sklearn.model_selection import train_test_split\n",
    "\n",
    "from sklearn.metrics import mean_squared_error, r2_score\n",
    "from sklearn.ensemble import RandomForestRegressor, VotingRegressor, GradientBoostingRegressor\n",
    "from sklearn.linear_model import LinearRegression, ElasticNetCV"
   ]
  },
  {
   "cell_type": "code",
   "execution_count": 2,
   "outputs": [
    {
     "name": "stdout",
     "output_type": "stream",
     "text": [
      "Formatting dataframes...\r..\r up-to-date...\r.\r...\r                                                                                                                                                                                                                                                                                                                                                                                            Loading endometrial v2.1.1....Loading endometrial v2.1.1.......Loading endometrial v2.1.1.........Loading endometrial v2.1.1............                                                                    Loading ovarian v0.0.1...Loading ovarian v0.0.1......Loading ovarian v0.0.1........                                                                  Loading colon v0.0.1....Loading colon v0.0.1......Loading colon v0.0.1........Loading colon v0.0.1...........                                                                 Loading brca v5.4..Loading brca v5.4....Loading brca v5.4......                                                                 Loading luad v3.1.1...Loading luad v3.1.1.....Loading luad v3.1.1.......Loading luad v3.1.1.........Loading luad v3.1.1...........                                                                  Loading ccrcc v0.1.1..Loading ccrcc v0.1.1....Loading ccrcc v0.1.1......Loading ccrcc v0.1.1..........Loading ccrcc v0.1.1............                                                                Loading gbm v3.0..Loading gbm v3.0.........Loading gbm v3.0...........Loading gbm v3.0...............                                                                                                 Loading lscc v3.3..Loading lscc v3.3....Loading lscc v3.3......Loading lscc v3.3.........Loading lscc v3.3...........                                                                                               Loading hnscc v2.0......Loading hnscc v2.0........                                                   \r"
     ]
    },
    {
     "name": "stderr",
     "output_type": "stream",
     "text": [
      "cptac warning: transcriptomics data was not found for the following samples, so transcriptomics data columns were filled with NaN for these samples: C3L-00563.N, C3L-00605.N, C3L-00769.N, C3L-00770.N, C3L-00771.N, C3L-00930.N, C3L-00947.N, C3L-00963.N, C3L-01246.N, C3L-01249.N, C3L-01252.N, C3L-01256.N, C3L-01257.N, C3L-01744.N, C3N-00200.N, C3N-00729.N, C3N-01211.N, NX1.N, NX10.N, NX11.N, NX12.N, NX13.N, NX14.N, NX15.N, NX16.N, NX17.N, NX18.N, NX2.N, NX3.N, NX4.N, NX5.N, NX6.N, NX7.N, NX8.N, NX9.N (/Users/edwardlau/PythonProjects/CPTAC_Protein/predict_protein/download_cptac.py, line 37)\n",
      "cptac warning: proteomics data was not found for the following samples, so proteomics data columns were filled with NaN for these samples: 01OV002, 01OV008, 01OV010, 01OV013, 01OV019, 01OV045, 01OV046, 01OV049, 02OV035, 02OV040, 02OV042, 02OV045, 04OV041, 11OV009, 13OV004, 17OV019, 17OV034, 22OV001, 26OV010 (/Users/edwardlau/PythonProjects/CPTAC_Protein/predict_protein/download_cptac.py, line 41)\n",
      "cptac warning: transcriptomics data was not found for the following samples, so transcriptomics data columns were filled with NaN for these samples: 01OV007.N, 01OV008.N, 01OV010.N, 01OV013.N, 01OV017.N, 01OV019.N, 01OV023.N, 01OV029, 01OV029.N, 01OV039.N, 02OV001.N, 11OV002.N, 11OV010.N, 14OV011.N, 14OV029.N, 15OV001.N, 17OV001.N, 17OV002.N, 17OV003.N, 17OV004.N, 17OV005.N (/Users/edwardlau/PythonProjects/CPTAC_Protein/predict_protein/download_cptac.py, line 41)\n",
      "cptac warning: proteomics data was not found for the following samples, so proteomics data columns were filled with NaN for these samples: 01CO001, 05CO005, 05CO007, 05CO014, 05CO055, 11CO059, 11CO060, 14CO002, 16CO012, 24CO005 (/Users/edwardlau/PythonProjects/CPTAC_Protein/predict_protein/download_cptac.py, line 46)\n",
      "cptac warning: transcriptomics data was not found for the following samples, so transcriptomics data columns were filled with NaN for these samples: 01CO001.N, 01CO005.N, 01CO006.N, 01CO008.N, 01CO013.N, 01CO014.N, 01CO015.N, 01CO019.N, 01CO022.N, 05CO002.N, 05CO003.N, 05CO006.N, 05CO007.N, 05CO011.N, 05CO015.N, 05CO020.N, 05CO026.N, 05CO028.N, 05CO029.N, 05CO032.N, 05CO033.N, 05CO034.N, 05CO035.N, 05CO037.N, 05CO039.N, 05CO041.N, 05CO044.N, 05CO045.N, 05CO047.N, 05CO048.N, 05CO049.N, 05CO050.N, 05CO053.N, 05CO054.N, 06CO001.N, 06CO002.N, 09CO005.N, 09CO006.N, 09CO008.N, 09CO011.N, 09CO013.N, 09CO014.N, 09CO015.N, 09CO018.N, 09CO019.N, 09CO022.N, 11CO005.N, 11CO007.N, 11CO008.N, 11CO010.N, 11CO018.N, 11CO019.N, 11CO020.N, 11CO021.N, 11CO022.N, 11CO027.N, 11CO030.N, 11CO031.N, 11CO032.N, 11CO033.N, 11CO036.N, 11CO037.N, 11CO039.N, 11CO042.N, 11CO043.N, 11CO044.N, 11CO045.N, 11CO047.N, 11CO048.N, 11CO051.N, 11CO052.N, 11CO053.N, 11CO054.N, 11CO057.N, 11CO058.N, 11CO060.N, 11CO061.N, 11CO062.N, 11CO070.N, 11CO072.N, 11CO077.N, 11CO079.N, 14CO002.N, 14CO005.N, 15CO001.N, 15CO002.N, 16CO002.N, 16CO003.N, 16CO006.N, 16CO011.N, 20CO001.N, 20CO003.N, 20CO004.N, 20CO006, 20CO006.N, 20CO007.N, 21CO006.N, 21CO007.N, 22CO004.N, 22CO006.N, 27CO004.N (/Users/edwardlau/PythonProjects/CPTAC_Protein/predict_protein/download_cptac.py, line 46)\n",
      "cptac warning: transcriptomics data was not found for the following samples, so transcriptomics data columns were filled with NaN for these samples: C3L-00183.N, C3L-00791.N, C3N-00246.N, C3N-00312.N, C3N-00317.N, C3N-00320.N, C3N-00437.N, C3N-00492.N, C3N-00953.N (/Users/edwardlau/PythonProjects/CPTAC_Protein/predict_protein/download_cptac.py, line 60)\n",
      "cptac warning: transcriptomics data was not found for the following samples, so transcriptomics data columns were filled with NaN for these samples: PT-Q2AG.N (/Users/edwardlau/PythonProjects/CPTAC_Protein/predict_protein/download_cptac.py, line 65)\n",
      "cptac warning: transcriptomics data was not found for the following samples, so transcriptomics data columns were filled with NaN for these samples: C3L-02646.N, C3N-03072.N, C3N-03662.N, C3N-03886.N, C3N-04155.N (/Users/edwardlau/PythonProjects/CPTAC_Protein/predict_protein/download_cptac.py, line 70)\n",
      "cptac warning: proteomics data was not found for the following samples, so proteomics data columns were filled with NaN for these samples: C3L-00977.N, C3L-04025.N, C3N-01948.N, C3N-02333.N, C3N-02727.N, C3N-02925.N, C3N-03226.N, C3N-03487.N, C3N-03889.N, C3N-04152.N, C3N-04611.N (/Users/edwardlau/PythonProjects/CPTAC_Protein/predict_protein/download_cptac.py, line 75)\n",
      "cptac warning: transcriptomics data was not found for the following samples, so transcriptomics data columns were filled with NaN for these samples: C3L-00994.C, C3L-02617.C, C3L-04350.C, C3L-04354.N, C3L-04844.N, C3L-05257.C, C3N-00295.N, C3N-00829.N, C3N-00857.N, C3N-01620.N, C3N-01757.C, C3N-01758.N, C3N-01858.N, C3N-01859.N, C3N-02693.N, C3N-03008.N, C3N-03011.N, C3N-03012.N, C3N-03013.N, C3N-03015.N, C3N-03042.C, C3N-03781.N, C3N-04275.N, C3N-04276.N, C3N-04277.N, C3N-04278.N, C3N-04279.N (/Users/edwardlau/PythonProjects/CPTAC_Protein/predict_protein/download_cptac.py, line 75)\n"
     ]
    }
   ],
   "source": [
    "cptac_list = download_cptac.download_cptac(n_tumors=2)"
   ],
   "metadata": {
    "collapsed": false,
    "pycharm": {
     "name": "#%%\n"
    }
   }
  },
  {
   "cell_type": "code",
   "execution_count": 3,
   "outputs": [],
   "source": [
    "tm = train_model.LearnCPTAC(pd.concat(cptac_list))\n",
    "tm.train_method = 'forest'\n",
    "tm.included_features = 'single'"
   ],
   "metadata": {
    "collapsed": false,
    "pycharm": {
     "name": "#%%\n"
    }
   }
  },
  {
   "cell_type": "code",
   "execution_count": 4,
   "outputs": [
    {
     "name": "stderr",
     "output_type": "stream",
     "text": [
      "/Applications/venv/CPTAC_Protein/lib/python3.9/site-packages/sklearn/base.py:441: UserWarning: X does not have valid feature names, but RandomForestRegressor was fitted with feature names\n",
      "  warnings.warn(\n"
     ]
    },
    {
     "data": {
      "text/plain": "{'model': RandomForestRegressor(max_depth=3, n_estimators=1000, n_jobs=6, oob_score=True,\n                       random_state=2),\n 'metrics':       corr_train  corr_test  r2_train   r2_test  num_obs  num_features  \\\n A1BG    0.478157   0.631744  0.188002  0.156009      180             1   \n \n         nrmse  baseline_nrmse  \n A1BG  0.46631        0.526487  }"
     },
     "execution_count": 4,
     "metadata": {},
     "output_type": "execute_result"
    }
   ],
   "source": [
    "# This worked in string earlier\n",
    "protein_of_interest = 'A1BG'\n",
    "res = tm.learn_one_protein(protein_to_do=protein_of_interest)\n",
    "res"
   ],
   "metadata": {
    "collapsed": false,
    "pycharm": {
     "name": "#%%\n"
    }
   }
  },
  {
   "cell_type": "code",
   "execution_count": 5,
   "outputs": [],
   "source": [
    "rf = res['model']"
   ],
   "metadata": {
    "collapsed": false,
    "pycharm": {
     "name": "#%%\n"
    }
   }
  },
  {
   "cell_type": "code",
   "execution_count": 6,
   "outputs": [
    {
     "data": {
      "text/plain": "array([ 0.14346185,  0.13091009,  0.13038383,  0.13433719,  0.11922001,\n        0.53815665,  0.2543909 ,  0.13073867,  1.17199233,  0.11767705,\n        1.0457664 ,  0.62606856,  0.13056487,  0.70312709,  0.8698642 ,\n        0.45019765,  0.07835252,  0.69123312,  1.16610638, -0.06017267,\n        0.51352188,  0.13835104,  0.8645727 ,  0.1335902 ,  0.60146106,\n        0.5599601 ,  0.15892533,  0.7824408 ,  0.13623616,  0.1487002 ,\n        1.51463036,  0.99718437,  0.11467616,  0.1636401 ,  0.89439121,\n        0.61198301,  1.05819202,  0.65817241,  0.11794911,  0.63483033,\n        0.78406607,  1.27066691,  0.70580173,  0.14107049,  0.59252343,\n        0.75826755,  0.12726925,  0.90898289,  0.9507917 ,  0.38458691,\n        0.55673229,  0.13202156,  0.11683882,  0.1383795 ,  0.8948864 ,\n        1.18692367,  0.13631371,  0.90724332,  0.74850034,  0.67920215,\n        0.11526099,  0.11420558,  1.38903576,  1.02099233,  0.59836454,\n        0.93185667,  0.19798387,  0.15581531,  0.61246763,  0.31083245,\n        0.12493924,  0.11771782,  0.13852403,  0.13655213,  0.14083809,\n        0.65624105,  0.13919556,  0.14459073,  0.28600964,  0.68402659,\n        0.4429178 ,  0.54720033,  0.13899191,  0.1258411 ,  0.11464212,\n        0.13799733,  0.12699078,  0.11560776,  0.46739729,  0.31534666,\n        0.10729857,  0.14693586,  0.12969465,  0.63846453,  0.22264732,\n        0.94632405,  0.12343076,  0.14351713,  0.50154511,  0.76182083,\n        0.11066504,  0.74901595,  0.1162996 ,  1.03571121,  0.11508865,\n        0.14200039,  0.14369939,  0.51534236,  0.13600842,  0.14278912,\n        0.10951551,  0.14657108,  0.40116023,  0.1325475 ,  0.12868637,\n        0.12916891,  1.41969723,  0.12907676,  0.27061358,  0.13870611,\n        0.13722466,  0.30592333,  0.10088604,  0.11156491,  0.0550002 ,\n        0.60410362,  0.13356806,  0.63857384,  0.35233525,  0.32746272,\n        1.32234862,  0.21227753,  0.41500575,  0.88845787,  0.13841581,\n        0.14010842,  0.10695717,  0.77829237,  0.14805942,  0.13732734,\n        0.12746442,  0.71935584,  0.377112  ,  1.51992253,  0.13153013,\n        0.1165251 ,  0.1318773 ,  0.12677373,  0.87274938,  0.12403461,\n        0.13748372,  0.13273693,  0.70979456,  0.14354159,  0.22660348,\n        0.34234535,  0.13137173,  0.11916482,  0.58885405,  0.57149947,\n        0.13329582,  0.50775435,  0.41188149,  0.13418487,  0.12991423,\n        0.12940086,  0.13160602,  0.13068289,  0.13670378,  0.48424611,\n        1.08019831,  0.1435182 ,  0.460066  ,  0.13452255,  0.20841965,\n        0.12581937,  0.13464634,  0.13498581,  0.13050337,  0.46908033])"
     },
     "execution_count": 6,
     "metadata": {},
     "output_type": "execute_result"
    }
   ],
   "source": [
    "rf.oob_prediction_"
   ],
   "metadata": {
    "collapsed": false,
    "pycharm": {
     "name": "#%% Features of the random forest oob model\n"
    }
   }
  },
  {
   "cell_type": "code",
   "execution_count": 7,
   "outputs": [],
   "source": [
    "x_train, x_test, y_train, y_test = tm.get_train_test(protein_to_do=protein_of_interest)"
   ],
   "metadata": {
    "collapsed": false,
    "pycharm": {
     "name": "#%% Get the x/y data frame again.\n"
    }
   }
  },
  {
   "cell_type": "code",
   "execution_count": 8,
   "outputs": [
    {
     "data": {
      "text/plain": "Name        A1BG_transcriptomics      pred\nPatient_ID                                \nOV01OV029              -0.022613  0.143462\nOV17OV030              -0.022613  0.130910\nOV01OV018              -0.022613  0.130384\nBRX11BR036             -0.022613  0.134337\nOV01OV023              -0.022613  0.119220\n...                          ...       ...\nOV04OV045              -0.022613  0.125819\nOV04OV001              -0.022613  0.134646\nOV17OV033              -0.022613  0.134986\nOV02OV023              -0.022613  0.130503\nBRX11BR023             -1.805811  0.469080\n\n[180 rows x 2 columns]",
      "text/html": "<div>\n<style scoped>\n    .dataframe tbody tr th:only-of-type {\n        vertical-align: middle;\n    }\n\n    .dataframe tbody tr th {\n        vertical-align: top;\n    }\n\n    .dataframe thead th {\n        text-align: right;\n    }\n</style>\n<table border=\"1\" class=\"dataframe\">\n  <thead>\n    <tr style=\"text-align: right;\">\n      <th>Name</th>\n      <th>A1BG_transcriptomics</th>\n      <th>pred</th>\n    </tr>\n    <tr>\n      <th>Patient_ID</th>\n      <th></th>\n      <th></th>\n    </tr>\n  </thead>\n  <tbody>\n    <tr>\n      <th>OV01OV029</th>\n      <td>-0.022613</td>\n      <td>0.143462</td>\n    </tr>\n    <tr>\n      <th>OV17OV030</th>\n      <td>-0.022613</td>\n      <td>0.130910</td>\n    </tr>\n    <tr>\n      <th>OV01OV018</th>\n      <td>-0.022613</td>\n      <td>0.130384</td>\n    </tr>\n    <tr>\n      <th>BRX11BR036</th>\n      <td>-0.022613</td>\n      <td>0.134337</td>\n    </tr>\n    <tr>\n      <th>OV01OV023</th>\n      <td>-0.022613</td>\n      <td>0.119220</td>\n    </tr>\n    <tr>\n      <th>...</th>\n      <td>...</td>\n      <td>...</td>\n    </tr>\n    <tr>\n      <th>OV04OV045</th>\n      <td>-0.022613</td>\n      <td>0.125819</td>\n    </tr>\n    <tr>\n      <th>OV04OV001</th>\n      <td>-0.022613</td>\n      <td>0.134646</td>\n    </tr>\n    <tr>\n      <th>OV17OV033</th>\n      <td>-0.022613</td>\n      <td>0.134986</td>\n    </tr>\n    <tr>\n      <th>OV02OV023</th>\n      <td>-0.022613</td>\n      <td>0.130503</td>\n    </tr>\n    <tr>\n      <th>BRX11BR023</th>\n      <td>-1.805811</td>\n      <td>0.469080</td>\n    </tr>\n  </tbody>\n</table>\n<p>180 rows × 2 columns</p>\n</div>"
     },
     "execution_count": 8,
     "metadata": {},
     "output_type": "execute_result"
    }
   ],
   "source": [
    "x_train\n",
    "x_train['pred'] = rf.oob_prediction_\n",
    "x_train\n"
   ],
   "metadata": {
    "collapsed": false,
    "pycharm": {
     "name": "#%%\n"
    }
   }
  },
  {
   "cell_type": "code",
   "execution_count": 11,
   "outputs": [
    {
     "name": "stderr",
     "output_type": "stream",
     "text": [
      "/var/folders/7c/l09scrbj6bdgsg118sgq25wm0000gn/T/ipykernel_87326/2687575015.py:18: UserWarning: Matplotlib is currently using module://matplotlib_inline.backend_inline, which is a non-GUI backend, so cannot show the figure.\n",
      "  fig.show()\n"
     ]
    },
    {
     "data": {
      "text/plain": "<Figure size 432x288 with 4 Axes>",
      "image/png": "[encoded data removed]"
     },
     "metadata": {
      "needs_background": "light"
     },
     "output_type": "display_data"
    }
   ],
   "source": [
    "fig, axs = plt.subplots(2, 2)\n",
    "fig.suptitle('Protein Name')\n",
    "\n",
    "\n",
    "\n",
    "axs[0, 0].scatter(x_train[protein_of_interest + '_transcriptomics'], y_train, color = 'red')\n",
    "# axs[0, 0].plot(x_train[protein_of_interest + '_transcriptomics'], rf.oob_prediction_, color = 'blue')\n",
    "axs[0, 0].plot(x_train.sort_values(by=protein_of_interest + '_transcriptomics')[protein_of_interest + '_transcriptomics'],\n",
    "               x_train.sort_values(by=protein_of_interest + '_transcriptomics')['pred'], color = 'orange')\n",
    "axs[0, 0].title.set_text(\"Train set data, model\")\n",
    "\n",
    "axs[0, 1].scatter(x_test, y_test, color = 'red')\n",
    "# axs[0, 1].plot(x_test, linreg_model.predict(x_test), color = 'blue')\n",
    "axs[0, 1].plot(x_test.sort_values(by=protein_of_interest + '_transcriptomics'),\n",
    "               rf.predict(x_test.sort_values(by=protein_of_interest + '_transcriptomics')), color = 'orange')\n",
    "axs[0, 1].title.set_text(\"Test set data, model\")\n",
    "\n",
    "fig.show()\n"
   ],
   "metadata": {
    "collapsed": false,
    "pycharm": {
     "name": "#%%\n"
    }
   }
  }
 ],
 "metadata": {
  "kernelspec": {
   "display_name": "Python 3",
   "language": "python",
   "name": "python3"
  },
  "language_info": {
   "codemirror_mode": {
    "name": "ipython",
    "version": 2
   },
   "file_extension": ".py",
   "mimetype": "text/x-python",
   "name": "python",
   "nbconvert_exporter": "python",
   "pygments_lexer": "ipython2",
   "version": "2.7.6"
  }
 },
 "nbformat": 4,
 "nbformat_minor": 0
}